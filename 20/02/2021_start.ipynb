{
  "nbformat": 4,
  "nbformat_minor": 0,
  "metadata": {
    "colab": {
      "name": "generation.ipynb",
      "provenance": [],
      "include_colab_link": true
    },
    "kernelspec": {
      "name": "python3",
      "display_name": "Python 3"
    }
  },
  "cells": [
    {
      "cell_type": "markdown",
      "metadata": {
        "id": "view-in-github",
        "colab_type": "text"
      },
      "source": [
        "<a href=\"https://colab.research.google.com/github/AlexAlexeyuk/Alexander.Alexeyuk/blob/master/20/02/2021_start.ipynb\" target=\"_parent\"><img src=\"https://colab.research.google.com/assets/colab-badge.svg\" alt=\"Open In Colab\"/></a>"
      ]
    },
    {
      "cell_type": "code",
      "metadata": {
        "colab": {
          "base_uri": "https://localhost:8080/"
        },
        "id": "tokP_QsTntw1",
        "outputId": "39c5711e-be8a-4b29-ce2a-a6ce6b37c90b"
      },
      "source": [
        "import pandas as pd\r\n",
        "import numpy as np\r\n",
        "!pip install sdv"
      ],
      "execution_count": 41,
      "outputs": [
        {
          "output_type": "stream",
          "text": [
            "Requirement already satisfied: sdv in /usr/local/lib/python3.6/dist-packages (0.7.0)\n",
            "Requirement already satisfied: copulas<0.5,>=0.4.0 in /usr/local/lib/python3.6/dist-packages (from sdv) (0.4.0)\n",
            "Requirement already satisfied: pandas<1.1.5,>=1.1 in /usr/local/lib/python3.6/dist-packages (from sdv) (1.1.4)\n",
            "Requirement already satisfied: graphviz<1,>=0.13.2 in /usr/local/lib/python3.6/dist-packages (from sdv) (0.16)\n",
            "Requirement already satisfied: sdmetrics<0.2.0,>=0.1.2 in /usr/local/lib/python3.6/dist-packages (from sdv) (0.1.3)\n",
            "Requirement already satisfied: rdt<0.4,>=0.2.10 in /usr/local/lib/python3.6/dist-packages (from sdv) (0.3.0)\n",
            "Requirement already satisfied: deepecho<0.2,>=0.1.4 in /usr/local/lib/python3.6/dist-packages (from sdv) (0.1.4)\n",
            "Requirement already satisfied: numpy<2,>=1.18.0 in /usr/local/lib/python3.6/dist-packages (from sdv) (1.19.5)\n",
            "Requirement already satisfied: scipy<1.6,>=1.1.0 in /usr/local/lib/python3.6/dist-packages (from sdv) (1.4.1)\n",
            "Requirement already satisfied: ctgan<0.4,>=0.3.1 in /usr/local/lib/python3.6/dist-packages (from sdv) (0.3.1)\n",
            "Requirement already satisfied: matplotlib<3.2.2,>=2.2.2 in /usr/local/lib/python3.6/dist-packages (from copulas<0.5,>=0.4.0->sdv) (3.2.1)\n",
            "Requirement already satisfied: pytz>=2017.2 in /usr/local/lib/python3.6/dist-packages (from pandas<1.1.5,>=1.1->sdv) (2018.9)\n",
            "Requirement already satisfied: python-dateutil>=2.7.3 in /usr/local/lib/python3.6/dist-packages (from pandas<1.1.5,>=1.1->sdv) (2.8.1)\n",
            "Requirement already satisfied: sktime<0.6,>=0.4 in /usr/local/lib/python3.6/dist-packages (from sdmetrics<0.2.0,>=0.1.2->sdv) (0.5.3)\n",
            "Requirement already satisfied: pomegranate<0.13.5,>=0.13.0 in /usr/local/lib/python3.6/dist-packages (from sdmetrics<0.2.0,>=0.1.2->sdv) (0.13.4)\n",
            "Requirement already satisfied: scikit-learn<1,>=0.20 in /usr/local/lib/python3.6/dist-packages (from sdmetrics<0.2.0,>=0.1.2->sdv) (0.22.2.post1)\n",
            "Requirement already satisfied: torch<2,>=1 in /usr/local/lib/python3.6/dist-packages (from sdmetrics<0.2.0,>=0.1.2->sdv) (1.7.0+cu101)\n",
            "Requirement already satisfied: Faker<4.15,>=1.0.1 in /usr/local/lib/python3.6/dist-packages (from rdt<0.4,>=0.2.10->sdv) (4.14.2)\n",
            "Requirement already satisfied: tqdm<5,>=4 in /usr/local/lib/python3.6/dist-packages (from deepecho<0.2,>=0.1.4->sdv) (4.41.1)\n",
            "Requirement already satisfied: torchvision<1,>=0.4.2 in /usr/local/lib/python3.6/dist-packages (from ctgan<0.4,>=0.3.1->sdv) (0.8.1+cu101)\n",
            "Requirement already satisfied: packaging in /usr/local/lib/python3.6/dist-packages (from ctgan<0.4,>=0.3.1->sdv) (20.9)\n",
            "Requirement already satisfied: cycler>=0.10 in /usr/local/lib/python3.6/dist-packages (from matplotlib<3.2.2,>=2.2.2->copulas<0.5,>=0.4.0->sdv) (0.10.0)\n",
            "Requirement already satisfied: pyparsing!=2.0.4,!=2.1.2,!=2.1.6,>=2.0.1 in /usr/local/lib/python3.6/dist-packages (from matplotlib<3.2.2,>=2.2.2->copulas<0.5,>=0.4.0->sdv) (2.4.7)\n",
            "Requirement already satisfied: kiwisolver>=1.0.1 in /usr/local/lib/python3.6/dist-packages (from matplotlib<3.2.2,>=2.2.2->copulas<0.5,>=0.4.0->sdv) (1.3.1)\n",
            "Requirement already satisfied: six>=1.5 in /usr/local/lib/python3.6/dist-packages (from python-dateutil>=2.7.3->pandas<1.1.5,>=1.1->sdv) (1.15.0)\n",
            "Requirement already satisfied: statsmodels>=0.12.1 in /usr/local/lib/python3.6/dist-packages (from sktime<0.6,>=0.4->sdmetrics<0.2.0,>=0.1.2->sdv) (0.12.2)\n",
            "Requirement already satisfied: wheel in /usr/local/lib/python3.6/dist-packages (from sktime<0.6,>=0.4->sdmetrics<0.2.0,>=0.1.2->sdv) (0.36.2)\n",
            "Requirement already satisfied: numba>=0.50 in /usr/local/lib/python3.6/dist-packages (from sktime<0.6,>=0.4->sdmetrics<0.2.0,>=0.1.2->sdv) (0.51.2)\n",
            "Requirement already satisfied: joblib>=0.9.0b4 in /usr/local/lib/python3.6/dist-packages (from pomegranate<0.13.5,>=0.13.0->sdmetrics<0.2.0,>=0.1.2->sdv) (1.0.0)\n",
            "Requirement already satisfied: pyyaml in /usr/local/lib/python3.6/dist-packages (from pomegranate<0.13.5,>=0.13.0->sdmetrics<0.2.0,>=0.1.2->sdv) (3.13)\n",
            "Requirement already satisfied: networkx>=2.0 in /usr/local/lib/python3.6/dist-packages (from pomegranate<0.13.5,>=0.13.0->sdmetrics<0.2.0,>=0.1.2->sdv) (2.5)\n",
            "Requirement already satisfied: dataclasses in /usr/local/lib/python3.6/dist-packages (from torch<2,>=1->sdmetrics<0.2.0,>=0.1.2->sdv) (0.8)\n",
            "Requirement already satisfied: typing-extensions in /usr/local/lib/python3.6/dist-packages (from torch<2,>=1->sdmetrics<0.2.0,>=0.1.2->sdv) (3.7.4.3)\n",
            "Requirement already satisfied: future in /usr/local/lib/python3.6/dist-packages (from torch<2,>=1->sdmetrics<0.2.0,>=0.1.2->sdv) (0.16.0)\n",
            "Requirement already satisfied: text-unidecode==1.3 in /usr/local/lib/python3.6/dist-packages (from Faker<4.15,>=1.0.1->rdt<0.4,>=0.2.10->sdv) (1.3)\n",
            "Requirement already satisfied: pillow>=4.1.1 in /usr/local/lib/python3.6/dist-packages (from torchvision<1,>=0.4.2->ctgan<0.4,>=0.3.1->sdv) (7.0.0)\n",
            "Requirement already satisfied: patsy>=0.5 in /usr/local/lib/python3.6/dist-packages (from statsmodels>=0.12.1->sktime<0.6,>=0.4->sdmetrics<0.2.0,>=0.1.2->sdv) (0.5.1)\n",
            "Requirement already satisfied: setuptools in /usr/local/lib/python3.6/dist-packages (from numba>=0.50->sktime<0.6,>=0.4->sdmetrics<0.2.0,>=0.1.2->sdv) (53.0.0)\n",
            "Requirement already satisfied: llvmlite<0.35,>=0.34.0.dev0 in /usr/local/lib/python3.6/dist-packages (from numba>=0.50->sktime<0.6,>=0.4->sdmetrics<0.2.0,>=0.1.2->sdv) (0.34.0)\n",
            "Requirement already satisfied: decorator>=4.3.0 in /usr/local/lib/python3.6/dist-packages (from networkx>=2.0->pomegranate<0.13.5,>=0.13.0->sdmetrics<0.2.0,>=0.1.2->sdv) (4.4.2)\n"
          ],
          "name": "stdout"
        }
      ]
    },
    {
      "cell_type": "code",
      "metadata": {
        "id": "vjOgNuyPn2CT"
      },
      "source": [
        "import matplotlib.pyplot as plt\r\n"
      ],
      "execution_count": 42,
      "outputs": []
    },
    {
      "cell_type": "code",
      "metadata": {
        "id": "LoA9jCTBoOp4"
      },
      "source": [
        "df  = pd.read_csv('/content/Covid_Data_Proc_2.csv')"
      ],
      "execution_count": 43,
      "outputs": []
    },
    {
      "cell_type": "code",
      "metadata": {
        "id": "ge8Y80-c03Ps",
        "colab": {
          "base_uri": "https://localhost:8080/"
        },
        "outputId": "b56f1b28-ff14-4782-a8fa-2b4e00a4f962"
      },
      "source": [
        "df.columns"
      ],
      "execution_count": 44,
      "outputs": [
        {
          "output_type": "execute_result",
          "data": {
            "text/plain": [
              "Index(['Unnamed: 0', 'ID', 'Max_Procalcitonine', 'Max_Platlets',\n",
              "       'Min_Platlets', 'Init_ESR', 'Max_ESR', 'Init_Fibrinogen',\n",
              "       'Max_Fibrinogen', 'Initial_LDH', 'Max_LDH', 'Max_Leucocytes',\n",
              "       'Min_Leucocytes', 'Hemoglobin', 'Max_Creatinine', 'Min_Cratinine',\n",
              "       'Gender', 'initial_CRP', 'Max_CRP', 'Treatment', 'Diagnosis',\n",
              "       'COVID-19', 'Pneumonia', 'Severity', 'IHD', 'COPD', 'Bronchial_asthma',\n",
              "       'Obesity', 'Diabetes', 'RF', 'ALT', 'AST', 'duration', 'Age',\n",
              "       'Max_Creatinine_mg_dl', 'GFR', 'L/Pl_Ratio'],\n",
              "      dtype='object')"
            ]
          },
          "metadata": {
            "tags": []
          },
          "execution_count": 44
        }
      ]
    },
    {
      "cell_type": "code",
      "metadata": {
        "id": "oyvZVUPM017Q"
      },
      "source": [
        "df = df.drop(['Unnamed: 0', 'ID','Hemoglobin',\r\n",
        "              'Diagnosis', 'Treatment', 'Min_Cratinine', \r\n",
        "              'COVID-19', 'Pneumonia'], axis = 1)"
      ],
      "execution_count": 45,
      "outputs": []
    },
    {
      "cell_type": "code",
      "metadata": {
        "id": "NJJZ5qIFn1ic"
      },
      "source": [
        "df[\"RF\"] = df[\"RF\"].astype('category')"
      ],
      "execution_count": 46,
      "outputs": []
    },
    {
      "cell_type": "code",
      "metadata": {
        "id": "lCr51YNljCoq"
      },
      "source": [
        "df['Gender'] = df['Gender'].map({'male':1, 'female': 0})"
      ],
      "execution_count": 47,
      "outputs": []
    },
    {
      "cell_type": "code",
      "metadata": {
        "id": "IZcdUWtdon2J"
      },
      "source": [
        "df = pd.get_dummies(df)"
      ],
      "execution_count": 48,
      "outputs": []
    },
    {
      "cell_type": "code",
      "metadata": {
        "id": "kb8j1uf21uO5",
        "colab": {
          "base_uri": "https://localhost:8080/",
          "height": 215
        },
        "outputId": "f7e717f5-bd93-4c07-c010-b393e8468953"
      },
      "source": [
        "df.head()"
      ],
      "execution_count": 49,
      "outputs": [
        {
          "output_type": "execute_result",
          "data": {
            "text/html": [
              "<div>\n",
              "<style scoped>\n",
              "    .dataframe tbody tr th:only-of-type {\n",
              "        vertical-align: middle;\n",
              "    }\n",
              "\n",
              "    .dataframe tbody tr th {\n",
              "        vertical-align: top;\n",
              "    }\n",
              "\n",
              "    .dataframe thead th {\n",
              "        text-align: right;\n",
              "    }\n",
              "</style>\n",
              "<table border=\"1\" class=\"dataframe\">\n",
              "  <thead>\n",
              "    <tr style=\"text-align: right;\">\n",
              "      <th></th>\n",
              "      <th>Max_Procalcitonine</th>\n",
              "      <th>Max_Platlets</th>\n",
              "      <th>Min_Platlets</th>\n",
              "      <th>Init_ESR</th>\n",
              "      <th>Max_ESR</th>\n",
              "      <th>Init_Fibrinogen</th>\n",
              "      <th>Max_Fibrinogen</th>\n",
              "      <th>Initial_LDH</th>\n",
              "      <th>Max_LDH</th>\n",
              "      <th>Max_Leucocytes</th>\n",
              "      <th>Min_Leucocytes</th>\n",
              "      <th>Max_Creatinine</th>\n",
              "      <th>Gender</th>\n",
              "      <th>initial_CRP</th>\n",
              "      <th>Max_CRP</th>\n",
              "      <th>Severity</th>\n",
              "      <th>IHD</th>\n",
              "      <th>COPD</th>\n",
              "      <th>Bronchial_asthma</th>\n",
              "      <th>Obesity</th>\n",
              "      <th>Diabetes</th>\n",
              "      <th>ALT</th>\n",
              "      <th>AST</th>\n",
              "      <th>duration</th>\n",
              "      <th>Age</th>\n",
              "      <th>Max_Creatinine_mg_dl</th>\n",
              "      <th>GFR</th>\n",
              "      <th>L/Pl_Ratio</th>\n",
              "      <th>RF_0.0</th>\n",
              "      <th>RF_1.0</th>\n",
              "      <th>RF_2.0</th>\n",
              "      <th>RF_3.0</th>\n",
              "    </tr>\n",
              "  </thead>\n",
              "  <tbody>\n",
              "    <tr>\n",
              "      <th>0</th>\n",
              "      <td>0.10</td>\n",
              "      <td>269.0</td>\n",
              "      <td>194.0</td>\n",
              "      <td>28.0</td>\n",
              "      <td>41.0</td>\n",
              "      <td>3.90</td>\n",
              "      <td>6.93</td>\n",
              "      <td>923.0</td>\n",
              "      <td>923.0</td>\n",
              "      <td>10.02</td>\n",
              "      <td>7.39</td>\n",
              "      <td>107.0</td>\n",
              "      <td>0</td>\n",
              "      <td>68.90</td>\n",
              "      <td>68.9</td>\n",
              "      <td>1</td>\n",
              "      <td>0</td>\n",
              "      <td>0</td>\n",
              "      <td>0</td>\n",
              "      <td>0</td>\n",
              "      <td>0</td>\n",
              "      <td>381.4</td>\n",
              "      <td>61.6</td>\n",
              "      <td>27</td>\n",
              "      <td>82</td>\n",
              "      <td>0.946903</td>\n",
              "      <td>77.622865</td>\n",
              "      <td>3.809278</td>\n",
              "      <td>1</td>\n",
              "      <td>0</td>\n",
              "      <td>0</td>\n",
              "      <td>0</td>\n",
              "    </tr>\n",
              "    <tr>\n",
              "      <th>1</th>\n",
              "      <td>0.05</td>\n",
              "      <td>282.0</td>\n",
              "      <td>260.0</td>\n",
              "      <td>55.0</td>\n",
              "      <td>55.0</td>\n",
              "      <td>5.50</td>\n",
              "      <td>6.04</td>\n",
              "      <td>0.0</td>\n",
              "      <td>0.0</td>\n",
              "      <td>6.14</td>\n",
              "      <td>2.64</td>\n",
              "      <td>78.0</td>\n",
              "      <td>0</td>\n",
              "      <td>30.00</td>\n",
              "      <td>36.0</td>\n",
              "      <td>0</td>\n",
              "      <td>0</td>\n",
              "      <td>0</td>\n",
              "      <td>0</td>\n",
              "      <td>0</td>\n",
              "      <td>0</td>\n",
              "      <td>56.0</td>\n",
              "      <td>96.0</td>\n",
              "      <td>51</td>\n",
              "      <td>34</td>\n",
              "      <td>0.690265</td>\n",
              "      <td>123.837333</td>\n",
              "      <td>1.015385</td>\n",
              "      <td>1</td>\n",
              "      <td>0</td>\n",
              "      <td>0</td>\n",
              "      <td>0</td>\n",
              "    </tr>\n",
              "    <tr>\n",
              "      <th>2</th>\n",
              "      <td>0.20</td>\n",
              "      <td>440.0</td>\n",
              "      <td>149.0</td>\n",
              "      <td>26.0</td>\n",
              "      <td>51.0</td>\n",
              "      <td>0.00</td>\n",
              "      <td>0.00</td>\n",
              "      <td>0.0</td>\n",
              "      <td>0.0</td>\n",
              "      <td>7.59</td>\n",
              "      <td>5.80</td>\n",
              "      <td>656.0</td>\n",
              "      <td>0</td>\n",
              "      <td>5.74</td>\n",
              "      <td>61.5</td>\n",
              "      <td>0</td>\n",
              "      <td>0</td>\n",
              "      <td>0</td>\n",
              "      <td>0</td>\n",
              "      <td>0</td>\n",
              "      <td>0</td>\n",
              "      <td>17.0</td>\n",
              "      <td>25.0</td>\n",
              "      <td>17</td>\n",
              "      <td>66</td>\n",
              "      <td>5.805310</td>\n",
              "      <td>41.222179</td>\n",
              "      <td>3.892617</td>\n",
              "      <td>0</td>\n",
              "      <td>1</td>\n",
              "      <td>0</td>\n",
              "      <td>0</td>\n",
              "    </tr>\n",
              "    <tr>\n",
              "      <th>3</th>\n",
              "      <td>0.23</td>\n",
              "      <td>228.0</td>\n",
              "      <td>180.0</td>\n",
              "      <td>45.0</td>\n",
              "      <td>45.0</td>\n",
              "      <td>7.64</td>\n",
              "      <td>7.64</td>\n",
              "      <td>481.0</td>\n",
              "      <td>504.0</td>\n",
              "      <td>10.65</td>\n",
              "      <td>4.11</td>\n",
              "      <td>59.0</td>\n",
              "      <td>0</td>\n",
              "      <td>113.50</td>\n",
              "      <td>124.2</td>\n",
              "      <td>0</td>\n",
              "      <td>1</td>\n",
              "      <td>0</td>\n",
              "      <td>0</td>\n",
              "      <td>0</td>\n",
              "      <td>0</td>\n",
              "      <td>21.0</td>\n",
              "      <td>16.0</td>\n",
              "      <td>23</td>\n",
              "      <td>72</td>\n",
              "      <td>0.522124</td>\n",
              "      <td>106.353978</td>\n",
              "      <td>2.283333</td>\n",
              "      <td>1</td>\n",
              "      <td>0</td>\n",
              "      <td>0</td>\n",
              "      <td>0</td>\n",
              "    </tr>\n",
              "    <tr>\n",
              "      <th>4</th>\n",
              "      <td>0.07</td>\n",
              "      <td>236.0</td>\n",
              "      <td>113.0</td>\n",
              "      <td>26.0</td>\n",
              "      <td>35.0</td>\n",
              "      <td>1.20</td>\n",
              "      <td>5.98</td>\n",
              "      <td>533.0</td>\n",
              "      <td>533.0</td>\n",
              "      <td>13.88</td>\n",
              "      <td>4.94</td>\n",
              "      <td>107.0</td>\n",
              "      <td>1</td>\n",
              "      <td>36.10</td>\n",
              "      <td>171.6</td>\n",
              "      <td>1</td>\n",
              "      <td>1</td>\n",
              "      <td>0</td>\n",
              "      <td>0</td>\n",
              "      <td>0</td>\n",
              "      <td>0</td>\n",
              "      <td>0.0</td>\n",
              "      <td>0.0</td>\n",
              "      <td>30</td>\n",
              "      <td>68</td>\n",
              "      <td>0.946903</td>\n",
              "      <td>85.644640</td>\n",
              "      <td>4.371681</td>\n",
              "      <td>0</td>\n",
              "      <td>0</td>\n",
              "      <td>1</td>\n",
              "      <td>0</td>\n",
              "    </tr>\n",
              "  </tbody>\n",
              "</table>\n",
              "</div>"
            ],
            "text/plain": [
              "   Max_Procalcitonine  Max_Platlets  Min_Platlets  ...  RF_1.0  RF_2.0  RF_3.0\n",
              "0                0.10         269.0         194.0  ...       0       0       0\n",
              "1                0.05         282.0         260.0  ...       0       0       0\n",
              "2                0.20         440.0         149.0  ...       1       0       0\n",
              "3                0.23         228.0         180.0  ...       0       0       0\n",
              "4                0.07         236.0         113.0  ...       0       1       0\n",
              "\n",
              "[5 rows x 32 columns]"
            ]
          },
          "metadata": {
            "tags": []
          },
          "execution_count": 49
        }
      ]
    },
    {
      "cell_type": "code",
      "metadata": {
        "id": "2s_9SMlY29_t"
      },
      "source": [
        "df[['RF_0.0',\t'RF_1.0',\t'RF_2.0',\t'RF_3.0']]= df[['RF_0.0',\t'RF_1.0',\t'RF_2.0',\t'RF_3.0']].astype('int')"
      ],
      "execution_count": 50,
      "outputs": []
    },
    {
      "cell_type": "code",
      "metadata": {
        "colab": {
          "base_uri": "https://localhost:8080/",
          "height": 337
        },
        "id": "TU6nTpCOpg5I",
        "outputId": "5763843a-d105-4f3d-ad34-f004bbf7aa88"
      },
      "source": [
        "from sdv.tabular import GaussianCopula\r\n",
        "model = GaussianCopula()\r\n",
        "\r\n"
      ],
      "execution_count": 52,
      "outputs": [
        {
          "output_type": "error",
          "ename": "NameError",
          "evalue": "ignored",
          "traceback": [
            "\u001b[0;31m---------------------------------------------------------------------------\u001b[0m",
            "\u001b[0;31mNameError\u001b[0m                                 Traceback (most recent call last)",
            "\u001b[0;32m<ipython-input-52-2878e479846f>\u001b[0m in \u001b[0;36m<module>\u001b[0;34m()\u001b[0m\n\u001b[0;32m----> 1\u001b[0;31m \u001b[0;32mfrom\u001b[0m \u001b[0msdv\u001b[0m\u001b[0;34m.\u001b[0m\u001b[0mtabular\u001b[0m \u001b[0;32mimport\u001b[0m \u001b[0mGaussianCopula\u001b[0m\u001b[0;34m\u001b[0m\u001b[0;34m\u001b[0m\u001b[0m\n\u001b[0m\u001b[1;32m      2\u001b[0m \u001b[0mmodel\u001b[0m \u001b[0;34m=\u001b[0m \u001b[0mGaussianCopula\u001b[0m\u001b[0;34m(\u001b[0m\u001b[0;34m)\u001b[0m\u001b[0;34m\u001b[0m\u001b[0;34m\u001b[0m\u001b[0m\n\u001b[1;32m      3\u001b[0m \u001b[0;34m\u001b[0m\u001b[0m\n",
            "\u001b[0;32m/usr/local/lib/python3.6/dist-packages/sdv/__init__.py\u001b[0m in \u001b[0;36m<module>\u001b[0;34m()\u001b[0m\n\u001b[1;32m      9\u001b[0m \u001b[0m__version__\u001b[0m \u001b[0;34m=\u001b[0m \u001b[0;34m'0.7.0'\u001b[0m\u001b[0;34m\u001b[0m\u001b[0;34m\u001b[0m\u001b[0m\n\u001b[1;32m     10\u001b[0m \u001b[0;34m\u001b[0m\u001b[0m\n\u001b[0;32m---> 11\u001b[0;31m \u001b[0;32mfrom\u001b[0m \u001b[0msdv\u001b[0m \u001b[0;32mimport\u001b[0m \u001b[0mconstraints\u001b[0m\u001b[0;34m,\u001b[0m \u001b[0mevaluation\u001b[0m\u001b[0;34m,\u001b[0m \u001b[0mmetadata\u001b[0m\u001b[0;34m,\u001b[0m \u001b[0mrelational\u001b[0m\u001b[0;34m,\u001b[0m \u001b[0mtabular\u001b[0m\u001b[0;34m\u001b[0m\u001b[0;34m\u001b[0m\u001b[0m\n\u001b[0m\u001b[1;32m     12\u001b[0m \u001b[0;32mfrom\u001b[0m \u001b[0msdv\u001b[0m\u001b[0;34m.\u001b[0m\u001b[0mdemo\u001b[0m \u001b[0;32mimport\u001b[0m \u001b[0mget_available_demos\u001b[0m\u001b[0;34m,\u001b[0m \u001b[0mload_demo\u001b[0m\u001b[0;34m\u001b[0m\u001b[0;34m\u001b[0m\u001b[0m\n\u001b[1;32m     13\u001b[0m \u001b[0;32mfrom\u001b[0m \u001b[0msdv\u001b[0m\u001b[0;34m.\u001b[0m\u001b[0mmetadata\u001b[0m \u001b[0;32mimport\u001b[0m \u001b[0mMetadata\u001b[0m\u001b[0;34m,\u001b[0m \u001b[0mTable\u001b[0m\u001b[0;34m\u001b[0m\u001b[0;34m\u001b[0m\u001b[0m\n",
            "\u001b[0;32m/usr/local/lib/python3.6/dist-packages/sdv/evaluation.py\u001b[0m in \u001b[0;36m<module>\u001b[0;34m()\u001b[0m\n\u001b[1;32m      2\u001b[0m \u001b[0;34m\u001b[0m\u001b[0m\n\u001b[1;32m      3\u001b[0m \u001b[0;32mimport\u001b[0m \u001b[0mpandas\u001b[0m \u001b[0;32mas\u001b[0m \u001b[0mpd\u001b[0m\u001b[0;34m\u001b[0m\u001b[0;34m\u001b[0m\u001b[0m\n\u001b[0;32m----> 4\u001b[0;31m \u001b[0;32mimport\u001b[0m \u001b[0msdmetrics\u001b[0m\u001b[0;34m\u001b[0m\u001b[0;34m\u001b[0m\u001b[0m\n\u001b[0m\u001b[1;32m      5\u001b[0m \u001b[0;34m\u001b[0m\u001b[0m\n\u001b[1;32m      6\u001b[0m \u001b[0;32mfrom\u001b[0m \u001b[0msdv\u001b[0m\u001b[0;34m.\u001b[0m\u001b[0mmetadata\u001b[0m\u001b[0;34m.\u001b[0m\u001b[0mdataset\u001b[0m \u001b[0;32mimport\u001b[0m \u001b[0mMetadata\u001b[0m\u001b[0;34m\u001b[0m\u001b[0;34m\u001b[0m\u001b[0m\n",
            "\u001b[0;32m/usr/local/lib/python3.6/dist-packages/sdmetrics/__init__.py\u001b[0m in \u001b[0;36m<module>\u001b[0;34m()\u001b[0m\n\u001b[1;32m      9\u001b[0m \u001b[0;32mimport\u001b[0m \u001b[0mpandas\u001b[0m \u001b[0;32mas\u001b[0m \u001b[0mpd\u001b[0m\u001b[0;34m\u001b[0m\u001b[0;34m\u001b[0m\u001b[0m\n\u001b[1;32m     10\u001b[0m \u001b[0;34m\u001b[0m\u001b[0m\n\u001b[0;32m---> 11\u001b[0;31m from sdmetrics import (\n\u001b[0m\u001b[1;32m     12\u001b[0m     column_pairs, demos, goal, multi_table, single_column, single_table, timeseries)\n\u001b[1;32m     13\u001b[0m \u001b[0;32mfrom\u001b[0m \u001b[0msdmetrics\u001b[0m\u001b[0;34m.\u001b[0m\u001b[0mdemos\u001b[0m \u001b[0;32mimport\u001b[0m \u001b[0mload_demo\u001b[0m\u001b[0;34m\u001b[0m\u001b[0;34m\u001b[0m\u001b[0m\n",
            "\u001b[0;32m/usr/local/lib/python3.6/dist-packages/sdmetrics/timeseries/__init__.py\u001b[0m in \u001b[0;36m<module>\u001b[0;34m()\u001b[0m\n\u001b[1;32m      1\u001b[0m \u001b[0;34m\"\"\"Metrics for timeseries datasets.\"\"\"\u001b[0m\u001b[0;34m\u001b[0m\u001b[0;34m\u001b[0m\u001b[0m\n\u001b[1;32m      2\u001b[0m \u001b[0;34m\u001b[0m\u001b[0m\n\u001b[0;32m----> 3\u001b[0;31m \u001b[0;32mfrom\u001b[0m \u001b[0msdmetrics\u001b[0m\u001b[0;34m.\u001b[0m\u001b[0mtimeseries\u001b[0m \u001b[0;32mimport\u001b[0m \u001b[0mbase\u001b[0m\u001b[0;34m,\u001b[0m \u001b[0mdetection\u001b[0m\u001b[0;34m,\u001b[0m \u001b[0mefficacy\u001b[0m\u001b[0;34m,\u001b[0m \u001b[0mml_scorers\u001b[0m\u001b[0;34m\u001b[0m\u001b[0;34m\u001b[0m\u001b[0m\n\u001b[0m\u001b[1;32m      4\u001b[0m \u001b[0;32mfrom\u001b[0m \u001b[0msdmetrics\u001b[0m\u001b[0;34m.\u001b[0m\u001b[0mtimeseries\u001b[0m\u001b[0;34m.\u001b[0m\u001b[0mbase\u001b[0m \u001b[0;32mimport\u001b[0m \u001b[0mTimeSeriesMetric\u001b[0m\u001b[0;34m\u001b[0m\u001b[0;34m\u001b[0m\u001b[0m\n\u001b[1;32m      5\u001b[0m \u001b[0;32mfrom\u001b[0m \u001b[0msdmetrics\u001b[0m\u001b[0;34m.\u001b[0m\u001b[0mtimeseries\u001b[0m\u001b[0;34m.\u001b[0m\u001b[0mdetection\u001b[0m \u001b[0;32mimport\u001b[0m \u001b[0mLSTMDetection\u001b[0m\u001b[0;34m,\u001b[0m \u001b[0mTimeSeriesDetectionMetric\u001b[0m\u001b[0;34m,\u001b[0m \u001b[0mTSFCDetection\u001b[0m\u001b[0;34m\u001b[0m\u001b[0;34m\u001b[0m\u001b[0m\n",
            "\u001b[0;32m/usr/local/lib/python3.6/dist-packages/sdmetrics/timeseries/detection.py\u001b[0m in \u001b[0;36m<module>\u001b[0;34m()\u001b[0m\n\u001b[1;32m      7\u001b[0m \u001b[0;34m\u001b[0m\u001b[0m\n\u001b[1;32m      8\u001b[0m \u001b[0;32mfrom\u001b[0m \u001b[0msdmetrics\u001b[0m\u001b[0;34m.\u001b[0m\u001b[0mgoal\u001b[0m \u001b[0;32mimport\u001b[0m \u001b[0mGoal\u001b[0m\u001b[0;34m\u001b[0m\u001b[0;34m\u001b[0m\u001b[0m\n\u001b[0;32m----> 9\u001b[0;31m \u001b[0;32mfrom\u001b[0m \u001b[0msdmetrics\u001b[0m\u001b[0;34m.\u001b[0m\u001b[0mtimeseries\u001b[0m \u001b[0;32mimport\u001b[0m \u001b[0mml_scorers\u001b[0m\u001b[0;34m\u001b[0m\u001b[0;34m\u001b[0m\u001b[0m\n\u001b[0m\u001b[1;32m     10\u001b[0m \u001b[0;32mfrom\u001b[0m \u001b[0msdmetrics\u001b[0m\u001b[0;34m.\u001b[0m\u001b[0mtimeseries\u001b[0m\u001b[0;34m.\u001b[0m\u001b[0mbase\u001b[0m \u001b[0;32mimport\u001b[0m \u001b[0mTimeSeriesMetric\u001b[0m\u001b[0;34m\u001b[0m\u001b[0;34m\u001b[0m\u001b[0m\n\u001b[1;32m     11\u001b[0m \u001b[0;34m\u001b[0m\u001b[0m\n",
            "\u001b[0;32m/usr/local/lib/python3.6/dist-packages/sdmetrics/timeseries/ml_scorers.py\u001b[0m in \u001b[0;36m<module>\u001b[0;34m()\u001b[0m\n\u001b[1;32m      2\u001b[0m \u001b[0;34m\u001b[0m\u001b[0m\n\u001b[1;32m      3\u001b[0m \u001b[0;32mimport\u001b[0m \u001b[0mrdt\u001b[0m\u001b[0;34m\u001b[0m\u001b[0;34m\u001b[0m\u001b[0m\n\u001b[0;32m----> 4\u001b[0;31m \u001b[0;32mimport\u001b[0m \u001b[0mtorch\u001b[0m\u001b[0;34m\u001b[0m\u001b[0;34m\u001b[0m\u001b[0m\n\u001b[0m\u001b[1;32m      5\u001b[0m \u001b[0;32mfrom\u001b[0m \u001b[0msklearn\u001b[0m\u001b[0;34m.\u001b[0m\u001b[0mpipeline\u001b[0m \u001b[0;32mimport\u001b[0m \u001b[0mPipeline\u001b[0m\u001b[0;34m\u001b[0m\u001b[0;34m\u001b[0m\u001b[0m\n\u001b[1;32m      6\u001b[0m \u001b[0;32mfrom\u001b[0m \u001b[0msktime\u001b[0m\u001b[0;34m.\u001b[0m\u001b[0mclassification\u001b[0m\u001b[0;34m.\u001b[0m\u001b[0mcompose\u001b[0m \u001b[0;32mimport\u001b[0m \u001b[0mTimeSeriesForestClassifier\u001b[0m\u001b[0;34m\u001b[0m\u001b[0;34m\u001b[0m\u001b[0m\n",
            "\u001b[0;32m/usr/local/lib/python3.6/dist-packages/torch/__init__.py\u001b[0m in \u001b[0;36m<module>\u001b[0;34m()\u001b[0m\n\u001b[1;32m    220\u001b[0m \u001b[0;34m\u001b[0m\u001b[0m\n\u001b[1;32m    221\u001b[0m \u001b[0;34m\u001b[0m\u001b[0m\n\u001b[0;32m--> 222\u001b[0;31m __all__ += [name for name in dir(_C)\n\u001b[0m\u001b[1;32m    223\u001b[0m             \u001b[0;32mif\u001b[0m \u001b[0mname\u001b[0m\u001b[0;34m[\u001b[0m\u001b[0;36m0\u001b[0m\u001b[0;34m]\u001b[0m \u001b[0;34m!=\u001b[0m \u001b[0;34m'_'\u001b[0m \u001b[0;32mand\u001b[0m\u001b[0;34m\u001b[0m\u001b[0;34m\u001b[0m\u001b[0m\n\u001b[1;32m    224\u001b[0m             not name.endswith('Base')]\n",
            "\u001b[0;31mNameError\u001b[0m: name '_C' is not defined"
          ]
        }
      ]
    },
    {
      "cell_type": "code",
      "metadata": {
        "id": "pV9h6XRJ9a6-",
        "colab": {
          "base_uri": "https://localhost:8080/",
          "height": 317
        },
        "outputId": "0ace7572-aece-40aa-ce29-c9a5d854433a"
      },
      "source": [
        "new_data_1 = model.sample(20000)\r\n",
        "new_data_1.describe()"
      ],
      "execution_count": null,
      "outputs": [
        {
          "output_type": "execute_result",
          "data": {
            "text/html": [
              "<div>\n",
              "<style scoped>\n",
              "    .dataframe tbody tr th:only-of-type {\n",
              "        vertical-align: middle;\n",
              "    }\n",
              "\n",
              "    .dataframe tbody tr th {\n",
              "        vertical-align: top;\n",
              "    }\n",
              "\n",
              "    .dataframe thead th {\n",
              "        text-align: right;\n",
              "    }\n",
              "</style>\n",
              "<table border=\"1\" class=\"dataframe\">\n",
              "  <thead>\n",
              "    <tr style=\"text-align: right;\">\n",
              "      <th></th>\n",
              "      <th>Max_Platlets</th>\n",
              "      <th>Min_Platlets</th>\n",
              "      <th>Max_Leucocytes</th>\n",
              "      <th>Min_Leucocytes</th>\n",
              "      <th>Max_Creatinine</th>\n",
              "      <th>initial_CRP</th>\n",
              "      <th>Max_CRP</th>\n",
              "      <th>Severity</th>\n",
              "      <th>IHD</th>\n",
              "      <th>COPD</th>\n",
              "      <th>Bronchial_asthma</th>\n",
              "      <th>Obesity</th>\n",
              "      <th>Diabetes</th>\n",
              "      <th>ALT</th>\n",
              "      <th>AST</th>\n",
              "      <th>Max_Procalcitonine</th>\n",
              "      <th>duration</th>\n",
              "      <th>Age</th>\n",
              "      <th>Gender_female</th>\n",
              "      <th>Gender_male</th>\n",
              "      <th>RF_0.0</th>\n",
              "      <th>RF_1.0</th>\n",
              "      <th>RF_2.0</th>\n",
              "      <th>RF_3.0</th>\n",
              "    </tr>\n",
              "  </thead>\n",
              "  <tbody>\n",
              "    <tr>\n",
              "      <th>count</th>\n",
              "      <td>20000.000000</td>\n",
              "      <td>20000.000000</td>\n",
              "      <td>20000.000000</td>\n",
              "      <td>20000.000000</td>\n",
              "      <td>20000.000000</td>\n",
              "      <td>2.000000e+04</td>\n",
              "      <td>2.000000e+04</td>\n",
              "      <td>20000.000000</td>\n",
              "      <td>20000.000000</td>\n",
              "      <td>20000.0</td>\n",
              "      <td>20000.0</td>\n",
              "      <td>20000.0</td>\n",
              "      <td>20000.0</td>\n",
              "      <td>20000.000000</td>\n",
              "      <td>20000.000000</td>\n",
              "      <td>20000.000000</td>\n",
              "      <td>20000.000000</td>\n",
              "      <td>20000.000000</td>\n",
              "      <td>20000.000000</td>\n",
              "      <td>20000.000000</td>\n",
              "      <td>20000.00000</td>\n",
              "      <td>20000.0</td>\n",
              "      <td>20000.000000</td>\n",
              "      <td>20000.000000</td>\n",
              "    </tr>\n",
              "    <tr>\n",
              "      <th>mean</th>\n",
              "      <td>313.594033</td>\n",
              "      <td>313.593864</td>\n",
              "      <td>11.677963</td>\n",
              "      <td>11.678040</td>\n",
              "      <td>113.080722</td>\n",
              "      <td>6.745308e+01</td>\n",
              "      <td>9.058356e+01</td>\n",
              "      <td>0.516400</td>\n",
              "      <td>0.436000</td>\n",
              "      <td>0.0</td>\n",
              "      <td>0.0</td>\n",
              "      <td>0.0</td>\n",
              "      <td>0.0</td>\n",
              "      <td>60.083629</td>\n",
              "      <td>36.321910</td>\n",
              "      <td>0.148826</td>\n",
              "      <td>20.780400</td>\n",
              "      <td>60.171350</td>\n",
              "      <td>0.395600</td>\n",
              "      <td>0.600250</td>\n",
              "      <td>0.27805</td>\n",
              "      <td>0.0</td>\n",
              "      <td>0.393800</td>\n",
              "      <td>0.007900</td>\n",
              "    </tr>\n",
              "    <tr>\n",
              "      <th>std</th>\n",
              "      <td>115.303673</td>\n",
              "      <td>115.303187</td>\n",
              "      <td>16.690243</td>\n",
              "      <td>16.692846</td>\n",
              "      <td>2160.718754</td>\n",
              "      <td>7.267490e+01</td>\n",
              "      <td>8.485639e+01</td>\n",
              "      <td>0.585703</td>\n",
              "      <td>0.580621</td>\n",
              "      <td>0.0</td>\n",
              "      <td>0.0</td>\n",
              "      <td>0.0</td>\n",
              "      <td>0.0</td>\n",
              "      <td>214.596762</td>\n",
              "      <td>43.484781</td>\n",
              "      <td>0.122969</td>\n",
              "      <td>10.672922</td>\n",
              "      <td>13.472738</td>\n",
              "      <td>0.577856</td>\n",
              "      <td>0.585378</td>\n",
              "      <td>0.54328</td>\n",
              "      <td>0.0</td>\n",
              "      <td>0.574576</td>\n",
              "      <td>0.118905</td>\n",
              "    </tr>\n",
              "    <tr>\n",
              "      <th>min</th>\n",
              "      <td>-112.021284</td>\n",
              "      <td>-111.972022</td>\n",
              "      <td>-380.845212</td>\n",
              "      <td>-380.862482</td>\n",
              "      <td>-27589.727002</td>\n",
              "      <td>1.573626e-12</td>\n",
              "      <td>2.855681e-11</td>\n",
              "      <td>-1.000000</td>\n",
              "      <td>-2.000000</td>\n",
              "      <td>0.0</td>\n",
              "      <td>0.0</td>\n",
              "      <td>0.0</td>\n",
              "      <td>0.0</td>\n",
              "      <td>-13857.021814</td>\n",
              "      <td>-908.968149</td>\n",
              "      <td>0.050000</td>\n",
              "      <td>8.000000</td>\n",
              "      <td>4.000000</td>\n",
              "      <td>-2.000000</td>\n",
              "      <td>-1.000000</td>\n",
              "      <td>-2.00000</td>\n",
              "      <td>0.0</td>\n",
              "      <td>-1.000000</td>\n",
              "      <td>-1.000000</td>\n",
              "    </tr>\n",
              "    <tr>\n",
              "      <th>25%</th>\n",
              "      <td>234.883117</td>\n",
              "      <td>234.835704</td>\n",
              "      <td>8.399093</td>\n",
              "      <td>8.399645</td>\n",
              "      <td>83.279306</td>\n",
              "      <td>4.853736e+00</td>\n",
              "      <td>1.207962e+01</td>\n",
              "      <td>0.000000</td>\n",
              "      <td>0.000000</td>\n",
              "      <td>0.0</td>\n",
              "      <td>0.0</td>\n",
              "      <td>0.0</td>\n",
              "      <td>0.0</td>\n",
              "      <td>34.333933</td>\n",
              "      <td>21.204848</td>\n",
              "      <td>0.065960</td>\n",
              "      <td>13.000000</td>\n",
              "      <td>51.000000</td>\n",
              "      <td>0.000000</td>\n",
              "      <td>0.000000</td>\n",
              "      <td>0.00000</td>\n",
              "      <td>0.0</td>\n",
              "      <td>0.000000</td>\n",
              "      <td>0.000000</td>\n",
              "    </tr>\n",
              "    <tr>\n",
              "      <th>50%</th>\n",
              "      <td>312.345754</td>\n",
              "      <td>312.358983</td>\n",
              "      <td>11.446191</td>\n",
              "      <td>11.447546</td>\n",
              "      <td>99.368198</td>\n",
              "      <td>3.681526e+01</td>\n",
              "      <td>6.473486e+01</td>\n",
              "      <td>1.000000</td>\n",
              "      <td>0.000000</td>\n",
              "      <td>0.0</td>\n",
              "      <td>0.0</td>\n",
              "      <td>0.0</td>\n",
              "      <td>0.0</td>\n",
              "      <td>59.194005</td>\n",
              "      <td>36.020653</td>\n",
              "      <td>0.105025</td>\n",
              "      <td>18.000000</td>\n",
              "      <td>60.000000</td>\n",
              "      <td>0.000000</td>\n",
              "      <td>1.000000</td>\n",
              "      <td>0.00000</td>\n",
              "      <td>0.0</td>\n",
              "      <td>0.000000</td>\n",
              "      <td>0.000000</td>\n",
              "    </tr>\n",
              "    <tr>\n",
              "      <th>75%</th>\n",
              "      <td>391.515637</td>\n",
              "      <td>391.531805</td>\n",
              "      <td>14.507901</td>\n",
              "      <td>14.507666</td>\n",
              "      <td>114.952917</td>\n",
              "      <td>1.175074e+02</td>\n",
              "      <td>1.599796e+02</td>\n",
              "      <td>1.000000</td>\n",
              "      <td>1.000000</td>\n",
              "      <td>0.0</td>\n",
              "      <td>0.0</td>\n",
              "      <td>0.0</td>\n",
              "      <td>0.0</td>\n",
              "      <td>83.969603</td>\n",
              "      <td>50.676130</td>\n",
              "      <td>0.186582</td>\n",
              "      <td>26.000000</td>\n",
              "      <td>69.000000</td>\n",
              "      <td>1.000000</td>\n",
              "      <td>1.000000</td>\n",
              "      <td>1.00000</td>\n",
              "      <td>0.0</td>\n",
              "      <td>1.000000</td>\n",
              "      <td>0.000000</td>\n",
              "    </tr>\n",
              "    <tr>\n",
              "      <th>max</th>\n",
              "      <td>792.689067</td>\n",
              "      <td>792.655241</td>\n",
              "      <td>1285.135439</td>\n",
              "      <td>1285.954635</td>\n",
              "      <td>302808.028896</td>\n",
              "      <td>2.376984e+02</td>\n",
              "      <td>2.646907e+02</td>\n",
              "      <td>3.000000</td>\n",
              "      <td>2.000000</td>\n",
              "      <td>0.0</td>\n",
              "      <td>0.0</td>\n",
              "      <td>0.0</td>\n",
              "      <td>0.0</td>\n",
              "      <td>13105.391393</td>\n",
              "      <td>1099.373938</td>\n",
              "      <td>1.908543</td>\n",
              "      <td>113.000000</td>\n",
              "      <td>109.000000</td>\n",
              "      <td>2.000000</td>\n",
              "      <td>3.000000</td>\n",
              "      <td>2.00000</td>\n",
              "      <td>0.0</td>\n",
              "      <td>2.000000</td>\n",
              "      <td>1.000000</td>\n",
              "    </tr>\n",
              "  </tbody>\n",
              "</table>\n",
              "</div>"
            ],
            "text/plain": [
              "       Max_Platlets  Min_Platlets  ...        RF_2.0        RF_3.0\n",
              "count  20000.000000  20000.000000  ...  20000.000000  20000.000000\n",
              "mean     313.594033    313.593864  ...      0.393800      0.007900\n",
              "std      115.303673    115.303187  ...      0.574576      0.118905\n",
              "min     -112.021284   -111.972022  ...     -1.000000     -1.000000\n",
              "25%      234.883117    234.835704  ...      0.000000      0.000000\n",
              "50%      312.345754    312.358983  ...      0.000000      0.000000\n",
              "75%      391.515637    391.531805  ...      1.000000      0.000000\n",
              "max      792.689067    792.655241  ...      2.000000      1.000000\n",
              "\n",
              "[8 rows x 24 columns]"
            ]
          },
          "metadata": {
            "tags": []
          },
          "execution_count": 57
        }
      ]
    },
    {
      "cell_type": "code",
      "metadata": {
        "id": "yPAM0xzmA1dg",
        "colab": {
          "base_uri": "https://localhost:8080/"
        },
        "outputId": "6ae87fca-eb12-46f4-b07a-0e2b8bc0b7d8"
      },
      "source": [
        "new_data_1['Obesity'].value_counts()"
      ],
      "execution_count": null,
      "outputs": [
        {
          "output_type": "execute_result",
          "data": {
            "text/plain": [
              "0    20000\n",
              "Name: Obesity, dtype: int64"
            ]
          },
          "metadata": {
            "tags": []
          },
          "execution_count": 55
        }
      ]
    },
    {
      "cell_type": "code",
      "metadata": {
        "id": "MmrjjYhd90Fg"
      },
      "source": [
        "new_data_1 = new_data_1[(new_data_1['Max_Platlets'] > 25 )\r\n",
        "                        & (new_data_1['Min_Platlets'] > 25)\r\n",
        "                        & (new_data_1['Min_Leucocytes']  >.9)\r\n",
        "                        & (new_data_1['Min_Leucocytes']  <30)\r\n",
        "                        & (new_data_1['Max_Leucocytes']  >.4)\r\n",
        "                        & (new_data_1['Max_Leucocytes']  < 40)\r\n",
        "                        & (new_data_1['Max_Creatinine']  > 60)\r\n",
        "                        & (new_data_1['Max_Creatinine']  < 800)\r\n",
        "                         & (new_data_1['initial_CRP']  > 6)\r\n",
        "                         & (new_data_1['initial_CRP']  < 255)\r\n",
        "                         & (new_data_1['Max_CRP']  > 30)\r\n",
        "                         & (new_data_1['Max_CRP']  < 300)\r\n",
        "                         & (new_data_1['Age']  > 20)\r\n",
        "                         & (new_data_1['Age']  < 90)\r\n",
        "                         & (new_data_1['IHD']  <=1)\r\n",
        "                         & (new_data_1['IHD']  >= 0)\r\n",
        "                         & (new_data_1['IHD']  <=1)\r\n",
        "                         & (new_data_1['IHD']  >= 0)\r\n",
        "                         & (new_data_1['COPD']  <=1)\r\n",
        "                         & (new_data_1['COPD']  >= 0)\r\n",
        "                         & (new_data_1['Diabetes']  <=1)\r\n",
        "                         & (new_data_1['Diabetes']  >= 0)\r\n",
        "                         & (new_data_1['Obesity']  < =1)\r\n",
        "                         & (new_data_1['Obesity']  >= 0)\r\n",
        "                         & (new_data_1['Bronchial_asthma']  <=1)\r\n",
        "                         & (new_data_1['Bronchial_asthma']  >= 0)\r\n",
        "                         & (new_data_1['Max_Procalcitonine']  > 0.07)\r\n",
        "                         & (new_data_1['Max_Procalcitonine']  < 2.4)\r\n",
        "                         & (new_data_1['duration']  > 4)\r\n",
        "                         & (new_data_1['duration']  < 32)\r\n",
        "                         & (new_data_1['RF_0.0']   >=0)\r\n",
        "                          & (new_data_1['RF_1.0']   >=0)\r\n",
        "                          & (new_data_1['RF_2.0']   >=0)\r\n",
        "                          & (new_data_1['RF_3.0']   >=0)\r\n",
        "                          & (new_data_1['RF_0.0']  <=1)\r\n",
        "                          & (new_data_1['RF_1.0']   <=1)\r\n",
        "                          & (new_data_1['RF_2.0']   <=1)\r\n",
        "                          & (new_data_1['RF_3.0']   <=1)\r\n",
        "                          & (new_data_1['Gender_female']   >=0)\r\n",
        "                          & (new_data_1['Gender_male']   >=0)\r\n",
        "                          & (new_data_1['Gender_female']  <=1)\r\n",
        "                          & (new_data_1['Gender_male']   <=1)\r\n",
        "                          & (new_data_1['Severity']   <=1)\r\n",
        "                          & (new_data_1['Severity']   >=0)]"
      ],
      "execution_count": null,
      "outputs": []
    },
    {
      "cell_type": "code",
      "metadata": {
        "id": "MDnsWnH8_m9i",
        "colab": {
          "base_uri": "https://localhost:8080/",
          "height": 317
        },
        "outputId": "c2b15bc0-f96a-4904-c0a6-9535374a6c55"
      },
      "source": [
        "new_data_1.describe()"
      ],
      "execution_count": null,
      "outputs": [
        {
          "output_type": "execute_result",
          "data": {
            "text/html": [
              "<div>\n",
              "<style scoped>\n",
              "    .dataframe tbody tr th:only-of-type {\n",
              "        vertical-align: middle;\n",
              "    }\n",
              "\n",
              "    .dataframe tbody tr th {\n",
              "        vertical-align: top;\n",
              "    }\n",
              "\n",
              "    .dataframe thead th {\n",
              "        text-align: right;\n",
              "    }\n",
              "</style>\n",
              "<table border=\"1\" class=\"dataframe\">\n",
              "  <thead>\n",
              "    <tr style=\"text-align: right;\">\n",
              "      <th></th>\n",
              "      <th>Max_Platlets</th>\n",
              "      <th>Min_Platlets</th>\n",
              "      <th>Max_Leucocytes</th>\n",
              "      <th>Min_Leucocytes</th>\n",
              "      <th>Max_Creatinine</th>\n",
              "      <th>initial_CRP</th>\n",
              "      <th>Max_CRP</th>\n",
              "      <th>Severity</th>\n",
              "      <th>IHD</th>\n",
              "      <th>COPD</th>\n",
              "      <th>Bronchial_asthma</th>\n",
              "      <th>Obesity</th>\n",
              "      <th>Diabetes</th>\n",
              "      <th>ALT</th>\n",
              "      <th>AST</th>\n",
              "      <th>Max_Procalcitonine</th>\n",
              "      <th>duration</th>\n",
              "      <th>Age</th>\n",
              "      <th>Gender_female</th>\n",
              "      <th>Gender_male</th>\n",
              "      <th>RF_0.0</th>\n",
              "      <th>RF_1.0</th>\n",
              "      <th>RF_2.0</th>\n",
              "      <th>RF_3.0</th>\n",
              "    </tr>\n",
              "  </thead>\n",
              "  <tbody>\n",
              "    <tr>\n",
              "      <th>count</th>\n",
              "      <td>5305.000000</td>\n",
              "      <td>5305.000000</td>\n",
              "      <td>5305.000000</td>\n",
              "      <td>5305.000000</td>\n",
              "      <td>5305.000000</td>\n",
              "      <td>5305.000000</td>\n",
              "      <td>5305.000000</td>\n",
              "      <td>5305.000000</td>\n",
              "      <td>5305.000000</td>\n",
              "      <td>5305.0</td>\n",
              "      <td>5305.0</td>\n",
              "      <td>5305.0</td>\n",
              "      <td>5305.0</td>\n",
              "      <td>5305.000000</td>\n",
              "      <td>5305.000000</td>\n",
              "      <td>5305.000000</td>\n",
              "      <td>5305.000000</td>\n",
              "      <td>5305.000000</td>\n",
              "      <td>5305.000000</td>\n",
              "      <td>5305.000000</td>\n",
              "      <td>5305.000000</td>\n",
              "      <td>5305.0</td>\n",
              "      <td>5305.000000</td>\n",
              "      <td>5305.000000</td>\n",
              "    </tr>\n",
              "    <tr>\n",
              "      <th>mean</th>\n",
              "      <td>316.574052</td>\n",
              "      <td>316.573854</td>\n",
              "      <td>12.499711</td>\n",
              "      <td>12.499639</td>\n",
              "      <td>112.984542</td>\n",
              "      <td>103.168441</td>\n",
              "      <td>141.980236</td>\n",
              "      <td>0.533082</td>\n",
              "      <td>0.504430</td>\n",
              "      <td>0.0</td>\n",
              "      <td>0.0</td>\n",
              "      <td>0.0</td>\n",
              "      <td>0.0</td>\n",
              "      <td>75.210300</td>\n",
              "      <td>39.288909</td>\n",
              "      <td>0.192879</td>\n",
              "      <td>18.298586</td>\n",
              "      <td>61.641093</td>\n",
              "      <td>0.386239</td>\n",
              "      <td>0.598492</td>\n",
              "      <td>0.272762</td>\n",
              "      <td>0.0</td>\n",
              "      <td>0.444863</td>\n",
              "      <td>0.009425</td>\n",
              "    </tr>\n",
              "    <tr>\n",
              "      <th>std</th>\n",
              "      <td>110.620972</td>\n",
              "      <td>110.620118</td>\n",
              "      <td>4.715052</td>\n",
              "      <td>4.714923</td>\n",
              "      <td>51.045973</td>\n",
              "      <td>69.194191</td>\n",
              "      <td>71.133216</td>\n",
              "      <td>0.498951</td>\n",
              "      <td>0.500028</td>\n",
              "      <td>0.0</td>\n",
              "      <td>0.0</td>\n",
              "      <td>0.0</td>\n",
              "      <td>0.0</td>\n",
              "      <td>155.390715</td>\n",
              "      <td>37.303488</td>\n",
              "      <td>0.129403</td>\n",
              "      <td>6.026354</td>\n",
              "      <td>12.219173</td>\n",
              "      <td>0.486932</td>\n",
              "      <td>0.490250</td>\n",
              "      <td>0.445421</td>\n",
              "      <td>0.0</td>\n",
              "      <td>0.496997</td>\n",
              "      <td>0.096633</td>\n",
              "    </tr>\n",
              "    <tr>\n",
              "      <th>min</th>\n",
              "      <td>25.662203</td>\n",
              "      <td>25.625902</td>\n",
              "      <td>0.908701</td>\n",
              "      <td>0.910123</td>\n",
              "      <td>60.047697</td>\n",
              "      <td>6.032687</td>\n",
              "      <td>30.062570</td>\n",
              "      <td>0.000000</td>\n",
              "      <td>0.000000</td>\n",
              "      <td>0.0</td>\n",
              "      <td>0.0</td>\n",
              "      <td>0.0</td>\n",
              "      <td>0.0</td>\n",
              "      <td>-1227.783012</td>\n",
              "      <td>-482.663540</td>\n",
              "      <td>0.070056</td>\n",
              "      <td>8.000000</td>\n",
              "      <td>22.000000</td>\n",
              "      <td>0.000000</td>\n",
              "      <td>0.000000</td>\n",
              "      <td>0.000000</td>\n",
              "      <td>0.0</td>\n",
              "      <td>0.000000</td>\n",
              "      <td>0.000000</td>\n",
              "    </tr>\n",
              "    <tr>\n",
              "      <th>25%</th>\n",
              "      <td>239.421545</td>\n",
              "      <td>239.441325</td>\n",
              "      <td>9.593980</td>\n",
              "      <td>9.594234</td>\n",
              "      <td>91.470805</td>\n",
              "      <td>41.877360</td>\n",
              "      <td>77.225145</td>\n",
              "      <td>0.000000</td>\n",
              "      <td>0.000000</td>\n",
              "      <td>0.0</td>\n",
              "      <td>0.0</td>\n",
              "      <td>0.0</td>\n",
              "      <td>0.0</td>\n",
              "      <td>42.879534</td>\n",
              "      <td>24.255715</td>\n",
              "      <td>0.101836</td>\n",
              "      <td>13.000000</td>\n",
              "      <td>53.000000</td>\n",
              "      <td>0.000000</td>\n",
              "      <td>0.000000</td>\n",
              "      <td>0.000000</td>\n",
              "      <td>0.0</td>\n",
              "      <td>0.000000</td>\n",
              "      <td>0.000000</td>\n",
              "    </tr>\n",
              "    <tr>\n",
              "      <th>50%</th>\n",
              "      <td>317.719883</td>\n",
              "      <td>317.754326</td>\n",
              "      <td>12.132450</td>\n",
              "      <td>12.132396</td>\n",
              "      <td>103.196728</td>\n",
              "      <td>91.997349</td>\n",
              "      <td>139.523830</td>\n",
              "      <td>1.000000</td>\n",
              "      <td>1.000000</td>\n",
              "      <td>0.0</td>\n",
              "      <td>0.0</td>\n",
              "      <td>0.0</td>\n",
              "      <td>0.0</td>\n",
              "      <td>65.025333</td>\n",
              "      <td>38.053117</td>\n",
              "      <td>0.149051</td>\n",
              "      <td>18.000000</td>\n",
              "      <td>62.000000</td>\n",
              "      <td>0.000000</td>\n",
              "      <td>1.000000</td>\n",
              "      <td>0.000000</td>\n",
              "      <td>0.0</td>\n",
              "      <td>0.000000</td>\n",
              "      <td>0.000000</td>\n",
              "    </tr>\n",
              "    <tr>\n",
              "      <th>75%</th>\n",
              "      <td>391.734712</td>\n",
              "      <td>391.724697</td>\n",
              "      <td>14.956199</td>\n",
              "      <td>14.957015</td>\n",
              "      <td>118.483413</td>\n",
              "      <td>161.587510</td>\n",
              "      <td>204.119810</td>\n",
              "      <td>1.000000</td>\n",
              "      <td>1.000000</td>\n",
              "      <td>0.0</td>\n",
              "      <td>0.0</td>\n",
              "      <td>0.0</td>\n",
              "      <td>0.0</td>\n",
              "      <td>90.390940</td>\n",
              "      <td>51.799179</td>\n",
              "      <td>0.240931</td>\n",
              "      <td>23.000000</td>\n",
              "      <td>70.000000</td>\n",
              "      <td>1.000000</td>\n",
              "      <td>1.000000</td>\n",
              "      <td>1.000000</td>\n",
              "      <td>0.0</td>\n",
              "      <td>1.000000</td>\n",
              "      <td>0.000000</td>\n",
              "    </tr>\n",
              "    <tr>\n",
              "      <th>max</th>\n",
              "      <td>776.511387</td>\n",
              "      <td>776.482965</td>\n",
              "      <td>29.943035</td>\n",
              "      <td>29.939566</td>\n",
              "      <td>779.414158</td>\n",
              "      <td>237.699511</td>\n",
              "      <td>264.692466</td>\n",
              "      <td>1.000000</td>\n",
              "      <td>1.000000</td>\n",
              "      <td>0.0</td>\n",
              "      <td>0.0</td>\n",
              "      <td>0.0</td>\n",
              "      <td>0.0</td>\n",
              "      <td>7846.944138</td>\n",
              "      <td>537.402240</td>\n",
              "      <td>1.282297</td>\n",
              "      <td>31.000000</td>\n",
              "      <td>89.000000</td>\n",
              "      <td>1.000000</td>\n",
              "      <td>1.000000</td>\n",
              "      <td>1.000000</td>\n",
              "      <td>0.0</td>\n",
              "      <td>1.000000</td>\n",
              "      <td>1.000000</td>\n",
              "    </tr>\n",
              "  </tbody>\n",
              "</table>\n",
              "</div>"
            ],
            "text/plain": [
              "       Max_Platlets  Min_Platlets  ...       RF_2.0       RF_3.0\n",
              "count   5305.000000   5305.000000  ...  5305.000000  5305.000000\n",
              "mean     316.574052    316.573854  ...     0.444863     0.009425\n",
              "std      110.620972    110.620118  ...     0.496997     0.096633\n",
              "min       25.662203     25.625902  ...     0.000000     0.000000\n",
              "25%      239.421545    239.441325  ...     0.000000     0.000000\n",
              "50%      317.719883    317.754326  ...     0.000000     0.000000\n",
              "75%      391.734712    391.724697  ...     1.000000     0.000000\n",
              "max      776.511387    776.482965  ...     1.000000     1.000000\n",
              "\n",
              "[8 rows x 24 columns]"
            ]
          },
          "metadata": {
            "tags": []
          },
          "execution_count": 53
        }
      ]
    },
    {
      "cell_type": "code",
      "metadata": {
        "colab": {
          "base_uri": "https://localhost:8080/",
          "height": 354
        },
        "id": "nF_u4Pe_swfj",
        "outputId": "f8319e2a-ef74-4438-d441-5418a57ecd60"
      },
      "source": [
        "from sdv.tabular import CTGAN\r\n",
        "\r\n",
        "model2 = CTGAN()\r\n",
        "model2.fit(df)"
      ],
      "execution_count": 53,
      "outputs": [
        {
          "output_type": "error",
          "ename": "NameError",
          "evalue": "ignored",
          "traceback": [
            "\u001b[0;31m---------------------------------------------------------------------------\u001b[0m",
            "\u001b[0;31mNameError\u001b[0m                                 Traceback (most recent call last)",
            "\u001b[0;32m<ipython-input-53-18bb85b79498>\u001b[0m in \u001b[0;36m<module>\u001b[0;34m()\u001b[0m\n\u001b[0;32m----> 1\u001b[0;31m \u001b[0;32mfrom\u001b[0m \u001b[0msdv\u001b[0m\u001b[0;34m.\u001b[0m\u001b[0mtabular\u001b[0m \u001b[0;32mimport\u001b[0m \u001b[0mCTGAN\u001b[0m\u001b[0;34m\u001b[0m\u001b[0;34m\u001b[0m\u001b[0m\n\u001b[0m\u001b[1;32m      2\u001b[0m \u001b[0;34m\u001b[0m\u001b[0m\n\u001b[1;32m      3\u001b[0m \u001b[0mmodel2\u001b[0m \u001b[0;34m=\u001b[0m \u001b[0mCTGAN\u001b[0m\u001b[0;34m(\u001b[0m\u001b[0;34m)\u001b[0m\u001b[0;34m\u001b[0m\u001b[0;34m\u001b[0m\u001b[0m\n\u001b[1;32m      4\u001b[0m \u001b[0mmodel2\u001b[0m\u001b[0;34m.\u001b[0m\u001b[0mfit\u001b[0m\u001b[0;34m(\u001b[0m\u001b[0mdf\u001b[0m\u001b[0;34m)\u001b[0m\u001b[0;34m\u001b[0m\u001b[0;34m\u001b[0m\u001b[0m\n",
            "\u001b[0;32m/usr/local/lib/python3.6/dist-packages/sdv/__init__.py\u001b[0m in \u001b[0;36m<module>\u001b[0;34m()\u001b[0m\n\u001b[1;32m      9\u001b[0m \u001b[0m__version__\u001b[0m \u001b[0;34m=\u001b[0m \u001b[0;34m'0.7.0'\u001b[0m\u001b[0;34m\u001b[0m\u001b[0;34m\u001b[0m\u001b[0m\n\u001b[1;32m     10\u001b[0m \u001b[0;34m\u001b[0m\u001b[0m\n\u001b[0;32m---> 11\u001b[0;31m \u001b[0;32mfrom\u001b[0m \u001b[0msdv\u001b[0m \u001b[0;32mimport\u001b[0m \u001b[0mconstraints\u001b[0m\u001b[0;34m,\u001b[0m \u001b[0mevaluation\u001b[0m\u001b[0;34m,\u001b[0m \u001b[0mmetadata\u001b[0m\u001b[0;34m,\u001b[0m \u001b[0mrelational\u001b[0m\u001b[0;34m,\u001b[0m \u001b[0mtabular\u001b[0m\u001b[0;34m\u001b[0m\u001b[0;34m\u001b[0m\u001b[0m\n\u001b[0m\u001b[1;32m     12\u001b[0m \u001b[0;32mfrom\u001b[0m \u001b[0msdv\u001b[0m\u001b[0;34m.\u001b[0m\u001b[0mdemo\u001b[0m \u001b[0;32mimport\u001b[0m \u001b[0mget_available_demos\u001b[0m\u001b[0;34m,\u001b[0m \u001b[0mload_demo\u001b[0m\u001b[0;34m\u001b[0m\u001b[0;34m\u001b[0m\u001b[0m\n\u001b[1;32m     13\u001b[0m \u001b[0;32mfrom\u001b[0m \u001b[0msdv\u001b[0m\u001b[0;34m.\u001b[0m\u001b[0mmetadata\u001b[0m \u001b[0;32mimport\u001b[0m \u001b[0mMetadata\u001b[0m\u001b[0;34m,\u001b[0m \u001b[0mTable\u001b[0m\u001b[0;34m\u001b[0m\u001b[0;34m\u001b[0m\u001b[0m\n",
            "\u001b[0;32m/usr/local/lib/python3.6/dist-packages/sdv/evaluation.py\u001b[0m in \u001b[0;36m<module>\u001b[0;34m()\u001b[0m\n\u001b[1;32m      2\u001b[0m \u001b[0;34m\u001b[0m\u001b[0m\n\u001b[1;32m      3\u001b[0m \u001b[0;32mimport\u001b[0m \u001b[0mpandas\u001b[0m \u001b[0;32mas\u001b[0m \u001b[0mpd\u001b[0m\u001b[0;34m\u001b[0m\u001b[0;34m\u001b[0m\u001b[0m\n\u001b[0;32m----> 4\u001b[0;31m \u001b[0;32mimport\u001b[0m \u001b[0msdmetrics\u001b[0m\u001b[0;34m\u001b[0m\u001b[0;34m\u001b[0m\u001b[0m\n\u001b[0m\u001b[1;32m      5\u001b[0m \u001b[0;34m\u001b[0m\u001b[0m\n\u001b[1;32m      6\u001b[0m \u001b[0;32mfrom\u001b[0m \u001b[0msdv\u001b[0m\u001b[0;34m.\u001b[0m\u001b[0mmetadata\u001b[0m\u001b[0;34m.\u001b[0m\u001b[0mdataset\u001b[0m \u001b[0;32mimport\u001b[0m \u001b[0mMetadata\u001b[0m\u001b[0;34m\u001b[0m\u001b[0;34m\u001b[0m\u001b[0m\n",
            "\u001b[0;32m/usr/local/lib/python3.6/dist-packages/sdmetrics/__init__.py\u001b[0m in \u001b[0;36m<module>\u001b[0;34m()\u001b[0m\n\u001b[1;32m      9\u001b[0m \u001b[0;32mimport\u001b[0m \u001b[0mpandas\u001b[0m \u001b[0;32mas\u001b[0m \u001b[0mpd\u001b[0m\u001b[0;34m\u001b[0m\u001b[0;34m\u001b[0m\u001b[0m\n\u001b[1;32m     10\u001b[0m \u001b[0;34m\u001b[0m\u001b[0m\n\u001b[0;32m---> 11\u001b[0;31m from sdmetrics import (\n\u001b[0m\u001b[1;32m     12\u001b[0m     column_pairs, demos, goal, multi_table, single_column, single_table, timeseries)\n\u001b[1;32m     13\u001b[0m \u001b[0;32mfrom\u001b[0m \u001b[0msdmetrics\u001b[0m\u001b[0;34m.\u001b[0m\u001b[0mdemos\u001b[0m \u001b[0;32mimport\u001b[0m \u001b[0mload_demo\u001b[0m\u001b[0;34m\u001b[0m\u001b[0;34m\u001b[0m\u001b[0m\n",
            "\u001b[0;32m/usr/local/lib/python3.6/dist-packages/sdmetrics/timeseries/__init__.py\u001b[0m in \u001b[0;36m<module>\u001b[0;34m()\u001b[0m\n\u001b[1;32m      1\u001b[0m \u001b[0;34m\"\"\"Metrics for timeseries datasets.\"\"\"\u001b[0m\u001b[0;34m\u001b[0m\u001b[0;34m\u001b[0m\u001b[0m\n\u001b[1;32m      2\u001b[0m \u001b[0;34m\u001b[0m\u001b[0m\n\u001b[0;32m----> 3\u001b[0;31m \u001b[0;32mfrom\u001b[0m \u001b[0msdmetrics\u001b[0m\u001b[0;34m.\u001b[0m\u001b[0mtimeseries\u001b[0m \u001b[0;32mimport\u001b[0m \u001b[0mbase\u001b[0m\u001b[0;34m,\u001b[0m \u001b[0mdetection\u001b[0m\u001b[0;34m,\u001b[0m \u001b[0mefficacy\u001b[0m\u001b[0;34m,\u001b[0m \u001b[0mml_scorers\u001b[0m\u001b[0;34m\u001b[0m\u001b[0;34m\u001b[0m\u001b[0m\n\u001b[0m\u001b[1;32m      4\u001b[0m \u001b[0;32mfrom\u001b[0m \u001b[0msdmetrics\u001b[0m\u001b[0;34m.\u001b[0m\u001b[0mtimeseries\u001b[0m\u001b[0;34m.\u001b[0m\u001b[0mbase\u001b[0m \u001b[0;32mimport\u001b[0m \u001b[0mTimeSeriesMetric\u001b[0m\u001b[0;34m\u001b[0m\u001b[0;34m\u001b[0m\u001b[0m\n\u001b[1;32m      5\u001b[0m \u001b[0;32mfrom\u001b[0m \u001b[0msdmetrics\u001b[0m\u001b[0;34m.\u001b[0m\u001b[0mtimeseries\u001b[0m\u001b[0;34m.\u001b[0m\u001b[0mdetection\u001b[0m \u001b[0;32mimport\u001b[0m \u001b[0mLSTMDetection\u001b[0m\u001b[0;34m,\u001b[0m \u001b[0mTimeSeriesDetectionMetric\u001b[0m\u001b[0;34m,\u001b[0m \u001b[0mTSFCDetection\u001b[0m\u001b[0;34m\u001b[0m\u001b[0;34m\u001b[0m\u001b[0m\n",
            "\u001b[0;32m/usr/local/lib/python3.6/dist-packages/sdmetrics/timeseries/detection.py\u001b[0m in \u001b[0;36m<module>\u001b[0;34m()\u001b[0m\n\u001b[1;32m      7\u001b[0m \u001b[0;34m\u001b[0m\u001b[0m\n\u001b[1;32m      8\u001b[0m \u001b[0;32mfrom\u001b[0m \u001b[0msdmetrics\u001b[0m\u001b[0;34m.\u001b[0m\u001b[0mgoal\u001b[0m \u001b[0;32mimport\u001b[0m \u001b[0mGoal\u001b[0m\u001b[0;34m\u001b[0m\u001b[0;34m\u001b[0m\u001b[0m\n\u001b[0;32m----> 9\u001b[0;31m \u001b[0;32mfrom\u001b[0m \u001b[0msdmetrics\u001b[0m\u001b[0;34m.\u001b[0m\u001b[0mtimeseries\u001b[0m \u001b[0;32mimport\u001b[0m \u001b[0mml_scorers\u001b[0m\u001b[0;34m\u001b[0m\u001b[0;34m\u001b[0m\u001b[0m\n\u001b[0m\u001b[1;32m     10\u001b[0m \u001b[0;32mfrom\u001b[0m \u001b[0msdmetrics\u001b[0m\u001b[0;34m.\u001b[0m\u001b[0mtimeseries\u001b[0m\u001b[0;34m.\u001b[0m\u001b[0mbase\u001b[0m \u001b[0;32mimport\u001b[0m \u001b[0mTimeSeriesMetric\u001b[0m\u001b[0;34m\u001b[0m\u001b[0;34m\u001b[0m\u001b[0m\n\u001b[1;32m     11\u001b[0m \u001b[0;34m\u001b[0m\u001b[0m\n",
            "\u001b[0;32m/usr/local/lib/python3.6/dist-packages/sdmetrics/timeseries/ml_scorers.py\u001b[0m in \u001b[0;36m<module>\u001b[0;34m()\u001b[0m\n\u001b[1;32m      2\u001b[0m \u001b[0;34m\u001b[0m\u001b[0m\n\u001b[1;32m      3\u001b[0m \u001b[0;32mimport\u001b[0m \u001b[0mrdt\u001b[0m\u001b[0;34m\u001b[0m\u001b[0;34m\u001b[0m\u001b[0m\n\u001b[0;32m----> 4\u001b[0;31m \u001b[0;32mimport\u001b[0m \u001b[0mtorch\u001b[0m\u001b[0;34m\u001b[0m\u001b[0;34m\u001b[0m\u001b[0m\n\u001b[0m\u001b[1;32m      5\u001b[0m \u001b[0;32mfrom\u001b[0m \u001b[0msklearn\u001b[0m\u001b[0;34m.\u001b[0m\u001b[0mpipeline\u001b[0m \u001b[0;32mimport\u001b[0m \u001b[0mPipeline\u001b[0m\u001b[0;34m\u001b[0m\u001b[0;34m\u001b[0m\u001b[0m\n\u001b[1;32m      6\u001b[0m \u001b[0;32mfrom\u001b[0m \u001b[0msktime\u001b[0m\u001b[0;34m.\u001b[0m\u001b[0mclassification\u001b[0m\u001b[0;34m.\u001b[0m\u001b[0mcompose\u001b[0m \u001b[0;32mimport\u001b[0m \u001b[0mTimeSeriesForestClassifier\u001b[0m\u001b[0;34m\u001b[0m\u001b[0;34m\u001b[0m\u001b[0m\n",
            "\u001b[0;32m/usr/local/lib/python3.6/dist-packages/torch/__init__.py\u001b[0m in \u001b[0;36m<module>\u001b[0;34m()\u001b[0m\n\u001b[1;32m    220\u001b[0m \u001b[0;34m\u001b[0m\u001b[0m\n\u001b[1;32m    221\u001b[0m \u001b[0;34m\u001b[0m\u001b[0m\n\u001b[0;32m--> 222\u001b[0;31m __all__ += [name for name in dir(_C)\n\u001b[0m\u001b[1;32m    223\u001b[0m             \u001b[0;32mif\u001b[0m \u001b[0mname\u001b[0m\u001b[0;34m[\u001b[0m\u001b[0;36m0\u001b[0m\u001b[0;34m]\u001b[0m \u001b[0;34m!=\u001b[0m \u001b[0;34m'_'\u001b[0m \u001b[0;32mand\u001b[0m\u001b[0;34m\u001b[0m\u001b[0;34m\u001b[0m\u001b[0m\n\u001b[1;32m    224\u001b[0m             not name.endswith('Base')]\n",
            "\u001b[0;31mNameError\u001b[0m: name '_C' is not defined"
          ]
        }
      ]
    },
    {
      "cell_type": "code",
      "metadata": {
        "id": "Noda6o1ftEHZ"
      },
      "source": [
        "new_data_2 = model2.sample(472)"
      ],
      "execution_count": null,
      "outputs": []
    },
    {
      "cell_type": "code",
      "metadata": {
        "id": "NhfI8m5H34VV",
        "colab": {
          "base_uri": "https://localhost:8080/",
          "height": 316
        },
        "outputId": "89343800-54eb-423c-8689-90e65279315c"
      },
      "source": [
        "new_data_2.head()"
      ],
      "execution_count": null,
      "outputs": [
        {
          "output_type": "execute_result",
          "data": {
            "text/html": [
              "<div>\n",
              "<style scoped>\n",
              "    .dataframe tbody tr th:only-of-type {\n",
              "        vertical-align: middle;\n",
              "    }\n",
              "\n",
              "    .dataframe tbody tr th {\n",
              "        vertical-align: top;\n",
              "    }\n",
              "\n",
              "    .dataframe thead th {\n",
              "        text-align: right;\n",
              "    }\n",
              "</style>\n",
              "<table border=\"1\" class=\"dataframe\">\n",
              "  <thead>\n",
              "    <tr style=\"text-align: right;\">\n",
              "      <th></th>\n",
              "      <th>Max_Platlets</th>\n",
              "      <th>Min_Platlets</th>\n",
              "      <th>Max_Leucocytes</th>\n",
              "      <th>Min_Leucocytes</th>\n",
              "      <th>Max_Creatinine</th>\n",
              "      <th>Min_Cratinine</th>\n",
              "      <th>initial_CRP</th>\n",
              "      <th>Max_CRP</th>\n",
              "      <th>Birthday</th>\n",
              "      <th>Admission</th>\n",
              "      <th>Discharge</th>\n",
              "      <th>COVID-19</th>\n",
              "      <th>Pneumonia</th>\n",
              "      <th>Severity</th>\n",
              "      <th>IHD</th>\n",
              "      <th>COPD</th>\n",
              "      <th>Bronchial_asthma</th>\n",
              "      <th>Obesity</th>\n",
              "      <th>Diabetes</th>\n",
              "      <th>ALT</th>\n",
              "      <th>AST</th>\n",
              "      <th>Initial_Procalcitonine</th>\n",
              "      <th>Max_Procalcitonine</th>\n",
              "      <th>duration</th>\n",
              "      <th>Age</th>\n",
              "      <th>RF_0.0</th>\n",
              "      <th>RF_1.0</th>\n",
              "      <th>RF_2.0</th>\n",
              "      <th>RF_3.0</th>\n",
              "    </tr>\n",
              "  </thead>\n",
              "  <tbody>\n",
              "    <tr>\n",
              "      <th>0</th>\n",
              "      <td>342.595633</td>\n",
              "      <td>235.622656</td>\n",
              "      <td>4.631415</td>\n",
              "      <td>1.436672</td>\n",
              "      <td>-30.239923</td>\n",
              "      <td>84.891247</td>\n",
              "      <td>23.559262</td>\n",
              "      <td>-55.707338</td>\n",
              "      <td>1951-05-20</td>\n",
              "      <td>2020-07-07</td>\n",
              "      <td>2021-04-05</td>\n",
              "      <td>0</td>\n",
              "      <td>1</td>\n",
              "      <td>0</td>\n",
              "      <td>0</td>\n",
              "      <td>0</td>\n",
              "      <td>0</td>\n",
              "      <td>0</td>\n",
              "      <td>0</td>\n",
              "      <td>208.250940</td>\n",
              "      <td>210.936595</td>\n",
              "      <td>0.466240</td>\n",
              "      <td>0.121370</td>\n",
              "      <td>17</td>\n",
              "      <td>45</td>\n",
              "      <td>0.791473</td>\n",
              "      <td>-0.157124</td>\n",
              "      <td>0.071858</td>\n",
              "      <td>0.021498</td>\n",
              "    </tr>\n",
              "    <tr>\n",
              "      <th>1</th>\n",
              "      <td>219.708161</td>\n",
              "      <td>207.556040</td>\n",
              "      <td>5.564088</td>\n",
              "      <td>12.171722</td>\n",
              "      <td>54.733168</td>\n",
              "      <td>114.334871</td>\n",
              "      <td>152.865790</td>\n",
              "      <td>81.888751</td>\n",
              "      <td>1934-03-08</td>\n",
              "      <td>2021-02-11</td>\n",
              "      <td>2020-10-10</td>\n",
              "      <td>0</td>\n",
              "      <td>0</td>\n",
              "      <td>0</td>\n",
              "      <td>0</td>\n",
              "      <td>0</td>\n",
              "      <td>0</td>\n",
              "      <td>0</td>\n",
              "      <td>0</td>\n",
              "      <td>0.228424</td>\n",
              "      <td>84.418034</td>\n",
              "      <td>0.084668</td>\n",
              "      <td>0.079555</td>\n",
              "      <td>11</td>\n",
              "      <td>23</td>\n",
              "      <td>0.780462</td>\n",
              "      <td>0.526681</td>\n",
              "      <td>0.000817</td>\n",
              "      <td>0.022923</td>\n",
              "    </tr>\n",
              "    <tr>\n",
              "      <th>2</th>\n",
              "      <td>105.676409</td>\n",
              "      <td>440.026058</td>\n",
              "      <td>192.642641</td>\n",
              "      <td>444.167154</td>\n",
              "      <td>-75.099963</td>\n",
              "      <td>69.431054</td>\n",
              "      <td>73.265072</td>\n",
              "      <td>226.997496</td>\n",
              "      <td>1955-03-01</td>\n",
              "      <td>2020-12-08</td>\n",
              "      <td>2020-11-07</td>\n",
              "      <td>0</td>\n",
              "      <td>0</td>\n",
              "      <td>0</td>\n",
              "      <td>0</td>\n",
              "      <td>0</td>\n",
              "      <td>0</td>\n",
              "      <td>0</td>\n",
              "      <td>0</td>\n",
              "      <td>-25.720338</td>\n",
              "      <td>113.228222</td>\n",
              "      <td>0.924441</td>\n",
              "      <td>0.029103</td>\n",
              "      <td>37</td>\n",
              "      <td>66</td>\n",
              "      <td>0.692065</td>\n",
              "      <td>0.095608</td>\n",
              "      <td>-0.258583</td>\n",
              "      <td>-0.154318</td>\n",
              "    </tr>\n",
              "    <tr>\n",
              "      <th>3</th>\n",
              "      <td>346.301467</td>\n",
              "      <td>100.129660</td>\n",
              "      <td>-3.579793</td>\n",
              "      <td>12.811386</td>\n",
              "      <td>72.006573</td>\n",
              "      <td>68.863346</td>\n",
              "      <td>64.939046</td>\n",
              "      <td>277.523117</td>\n",
              "      <td>1930-09-10</td>\n",
              "      <td>2020-10-15</td>\n",
              "      <td>2020-10-31</td>\n",
              "      <td>1</td>\n",
              "      <td>1</td>\n",
              "      <td>0</td>\n",
              "      <td>1</td>\n",
              "      <td>0</td>\n",
              "      <td>0</td>\n",
              "      <td>0</td>\n",
              "      <td>1</td>\n",
              "      <td>-54.413976</td>\n",
              "      <td>85.730894</td>\n",
              "      <td>0.905867</td>\n",
              "      <td>0.705599</td>\n",
              "      <td>10</td>\n",
              "      <td>62</td>\n",
              "      <td>0.223343</td>\n",
              "      <td>-0.072843</td>\n",
              "      <td>-0.127227</td>\n",
              "      <td>0.022065</td>\n",
              "    </tr>\n",
              "    <tr>\n",
              "      <th>4</th>\n",
              "      <td>366.475928</td>\n",
              "      <td>105.838864</td>\n",
              "      <td>10.251465</td>\n",
              "      <td>11.230742</td>\n",
              "      <td>96.587466</td>\n",
              "      <td>59.804963</td>\n",
              "      <td>12.631061</td>\n",
              "      <td>66.839062</td>\n",
              "      <td>1973-06-07</td>\n",
              "      <td>2020-08-10</td>\n",
              "      <td>2019-10-25</td>\n",
              "      <td>0</td>\n",
              "      <td>1</td>\n",
              "      <td>0</td>\n",
              "      <td>0</td>\n",
              "      <td>0</td>\n",
              "      <td>0</td>\n",
              "      <td>0</td>\n",
              "      <td>0</td>\n",
              "      <td>146.438555</td>\n",
              "      <td>31.082479</td>\n",
              "      <td>0.020986</td>\n",
              "      <td>0.020099</td>\n",
              "      <td>63</td>\n",
              "      <td>42</td>\n",
              "      <td>0.615164</td>\n",
              "      <td>0.051813</td>\n",
              "      <td>-0.011834</td>\n",
              "      <td>0.068741</td>\n",
              "    </tr>\n",
              "  </tbody>\n",
              "</table>\n",
              "</div>"
            ],
            "text/plain": [
              "   Max_Platlets  Min_Platlets  Max_Leucocytes  ...    RF_1.0    RF_2.0    RF_3.0\n",
              "0    342.595633    235.622656        4.631415  ... -0.157124  0.071858  0.021498\n",
              "1    219.708161    207.556040        5.564088  ...  0.526681  0.000817  0.022923\n",
              "2    105.676409    440.026058      192.642641  ...  0.095608 -0.258583 -0.154318\n",
              "3    346.301467    100.129660       -3.579793  ... -0.072843 -0.127227  0.022065\n",
              "4    366.475928    105.838864       10.251465  ...  0.051813 -0.011834  0.068741\n",
              "\n",
              "[5 rows x 29 columns]"
            ]
          },
          "metadata": {
            "tags": []
          },
          "execution_count": 273
        }
      ]
    },
    {
      "cell_type": "code",
      "metadata": {
        "id": "uyQJ5EiUtI2B",
        "colab": {
          "base_uri": "https://localhost:8080/"
        },
        "outputId": "9a255f5a-043d-4e44-950d-d9ed4d6f91d0"
      },
      "source": [
        "model2_ = CTGAN()\r\n",
        "model2_.fit(data)"
      ],
      "execution_count": null,
      "outputs": [
        {
          "output_type": "stream",
          "text": [
            "/usr/local/lib/python3.6/dist-packages/sklearn/mixture/_base.py:147: ConvergenceWarning: Number of distinct clusters (2) found smaller than n_clusters (10). Possibly due to duplicate points in X.\n",
            "  random_state=random_state).fit(X).labels_\n",
            "/usr/local/lib/python3.6/dist-packages/sklearn/mixture/_base.py:147: ConvergenceWarning: Number of distinct clusters (2) found smaller than n_clusters (10). Possibly due to duplicate points in X.\n",
            "  random_state=random_state).fit(X).labels_\n",
            "/usr/local/lib/python3.6/dist-packages/sklearn/mixture/_base.py:147: ConvergenceWarning: Number of distinct clusters (2) found smaller than n_clusters (10). Possibly due to duplicate points in X.\n",
            "  random_state=random_state).fit(X).labels_\n",
            "/usr/local/lib/python3.6/dist-packages/sklearn/mixture/_base.py:147: ConvergenceWarning: Number of distinct clusters (2) found smaller than n_clusters (10). Possibly due to duplicate points in X.\n",
            "  random_state=random_state).fit(X).labels_\n",
            "/usr/local/lib/python3.6/dist-packages/sklearn/mixture/_base.py:147: ConvergenceWarning: Number of distinct clusters (2) found smaller than n_clusters (10). Possibly due to duplicate points in X.\n",
            "  random_state=random_state).fit(X).labels_\n",
            "/usr/local/lib/python3.6/dist-packages/sklearn/mixture/_base.py:147: ConvergenceWarning: Number of distinct clusters (2) found smaller than n_clusters (10). Possibly due to duplicate points in X.\n",
            "  random_state=random_state).fit(X).labels_\n",
            "/usr/local/lib/python3.6/dist-packages/sklearn/mixture/_base.py:147: ConvergenceWarning: Number of distinct clusters (2) found smaller than n_clusters (10). Possibly due to duplicate points in X.\n",
            "  random_state=random_state).fit(X).labels_\n",
            "/usr/local/lib/python3.6/dist-packages/sklearn/mixture/_base.py:147: ConvergenceWarning: Number of distinct clusters (2) found smaller than n_clusters (10). Possibly due to duplicate points in X.\n",
            "  random_state=random_state).fit(X).labels_\n",
            "/usr/local/lib/python3.6/dist-packages/sklearn/mixture/_base.py:147: ConvergenceWarning: Number of distinct clusters (4) found smaller than n_clusters (10). Possibly due to duplicate points in X.\n",
            "  random_state=random_state).fit(X).labels_\n"
          ],
          "name": "stderr"
        }
      ]
    },
    {
      "cell_type": "code",
      "metadata": {
        "id": "HEjNFf9bjdh_"
      },
      "source": [
        "new_data_2_ = model2_.sample(400)"
      ],
      "execution_count": null,
      "outputs": []
    },
    {
      "cell_type": "code",
      "metadata": {
        "colab": {
          "base_uri": "https://localhost:8080/",
          "height": 282
        },
        "id": "B-_a55l2kVmm",
        "outputId": "454b63eb-869d-4506-a5c8-72dfa8e25405"
      },
      "source": [
        "new_data_2_['Max_Procalcitonine'].hist()"
      ],
      "execution_count": null,
      "outputs": [
        {
          "output_type": "execute_result",
          "data": {
            "text/plain": [
              "<matplotlib.axes._subplots.AxesSubplot at 0x7f4b92cfb828>"
            ]
          },
          "metadata": {
            "tags": []
          },
          "execution_count": 25
        },
        {
          "output_type": "display_data",
          "data": {
            "image/png": "[encoded data removed]",
            "text/plain": [
              "<Figure size 432x288 with 1 Axes>"
            ]
          },
          "metadata": {
            "tags": [],
            "needs_background": "light"
          }
        }
      ]
    },
    {
      "cell_type": "code",
      "metadata": {
        "colab": {
          "base_uri": "https://localhost:8080/",
          "height": 282
        },
        "id": "Cng_wjYMkhlq",
        "outputId": "69498554-a6d6-4aa0-9749-d279a5e9c6b7"
      },
      "source": [
        "new_data_2['Max_Procalcitonine'].hist()"
      ],
      "execution_count": null,
      "outputs": [
        {
          "output_type": "execute_result",
          "data": {
            "text/plain": [
              "<matplotlib.axes._subplots.AxesSubplot at 0x7f4b92c80d68>"
            ]
          },
          "metadata": {
            "tags": []
          },
          "execution_count": 26
        },
        {
          "output_type": "display_data",
          "data": {
            "image/png": "[encoded data removed]",
            "text/plain": [
              "<Figure size 432x288 with 1 Axes>"
            ]
          },
          "metadata": {
            "tags": [],
            "needs_background": "light"
          }
        }
      ]
    },
    {
      "cell_type": "code",
      "metadata": {
        "colab": {
          "base_uri": "https://localhost:8080/",
          "height": 282
        },
        "id": "_fcVE-wRkkeP",
        "outputId": "efb81410-4994-4357-c88a-2915f4a890c7"
      },
      "source": [
        "new_data_1_['Max_Procalcitonine'].hist()"
      ],
      "execution_count": null,
      "outputs": [
        {
          "output_type": "execute_result",
          "data": {
            "text/plain": [
              "<matplotlib.axes._subplots.AxesSubplot at 0x7f4b92a8dac8>"
            ]
          },
          "metadata": {
            "tags": []
          },
          "execution_count": 27
        },
        {
          "output_type": "display_data",
          "data": {
            "image/png": "[encoded data removed]",
            "text/plain": [
              "<Figure size 432x288 with 1 Axes>"
            ]
          },
          "metadata": {
            "tags": [],
            "needs_background": "light"
          }
        }
      ]
    },
    {
      "cell_type": "code",
      "metadata": {
        "colab": {
          "base_uri": "https://localhost:8080/"
        },
        "id": "m4sev5xewlL3",
        "outputId": "93ba0fda-a7e4-471c-d29e-d7080aba12f6"
      },
      "source": [
        "from sdv.tabular import TVAE\r\n",
        "\r\n",
        "model = TVAE()\r\n",
        "model.fit(df)"
      ],
      "execution_count": null,
      "outputs": [
        {
          "output_type": "stream",
          "text": [
            "/usr/local/lib/python3.6/dist-packages/sklearn/mixture/_base.py:147: ConvergenceWarning: Number of distinct clusters (2) found smaller than n_clusters (10). Possibly due to duplicate points in X.\n",
            "  random_state=random_state).fit(X).labels_\n",
            "/usr/local/lib/python3.6/dist-packages/sklearn/mixture/_base.py:147: ConvergenceWarning: Number of distinct clusters (2) found smaller than n_clusters (10). Possibly due to duplicate points in X.\n",
            "  random_state=random_state).fit(X).labels_\n",
            "/usr/local/lib/python3.6/dist-packages/sklearn/mixture/_base.py:147: ConvergenceWarning: Number of distinct clusters (2) found smaller than n_clusters (10). Possibly due to duplicate points in X.\n",
            "  random_state=random_state).fit(X).labels_\n",
            "/usr/local/lib/python3.6/dist-packages/sklearn/mixture/_base.py:147: ConvergenceWarning: Number of distinct clusters (2) found smaller than n_clusters (10). Possibly due to duplicate points in X.\n",
            "  random_state=random_state).fit(X).labels_\n",
            "/usr/local/lib/python3.6/dist-packages/sklearn/mixture/_base.py:147: ConvergenceWarning: Number of distinct clusters (2) found smaller than n_clusters (10). Possibly due to duplicate points in X.\n",
            "  random_state=random_state).fit(X).labels_\n",
            "/usr/local/lib/python3.6/dist-packages/sklearn/mixture/_base.py:147: ConvergenceWarning: Number of distinct clusters (2) found smaller than n_clusters (10). Possibly due to duplicate points in X.\n",
            "  random_state=random_state).fit(X).labels_\n",
            "/usr/local/lib/python3.6/dist-packages/sklearn/mixture/_base.py:147: ConvergenceWarning: Number of distinct clusters (2) found smaller than n_clusters (10). Possibly due to duplicate points in X.\n",
            "  random_state=random_state).fit(X).labels_\n",
            "/usr/local/lib/python3.6/dist-packages/sklearn/mixture/_base.py:147: ConvergenceWarning: Number of distinct clusters (2) found smaller than n_clusters (10). Possibly due to duplicate points in X.\n",
            "  random_state=random_state).fit(X).labels_\n",
            "/usr/local/lib/python3.6/dist-packages/sklearn/mixture/_base.py:147: ConvergenceWarning: Number of distinct clusters (4) found smaller than n_clusters (10). Possibly due to duplicate points in X.\n",
            "  random_state=random_state).fit(X).labels_\n"
          ],
          "name": "stderr"
        }
      ]
    },
    {
      "cell_type": "code",
      "metadata": {
        "id": "J2KjUADcwpj9"
      },
      "source": [
        "new_data_3 = model.sample(500)"
      ],
      "execution_count": null,
      "outputs": []
    },
    {
      "cell_type": "code",
      "metadata": {
        "id": "oziYx0WnwxC8"
      },
      "source": [
        "new_data_2 = model.sample(500)"
      ],
      "execution_count": null,
      "outputs": []
    },
    {
      "cell_type": "code",
      "metadata": {
        "id": "BWXANxqEyVsV"
      },
      "source": [
        "new_data_2.to_csv('gen_Data_16_02_2021.csv')"
      ],
      "execution_count": null,
      "outputs": []
    },
    {
      "cell_type": "code",
      "metadata": {
        "colab": {
          "base_uri": "https://localhost:8080/"
        },
        "id": "uv8RF_QVkuWv",
        "outputId": "a88cedf8-3f7c-4a77-992c-daa8d01c4c62"
      },
      "source": [
        "new_data_2.columns"
      ],
      "execution_count": null,
      "outputs": [
        {
          "output_type": "execute_result",
          "data": {
            "text/plain": [
              "Index(['Unnamed: 0', 'Unnamed: 0.1', 'ID', 'Max_Platlets', 'Min_Platlets',\n",
              "       'Max_Leucocytes', 'Min_Leucocytes', 'Hemoglobin', 'Max_Creatinine',\n",
              "       'Min_Cratinine', 'Gender', 'initial_CRP', 'Max_CRP', 'Treatment',\n",
              "       'Birthday', 'Admission', 'Discharge', 'Diagnosis', 'COVID-19',\n",
              "       'Pneumonia', 'Severity', 'IHD', 'COPD', 'Bronchial_asthma', 'Obesity',\n",
              "       'Diabetes', 'RF', 'ALT', 'AST', 'Initial_Procalcitonine',\n",
              "       'Max_Procalcitonine', 'duration', 'Age'],\n",
              "      dtype='object')"
            ]
          },
          "metadata": {
            "tags": []
          },
          "execution_count": 255
        }
      ]
    },
    {
      "cell_type": "code",
      "metadata": {
        "id": "5-nBXSTIra1q"
      },
      "source": [
        "\r\n",
        "new_data_2['Age'] =  new_data_2['Age'].map(lambda x: x + 10 if x < 10 else x)"
      ],
      "execution_count": null,
      "outputs": []
    },
    {
      "cell_type": "code",
      "metadata": {
        "id": "iA1R2nVHkUfJ"
      },
      "source": [
        "new_data_2 = new_data_2.append(df)\r\n"
      ],
      "execution_count": null,
      "outputs": []
    },
    {
      "cell_type": "code",
      "metadata": {
        "id": "ZIG-Z-GlkU1v"
      },
      "source": [
        "l = df[df['Max_Procalcitonine'] > .3]\r\n"
      ],
      "execution_count": null,
      "outputs": []
    },
    {
      "cell_type": "code",
      "metadata": {
        "id": "sLQqUouCkpCP"
      },
      "source": [
        "new_data_2 = new_data_2.append(l)"
      ],
      "execution_count": null,
      "outputs": []
    },
    {
      "cell_type": "code",
      "metadata": {
        "id": "Wppq-r6xlynd"
      },
      "source": [
        "new_data_2.to_csv('g_data_1.csv')"
      ],
      "execution_count": null,
      "outputs": []
    },
    {
      "cell_type": "code",
      "metadata": {
        "id": "KMb7MUTOl7B8",
        "colab": {
          "base_uri": "https://localhost:8080/"
        },
        "outputId": "1bcfee1a-130f-4aa7-ffa7-5d8241db3c2f"
      },
      "source": [
        "new_data_2.shape"
      ],
      "execution_count": null,
      "outputs": [
        {
          "output_type": "execute_result",
          "data": {
            "text/plain": [
              "(537, 33)"
            ]
          },
          "metadata": {
            "tags": []
          },
          "execution_count": 138
        }
      ]
    },
    {
      "cell_type": "code",
      "metadata": {
        "id": "_rXWW3KSseya"
      },
      "source": [
        "dataf = df.copy()"
      ],
      "execution_count": null,
      "outputs": []
    },
    {
      "cell_type": "code",
      "metadata": {
        "id": "MGQQMnUaukU0",
        "colab": {
          "base_uri": "https://localhost:8080/",
          "height": 354
        },
        "outputId": "1ae0e5dc-53b1-461b-e8b5-157fd93b9d5b"
      },
      "source": [
        "dataf = dataf.drop(['Unnamed: 0', 'Unnamed: 0.1',\r\n",
        "         'ID', 'Diagnosis', \r\n",
        "         'COVID-19', \"Treatment\", 'duration',\r\n",
        "          'Birthday', 'Admission', 'Discharge', 'Diagnosis',\r\n",
        "          'Pneumonia', 'Hemoglobin'], axis=1)"
      ],
      "execution_count": null,
      "outputs": [
        {
          "output_type": "error",
          "ename": "KeyError",
          "evalue": "ignored",
          "traceback": [
            "\u001b[0;31m---------------------------------------------------------------------------\u001b[0m",
            "\u001b[0;31mKeyError\u001b[0m                                  Traceback (most recent call last)",
            "\u001b[0;32m<ipython-input-25-9b7025d82dd5>\u001b[0m in \u001b[0;36m<module>\u001b[0;34m()\u001b[0m\n\u001b[1;32m      3\u001b[0m          \u001b[0;34m'COVID-19'\u001b[0m\u001b[0;34m,\u001b[0m \u001b[0;34m\"Treatment\"\u001b[0m\u001b[0;34m,\u001b[0m \u001b[0;34m'duration'\u001b[0m\u001b[0;34m,\u001b[0m\u001b[0;34m\u001b[0m\u001b[0;34m\u001b[0m\u001b[0m\n\u001b[1;32m      4\u001b[0m           \u001b[0;34m'Birthday'\u001b[0m\u001b[0;34m,\u001b[0m \u001b[0;34m'Admission'\u001b[0m\u001b[0;34m,\u001b[0m \u001b[0;34m'Discharge'\u001b[0m\u001b[0;34m,\u001b[0m \u001b[0;34m'Diagnosis'\u001b[0m\u001b[0;34m,\u001b[0m\u001b[0;34m\u001b[0m\u001b[0;34m\u001b[0m\u001b[0m\n\u001b[0;32m----> 5\u001b[0;31m           'Pneumonia', 'Hemoglobin'], axis=1)\n\u001b[0m",
            "\u001b[0;32m/usr/local/lib/python3.6/dist-packages/pandas/core/frame.py\u001b[0m in \u001b[0;36mdrop\u001b[0;34m(self, labels, axis, index, columns, level, inplace, errors)\u001b[0m\n\u001b[1;32m   4172\u001b[0m             \u001b[0mlevel\u001b[0m\u001b[0;34m=\u001b[0m\u001b[0mlevel\u001b[0m\u001b[0;34m,\u001b[0m\u001b[0;34m\u001b[0m\u001b[0;34m\u001b[0m\u001b[0m\n\u001b[1;32m   4173\u001b[0m             \u001b[0minplace\u001b[0m\u001b[0;34m=\u001b[0m\u001b[0minplace\u001b[0m\u001b[0;34m,\u001b[0m\u001b[0;34m\u001b[0m\u001b[0;34m\u001b[0m\u001b[0m\n\u001b[0;32m-> 4174\u001b[0;31m             \u001b[0merrors\u001b[0m\u001b[0;34m=\u001b[0m\u001b[0merrors\u001b[0m\u001b[0;34m,\u001b[0m\u001b[0;34m\u001b[0m\u001b[0;34m\u001b[0m\u001b[0m\n\u001b[0m\u001b[1;32m   4175\u001b[0m         )\n\u001b[1;32m   4176\u001b[0m \u001b[0;34m\u001b[0m\u001b[0m\n",
            "\u001b[0;32m/usr/local/lib/python3.6/dist-packages/pandas/core/generic.py\u001b[0m in \u001b[0;36mdrop\u001b[0;34m(self, labels, axis, index, columns, level, inplace, errors)\u001b[0m\n\u001b[1;32m   3885\u001b[0m         \u001b[0;32mfor\u001b[0m \u001b[0maxis\u001b[0m\u001b[0;34m,\u001b[0m \u001b[0mlabels\u001b[0m \u001b[0;32min\u001b[0m \u001b[0maxes\u001b[0m\u001b[0;34m.\u001b[0m\u001b[0mitems\u001b[0m\u001b[0;34m(\u001b[0m\u001b[0;34m)\u001b[0m\u001b[0;34m:\u001b[0m\u001b[0;34m\u001b[0m\u001b[0;34m\u001b[0m\u001b[0m\n\u001b[1;32m   3886\u001b[0m             \u001b[0;32mif\u001b[0m \u001b[0mlabels\u001b[0m \u001b[0;32mis\u001b[0m \u001b[0;32mnot\u001b[0m \u001b[0;32mNone\u001b[0m\u001b[0;34m:\u001b[0m\u001b[0;34m\u001b[0m\u001b[0;34m\u001b[0m\u001b[0m\n\u001b[0;32m-> 3887\u001b[0;31m                 \u001b[0mobj\u001b[0m \u001b[0;34m=\u001b[0m \u001b[0mobj\u001b[0m\u001b[0;34m.\u001b[0m\u001b[0m_drop_axis\u001b[0m\u001b[0;34m(\u001b[0m\u001b[0mlabels\u001b[0m\u001b[0;34m,\u001b[0m \u001b[0maxis\u001b[0m\u001b[0;34m,\u001b[0m \u001b[0mlevel\u001b[0m\u001b[0;34m=\u001b[0m\u001b[0mlevel\u001b[0m\u001b[0;34m,\u001b[0m \u001b[0merrors\u001b[0m\u001b[0;34m=\u001b[0m\u001b[0merrors\u001b[0m\u001b[0;34m)\u001b[0m\u001b[0;34m\u001b[0m\u001b[0;34m\u001b[0m\u001b[0m\n\u001b[0m\u001b[1;32m   3888\u001b[0m \u001b[0;34m\u001b[0m\u001b[0m\n\u001b[1;32m   3889\u001b[0m         \u001b[0;32mif\u001b[0m \u001b[0minplace\u001b[0m\u001b[0;34m:\u001b[0m\u001b[0;34m\u001b[0m\u001b[0;34m\u001b[0m\u001b[0m\n",
            "\u001b[0;32m/usr/local/lib/python3.6/dist-packages/pandas/core/generic.py\u001b[0m in \u001b[0;36m_drop_axis\u001b[0;34m(self, labels, axis, level, errors)\u001b[0m\n\u001b[1;32m   3919\u001b[0m                 \u001b[0mnew_axis\u001b[0m \u001b[0;34m=\u001b[0m \u001b[0maxis\u001b[0m\u001b[0;34m.\u001b[0m\u001b[0mdrop\u001b[0m\u001b[0;34m(\u001b[0m\u001b[0mlabels\u001b[0m\u001b[0;34m,\u001b[0m \u001b[0mlevel\u001b[0m\u001b[0;34m=\u001b[0m\u001b[0mlevel\u001b[0m\u001b[0;34m,\u001b[0m \u001b[0merrors\u001b[0m\u001b[0;34m=\u001b[0m\u001b[0merrors\u001b[0m\u001b[0;34m)\u001b[0m\u001b[0;34m\u001b[0m\u001b[0;34m\u001b[0m\u001b[0m\n\u001b[1;32m   3920\u001b[0m             \u001b[0;32melse\u001b[0m\u001b[0;34m:\u001b[0m\u001b[0;34m\u001b[0m\u001b[0;34m\u001b[0m\u001b[0m\n\u001b[0;32m-> 3921\u001b[0;31m                 \u001b[0mnew_axis\u001b[0m \u001b[0;34m=\u001b[0m \u001b[0maxis\u001b[0m\u001b[0;34m.\u001b[0m\u001b[0mdrop\u001b[0m\u001b[0;34m(\u001b[0m\u001b[0mlabels\u001b[0m\u001b[0;34m,\u001b[0m \u001b[0merrors\u001b[0m\u001b[0;34m=\u001b[0m\u001b[0merrors\u001b[0m\u001b[0;34m)\u001b[0m\u001b[0;34m\u001b[0m\u001b[0;34m\u001b[0m\u001b[0m\n\u001b[0m\u001b[1;32m   3922\u001b[0m             \u001b[0mresult\u001b[0m \u001b[0;34m=\u001b[0m \u001b[0mself\u001b[0m\u001b[0;34m.\u001b[0m\u001b[0mreindex\u001b[0m\u001b[0;34m(\u001b[0m\u001b[0;34m**\u001b[0m\u001b[0;34m{\u001b[0m\u001b[0maxis_name\u001b[0m\u001b[0;34m:\u001b[0m \u001b[0mnew_axis\u001b[0m\u001b[0;34m}\u001b[0m\u001b[0;34m)\u001b[0m\u001b[0;34m\u001b[0m\u001b[0;34m\u001b[0m\u001b[0m\n\u001b[1;32m   3923\u001b[0m \u001b[0;34m\u001b[0m\u001b[0m\n",
            "\u001b[0;32m/usr/local/lib/python3.6/dist-packages/pandas/core/indexes/base.py\u001b[0m in \u001b[0;36mdrop\u001b[0;34m(self, labels, errors)\u001b[0m\n\u001b[1;32m   5282\u001b[0m         \u001b[0;32mif\u001b[0m \u001b[0mmask\u001b[0m\u001b[0;34m.\u001b[0m\u001b[0many\u001b[0m\u001b[0;34m(\u001b[0m\u001b[0;34m)\u001b[0m\u001b[0;34m:\u001b[0m\u001b[0;34m\u001b[0m\u001b[0;34m\u001b[0m\u001b[0m\n\u001b[1;32m   5283\u001b[0m             \u001b[0;32mif\u001b[0m \u001b[0merrors\u001b[0m \u001b[0;34m!=\u001b[0m \u001b[0;34m\"ignore\"\u001b[0m\u001b[0;34m:\u001b[0m\u001b[0;34m\u001b[0m\u001b[0;34m\u001b[0m\u001b[0m\n\u001b[0;32m-> 5284\u001b[0;31m                 \u001b[0;32mraise\u001b[0m \u001b[0mKeyError\u001b[0m\u001b[0;34m(\u001b[0m\u001b[0;34mf\"{labels[mask]} not found in axis\"\u001b[0m\u001b[0;34m)\u001b[0m\u001b[0;34m\u001b[0m\u001b[0;34m\u001b[0m\u001b[0m\n\u001b[0m\u001b[1;32m   5285\u001b[0m             \u001b[0mindexer\u001b[0m \u001b[0;34m=\u001b[0m \u001b[0mindexer\u001b[0m\u001b[0;34m[\u001b[0m\u001b[0;34m~\u001b[0m\u001b[0mmask\u001b[0m\u001b[0;34m]\u001b[0m\u001b[0;34m\u001b[0m\u001b[0;34m\u001b[0m\u001b[0m\n\u001b[1;32m   5286\u001b[0m         \u001b[0;32mreturn\u001b[0m \u001b[0mself\u001b[0m\u001b[0;34m.\u001b[0m\u001b[0mdelete\u001b[0m\u001b[0;34m(\u001b[0m\u001b[0mindexer\u001b[0m\u001b[0;34m)\u001b[0m\u001b[0;34m\u001b[0m\u001b[0;34m\u001b[0m\u001b[0m\n",
            "\u001b[0;31mKeyError\u001b[0m: \"['Unnamed: 0' 'Unnamed: 0.1' 'ID' 'Diagnosis' 'Treatment' 'Diagnosis'\\n 'Hemoglobin'] not found in axis\""
          ]
        }
      ]
    },
    {
      "cell_type": "code",
      "metadata": {
        "id": "3XHqkqlWlEXB"
      },
      "source": [
        "import tensorflow as tf\r\n",
        "from tensorflow import keras\r\n",
        "\r\n",
        "import os\r\n",
        "import tempfile\r\n",
        "\r\n",
        "import matplotlib as mpl\r\n",
        "import matplotlib.pyplot as plt\r\n",
        "import numpy as np\r\n",
        "import pandas as pd\r\n",
        "import seaborn as sns\r\n",
        "\r\n",
        "import sklearn\r\n",
        "from sklearn.metrics import confusion_matrix\r\n",
        "from sklearn.model_selection import train_test_split\r\n",
        "from sklearn.preprocessing import StandardScaler"
      ],
      "execution_count": null,
      "outputs": []
    },
    {
      "cell_type": "code",
      "metadata": {
        "id": "pSrvubwElHlJ"
      },
      "source": [
        "mpl.rcParams['figure.figsize'] = (12, 10)\r\n",
        "colors = plt.rcParams['axes.prop_cycle'].by_key()['color']"
      ],
      "execution_count": null,
      "outputs": []
    },
    {
      "cell_type": "code",
      "metadata": {
        "id": "7e4hfsk8lbF7"
      },
      "source": [
        "def ind_ab(x):\r\n",
        "  if x > .4:\r\n",
        "    return 1\r\n",
        "  else:\r\n",
        "    return 0"
      ],
      "execution_count": null,
      "outputs": []
    },
    {
      "cell_type": "code",
      "metadata": {
        "id": "8j1ffFUxlKFh"
      },
      "source": [
        "dataf['Ab_ind'] = dataf['Max_Procalcitonine'].apply(ind_ab)"
      ],
      "execution_count": null,
      "outputs": []
    },
    {
      "cell_type": "code",
      "metadata": {
        "colab": {
          "base_uri": "https://localhost:8080/"
        },
        "id": "OCcUiWh7lm_X",
        "outputId": "d0067d36-7b86-4bc7-fb36-00177849ce77"
      },
      "source": [
        "dataf['Ab_ind'].value_counts()"
      ],
      "execution_count": null,
      "outputs": [
        {
          "output_type": "execute_result",
          "data": {
            "text/plain": [
              "0    1040\n",
              "1     128\n",
              "Name: Ab_ind, dtype: int64"
            ]
          },
          "metadata": {
            "tags": []
          },
          "execution_count": 30
        }
      ]
    },
    {
      "cell_type": "code",
      "metadata": {
        "id": "iGQOXRXZsj3W"
      },
      "source": [
        "dataf = dataf.drop(['Max_Procalcitonine', 'Initial_Procalcitonine'], axis=1)"
      ],
      "execution_count": null,
      "outputs": []
    },
    {
      "cell_type": "code",
      "metadata": {
        "id": "jSDd8rqSl0wx"
      },
      "source": [
        ""
      ],
      "execution_count": null,
      "outputs": []
    },
    {
      "cell_type": "code",
      "metadata": {
        "colab": {
          "base_uri": "https://localhost:8080/"
        },
        "id": "KbJvflK_luGh",
        "outputId": "c61bf354-0bd3-4903-e262-5ceabd1c42fc"
      },
      "source": [
        "neg, pos = np.bincount(dataf['Ab_ind'])\r\n",
        "total = neg + pos\r\n",
        "print('Examples:\\n    Total: {}\\n    Positive: {} ({:.2f}% of total)\\n'.format(\r\n",
        "    total, pos, 100 * pos / total))"
      ],
      "execution_count": null,
      "outputs": [
        {
          "output_type": "stream",
          "text": [
            "Examples:\n",
            "    Total: 1168\n",
            "    Positive: 128 (10.96% of total)\n",
            "\n"
          ],
          "name": "stdout"
        }
      ]
    },
    {
      "cell_type": "code",
      "metadata": {
        "colab": {
          "base_uri": "https://localhost:8080/",
          "height": 354
        },
        "id": "NQbhB70XmLqr",
        "outputId": "cf9d7eb1-9a38-438a-911d-6682bc5a9511"
      },
      "source": [
        "dataf[['Max_Platlets', 'Min_Platlets', 'Max_Leucocytes', 'Min_Leucocytes',\r\n",
        "        'Max_Creatinine', 'Min_Cratinine', 'Gender',\r\n",
        "       'initial_CRP', 'Max_CRP',  'Severity', 'IHD', 'COPD',\r\n",
        "       'Bronchial_asthma', 'Obesity', 'Diabetes', 'RF', 'ALT', 'AST', 'Age',\r\n",
        "       'Ab_ind']].describe"
      ],
      "execution_count": null,
      "outputs": [
        {
          "output_type": "error",
          "ename": "KeyError",
          "evalue": "ignored",
          "traceback": [
            "\u001b[0;31m---------------------------------------------------------------------------\u001b[0m",
            "\u001b[0;31mKeyError\u001b[0m                                  Traceback (most recent call last)",
            "\u001b[0;32m<ipython-input-33-9e9a91df9bb0>\u001b[0m in \u001b[0;36m<module>\u001b[0;34m()\u001b[0m\n\u001b[1;32m      3\u001b[0m        \u001b[0;34m'initial_CRP'\u001b[0m\u001b[0;34m,\u001b[0m \u001b[0;34m'Max_CRP'\u001b[0m\u001b[0;34m,\u001b[0m  \u001b[0;34m'Severity'\u001b[0m\u001b[0;34m,\u001b[0m \u001b[0;34m'IHD'\u001b[0m\u001b[0;34m,\u001b[0m \u001b[0;34m'COPD'\u001b[0m\u001b[0;34m,\u001b[0m\u001b[0;34m\u001b[0m\u001b[0;34m\u001b[0m\u001b[0m\n\u001b[1;32m      4\u001b[0m        \u001b[0;34m'Bronchial_asthma'\u001b[0m\u001b[0;34m,\u001b[0m \u001b[0;34m'Obesity'\u001b[0m\u001b[0;34m,\u001b[0m \u001b[0;34m'Diabetes'\u001b[0m\u001b[0;34m,\u001b[0m \u001b[0;34m'RF'\u001b[0m\u001b[0;34m,\u001b[0m \u001b[0;34m'ALT'\u001b[0m\u001b[0;34m,\u001b[0m \u001b[0;34m'AST'\u001b[0m\u001b[0;34m,\u001b[0m \u001b[0;34m'Age'\u001b[0m\u001b[0;34m,\u001b[0m\u001b[0;34m\u001b[0m\u001b[0;34m\u001b[0m\u001b[0m\n\u001b[0;32m----> 5\u001b[0;31m        'Ab_ind']].describe\n\u001b[0m",
            "\u001b[0;32m/usr/local/lib/python3.6/dist-packages/pandas/core/frame.py\u001b[0m in \u001b[0;36m__getitem__\u001b[0;34m(self, key)\u001b[0m\n\u001b[1;32m   2910\u001b[0m             \u001b[0;32mif\u001b[0m \u001b[0mis_iterator\u001b[0m\u001b[0;34m(\u001b[0m\u001b[0mkey\u001b[0m\u001b[0;34m)\u001b[0m\u001b[0;34m:\u001b[0m\u001b[0;34m\u001b[0m\u001b[0;34m\u001b[0m\u001b[0m\n\u001b[1;32m   2911\u001b[0m                 \u001b[0mkey\u001b[0m \u001b[0;34m=\u001b[0m \u001b[0mlist\u001b[0m\u001b[0;34m(\u001b[0m\u001b[0mkey\u001b[0m\u001b[0;34m)\u001b[0m\u001b[0;34m\u001b[0m\u001b[0;34m\u001b[0m\u001b[0m\n\u001b[0;32m-> 2912\u001b[0;31m             \u001b[0mindexer\u001b[0m \u001b[0;34m=\u001b[0m \u001b[0mself\u001b[0m\u001b[0;34m.\u001b[0m\u001b[0mloc\u001b[0m\u001b[0;34m.\u001b[0m\u001b[0m_get_listlike_indexer\u001b[0m\u001b[0;34m(\u001b[0m\u001b[0mkey\u001b[0m\u001b[0;34m,\u001b[0m \u001b[0maxis\u001b[0m\u001b[0;34m=\u001b[0m\u001b[0;36m1\u001b[0m\u001b[0;34m,\u001b[0m \u001b[0mraise_missing\u001b[0m\u001b[0;34m=\u001b[0m\u001b[0;32mTrue\u001b[0m\u001b[0;34m)\u001b[0m\u001b[0;34m[\u001b[0m\u001b[0;36m1\u001b[0m\u001b[0;34m]\u001b[0m\u001b[0;34m\u001b[0m\u001b[0;34m\u001b[0m\u001b[0m\n\u001b[0m\u001b[1;32m   2913\u001b[0m \u001b[0;34m\u001b[0m\u001b[0m\n\u001b[1;32m   2914\u001b[0m         \u001b[0;31m# take() does not accept boolean indexers\u001b[0m\u001b[0;34m\u001b[0m\u001b[0;34m\u001b[0m\u001b[0;34m\u001b[0m\u001b[0m\n",
            "\u001b[0;32m/usr/local/lib/python3.6/dist-packages/pandas/core/indexing.py\u001b[0m in \u001b[0;36m_get_listlike_indexer\u001b[0;34m(self, key, axis, raise_missing)\u001b[0m\n\u001b[1;32m   1252\u001b[0m             \u001b[0mkeyarr\u001b[0m\u001b[0;34m,\u001b[0m \u001b[0mindexer\u001b[0m\u001b[0;34m,\u001b[0m \u001b[0mnew_indexer\u001b[0m \u001b[0;34m=\u001b[0m \u001b[0max\u001b[0m\u001b[0;34m.\u001b[0m\u001b[0m_reindex_non_unique\u001b[0m\u001b[0;34m(\u001b[0m\u001b[0mkeyarr\u001b[0m\u001b[0;34m)\u001b[0m\u001b[0;34m\u001b[0m\u001b[0;34m\u001b[0m\u001b[0m\n\u001b[1;32m   1253\u001b[0m \u001b[0;34m\u001b[0m\u001b[0m\n\u001b[0;32m-> 1254\u001b[0;31m         \u001b[0mself\u001b[0m\u001b[0;34m.\u001b[0m\u001b[0m_validate_read_indexer\u001b[0m\u001b[0;34m(\u001b[0m\u001b[0mkeyarr\u001b[0m\u001b[0;34m,\u001b[0m \u001b[0mindexer\u001b[0m\u001b[0;34m,\u001b[0m \u001b[0maxis\u001b[0m\u001b[0;34m,\u001b[0m \u001b[0mraise_missing\u001b[0m\u001b[0;34m=\u001b[0m\u001b[0mraise_missing\u001b[0m\u001b[0;34m)\u001b[0m\u001b[0;34m\u001b[0m\u001b[0;34m\u001b[0m\u001b[0m\n\u001b[0m\u001b[1;32m   1255\u001b[0m         \u001b[0;32mreturn\u001b[0m \u001b[0mkeyarr\u001b[0m\u001b[0;34m,\u001b[0m \u001b[0mindexer\u001b[0m\u001b[0;34m\u001b[0m\u001b[0;34m\u001b[0m\u001b[0m\n\u001b[1;32m   1256\u001b[0m \u001b[0;34m\u001b[0m\u001b[0m\n",
            "\u001b[0;32m/usr/local/lib/python3.6/dist-packages/pandas/core/indexing.py\u001b[0m in \u001b[0;36m_validate_read_indexer\u001b[0;34m(self, key, indexer, axis, raise_missing)\u001b[0m\n\u001b[1;32m   1302\u001b[0m             \u001b[0;32mif\u001b[0m \u001b[0mraise_missing\u001b[0m\u001b[0;34m:\u001b[0m\u001b[0;34m\u001b[0m\u001b[0;34m\u001b[0m\u001b[0m\n\u001b[1;32m   1303\u001b[0m                 \u001b[0mnot_found\u001b[0m \u001b[0;34m=\u001b[0m \u001b[0mlist\u001b[0m\u001b[0;34m(\u001b[0m\u001b[0mset\u001b[0m\u001b[0;34m(\u001b[0m\u001b[0mkey\u001b[0m\u001b[0;34m)\u001b[0m \u001b[0;34m-\u001b[0m \u001b[0mset\u001b[0m\u001b[0;34m(\u001b[0m\u001b[0max\u001b[0m\u001b[0;34m)\u001b[0m\u001b[0;34m)\u001b[0m\u001b[0;34m\u001b[0m\u001b[0;34m\u001b[0m\u001b[0m\n\u001b[0;32m-> 1304\u001b[0;31m                 \u001b[0;32mraise\u001b[0m \u001b[0mKeyError\u001b[0m\u001b[0;34m(\u001b[0m\u001b[0;34mf\"{not_found} not in index\"\u001b[0m\u001b[0;34m)\u001b[0m\u001b[0;34m\u001b[0m\u001b[0;34m\u001b[0m\u001b[0m\n\u001b[0m\u001b[1;32m   1305\u001b[0m \u001b[0;34m\u001b[0m\u001b[0m\n\u001b[1;32m   1306\u001b[0m             \u001b[0;31m# we skip the warning on Categorical\u001b[0m\u001b[0;34m\u001b[0m\u001b[0;34m\u001b[0m\u001b[0;34m\u001b[0m\u001b[0m\n",
            "\u001b[0;31mKeyError\u001b[0m: \"['Gender', 'RF'] not in index\""
          ]
        }
      ]
    },
    {
      "cell_type": "code",
      "metadata": {
        "id": "EvN7dvZjmDog"
      },
      "source": [
        "cleaned_df = dataf.copy()\r\n"
      ],
      "execution_count": null,
      "outputs": []
    },
    {
      "cell_type": "code",
      "metadata": {
        "id": "4SFoxaMrny3x",
        "colab": {
          "base_uri": "https://localhost:8080/",
          "height": 555
        },
        "outputId": "ebca4c1a-6602-46c2-a00e-f1edc556036e"
      },
      "source": [
        "cleaned_df['Gender'] = cleaned_df['Gender'].map({'male': 1, 'female': 0})"
      ],
      "execution_count": null,
      "outputs": [
        {
          "output_type": "error",
          "ename": "KeyError",
          "evalue": "ignored",
          "traceback": [
            "\u001b[0;31m---------------------------------------------------------------------------\u001b[0m",
            "\u001b[0;31mKeyError\u001b[0m                                  Traceback (most recent call last)",
            "\u001b[0;32m/usr/local/lib/python3.6/dist-packages/pandas/core/indexes/base.py\u001b[0m in \u001b[0;36mget_loc\u001b[0;34m(self, key, method, tolerance)\u001b[0m\n\u001b[1;32m   2894\u001b[0m             \u001b[0;32mtry\u001b[0m\u001b[0;34m:\u001b[0m\u001b[0;34m\u001b[0m\u001b[0;34m\u001b[0m\u001b[0m\n\u001b[0;32m-> 2895\u001b[0;31m                 \u001b[0;32mreturn\u001b[0m \u001b[0mself\u001b[0m\u001b[0;34m.\u001b[0m\u001b[0m_engine\u001b[0m\u001b[0;34m.\u001b[0m\u001b[0mget_loc\u001b[0m\u001b[0;34m(\u001b[0m\u001b[0mcasted_key\u001b[0m\u001b[0;34m)\u001b[0m\u001b[0;34m\u001b[0m\u001b[0;34m\u001b[0m\u001b[0m\n\u001b[0m\u001b[1;32m   2896\u001b[0m             \u001b[0;32mexcept\u001b[0m \u001b[0mKeyError\u001b[0m \u001b[0;32mas\u001b[0m \u001b[0merr\u001b[0m\u001b[0;34m:\u001b[0m\u001b[0;34m\u001b[0m\u001b[0;34m\u001b[0m\u001b[0m\n",
            "\u001b[0;32mpandas/_libs/index.pyx\u001b[0m in \u001b[0;36mpandas._libs.index.IndexEngine.get_loc\u001b[0;34m()\u001b[0m\n",
            "\u001b[0;32mpandas/_libs/index.pyx\u001b[0m in \u001b[0;36mpandas._libs.index.IndexEngine.get_loc\u001b[0;34m()\u001b[0m\n",
            "\u001b[0;32mpandas/_libs/hashtable_class_helper.pxi\u001b[0m in \u001b[0;36mpandas._libs.hashtable.PyObjectHashTable.get_item\u001b[0;34m()\u001b[0m\n",
            "\u001b[0;32mpandas/_libs/hashtable_class_helper.pxi\u001b[0m in \u001b[0;36mpandas._libs.hashtable.PyObjectHashTable.get_item\u001b[0;34m()\u001b[0m\n",
            "\u001b[0;31mKeyError\u001b[0m: 'Gender'",
            "\nThe above exception was the direct cause of the following exception:\n",
            "\u001b[0;31mKeyError\u001b[0m                                  Traceback (most recent call last)",
            "\u001b[0;32m<ipython-input-39-fdc3a3ee63ac>\u001b[0m in \u001b[0;36m<module>\u001b[0;34m()\u001b[0m\n\u001b[0;32m----> 1\u001b[0;31m \u001b[0mcleaned_df\u001b[0m\u001b[0;34m[\u001b[0m\u001b[0;34m'Gender'\u001b[0m\u001b[0;34m]\u001b[0m \u001b[0;34m=\u001b[0m \u001b[0mcleaned_df\u001b[0m\u001b[0;34m[\u001b[0m\u001b[0;34m'Gender'\u001b[0m\u001b[0;34m]\u001b[0m\u001b[0;34m.\u001b[0m\u001b[0mmap\u001b[0m\u001b[0;34m(\u001b[0m\u001b[0;34m{\u001b[0m\u001b[0;34m'male'\u001b[0m\u001b[0;34m:\u001b[0m \u001b[0;36m1\u001b[0m\u001b[0;34m,\u001b[0m \u001b[0;34m'female'\u001b[0m\u001b[0;34m:\u001b[0m \u001b[0;36m0\u001b[0m\u001b[0;34m}\u001b[0m\u001b[0;34m)\u001b[0m\u001b[0;34m\u001b[0m\u001b[0;34m\u001b[0m\u001b[0m\n\u001b[0m",
            "\u001b[0;32m/usr/local/lib/python3.6/dist-packages/pandas/core/frame.py\u001b[0m in \u001b[0;36m__getitem__\u001b[0;34m(self, key)\u001b[0m\n\u001b[1;32m   2904\u001b[0m             \u001b[0;32mif\u001b[0m \u001b[0mself\u001b[0m\u001b[0;34m.\u001b[0m\u001b[0mcolumns\u001b[0m\u001b[0;34m.\u001b[0m\u001b[0mnlevels\u001b[0m \u001b[0;34m>\u001b[0m \u001b[0;36m1\u001b[0m\u001b[0;34m:\u001b[0m\u001b[0;34m\u001b[0m\u001b[0;34m\u001b[0m\u001b[0m\n\u001b[1;32m   2905\u001b[0m                 \u001b[0;32mreturn\u001b[0m \u001b[0mself\u001b[0m\u001b[0;34m.\u001b[0m\u001b[0m_getitem_multilevel\u001b[0m\u001b[0;34m(\u001b[0m\u001b[0mkey\u001b[0m\u001b[0;34m)\u001b[0m\u001b[0;34m\u001b[0m\u001b[0;34m\u001b[0m\u001b[0m\n\u001b[0;32m-> 2906\u001b[0;31m             \u001b[0mindexer\u001b[0m \u001b[0;34m=\u001b[0m \u001b[0mself\u001b[0m\u001b[0;34m.\u001b[0m\u001b[0mcolumns\u001b[0m\u001b[0;34m.\u001b[0m\u001b[0mget_loc\u001b[0m\u001b[0;34m(\u001b[0m\u001b[0mkey\u001b[0m\u001b[0;34m)\u001b[0m\u001b[0;34m\u001b[0m\u001b[0;34m\u001b[0m\u001b[0m\n\u001b[0m\u001b[1;32m   2907\u001b[0m             \u001b[0;32mif\u001b[0m \u001b[0mis_integer\u001b[0m\u001b[0;34m(\u001b[0m\u001b[0mindexer\u001b[0m\u001b[0;34m)\u001b[0m\u001b[0;34m:\u001b[0m\u001b[0;34m\u001b[0m\u001b[0;34m\u001b[0m\u001b[0m\n\u001b[1;32m   2908\u001b[0m                 \u001b[0mindexer\u001b[0m \u001b[0;34m=\u001b[0m \u001b[0;34m[\u001b[0m\u001b[0mindexer\u001b[0m\u001b[0;34m]\u001b[0m\u001b[0;34m\u001b[0m\u001b[0;34m\u001b[0m\u001b[0m\n",
            "\u001b[0;32m/usr/local/lib/python3.6/dist-packages/pandas/core/indexes/base.py\u001b[0m in \u001b[0;36mget_loc\u001b[0;34m(self, key, method, tolerance)\u001b[0m\n\u001b[1;32m   2895\u001b[0m                 \u001b[0;32mreturn\u001b[0m \u001b[0mself\u001b[0m\u001b[0;34m.\u001b[0m\u001b[0m_engine\u001b[0m\u001b[0;34m.\u001b[0m\u001b[0mget_loc\u001b[0m\u001b[0;34m(\u001b[0m\u001b[0mcasted_key\u001b[0m\u001b[0;34m)\u001b[0m\u001b[0;34m\u001b[0m\u001b[0;34m\u001b[0m\u001b[0m\n\u001b[1;32m   2896\u001b[0m             \u001b[0;32mexcept\u001b[0m \u001b[0mKeyError\u001b[0m \u001b[0;32mas\u001b[0m \u001b[0merr\u001b[0m\u001b[0;34m:\u001b[0m\u001b[0;34m\u001b[0m\u001b[0;34m\u001b[0m\u001b[0m\n\u001b[0;32m-> 2897\u001b[0;31m                 \u001b[0;32mraise\u001b[0m \u001b[0mKeyError\u001b[0m\u001b[0;34m(\u001b[0m\u001b[0mkey\u001b[0m\u001b[0;34m)\u001b[0m \u001b[0;32mfrom\u001b[0m \u001b[0merr\u001b[0m\u001b[0;34m\u001b[0m\u001b[0;34m\u001b[0m\u001b[0m\n\u001b[0m\u001b[1;32m   2898\u001b[0m \u001b[0;34m\u001b[0m\u001b[0m\n\u001b[1;32m   2899\u001b[0m         \u001b[0;32mif\u001b[0m \u001b[0mtolerance\u001b[0m \u001b[0;32mis\u001b[0m \u001b[0;32mnot\u001b[0m \u001b[0;32mNone\u001b[0m\u001b[0;34m:\u001b[0m\u001b[0;34m\u001b[0m\u001b[0;34m\u001b[0m\u001b[0m\n",
            "\u001b[0;31mKeyError\u001b[0m: 'Gender'"
          ]
        }
      ]
    },
    {
      "cell_type": "code",
      "metadata": {
        "id": "sOlUyupK5Vya"
      },
      "source": [
        "cleaned_df= cleaned_df.drop(['Birthday',\r\n",
        "       'Admission', 'Discharge'], axis=1)"
      ],
      "execution_count": null,
      "outputs": []
    },
    {
      "cell_type": "code",
      "metadata": {
        "id": "_qgYpHwhnHw0"
      },
      "source": [
        "# Use a utility from sklearn to split and shuffle our dataset.\r\n",
        "train_df, test_df = train_test_split(cleaned_df, test_size=0.2)\r\n",
        "train_df, val_df = train_test_split(train_df, test_size=0.2)\r\n",
        "\r\n",
        "# Form np arrays of labels and features.\r\n",
        "train_labels = np.array(train_df.pop('Ab_ind'))\r\n",
        "bool_train_labels = train_labels != 0\r\n",
        "val_labels = np.array(val_df.pop('Ab_ind'))\r\n",
        "test_labels = np.array(test_df.pop('Ab_ind'))\r\n",
        "\r\n",
        "train_features = np.array(train_df)\r\n",
        "val_features = np.array(val_df)\r\n",
        "test_features = np.array(test_df)"
      ],
      "execution_count": null,
      "outputs": []
    },
    {
      "cell_type": "code",
      "metadata": {
        "colab": {
          "base_uri": "https://localhost:8080/"
        },
        "id": "5WW6qOQ0nQ88",
        "outputId": "35344c6d-6922-4c10-f0b5-02b186538e78"
      },
      "source": [
        "scaler = StandardScaler()\r\n",
        "train_features = scaler.fit_transform(train_features)\r\n",
        "\r\n",
        "val_features = scaler.transform(val_features)\r\n",
        "test_features = scaler.transform(test_features)\r\n",
        "\r\n",
        "train_features = np.clip(train_features, -5, 5)\r\n",
        "val_features = np.clip(val_features, -5, 5)\r\n",
        "test_features = np.clip(test_features, -5, 5)\r\n",
        "\r\n",
        "\r\n",
        "print('Training labels shape:', train_labels.shape)\r\n",
        "print('Validation labels shape:', val_labels.shape)\r\n",
        "print('Test labels shape:', test_labels.shape)\r\n",
        "\r\n",
        "print('Training features shape:', train_features.shape)\r\n",
        "print('Validation features shape:', val_features.shape)\r\n",
        "print('Test features shape:', test_features.shape)"
      ],
      "execution_count": null,
      "outputs": [
        {
          "output_type": "stream",
          "text": [
            "Training labels shape: (747,)\n",
            "Validation labels shape: (187,)\n",
            "Test labels shape: (234,)\n",
            "Training features shape: (747, 24)\n",
            "Validation features shape: (187, 24)\n",
            "Test features shape: (234, 24)\n"
          ],
          "name": "stdout"
        }
      ]
    },
    {
      "cell_type": "code",
      "metadata": {
        "id": "VbF05rZvoAT0"
      },
      "source": [
        "#cleaned_df = cleaned_df.drop(['Initial_Procalcitonine', 'Max_Procalcitonine'], axis=1)"
      ],
      "execution_count": null,
      "outputs": []
    },
    {
      "cell_type": "code",
      "metadata": {
        "colab": {
          "base_uri": "https://localhost:8080/",
          "height": 956
        },
        "id": "8bQsZuIqnWA5",
        "outputId": "c26228c7-df8e-40dd-ab41-3d7e86cbbfd7"
      },
      "source": [
        "pos_df = pd.DataFrame(train_features[ bool_train_labels], columns=train_df.columns)\r\n",
        "neg_df = pd.DataFrame(train_features[~bool_train_labels], columns=train_df.columns)\r\n",
        "\r\n",
        "sns.jointplot(pos_df['Max_Platlets'], pos_df['Max_Creatinine'],\r\n",
        "              kind='hex', xlim=(-5,5), ylim=(-5,5))\r\n",
        "plt.suptitle(\"Positive distribution\")\r\n",
        "\r\n",
        "sns.jointplot(neg_df['Max_Platlets'], neg_df['Max_Creatinine'],\r\n",
        "              kind='hex', xlim=(-5,5), ylim=(-5,5))\r\n",
        "_ = plt.suptitle(\"Negative distribution\")"
      ],
      "execution_count": null,
      "outputs": [
        {
          "output_type": "stream",
          "text": [
            "/usr/local/lib/python3.6/dist-packages/seaborn/_decorators.py:43: FutureWarning: Pass the following variables as keyword args: x, y. From version 0.12, the only valid positional argument will be `data`, and passing other arguments without an explicit keyword will result in an error or misinterpretation.\n",
            "  FutureWarning\n",
            "/usr/local/lib/python3.6/dist-packages/seaborn/_decorators.py:43: FutureWarning: Pass the following variables as keyword args: x, y. From version 0.12, the only valid positional argument will be `data`, and passing other arguments without an explicit keyword will result in an error or misinterpretation.\n",
            "  FutureWarning\n"
          ],
          "name": "stderr"
        },
        {
          "output_type": "display_data",
          "data": {
            "image/png": "[encoded data removed]",
            "text/plain": [
              "<Figure size 432x432 with 3 Axes>"
            ]
          },
          "metadata": {
            "tags": [],
            "needs_background": "light"
          }
        },
        {
          "output_type": "display_data",
          "data": {
            "image/png": "[encoded data removed]",
            "text/plain": [
              "<Figure size 432x432 with 3 Axes>"
            ]
          },
          "metadata": {
            "tags": [],
            "needs_background": "light"
          }
        }
      ]
    },
    {
      "cell_type": "code",
      "metadata": {
        "id": "GGMBRarJn6yi"
      },
      "source": [
        "METRICS = [\r\n",
        "      keras.metrics.TruePositives(name='tp'),\r\n",
        "      keras.metrics.FalsePositives(name='fp'),\r\n",
        "      keras.metrics.TrueNegatives(name='tn'),\r\n",
        "      keras.metrics.FalseNegatives(name='fn'), \r\n",
        "      keras.metrics.BinaryAccuracy(name='accuracy'),\r\n",
        "      keras.metrics.Precision(name='precision'),\r\n",
        "      keras.metrics.Recall(name='recall'),\r\n",
        "      keras.metrics.AUC(name='auc'),\r\n",
        "]\r\n",
        "\r\n",
        "def make_model(metrics=METRICS, output_bias=None):\r\n",
        "  if output_bias is not None:\r\n",
        "    output_bias = tf.keras.initializers.Constant(output_bias)\r\n",
        "  model = keras.Sequential([\r\n",
        "      keras.layers.Dense(\r\n",
        "          16, activation='relu',\r\n",
        "          input_shape=(train_features.shape[-1],)),\r\n",
        "      keras.layers.Dropout(0.5),\r\n",
        "      keras.layers.Dense(1, activation='sigmoid',\r\n",
        "                         bias_initializer=output_bias),\r\n",
        "  ])\r\n",
        "\r\n",
        "  model.compile(\r\n",
        "      optimizer=keras.optimizers.Adam(lr=1e-3),\r\n",
        "      loss=keras.losses.BinaryCrossentropy(),\r\n",
        "      metrics=metrics)\r\n",
        "\r\n",
        "  return model"
      ],
      "execution_count": null,
      "outputs": []
    },
    {
      "cell_type": "code",
      "metadata": {
        "id": "bXc6wlVxoULI"
      },
      "source": [
        "EPOCHS = 100\r\n",
        "BATCH_SIZE = 2048\r\n",
        "\r\n",
        "early_stopping = tf.keras.callbacks.EarlyStopping(\r\n",
        "    monitor='val_auc', \r\n",
        "    verbose=1,\r\n",
        "    patience=10,\r\n",
        "    mode='max',\r\n",
        "    restore_best_weights=True)"
      ],
      "execution_count": null,
      "outputs": []
    },
    {
      "cell_type": "code",
      "metadata": {
        "colab": {
          "base_uri": "https://localhost:8080/"
        },
        "id": "wG8XFqHZoXja",
        "outputId": "13738ed2-577f-48f6-9acc-6cb4af4e7608"
      },
      "source": [
        "model = make_model()\r\n",
        "model.summary()"
      ],
      "execution_count": null,
      "outputs": [
        {
          "output_type": "stream",
          "text": [
            "Model: \"sequential\"\n",
            "_________________________________________________________________\n",
            "Layer (type)                 Output Shape              Param #   \n",
            "=================================================================\n",
            "dense (Dense)                (None, 16)                400       \n",
            "_________________________________________________________________\n",
            "dropout (Dropout)            (None, 16)                0         \n",
            "_________________________________________________________________\n",
            "dense_1 (Dense)              (None, 1)                 17        \n",
            "=================================================================\n",
            "Total params: 417\n",
            "Trainable params: 417\n",
            "Non-trainable params: 0\n",
            "_________________________________________________________________\n"
          ],
          "name": "stdout"
        }
      ]
    },
    {
      "cell_type": "code",
      "metadata": {
        "colab": {
          "base_uri": "https://localhost:8080/"
        },
        "id": "SqWKsnfYoZhE",
        "outputId": "20a88c1d-9de1-4594-9bd3-462b991e69d3"
      },
      "source": [
        "results = model.evaluate(train_features, train_labels, batch_size=BATCH_SIZE, verbose=0)\r\n",
        "print(\"Loss: {:0.4f}\".format(results[0]))"
      ],
      "execution_count": null,
      "outputs": [
        {
          "output_type": "stream",
          "text": [
            "Loss: 1.5259\n"
          ],
          "name": "stdout"
        }
      ]
    },
    {
      "cell_type": "code",
      "metadata": {
        "colab": {
          "base_uri": "https://localhost:8080/"
        },
        "id": "g9cyMd0docU3",
        "outputId": "59bbf1a2-9a26-4726-c6b0-4ec6c53a9c9d"
      },
      "source": [
        "initial_bias = np.log([pos/neg])\r\n",
        "initial_bias"
      ],
      "execution_count": null,
      "outputs": [
        {
          "output_type": "execute_result",
          "data": {
            "text/plain": [
              "array([-2.09494573])"
            ]
          },
          "metadata": {
            "tags": []
          },
          "execution_count": 50
        }
      ]
    },
    {
      "cell_type": "code",
      "metadata": {
        "colab": {
          "base_uri": "https://localhost:8080/"
        },
        "id": "s4MRhi39ofKY",
        "outputId": "c93bee57-7d24-45b5-e630-9dbf53168d2b"
      },
      "source": [
        "model = make_model(output_bias=initial_bias)\r\n",
        "model.predict(train_features[:10])"
      ],
      "execution_count": null,
      "outputs": [
        {
          "output_type": "execute_result",
          "data": {
            "text/plain": [
              "array([[0.30420613],\n",
              "       [0.06222624],\n",
              "       [0.13896641],\n",
              "       [0.07917133],\n",
              "       [0.1169675 ],\n",
              "       [0.0526343 ],\n",
              "       [0.1283808 ],\n",
              "       [0.17574927],\n",
              "       [0.16101855],\n",
              "       [0.12161478]], dtype=float32)"
            ]
          },
          "metadata": {
            "tags": []
          },
          "execution_count": 51
        }
      ]
    },
    {
      "cell_type": "code",
      "metadata": {
        "colab": {
          "base_uri": "https://localhost:8080/"
        },
        "id": "RlDlBgPWohVd",
        "outputId": "027a7d0d-01a2-4024-b38a-7ac5d20604f2"
      },
      "source": [
        "results = model.evaluate(train_features, train_labels, batch_size=BATCH_SIZE, verbose=0)\r\n",
        "print(\"Loss: {:0.4f}\".format(results[0]))"
      ],
      "execution_count": null,
      "outputs": [
        {
          "output_type": "stream",
          "text": [
            "Loss: 0.3764\n"
          ],
          "name": "stdout"
        }
      ]
    },
    {
      "cell_type": "code",
      "metadata": {
        "id": "JzBFLTcNojtg"
      },
      "source": [
        "initial_weights = os.path.join(tempfile.mkdtemp(), 'initial_weights')\r\n",
        "model.save_weights(initial_weights)"
      ],
      "execution_count": null,
      "outputs": []
    },
    {
      "cell_type": "code",
      "metadata": {
        "id": "NKAqzCC2omT9"
      },
      "source": [
        "model = make_model()\r\n",
        "model.load_weights(initial_weights)\r\n",
        "model.layers[-1].bias.assign([0.0])\r\n",
        "zero_bias_history = model.fit(\r\n",
        "    train_features,\r\n",
        "    train_labels,\r\n",
        "    batch_size=BATCH_SIZE,\r\n",
        "    epochs=20,\r\n",
        "    validation_data=(val_features, val_labels), \r\n",
        "    verbose=0)"
      ],
      "execution_count": null,
      "outputs": []
    },
    {
      "cell_type": "code",
      "metadata": {
        "id": "Djaji_Fnoody"
      },
      "source": [
        "model = make_model()\r\n",
        "model.load_weights(initial_weights)\r\n",
        "careful_bias_history = model.fit(\r\n",
        "    train_features,\r\n",
        "    train_labels,\r\n",
        "    batch_size=BATCH_SIZE,\r\n",
        "    epochs=20,\r\n",
        "    validation_data=(val_features, val_labels), \r\n",
        "    verbose=0)"
      ],
      "execution_count": null,
      "outputs": []
    },
    {
      "cell_type": "code",
      "metadata": {
        "id": "sW60uyQ9ormJ"
      },
      "source": [
        "def plot_loss(history, label, n):\r\n",
        "  # Use a log scale on y-axis to show the wide range of values.\r\n",
        "  plt.semilogy(history.epoch, history.history['loss'],\r\n",
        "               color=colors[n], label='Train ' + label)\r\n",
        "  plt.semilogy(history.epoch, history.history['val_loss'],\r\n",
        "               color=colors[n], label='Val ' + label,\r\n",
        "               linestyle=\"--\")\r\n",
        "  plt.xlabel('Epoch')\r\n",
        "  plt.ylabel('Loss')"
      ],
      "execution_count": null,
      "outputs": []
    },
    {
      "cell_type": "code",
      "metadata": {
        "colab": {
          "base_uri": "https://localhost:8080/",
          "height": 606
        },
        "id": "nrCKyt8Eovb6",
        "outputId": "b84b22cd-c423-4bd9-a31f-ef10afa3dc6e"
      },
      "source": [
        "plot_loss(zero_bias_history, \"Zero Bias\", 0)\r\n",
        "plot_loss(careful_bias_history, \"Careful Bias\", 1)"
      ],
      "execution_count": null,
      "outputs": [
        {
          "output_type": "display_data",
          "data": {
            "image/png": "[encoded data removed]",
            "text/plain": [
              "<Figure size 864x720 with 1 Axes>"
            ]
          },
          "metadata": {
            "tags": [],
            "needs_background": "light"
          }
        }
      ]
    },
    {
      "cell_type": "code",
      "metadata": {
        "colab": {
          "base_uri": "https://localhost:8080/"
        },
        "id": "EmhaWEC9oxLF",
        "outputId": "2adc4a3f-d413-44e1-fd1c-3de1128ea9e1"
      },
      "source": [
        "model = make_model()\r\n",
        "model.load_weights(initial_weights)\r\n",
        "baseline_history = model.fit(\r\n",
        "    train_features,\r\n",
        "    train_labels,\r\n",
        "    batch_size=BATCH_SIZE,\r\n",
        "    epochs=EPOCHS,\r\n",
        "    callbacks=[early_stopping],\r\n",
        "    validation_data=(val_features, val_labels))"
      ],
      "execution_count": null,
      "outputs": [
        {
          "output_type": "stream",
          "text": [
            "Epoch 1/100\n",
            "1/1 [==============================] - 2s 2s/step - loss: 0.4363 - tp: 0.0000e+00 - fp: 32.0000 - tn: 795.0000 - fn: 107.0000 - accuracy: 0.8512 - precision: 0.0000e+00 - recall: 0.0000e+00 - auc: 0.4788 - val_loss: 0.4087 - val_tp: 0.0000e+00 - val_fp: 0.0000e+00 - val_tn: 164.0000 - val_fn: 23.0000 - val_accuracy: 0.8770 - val_precision: 0.0000e+00 - val_recall: 0.0000e+00 - val_auc: 0.4576\n",
            "Epoch 2/100\n",
            "1/1 [==============================] - 0s 58ms/step - loss: 0.4220 - tp: 0.0000e+00 - fp: 26.0000 - tn: 637.0000 - fn: 84.0000 - accuracy: 0.8527 - precision: 0.0000e+00 - recall: 0.0000e+00 - auc: 0.5161 - val_loss: 0.4060 - val_tp: 0.0000e+00 - val_fp: 0.0000e+00 - val_tn: 164.0000 - val_fn: 23.0000 - val_accuracy: 0.8770 - val_precision: 0.0000e+00 - val_recall: 0.0000e+00 - val_auc: 0.4724\n",
            "Epoch 3/100\n",
            "1/1 [==============================] - 0s 49ms/step - loss: 0.4074 - tp: 0.0000e+00 - fp: 19.0000 - tn: 644.0000 - fn: 84.0000 - accuracy: 0.8621 - precision: 0.0000e+00 - recall: 0.0000e+00 - auc: 0.5234 - val_loss: 0.4033 - val_tp: 0.0000e+00 - val_fp: 0.0000e+00 - val_tn: 164.0000 - val_fn: 23.0000 - val_accuracy: 0.8770 - val_precision: 0.0000e+00 - val_recall: 0.0000e+00 - val_auc: 0.4780\n",
            "Epoch 4/100\n",
            "1/1 [==============================] - 0s 46ms/step - loss: 0.3998 - tp: 0.0000e+00 - fp: 17.0000 - tn: 646.0000 - fn: 84.0000 - accuracy: 0.8648 - precision: 0.0000e+00 - recall: 0.0000e+00 - auc: 0.5291 - val_loss: 0.4008 - val_tp: 0.0000e+00 - val_fp: 0.0000e+00 - val_tn: 164.0000 - val_fn: 23.0000 - val_accuracy: 0.8770 - val_precision: 0.0000e+00 - val_recall: 0.0000e+00 - val_auc: 0.4821\n",
            "Epoch 5/100\n",
            "1/1 [==============================] - 0s 48ms/step - loss: 0.4251 - tp: 0.0000e+00 - fp: 33.0000 - tn: 630.0000 - fn: 84.0000 - accuracy: 0.8434 - precision: 0.0000e+00 - recall: 0.0000e+00 - auc: 0.5099 - val_loss: 0.3983 - val_tp: 0.0000e+00 - val_fp: 0.0000e+00 - val_tn: 164.0000 - val_fn: 23.0000 - val_accuracy: 0.8770 - val_precision: 0.0000e+00 - val_recall: 0.0000e+00 - val_auc: 0.4898\n",
            "Epoch 6/100\n",
            "1/1 [==============================] - 0s 50ms/step - loss: 0.4074 - tp: 0.0000e+00 - fp: 34.0000 - tn: 629.0000 - fn: 84.0000 - accuracy: 0.8420 - precision: 0.0000e+00 - recall: 0.0000e+00 - auc: 0.5452 - val_loss: 0.3959 - val_tp: 0.0000e+00 - val_fp: 0.0000e+00 - val_tn: 164.0000 - val_fn: 23.0000 - val_accuracy: 0.8770 - val_precision: 0.0000e+00 - val_recall: 0.0000e+00 - val_auc: 0.5020\n",
            "Epoch 7/100\n",
            "1/1 [==============================] - 0s 48ms/step - loss: 0.3946 - tp: 0.0000e+00 - fp: 22.0000 - tn: 641.0000 - fn: 84.0000 - accuracy: 0.8581 - precision: 0.0000e+00 - recall: 0.0000e+00 - auc: 0.5527 - val_loss: 0.3934 - val_tp: 0.0000e+00 - val_fp: 0.0000e+00 - val_tn: 164.0000 - val_fn: 23.0000 - val_accuracy: 0.8770 - val_precision: 0.0000e+00 - val_recall: 0.0000e+00 - val_auc: 0.5142\n",
            "Epoch 8/100\n",
            "1/1 [==============================] - 0s 51ms/step - loss: 0.4102 - tp: 0.0000e+00 - fp: 21.0000 - tn: 642.0000 - fn: 84.0000 - accuracy: 0.8594 - precision: 0.0000e+00 - recall: 0.0000e+00 - auc: 0.5187 - val_loss: 0.3910 - val_tp: 0.0000e+00 - val_fp: 0.0000e+00 - val_tn: 164.0000 - val_fn: 23.0000 - val_accuracy: 0.8770 - val_precision: 0.0000e+00 - val_recall: 0.0000e+00 - val_auc: 0.5171\n",
            "Epoch 9/100\n",
            "1/1 [==============================] - 0s 47ms/step - loss: 0.3744 - tp: 0.0000e+00 - fp: 22.0000 - tn: 641.0000 - fn: 84.0000 - accuracy: 0.8581 - precision: 0.0000e+00 - recall: 0.0000e+00 - auc: 0.6053 - val_loss: 0.3886 - val_tp: 0.0000e+00 - val_fp: 0.0000e+00 - val_tn: 164.0000 - val_fn: 23.0000 - val_accuracy: 0.8770 - val_precision: 0.0000e+00 - val_recall: 0.0000e+00 - val_auc: 0.5217\n",
            "Epoch 10/100\n",
            "1/1 [==============================] - 0s 51ms/step - loss: 0.4024 - tp: 0.0000e+00 - fp: 27.0000 - tn: 636.0000 - fn: 84.0000 - accuracy: 0.8514 - precision: 0.0000e+00 - recall: 0.0000e+00 - auc: 0.5514 - val_loss: 0.3863 - val_tp: 0.0000e+00 - val_fp: 0.0000e+00 - val_tn: 164.0000 - val_fn: 23.0000 - val_accuracy: 0.8770 - val_precision: 0.0000e+00 - val_recall: 0.0000e+00 - val_auc: 0.5305\n",
            "Epoch 11/100\n",
            "1/1 [==============================] - 0s 248ms/step - loss: 0.3989 - tp: 0.0000e+00 - fp: 34.0000 - tn: 629.0000 - fn: 84.0000 - accuracy: 0.8420 - precision: 0.0000e+00 - recall: 0.0000e+00 - auc: 0.5679 - val_loss: 0.3841 - val_tp: 0.0000e+00 - val_fp: 0.0000e+00 - val_tn: 164.0000 - val_fn: 23.0000 - val_accuracy: 0.8770 - val_precision: 0.0000e+00 - val_recall: 0.0000e+00 - val_auc: 0.5463\n",
            "Epoch 12/100\n",
            "1/1 [==============================] - 0s 48ms/step - loss: 0.3993 - tp: 0.0000e+00 - fp: 23.0000 - tn: 640.0000 - fn: 84.0000 - accuracy: 0.8568 - precision: 0.0000e+00 - recall: 0.0000e+00 - auc: 0.5333 - val_loss: 0.3820 - val_tp: 0.0000e+00 - val_fp: 0.0000e+00 - val_tn: 164.0000 - val_fn: 23.0000 - val_accuracy: 0.8770 - val_precision: 0.0000e+00 - val_recall: 0.0000e+00 - val_auc: 0.5502\n",
            "Epoch 13/100\n",
            "1/1 [==============================] - 0s 53ms/step - loss: 0.4040 - tp: 0.0000e+00 - fp: 23.0000 - tn: 640.0000 - fn: 84.0000 - accuracy: 0.8568 - precision: 0.0000e+00 - recall: 0.0000e+00 - auc: 0.5208 - val_loss: 0.3798 - val_tp: 0.0000e+00 - val_fp: 0.0000e+00 - val_tn: 164.0000 - val_fn: 23.0000 - val_accuracy: 0.8770 - val_precision: 0.0000e+00 - val_recall: 0.0000e+00 - val_auc: 0.5611\n",
            "Epoch 14/100\n",
            "1/1 [==============================] - 0s 49ms/step - loss: 0.3866 - tp: 0.0000e+00 - fp: 19.0000 - tn: 644.0000 - fn: 84.0000 - accuracy: 0.8621 - precision: 0.0000e+00 - recall: 0.0000e+00 - auc: 0.5813 - val_loss: 0.3778 - val_tp: 0.0000e+00 - val_fp: 0.0000e+00 - val_tn: 164.0000 - val_fn: 23.0000 - val_accuracy: 0.8770 - val_precision: 0.0000e+00 - val_recall: 0.0000e+00 - val_auc: 0.5754\n",
            "Epoch 15/100\n",
            "1/1 [==============================] - 0s 48ms/step - loss: 0.3885 - tp: 0.0000e+00 - fp: 26.0000 - tn: 637.0000 - fn: 84.0000 - accuracy: 0.8527 - precision: 0.0000e+00 - recall: 0.0000e+00 - auc: 0.5820 - val_loss: 0.3758 - val_tp: 0.0000e+00 - val_fp: 0.0000e+00 - val_tn: 164.0000 - val_fn: 23.0000 - val_accuracy: 0.8770 - val_precision: 0.0000e+00 - val_recall: 0.0000e+00 - val_auc: 0.5839\n",
            "Epoch 16/100\n",
            "1/1 [==============================] - 0s 55ms/step - loss: 0.3785 - tp: 0.0000e+00 - fp: 16.0000 - tn: 647.0000 - fn: 84.0000 - accuracy: 0.8661 - precision: 0.0000e+00 - recall: 0.0000e+00 - auc: 0.5915 - val_loss: 0.3738 - val_tp: 0.0000e+00 - val_fp: 0.0000e+00 - val_tn: 164.0000 - val_fn: 23.0000 - val_accuracy: 0.8770 - val_precision: 0.0000e+00 - val_recall: 0.0000e+00 - val_auc: 0.5908\n",
            "Epoch 17/100\n",
            "1/1 [==============================] - 0s 67ms/step - loss: 0.3753 - tp: 0.0000e+00 - fp: 20.0000 - tn: 643.0000 - fn: 84.0000 - accuracy: 0.8608 - precision: 0.0000e+00 - recall: 0.0000e+00 - auc: 0.6085 - val_loss: 0.3718 - val_tp: 0.0000e+00 - val_fp: 0.0000e+00 - val_tn: 164.0000 - val_fn: 23.0000 - val_accuracy: 0.8770 - val_precision: 0.0000e+00 - val_recall: 0.0000e+00 - val_auc: 0.5964\n",
            "Epoch 18/100\n",
            "1/1 [==============================] - 0s 55ms/step - loss: 0.3809 - tp: 0.0000e+00 - fp: 17.0000 - tn: 646.0000 - fn: 84.0000 - accuracy: 0.8648 - precision: 0.0000e+00 - recall: 0.0000e+00 - auc: 0.5635 - val_loss: 0.3698 - val_tp: 0.0000e+00 - val_fp: 0.0000e+00 - val_tn: 164.0000 - val_fn: 23.0000 - val_accuracy: 0.8770 - val_precision: 0.0000e+00 - val_recall: 0.0000e+00 - val_auc: 0.6051\n",
            "Epoch 19/100\n",
            "1/1 [==============================] - 0s 52ms/step - loss: 0.3675 - tp: 0.0000e+00 - fp: 17.0000 - tn: 646.0000 - fn: 84.0000 - accuracy: 0.8648 - precision: 0.0000e+00 - recall: 0.0000e+00 - auc: 0.6107 - val_loss: 0.3678 - val_tp: 0.0000e+00 - val_fp: 0.0000e+00 - val_tn: 164.0000 - val_fn: 23.0000 - val_accuracy: 0.8770 - val_precision: 0.0000e+00 - val_recall: 0.0000e+00 - val_auc: 0.6076\n",
            "Epoch 20/100\n",
            "1/1 [==============================] - 0s 54ms/step - loss: 0.3866 - tp: 0.0000e+00 - fp: 27.0000 - tn: 636.0000 - fn: 84.0000 - accuracy: 0.8514 - precision: 0.0000e+00 - recall: 0.0000e+00 - auc: 0.5745 - val_loss: 0.3659 - val_tp: 0.0000e+00 - val_fp: 0.0000e+00 - val_tn: 164.0000 - val_fn: 23.0000 - val_accuracy: 0.8770 - val_precision: 0.0000e+00 - val_recall: 0.0000e+00 - val_auc: 0.6100\n",
            "Epoch 21/100\n",
            "1/1 [==============================] - 0s 54ms/step - loss: 0.3807 - tp: 0.0000e+00 - fp: 20.0000 - tn: 643.0000 - fn: 84.0000 - accuracy: 0.8608 - precision: 0.0000e+00 - recall: 0.0000e+00 - auc: 0.5889 - val_loss: 0.3639 - val_tp: 0.0000e+00 - val_fp: 0.0000e+00 - val_tn: 164.0000 - val_fn: 23.0000 - val_accuracy: 0.8770 - val_precision: 0.0000e+00 - val_recall: 0.0000e+00 - val_auc: 0.6359\n",
            "Epoch 22/100\n",
            "1/1 [==============================] - 0s 54ms/step - loss: 0.3661 - tp: 0.0000e+00 - fp: 16.0000 - tn: 647.0000 - fn: 84.0000 - accuracy: 0.8661 - precision: 0.0000e+00 - recall: 0.0000e+00 - auc: 0.6181 - val_loss: 0.3620 - val_tp: 0.0000e+00 - val_fp: 0.0000e+00 - val_tn: 164.0000 - val_fn: 23.0000 - val_accuracy: 0.8770 - val_precision: 0.0000e+00 - val_recall: 0.0000e+00 - val_auc: 0.6412\n",
            "Epoch 23/100\n",
            "1/1 [==============================] - 0s 60ms/step - loss: 0.3656 - tp: 0.0000e+00 - fp: 14.0000 - tn: 649.0000 - fn: 84.0000 - accuracy: 0.8688 - precision: 0.0000e+00 - recall: 0.0000e+00 - auc: 0.6032 - val_loss: 0.3601 - val_tp: 0.0000e+00 - val_fp: 0.0000e+00 - val_tn: 164.0000 - val_fn: 23.0000 - val_accuracy: 0.8770 - val_precision: 0.0000e+00 - val_recall: 0.0000e+00 - val_auc: 0.6436\n",
            "Epoch 24/100\n",
            "1/1 [==============================] - 0s 70ms/step - loss: 0.3697 - tp: 0.0000e+00 - fp: 12.0000 - tn: 651.0000 - fn: 84.0000 - accuracy: 0.8715 - precision: 0.0000e+00 - recall: 0.0000e+00 - auc: 0.5998 - val_loss: 0.3582 - val_tp: 0.0000e+00 - val_fp: 0.0000e+00 - val_tn: 164.0000 - val_fn: 23.0000 - val_accuracy: 0.8770 - val_precision: 0.0000e+00 - val_recall: 0.0000e+00 - val_auc: 0.6534\n",
            "Epoch 25/100\n",
            "1/1 [==============================] - 0s 51ms/step - loss: 0.3610 - tp: 0.0000e+00 - fp: 17.0000 - tn: 646.0000 - fn: 84.0000 - accuracy: 0.8648 - precision: 0.0000e+00 - recall: 0.0000e+00 - auc: 0.6579 - val_loss: 0.3564 - val_tp: 0.0000e+00 - val_fp: 0.0000e+00 - val_tn: 164.0000 - val_fn: 23.0000 - val_accuracy: 0.8770 - val_precision: 0.0000e+00 - val_recall: 0.0000e+00 - val_auc: 0.6527\n",
            "Epoch 26/100\n",
            "1/1 [==============================] - 0s 50ms/step - loss: 0.3622 - tp: 0.0000e+00 - fp: 13.0000 - tn: 650.0000 - fn: 84.0000 - accuracy: 0.8701 - precision: 0.0000e+00 - recall: 0.0000e+00 - auc: 0.6317 - val_loss: 0.3546 - val_tp: 0.0000e+00 - val_fp: 0.0000e+00 - val_tn: 164.0000 - val_fn: 23.0000 - val_accuracy: 0.8770 - val_precision: 0.0000e+00 - val_recall: 0.0000e+00 - val_auc: 0.6668\n",
            "Epoch 27/100\n",
            "1/1 [==============================] - 0s 50ms/step - loss: 0.3677 - tp: 0.0000e+00 - fp: 17.0000 - tn: 646.0000 - fn: 84.0000 - accuracy: 0.8648 - precision: 0.0000e+00 - recall: 0.0000e+00 - auc: 0.6293 - val_loss: 0.3528 - val_tp: 0.0000e+00 - val_fp: 0.0000e+00 - val_tn: 164.0000 - val_fn: 23.0000 - val_accuracy: 0.8770 - val_precision: 0.0000e+00 - val_recall: 0.0000e+00 - val_auc: 0.6786\n",
            "Epoch 28/100\n",
            "1/1 [==============================] - 0s 50ms/step - loss: 0.3597 - tp: 0.0000e+00 - fp: 11.0000 - tn: 652.0000 - fn: 84.0000 - accuracy: 0.8728 - precision: 0.0000e+00 - recall: 0.0000e+00 - auc: 0.6357 - val_loss: 0.3510 - val_tp: 0.0000e+00 - val_fp: 0.0000e+00 - val_tn: 164.0000 - val_fn: 23.0000 - val_accuracy: 0.8770 - val_precision: 0.0000e+00 - val_recall: 0.0000e+00 - val_auc: 0.6829\n",
            "Epoch 29/100\n",
            "1/1 [==============================] - 0s 46ms/step - loss: 0.3602 - tp: 1.0000 - fp: 15.0000 - tn: 648.0000 - fn: 83.0000 - accuracy: 0.8688 - precision: 0.0625 - recall: 0.0119 - auc: 0.6263 - val_loss: 0.3492 - val_tp: 0.0000e+00 - val_fp: 0.0000e+00 - val_tn: 164.0000 - val_fn: 23.0000 - val_accuracy: 0.8770 - val_precision: 0.0000e+00 - val_recall: 0.0000e+00 - val_auc: 0.6856\n",
            "Epoch 30/100\n",
            "1/1 [==============================] - 0s 63ms/step - loss: 0.3485 - tp: 0.0000e+00 - fp: 10.0000 - tn: 653.0000 - fn: 84.0000 - accuracy: 0.8742 - precision: 0.0000e+00 - recall: 0.0000e+00 - auc: 0.6378 - val_loss: 0.3475 - val_tp: 0.0000e+00 - val_fp: 0.0000e+00 - val_tn: 164.0000 - val_fn: 23.0000 - val_accuracy: 0.8770 - val_precision: 0.0000e+00 - val_recall: 0.0000e+00 - val_auc: 0.7031\n",
            "Epoch 31/100\n",
            "1/1 [==============================] - 0s 53ms/step - loss: 0.3487 - tp: 0.0000e+00 - fp: 9.0000 - tn: 654.0000 - fn: 84.0000 - accuracy: 0.8755 - precision: 0.0000e+00 - recall: 0.0000e+00 - auc: 0.6692 - val_loss: 0.3457 - val_tp: 0.0000e+00 - val_fp: 0.0000e+00 - val_tn: 164.0000 - val_fn: 23.0000 - val_accuracy: 0.8770 - val_precision: 0.0000e+00 - val_recall: 0.0000e+00 - val_auc: 0.7092\n",
            "Epoch 32/100\n",
            "1/1 [==============================] - 0s 51ms/step - loss: 0.3503 - tp: 0.0000e+00 - fp: 13.0000 - tn: 650.0000 - fn: 84.0000 - accuracy: 0.8701 - precision: 0.0000e+00 - recall: 0.0000e+00 - auc: 0.6563 - val_loss: 0.3440 - val_tp: 0.0000e+00 - val_fp: 0.0000e+00 - val_tn: 164.0000 - val_fn: 23.0000 - val_accuracy: 0.8770 - val_precision: 0.0000e+00 - val_recall: 0.0000e+00 - val_auc: 0.7105\n",
            "Epoch 33/100\n",
            "1/1 [==============================] - 0s 56ms/step - loss: 0.3400 - tp: 0.0000e+00 - fp: 13.0000 - tn: 650.0000 - fn: 84.0000 - accuracy: 0.8701 - precision: 0.0000e+00 - recall: 0.0000e+00 - auc: 0.6922 - val_loss: 0.3422 - val_tp: 0.0000e+00 - val_fp: 0.0000e+00 - val_tn: 164.0000 - val_fn: 23.0000 - val_accuracy: 0.8770 - val_precision: 0.0000e+00 - val_recall: 0.0000e+00 - val_auc: 0.7306\n",
            "Epoch 34/100\n",
            "1/1 [==============================] - 0s 47ms/step - loss: 0.3579 - tp: 0.0000e+00 - fp: 10.0000 - tn: 653.0000 - fn: 84.0000 - accuracy: 0.8742 - precision: 0.0000e+00 - recall: 0.0000e+00 - auc: 0.6409 - val_loss: 0.3405 - val_tp: 0.0000e+00 - val_fp: 0.0000e+00 - val_tn: 164.0000 - val_fn: 23.0000 - val_accuracy: 0.8770 - val_precision: 0.0000e+00 - val_recall: 0.0000e+00 - val_auc: 0.7354\n",
            "Epoch 35/100\n",
            "1/1 [==============================] - 0s 52ms/step - loss: 0.3398 - tp: 0.0000e+00 - fp: 11.0000 - tn: 652.0000 - fn: 84.0000 - accuracy: 0.8728 - precision: 0.0000e+00 - recall: 0.0000e+00 - auc: 0.6889 - val_loss: 0.3387 - val_tp: 0.0000e+00 - val_fp: 0.0000e+00 - val_tn: 164.0000 - val_fn: 23.0000 - val_accuracy: 0.8770 - val_precision: 0.0000e+00 - val_recall: 0.0000e+00 - val_auc: 0.7466\n",
            "Epoch 36/100\n",
            "1/1 [==============================] - 0s 47ms/step - loss: 0.3506 - tp: 0.0000e+00 - fp: 13.0000 - tn: 650.0000 - fn: 84.0000 - accuracy: 0.8701 - precision: 0.0000e+00 - recall: 0.0000e+00 - auc: 0.6651 - val_loss: 0.3370 - val_tp: 0.0000e+00 - val_fp: 0.0000e+00 - val_tn: 164.0000 - val_fn: 23.0000 - val_accuracy: 0.8770 - val_precision: 0.0000e+00 - val_recall: 0.0000e+00 - val_auc: 0.7450\n",
            "Epoch 37/100\n",
            "1/1 [==============================] - 0s 50ms/step - loss: 0.3526 - tp: 0.0000e+00 - fp: 10.0000 - tn: 653.0000 - fn: 84.0000 - accuracy: 0.8742 - precision: 0.0000e+00 - recall: 0.0000e+00 - auc: 0.6586 - val_loss: 0.3354 - val_tp: 0.0000e+00 - val_fp: 0.0000e+00 - val_tn: 164.0000 - val_fn: 23.0000 - val_accuracy: 0.8770 - val_precision: 0.0000e+00 - val_recall: 0.0000e+00 - val_auc: 0.7504\n",
            "Epoch 38/100\n",
            "1/1 [==============================] - 0s 54ms/step - loss: 0.3333 - tp: 0.0000e+00 - fp: 8.0000 - tn: 655.0000 - fn: 84.0000 - accuracy: 0.8768 - precision: 0.0000e+00 - recall: 0.0000e+00 - auc: 0.6960 - val_loss: 0.3337 - val_tp: 0.0000e+00 - val_fp: 0.0000e+00 - val_tn: 164.0000 - val_fn: 23.0000 - val_accuracy: 0.8770 - val_precision: 0.0000e+00 - val_recall: 0.0000e+00 - val_auc: 0.7561\n",
            "Epoch 39/100\n",
            "1/1 [==============================] - 0s 62ms/step - loss: 0.3451 - tp: 0.0000e+00 - fp: 9.0000 - tn: 654.0000 - fn: 84.0000 - accuracy: 0.8755 - precision: 0.0000e+00 - recall: 0.0000e+00 - auc: 0.6763 - val_loss: 0.3320 - val_tp: 0.0000e+00 - val_fp: 0.0000e+00 - val_tn: 164.0000 - val_fn: 23.0000 - val_accuracy: 0.8770 - val_precision: 0.0000e+00 - val_recall: 0.0000e+00 - val_auc: 0.7638\n",
            "Epoch 40/100\n",
            "1/1 [==============================] - 0s 53ms/step - loss: 0.3366 - tp: 0.0000e+00 - fp: 9.0000 - tn: 654.0000 - fn: 84.0000 - accuracy: 0.8755 - precision: 0.0000e+00 - recall: 0.0000e+00 - auc: 0.6965 - val_loss: 0.3303 - val_tp: 0.0000e+00 - val_fp: 0.0000e+00 - val_tn: 164.0000 - val_fn: 23.0000 - val_accuracy: 0.8770 - val_precision: 0.0000e+00 - val_recall: 0.0000e+00 - val_auc: 0.7716\n",
            "Epoch 41/100\n",
            "1/1 [==============================] - 0s 52ms/step - loss: 0.3351 - tp: 0.0000e+00 - fp: 5.0000 - tn: 658.0000 - fn: 84.0000 - accuracy: 0.8809 - precision: 0.0000e+00 - recall: 0.0000e+00 - auc: 0.6972 - val_loss: 0.3286 - val_tp: 0.0000e+00 - val_fp: 0.0000e+00 - val_tn: 164.0000 - val_fn: 23.0000 - val_accuracy: 0.8770 - val_precision: 0.0000e+00 - val_recall: 0.0000e+00 - val_auc: 0.7837\n",
            "Epoch 42/100\n",
            "1/1 [==============================] - 0s 52ms/step - loss: 0.3200 - tp: 1.0000 - fp: 9.0000 - tn: 654.0000 - fn: 83.0000 - accuracy: 0.8768 - precision: 0.1000 - recall: 0.0119 - auc: 0.7531 - val_loss: 0.3269 - val_tp: 0.0000e+00 - val_fp: 0.0000e+00 - val_tn: 164.0000 - val_fn: 23.0000 - val_accuracy: 0.8770 - val_precision: 0.0000e+00 - val_recall: 0.0000e+00 - val_auc: 0.7956\n",
            "Epoch 43/100\n",
            "1/1 [==============================] - 0s 51ms/step - loss: 0.3447 - tp: 2.0000 - fp: 3.0000 - tn: 660.0000 - fn: 82.0000 - accuracy: 0.8862 - precision: 0.4000 - recall: 0.0238 - auc: 0.6665 - val_loss: 0.3253 - val_tp: 0.0000e+00 - val_fp: 0.0000e+00 - val_tn: 164.0000 - val_fn: 23.0000 - val_accuracy: 0.8770 - val_precision: 0.0000e+00 - val_recall: 0.0000e+00 - val_auc: 0.7973\n",
            "Epoch 44/100\n",
            "1/1 [==============================] - 0s 60ms/step - loss: 0.3228 - tp: 3.0000 - fp: 7.0000 - tn: 656.0000 - fn: 81.0000 - accuracy: 0.8822 - precision: 0.3000 - recall: 0.0357 - auc: 0.7219 - val_loss: 0.3237 - val_tp: 0.0000e+00 - val_fp: 0.0000e+00 - val_tn: 164.0000 - val_fn: 23.0000 - val_accuracy: 0.8770 - val_precision: 0.0000e+00 - val_recall: 0.0000e+00 - val_auc: 0.8008\n",
            "Epoch 45/100\n",
            "1/1 [==============================] - 0s 67ms/step - loss: 0.3418 - tp: 1.0000 - fp: 5.0000 - tn: 658.0000 - fn: 83.0000 - accuracy: 0.8822 - precision: 0.1667 - recall: 0.0119 - auc: 0.6723 - val_loss: 0.3222 - val_tp: 0.0000e+00 - val_fp: 0.0000e+00 - val_tn: 164.0000 - val_fn: 23.0000 - val_accuracy: 0.8770 - val_precision: 0.0000e+00 - val_recall: 0.0000e+00 - val_auc: 0.8114\n",
            "Epoch 46/100\n",
            "1/1 [==============================] - 0s 59ms/step - loss: 0.3376 - tp: 1.0000 - fp: 8.0000 - tn: 655.0000 - fn: 83.0000 - accuracy: 0.8782 - precision: 0.1111 - recall: 0.0119 - auc: 0.6999 - val_loss: 0.3207 - val_tp: 0.0000e+00 - val_fp: 0.0000e+00 - val_tn: 164.0000 - val_fn: 23.0000 - val_accuracy: 0.8770 - val_precision: 0.0000e+00 - val_recall: 0.0000e+00 - val_auc: 0.8161\n",
            "Epoch 47/100\n",
            "1/1 [==============================] - 0s 50ms/step - loss: 0.3228 - tp: 2.0000 - fp: 3.0000 - tn: 660.0000 - fn: 82.0000 - accuracy: 0.8862 - precision: 0.4000 - recall: 0.0238 - auc: 0.7161 - val_loss: 0.3192 - val_tp: 0.0000e+00 - val_fp: 0.0000e+00 - val_tn: 164.0000 - val_fn: 23.0000 - val_accuracy: 0.8770 - val_precision: 0.0000e+00 - val_recall: 0.0000e+00 - val_auc: 0.8199\n",
            "Epoch 48/100\n",
            "1/1 [==============================] - 0s 57ms/step - loss: 0.3226 - tp: 0.0000e+00 - fp: 8.0000 - tn: 655.0000 - fn: 84.0000 - accuracy: 0.8768 - precision: 0.0000e+00 - recall: 0.0000e+00 - auc: 0.7446 - val_loss: 0.3177 - val_tp: 0.0000e+00 - val_fp: 0.0000e+00 - val_tn: 164.0000 - val_fn: 23.0000 - val_accuracy: 0.8770 - val_precision: 0.0000e+00 - val_recall: 0.0000e+00 - val_auc: 0.8253\n",
            "Epoch 49/100\n",
            "1/1 [==============================] - 0s 54ms/step - loss: 0.3292 - tp: 0.0000e+00 - fp: 2.0000 - tn: 661.0000 - fn: 84.0000 - accuracy: 0.8849 - precision: 0.0000e+00 - recall: 0.0000e+00 - auc: 0.7022 - val_loss: 0.3162 - val_tp: 0.0000e+00 - val_fp: 0.0000e+00 - val_tn: 164.0000 - val_fn: 23.0000 - val_accuracy: 0.8770 - val_precision: 0.0000e+00 - val_recall: 0.0000e+00 - val_auc: 0.8326\n",
            "Epoch 50/100\n",
            "1/1 [==============================] - 0s 53ms/step - loss: 0.3323 - tp: 0.0000e+00 - fp: 5.0000 - tn: 658.0000 - fn: 84.0000 - accuracy: 0.8809 - precision: 0.0000e+00 - recall: 0.0000e+00 - auc: 0.6965 - val_loss: 0.3146 - val_tp: 0.0000e+00 - val_fp: 0.0000e+00 - val_tn: 164.0000 - val_fn: 23.0000 - val_accuracy: 0.8770 - val_precision: 0.0000e+00 - val_recall: 0.0000e+00 - val_auc: 0.8444\n",
            "Epoch 51/100\n",
            "1/1 [==============================] - 0s 53ms/step - loss: 0.3268 - tp: 1.0000 - fp: 4.0000 - tn: 659.0000 - fn: 83.0000 - accuracy: 0.8835 - precision: 0.2000 - recall: 0.0119 - auc: 0.7130 - val_loss: 0.3132 - val_tp: 0.0000e+00 - val_fp: 0.0000e+00 - val_tn: 164.0000 - val_fn: 23.0000 - val_accuracy: 0.8770 - val_precision: 0.0000e+00 - val_recall: 0.0000e+00 - val_auc: 0.8465\n",
            "Epoch 52/100\n",
            "1/1 [==============================] - 0s 52ms/step - loss: 0.3213 - tp: 1.0000 - fp: 9.0000 - tn: 654.0000 - fn: 83.0000 - accuracy: 0.8768 - precision: 0.1000 - recall: 0.0119 - auc: 0.7411 - val_loss: 0.3118 - val_tp: 0.0000e+00 - val_fp: 0.0000e+00 - val_tn: 164.0000 - val_fn: 23.0000 - val_accuracy: 0.8770 - val_precision: 0.0000e+00 - val_recall: 0.0000e+00 - val_auc: 0.8501\n",
            "Epoch 53/100\n",
            "1/1 [==============================] - 0s 63ms/step - loss: 0.3196 - tp: 2.0000 - fp: 5.0000 - tn: 658.0000 - fn: 82.0000 - accuracy: 0.8835 - precision: 0.2857 - recall: 0.0238 - auc: 0.7328 - val_loss: 0.3104 - val_tp: 0.0000e+00 - val_fp: 0.0000e+00 - val_tn: 164.0000 - val_fn: 23.0000 - val_accuracy: 0.8770 - val_precision: 0.0000e+00 - val_recall: 0.0000e+00 - val_auc: 0.8549\n",
            "Epoch 54/100\n",
            "1/1 [==============================] - 0s 62ms/step - loss: 0.3114 - tp: 0.0000e+00 - fp: 2.0000 - tn: 661.0000 - fn: 84.0000 - accuracy: 0.8849 - precision: 0.0000e+00 - recall: 0.0000e+00 - auc: 0.7687 - val_loss: 0.3090 - val_tp: 0.0000e+00 - val_fp: 0.0000e+00 - val_tn: 164.0000 - val_fn: 23.0000 - val_accuracy: 0.8770 - val_precision: 0.0000e+00 - val_recall: 0.0000e+00 - val_auc: 0.8586\n",
            "Epoch 55/100\n",
            "1/1 [==============================] - 0s 56ms/step - loss: 0.3182 - tp: 1.0000 - fp: 5.0000 - tn: 658.0000 - fn: 83.0000 - accuracy: 0.8822 - precision: 0.1667 - recall: 0.0119 - auc: 0.7384 - val_loss: 0.3076 - val_tp: 0.0000e+00 - val_fp: 0.0000e+00 - val_tn: 164.0000 - val_fn: 23.0000 - val_accuracy: 0.8770 - val_precision: 0.0000e+00 - val_recall: 0.0000e+00 - val_auc: 0.8631\n",
            "Epoch 56/100\n",
            "1/1 [==============================] - 0s 55ms/step - loss: 0.3074 - tp: 1.0000 - fp: 2.0000 - tn: 661.0000 - fn: 83.0000 - accuracy: 0.8862 - precision: 0.3333 - recall: 0.0119 - auc: 0.7658 - val_loss: 0.3062 - val_tp: 0.0000e+00 - val_fp: 0.0000e+00 - val_tn: 164.0000 - val_fn: 23.0000 - val_accuracy: 0.8770 - val_precision: 0.0000e+00 - val_recall: 0.0000e+00 - val_auc: 0.8685\n",
            "Epoch 57/100\n",
            "1/1 [==============================] - 0s 54ms/step - loss: 0.3061 - tp: 1.0000 - fp: 2.0000 - tn: 661.0000 - fn: 83.0000 - accuracy: 0.8862 - precision: 0.3333 - recall: 0.0119 - auc: 0.7815 - val_loss: 0.3048 - val_tp: 0.0000e+00 - val_fp: 0.0000e+00 - val_tn: 164.0000 - val_fn: 23.0000 - val_accuracy: 0.8770 - val_precision: 0.0000e+00 - val_recall: 0.0000e+00 - val_auc: 0.8696\n",
            "Epoch 58/100\n",
            "1/1 [==============================] - 0s 71ms/step - loss: 0.3209 - tp: 0.0000e+00 - fp: 9.0000 - tn: 654.0000 - fn: 84.0000 - accuracy: 0.8755 - precision: 0.0000e+00 - recall: 0.0000e+00 - auc: 0.7234 - val_loss: 0.3035 - val_tp: 0.0000e+00 - val_fp: 0.0000e+00 - val_tn: 164.0000 - val_fn: 23.0000 - val_accuracy: 0.8770 - val_precision: 0.0000e+00 - val_recall: 0.0000e+00 - val_auc: 0.8788\n",
            "Epoch 59/100\n",
            "1/1 [==============================] - 0s 58ms/step - loss: 0.3179 - tp: 1.0000 - fp: 5.0000 - tn: 658.0000 - fn: 83.0000 - accuracy: 0.8822 - precision: 0.1667 - recall: 0.0119 - auc: 0.7469 - val_loss: 0.3021 - val_tp: 0.0000e+00 - val_fp: 0.0000e+00 - val_tn: 164.0000 - val_fn: 23.0000 - val_accuracy: 0.8770 - val_precision: 0.0000e+00 - val_recall: 0.0000e+00 - val_auc: 0.8784\n",
            "Epoch 60/100\n",
            "1/1 [==============================] - 0s 68ms/step - loss: 0.3113 - tp: 0.0000e+00 - fp: 6.0000 - tn: 657.0000 - fn: 84.0000 - accuracy: 0.8795 - precision: 0.0000e+00 - recall: 0.0000e+00 - auc: 0.7515 - val_loss: 0.3007 - val_tp: 0.0000e+00 - val_fp: 0.0000e+00 - val_tn: 164.0000 - val_fn: 23.0000 - val_accuracy: 0.8770 - val_precision: 0.0000e+00 - val_recall: 0.0000e+00 - val_auc: 0.8880\n",
            "Epoch 61/100\n",
            "1/1 [==============================] - 0s 48ms/step - loss: 0.3058 - tp: 1.0000 - fp: 5.0000 - tn: 658.0000 - fn: 83.0000 - accuracy: 0.8822 - precision: 0.1667 - recall: 0.0119 - auc: 0.7773 - val_loss: 0.2994 - val_tp: 0.0000e+00 - val_fp: 0.0000e+00 - val_tn: 164.0000 - val_fn: 23.0000 - val_accuracy: 0.8770 - val_precision: 0.0000e+00 - val_recall: 0.0000e+00 - val_auc: 0.8926\n",
            "Epoch 62/100\n",
            "1/1 [==============================] - 0s 54ms/step - loss: 0.3242 - tp: 3.0000 - fp: 7.0000 - tn: 656.0000 - fn: 81.0000 - accuracy: 0.8822 - precision: 0.3000 - recall: 0.0357 - auc: 0.7294 - val_loss: 0.2980 - val_tp: 0.0000e+00 - val_fp: 0.0000e+00 - val_tn: 164.0000 - val_fn: 23.0000 - val_accuracy: 0.8770 - val_precision: 0.0000e+00 - val_recall: 0.0000e+00 - val_auc: 0.8973\n",
            "Epoch 63/100\n",
            "1/1 [==============================] - 0s 50ms/step - loss: 0.3154 - tp: 0.0000e+00 - fp: 2.0000 - tn: 661.0000 - fn: 84.0000 - accuracy: 0.8849 - precision: 0.0000e+00 - recall: 0.0000e+00 - auc: 0.7508 - val_loss: 0.2967 - val_tp: 0.0000e+00 - val_fp: 0.0000e+00 - val_tn: 164.0000 - val_fn: 23.0000 - val_accuracy: 0.8770 - val_precision: 0.0000e+00 - val_recall: 0.0000e+00 - val_auc: 0.9032\n",
            "Epoch 64/100\n",
            "1/1 [==============================] - 0s 61ms/step - loss: 0.3110 - tp: 2.0000 - fp: 5.0000 - tn: 658.0000 - fn: 82.0000 - accuracy: 0.8835 - precision: 0.2857 - recall: 0.0238 - auc: 0.7533 - val_loss: 0.2954 - val_tp: 0.0000e+00 - val_fp: 0.0000e+00 - val_tn: 164.0000 - val_fn: 23.0000 - val_accuracy: 0.8770 - val_precision: 0.0000e+00 - val_recall: 0.0000e+00 - val_auc: 0.9069\n",
            "Epoch 65/100\n",
            "1/1 [==============================] - 0s 61ms/step - loss: 0.3100 - tp: 0.0000e+00 - fp: 4.0000 - tn: 659.0000 - fn: 84.0000 - accuracy: 0.8822 - precision: 0.0000e+00 - recall: 0.0000e+00 - auc: 0.7538 - val_loss: 0.2941 - val_tp: 0.0000e+00 - val_fp: 0.0000e+00 - val_tn: 164.0000 - val_fn: 23.0000 - val_accuracy: 0.8770 - val_precision: 0.0000e+00 - val_recall: 0.0000e+00 - val_auc: 0.9137\n",
            "Epoch 66/100\n",
            "1/1 [==============================] - 0s 57ms/step - loss: 0.3016 - tp: 1.0000 - fp: 3.0000 - tn: 660.0000 - fn: 83.0000 - accuracy: 0.8849 - precision: 0.2500 - recall: 0.0119 - auc: 0.7865 - val_loss: 0.2928 - val_tp: 0.0000e+00 - val_fp: 0.0000e+00 - val_tn: 164.0000 - val_fn: 23.0000 - val_accuracy: 0.8770 - val_precision: 0.0000e+00 - val_recall: 0.0000e+00 - val_auc: 0.9137\n",
            "Epoch 67/100\n",
            "1/1 [==============================] - 0s 57ms/step - loss: 0.2899 - tp: 2.0000 - fp: 2.0000 - tn: 661.0000 - fn: 82.0000 - accuracy: 0.8876 - precision: 0.5000 - recall: 0.0238 - auc: 0.8109 - val_loss: 0.2916 - val_tp: 0.0000e+00 - val_fp: 0.0000e+00 - val_tn: 164.0000 - val_fn: 23.0000 - val_accuracy: 0.8770 - val_precision: 0.0000e+00 - val_recall: 0.0000e+00 - val_auc: 0.9125\n",
            "Epoch 68/100\n",
            "1/1 [==============================] - 0s 65ms/step - loss: 0.3161 - tp: 1.0000 - fp: 7.0000 - tn: 656.0000 - fn: 83.0000 - accuracy: 0.8795 - precision: 0.1250 - recall: 0.0119 - auc: 0.7591 - val_loss: 0.2903 - val_tp: 0.0000e+00 - val_fp: 0.0000e+00 - val_tn: 164.0000 - val_fn: 23.0000 - val_accuracy: 0.8770 - val_precision: 0.0000e+00 - val_recall: 0.0000e+00 - val_auc: 0.9195\n",
            "Epoch 69/100\n",
            "1/1 [==============================] - 0s 64ms/step - loss: 0.2998 - tp: 2.0000 - fp: 3.0000 - tn: 660.0000 - fn: 82.0000 - accuracy: 0.8862 - precision: 0.4000 - recall: 0.0238 - auc: 0.7882 - val_loss: 0.2890 - val_tp: 0.0000e+00 - val_fp: 0.0000e+00 - val_tn: 164.0000 - val_fn: 23.0000 - val_accuracy: 0.8770 - val_precision: 0.0000e+00 - val_recall: 0.0000e+00 - val_auc: 0.9225\n",
            "Epoch 70/100\n",
            "1/1 [==============================] - 0s 52ms/step - loss: 0.2937 - tp: 5.0000 - fp: 6.0000 - tn: 657.0000 - fn: 79.0000 - accuracy: 0.8862 - precision: 0.4545 - recall: 0.0595 - auc: 0.8123 - val_loss: 0.2878 - val_tp: 0.0000e+00 - val_fp: 0.0000e+00 - val_tn: 164.0000 - val_fn: 23.0000 - val_accuracy: 0.8770 - val_precision: 0.0000e+00 - val_recall: 0.0000e+00 - val_auc: 0.9279\n",
            "Epoch 71/100\n",
            "1/1 [==============================] - 0s 228ms/step - loss: 0.3031 - tp: 1.0000 - fp: 1.0000 - tn: 662.0000 - fn: 83.0000 - accuracy: 0.8876 - precision: 0.5000 - recall: 0.0119 - auc: 0.7682 - val_loss: 0.2866 - val_tp: 0.0000e+00 - val_fp: 0.0000e+00 - val_tn: 164.0000 - val_fn: 23.0000 - val_accuracy: 0.8770 - val_precision: 0.0000e+00 - val_recall: 0.0000e+00 - val_auc: 0.9349\n",
            "Epoch 72/100\n",
            "1/1 [==============================] - 0s 53ms/step - loss: 0.3047 - tp: 3.0000 - fp: 9.0000 - tn: 654.0000 - fn: 81.0000 - accuracy: 0.8795 - precision: 0.2500 - recall: 0.0357 - auc: 0.7827 - val_loss: 0.2854 - val_tp: 0.0000e+00 - val_fp: 0.0000e+00 - val_tn: 164.0000 - val_fn: 23.0000 - val_accuracy: 0.8770 - val_precision: 0.0000e+00 - val_recall: 0.0000e+00 - val_auc: 0.9357\n",
            "Epoch 73/100\n",
            "1/1 [==============================] - 0s 69ms/step - loss: 0.2986 - tp: 0.0000e+00 - fp: 5.0000 - tn: 658.0000 - fn: 84.0000 - accuracy: 0.8809 - precision: 0.0000e+00 - recall: 0.0000e+00 - auc: 0.8106 - val_loss: 0.2842 - val_tp: 0.0000e+00 - val_fp: 0.0000e+00 - val_tn: 164.0000 - val_fn: 23.0000 - val_accuracy: 0.8770 - val_precision: 0.0000e+00 - val_recall: 0.0000e+00 - val_auc: 0.9377\n",
            "Epoch 74/100\n",
            "1/1 [==============================] - 0s 51ms/step - loss: 0.2996 - tp: 1.0000 - fp: 2.0000 - tn: 661.0000 - fn: 83.0000 - accuracy: 0.8862 - precision: 0.3333 - recall: 0.0119 - auc: 0.7945 - val_loss: 0.2830 - val_tp: 0.0000e+00 - val_fp: 0.0000e+00 - val_tn: 164.0000 - val_fn: 23.0000 - val_accuracy: 0.8770 - val_precision: 0.0000e+00 - val_recall: 0.0000e+00 - val_auc: 0.9398\n",
            "Epoch 75/100\n",
            "1/1 [==============================] - 0s 63ms/step - loss: 0.3011 - tp: 1.0000 - fp: 2.0000 - tn: 661.0000 - fn: 83.0000 - accuracy: 0.8862 - precision: 0.3333 - recall: 0.0119 - auc: 0.7720 - val_loss: 0.2818 - val_tp: 0.0000e+00 - val_fp: 0.0000e+00 - val_tn: 164.0000 - val_fn: 23.0000 - val_accuracy: 0.8770 - val_precision: 0.0000e+00 - val_recall: 0.0000e+00 - val_auc: 0.9402\n",
            "Epoch 76/100\n",
            "1/1 [==============================] - 0s 59ms/step - loss: 0.2993 - tp: 1.0000 - fp: 2.0000 - tn: 661.0000 - fn: 83.0000 - accuracy: 0.8862 - precision: 0.3333 - recall: 0.0119 - auc: 0.7945 - val_loss: 0.2806 - val_tp: 0.0000e+00 - val_fp: 0.0000e+00 - val_tn: 164.0000 - val_fn: 23.0000 - val_accuracy: 0.8770 - val_precision: 0.0000e+00 - val_recall: 0.0000e+00 - val_auc: 0.9418\n",
            "Epoch 77/100\n",
            "1/1 [==============================] - 0s 62ms/step - loss: 0.2904 - tp: 4.0000 - fp: 3.0000 - tn: 660.0000 - fn: 80.0000 - accuracy: 0.8889 - precision: 0.5714 - recall: 0.0476 - auc: 0.8105 - val_loss: 0.2794 - val_tp: 0.0000e+00 - val_fp: 0.0000e+00 - val_tn: 164.0000 - val_fn: 23.0000 - val_accuracy: 0.8770 - val_precision: 0.0000e+00 - val_recall: 0.0000e+00 - val_auc: 0.9419\n",
            "Epoch 78/100\n",
            "1/1 [==============================] - 0s 60ms/step - loss: 0.3047 - tp: 1.0000 - fp: 6.0000 - tn: 657.0000 - fn: 83.0000 - accuracy: 0.8809 - precision: 0.1429 - recall: 0.0119 - auc: 0.7954 - val_loss: 0.2783 - val_tp: 0.0000e+00 - val_fp: 0.0000e+00 - val_tn: 164.0000 - val_fn: 23.0000 - val_accuracy: 0.8770 - val_precision: 0.0000e+00 - val_recall: 0.0000e+00 - val_auc: 0.9419\n",
            "Epoch 79/100\n",
            "1/1 [==============================] - 0s 55ms/step - loss: 0.2846 - tp: 3.0000 - fp: 5.0000 - tn: 658.0000 - fn: 81.0000 - accuracy: 0.8849 - precision: 0.3750 - recall: 0.0357 - auc: 0.8292 - val_loss: 0.2771 - val_tp: 0.0000e+00 - val_fp: 0.0000e+00 - val_tn: 164.0000 - val_fn: 23.0000 - val_accuracy: 0.8770 - val_precision: 0.0000e+00 - val_recall: 0.0000e+00 - val_auc: 0.9460\n",
            "Epoch 80/100\n",
            "1/1 [==============================] - 0s 62ms/step - loss: 0.2861 - tp: 1.0000 - fp: 2.0000 - tn: 661.0000 - fn: 83.0000 - accuracy: 0.8862 - precision: 0.3333 - recall: 0.0119 - auc: 0.8231 - val_loss: 0.2760 - val_tp: 0.0000e+00 - val_fp: 0.0000e+00 - val_tn: 164.0000 - val_fn: 23.0000 - val_accuracy: 0.8770 - val_precision: 0.0000e+00 - val_recall: 0.0000e+00 - val_auc: 0.9460\n",
            "Epoch 81/100\n",
            "1/1 [==============================] - 0s 69ms/step - loss: 0.2819 - tp: 3.0000 - fp: 2.0000 - tn: 661.0000 - fn: 81.0000 - accuracy: 0.8889 - precision: 0.6000 - recall: 0.0357 - auc: 0.8292 - val_loss: 0.2748 - val_tp: 0.0000e+00 - val_fp: 0.0000e+00 - val_tn: 164.0000 - val_fn: 23.0000 - val_accuracy: 0.8770 - val_precision: 0.0000e+00 - val_recall: 0.0000e+00 - val_auc: 0.9460\n",
            "Epoch 82/100\n",
            "1/1 [==============================] - 0s 60ms/step - loss: 0.2915 - tp: 0.0000e+00 - fp: 1.0000 - tn: 662.0000 - fn: 84.0000 - accuracy: 0.8862 - precision: 0.0000e+00 - recall: 0.0000e+00 - auc: 0.8140 - val_loss: 0.2736 - val_tp: 0.0000e+00 - val_fp: 0.0000e+00 - val_tn: 164.0000 - val_fn: 23.0000 - val_accuracy: 0.8770 - val_precision: 0.0000e+00 - val_recall: 0.0000e+00 - val_auc: 0.9496\n",
            "Epoch 83/100\n",
            "1/1 [==============================] - 0s 54ms/step - loss: 0.2865 - tp: 3.0000 - fp: 4.0000 - tn: 659.0000 - fn: 81.0000 - accuracy: 0.8862 - precision: 0.4286 - recall: 0.0357 - auc: 0.8306 - val_loss: 0.2724 - val_tp: 0.0000e+00 - val_fp: 0.0000e+00 - val_tn: 164.0000 - val_fn: 23.0000 - val_accuracy: 0.8770 - val_precision: 0.0000e+00 - val_recall: 0.0000e+00 - val_auc: 0.9508\n",
            "Epoch 84/100\n",
            "1/1 [==============================] - 0s 61ms/step - loss: 0.2807 - tp: 5.0000 - fp: 4.0000 - tn: 659.0000 - fn: 79.0000 - accuracy: 0.8889 - precision: 0.5556 - recall: 0.0595 - auc: 0.8353 - val_loss: 0.2712 - val_tp: 0.0000e+00 - val_fp: 0.0000e+00 - val_tn: 164.0000 - val_fn: 23.0000 - val_accuracy: 0.8770 - val_precision: 0.0000e+00 - val_recall: 0.0000e+00 - val_auc: 0.9521\n",
            "Epoch 85/100\n",
            "1/1 [==============================] - 0s 52ms/step - loss: 0.2723 - tp: 2.0000 - fp: 2.0000 - tn: 661.0000 - fn: 82.0000 - accuracy: 0.8876 - precision: 0.5000 - recall: 0.0238 - auc: 0.8579 - val_loss: 0.2700 - val_tp: 0.0000e+00 - val_fp: 0.0000e+00 - val_tn: 164.0000 - val_fn: 23.0000 - val_accuracy: 0.8770 - val_precision: 0.0000e+00 - val_recall: 0.0000e+00 - val_auc: 0.9521\n",
            "Epoch 86/100\n",
            "1/1 [==============================] - 0s 59ms/step - loss: 0.2845 - tp: 1.0000 - fp: 5.0000 - tn: 658.0000 - fn: 83.0000 - accuracy: 0.8822 - precision: 0.1667 - recall: 0.0119 - auc: 0.8363 - val_loss: 0.2688 - val_tp: 0.0000e+00 - val_fp: 0.0000e+00 - val_tn: 164.0000 - val_fn: 23.0000 - val_accuracy: 0.8770 - val_precision: 0.0000e+00 - val_recall: 0.0000e+00 - val_auc: 0.9552\n",
            "Epoch 87/100\n",
            "1/1 [==============================] - 0s 61ms/step - loss: 0.2914 - tp: 4.0000 - fp: 4.0000 - tn: 659.0000 - fn: 80.0000 - accuracy: 0.8876 - precision: 0.5000 - recall: 0.0476 - auc: 0.8150 - val_loss: 0.2676 - val_tp: 0.0000e+00 - val_fp: 0.0000e+00 - val_tn: 164.0000 - val_fn: 23.0000 - val_accuracy: 0.8770 - val_precision: 0.0000e+00 - val_recall: 0.0000e+00 - val_auc: 0.9568\n",
            "Epoch 88/100\n",
            "1/1 [==============================] - 0s 60ms/step - loss: 0.2955 - tp: 2.0000 - fp: 6.0000 - tn: 657.0000 - fn: 82.0000 - accuracy: 0.8822 - precision: 0.2500 - recall: 0.0238 - auc: 0.8069 - val_loss: 0.2664 - val_tp: 0.0000e+00 - val_fp: 0.0000e+00 - val_tn: 164.0000 - val_fn: 23.0000 - val_accuracy: 0.8770 - val_precision: 0.0000e+00 - val_recall: 0.0000e+00 - val_auc: 0.9568\n",
            "Epoch 89/100\n",
            "1/1 [==============================] - 0s 45ms/step - loss: 0.2678 - tp: 2.0000 - fp: 0.0000e+00 - tn: 663.0000 - fn: 82.0000 - accuracy: 0.8902 - precision: 1.0000 - recall: 0.0238 - auc: 0.8695 - val_loss: 0.2652 - val_tp: 0.0000e+00 - val_fp: 0.0000e+00 - val_tn: 164.0000 - val_fn: 23.0000 - val_accuracy: 0.8770 - val_precision: 0.0000e+00 - val_recall: 0.0000e+00 - val_auc: 0.9568\n",
            "Epoch 90/100\n",
            "1/1 [==============================] - 0s 56ms/step - loss: 0.2835 - tp: 3.0000 - fp: 2.0000 - tn: 661.0000 - fn: 81.0000 - accuracy: 0.8889 - precision: 0.6000 - recall: 0.0357 - auc: 0.8222 - val_loss: 0.2640 - val_tp: 0.0000e+00 - val_fp: 0.0000e+00 - val_tn: 164.0000 - val_fn: 23.0000 - val_accuracy: 0.8770 - val_precision: 0.0000e+00 - val_recall: 0.0000e+00 - val_auc: 0.9568\n",
            "Epoch 91/100\n",
            "1/1 [==============================] - 0s 63ms/step - loss: 0.2850 - tp: 2.0000 - fp: 2.0000 - tn: 661.0000 - fn: 82.0000 - accuracy: 0.8876 - precision: 0.5000 - recall: 0.0238 - auc: 0.8311 - val_loss: 0.2628 - val_tp: 0.0000e+00 - val_fp: 0.0000e+00 - val_tn: 164.0000 - val_fn: 23.0000 - val_accuracy: 0.8770 - val_precision: 0.0000e+00 - val_recall: 0.0000e+00 - val_auc: 0.9589\n",
            "Epoch 92/100\n",
            "1/1 [==============================] - 0s 63ms/step - loss: 0.2806 - tp: 3.0000 - fp: 2.0000 - tn: 661.0000 - fn: 81.0000 - accuracy: 0.8889 - precision: 0.6000 - recall: 0.0357 - auc: 0.8220 - val_loss: 0.2617 - val_tp: 0.0000e+00 - val_fp: 0.0000e+00 - val_tn: 164.0000 - val_fn: 23.0000 - val_accuracy: 0.8770 - val_precision: 0.0000e+00 - val_recall: 0.0000e+00 - val_auc: 0.9589\n",
            "Epoch 93/100\n",
            "1/1 [==============================] - 0s 59ms/step - loss: 0.2711 - tp: 2.0000 - fp: 2.0000 - tn: 661.0000 - fn: 82.0000 - accuracy: 0.8876 - precision: 0.5000 - recall: 0.0238 - auc: 0.8577 - val_loss: 0.2605 - val_tp: 0.0000e+00 - val_fp: 0.0000e+00 - val_tn: 164.0000 - val_fn: 23.0000 - val_accuracy: 0.8770 - val_precision: 0.0000e+00 - val_recall: 0.0000e+00 - val_auc: 0.9621\n",
            "Epoch 94/100\n",
            "1/1 [==============================] - 0s 65ms/step - loss: 0.2726 - tp: 7.0000 - fp: 1.0000 - tn: 662.0000 - fn: 77.0000 - accuracy: 0.8956 - precision: 0.8750 - recall: 0.0833 - auc: 0.8513 - val_loss: 0.2594 - val_tp: 0.0000e+00 - val_fp: 0.0000e+00 - val_tn: 164.0000 - val_fn: 23.0000 - val_accuracy: 0.8770 - val_precision: 0.0000e+00 - val_recall: 0.0000e+00 - val_auc: 0.9647\n",
            "Epoch 95/100\n",
            "1/1 [==============================] - 0s 54ms/step - loss: 0.2706 - tp: 5.0000 - fp: 1.0000 - tn: 662.0000 - fn: 79.0000 - accuracy: 0.8929 - precision: 0.8333 - recall: 0.0595 - auc: 0.8552 - val_loss: 0.2582 - val_tp: 0.0000e+00 - val_fp: 0.0000e+00 - val_tn: 164.0000 - val_fn: 23.0000 - val_accuracy: 0.8770 - val_precision: 0.0000e+00 - val_recall: 0.0000e+00 - val_auc: 0.9663\n",
            "Epoch 96/100\n",
            "1/1 [==============================] - 0s 63ms/step - loss: 0.2646 - tp: 5.0000 - fp: 4.0000 - tn: 659.0000 - fn: 79.0000 - accuracy: 0.8889 - precision: 0.5556 - recall: 0.0595 - auc: 0.8721 - val_loss: 0.2570 - val_tp: 0.0000e+00 - val_fp: 0.0000e+00 - val_tn: 164.0000 - val_fn: 23.0000 - val_accuracy: 0.8770 - val_precision: 0.0000e+00 - val_recall: 0.0000e+00 - val_auc: 0.9685\n",
            "Epoch 97/100\n",
            "1/1 [==============================] - 0s 61ms/step - loss: 0.2729 - tp: 6.0000 - fp: 4.0000 - tn: 659.0000 - fn: 78.0000 - accuracy: 0.8902 - precision: 0.6000 - recall: 0.0714 - auc: 0.8498 - val_loss: 0.2559 - val_tp: 0.0000e+00 - val_fp: 0.0000e+00 - val_tn: 164.0000 - val_fn: 23.0000 - val_accuracy: 0.8770 - val_precision: 0.0000e+00 - val_recall: 0.0000e+00 - val_auc: 0.9685\n",
            "Epoch 98/100\n",
            "1/1 [==============================] - 0s 61ms/step - loss: 0.2816 - tp: 5.0000 - fp: 3.0000 - tn: 660.0000 - fn: 79.0000 - accuracy: 0.8902 - precision: 0.6250 - recall: 0.0595 - auc: 0.8321 - val_loss: 0.2548 - val_tp: 0.0000e+00 - val_fp: 0.0000e+00 - val_tn: 164.0000 - val_fn: 23.0000 - val_accuracy: 0.8770 - val_precision: 0.0000e+00 - val_recall: 0.0000e+00 - val_auc: 0.9685\n",
            "Epoch 99/100\n",
            "1/1 [==============================] - 0s 58ms/step - loss: 0.2765 - tp: 3.0000 - fp: 4.0000 - tn: 659.0000 - fn: 81.0000 - accuracy: 0.8862 - precision: 0.4286 - recall: 0.0357 - auc: 0.8471 - val_loss: 0.2537 - val_tp: 0.0000e+00 - val_fp: 0.0000e+00 - val_tn: 164.0000 - val_fn: 23.0000 - val_accuracy: 0.8770 - val_precision: 0.0000e+00 - val_recall: 0.0000e+00 - val_auc: 0.9685\n",
            "Epoch 100/100\n",
            "1/1 [==============================] - 0s 61ms/step - loss: 0.2575 - tp: 4.0000 - fp: 5.0000 - tn: 658.0000 - fn: 80.0000 - accuracy: 0.8862 - precision: 0.4444 - recall: 0.0476 - auc: 0.8828 - val_loss: 0.2526 - val_tp: 0.0000e+00 - val_fp: 0.0000e+00 - val_tn: 164.0000 - val_fn: 23.0000 - val_accuracy: 0.8770 - val_precision: 0.0000e+00 - val_recall: 0.0000e+00 - val_auc: 0.9716\n"
          ],
          "name": "stdout"
        }
      ]
    },
    {
      "cell_type": "code",
      "metadata": {
        "id": "6Uy2fp2Go7GA"
      },
      "source": [
        "def plot_metrics(history):\r\n",
        "  metrics = ['loss', 'auc', 'precision', 'recall']\r\n",
        "  for n, metric in enumerate(metrics):\r\n",
        "    name = metric.replace(\"_\",\" \").capitalize()\r\n",
        "    plt.subplot(2,2,n+1)\r\n",
        "    plt.plot(history.epoch, history.history[metric], color=colors[0], label='Train')\r\n",
        "    plt.plot(history.epoch, history.history['val_'+metric],\r\n",
        "             color=colors[0], linestyle=\"--\", label='Val')\r\n",
        "    plt.xlabel('Epoch')\r\n",
        "    plt.ylabel(name)\r\n",
        "    if metric == 'loss':\r\n",
        "      plt.ylim([0, plt.ylim()[1]])\r\n",
        "    elif metric == 'auc':\r\n",
        "      plt.ylim([0.8,1])\r\n",
        "    else:\r\n",
        "      plt.ylim([0,1])\r\n",
        "\r\n",
        "    plt.legend()"
      ],
      "execution_count": null,
      "outputs": []
    },
    {
      "cell_type": "code",
      "metadata": {
        "colab": {
          "base_uri": "https://localhost:8080/",
          "height": 609
        },
        "id": "k-uLNujQpCfq",
        "outputId": "2460c5c8-d85a-4335-cad2-cfdf279db24d"
      },
      "source": [
        "plot_metrics(baseline_history)"
      ],
      "execution_count": null,
      "outputs": [
        {
          "output_type": "display_data",
          "data": {
            "image/png": "[encoded data removed]",
            "text/plain": [
              "<Figure size 864x720 with 4 Axes>"
            ]
          },
          "metadata": {
            "tags": [],
            "needs_background": "light"
          }
        }
      ]
    },
    {
      "cell_type": "code",
      "metadata": {
        "id": "y_cCO6-cpEfU"
      },
      "source": [
        "train_predictions_baseline = model.predict(train_features, batch_size=BATCH_SIZE)\r\n",
        "test_predictions_baseline = model.predict(test_features, batch_size=BATCH_SIZE)"
      ],
      "execution_count": null,
      "outputs": []
    },
    {
      "cell_type": "code",
      "metadata": {
        "id": "1fI_CTPLpK8U"
      },
      "source": [
        "def plot_cm(labels, predictions, p=0.5):\r\n",
        "  cm = confusion_matrix(labels, predictions > p)\r\n",
        "  plt.figure(figsize=(5,5))\r\n",
        "  sns.heatmap(cm, annot=True, fmt=\"d\")\r\n",
        "  plt.title('Confusion matrix @{:.2f}'.format(p))\r\n",
        "  plt.ylabel('Actual label')\r\n",
        "  plt.xlabel('Predicted label')\r\n",
        "\r\n",
        "  print('Legitimate Transactions Detected (True Negatives): ', cm[0][0])\r\n",
        "  print('Legitimate Transactions Incorrectly Detected (False Positives): ', cm[0][1])\r\n",
        "  print('Fraudulent Transactions Missed (False Negatives): ', cm[1][0])\r\n",
        "  print('Fraudulent Transactions Detected (True Positives): ', cm[1][1])\r\n",
        "  print('Total Fraudulent Transactions: ', np.sum(cm[1]))"
      ],
      "execution_count": null,
      "outputs": []
    },
    {
      "cell_type": "code",
      "metadata": {
        "colab": {
          "base_uri": "https://localhost:8080/",
          "height": 602
        },
        "id": "JaSr-pOepNVH",
        "outputId": "2cce711b-6efe-4a1c-cc93-94859f9b52e5"
      },
      "source": [
        "baseline_results = model.evaluate(test_features, test_labels,\r\n",
        "                                  batch_size=BATCH_SIZE, verbose=0)\r\n",
        "for name, value in zip(model.metrics_names, baseline_results):\r\n",
        "  print(name, ': ', value)\r\n",
        "print()\r\n",
        "\r\n",
        "plot_cm(test_labels, test_predictions_baseline)"
      ],
      "execution_count": null,
      "outputs": [
        {
          "output_type": "stream",
          "text": [
            "loss :  0.2070566862821579\n",
            "tp :  0.0\n",
            "fp :  0.0\n",
            "tn :  213.0\n",
            "fn :  21.0\n",
            "accuracy :  0.9102563858032227\n",
            "precision :  0.0\n",
            "recall :  0.0\n",
            "auc :  0.9626649022102356\n",
            "\n",
            "Legitimate Transactions Detected (True Negatives):  213\n",
            "Legitimate Transactions Incorrectly Detected (False Positives):  0\n",
            "Fraudulent Transactions Missed (False Negatives):  21\n",
            "Fraudulent Transactions Detected (True Positives):  0\n",
            "Total Fraudulent Transactions:  21\n"
          ],
          "name": "stdout"
        },
        {
          "output_type": "display_data",
          "data": {
            "image/png": "[encoded data removed]",
            "text/plain": [
              "<Figure size 360x360 with 2 Axes>"
            ]
          },
          "metadata": {
            "tags": [],
            "needs_background": "light"
          }
        }
      ]
    },
    {
      "cell_type": "code",
      "metadata": {
        "id": "lbr1ChYtpQWZ"
      },
      "source": [
        "def plot_roc(name, labels, predictions, **kwargs):\r\n",
        "  fp, tp, _ = sklearn.metrics.roc_curve(labels, predictions)\r\n",
        "\r\n",
        "  plt.plot(100*fp, 100*tp, label=name, linewidth=2, **kwargs)\r\n",
        "  plt.xlabel('False positives [%]')\r\n",
        "  plt.ylabel('True positives [%]')\r\n",
        "  plt.xlim([-0.5,20])\r\n",
        "  plt.ylim([80,100.5])\r\n",
        "  plt.grid(True)\r\n",
        "  ax = plt.gca()\r\n",
        "  ax.set_aspect('equal')"
      ],
      "execution_count": null,
      "outputs": []
    },
    {
      "cell_type": "code",
      "metadata": {
        "colab": {
          "base_uri": "https://localhost:8080/",
          "height": 623
        },
        "id": "1yeKe-OupWl-",
        "outputId": "9a042d58-40b6-4acd-f865-5bd991b6cee0"
      },
      "source": [
        "plot_roc(\"Train Baseline\", train_labels, train_predictions_baseline, color=colors[0])\r\n",
        "plot_roc(\"Test Baseline\", test_labels, test_predictions_baseline, color=colors[0], linestyle='--')\r\n",
        "plt.legend(loc='lower right')"
      ],
      "execution_count": null,
      "outputs": [
        {
          "output_type": "execute_result",
          "data": {
            "text/plain": [
              "<matplotlib.legend.Legend at 0x7f0155ef5c18>"
            ]
          },
          "metadata": {
            "tags": []
          },
          "execution_count": 65
        },
        {
          "output_type": "display_data",
          "data": {
            "image/png": "[encoded data removed]",
            "text/plain": [
              "<Figure size 864x720 with 1 Axes>"
            ]
          },
          "metadata": {
            "tags": [],
            "needs_background": "light"
          }
        }
      ]
    },
    {
      "cell_type": "code",
      "metadata": {
        "colab": {
          "base_uri": "https://localhost:8080/"
        },
        "id": "Tc4-VHPapYhA",
        "outputId": "72a62274-1bd2-484e-e712-ec20223ebcd8"
      },
      "source": [
        "# Scaling by total/2 helps keep the loss to a similar magnitude.\r\n",
        "# The sum of the weights of all examples stays the same.\r\n",
        "weight_for_0 = (1 / neg)*(total)/2.0 \r\n",
        "weight_for_1 = (1 / pos)*(total)/2.0\r\n",
        "\r\n",
        "class_weight = {0: weight_for_0, 1: weight_for_1}\r\n",
        "\r\n",
        "print('Weight for class 0: {:.2f}'.format(weight_for_0))\r\n",
        "print('Weight for class 1: {:.2f}'.format(weight_for_1))"
      ],
      "execution_count": null,
      "outputs": [
        {
          "output_type": "stream",
          "text": [
            "Weight for class 0: 0.56\n",
            "Weight for class 1: 4.56\n"
          ],
          "name": "stdout"
        }
      ]
    },
    {
      "cell_type": "code",
      "metadata": {
        "colab": {
          "base_uri": "https://localhost:8080/"
        },
        "id": "-jzJeNAIpfQt",
        "outputId": "8dc2e2a0-67f6-41e7-bb16-5dcfa5e8b37f"
      },
      "source": [
        "weighted_model = make_model()\r\n",
        "weighted_model.load_weights(initial_weights)\r\n",
        "\r\n",
        "weighted_history = weighted_model.fit(\r\n",
        "    train_features,\r\n",
        "    train_labels,\r\n",
        "    batch_size=BATCH_SIZE,\r\n",
        "    epochs=EPOCHS,\r\n",
        "    callbacks=[early_stopping],\r\n",
        "    validation_data=(val_features, val_labels),\r\n",
        "    # The class weights go here\r\n",
        "    class_weight=class_weight) "
      ],
      "execution_count": null,
      "outputs": [
        {
          "output_type": "stream",
          "text": [
            "Epoch 1/100\n",
            "1/1 [==============================] - 3s 3s/step - loss: 1.2518 - tp: 0.0000e+00 - fp: 24.0000 - tn: 852.0000 - fn: 105.0000 - accuracy: 0.8685 - precision: 0.0000e+00 - recall: 0.0000e+00 - auc: 0.6275 - val_loss: 0.4082 - val_tp: 0.0000e+00 - val_fp: 0.0000e+00 - val_tn: 164.0000 - val_fn: 23.0000 - val_accuracy: 0.8770 - val_precision: 0.0000e+00 - val_recall: 0.0000e+00 - val_auc: 0.4601\n",
            "Epoch 2/100\n",
            "1/1 [==============================] - 0s 57ms/step - loss: 1.2748 - tp: 0.0000e+00 - fp: 35.0000 - tn: 628.0000 - fn: 84.0000 - accuracy: 0.8407 - precision: 0.0000e+00 - recall: 0.0000e+00 - auc: 0.5074 - val_loss: 0.4051 - val_tp: 0.0000e+00 - val_fp: 0.0000e+00 - val_tn: 164.0000 - val_fn: 23.0000 - val_accuracy: 0.8770 - val_precision: 0.0000e+00 - val_recall: 0.0000e+00 - val_auc: 0.4655\n",
            "Epoch 3/100\n",
            "1/1 [==============================] - 0s 48ms/step - loss: 1.3042 - tp: 0.0000e+00 - fp: 34.0000 - tn: 629.0000 - fn: 84.0000 - accuracy: 0.8420 - precision: 0.0000e+00 - recall: 0.0000e+00 - auc: 0.4808 - val_loss: 0.4022 - val_tp: 0.0000e+00 - val_fp: 0.0000e+00 - val_tn: 164.0000 - val_fn: 23.0000 - val_accuracy: 0.8770 - val_precision: 0.0000e+00 - val_recall: 0.0000e+00 - val_auc: 0.4837\n",
            "Epoch 4/100\n",
            "1/1 [==============================] - 0s 52ms/step - loss: 1.2619 - tp: 0.0000e+00 - fp: 26.0000 - tn: 637.0000 - fn: 84.0000 - accuracy: 0.8527 - precision: 0.0000e+00 - recall: 0.0000e+00 - auc: 0.5166 - val_loss: 0.3993 - val_tp: 0.0000e+00 - val_fp: 0.0000e+00 - val_tn: 164.0000 - val_fn: 23.0000 - val_accuracy: 0.8770 - val_precision: 0.0000e+00 - val_recall: 0.0000e+00 - val_auc: 0.4867\n",
            "Epoch 5/100\n",
            "1/1 [==============================] - 0s 49ms/step - loss: 1.2084 - tp: 0.0000e+00 - fp: 21.0000 - tn: 642.0000 - fn: 84.0000 - accuracy: 0.8594 - precision: 0.0000e+00 - recall: 0.0000e+00 - auc: 0.5468 - val_loss: 0.3966 - val_tp: 0.0000e+00 - val_fp: 0.0000e+00 - val_tn: 164.0000 - val_fn: 23.0000 - val_accuracy: 0.8770 - val_precision: 0.0000e+00 - val_recall: 0.0000e+00 - val_auc: 0.5025\n",
            "Epoch 6/100\n",
            "1/1 [==============================] - 0s 48ms/step - loss: 1.2134 - tp: 0.0000e+00 - fp: 30.0000 - tn: 633.0000 - fn: 84.0000 - accuracy: 0.8474 - precision: 0.0000e+00 - recall: 0.0000e+00 - auc: 0.5399 - val_loss: 0.3939 - val_tp: 0.0000e+00 - val_fp: 0.0000e+00 - val_tn: 164.0000 - val_fn: 23.0000 - val_accuracy: 0.8770 - val_precision: 0.0000e+00 - val_recall: 0.0000e+00 - val_auc: 0.5082\n",
            "Epoch 7/100\n",
            "1/1 [==============================] - 0s 52ms/step - loss: 1.2215 - tp: 0.0000e+00 - fp: 28.0000 - tn: 635.0000 - fn: 84.0000 - accuracy: 0.8501 - precision: 0.0000e+00 - recall: 0.0000e+00 - auc: 0.5131 - val_loss: 0.3913 - val_tp: 0.0000e+00 - val_fp: 0.0000e+00 - val_tn: 164.0000 - val_fn: 23.0000 - val_accuracy: 0.8770 - val_precision: 0.0000e+00 - val_recall: 0.0000e+00 - val_auc: 0.5166\n",
            "Epoch 8/100\n",
            "1/1 [==============================] - 0s 52ms/step - loss: 1.1782 - tp: 0.0000e+00 - fp: 31.0000 - tn: 632.0000 - fn: 84.0000 - accuracy: 0.8461 - precision: 0.0000e+00 - recall: 0.0000e+00 - auc: 0.5693 - val_loss: 0.3887 - val_tp: 0.0000e+00 - val_fp: 0.0000e+00 - val_tn: 164.0000 - val_fn: 23.0000 - val_accuracy: 0.8770 - val_precision: 0.0000e+00 - val_recall: 0.0000e+00 - val_auc: 0.5191\n",
            "Epoch 9/100\n",
            "1/1 [==============================] - 0s 59ms/step - loss: 1.1747 - tp: 0.0000e+00 - fp: 23.0000 - tn: 640.0000 - fn: 84.0000 - accuracy: 0.8568 - precision: 0.0000e+00 - recall: 0.0000e+00 - auc: 0.5565 - val_loss: 0.3862 - val_tp: 0.0000e+00 - val_fp: 0.0000e+00 - val_tn: 164.0000 - val_fn: 23.0000 - val_accuracy: 0.8770 - val_precision: 0.0000e+00 - val_recall: 0.0000e+00 - val_auc: 0.5277\n",
            "Epoch 10/100\n",
            "1/1 [==============================] - 0s 57ms/step - loss: 1.2175 - tp: 0.0000e+00 - fp: 34.0000 - tn: 629.0000 - fn: 84.0000 - accuracy: 0.8420 - precision: 0.0000e+00 - recall: 0.0000e+00 - auc: 0.5418 - val_loss: 0.3838 - val_tp: 0.0000e+00 - val_fp: 0.0000e+00 - val_tn: 164.0000 - val_fn: 23.0000 - val_accuracy: 0.8770 - val_precision: 0.0000e+00 - val_recall: 0.0000e+00 - val_auc: 0.5374\n",
            "Epoch 11/100\n",
            "1/1 [==============================] - 0s 49ms/step - loss: 1.1341 - tp: 1.0000 - fp: 38.0000 - tn: 625.0000 - fn: 83.0000 - accuracy: 0.8380 - precision: 0.0256 - recall: 0.0119 - auc: 0.5981 - val_loss: 0.3814 - val_tp: 0.0000e+00 - val_fp: 0.0000e+00 - val_tn: 164.0000 - val_fn: 23.0000 - val_accuracy: 0.8770 - val_precision: 0.0000e+00 - val_recall: 0.0000e+00 - val_auc: 0.5565\n",
            "Epoch 12/100\n",
            "1/1 [==============================] - 0s 55ms/step - loss: 1.1828 - tp: 0.0000e+00 - fp: 31.0000 - tn: 632.0000 - fn: 84.0000 - accuracy: 0.8461 - precision: 0.0000e+00 - recall: 0.0000e+00 - auc: 0.5393 - val_loss: 0.3791 - val_tp: 0.0000e+00 - val_fp: 0.0000e+00 - val_tn: 164.0000 - val_fn: 23.0000 - val_accuracy: 0.8770 - val_precision: 0.0000e+00 - val_recall: 0.0000e+00 - val_auc: 0.5579\n",
            "Epoch 13/100\n",
            "1/1 [==============================] - 0s 55ms/step - loss: 1.1931 - tp: 0.0000e+00 - fp: 32.0000 - tn: 631.0000 - fn: 84.0000 - accuracy: 0.8447 - precision: 0.0000e+00 - recall: 0.0000e+00 - auc: 0.5437 - val_loss: 0.3768 - val_tp: 0.0000e+00 - val_fp: 0.0000e+00 - val_tn: 164.0000 - val_fn: 23.0000 - val_accuracy: 0.8770 - val_precision: 0.0000e+00 - val_recall: 0.0000e+00 - val_auc: 0.5685\n",
            "Epoch 14/100\n",
            "1/1 [==============================] - 0s 58ms/step - loss: 1.1599 - tp: 0.0000e+00 - fp: 35.0000 - tn: 628.0000 - fn: 84.0000 - accuracy: 0.8407 - precision: 0.0000e+00 - recall: 0.0000e+00 - auc: 0.5678 - val_loss: 0.3746 - val_tp: 0.0000e+00 - val_fp: 0.0000e+00 - val_tn: 164.0000 - val_fn: 23.0000 - val_accuracy: 0.8770 - val_precision: 0.0000e+00 - val_recall: 0.0000e+00 - val_auc: 0.5891\n",
            "Epoch 15/100\n",
            "1/1 [==============================] - 0s 62ms/step - loss: 1.1119 - tp: 1.0000 - fp: 25.0000 - tn: 638.0000 - fn: 83.0000 - accuracy: 0.8554 - precision: 0.0385 - recall: 0.0119 - auc: 0.5883 - val_loss: 0.3725 - val_tp: 0.0000e+00 - val_fp: 0.0000e+00 - val_tn: 164.0000 - val_fn: 23.0000 - val_accuracy: 0.8770 - val_precision: 0.0000e+00 - val_recall: 0.0000e+00 - val_auc: 0.5885\n",
            "Epoch 16/100\n",
            "1/1 [==============================] - 0s 53ms/step - loss: 1.1254 - tp: 2.0000 - fp: 36.0000 - tn: 627.0000 - fn: 82.0000 - accuracy: 0.8420 - precision: 0.0526 - recall: 0.0238 - auc: 0.5666 - val_loss: 0.3705 - val_tp: 0.0000e+00 - val_fp: 0.0000e+00 - val_tn: 164.0000 - val_fn: 23.0000 - val_accuracy: 0.8770 - val_precision: 0.0000e+00 - val_recall: 0.0000e+00 - val_auc: 0.5920\n",
            "Epoch 17/100\n",
            "1/1 [==============================] - 0s 52ms/step - loss: 1.0600 - tp: 2.0000 - fp: 27.0000 - tn: 636.0000 - fn: 82.0000 - accuracy: 0.8541 - precision: 0.0690 - recall: 0.0238 - auc: 0.6308 - val_loss: 0.3685 - val_tp: 0.0000e+00 - val_fp: 0.0000e+00 - val_tn: 164.0000 - val_fn: 23.0000 - val_accuracy: 0.8770 - val_precision: 0.0000e+00 - val_recall: 0.0000e+00 - val_auc: 0.5909\n",
            "Epoch 18/100\n",
            "1/1 [==============================] - 0s 55ms/step - loss: 1.1276 - tp: 6.0000 - fp: 22.0000 - tn: 641.0000 - fn: 78.0000 - accuracy: 0.8661 - precision: 0.2143 - recall: 0.0714 - auc: 0.5853 - val_loss: 0.3665 - val_tp: 0.0000e+00 - val_fp: 0.0000e+00 - val_tn: 164.0000 - val_fn: 23.0000 - val_accuracy: 0.8770 - val_precision: 0.0000e+00 - val_recall: 0.0000e+00 - val_auc: 0.6125\n",
            "Epoch 19/100\n",
            "1/1 [==============================] - 0s 49ms/step - loss: 1.0671 - tp: 3.0000 - fp: 33.0000 - tn: 630.0000 - fn: 81.0000 - accuracy: 0.8474 - precision: 0.0833 - recall: 0.0357 - auc: 0.6152 - val_loss: 0.3644 - val_tp: 0.0000e+00 - val_fp: 0.0000e+00 - val_tn: 164.0000 - val_fn: 23.0000 - val_accuracy: 0.8770 - val_precision: 0.0000e+00 - val_recall: 0.0000e+00 - val_auc: 0.6234\n",
            "Epoch 20/100\n",
            "1/1 [==============================] - 0s 57ms/step - loss: 1.1292 - tp: 5.0000 - fp: 25.0000 - tn: 638.0000 - fn: 79.0000 - accuracy: 0.8608 - precision: 0.1667 - recall: 0.0595 - auc: 0.5626 - val_loss: 0.3625 - val_tp: 0.0000e+00 - val_fp: 0.0000e+00 - val_tn: 164.0000 - val_fn: 23.0000 - val_accuracy: 0.8770 - val_precision: 0.0000e+00 - val_recall: 0.0000e+00 - val_auc: 0.6296\n",
            "Epoch 21/100\n",
            "1/1 [==============================] - 0s 58ms/step - loss: 1.0504 - tp: 5.0000 - fp: 34.0000 - tn: 629.0000 - fn: 79.0000 - accuracy: 0.8487 - precision: 0.1282 - recall: 0.0595 - auc: 0.6150 - val_loss: 0.3606 - val_tp: 0.0000e+00 - val_fp: 0.0000e+00 - val_tn: 164.0000 - val_fn: 23.0000 - val_accuracy: 0.8770 - val_precision: 0.0000e+00 - val_recall: 0.0000e+00 - val_auc: 0.6330\n",
            "Epoch 22/100\n",
            "1/1 [==============================] - 0s 60ms/step - loss: 1.0673 - tp: 5.0000 - fp: 34.0000 - tn: 629.0000 - fn: 79.0000 - accuracy: 0.8487 - precision: 0.1282 - recall: 0.0595 - auc: 0.6114 - val_loss: 0.3588 - val_tp: 0.0000e+00 - val_fp: 0.0000e+00 - val_tn: 164.0000 - val_fn: 23.0000 - val_accuracy: 0.8770 - val_precision: 0.0000e+00 - val_recall: 0.0000e+00 - val_auc: 0.6503\n",
            "Epoch 23/100\n",
            "1/1 [==============================] - 0s 59ms/step - loss: 1.1063 - tp: 6.0000 - fp: 37.0000 - tn: 626.0000 - fn: 78.0000 - accuracy: 0.8461 - precision: 0.1395 - recall: 0.0714 - auc: 0.5673 - val_loss: 0.3570 - val_tp: 0.0000e+00 - val_fp: 0.0000e+00 - val_tn: 164.0000 - val_fn: 23.0000 - val_accuracy: 0.8770 - val_precision: 0.0000e+00 - val_recall: 0.0000e+00 - val_auc: 0.6440\n",
            "Epoch 24/100\n",
            "1/1 [==============================] - 0s 59ms/step - loss: 1.0350 - tp: 5.0000 - fp: 46.0000 - tn: 617.0000 - fn: 79.0000 - accuracy: 0.8327 - precision: 0.0980 - recall: 0.0595 - auc: 0.6300 - val_loss: 0.3552 - val_tp: 0.0000e+00 - val_fp: 0.0000e+00 - val_tn: 164.0000 - val_fn: 23.0000 - val_accuracy: 0.8770 - val_precision: 0.0000e+00 - val_recall: 0.0000e+00 - val_auc: 0.6562\n",
            "Epoch 25/100\n",
            "1/1 [==============================] - 0s 60ms/step - loss: 1.0426 - tp: 5.0000 - fp: 33.0000 - tn: 630.0000 - fn: 79.0000 - accuracy: 0.8501 - precision: 0.1316 - recall: 0.0595 - auc: 0.6111 - val_loss: 0.3535 - val_tp: 0.0000e+00 - val_fp: 0.0000e+00 - val_tn: 164.0000 - val_fn: 23.0000 - val_accuracy: 0.8770 - val_precision: 0.0000e+00 - val_recall: 0.0000e+00 - val_auc: 0.6633\n",
            "Epoch 26/100\n",
            "1/1 [==============================] - 0s 58ms/step - loss: 0.9814 - tp: 2.0000 - fp: 24.0000 - tn: 639.0000 - fn: 82.0000 - accuracy: 0.8581 - precision: 0.0769 - recall: 0.0238 - auc: 0.6745 - val_loss: 0.3518 - val_tp: 0.0000e+00 - val_fp: 0.0000e+00 - val_tn: 164.0000 - val_fn: 23.0000 - val_accuracy: 0.8770 - val_precision: 0.0000e+00 - val_recall: 0.0000e+00 - val_auc: 0.6792\n",
            "Epoch 27/100\n",
            "1/1 [==============================] - 0s 54ms/step - loss: 1.0752 - tp: 5.0000 - fp: 38.0000 - tn: 625.0000 - fn: 79.0000 - accuracy: 0.8434 - precision: 0.1163 - recall: 0.0595 - auc: 0.5802 - val_loss: 0.3501 - val_tp: 0.0000e+00 - val_fp: 0.0000e+00 - val_tn: 164.0000 - val_fn: 23.0000 - val_accuracy: 0.8770 - val_precision: 0.0000e+00 - val_recall: 0.0000e+00 - val_auc: 0.7007\n",
            "Epoch 28/100\n",
            "1/1 [==============================] - 0s 58ms/step - loss: 1.0105 - tp: 8.0000 - fp: 41.0000 - tn: 622.0000 - fn: 76.0000 - accuracy: 0.8434 - precision: 0.1633 - recall: 0.0952 - auc: 0.6167 - val_loss: 0.3485 - val_tp: 0.0000e+00 - val_fp: 0.0000e+00 - val_tn: 164.0000 - val_fn: 23.0000 - val_accuracy: 0.8770 - val_precision: 0.0000e+00 - val_recall: 0.0000e+00 - val_auc: 0.7109\n",
            "Epoch 29/100\n",
            "1/1 [==============================] - 0s 62ms/step - loss: 0.9842 - tp: 9.0000 - fp: 28.0000 - tn: 635.0000 - fn: 75.0000 - accuracy: 0.8621 - precision: 0.2432 - recall: 0.1071 - auc: 0.6432 - val_loss: 0.3469 - val_tp: 0.0000e+00 - val_fp: 0.0000e+00 - val_tn: 164.0000 - val_fn: 23.0000 - val_accuracy: 0.8770 - val_precision: 0.0000e+00 - val_recall: 0.0000e+00 - val_auc: 0.7204\n",
            "Epoch 30/100\n",
            "1/1 [==============================] - 0s 60ms/step - loss: 1.0528 - tp: 9.0000 - fp: 40.0000 - tn: 623.0000 - fn: 75.0000 - accuracy: 0.8461 - precision: 0.1837 - recall: 0.1071 - auc: 0.5936 - val_loss: 0.3453 - val_tp: 0.0000e+00 - val_fp: 0.0000e+00 - val_tn: 164.0000 - val_fn: 23.0000 - val_accuracy: 0.8770 - val_precision: 0.0000e+00 - val_recall: 0.0000e+00 - val_auc: 0.7243\n",
            "Epoch 31/100\n",
            "1/1 [==============================] - 0s 54ms/step - loss: 0.9823 - tp: 8.0000 - fp: 37.0000 - tn: 626.0000 - fn: 76.0000 - accuracy: 0.8487 - precision: 0.1778 - recall: 0.0952 - auc: 0.6374 - val_loss: 0.3438 - val_tp: 0.0000e+00 - val_fp: 0.0000e+00 - val_tn: 164.0000 - val_fn: 23.0000 - val_accuracy: 0.8770 - val_precision: 0.0000e+00 - val_recall: 0.0000e+00 - val_auc: 0.7293\n",
            "Epoch 32/100\n",
            "1/1 [==============================] - 0s 52ms/step - loss: 0.9814 - tp: 6.0000 - fp: 41.0000 - tn: 622.0000 - fn: 78.0000 - accuracy: 0.8407 - precision: 0.1277 - recall: 0.0714 - auc: 0.6464 - val_loss: 0.3423 - val_tp: 0.0000e+00 - val_fp: 0.0000e+00 - val_tn: 164.0000 - val_fn: 23.0000 - val_accuracy: 0.8770 - val_precision: 0.0000e+00 - val_recall: 0.0000e+00 - val_auc: 0.7369\n",
            "Epoch 33/100\n",
            "1/1 [==============================] - 0s 58ms/step - loss: 0.9867 - tp: 8.0000 - fp: 43.0000 - tn: 620.0000 - fn: 76.0000 - accuracy: 0.8407 - precision: 0.1569 - recall: 0.0952 - auc: 0.6323 - val_loss: 0.3408 - val_tp: 0.0000e+00 - val_fp: 0.0000e+00 - val_tn: 164.0000 - val_fn: 23.0000 - val_accuracy: 0.8770 - val_precision: 0.0000e+00 - val_recall: 0.0000e+00 - val_auc: 0.7418\n",
            "Epoch 34/100\n",
            "1/1 [==============================] - 0s 60ms/step - loss: 0.9519 - tp: 6.0000 - fp: 42.0000 - tn: 621.0000 - fn: 78.0000 - accuracy: 0.8394 - precision: 0.1250 - recall: 0.0714 - auc: 0.6604 - val_loss: 0.3393 - val_tp: 0.0000e+00 - val_fp: 0.0000e+00 - val_tn: 164.0000 - val_fn: 23.0000 - val_accuracy: 0.8770 - val_precision: 0.0000e+00 - val_recall: 0.0000e+00 - val_auc: 0.7414\n",
            "Epoch 35/100\n",
            "1/1 [==============================] - 0s 60ms/step - loss: 0.9807 - tp: 8.0000 - fp: 35.0000 - tn: 628.0000 - fn: 76.0000 - accuracy: 0.8514 - precision: 0.1860 - recall: 0.0952 - auc: 0.6326 - val_loss: 0.3378 - val_tp: 0.0000e+00 - val_fp: 0.0000e+00 - val_tn: 164.0000 - val_fn: 23.0000 - val_accuracy: 0.8770 - val_precision: 0.0000e+00 - val_recall: 0.0000e+00 - val_auc: 0.7533\n",
            "Epoch 36/100\n",
            "1/1 [==============================] - 0s 60ms/step - loss: 0.9680 - tp: 15.0000 - fp: 43.0000 - tn: 620.0000 - fn: 69.0000 - accuracy: 0.8501 - precision: 0.2586 - recall: 0.1786 - auc: 0.6287 - val_loss: 0.3364 - val_tp: 0.0000e+00 - val_fp: 0.0000e+00 - val_tn: 164.0000 - val_fn: 23.0000 - val_accuracy: 0.8770 - val_precision: 0.0000e+00 - val_recall: 0.0000e+00 - val_auc: 0.7556\n",
            "Epoch 37/100\n",
            "1/1 [==============================] - 0s 63ms/step - loss: 1.0284 - tp: 4.0000 - fp: 32.0000 - tn: 631.0000 - fn: 80.0000 - accuracy: 0.8501 - precision: 0.1111 - recall: 0.0476 - auc: 0.6105 - val_loss: 0.3350 - val_tp: 0.0000e+00 - val_fp: 0.0000e+00 - val_tn: 164.0000 - val_fn: 23.0000 - val_accuracy: 0.8770 - val_precision: 0.0000e+00 - val_recall: 0.0000e+00 - val_auc: 0.7716\n",
            "Epoch 38/100\n",
            "1/1 [==============================] - 0s 54ms/step - loss: 0.9467 - tp: 9.0000 - fp: 40.0000 - tn: 623.0000 - fn: 75.0000 - accuracy: 0.8461 - precision: 0.1837 - recall: 0.1071 - auc: 0.6577 - val_loss: 0.3336 - val_tp: 0.0000e+00 - val_fp: 0.0000e+00 - val_tn: 164.0000 - val_fn: 23.0000 - val_accuracy: 0.8770 - val_precision: 0.0000e+00 - val_recall: 0.0000e+00 - val_auc: 0.7701\n",
            "Epoch 39/100\n",
            "1/1 [==============================] - 0s 58ms/step - loss: 0.9326 - tp: 10.0000 - fp: 38.0000 - tn: 625.0000 - fn: 74.0000 - accuracy: 0.8501 - precision: 0.2083 - recall: 0.1190 - auc: 0.6561 - val_loss: 0.3322 - val_tp: 0.0000e+00 - val_fp: 0.0000e+00 - val_tn: 164.0000 - val_fn: 23.0000 - val_accuracy: 0.8770 - val_precision: 0.0000e+00 - val_recall: 0.0000e+00 - val_auc: 0.7855\n",
            "Epoch 40/100\n",
            "1/1 [==============================] - 0s 59ms/step - loss: 0.8960 - tp: 13.0000 - fp: 47.0000 - tn: 616.0000 - fn: 71.0000 - accuracy: 0.8420 - precision: 0.2167 - recall: 0.1548 - auc: 0.6905 - val_loss: 0.3310 - val_tp: 0.0000e+00 - val_fp: 0.0000e+00 - val_tn: 164.0000 - val_fn: 23.0000 - val_accuracy: 0.8770 - val_precision: 0.0000e+00 - val_recall: 0.0000e+00 - val_auc: 0.7969\n",
            "Epoch 41/100\n",
            "1/1 [==============================] - 0s 60ms/step - loss: 0.9278 - tp: 16.0000 - fp: 44.0000 - tn: 619.0000 - fn: 68.0000 - accuracy: 0.8501 - precision: 0.2667 - recall: 0.1905 - auc: 0.6490 - val_loss: 0.3299 - val_tp: 0.0000e+00 - val_fp: 0.0000e+00 - val_tn: 164.0000 - val_fn: 23.0000 - val_accuracy: 0.8770 - val_precision: 0.0000e+00 - val_recall: 0.0000e+00 - val_auc: 0.7993\n",
            "Epoch 42/100\n",
            "1/1 [==============================] - 0s 59ms/step - loss: 0.9199 - tp: 10.0000 - fp: 35.0000 - tn: 628.0000 - fn: 74.0000 - accuracy: 0.8541 - precision: 0.2222 - recall: 0.1190 - auc: 0.6620 - val_loss: 0.3287 - val_tp: 0.0000e+00 - val_fp: 0.0000e+00 - val_tn: 164.0000 - val_fn: 23.0000 - val_accuracy: 0.8770 - val_precision: 0.0000e+00 - val_recall: 0.0000e+00 - val_auc: 0.8021\n",
            "Epoch 43/100\n",
            "1/1 [==============================] - 0s 57ms/step - loss: 0.8973 - tp: 9.0000 - fp: 42.0000 - tn: 621.0000 - fn: 75.0000 - accuracy: 0.8434 - precision: 0.1765 - recall: 0.1071 - auc: 0.6942 - val_loss: 0.3276 - val_tp: 0.0000e+00 - val_fp: 0.0000e+00 - val_tn: 164.0000 - val_fn: 23.0000 - val_accuracy: 0.8770 - val_precision: 0.0000e+00 - val_recall: 0.0000e+00 - val_auc: 0.8111\n",
            "Epoch 44/100\n",
            "1/1 [==============================] - 0s 72ms/step - loss: 0.8677 - tp: 15.0000 - fp: 52.0000 - tn: 611.0000 - fn: 69.0000 - accuracy: 0.8380 - precision: 0.2239 - recall: 0.1786 - auc: 0.6939 - val_loss: 0.3266 - val_tp: 0.0000e+00 - val_fp: 0.0000e+00 - val_tn: 164.0000 - val_fn: 23.0000 - val_accuracy: 0.8770 - val_precision: 0.0000e+00 - val_recall: 0.0000e+00 - val_auc: 0.8115\n",
            "Epoch 45/100\n",
            "1/1 [==============================] - 0s 51ms/step - loss: 0.8947 - tp: 11.0000 - fp: 54.0000 - tn: 609.0000 - fn: 73.0000 - accuracy: 0.8300 - precision: 0.1692 - recall: 0.1310 - auc: 0.6840 - val_loss: 0.3256 - val_tp: 0.0000e+00 - val_fp: 0.0000e+00 - val_tn: 164.0000 - val_fn: 23.0000 - val_accuracy: 0.8770 - val_precision: 0.0000e+00 - val_recall: 0.0000e+00 - val_auc: 0.8143\n",
            "Epoch 46/100\n",
            "1/1 [==============================] - 0s 55ms/step - loss: 0.8433 - tp: 13.0000 - fp: 51.0000 - tn: 612.0000 - fn: 71.0000 - accuracy: 0.8367 - precision: 0.2031 - recall: 0.1548 - auc: 0.7199 - val_loss: 0.3246 - val_tp: 0.0000e+00 - val_fp: 0.0000e+00 - val_tn: 164.0000 - val_fn: 23.0000 - val_accuracy: 0.8770 - val_precision: 0.0000e+00 - val_recall: 0.0000e+00 - val_auc: 0.8204\n",
            "Epoch 47/100\n",
            "1/1 [==============================] - 0s 58ms/step - loss: 0.8653 - tp: 16.0000 - fp: 52.0000 - tn: 611.0000 - fn: 68.0000 - accuracy: 0.8394 - precision: 0.2353 - recall: 0.1905 - auc: 0.6824 - val_loss: 0.3236 - val_tp: 0.0000e+00 - val_fp: 0.0000e+00 - val_tn: 164.0000 - val_fn: 23.0000 - val_accuracy: 0.8770 - val_precision: 0.0000e+00 - val_recall: 0.0000e+00 - val_auc: 0.8213\n",
            "Epoch 48/100\n",
            "1/1 [==============================] - 0s 58ms/step - loss: 0.8270 - tp: 17.0000 - fp: 41.0000 - tn: 622.0000 - fn: 67.0000 - accuracy: 0.8554 - precision: 0.2931 - recall: 0.2024 - auc: 0.7262 - val_loss: 0.3227 - val_tp: 0.0000e+00 - val_fp: 0.0000e+00 - val_tn: 164.0000 - val_fn: 23.0000 - val_accuracy: 0.8770 - val_precision: 0.0000e+00 - val_recall: 0.0000e+00 - val_auc: 0.8257\n",
            "Epoch 49/100\n",
            "1/1 [==============================] - 0s 73ms/step - loss: 0.8686 - tp: 10.0000 - fp: 49.0000 - tn: 614.0000 - fn: 74.0000 - accuracy: 0.8353 - precision: 0.1695 - recall: 0.1190 - auc: 0.6919 - val_loss: 0.3217 - val_tp: 0.0000e+00 - val_fp: 0.0000e+00 - val_tn: 164.0000 - val_fn: 23.0000 - val_accuracy: 0.8770 - val_precision: 0.0000e+00 - val_recall: 0.0000e+00 - val_auc: 0.8290\n",
            "Epoch 50/100\n",
            "1/1 [==============================] - 0s 67ms/step - loss: 0.8592 - tp: 12.0000 - fp: 48.0000 - tn: 615.0000 - fn: 72.0000 - accuracy: 0.8394 - precision: 0.2000 - recall: 0.1429 - auc: 0.6955 - val_loss: 0.3208 - val_tp: 0.0000e+00 - val_fp: 0.0000e+00 - val_tn: 164.0000 - val_fn: 23.0000 - val_accuracy: 0.8770 - val_precision: 0.0000e+00 - val_recall: 0.0000e+00 - val_auc: 0.8378\n",
            "Epoch 51/100\n",
            "1/1 [==============================] - 0s 56ms/step - loss: 0.8482 - tp: 16.0000 - fp: 53.0000 - tn: 610.0000 - fn: 68.0000 - accuracy: 0.8380 - precision: 0.2319 - recall: 0.1905 - auc: 0.6971 - val_loss: 0.3199 - val_tp: 0.0000e+00 - val_fp: 0.0000e+00 - val_tn: 164.0000 - val_fn: 23.0000 - val_accuracy: 0.8770 - val_precision: 0.0000e+00 - val_recall: 0.0000e+00 - val_auc: 0.8503\n",
            "Epoch 52/100\n",
            "1/1 [==============================] - 0s 54ms/step - loss: 0.8965 - tp: 10.0000 - fp: 50.0000 - tn: 613.0000 - fn: 74.0000 - accuracy: 0.8340 - precision: 0.1667 - recall: 0.1190 - auc: 0.6613 - val_loss: 0.3191 - val_tp: 0.0000e+00 - val_fp: 0.0000e+00 - val_tn: 164.0000 - val_fn: 23.0000 - val_accuracy: 0.8770 - val_precision: 0.0000e+00 - val_recall: 0.0000e+00 - val_auc: 0.8503\n",
            "Epoch 53/100\n",
            "1/1 [==============================] - 0s 58ms/step - loss: 0.8285 - tp: 16.0000 - fp: 54.0000 - tn: 609.0000 - fn: 68.0000 - accuracy: 0.8367 - precision: 0.2286 - recall: 0.1905 - auc: 0.7071 - val_loss: 0.3182 - val_tp: 0.0000e+00 - val_fp: 0.0000e+00 - val_tn: 164.0000 - val_fn: 23.0000 - val_accuracy: 0.8770 - val_precision: 0.0000e+00 - val_recall: 0.0000e+00 - val_auc: 0.8556\n",
            "Epoch 54/100\n",
            "1/1 [==============================] - 0s 66ms/step - loss: 0.8343 - tp: 17.0000 - fp: 49.0000 - tn: 614.0000 - fn: 67.0000 - accuracy: 0.8447 - precision: 0.2576 - recall: 0.2024 - auc: 0.7013 - val_loss: 0.3173 - val_tp: 0.0000e+00 - val_fp: 0.0000e+00 - val_tn: 164.0000 - val_fn: 23.0000 - val_accuracy: 0.8770 - val_precision: 0.0000e+00 - val_recall: 0.0000e+00 - val_auc: 0.8591\n",
            "Epoch 55/100\n",
            "1/1 [==============================] - 0s 62ms/step - loss: 0.8462 - tp: 16.0000 - fp: 49.0000 - tn: 614.0000 - fn: 68.0000 - accuracy: 0.8434 - precision: 0.2462 - recall: 0.1905 - auc: 0.6910 - val_loss: 0.3165 - val_tp: 0.0000e+00 - val_fp: 0.0000e+00 - val_tn: 164.0000 - val_fn: 23.0000 - val_accuracy: 0.8770 - val_precision: 0.0000e+00 - val_recall: 0.0000e+00 - val_auc: 0.8583\n",
            "Epoch 56/100\n",
            "1/1 [==============================] - 0s 51ms/step - loss: 0.8310 - tp: 15.0000 - fp: 51.0000 - tn: 612.0000 - fn: 69.0000 - accuracy: 0.8394 - precision: 0.2273 - recall: 0.1786 - auc: 0.6985 - val_loss: 0.3158 - val_tp: 0.0000e+00 - val_fp: 0.0000e+00 - val_tn: 164.0000 - val_fn: 23.0000 - val_accuracy: 0.8770 - val_precision: 0.0000e+00 - val_recall: 0.0000e+00 - val_auc: 0.8595\n",
            "Epoch 57/100\n",
            "1/1 [==============================] - 0s 72ms/step - loss: 0.8129 - tp: 19.0000 - fp: 47.0000 - tn: 616.0000 - fn: 65.0000 - accuracy: 0.8501 - precision: 0.2879 - recall: 0.2262 - auc: 0.7096 - val_loss: 0.3151 - val_tp: 0.0000e+00 - val_fp: 0.0000e+00 - val_tn: 164.0000 - val_fn: 23.0000 - val_accuracy: 0.8770 - val_precision: 0.0000e+00 - val_recall: 0.0000e+00 - val_auc: 0.8643\n",
            "Epoch 58/100\n",
            "1/1 [==============================] - 0s 62ms/step - loss: 0.8090 - tp: 20.0000 - fp: 56.0000 - tn: 607.0000 - fn: 64.0000 - accuracy: 0.8394 - precision: 0.2632 - recall: 0.2381 - auc: 0.7141 - val_loss: 0.3145 - val_tp: 0.0000e+00 - val_fp: 0.0000e+00 - val_tn: 164.0000 - val_fn: 23.0000 - val_accuracy: 0.8770 - val_precision: 0.0000e+00 - val_recall: 0.0000e+00 - val_auc: 0.8659\n",
            "Epoch 59/100\n",
            "1/1 [==============================] - 0s 51ms/step - loss: 0.7991 - tp: 15.0000 - fp: 58.0000 - tn: 605.0000 - fn: 69.0000 - accuracy: 0.8300 - precision: 0.2055 - recall: 0.1786 - auc: 0.7120 - val_loss: 0.3139 - val_tp: 0.0000e+00 - val_fp: 0.0000e+00 - val_tn: 164.0000 - val_fn: 23.0000 - val_accuracy: 0.8770 - val_precision: 0.0000e+00 - val_recall: 0.0000e+00 - val_auc: 0.8742\n",
            "Epoch 60/100\n",
            "1/1 [==============================] - 0s 68ms/step - loss: 0.7690 - tp: 26.0000 - fp: 55.0000 - tn: 608.0000 - fn: 58.0000 - accuracy: 0.8487 - precision: 0.3210 - recall: 0.3095 - auc: 0.7262 - val_loss: 0.3133 - val_tp: 0.0000e+00 - val_fp: 0.0000e+00 - val_tn: 164.0000 - val_fn: 23.0000 - val_accuracy: 0.8770 - val_precision: 0.0000e+00 - val_recall: 0.0000e+00 - val_auc: 0.8782\n",
            "Epoch 61/100\n",
            "1/1 [==============================] - 0s 54ms/step - loss: 0.8319 - tp: 16.0000 - fp: 54.0000 - tn: 609.0000 - fn: 68.0000 - accuracy: 0.8367 - precision: 0.2286 - recall: 0.1905 - auc: 0.6967 - val_loss: 0.3127 - val_tp: 0.0000e+00 - val_fp: 0.0000e+00 - val_tn: 164.0000 - val_fn: 23.0000 - val_accuracy: 0.8770 - val_precision: 0.0000e+00 - val_recall: 0.0000e+00 - val_auc: 0.8782\n",
            "Epoch 62/100\n",
            "1/1 [==============================] - 0s 61ms/step - loss: 0.7673 - tp: 17.0000 - fp: 58.0000 - tn: 605.0000 - fn: 67.0000 - accuracy: 0.8327 - precision: 0.2267 - recall: 0.2024 - auc: 0.7464 - val_loss: 0.3121 - val_tp: 3.0000 - val_fp: 0.0000e+00 - val_tn: 164.0000 - val_fn: 20.0000 - val_accuracy: 0.8930 - val_precision: 1.0000 - val_recall: 0.1304 - val_auc: 0.8806\n",
            "Epoch 63/100\n",
            "1/1 [==============================] - 0s 59ms/step - loss: 0.7701 - tp: 17.0000 - fp: 48.0000 - tn: 615.0000 - fn: 67.0000 - accuracy: 0.8461 - precision: 0.2615 - recall: 0.2024 - auc: 0.7288 - val_loss: 0.3115 - val_tp: 3.0000 - val_fp: 0.0000e+00 - val_tn: 164.0000 - val_fn: 20.0000 - val_accuracy: 0.8930 - val_precision: 1.0000 - val_recall: 0.1304 - val_auc: 0.8819\n",
            "Epoch 64/100\n",
            "1/1 [==============================] - 0s 68ms/step - loss: 0.8804 - tp: 13.0000 - fp: 48.0000 - tn: 615.0000 - fn: 71.0000 - accuracy: 0.8407 - precision: 0.2131 - recall: 0.1548 - auc: 0.6624 - val_loss: 0.3110 - val_tp: 3.0000 - val_fp: 0.0000e+00 - val_tn: 164.0000 - val_fn: 20.0000 - val_accuracy: 0.8930 - val_precision: 1.0000 - val_recall: 0.1304 - val_auc: 0.8837\n",
            "Epoch 65/100\n",
            "1/1 [==============================] - 0s 64ms/step - loss: 0.7144 - tp: 22.0000 - fp: 57.0000 - tn: 606.0000 - fn: 62.0000 - accuracy: 0.8407 - precision: 0.2785 - recall: 0.2619 - auc: 0.7702 - val_loss: 0.3104 - val_tp: 3.0000 - val_fp: 0.0000e+00 - val_tn: 164.0000 - val_fn: 20.0000 - val_accuracy: 0.8930 - val_precision: 1.0000 - val_recall: 0.1304 - val_auc: 0.8836\n",
            "Epoch 66/100\n",
            "1/1 [==============================] - 0s 51ms/step - loss: 0.8153 - tp: 17.0000 - fp: 64.0000 - tn: 599.0000 - fn: 67.0000 - accuracy: 0.8246 - precision: 0.2099 - recall: 0.2024 - auc: 0.6965 - val_loss: 0.3098 - val_tp: 3.0000 - val_fp: 0.0000e+00 - val_tn: 164.0000 - val_fn: 20.0000 - val_accuracy: 0.8930 - val_precision: 1.0000 - val_recall: 0.1304 - val_auc: 0.8847\n",
            "Epoch 67/100\n",
            "1/1 [==============================] - 0s 60ms/step - loss: 0.8092 - tp: 17.0000 - fp: 51.0000 - tn: 612.0000 - fn: 67.0000 - accuracy: 0.8420 - precision: 0.2500 - recall: 0.2024 - auc: 0.7140 - val_loss: 0.3092 - val_tp: 3.0000 - val_fp: 0.0000e+00 - val_tn: 164.0000 - val_fn: 20.0000 - val_accuracy: 0.8930 - val_precision: 1.0000 - val_recall: 0.1304 - val_auc: 0.8863\n",
            "Epoch 68/100\n",
            "1/1 [==============================] - 0s 62ms/step - loss: 0.7662 - tp: 24.0000 - fp: 54.0000 - tn: 609.0000 - fn: 60.0000 - accuracy: 0.8474 - precision: 0.3077 - recall: 0.2857 - auc: 0.7306 - val_loss: 0.3087 - val_tp: 3.0000 - val_fp: 0.0000e+00 - val_tn: 164.0000 - val_fn: 20.0000 - val_accuracy: 0.8930 - val_precision: 1.0000 - val_recall: 0.1304 - val_auc: 0.8883\n",
            "Epoch 69/100\n",
            "1/1 [==============================] - 0s 56ms/step - loss: 0.7878 - tp: 21.0000 - fp: 56.0000 - tn: 607.0000 - fn: 63.0000 - accuracy: 0.8407 - precision: 0.2727 - recall: 0.2500 - auc: 0.7250 - val_loss: 0.3082 - val_tp: 3.0000 - val_fp: 0.0000e+00 - val_tn: 164.0000 - val_fn: 20.0000 - val_accuracy: 0.8930 - val_precision: 1.0000 - val_recall: 0.1304 - val_auc: 0.8896\n",
            "Epoch 70/100\n",
            "1/1 [==============================] - 0s 56ms/step - loss: 0.7420 - tp: 24.0000 - fp: 58.0000 - tn: 605.0000 - fn: 60.0000 - accuracy: 0.8420 - precision: 0.2927 - recall: 0.2857 - auc: 0.7432 - val_loss: 0.3078 - val_tp: 3.0000 - val_fp: 0.0000e+00 - val_tn: 164.0000 - val_fn: 20.0000 - val_accuracy: 0.8930 - val_precision: 1.0000 - val_recall: 0.1304 - val_auc: 0.8916\n",
            "Epoch 71/100\n",
            "1/1 [==============================] - 0s 65ms/step - loss: 0.7617 - tp: 25.0000 - fp: 49.0000 - tn: 614.0000 - fn: 59.0000 - accuracy: 0.8554 - precision: 0.3378 - recall: 0.2976 - auc: 0.7271 - val_loss: 0.3074 - val_tp: 3.0000 - val_fp: 0.0000e+00 - val_tn: 164.0000 - val_fn: 20.0000 - val_accuracy: 0.8930 - val_precision: 1.0000 - val_recall: 0.1304 - val_auc: 0.8975\n",
            "Epoch 72/100\n",
            "1/1 [==============================] - 0s 62ms/step - loss: 0.7126 - tp: 28.0000 - fp: 57.0000 - tn: 606.0000 - fn: 56.0000 - accuracy: 0.8487 - precision: 0.3294 - recall: 0.3333 - auc: 0.7523 - val_loss: 0.3070 - val_tp: 3.0000 - val_fp: 0.0000e+00 - val_tn: 164.0000 - val_fn: 20.0000 - val_accuracy: 0.8930 - val_precision: 1.0000 - val_recall: 0.1304 - val_auc: 0.9038\n",
            "Epoch 73/100\n",
            "1/1 [==============================] - 0s 77ms/step - loss: 0.7264 - tp: 27.0000 - fp: 67.0000 - tn: 596.0000 - fn: 57.0000 - accuracy: 0.8340 - precision: 0.2872 - recall: 0.3214 - auc: 0.7532 - val_loss: 0.3066 - val_tp: 3.0000 - val_fp: 0.0000e+00 - val_tn: 164.0000 - val_fn: 20.0000 - val_accuracy: 0.8930 - val_precision: 1.0000 - val_recall: 0.1304 - val_auc: 0.9084\n",
            "Epoch 74/100\n",
            "1/1 [==============================] - 0s 67ms/step - loss: 0.7566 - tp: 22.0000 - fp: 66.0000 - tn: 597.0000 - fn: 62.0000 - accuracy: 0.8286 - precision: 0.2500 - recall: 0.2619 - auc: 0.7180 - val_loss: 0.3062 - val_tp: 3.0000 - val_fp: 0.0000e+00 - val_tn: 164.0000 - val_fn: 20.0000 - val_accuracy: 0.8930 - val_precision: 1.0000 - val_recall: 0.1304 - val_auc: 0.9138\n",
            "Epoch 75/100\n",
            "1/1 [==============================] - 0s 61ms/step - loss: 0.7189 - tp: 28.0000 - fp: 66.0000 - tn: 597.0000 - fn: 56.0000 - accuracy: 0.8367 - precision: 0.2979 - recall: 0.3333 - auc: 0.7383 - val_loss: 0.3058 - val_tp: 3.0000 - val_fp: 0.0000e+00 - val_tn: 164.0000 - val_fn: 20.0000 - val_accuracy: 0.8930 - val_precision: 1.0000 - val_recall: 0.1304 - val_auc: 0.9138\n",
            "Epoch 76/100\n",
            "1/1 [==============================] - 0s 239ms/step - loss: 0.7277 - tp: 27.0000 - fp: 52.0000 - tn: 611.0000 - fn: 57.0000 - accuracy: 0.8541 - precision: 0.3418 - recall: 0.3214 - auc: 0.7390 - val_loss: 0.3054 - val_tp: 3.0000 - val_fp: 0.0000e+00 - val_tn: 164.0000 - val_fn: 20.0000 - val_accuracy: 0.8930 - val_precision: 1.0000 - val_recall: 0.1304 - val_auc: 0.9176\n",
            "Epoch 77/100\n",
            "1/1 [==============================] - 0s 56ms/step - loss: 0.7448 - tp: 22.0000 - fp: 67.0000 - tn: 596.0000 - fn: 62.0000 - accuracy: 0.8273 - precision: 0.2472 - recall: 0.2619 - auc: 0.7248 - val_loss: 0.3050 - val_tp: 5.0000 - val_fp: 0.0000e+00 - val_tn: 164.0000 - val_fn: 18.0000 - val_accuracy: 0.9037 - val_precision: 1.0000 - val_recall: 0.2174 - val_auc: 0.9207\n",
            "Epoch 78/100\n",
            "1/1 [==============================] - 0s 56ms/step - loss: 0.6373 - tp: 33.0000 - fp: 56.0000 - tn: 607.0000 - fn: 51.0000 - accuracy: 0.8568 - precision: 0.3708 - recall: 0.3929 - auc: 0.8022 - val_loss: 0.3047 - val_tp: 5.0000 - val_fp: 0.0000e+00 - val_tn: 164.0000 - val_fn: 18.0000 - val_accuracy: 0.9037 - val_precision: 1.0000 - val_recall: 0.2174 - val_auc: 0.9239\n",
            "Epoch 79/100\n",
            "1/1 [==============================] - 0s 60ms/step - loss: 0.7612 - tp: 26.0000 - fp: 66.0000 - tn: 597.0000 - fn: 58.0000 - accuracy: 0.8340 - precision: 0.2826 - recall: 0.3095 - auc: 0.7109 - val_loss: 0.3043 - val_tp: 5.0000 - val_fp: 0.0000e+00 - val_tn: 164.0000 - val_fn: 18.0000 - val_accuracy: 0.9037 - val_precision: 1.0000 - val_recall: 0.2174 - val_auc: 0.9239\n",
            "Epoch 80/100\n",
            "1/1 [==============================] - 0s 58ms/step - loss: 0.7522 - tp: 26.0000 - fp: 49.0000 - tn: 614.0000 - fn: 58.0000 - accuracy: 0.8568 - precision: 0.3467 - recall: 0.3095 - auc: 0.7323 - val_loss: 0.3039 - val_tp: 5.0000 - val_fp: 0.0000e+00 - val_tn: 164.0000 - val_fn: 18.0000 - val_accuracy: 0.9037 - val_precision: 1.0000 - val_recall: 0.2174 - val_auc: 0.9258\n",
            "Epoch 81/100\n",
            "1/1 [==============================] - 0s 58ms/step - loss: 0.7171 - tp: 21.0000 - fp: 58.0000 - tn: 605.0000 - fn: 63.0000 - accuracy: 0.8380 - precision: 0.2658 - recall: 0.2500 - auc: 0.7579 - val_loss: 0.3036 - val_tp: 5.0000 - val_fp: 0.0000e+00 - val_tn: 164.0000 - val_fn: 18.0000 - val_accuracy: 0.9037 - val_precision: 1.0000 - val_recall: 0.2174 - val_auc: 0.9252\n",
            "Epoch 82/100\n",
            "1/1 [==============================] - 0s 54ms/step - loss: 0.7058 - tp: 23.0000 - fp: 71.0000 - tn: 592.0000 - fn: 61.0000 - accuracy: 0.8233 - precision: 0.2447 - recall: 0.2738 - auc: 0.7518 - val_loss: 0.3032 - val_tp: 5.0000 - val_fp: 0.0000e+00 - val_tn: 164.0000 - val_fn: 18.0000 - val_accuracy: 0.9037 - val_precision: 1.0000 - val_recall: 0.2174 - val_auc: 0.9266\n",
            "Epoch 83/100\n",
            "1/1 [==============================] - 0s 63ms/step - loss: 0.6779 - tp: 28.0000 - fp: 65.0000 - tn: 598.0000 - fn: 56.0000 - accuracy: 0.8380 - precision: 0.3011 - recall: 0.3333 - auc: 0.7688 - val_loss: 0.3029 - val_tp: 5.0000 - val_fp: 0.0000e+00 - val_tn: 164.0000 - val_fn: 18.0000 - val_accuracy: 0.9037 - val_precision: 1.0000 - val_recall: 0.2174 - val_auc: 0.9275\n",
            "Epoch 84/100\n",
            "1/1 [==============================] - 0s 64ms/step - loss: 0.6841 - tp: 31.0000 - fp: 65.0000 - tn: 598.0000 - fn: 53.0000 - accuracy: 0.8420 - precision: 0.3229 - recall: 0.3690 - auc: 0.7541 - val_loss: 0.3025 - val_tp: 5.0000 - val_fp: 0.0000e+00 - val_tn: 164.0000 - val_fn: 18.0000 - val_accuracy: 0.9037 - val_precision: 1.0000 - val_recall: 0.2174 - val_auc: 0.9275\n",
            "Epoch 85/100\n",
            "1/1 [==============================] - 0s 68ms/step - loss: 0.7002 - tp: 25.0000 - fp: 63.0000 - tn: 600.0000 - fn: 59.0000 - accuracy: 0.8367 - precision: 0.2841 - recall: 0.2976 - auc: 0.7508 - val_loss: 0.3022 - val_tp: 5.0000 - val_fp: 0.0000e+00 - val_tn: 164.0000 - val_fn: 18.0000 - val_accuracy: 0.9037 - val_precision: 1.0000 - val_recall: 0.2174 - val_auc: 0.9288\n",
            "Epoch 86/100\n",
            "1/1 [==============================] - 0s 69ms/step - loss: 0.7204 - tp: 25.0000 - fp: 61.0000 - tn: 602.0000 - fn: 59.0000 - accuracy: 0.8394 - precision: 0.2907 - recall: 0.2976 - auc: 0.7378 - val_loss: 0.3018 - val_tp: 5.0000 - val_fp: 0.0000e+00 - val_tn: 164.0000 - val_fn: 18.0000 - val_accuracy: 0.9037 - val_precision: 1.0000 - val_recall: 0.2174 - val_auc: 0.9301\n",
            "Epoch 87/100\n",
            "1/1 [==============================] - 0s 70ms/step - loss: 0.7364 - tp: 22.0000 - fp: 77.0000 - tn: 586.0000 - fn: 62.0000 - accuracy: 0.8139 - precision: 0.2222 - recall: 0.2619 - auc: 0.7281 - val_loss: 0.3015 - val_tp: 5.0000 - val_fp: 0.0000e+00 - val_tn: 164.0000 - val_fn: 18.0000 - val_accuracy: 0.9037 - val_precision: 1.0000 - val_recall: 0.2174 - val_auc: 0.9301\n",
            "Epoch 88/100\n",
            "1/1 [==============================] - 0s 67ms/step - loss: 0.7126 - tp: 29.0000 - fp: 76.0000 - tn: 587.0000 - fn: 55.0000 - accuracy: 0.8246 - precision: 0.2762 - recall: 0.3452 - auc: 0.7329 - val_loss: 0.3012 - val_tp: 5.0000 - val_fp: 0.0000e+00 - val_tn: 164.0000 - val_fn: 18.0000 - val_accuracy: 0.9037 - val_precision: 1.0000 - val_recall: 0.2174 - val_auc: 0.9321\n",
            "Epoch 89/100\n",
            "1/1 [==============================] - 0s 57ms/step - loss: 0.7425 - tp: 26.0000 - fp: 70.0000 - tn: 593.0000 - fn: 58.0000 - accuracy: 0.8286 - precision: 0.2708 - recall: 0.3095 - auc: 0.7203 - val_loss: 0.3008 - val_tp: 5.0000 - val_fp: 0.0000e+00 - val_tn: 164.0000 - val_fn: 18.0000 - val_accuracy: 0.9037 - val_precision: 1.0000 - val_recall: 0.2174 - val_auc: 0.9343\n",
            "Epoch 90/100\n",
            "1/1 [==============================] - 0s 59ms/step - loss: 0.7446 - tp: 30.0000 - fp: 51.0000 - tn: 612.0000 - fn: 54.0000 - accuracy: 0.8594 - precision: 0.3704 - recall: 0.3571 - auc: 0.7172 - val_loss: 0.3005 - val_tp: 5.0000 - val_fp: 0.0000e+00 - val_tn: 164.0000 - val_fn: 18.0000 - val_accuracy: 0.9037 - val_precision: 1.0000 - val_recall: 0.2174 - val_auc: 0.9335\n",
            "Epoch 91/100\n",
            "1/1 [==============================] - 0s 69ms/step - loss: 0.7032 - tp: 30.0000 - fp: 63.0000 - tn: 600.0000 - fn: 54.0000 - accuracy: 0.8434 - precision: 0.3226 - recall: 0.3571 - auc: 0.7566 - val_loss: 0.3002 - val_tp: 10.0000 - val_fp: 0.0000e+00 - val_tn: 164.0000 - val_fn: 13.0000 - val_accuracy: 0.9305 - val_precision: 1.0000 - val_recall: 0.4348 - val_auc: 0.9331\n",
            "Epoch 92/100\n",
            "1/1 [==============================] - 0s 70ms/step - loss: 0.6927 - tp: 33.0000 - fp: 67.0000 - tn: 596.0000 - fn: 51.0000 - accuracy: 0.8420 - precision: 0.3300 - recall: 0.3929 - auc: 0.7554 - val_loss: 0.2999 - val_tp: 10.0000 - val_fp: 0.0000e+00 - val_tn: 164.0000 - val_fn: 13.0000 - val_accuracy: 0.9305 - val_precision: 1.0000 - val_recall: 0.4348 - val_auc: 0.9349\n",
            "Epoch 93/100\n",
            "1/1 [==============================] - 0s 57ms/step - loss: 0.6988 - tp: 35.0000 - fp: 77.0000 - tn: 586.0000 - fn: 49.0000 - accuracy: 0.8313 - precision: 0.3125 - recall: 0.4167 - auc: 0.7458 - val_loss: 0.2996 - val_tp: 10.0000 - val_fp: 0.0000e+00 - val_tn: 164.0000 - val_fn: 13.0000 - val_accuracy: 0.9305 - val_precision: 1.0000 - val_recall: 0.4348 - val_auc: 0.9328\n",
            "Epoch 94/100\n",
            "1/1 [==============================] - 0s 64ms/step - loss: 0.6856 - tp: 40.0000 - fp: 67.0000 - tn: 596.0000 - fn: 44.0000 - accuracy: 0.8514 - precision: 0.3738 - recall: 0.4762 - auc: 0.7566 - val_loss: 0.2993 - val_tp: 10.0000 - val_fp: 0.0000e+00 - val_tn: 164.0000 - val_fn: 13.0000 - val_accuracy: 0.9305 - val_precision: 1.0000 - val_recall: 0.4348 - val_auc: 0.9349\n",
            "Epoch 95/100\n",
            "1/1 [==============================] - 0s 58ms/step - loss: 0.6707 - tp: 33.0000 - fp: 67.0000 - tn: 596.0000 - fn: 51.0000 - accuracy: 0.8420 - precision: 0.3300 - recall: 0.3929 - auc: 0.7815 - val_loss: 0.2990 - val_tp: 10.0000 - val_fp: 0.0000e+00 - val_tn: 164.0000 - val_fn: 13.0000 - val_accuracy: 0.9305 - val_precision: 1.0000 - val_recall: 0.4348 - val_auc: 0.9364\n",
            "Epoch 96/100\n",
            "1/1 [==============================] - 0s 54ms/step - loss: 0.6611 - tp: 37.0000 - fp: 73.0000 - tn: 590.0000 - fn: 47.0000 - accuracy: 0.8394 - precision: 0.3364 - recall: 0.4405 - auc: 0.7658 - val_loss: 0.2987 - val_tp: 10.0000 - val_fp: 0.0000e+00 - val_tn: 164.0000 - val_fn: 13.0000 - val_accuracy: 0.9305 - val_precision: 1.0000 - val_recall: 0.4348 - val_auc: 0.9343\n",
            "Epoch 97/100\n",
            "1/1 [==============================] - 0s 53ms/step - loss: 0.6775 - tp: 34.0000 - fp: 73.0000 - tn: 590.0000 - fn: 50.0000 - accuracy: 0.8353 - precision: 0.3178 - recall: 0.4048 - auc: 0.7685 - val_loss: 0.2984 - val_tp: 10.0000 - val_fp: 0.0000e+00 - val_tn: 164.0000 - val_fn: 13.0000 - val_accuracy: 0.9305 - val_precision: 1.0000 - val_recall: 0.4348 - val_auc: 0.9361\n",
            "Epoch 98/100\n",
            "1/1 [==============================] - 0s 59ms/step - loss: 0.6885 - tp: 35.0000 - fp: 85.0000 - tn: 578.0000 - fn: 49.0000 - accuracy: 0.8206 - precision: 0.2917 - recall: 0.4167 - auc: 0.7622 - val_loss: 0.2981 - val_tp: 10.0000 - val_fp: 0.0000e+00 - val_tn: 164.0000 - val_fn: 13.0000 - val_accuracy: 0.9305 - val_precision: 1.0000 - val_recall: 0.4348 - val_auc: 0.9369\n",
            "Epoch 99/100\n",
            "1/1 [==============================] - 0s 80ms/step - loss: 0.7047 - tp: 33.0000 - fp: 74.0000 - tn: 589.0000 - fn: 51.0000 - accuracy: 0.8327 - precision: 0.3084 - recall: 0.3929 - auc: 0.7431 - val_loss: 0.2979 - val_tp: 10.0000 - val_fp: 0.0000e+00 - val_tn: 164.0000 - val_fn: 13.0000 - val_accuracy: 0.9305 - val_precision: 1.0000 - val_recall: 0.4348 - val_auc: 0.9374\n",
            "Epoch 100/100\n",
            "1/1 [==============================] - 0s 55ms/step - loss: 0.7171 - tp: 30.0000 - fp: 72.0000 - tn: 591.0000 - fn: 54.0000 - accuracy: 0.8313 - precision: 0.2941 - recall: 0.3571 - auc: 0.7438 - val_loss: 0.2976 - val_tp: 10.0000 - val_fp: 0.0000e+00 - val_tn: 164.0000 - val_fn: 13.0000 - val_accuracy: 0.9305 - val_precision: 1.0000 - val_recall: 0.4348 - val_auc: 0.9374\n"
          ],
          "name": "stdout"
        }
      ]
    },
    {
      "cell_type": "code",
      "metadata": {
        "colab": {
          "base_uri": "https://localhost:8080/",
          "height": 609
        },
        "id": "XAzDc2Vcpjir",
        "outputId": "04e5bdd7-ca2c-47e9-d2a9-20d71dbcedc7"
      },
      "source": [
        "plot_metrics(weighted_history)"
      ],
      "execution_count": null,
      "outputs": [
        {
          "output_type": "display_data",
          "data": {
            "image/png": "[encoded data removed]",
            "text/plain": [
              "<Figure size 864x720 with 4 Axes>"
            ]
          },
          "metadata": {
            "tags": [],
            "needs_background": "light"
          }
        }
      ]
    },
    {
      "cell_type": "code",
      "metadata": {
        "id": "h7h20wtwpsU3"
      },
      "source": [
        "train_predictions_weighted = weighted_model.predict(train_features, batch_size=BATCH_SIZE)\r\n",
        "test_predictions_weighted = weighted_model.predict(test_features, batch_size=BATCH_SIZE)"
      ],
      "execution_count": null,
      "outputs": []
    },
    {
      "cell_type": "code",
      "metadata": {
        "colab": {
          "base_uri": "https://localhost:8080/",
          "height": 602
        },
        "id": "cnV6tmaBpynr",
        "outputId": "40ede147-d74a-42b9-f48c-07e03752b0b8"
      },
      "source": [
        "weighted_results = weighted_model.evaluate(test_features, test_labels,\r\n",
        "                                           batch_size=BATCH_SIZE, verbose=0)\r\n",
        "for name, value in zip(weighted_model.metrics_names, weighted_results):\r\n",
        "  print(name, ': ', value)\r\n",
        "print()\r\n",
        "\r\n",
        "plot_cm(test_labels, test_predictions_weighted)"
      ],
      "execution_count": null,
      "outputs": [
        {
          "output_type": "stream",
          "text": [
            "loss :  0.2897976338863373\n",
            "tp :  9.0\n",
            "fp :  0.0\n",
            "tn :  213.0\n",
            "fn :  12.0\n",
            "accuracy :  0.9487179517745972\n",
            "precision :  1.0\n",
            "recall :  0.4285714328289032\n",
            "auc :  0.897272527217865\n",
            "\n",
            "Legitimate Transactions Detected (True Negatives):  213\n",
            "Legitimate Transactions Incorrectly Detected (False Positives):  0\n",
            "Fraudulent Transactions Missed (False Negatives):  12\n",
            "Fraudulent Transactions Detected (True Positives):  9\n",
            "Total Fraudulent Transactions:  21\n"
          ],
          "name": "stdout"
        },
        {
          "output_type": "display_data",
          "data": {
            "image/png": "[encoded data removed]",
            "text/plain": [
              "<Figure size 360x360 with 2 Axes>"
            ]
          },
          "metadata": {
            "tags": [],
            "needs_background": "light"
          }
        }
      ]
    },
    {
      "cell_type": "code",
      "metadata": {
        "colab": {
          "base_uri": "https://localhost:8080/",
          "height": 623
        },
        "id": "9oFSk6wLp0li",
        "outputId": "2c862470-e551-45a6-8e60-86d8d453e258"
      },
      "source": [
        "plot_roc(\"Train Baseline\", train_labels, train_predictions_baseline, color=colors[0])\r\n",
        "plot_roc(\"Test Baseline\", test_labels, test_predictions_baseline, color=colors[0], linestyle='--')\r\n",
        "\r\n",
        "plot_roc(\"Train Weighted\", train_labels, train_predictions_weighted, color=colors[1])\r\n",
        "plot_roc(\"Test Weighted\", test_labels, test_predictions_weighted, color=colors[1], linestyle='--')\r\n",
        "\r\n",
        "\r\n",
        "plt.legend(loc='lower right')"
      ],
      "execution_count": null,
      "outputs": [
        {
          "output_type": "execute_result",
          "data": {
            "text/plain": [
              "<matplotlib.legend.Legend at 0x7f0154f97208>"
            ]
          },
          "metadata": {
            "tags": []
          },
          "execution_count": 71
        },
        {
          "output_type": "display_data",
          "data": {
            "image/png": "[encoded data removed]",
            "text/plain": [
              "<Figure size 864x720 with 1 Axes>"
            ]
          },
          "metadata": {
            "tags": [],
            "needs_background": "light"
          }
        }
      ]
    },
    {
      "cell_type": "code",
      "metadata": {
        "id": "9GLxQN0ep83l"
      },
      "source": [
        "pos_features = train_features[bool_train_labels]\r\n",
        "neg_features = train_features[~bool_train_labels]\r\n",
        "\r\n",
        "pos_labels = train_labels[bool_train_labels]\r\n",
        "neg_labels = train_labels[~bool_train_labels]"
      ],
      "execution_count": null,
      "outputs": []
    },
    {
      "cell_type": "code",
      "metadata": {
        "colab": {
          "base_uri": "https://localhost:8080/"
        },
        "id": "r3yjq8JuqAb0",
        "outputId": "00b24019-9c16-46a5-e4af-7493fa568319"
      },
      "source": [
        "ids = np.arange(len(pos_features))\r\n",
        "choices = np.random.choice(ids, len(neg_features))\r\n",
        "\r\n",
        "res_pos_features = pos_features[choices]\r\n",
        "res_pos_labels = pos_labels[choices]\r\n",
        "\r\n",
        "res_pos_features.shape"
      ],
      "execution_count": null,
      "outputs": [
        {
          "output_type": "execute_result",
          "data": {
            "text/plain": [
              "(663, 24)"
            ]
          },
          "metadata": {
            "tags": []
          },
          "execution_count": 73
        }
      ]
    },
    {
      "cell_type": "code",
      "metadata": {
        "colab": {
          "base_uri": "https://localhost:8080/"
        },
        "id": "bngwhzm_qCmG",
        "outputId": "9e0282a5-db2b-47f0-bc46-5a4877971d2c"
      },
      "source": [
        "resampled_features = np.concatenate([res_pos_features, neg_features], axis=0)\r\n",
        "resampled_labels = np.concatenate([res_pos_labels, neg_labels], axis=0)\r\n",
        "\r\n",
        "order = np.arange(len(resampled_labels))\r\n",
        "np.random.shuffle(order)\r\n",
        "resampled_features = resampled_features[order]\r\n",
        "resampled_labels = resampled_labels[order]\r\n",
        "\r\n",
        "resampled_features.shape"
      ],
      "execution_count": null,
      "outputs": [
        {
          "output_type": "execute_result",
          "data": {
            "text/plain": [
              "(1326, 24)"
            ]
          },
          "metadata": {
            "tags": []
          },
          "execution_count": 74
        }
      ]
    },
    {
      "cell_type": "code",
      "metadata": {
        "id": "8X_A5RmTqFBB"
      },
      "source": [
        "BUFFER_SIZE = 100000\r\n",
        "\r\n",
        "def make_ds(features, labels):\r\n",
        "  ds = tf.data.Dataset.from_tensor_slices((features, labels))#.cache()\r\n",
        "  ds = ds.shuffle(BUFFER_SIZE).repeat()\r\n",
        "  return ds\r\n",
        "\r\n",
        "pos_ds = make_ds(pos_features, pos_labels)\r\n",
        "neg_ds = make_ds(neg_features, neg_labels)"
      ],
      "execution_count": null,
      "outputs": []
    },
    {
      "cell_type": "code",
      "metadata": {
        "colab": {
          "base_uri": "https://localhost:8080/"
        },
        "id": "rxbDDjjlqKIq",
        "outputId": "fbb440a1-a70b-49b0-b30a-ebbf83749b3c"
      },
      "source": [
        "for features, label in pos_ds.take(1):\r\n",
        "  print(\"Features:\\n\", features.numpy())\r\n",
        "  print()\r\n",
        "  print(\"Label: \", label.numpy())"
      ],
      "execution_count": null,
      "outputs": [
        {
          "output_type": "stream",
          "text": [
            "Features:\n",
            " [ 1.7379294   1.7379294  -0.05274029 -0.05274029 -0.33853551 -0.41905154\n",
            "  1.99124542  1.74599041  0.58611021  0.27634919  0.93390602  1.12411581\n",
            " -0.23150943 -0.13308333 -0.30085038 -0.11648399 -0.50649333 -0.72216102\n",
            "  1.71394662 -0.84856235 -0.6357164  -0.60467406  1.21726233 -0.20807712]\n",
            "\n",
            "Label:  1\n"
          ],
          "name": "stdout"
        }
      ]
    },
    {
      "cell_type": "code",
      "metadata": {
        "id": "k7LSNJNqqMWe"
      },
      "source": [
        "resampled_ds = tf.data.experimental.sample_from_datasets([pos_ds, neg_ds], weights=[0.5, 0.5])\r\n",
        "resampled_ds = resampled_ds.batch(BATCH_SIZE).prefetch(2)"
      ],
      "execution_count": null,
      "outputs": []
    },
    {
      "cell_type": "code",
      "metadata": {
        "colab": {
          "base_uri": "https://localhost:8080/"
        },
        "id": "K5j3Vq4vqPJM",
        "outputId": "38e74cd4-a393-4ddf-d0b5-cc245fd06c66"
      },
      "source": [
        "for features, label in resampled_ds.take(1):\r\n",
        "  print(label.numpy().mean())"
      ],
      "execution_count": null,
      "outputs": [
        {
          "output_type": "stream",
          "text": [
            "0.49755859375\n"
          ],
          "name": "stdout"
        }
      ]
    },
    {
      "cell_type": "code",
      "metadata": {
        "colab": {
          "base_uri": "https://localhost:8080/"
        },
        "id": "CuPymCb4qROo",
        "outputId": "0f83f8e4-40c4-4430-f706-ae503b80982f"
      },
      "source": [
        "resampled_steps_per_epoch = np.ceil(2.0*neg/BATCH_SIZE)\r\n",
        "resampled_steps_per_epoch"
      ],
      "execution_count": null,
      "outputs": [
        {
          "output_type": "execute_result",
          "data": {
            "text/plain": [
              "2.0"
            ]
          },
          "metadata": {
            "tags": []
          },
          "execution_count": 79
        }
      ]
    },
    {
      "cell_type": "code",
      "metadata": {
        "colab": {
          "base_uri": "https://localhost:8080/"
        },
        "id": "I69CCVCKqTvI",
        "outputId": "16e2b0b4-d752-4262-ff9e-956d8d0d5c3d"
      },
      "source": [
        "resampled_model = make_model()\r\n",
        "resampled_model.load_weights(initial_weights)\r\n",
        "\r\n",
        "# Reset the bias to zero, since this dataset is balanced.\r\n",
        "output_layer = resampled_model.layers[-1] \r\n",
        "output_layer.bias.assign([0])\r\n",
        "\r\n",
        "val_ds = tf.data.Dataset.from_tensor_slices((val_features, val_labels)).cache()\r\n",
        "val_ds = val_ds.batch(BATCH_SIZE).prefetch(2) \r\n",
        "\r\n",
        "resampled_history = resampled_model.fit(\r\n",
        "    resampled_ds,\r\n",
        "    epochs=EPOCHS,\r\n",
        "    steps_per_epoch=resampled_steps_per_epoch,\r\n",
        "    callbacks=[early_stopping],\r\n",
        "    validation_data=val_ds)"
      ],
      "execution_count": null,
      "outputs": [
        {
          "output_type": "stream",
          "text": [
            "Epoch 1/100\n",
            "1/1 [==============================] - 2s 2s/step - loss: 0.8498 - tp: 411.0000 - fp: 434.0000 - tn: 693.0000 - fn: 618.0000 - accuracy: 0.5121 - precision: 0.4864 - recall: 0.3994 - auc: 0.5233 - val_loss: 0.6825 - val_tp: 3.0000 - val_fp: 27.0000 - val_tn: 52.0000 - val_fn: 4.0000 - val_accuracy: 0.6395 - val_precision: 0.1000 - val_recall: 0.4286 - val_auc: 0.4295\n",
            "Epoch 2/100\n",
            "1/1 [==============================] - 0s 58ms/step - loss: 0.8650 - tp: 403.0000 - fp: 458.0000 - tn: 580.0000 - fn: 607.0000 - accuracy: 0.4800 - precision: 0.4681 - recall: 0.3990 - auc: 0.4709 - val_loss: 0.6823 - val_tp: 3.0000 - val_fp: 27.0000 - val_tn: 52.0000 - val_fn: 4.0000 - val_accuracy: 0.6395 - val_precision: 0.1000 - val_recall: 0.4286 - val_auc: 0.4349\n",
            "Epoch 3/100\n",
            "1/1 [==============================] - 0s 55ms/step - loss: 0.8620 - tp: 430.0000 - fp: 497.0000 - tn: 556.0000 - fn: 565.0000 - accuracy: 0.4814 - precision: 0.4639 - recall: 0.4322 - auc: 0.4772 - val_loss: 0.6818 - val_tp: 3.0000 - val_fp: 27.0000 - val_tn: 52.0000 - val_fn: 4.0000 - val_accuracy: 0.6395 - val_precision: 0.1000 - val_recall: 0.4286 - val_auc: 0.4412\n",
            "Epoch 4/100\n",
            "1/1 [==============================] - 0s 54ms/step - loss: 0.8630 - tp: 419.0000 - fp: 464.0000 - tn: 585.0000 - fn: 580.0000 - accuracy: 0.4902 - precision: 0.4745 - recall: 0.4194 - auc: 0.4784 - val_loss: 0.6814 - val_tp: 3.0000 - val_fp: 27.0000 - val_tn: 52.0000 - val_fn: 4.0000 - val_accuracy: 0.6395 - val_precision: 0.1000 - val_recall: 0.4286 - val_auc: 0.4376\n",
            "Epoch 5/100\n",
            "1/1 [==============================] - 0s 64ms/step - loss: 0.8504 - tp: 427.0000 - fp: 456.0000 - tn: 590.0000 - fn: 575.0000 - accuracy: 0.4966 - precision: 0.4836 - recall: 0.4261 - auc: 0.4822 - val_loss: 0.6810 - val_tp: 3.0000 - val_fp: 28.0000 - val_tn: 51.0000 - val_fn: 4.0000 - val_accuracy: 0.6279 - val_precision: 0.0968 - val_recall: 0.4286 - val_auc: 0.4403\n",
            "Epoch 6/100\n",
            "1/1 [==============================] - 0s 57ms/step - loss: 0.8596 - tp: 459.0000 - fp: 426.0000 - tn: 557.0000 - fn: 606.0000 - accuracy: 0.4961 - precision: 0.5186 - recall: 0.4310 - auc: 0.4900 - val_loss: 0.6808 - val_tp: 3.0000 - val_fp: 28.0000 - val_tn: 51.0000 - val_fn: 4.0000 - val_accuracy: 0.6279 - val_precision: 0.0968 - val_recall: 0.4286 - val_auc: 0.4458\n",
            "Epoch 7/100\n",
            "1/1 [==============================] - 0s 69ms/step - loss: 0.8583 - tp: 422.0000 - fp: 459.0000 - tn: 552.0000 - fn: 615.0000 - accuracy: 0.4756 - precision: 0.4790 - recall: 0.4069 - auc: 0.4727 - val_loss: 0.6806 - val_tp: 3.0000 - val_fp: 28.0000 - val_tn: 51.0000 - val_fn: 4.0000 - val_accuracy: 0.6279 - val_precision: 0.0968 - val_recall: 0.4286 - val_auc: 0.4439\n",
            "Epoch 8/100\n",
            "1/1 [==============================] - 0s 52ms/step - loss: 0.8356 - tp: 460.0000 - fp: 434.0000 - tn: 558.0000 - fn: 596.0000 - accuracy: 0.4971 - precision: 0.5145 - recall: 0.4356 - auc: 0.5028 - val_loss: 0.6804 - val_tp: 3.0000 - val_fp: 28.0000 - val_tn: 51.0000 - val_fn: 4.0000 - val_accuracy: 0.6279 - val_precision: 0.0968 - val_recall: 0.4286 - val_auc: 0.4458\n",
            "Epoch 9/100\n",
            "1/1 [==============================] - 0s 423ms/step - loss: 0.8428 - tp: 441.0000 - fp: 506.0000 - tn: 560.0000 - fn: 541.0000 - accuracy: 0.4888 - precision: 0.4657 - recall: 0.4491 - auc: 0.4901 - val_loss: 0.6801 - val_tp: 3.0000 - val_fp: 28.0000 - val_tn: 51.0000 - val_fn: 4.0000 - val_accuracy: 0.6279 - val_precision: 0.0968 - val_recall: 0.4286 - val_auc: 0.4476\n",
            "Epoch 10/100\n",
            "1/1 [==============================] - 0s 59ms/step - loss: 0.8355 - tp: 447.0000 - fp: 497.0000 - tn: 564.0000 - fn: 540.0000 - accuracy: 0.4937 - precision: 0.4735 - recall: 0.4529 - auc: 0.4877 - val_loss: 0.6797 - val_tp: 3.0000 - val_fp: 28.0000 - val_tn: 51.0000 - val_fn: 4.0000 - val_accuracy: 0.6279 - val_precision: 0.0968 - val_recall: 0.4286 - val_auc: 0.4476\n",
            "Epoch 11/100\n",
            "1/1 [==============================] - 0s 55ms/step - loss: 0.8447 - tp: 448.0000 - fp: 466.0000 - tn: 548.0000 - fn: 586.0000 - accuracy: 0.4863 - precision: 0.4902 - recall: 0.4333 - auc: 0.4813 - val_loss: 0.6794 - val_tp: 3.0000 - val_fp: 28.0000 - val_tn: 51.0000 - val_fn: 4.0000 - val_accuracy: 0.6279 - val_precision: 0.0968 - val_recall: 0.4286 - val_auc: 0.4467\n",
            "Epoch 12/100\n",
            "1/1 [==============================] - 0s 49ms/step - loss: 0.8163 - tp: 483.0000 - fp: 436.0000 - tn: 565.0000 - fn: 564.0000 - accuracy: 0.5117 - precision: 0.5256 - recall: 0.4613 - auc: 0.5128 - val_loss: 0.6792 - val_tp: 3.0000 - val_fp: 28.0000 - val_tn: 51.0000 - val_fn: 4.0000 - val_accuracy: 0.6279 - val_precision: 0.0968 - val_recall: 0.4286 - val_auc: 0.4503\n",
            "Epoch 13/100\n",
            "1/1 [==============================] - 0s 64ms/step - loss: 0.8245 - tp: 431.0000 - fp: 479.0000 - tn: 558.0000 - fn: 580.0000 - accuracy: 0.4829 - precision: 0.4736 - recall: 0.4263 - auc: 0.4868 - val_loss: 0.6791 - val_tp: 3.0000 - val_fp: 28.0000 - val_tn: 51.0000 - val_fn: 4.0000 - val_accuracy: 0.6279 - val_precision: 0.0968 - val_recall: 0.4286 - val_auc: 0.4539\n",
            "Epoch 14/100\n",
            "1/1 [==============================] - 0s 67ms/step - loss: 0.7981 - tp: 480.0000 - fp: 470.0000 - tn: 545.0000 - fn: 553.0000 - accuracy: 0.5005 - precision: 0.5053 - recall: 0.4647 - auc: 0.5183 - val_loss: 0.6790 - val_tp: 3.0000 - val_fp: 28.0000 - val_tn: 51.0000 - val_fn: 4.0000 - val_accuracy: 0.6279 - val_precision: 0.0968 - val_recall: 0.4286 - val_auc: 0.4512\n",
            "Epoch 15/100\n",
            "1/1 [==============================] - 0s 58ms/step - loss: 0.8217 - tp: 452.0000 - fp: 496.0000 - tn: 546.0000 - fn: 554.0000 - accuracy: 0.4873 - precision: 0.4768 - recall: 0.4493 - auc: 0.4885 - val_loss: 0.6789 - val_tp: 3.0000 - val_fp: 28.0000 - val_tn: 51.0000 - val_fn: 4.0000 - val_accuracy: 0.6279 - val_precision: 0.0968 - val_recall: 0.4286 - val_auc: 0.4512\n",
            "Epoch 16/100\n",
            "1/1 [==============================] - 0s 58ms/step - loss: 0.7925 - tp: 511.0000 - fp: 435.0000 - tn: 556.0000 - fn: 546.0000 - accuracy: 0.5210 - precision: 0.5402 - recall: 0.4834 - auc: 0.5327 - val_loss: 0.6789 - val_tp: 3.0000 - val_fp: 28.0000 - val_tn: 51.0000 - val_fn: 4.0000 - val_accuracy: 0.6279 - val_precision: 0.0968 - val_recall: 0.4286 - val_auc: 0.4593\n",
            "Epoch 17/100\n",
            "1/1 [==============================] - 0s 57ms/step - loss: 0.8118 - tp: 463.0000 - fp: 461.0000 - tn: 557.0000 - fn: 567.0000 - accuracy: 0.4980 - precision: 0.5011 - recall: 0.4495 - auc: 0.5026 - val_loss: 0.6789 - val_tp: 3.0000 - val_fp: 29.0000 - val_tn: 50.0000 - val_fn: 4.0000 - val_accuracy: 0.6163 - val_precision: 0.0938 - val_recall: 0.4286 - val_auc: 0.4557\n",
            "Epoch 18/100\n",
            "1/1 [==============================] - 0s 56ms/step - loss: 0.8239 - tp: 423.0000 - fp: 499.0000 - tn: 540.0000 - fn: 586.0000 - accuracy: 0.4702 - precision: 0.4588 - recall: 0.4192 - auc: 0.4773 - val_loss: 0.6788 - val_tp: 3.0000 - val_fp: 29.0000 - val_tn: 50.0000 - val_fn: 4.0000 - val_accuracy: 0.6163 - val_precision: 0.0938 - val_recall: 0.4286 - val_auc: 0.4620\n",
            "Epoch 19/100\n",
            "1/1 [==============================] - 0s 56ms/step - loss: 0.8145 - tp: 476.0000 - fp: 444.0000 - tn: 548.0000 - fn: 580.0000 - accuracy: 0.5000 - precision: 0.5174 - recall: 0.4508 - auc: 0.5012 - val_loss: 0.6788 - val_tp: 3.0000 - val_fp: 28.0000 - val_tn: 51.0000 - val_fn: 4.0000 - val_accuracy: 0.6279 - val_precision: 0.0968 - val_recall: 0.4286 - val_auc: 0.4629\n",
            "Epoch 20/100\n",
            "1/1 [==============================] - 0s 58ms/step - loss: 0.7850 - tp: 496.0000 - fp: 434.0000 - tn: 581.0000 - fn: 537.0000 - accuracy: 0.5259 - precision: 0.5333 - recall: 0.4802 - auc: 0.5255 - val_loss: 0.6788 - val_tp: 3.0000 - val_fp: 28.0000 - val_tn: 51.0000 - val_fn: 4.0000 - val_accuracy: 0.6279 - val_precision: 0.0968 - val_recall: 0.4286 - val_auc: 0.4611\n",
            "Epoch 21/100\n",
            "1/1 [==============================] - 0s 53ms/step - loss: 0.7936 - tp: 451.0000 - fp: 516.0000 - tn: 584.0000 - fn: 497.0000 - accuracy: 0.5054 - precision: 0.4664 - recall: 0.4757 - auc: 0.5118 - val_loss: 0.6786 - val_tp: 3.0000 - val_fp: 29.0000 - val_tn: 50.0000 - val_fn: 4.0000 - val_accuracy: 0.6163 - val_precision: 0.0938 - val_recall: 0.4286 - val_auc: 0.4611\n",
            "Epoch 22/100\n",
            "1/1 [==============================] - 0s 64ms/step - loss: 0.7910 - tp: 510.0000 - fp: 444.0000 - tn: 561.0000 - fn: 533.0000 - accuracy: 0.5229 - precision: 0.5346 - recall: 0.4890 - auc: 0.5300 - val_loss: 0.6784 - val_tp: 3.0000 - val_fp: 30.0000 - val_tn: 49.0000 - val_fn: 4.0000 - val_accuracy: 0.6047 - val_precision: 0.0909 - val_recall: 0.4286 - val_auc: 0.4584\n",
            "Epoch 23/100\n",
            "1/1 [==============================] - 0s 62ms/step - loss: 0.7557 - tp: 538.0000 - fp: 440.0000 - tn: 598.0000 - fn: 472.0000 - accuracy: 0.5547 - precision: 0.5501 - recall: 0.5327 - auc: 0.5608 - val_loss: 0.6781 - val_tp: 2.0000 - val_fp: 31.0000 - val_tn: 48.0000 - val_fn: 5.0000 - val_accuracy: 0.5814 - val_precision: 0.0606 - val_recall: 0.2857 - val_auc: 0.4566\n",
            "Epoch 24/100\n",
            "1/1 [==============================] - 0s 67ms/step - loss: 0.7959 - tp: 512.0000 - fp: 511.0000 - tn: 531.0000 - fn: 494.0000 - accuracy: 0.5093 - precision: 0.5005 - recall: 0.5089 - auc: 0.5064 - val_loss: 0.6778 - val_tp: 2.0000 - val_fp: 31.0000 - val_tn: 48.0000 - val_fn: 5.0000 - val_accuracy: 0.5814 - val_precision: 0.0606 - val_recall: 0.2857 - val_auc: 0.4620\n",
            "Epoch 25/100\n",
            "1/1 [==============================] - 0s 58ms/step - loss: 0.7756 - tp: 519.0000 - fp: 490.0000 - tn: 543.0000 - fn: 496.0000 - accuracy: 0.5186 - precision: 0.5144 - recall: 0.5113 - auc: 0.5265 - val_loss: 0.6774 - val_tp: 3.0000 - val_fp: 31.0000 - val_tn: 48.0000 - val_fn: 4.0000 - val_accuracy: 0.5930 - val_precision: 0.0882 - val_recall: 0.4286 - val_auc: 0.4620\n",
            "Epoch 26/100\n",
            "1/1 [==============================] - 0s 73ms/step - loss: 0.7625 - tp: 489.0000 - fp: 462.0000 - tn: 615.0000 - fn: 482.0000 - accuracy: 0.5391 - precision: 0.5142 - recall: 0.5036 - auc: 0.5384 - val_loss: 0.6769 - val_tp: 3.0000 - val_fp: 31.0000 - val_tn: 48.0000 - val_fn: 4.0000 - val_accuracy: 0.5930 - val_precision: 0.0882 - val_recall: 0.4286 - val_auc: 0.4693\n",
            "Epoch 27/100\n",
            "1/1 [==============================] - 0s 59ms/step - loss: 0.7725 - tp: 542.0000 - fp: 460.0000 - tn: 536.0000 - fn: 510.0000 - accuracy: 0.5264 - precision: 0.5409 - recall: 0.5152 - auc: 0.5373 - val_loss: 0.6767 - val_tp: 3.0000 - val_fp: 31.0000 - val_tn: 48.0000 - val_fn: 4.0000 - val_accuracy: 0.5930 - val_precision: 0.0882 - val_recall: 0.4286 - val_auc: 0.4738\n",
            "Epoch 28/100\n",
            "1/1 [==============================] - 0s 58ms/step - loss: 0.7655 - tp: 548.0000 - fp: 442.0000 - tn: 561.0000 - fn: 497.0000 - accuracy: 0.5415 - precision: 0.5535 - recall: 0.5244 - auc: 0.5462 - val_loss: 0.6764 - val_tp: 3.0000 - val_fp: 31.0000 - val_tn: 48.0000 - val_fn: 4.0000 - val_accuracy: 0.5930 - val_precision: 0.0882 - val_recall: 0.4286 - val_auc: 0.4783\n",
            "Epoch 29/100\n",
            "1/1 [==============================] - 0s 59ms/step - loss: 0.7577 - tp: 575.0000 - fp: 476.0000 - tn: 529.0000 - fn: 468.0000 - accuracy: 0.5391 - precision: 0.5471 - recall: 0.5513 - auc: 0.5496 - val_loss: 0.6762 - val_tp: 3.0000 - val_fp: 31.0000 - val_tn: 48.0000 - val_fn: 4.0000 - val_accuracy: 0.5930 - val_precision: 0.0882 - val_recall: 0.4286 - val_auc: 0.4765\n",
            "Epoch 30/100\n",
            "1/1 [==============================] - 0s 65ms/step - loss: 0.7722 - tp: 508.0000 - fp: 498.0000 - tn: 528.0000 - fn: 514.0000 - accuracy: 0.5059 - precision: 0.5050 - recall: 0.4971 - auc: 0.5203 - val_loss: 0.6760 - val_tp: 3.0000 - val_fp: 31.0000 - val_tn: 48.0000 - val_fn: 4.0000 - val_accuracy: 0.5930 - val_precision: 0.0882 - val_recall: 0.4286 - val_auc: 0.4837\n",
            "Epoch 31/100\n",
            "1/1 [==============================] - 0s 63ms/step - loss: 0.7608 - tp: 539.0000 - fp: 485.0000 - tn: 543.0000 - fn: 481.0000 - accuracy: 0.5283 - precision: 0.5264 - recall: 0.5284 - auc: 0.5399 - val_loss: 0.6759 - val_tp: 3.0000 - val_fp: 30.0000 - val_tn: 49.0000 - val_fn: 4.0000 - val_accuracy: 0.6047 - val_precision: 0.0909 - val_recall: 0.4286 - val_auc: 0.4901\n",
            "Epoch 32/100\n",
            "1/1 [==============================] - 0s 59ms/step - loss: 0.7698 - tp: 527.0000 - fp: 497.0000 - tn: 524.0000 - fn: 500.0000 - accuracy: 0.5132 - precision: 0.5146 - recall: 0.5131 - auc: 0.5250 - val_loss: 0.6757 - val_tp: 3.0000 - val_fp: 30.0000 - val_tn: 49.0000 - val_fn: 4.0000 - val_accuracy: 0.6047 - val_precision: 0.0909 - val_recall: 0.4286 - val_auc: 0.4882\n",
            "Epoch 33/100\n",
            "1/1 [==============================] - 0s 59ms/step - loss: 0.7648 - tp: 519.0000 - fp: 473.0000 - tn: 541.0000 - fn: 515.0000 - accuracy: 0.5176 - precision: 0.5232 - recall: 0.5019 - auc: 0.5353 - val_loss: 0.6755 - val_tp: 3.0000 - val_fp: 30.0000 - val_tn: 49.0000 - val_fn: 4.0000 - val_accuracy: 0.6047 - val_precision: 0.0909 - val_recall: 0.4286 - val_auc: 0.4919\n",
            "Epoch 34/100\n",
            "1/1 [==============================] - 0s 56ms/step - loss: 0.7535 - tp: 542.0000 - fp: 466.0000 - tn: 552.0000 - fn: 488.0000 - accuracy: 0.5342 - precision: 0.5377 - recall: 0.5262 - auc: 0.5474 - val_loss: 0.6753 - val_tp: 3.0000 - val_fp: 30.0000 - val_tn: 49.0000 - val_fn: 4.0000 - val_accuracy: 0.6047 - val_precision: 0.0909 - val_recall: 0.4286 - val_auc: 0.4919\n",
            "Epoch 35/100\n",
            "1/1 [==============================] - 0s 55ms/step - loss: 0.7584 - tp: 503.0000 - fp: 508.0000 - tn: 557.0000 - fn: 480.0000 - accuracy: 0.5176 - precision: 0.4975 - recall: 0.5117 - auc: 0.5341 - val_loss: 0.6750 - val_tp: 3.0000 - val_fp: 29.0000 - val_tn: 50.0000 - val_fn: 4.0000 - val_accuracy: 0.6163 - val_precision: 0.0938 - val_recall: 0.4286 - val_auc: 0.4946\n",
            "Epoch 36/100\n",
            "1/1 [==============================] - 0s 57ms/step - loss: 0.7393 - tp: 548.0000 - fp: 475.0000 - tn: 538.0000 - fn: 487.0000 - accuracy: 0.5303 - precision: 0.5357 - recall: 0.5295 - auc: 0.5567 - val_loss: 0.6747 - val_tp: 3.0000 - val_fp: 30.0000 - val_tn: 49.0000 - val_fn: 4.0000 - val_accuracy: 0.6047 - val_precision: 0.0909 - val_recall: 0.4286 - val_auc: 0.4910\n",
            "Epoch 37/100\n",
            "1/1 [==============================] - 0s 66ms/step - loss: 0.7468 - tp: 569.0000 - fp: 450.0000 - tn: 543.0000 - fn: 486.0000 - accuracy: 0.5430 - precision: 0.5584 - recall: 0.5393 - auc: 0.5528 - val_loss: 0.6745 - val_tp: 3.0000 - val_fp: 30.0000 - val_tn: 49.0000 - val_fn: 4.0000 - val_accuracy: 0.6047 - val_precision: 0.0909 - val_recall: 0.4286 - val_auc: 0.4919\n",
            "Epoch 38/100\n",
            "1/1 [==============================] - 0s 64ms/step - loss: 0.7412 - tp: 575.0000 - fp: 469.0000 - tn: 525.0000 - fn: 479.0000 - accuracy: 0.5371 - precision: 0.5508 - recall: 0.5455 - auc: 0.5617 - val_loss: 0.6743 - val_tp: 3.0000 - val_fp: 30.0000 - val_tn: 49.0000 - val_fn: 4.0000 - val_accuracy: 0.6047 - val_precision: 0.0909 - val_recall: 0.4286 - val_auc: 0.4955\n",
            "Epoch 39/100\n",
            "1/1 [==============================] - 0s 59ms/step - loss: 0.7353 - tp: 585.0000 - fp: 474.0000 - tn: 558.0000 - fn: 431.0000 - accuracy: 0.5581 - precision: 0.5524 - recall: 0.5758 - auc: 0.5756 - val_loss: 0.6740 - val_tp: 3.0000 - val_fp: 30.0000 - val_tn: 49.0000 - val_fn: 4.0000 - val_accuracy: 0.6047 - val_precision: 0.0909 - val_recall: 0.4286 - val_auc: 0.5000\n",
            "Epoch 40/100\n",
            "1/1 [==============================] - 0s 55ms/step - loss: 0.7433 - tp: 536.0000 - fp: 496.0000 - tn: 562.0000 - fn: 454.0000 - accuracy: 0.5361 - precision: 0.5194 - recall: 0.5414 - auc: 0.5565 - val_loss: 0.6736 - val_tp: 3.0000 - val_fp: 30.0000 - val_tn: 49.0000 - val_fn: 4.0000 - val_accuracy: 0.6047 - val_precision: 0.0909 - val_recall: 0.4286 - val_auc: 0.4982\n",
            "Epoch 41/100\n",
            "1/1 [==============================] - 0s 54ms/step - loss: 0.7454 - tp: 573.0000 - fp: 515.0000 - tn: 542.0000 - fn: 418.0000 - accuracy: 0.5444 - precision: 0.5267 - recall: 0.5782 - auc: 0.5607 - val_loss: 0.6730 - val_tp: 3.0000 - val_fp: 30.0000 - val_tn: 49.0000 - val_fn: 4.0000 - val_accuracy: 0.6047 - val_precision: 0.0909 - val_recall: 0.4286 - val_auc: 0.4991\n",
            "Epoch 42/100\n",
            "1/1 [==============================] - 0s 70ms/step - loss: 0.7419 - tp: 576.0000 - fp: 485.0000 - tn: 513.0000 - fn: 474.0000 - accuracy: 0.5317 - precision: 0.5429 - recall: 0.5486 - auc: 0.5598 - val_loss: 0.6724 - val_tp: 3.0000 - val_fp: 30.0000 - val_tn: 49.0000 - val_fn: 4.0000 - val_accuracy: 0.6047 - val_precision: 0.0909 - val_recall: 0.4286 - val_auc: 0.5000\n",
            "Epoch 43/100\n",
            "1/1 [==============================] - 0s 71ms/step - loss: 0.7300 - tp: 592.0000 - fp: 479.0000 - tn: 530.0000 - fn: 447.0000 - accuracy: 0.5479 - precision: 0.5528 - recall: 0.5698 - auc: 0.5707 - val_loss: 0.6718 - val_tp: 3.0000 - val_fp: 30.0000 - val_tn: 49.0000 - val_fn: 4.0000 - val_accuracy: 0.6047 - val_precision: 0.0909 - val_recall: 0.4286 - val_auc: 0.4982\n",
            "Epoch 44/100\n",
            "1/1 [==============================] - 0s 79ms/step - loss: 0.7193 - tp: 586.0000 - fp: 468.0000 - tn: 563.0000 - fn: 431.0000 - accuracy: 0.5610 - precision: 0.5560 - recall: 0.5762 - auc: 0.5840 - val_loss: 0.6712 - val_tp: 3.0000 - val_fp: 29.0000 - val_tn: 50.0000 - val_fn: 4.0000 - val_accuracy: 0.6163 - val_precision: 0.0938 - val_recall: 0.4286 - val_auc: 0.4973\n",
            "Epoch 45/100\n",
            "1/1 [==============================] - 0s 56ms/step - loss: 0.7336 - tp: 583.0000 - fp: 454.0000 - tn: 548.0000 - fn: 463.0000 - accuracy: 0.5522 - precision: 0.5622 - recall: 0.5574 - auc: 0.5702 - val_loss: 0.6707 - val_tp: 3.0000 - val_fp: 29.0000 - val_tn: 50.0000 - val_fn: 4.0000 - val_accuracy: 0.6163 - val_precision: 0.0938 - val_recall: 0.4286 - val_auc: 0.5009\n",
            "Epoch 46/100\n",
            "1/1 [==============================] - 0s 54ms/step - loss: 0.7411 - tp: 546.0000 - fp: 490.0000 - tn: 552.0000 - fn: 460.0000 - accuracy: 0.5361 - precision: 0.5270 - recall: 0.5427 - auc: 0.5572 - val_loss: 0.6701 - val_tp: 3.0000 - val_fp: 29.0000 - val_tn: 50.0000 - val_fn: 4.0000 - val_accuracy: 0.6163 - val_precision: 0.0938 - val_recall: 0.4286 - val_auc: 0.4901\n",
            "Epoch 47/100\n",
            "1/1 [==============================] - 0s 70ms/step - loss: 0.7249 - tp: 602.0000 - fp: 475.0000 - tn: 543.0000 - fn: 428.0000 - accuracy: 0.5591 - precision: 0.5590 - recall: 0.5845 - auc: 0.5772 - val_loss: 0.6695 - val_tp: 3.0000 - val_fp: 29.0000 - val_tn: 50.0000 - val_fn: 4.0000 - val_accuracy: 0.6163 - val_precision: 0.0938 - val_recall: 0.4286 - val_auc: 0.4892\n",
            "Epoch 48/100\n",
            "1/1 [==============================] - 0s 61ms/step - loss: 0.7219 - tp: 614.0000 - fp: 443.0000 - tn: 538.0000 - fn: 453.0000 - accuracy: 0.5625 - precision: 0.5809 - recall: 0.5754 - auc: 0.5781 - val_loss: 0.6690 - val_tp: 4.0000 - val_fp: 29.0000 - val_tn: 50.0000 - val_fn: 3.0000 - val_accuracy: 0.6279 - val_precision: 0.1212 - val_recall: 0.5714 - val_auc: 0.4901\n",
            "Epoch 49/100\n",
            "1/1 [==============================] - 0s 57ms/step - loss: 0.7118 - tp: 606.0000 - fp: 465.0000 - tn: 564.0000 - fn: 413.0000 - accuracy: 0.5713 - precision: 0.5658 - recall: 0.5947 - auc: 0.5934 - val_loss: 0.6685 - val_tp: 4.0000 - val_fp: 29.0000 - val_tn: 50.0000 - val_fn: 3.0000 - val_accuracy: 0.6279 - val_precision: 0.1212 - val_recall: 0.5714 - val_auc: 0.4873\n",
            "Epoch 50/100\n",
            "1/1 [==============================] - 0s 60ms/step - loss: 0.7274 - tp: 587.0000 - fp: 477.0000 - tn: 562.0000 - fn: 422.0000 - accuracy: 0.5610 - precision: 0.5517 - recall: 0.5818 - auc: 0.5739 - val_loss: 0.6679 - val_tp: 4.0000 - val_fp: 29.0000 - val_tn: 50.0000 - val_fn: 3.0000 - val_accuracy: 0.6279 - val_precision: 0.1212 - val_recall: 0.5714 - val_auc: 0.4873\n",
            "Epoch 51/100\n",
            "1/1 [==============================] - 0s 53ms/step - loss: 0.7174 - tp: 618.0000 - fp: 462.0000 - tn: 540.0000 - fn: 428.0000 - accuracy: 0.5654 - precision: 0.5722 - recall: 0.5908 - auc: 0.5874 - val_loss: 0.6674 - val_tp: 4.0000 - val_fp: 29.0000 - val_tn: 50.0000 - val_fn: 3.0000 - val_accuracy: 0.6279 - val_precision: 0.1212 - val_recall: 0.5714 - val_auc: 0.4919\n",
            "Epoch 52/100\n",
            "1/1 [==============================] - 0s 64ms/step - loss: 0.7219 - tp: 586.0000 - fp: 472.0000 - tn: 551.0000 - fn: 439.0000 - accuracy: 0.5552 - precision: 0.5539 - recall: 0.5717 - auc: 0.5748 - val_loss: 0.6669 - val_tp: 4.0000 - val_fp: 29.0000 - val_tn: 50.0000 - val_fn: 3.0000 - val_accuracy: 0.6279 - val_precision: 0.1212 - val_recall: 0.5714 - val_auc: 0.4919\n",
            "Epoch 53/100\n",
            "1/1 [==============================] - 0s 305ms/step - loss: 0.7116 - tp: 603.0000 - fp: 458.0000 - tn: 532.0000 - fn: 455.0000 - accuracy: 0.5542 - precision: 0.5683 - recall: 0.5699 - auc: 0.5881 - val_loss: 0.6665 - val_tp: 4.0000 - val_fp: 28.0000 - val_tn: 51.0000 - val_fn: 3.0000 - val_accuracy: 0.6395 - val_precision: 0.1250 - val_recall: 0.5714 - val_auc: 0.4846\n",
            "Epoch 54/100\n",
            "1/1 [==============================] - 0s 65ms/step - loss: 0.7173 - tp: 588.0000 - fp: 467.0000 - tn: 553.0000 - fn: 440.0000 - accuracy: 0.5571 - precision: 0.5573 - recall: 0.5720 - auc: 0.5809 - val_loss: 0.6660 - val_tp: 4.0000 - val_fp: 28.0000 - val_tn: 51.0000 - val_fn: 3.0000 - val_accuracy: 0.6395 - val_precision: 0.1250 - val_recall: 0.5714 - val_auc: 0.4901\n",
            "Epoch 55/100\n",
            "1/1 [==============================] - 0s 60ms/step - loss: 0.7032 - tp: 611.0000 - fp: 460.0000 - tn: 554.0000 - fn: 423.0000 - accuracy: 0.5688 - precision: 0.5705 - recall: 0.5909 - auc: 0.5963 - val_loss: 0.6656 - val_tp: 4.0000 - val_fp: 28.0000 - val_tn: 51.0000 - val_fn: 3.0000 - val_accuracy: 0.6395 - val_precision: 0.1250 - val_recall: 0.5714 - val_auc: 0.4928\n",
            "Restoring model weights from the end of the best epoch.\n",
            "Epoch 00055: early stopping\n"
          ],
          "name": "stdout"
        }
      ]
    },
    {
      "cell_type": "code",
      "metadata": {
        "colab": {
          "base_uri": "https://localhost:8080/",
          "height": 609
        },
        "id": "pftUeXtEqWEx",
        "outputId": "5cda0256-bb5a-49ef-a034-c48ad6643948"
      },
      "source": [
        "plot_metrics(resampled_history)"
      ],
      "execution_count": null,
      "outputs": [
        {
          "output_type": "display_data",
          "data": {
            "image/png": "[encoded data removed]",
            "text/plain": [
              "<Figure size 864x720 with 4 Axes>"
            ]
          },
          "metadata": {
            "tags": [],
            "needs_background": "light"
          }
        }
      ]
    },
    {
      "cell_type": "code",
      "metadata": {
        "colab": {
          "base_uri": "https://localhost:8080/"
        },
        "id": "QaVRPiJ2qdee",
        "outputId": "89d87c3c-d443-4806-c70f-bba1d34a69e0"
      },
      "source": [
        "resampled_model = make_model()\r\n",
        "resampled_model.load_weights(initial_weights)\r\n",
        "\r\n",
        "# Reset the bias to zero, since this dataset is balanced.\r\n",
        "output_layer = resampled_model.layers[-1] \r\n",
        "output_layer.bias.assign([0])\r\n",
        "\r\n",
        "resampled_history = resampled_model.fit(\r\n",
        "    resampled_ds,\r\n",
        "    # These are not real epochs\r\n",
        "    steps_per_epoch=20,\r\n",
        "    epochs=10*EPOCHS,\r\n",
        "    callbacks=[early_stopping],\r\n",
        "    validation_data=(val_ds))"
      ],
      "execution_count": null,
      "outputs": [
        {
          "output_type": "stream",
          "text": [
            "Epoch 1/1000\n",
            "20/20 [==============================] - 3s 60ms/step - loss: 0.8524 - tp: 4875.5238 - fp: 5112.7143 - tn: 6191.0476 - fn: 6337.1905 - accuracy: 0.4892 - precision: 0.4859 - recall: 0.4291 - auc: 0.4813 - val_loss: 0.6811 - val_tp: 3.0000 - val_fp: 29.0000 - val_tn: 50.0000 - val_fn: 4.0000 - val_accuracy: 0.6163 - val_precision: 0.0938 - val_recall: 0.4286 - val_auc: 0.4611\n",
            "Epoch 2/1000\n",
            "20/20 [==============================] - 0s 19ms/step - loss: 0.7783 - tp: 5728.5714 - fp: 5178.5238 - tn: 6014.8571 - fn: 5508.5238 - accuracy: 0.5205 - precision: 0.5225 - recall: 0.5029 - auc: 0.5276 - val_loss: 0.6747 - val_tp: 3.0000 - val_fp: 31.0000 - val_tn: 48.0000 - val_fn: 4.0000 - val_accuracy: 0.5930 - val_precision: 0.0882 - val_recall: 0.4286 - val_auc: 0.4964\n",
            "Epoch 3/1000\n",
            "20/20 [==============================] - 0s 22ms/step - loss: 0.7284 - tp: 6294.4286 - fp: 5192.8571 - tn: 6133.3333 - fn: 4809.8571 - accuracy: 0.5512 - precision: 0.5435 - recall: 0.5622 - auc: 0.5738 - val_loss: 0.6587 - val_tp: 4.0000 - val_fp: 26.0000 - val_tn: 53.0000 - val_fn: 3.0000 - val_accuracy: 0.6628 - val_precision: 0.1333 - val_recall: 0.5714 - val_auc: 0.4991\n",
            "Epoch 4/1000\n",
            "20/20 [==============================] - 0s 21ms/step - loss: 0.6918 - tp: 6787.8095 - fp: 5001.3810 - tn: 6278.8095 - fn: 4362.4762 - accuracy: 0.5812 - precision: 0.5764 - recall: 0.6069 - auc: 0.6171 - val_loss: 0.6423 - val_tp: 2.0000 - val_fp: 24.0000 - val_tn: 55.0000 - val_fn: 5.0000 - val_accuracy: 0.6628 - val_precision: 0.0769 - val_recall: 0.2857 - val_auc: 0.5045\n",
            "Epoch 5/1000\n",
            "20/20 [==============================] - 0s 21ms/step - loss: 0.6651 - tp: 7234.3810 - fp: 4849.0000 - tn: 6488.8095 - fn: 3858.2857 - accuracy: 0.6093 - precision: 0.5964 - recall: 0.6487 - auc: 0.6502 - val_loss: 0.6284 - val_tp: 2.0000 - val_fp: 24.0000 - val_tn: 55.0000 - val_fn: 5.0000 - val_accuracy: 0.6628 - val_precision: 0.0769 - val_recall: 0.2857 - val_auc: 0.4864\n",
            "Epoch 6/1000\n",
            "20/20 [==============================] - 0s 20ms/step - loss: 0.6486 - tp: 7461.0476 - fp: 4634.5714 - tn: 6633.6190 - fn: 3701.2381 - accuracy: 0.6280 - precision: 0.6154 - recall: 0.6692 - auc: 0.6749 - val_loss: 0.6186 - val_tp: 2.0000 - val_fp: 23.0000 - val_tn: 56.0000 - val_fn: 5.0000 - val_accuracy: 0.6744 - val_precision: 0.0800 - val_recall: 0.2857 - val_auc: 0.4810\n",
            "Epoch 7/1000\n",
            "20/20 [==============================] - 0s 22ms/step - loss: 0.6295 - tp: 7572.8095 - fp: 4403.0000 - tn: 6783.8571 - fn: 3670.8095 - accuracy: 0.6387 - precision: 0.6314 - recall: 0.6714 - auc: 0.6970 - val_loss: 0.6102 - val_tp: 2.0000 - val_fp: 22.0000 - val_tn: 57.0000 - val_fn: 5.0000 - val_accuracy: 0.6860 - val_precision: 0.0833 - val_recall: 0.2857 - val_auc: 0.4765\n",
            "Epoch 8/1000\n",
            "20/20 [==============================] - 0s 22ms/step - loss: 0.6111 - tp: 7810.5238 - fp: 4197.0476 - tn: 6993.3333 - fn: 3429.5714 - accuracy: 0.6574 - precision: 0.6482 - recall: 0.6907 - auc: 0.7224 - val_loss: 0.6025 - val_tp: 2.0000 - val_fp: 20.0000 - val_tn: 59.0000 - val_fn: 5.0000 - val_accuracy: 0.7093 - val_precision: 0.0909 - val_recall: 0.2857 - val_auc: 0.4656\n",
            "Epoch 9/1000\n",
            "20/20 [==============================] - 0s 21ms/step - loss: 0.5995 - tp: 7979.2381 - fp: 4062.7619 - tn: 7071.2381 - fn: 3317.2381 - accuracy: 0.6687 - precision: 0.6603 - recall: 0.7043 - auc: 0.7376 - val_loss: 0.5939 - val_tp: 2.0000 - val_fp: 19.0000 - val_tn: 60.0000 - val_fn: 5.0000 - val_accuracy: 0.7209 - val_precision: 0.0952 - val_recall: 0.2857 - val_auc: 0.4647\n",
            "Epoch 10/1000\n",
            "20/20 [==============================] - 0s 22ms/step - loss: 0.5895 - tp: 8018.6667 - fp: 3981.2381 - tn: 7219.3333 - fn: 3211.2381 - accuracy: 0.6782 - precision: 0.6669 - recall: 0.7127 - auc: 0.7508 - val_loss: 0.5848 - val_tp: 1.0000 - val_fp: 19.0000 - val_tn: 60.0000 - val_fn: 6.0000 - val_accuracy: 0.7093 - val_precision: 0.0500 - val_recall: 0.1429 - val_auc: 0.4602\n",
            "Epoch 11/1000\n",
            "20/20 [==============================] - 0s 21ms/step - loss: 0.5758 - tp: 8176.5714 - fp: 3769.0476 - tn: 7461.4762 - fn: 3023.3810 - accuracy: 0.6972 - precision: 0.6830 - recall: 0.7304 - auc: 0.7692 - val_loss: 0.5771 - val_tp: 1.0000 - val_fp: 19.0000 - val_tn: 60.0000 - val_fn: 6.0000 - val_accuracy: 0.7093 - val_precision: 0.0500 - val_recall: 0.1429 - val_auc: 0.4403\n",
            "Epoch 12/1000\n",
            "20/20 [==============================] - 0s 23ms/step - loss: 0.5659 - tp: 8159.5238 - fp: 3648.3333 - tn: 7655.7619 - fn: 2966.8571 - accuracy: 0.7043 - precision: 0.6889 - recall: 0.7329 - auc: 0.7797 - val_loss: 0.5683 - val_tp: 1.0000 - val_fp: 18.0000 - val_tn: 61.0000 - val_fn: 6.0000 - val_accuracy: 0.7209 - val_precision: 0.0526 - val_recall: 0.1429 - val_auc: 0.4458\n",
            "Epoch 13/1000\n",
            "20/20 [==============================] - 0s 22ms/step - loss: 0.5559 - tp: 8289.2381 - fp: 3537.3333 - tn: 7650.8571 - fn: 2953.0476 - accuracy: 0.7096 - precision: 0.6998 - recall: 0.7365 - auc: 0.7882 - val_loss: 0.5642 - val_tp: 2.0000 - val_fp: 18.0000 - val_tn: 61.0000 - val_fn: 5.0000 - val_accuracy: 0.7326 - val_precision: 0.1000 - val_recall: 0.2857 - val_auc: 0.4448\n",
            "Epoch 14/1000\n",
            "20/20 [==============================] - 0s 23ms/step - loss: 0.5456 - tp: 8471.5238 - fp: 3453.7143 - tn: 7727.9048 - fn: 2777.3333 - accuracy: 0.7219 - precision: 0.7095 - recall: 0.7519 - auc: 0.8006 - val_loss: 0.5551 - val_tp: 2.0000 - val_fp: 18.0000 - val_tn: 61.0000 - val_fn: 5.0000 - val_accuracy: 0.7326 - val_precision: 0.1000 - val_recall: 0.2857 - val_auc: 0.4421\n",
            "Restoring model weights from the end of the best epoch.\n",
            "Epoch 00014: early stopping\n"
          ],
          "name": "stdout"
        }
      ]
    },
    {
      "cell_type": "code",
      "metadata": {
        "colab": {
          "base_uri": "https://localhost:8080/",
          "height": 609
        },
        "id": "RqpDTJZwqixa",
        "outputId": "5048f4a1-ffbe-4d0a-ce13-c61015bac789"
      },
      "source": [
        "plot_metrics(resampled_history)"
      ],
      "execution_count": null,
      "outputs": [
        {
          "output_type": "display_data",
          "data": {
            "image/png": "[encoded data removed]",
            "text/plain": [
              "<Figure size 864x720 with 4 Axes>"
            ]
          },
          "metadata": {
            "tags": [],
            "needs_background": "light"
          }
        }
      ]
    },
    {
      "cell_type": "code",
      "metadata": {
        "colab": {
          "base_uri": "https://localhost:8080/"
        },
        "id": "q7325UUPqqpM",
        "outputId": "fd677721-50a9-48e7-8827-b25f8ea7f1d1"
      },
      "source": [
        "train_predictions_resampled = resampled_model.predict(train_features, batch_size=BATCH_SIZE)\r\n",
        "test_predictions_resampled = resampled_model.predict(test_features, batch_size=BATCH_SIZE)"
      ],
      "execution_count": null,
      "outputs": [
        {
          "output_type": "stream",
          "text": [
            "WARNING:tensorflow:7 out of the last 12 calls to <function Model.make_predict_function.<locals>.predict_function at 0x7f4512e72ea0> triggered tf.function retracing. Tracing is expensive and the excessive number of tracings could be due to (1) creating @tf.function repeatedly in a loop, (2) passing tensors with different shapes, (3) passing Python objects instead of tensors. For (1), please define your @tf.function outside of the loop. For (2), @tf.function has experimental_relax_shapes=True option that relaxes argument shapes that can avoid unnecessary retracing. For (3), please refer to https://www.tensorflow.org/guide/function#controlling_retracing and https://www.tensorflow.org/api_docs/python/tf/function for  more details.\n"
          ],
          "name": "stdout"
        }
      ]
    },
    {
      "cell_type": "code",
      "metadata": {
        "colab": {
          "base_uri": "https://localhost:8080/",
          "height": 602
        },
        "id": "FhrHjr6pqyCR",
        "outputId": "ece31eaa-a49b-492a-f7ad-8d46e9cde799"
      },
      "source": [
        "resampled_results = resampled_model.evaluate(test_features, test_labels,\r\n",
        "                                             batch_size=BATCH_SIZE, verbose=0)\r\n",
        "for name, value in zip(resampled_model.metrics_names, resampled_results):\r\n",
        "  print(name, ': ', value)\r\n",
        "print()\r\n",
        "\r\n",
        "plot_cm(test_labels, test_predictions_resampled)"
      ],
      "execution_count": null,
      "outputs": [
        {
          "output_type": "stream",
          "text": [
            "loss :  0.6625978946685791\n",
            "tp :  5.0\n",
            "fp :  42.0\n",
            "tn :  60.0\n",
            "fn :  1.0\n",
            "accuracy :  0.6018518805503845\n",
            "precision :  0.10638298094272614\n",
            "recall :  0.8333333134651184\n",
            "auc :  0.7663398385047913\n",
            "\n",
            "Legitimate Transactions Detected (True Negatives):  60\n",
            "Legitimate Transactions Incorrectly Detected (False Positives):  42\n",
            "Fraudulent Transactions Missed (False Negatives):  1\n",
            "Fraudulent Transactions Detected (True Positives):  5\n",
            "Total Fraudulent Transactions:  6\n"
          ],
          "name": "stdout"
        },
        {
          "output_type": "display_data",
          "data": {
            "image/png": "[encoded data removed]",
            "text/plain": [
              "<Figure size 360x360 with 2 Axes>"
            ]
          },
          "metadata": {
            "tags": [],
            "needs_background": "light"
          }
        }
      ]
    },
    {
      "cell_type": "code",
      "metadata": {
        "colab": {
          "base_uri": "https://localhost:8080/",
          "height": 623
        },
        "id": "yGl5kPUWqz9m",
        "outputId": "cfa7012b-7b9a-449c-946e-665d844a50e1"
      },
      "source": [
        "plot_roc(\"Train Baseline\", train_labels, train_predictions_baseline, color=colors[0])\r\n",
        "plot_roc(\"Test Baseline\", test_labels, test_predictions_baseline, color=colors[0], linestyle='--')\r\n",
        "\r\n",
        "plot_roc(\"Train Weighted\", train_labels, train_predictions_weighted, color=colors[1])\r\n",
        "plot_roc(\"Test Weighted\", test_labels, test_predictions_weighted, color=colors[1], linestyle='--')\r\n",
        "\r\n",
        "plot_roc(\"Train Resampled\", train_labels, train_predictions_resampled, color=colors[2])\r\n",
        "plot_roc(\"Test Resampled\", test_labels, test_predictions_resampled, color=colors[2], linestyle='--')\r\n",
        "plt.legend(loc='lower right')"
      ],
      "execution_count": null,
      "outputs": [
        {
          "output_type": "execute_result",
          "data": {
            "text/plain": [
              "<matplotlib.legend.Legend at 0x7f451a136b38>"
            ]
          },
          "metadata": {
            "tags": []
          },
          "execution_count": 137
        },
        {
          "output_type": "display_data",
          "data": {
            "image/png": "[encoded data removed]",
            "text/plain": [
              "<Figure size 864x720 with 1 Axes>"
            ]
          },
          "metadata": {
            "tags": [],
            "needs_background": "light"
          }
        }
      ]
    },
    {
      "cell_type": "code",
      "metadata": {
        "id": "Xj7yURLCq5EO"
      },
      "source": [
        ""
      ],
      "execution_count": null,
      "outputs": []
    }
  ]
}