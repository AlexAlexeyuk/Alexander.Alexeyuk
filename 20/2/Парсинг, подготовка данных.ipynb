{
  "nbformat": 4,
  "nbformat_minor": 0,
  "metadata": {
    "kernelspec": {
      "display_name": "Python 3",
      "language": "python",
      "name": "python3"
    },
    "language_info": {
      "codemirror_mode": {
        "name": "ipython",
        "version": 3
      },
      "file_extension": ".py",
      "mimetype": "text/x-python",
      "name": "python",
      "nbconvert_exporter": "python",
      "pygments_lexer": "ipython3",
      "version": "3.8.5"
    },
    "colab": {
      "name": "Parsing_explained.ipynb",
      "provenance": [],
      "toc_visible": true
    }
  },
  "cells": [
    {
      "cell_type": "markdown",
      "metadata": {
        "id": "-MasivTG1_1b"
      },
      "source": [
        "# Импорт библиотек"
      ]
    },
    {
      "cell_type": "code",
      "metadata": {
        "id": "VnG3b0AN1_1y"
      },
      "source": [
        "import os\n",
        "import pandas as pd\n",
        "import glob\n",
        "import string\n",
        "import nltk\n",
        "import re\n",
        "import numpy as np"
      ],
      "execution_count": 1,
      "outputs": []
    },
    {
      "cell_type": "markdown",
      "metadata": {
        "id": "TO1l66tA1_12"
      },
      "source": [
        "# Отсев невалидных данных и определение валидных\n"
      ]
    },
    {
      "cell_type": "code",
      "metadata": {
        "id": "JowAudrn1_13"
      },
      "source": [
        "class Utils():\n",
        "    \"\"\"\n",
        "    классе происходит отсеивание невалидных документов,\n",
        "    которые не удалось адекватно прочитать.\n",
        "\n",
        "    На выходе получаем список валидно прочитанных файлов\n",
        "    \"\"\"\n",
        "    \n",
        "    root_directory = os.chdir('/content/drive/MyDrive/parser')# input path\n",
        "    list_of_files = glob.glob('**/*.txt', recursive=True)\n",
        "    invalid_parsing = []\n",
        "    trash = ['Волковыск-1.txt','Волковыск.txt','Вороново-1.txt',\n",
        "         'Вороново.txt', 'Черновик-1.txt', 'Черновик.txt']\n",
        "    for file in list_of_files:\n",
        "        try:\n",
        "             with open(file, encoding='utf-8') as f:\n",
        "                    num = f.readline()\n",
        "                    file_ = f.read()\n",
        "                    if num and file_:\n",
        "                        pass\n",
        "        except:\n",
        "            invalid_parsing.append(file)\n",
        "    for i in invalid_parsing:\n",
        "        list_of_files.remove(i)\n",
        "    for i in trash: \n",
        "        list_of_files.remove(i)\n",
        "\n",
        "\n",
        "list_of_files = Utils.list_of_files\n"
      ],
      "execution_count": null,
      "outputs": []
    },
    {
      "cell_type": "markdown",
      "metadata": {
        "id": "xR7uiZxp1_16"
      },
      "source": [
        "# Определяем пустые списки, которые будут наполняться данными\n"
      ]
    },
    {
      "cell_type": "code",
      "metadata": {
        "id": "th8yiFfI1_17"
      },
      "source": [
        "plt_ = [] # Список для показателя \"Тромбоциты\"\n",
        "wbc_ = [] # Список для \"Лейкоцитов\"\n",
        "hgb_ = [] #Список для \"Гемоглобина\"\n",
        "crea_ = [] #Список для \"Креатинина\"\n",
        "ldh_ = []#Список для \"Лактатдегидрогеназы\"\n",
        "sex_ = []#Список для \"Пола\"\n",
        "crp_ = []#Список для \"С-реактивного протеина\"\n",
        "tr = []#Список для \"Лечения\"\n",
        "bir = []#Список для \"Даты рождения\"\n",
        "ad = []#Список для \"Даты поступления\"\n",
        "dis = []#Список для \"Даты выписки\"\n",
        "ID_ = []#Список для \"№ эпикриза\"\n",
        "dgs_ = []#Список для \"Диагноза\"\n",
        "rf_ = []#Список для \"Дыхательный недостаточности\"\n",
        "alt_ = []#Список для \"Аланинтрансаминазы\"\n",
        "ast_ = []#Список для \"Аспартаттрансаминазы\"\n",
        "pct_ = []#Список для \"Прокальцитонина\"\n",
        "esr_ = []#Список для \"Скорости оседания эритроцитов\"\n",
        "fibrin_ = []#Список для \"Фибриногена\""
      ],
      "execution_count": null,
      "outputs": []
    },
    {
      "cell_type": "markdown",
      "metadata": {
        "id": "CY-9qC8cQJVD"
      },
      "source": [
        "# Пример эпикриза\r\n",
        "ВЫПИСНОЙ ЭПИКРИЗ № **170**\r\n",
        "Находился(ась) в пульмонологическом отделении ГОКБ МР\r\n",
        "Ф.И.О: \r\n",
        "Дата рождения:**02.08.1966**\r\n",
        "Адрес регистрации: \r\n",
        "Адрес проживания: \r\n",
        "Место работы:\r\n",
        "Должность:\r\n",
        "Поступил: **13.01.2021**\r\n",
        "Выписан: **26.01.2021**\r\n",
        "\r\n",
        "Диагноз клинический: **Тяжёлая коронавирусная (ТОРС-КОВ-2 ПЦР+ от 12.01.2021 ) инфекция. Острое вирусное повреждение лёгких, КТ 3 ДН 1 ст. **\r\n",
        "\r\n",
        "Диагноз заключительный клинический:  **B34.2  / (основной) /   Тяжёлая коронавирусная (ТОРС-КОВ-2 ПЦР+ от 12.01.2021) инфекция. Острое вирусное повреждение лёгких, КТ 3 в стадию обратного развития, ДН 0 ст. ИБС: Атеросклеротический кардиослкероз. Атеросклероз аорты, коронарных артерий. АГ 2ст., риск 4. Н 1ст. Сахарный диабет, тип 2, клинико-метаболическая субкомпенсация. МКБ ( оперативное лечение 2019) ХБП С2 ( рСКФ -72 мл/мин/1,73м2). Дискогенная радикулопатия S1 слева, стойкий выраженный болевой синдром. Диабетическая полинейропатия, дистальный тип, с умеренными сенсо-моторными нарушениями. Ожирение 3 ст. (ИМТ - 42 кг/м2) **\r\n",
        "\r\n",
        "Консультации врачей-узких специалистов, консилиумы врачей:  \r\n",
        "Консультация невролога 14.01.2021, 20.01.2021\r\n",
        "Консультация нейрохирурга 20.01.2021 показаний к экстренному оперативному вмешательству нет\r\n",
        "\r\n",
        "Результаты инструментальных и аппаратных методов исследования:    \r\n",
        "ЭКГ от 13.01.2021 Ритм синусовый, правильный, ЧСС - 93 уд в мин, норм.полож.ЭОС, неспецифические изменения в миокарде нижней стенки ЛЖ\r\n",
        "МРТ от 19.01.2021 Заключение: МР-картина дегенеративно-дистрофических изменений пояснично-крестцового отдела позвоночника в виде остеохондроза с экструзией диска в Л5-С1 сегменте\r\n",
        "Результаты лабораторных исследований:\r\n",
        "Гликемический профиль 14.01.2021: 8 ч. 00 мин. 25.8 ммоль/л ; 12 ч. 00 мин. 24.3 ммоль/л ; 16 ч. 00 мин. 25.5 ммоль/л ; \r\n",
        "Гликемический профиль 20.01.2021: 8 ч. 00 мин. 9.8 ммоль/л ; 12 ч. 00 мин. 10.3 ммоль/л ; 16 ч. 00 мин. 9.5 ммоль/л ; \r\n",
        "Гемостазиограмма 14.01.2021: Активированное частичное тромбопластиновое время 22.1 с ; Ratio АЧТВ 0.744  ; Протромбированное время 11.2 с ; Протромбиновый индекс 1.01  ; Международное нормализованное отношение 0.981  ; **Фибриноген 8.1** г/л ; \r\n",
        "Биохимическое исследование крови 14.01.2021: Общий белок 71 г/л ; Мочевина 10.7 ммоль/л ; Креатинин 98.1 мкмоль/л ; C-реактивный белок **41.5** мг/л ; Билирубин общий 10.5 мкмоль/л ; Аспартатаминотрансфераза 27.8 Ед/л ; Аланинаминотрансфераза 54.0 Ед/л ; Натрий 138.7 ммоль/л ; Калий 5.89 ммоль/л ; э\\\r\n",
        "**Прокальцитонин от 14.01.2021 0.14 нг/мл**\r\n",
        "Биохимическое исследование крови 15.01.2021 Глюкоза - 22,1 ммоль/л\r\n",
        "Общий анализ крови 14.01.2021: WBC (Лейкоциты) **9.1** 10*9/l ; RBC (Эритроциты) 4.09 10*12/l ; HGB (Гемоглобин) 129 g/l ; PLT (тромбоциты) 495 10*9/l ; СОЭ 35 мм/ч ; Нейтрофилы палочкоядерные 3 % ; Нейтрофилы сегментоядерные 68 % ; Лимфоциты 26 % ; Моноциты 3 % ; \\С у м м а   к л е т о к: 100  ;  \r\n",
        "Прокальцитонин 0.11 нг\r\n",
        "Состояние при выписке: относительно удовлетворительное. При выписке сатурация крови кислородом при дыхании атмосферным воздухом - 97%, ЧД 18 в мин. уровень лейкоцитов более 3 тыс. на мл., не лихорадит более 3 дней без жаропонижающих. Уровень СРБ менее 2х норм\r\n",
        "\r\n",
        "**Проведенное лечение: гепарин, пантопрозол, ацецезон, гликлазид, метформин, лизиноприл, метопролол, индапамид, эуфиллин, новокаин, димедрол, вит группы В, ксефокам, толперизон, карбомазепин, кетаролак, зопиклон, пентоксифиллин, трамадол, мелоксикам, ФТЛ**\r\n",
        "\r\n",
        "Рекомендации:Наблюдение участкового терапевта, эндокринолога, невролога по месту жительства (Д3)\r\n",
        "Избегать переохлаждений, витаминно-минеральный комплекс\r\n",
        "Снижение употребления поваренной соли менее 5грамм в сутки, животных жиров, рафинированных углеводов. Повышение употребления овощей , омега-3 ненасышеные ЖК, умеренные аэробные физические нагрузки\r\n",
        "Контроль гликированного гемоглобина\r\n",
        "Целевой уровень ЛПНП - ниже 1,8 ммоль/л\r\n",
        "Ривароксабан 10 мг 1 раз в день ( 45 дней), при невозможности - аспикард 75 мг после обеда ( не менее 3 месяцев) \r\n",
        "Ацетилцистеин 1,2 в день - 45 дней\r\n",
        "Гликлазид 60мг 1 табл. утром\r\n",
        "Метформин 1000мг 2 раза в день\r\n",
        "Лизиноприл/гидрохлортиазид 10/12,5мг утром\r\n",
        "Метопролол 25  мг 2 раза в день\r\n",
        "Невролог:\r\n",
        "1) Дексамин 2,0 в/м № 5\r\n",
        "2) Нимесулид 100 мг 2 раза  в день ( утро, вечер) при необходимости\r\n",
        "3) Мидокалм 150 мг по 1 табл 3 раза в день - 14 дней\r\n",
        "4) Боривит 2,0 в/м № 10\r\n",
        "\r\n"
      ]
    },
    {
      "cell_type": "markdown",
      "metadata": {
        "id": "-RzyBlTlRi4R"
      },
      "source": [
        "Таким образом, надо \"достать\" интересующие нас данные"
      ]
    },
    {
      "cell_type": "markdown",
      "metadata": {
        "id": "WBb6Vndg1_18"
      },
      "source": [
        "# Методы, которые позволяют получить данные"
      ]
    },
    {
      "cell_type": "code",
      "metadata": {
        "id": "GNp5PUGy1_19"
      },
      "source": [
        "def esr(file_):\n",
        "  file_ = ''.join(file_.split()).lower()\n",
        "  file_ = re.sub(r'\\d{,2}\\.\\d\\d\\.\\d{2,4}', '', file_)\n",
        "  patt = re.compile(r'(?<=соэ)\\d+')\n",
        "  patt1 = patt.findall(file_)\n",
        "  try:\n",
        "    if patt1:\n",
        "      return np.float_(patt1)\n",
        "    else:\n",
        "      return 'None'\n",
        "  except:\n",
        "    pass\n",
        "\n",
        "def fibrn(file_):\n",
        "  file_ = ''.join(file_.split()).lower()\n",
        "  file_ = re.sub(r'\\d{,2}\\.\\d\\d\\.\\d{2,4}', '', file_)\n",
        "  file_ = re.sub(r',', '.', file_)\n",
        "  patt = re.compile(r'(?:фибриноген|фибр\\.|фибрин|ф)(\\d+.\\d+)')\n",
        "  patt1 = patt.findall(file_)\n",
        "  try:\n",
        "    if patt1:\n",
        "      return np.float_(patt1)\n",
        "    else:\n",
        "      return 'None'\n",
        "  except:\n",
        "    pass\n",
        "\n",
        "\n",
        "def ID(num):\n",
        "  \"\"\"returns ID of the patient\"\"\"\n",
        "  for i in num.split():\n",
        "    for char in i.split():\n",
        "        if char.isnumeric():\n",
        "            try:\n",
        "                return int(char)\n",
        "            except:\n",
        "                return 'None'\n",
        "            \n",
        "            \n",
        "def treatment(file_):\n",
        "  \"\"\" returns srting of remedies used for the patient \"\"\"\n",
        "  for line in file_.split('\\n'):\n",
        "    if re.search('Провед.нное.лечение', line):  \n",
        "        return(line.replace('Проведенное лечение:', \\\n",
        "                            '').replace('ЛФК', '').replace('ФТЛ', ''))\n",
        "    \n",
        "\n",
        "def born_adm_disch(file_):\n",
        "    \"\"\" finds all nessesary dates in the epicrisis\"\"\"\n",
        "    pattern = re.compile(\"(\\d{2}).(\\d{2}).(\\d{4})\") # check all dates\n",
        "    birthday, admission = pattern.findall(file_)[:2]\n",
        "    discharging = pattern.findall(file_)[-1]\n",
        "    try:\n",
        "        return ':'.join(birthday), ':'.join(admission), ':'.join(discharging)\n",
        "    except:\n",
        "        return 'None'\n",
        "\n",
        "\n",
        "pattern_diagnosis = ['Диагноз:','Диагноз клинический:','Диагноз', 'Д-з:',\n",
        "                     \"Диагноз заключительный:\"]\n",
        "def diagnosis_dirty(file_):\n",
        "  int_ = 0\n",
        "  for i in file_.split():\n",
        "    int_ += 1\n",
        "    if i in pattern_diagnosis:\n",
        "      return file_.split()[int_+1:int_+40]    \n",
        "  \n",
        "\n",
        "def crp(file_):\n",
        "  \"\"\"returns all crp values\"\"\"\n",
        "  file_= ''.join(file_.split())\n",
        "  file_ = re.sub(r'[ЦСC]РБ|\\w\\D(реактив.|реакт.|реак.)белок', 'С-реактивныйбелок', file_)\n",
        "  file_ = re.sub(r'\\d{,2}\\.\\d\\d\\.\\d{2,4}', '', file_)\n",
        "  file_ = re.sub(r'[():]', '', file_)\n",
        "  file_ = re.sub(r'(?<!С-реактивныйбелок)\\d\\d\\.\\d\\d', '', file_)\n",
        "  file_ = re.sub(r',', '.', file_)\n",
        "  pattern_1 = re.compile(r'(?:\\w\\Dреактивныйбелок|\\w\\Dреактивныйбелокдо)(\\d*\\.\\d+|\\d+)')\n",
        "  pattern_2 = pattern_1.findall(file_)\n",
        "  try:\n",
        "    if pattern_2:\n",
        "      return np.float_(pattern_2)\n",
        "    else:\n",
        "      return 'None'\n",
        "  except:\n",
        "    pass\n",
        "\n",
        "\n",
        "def gender(file_):\n",
        "  file_ = file_.title()\n",
        "  file_ = ''.join(file_.split())\n",
        "  file_ = re.sub(r'Диагноз.*', '', file_)\n",
        "  patt1 = re.compile(r'[А-Я](\\w{,19}(\\w|\\ич))[А-Я]\\w{,20}(вна)')\n",
        "  patt2 = patt1.findall(file_)\n",
        "  try:\n",
        "    if patt2:\n",
        "      return 'female'\n",
        "    else:\n",
        "      return 'male'\n",
        "  except:\n",
        "    pass\n",
        "  \n",
        "\n",
        "def ldh(file_):\n",
        "  file_= ''.join(file_.split())\n",
        "  file_ = file_.lower()\n",
        "  file_ = re.sub(r'[():]', '', file_)\n",
        "  file_ = re.sub(r'\\d{,2}\\.\\d\\d\\.\\d{2,4}', '', file_)\n",
        "  file_ = re.sub(r'\\wактатдегидрогеназ\\w', 'лдг', file_)\n",
        "  file_ = re.sub(r'(?<!лдг)\\d\\d\\.\\d\\d', '', file_)\n",
        "  patt1 = re.compile(r'(?<=лдг)\\d{,4}')\n",
        "  patt2 = patt1.findall(file_)\n",
        "  try:\n",
        "    if patt2:\n",
        "      return np.float_(patt2)\n",
        "    else:\n",
        "      return 'None'\n",
        "  except:\n",
        "    pass\n",
        "\n",
        "\n",
        "\n",
        "def cre(file_):\n",
        "  \"\"\"Returns all creatinine values\"\"\"\n",
        "  file_= ''.join(file_.split())  \n",
        "  file_ = file_.lower()\n",
        "  file_ = re.sub(r'[():]', '', file_)\n",
        "  file_ = re.sub(r'\\d{,2}\\.\\d\\d\\.\\d{2,4}', '', file_)\n",
        "  file_ = re.sub(r'(\\wреатини\\w|креатин|креат)(?![а-яА-Я,])', 'cre', file_)\n",
        "  file_ = re.sub(r'(?<!cre)\\d\\d\\.\\d\\d', '', file_)\n",
        "  patt1 = re.compile(r'(?<=cre)\\d{2,3}')\n",
        "  patt2 = patt1.findall(file_)\n",
        "  try:\n",
        "    if patt2:\n",
        "      return np.float_(patt2)\n",
        "    else:\n",
        "      return 'None'\n",
        "  except:\n",
        "    pass\n",
        "\n",
        "\n",
        "def hgb(file_):\n",
        "  \"\"\"returns list of str with level of hemoglobin\"\"\"\n",
        "  file_= ''.join(file_.split())  \n",
        "  file_ = file_.lower()\n",
        "  file_ = re.sub(r'[():]', '', file_)\n",
        "  patt = re.compile(r'гемоглобин|гемогл|гб|гем')\n",
        "  patt1 = re.sub(patt, r'hgb', file_)\n",
        "  patt2 = re.compile(r'(?<=hgb)\\d{2,3}')\n",
        "  all_hgb = patt2.findall(patt1)\n",
        "  try:\n",
        "    if all_hgb:\n",
        "      return np.float_(all_hgb)\n",
        "    else:\n",
        "      return 'None'\n",
        "  except:\n",
        "    pass\n",
        "\n",
        "\n",
        "def wbc(file_):\n",
        "  \"\"\"returns list of str with level of wbc\"\"\"\n",
        "  file_= ''.join(file_.split())\n",
        "  file_ = file_.lower()\n",
        "  file_ = re.sub(r'[():]', '', file_)\n",
        "  file_ = re.sub(r'10(\\*|[еe])9', '', file_)\n",
        "  file_ = re.sub(r'\\d{,2}\\.\\d\\d\\.\\d{2,4}', '', file_)\n",
        "  file_ = re.sub(r'\\Dбщийанализкрови', 'оак', file_)\n",
        "  file_ = re.sub(r'(?<=оак)гб\\d*,', '', file_)\n",
        "  file_ = re.sub(r',', '.', file_)\n",
        "  patt1 = re.compile(r'(?<=оак|wbc)(?:л|лейкоцит\\w)(\\d*\\.\\d+|\\d+)')\n",
        "  all_wbc = patt1.findall(file_)\n",
        "  try:\n",
        "    if all_wbc:\n",
        "      return np.float_(all_wbc)\n",
        "    else:\n",
        "      return 'None'\n",
        "  except:\n",
        "    pass\n",
        "\n",
        "\n",
        "def plt(file_):\n",
        "  \"\"\"returns list of str with level of plt\"\"\"\n",
        "  file_= ''.join(file_.split())\n",
        "  file_ = file_.lower()\n",
        "  file_ = re.sub(r'[():]', '', file_)\n",
        "  file_ = re.sub(r'10(\\*|[еe])9', '', file_)\n",
        "  file_ = re.sub(r'\\d{,2}\\.\\d\\d\\.\\d{2,4}', '', file_)\n",
        "  patt1 = re.compile(r'\\wромбоцит\\w|(?<![а-яА-Я])тр(?![а-яА-Я])')\n",
        "  file_ = re.sub(patt1, r'plt', file_)\n",
        "  file_ = re.sub(r'(?<!plt)\\d\\d\\.\\d\\d', '', file_)\n",
        "  patt2 = re.compile(r'(?<=plt)\\d{3}')\n",
        "  all_plt = patt2.findall(file_)\n",
        "  try:\n",
        "    if all_plt:\n",
        "      return np.float_(all_plt)\n",
        "    else:\n",
        "      return 'None'\n",
        "  except:\n",
        "    pass\n",
        "\n",
        "\n",
        "def rf(file_):\n",
        "  file_= ''.join(file_.split())  \n",
        "  file_ = re.sub(r'[а-яА-ЯёЁ]ДН[^Шш0-9]', 'ДН'.lower(), file_)\n",
        "  file_ = re.sub(r'(?<=ДН)[1iI]{3}|[Шш]', '3', file_)\n",
        "  file_ = re.sub(r'(?<=ДН)[1iI]{2}|1-2', '2', file_)\n",
        "  file_ = re.sub(r'(?<=ДН)[оoОO]', '0', file_)\n",
        "  patt1 = re.compile(r'(?<=ДН)\\d')\n",
        "  patt2 = patt1.findall(file_)\n",
        "  try:\n",
        "    if patt2:\n",
        "      return patt2\n",
        "    else:\n",
        "      return 0\n",
        "  except:\n",
        "      return 0\n",
        "\n",
        "\n",
        "\n",
        "def alt(file_):\n",
        "  file_= ''.join(file_.split())\n",
        "  file_ = file_.lower()\n",
        "  file_ = re.sub(r'[():]', '', file_)\n",
        "  file_ = re.sub(r'\\d{,2}\\.\\d\\d\\.\\d{2,4}', '', file_)\n",
        "  file_ = re.sub(r'\\wланинаминотрансфераз\\w|алат', 'алт', file_)\n",
        "  file_ = re.sub(r'(?<!алт)\\d\\d\\.\\d\\d', '', file_)\n",
        "  file_ = re.sub(r',', '.', file_) \n",
        "  patt1 = re.compile(r'(?<=алт)(\\d*\\.\\d+|\\d+)')\n",
        "  patt2 = patt1.findall(file_)\n",
        "  try:\n",
        "    if patt2:\n",
        "      return np.float_(patt2)\n",
        "    else:\n",
        "      return 'None'\n",
        "  except:\n",
        "    pass\n",
        "\n",
        "\n",
        "def ast(file_):\n",
        "  file_= ''.join(file_.split())\n",
        "  file_ = file_.lower()\n",
        "  file_ = re.sub(r'[():]', '', file_)\n",
        "  file_ = re.sub(r'\\d{,2}\\.\\d\\d\\.\\d{2,4}', '', file_)\n",
        "  file_ = re.sub(r'\\wспартатаминотрансфераз\\w|асат', 'аст', file_)\n",
        "  file_ = re.sub(r'(?<!аст)\\d\\d\\.\\d\\d', '', file_)\n",
        "  file_ = re.sub(r',', '.', file_)\n",
        "  patt1 = re.compile(r'(?<=аст)(\\d*\\.\\d+|\\d+)')\n",
        "  patt2 = patt1.findall(file_)\n",
        "  try:\n",
        "    if patt2:\n",
        "      return np.float_(patt2)\n",
        "    else:\n",
        "      return 'None'\n",
        "  except:\n",
        "    pass\n",
        "\n",
        "\n",
        "def pct(file_):\n",
        "  file_= ''.join(file_.split())\n",
        "  file_ = file_.lower()\n",
        "  file_ = re.sub(r'(?<=\\,\\d)\\,|\\.\\d{2}\\.\\d\\d\\.\\d{2,4}.', '', file_)\n",
        "  file_ = re.sub(r'\\d{,2}\\.\\d\\d\\.\\d{2,4}(\\.|)', '', file_)\n",
        "  file_ = re.sub(r'[–-]|[():<>=]', '', file_)\n",
        "  file_ = re.sub(r'менее', '', file_)\n",
        "  file_ = re.sub(r'от', '', file_)\n",
        "  file_ = re.sub(r'(\\wрокальцитони\\w|прокальцитон|прокальцит|\\\n",
        "                  прокальц|рст)(?![а-яА-Я,])', 'pct', file_)\n",
        "  file_ = re.sub(r',', '.', file_)\n",
        "  patt1 = re.compile(r'(?<=pct)(\\d*\\.\\d+|\\d+)')\n",
        "  patt2 = patt1.findall(file_)\n",
        "  try:\n",
        "    if patt2:\n",
        "      return np.float_(patt2)\n",
        "    else:\n",
        "      return 'None'\n",
        "  except:\n",
        "    pass"
      ],
      "execution_count": null,
      "outputs": []
    },
    {
      "cell_type": "markdown",
      "metadata": {
        "id": "nlnI3aAd1_2G"
      },
      "source": [
        "# Запускаем методы"
      ]
    },
    {
      "cell_type": "code",
      "metadata": {
        "id": "UrGiBg4K1_2I"
      },
      "source": [
        "for file in list_of_files:\n",
        "    try:\n",
        "         with open(file, encoding='utf-8') as f:\n",
        "                num = f.readline()\n",
        "                file_ = f.read()\n",
        "                ID_.append(ID((num)))\n",
        "                tr.append(treatment((file_)))\n",
        "                bir.append(born_adm_disch(file_)[0])\n",
        "                ad.append(born_adm_disch(file_)[1])\n",
        "                dis.append(born_adm_disch(file_)[2])\n",
        "                dgs_.append(diagnosis_dirty((file_)))\n",
        "                crp_.append(crp(file_))\n",
        "                sex_.append(gender(file_))\n",
        "                ldh_.append(ldh(file_))\n",
        "                crea_.append(cre(file_))\n",
        "                hgb_.append(hgb(file_))\n",
        "                wbc_.append(wbc(file_))\n",
        "                plt_.append(plt(file_))\n",
        "                rf_.append(rf(file_))\n",
        "                alt_.append(alt(file_))\n",
        "                ast_.append(ast(file_))\n",
        "                pct_.append(pct(file_))\n",
        "                esr_.append(esr(file_))\n",
        "                fibrin_.append(fibrn(file_))\n",
        "    except:\n",
        "        print('stp')"
      ],
      "execution_count": null,
      "outputs": []
    },
    {
      "cell_type": "markdown",
      "metadata": {
        "id": "_nhQYcLZ1_2M"
      },
      "source": [
        "# !!! Работа со списками\n",
        "## 1) Начнём с диагнозов"
      ]
    },
    {
      "cell_type": "code",
      "metadata": {
        "id": "hZZLbrlS1_2O"
      },
      "source": [
        "diagnosis_cleaned =  []\n",
        "for diagnos in dgs_:\n",
        "    try:\n",
        "        diagnosis_cleaned.append(' '.join(diagnos))\n",
        "    except:\n",
        "        diagnosis_cleaned.append('None')\n",
        "        \n",
        "        \n",
        "        \n",
        "PUNCT_TO_REMOVE = string.punctuation\n",
        "def remove_punctuation(text):\n",
        "    \"\"\"custom function to remove the punctuation\"\"\"\n",
        "    return text.translate(str.maketrans('', '', PUNCT_TO_REMOVE))\n",
        "\n",
        "\n",
        "\n",
        "\n",
        "\n",
        "list_wo_punct = []\n",
        "for sent in diagnosis_cleaned:\n",
        "    try:\n",
        "        sent = remove_punctuation(sent.lower())\n",
        "        list_wo_punct.append(sent)\n",
        "    except:\n",
        "        pass\n",
        "        \n"
      ],
      "execution_count": null,
      "outputs": []
    },
    {
      "cell_type": "markdown",
      "metadata": {
        "id": "LAecT-C51_2P"
      },
      "source": [
        "Таким образом, мы имеет список со строками без пунктуции, далее, нам надо найти ключевые слова, чтобы определить наличие или отсутствие конкретных заболеваний"
      ]
    },
    {
      "cell_type": "markdown",
      "metadata": {
        "id": "5Ojczk5R1_2Q"
      },
      "source": [
        "# # - поиск коронавирусной инфекции. \n",
        "- если есть коронавирусная инфекция - 1, иначе - 0"
      ]
    },
    {
      "cell_type": "code",
      "metadata": {
        "id": "S0xT-LYi1_2S"
      },
      "source": [
        "covid_list = []    \n",
        "for sent in list_wo_punct:\n",
        "    pattern = re.sub(r'covid19', 'covid', sent )\n",
        "    pattern = re.sub(r'коронавирусная', 'covid', pattern)\n",
        "    pattern = re.sub(r'короновирусная', 'covid', pattern)\n",
        "    pattern = re.sub(r'b342', 'covid', pattern)\n",
        "    pattern = re.sub(r'sarscov2', 'covid', pattern)\n",
        "    pattern = re.sub(r'торсков2', 'covid', pattern)\n",
        "    pattern_1 = re.compile(r'covid')\n",
        "    patt_2 = re.search(pattern_1, pattern)\n",
        "    try:\n",
        "        covid_list.append(patt_2)\n",
        "    except:\n",
        "        pass\n",
        "    \n",
        "    \n",
        "c =[]\n",
        "#если есть коронавирусная инфекция - 1, иначе - 0\n",
        "for i in covid_list:\n",
        "    if not i:\n",
        "        c.append(0)\n",
        "    else:\n",
        "        c.append(1) "
      ],
      "execution_count": null,
      "outputs": []
    },
    {
      "cell_type": "markdown",
      "metadata": {
        "id": "4K_DVQCC1_2S"
      },
      "source": [
        "# # - поиск пневмоний"
      ]
    },
    {
      "cell_type": "code",
      "metadata": {
        "id": "Kfcttux_1_2T"
      },
      "source": [
        "pn_list = []\n",
        "for sent in list_wo_punct:\n",
        "    pattern = re.sub(r'пневмония', 'J18', sent )\n",
        "    pattern = re.sub(r'пне...ния', 'J18', pattern)\n",
        "    pattern = re.sub(r'внегоспитальная', 'J18', pattern)\n",
        "    pattern = re.sub(r'внебольничная', 'J18', pattern)\n",
        "    pattern_1 = re.compile(r'J18')\n",
        "    patt_2 = re.search(pattern_1, pattern)\n",
        "    try:\n",
        "        pn_list.append(patt_2)\n",
        "    except:\n",
        "        pass  \n",
        "    \n",
        "    \n",
        "p = []\n",
        "# если есть пневмония - 1, иначе - 0\n",
        "for i in pn_list:\n",
        "    if not i:\n",
        "        p.append(0)\n",
        "    else:\n",
        "        p.append(1)"
      ],
      "execution_count": null,
      "outputs": []
    },
    {
      "cell_type": "markdown",
      "metadata": {
        "id": "yox4_xOL1_2U"
      },
      "source": [
        "## Поиск ишемической болезни сердца"
      ]
    },
    {
      "cell_type": "code",
      "metadata": {
        "id": "DYLBQyRn1_2W"
      },
      "source": [
        "ihd_list = []\n",
        "for sent in list_wo_punct:\n",
        "    pattern = re.sub(r'ссн', 'ИБС', sent )\n",
        "    pattern = re.sub(r'ибс', 'ИБС', pattern)\n",
        "    pattern = re.sub(r'атеросклеротический', 'ИБС', pattern)\n",
        "    pattern = re.sub(r'кардиосклероз', 'ИБС', pattern)\n",
        "    pattern = re.sub(r'фп', 'ИБС', pattern)\n",
        "    pattern = re.sub(r'фибрил....', 'ИБС', pattern)\n",
        "    pattern_1 = re.compile(r'ИБС')\n",
        "    patt_2 = re.search(pattern_1, pattern)\n",
        "    try:\n",
        "        ihd_list.append(patt_2)\n",
        "    except:\n",
        "        pass  \n",
        "# итого, обработаны все возможные паттерны    \n",
        "    \n",
        "ihd = []\n",
        "\n",
        "for i in ihd_list:\n",
        "    if not i:\n",
        "        ihd.append(0)\n",
        "    else:\n",
        "        ihd.append(1)"
      ],
      "execution_count": null,
      "outputs": []
    },
    {
      "cell_type": "markdown",
      "metadata": {
        "id": "gtFLu17c1_2h"
      },
      "source": [
        "## Поиск сахарного диабета"
      ]
    },
    {
      "cell_type": "code",
      "metadata": {
        "id": "qoOVgmgL1_2i"
      },
      "source": [
        "dm_list = []\n",
        "for sent in list_wo_punct:\n",
        "    pattern = re.sub(r'сд', 'СД', sent )\n",
        "    pattern = re.sub(r'сах.....', 'СД', pattern)\n",
        "    pattern = re.sub(r'д.абет', 'СД', pattern)\n",
        "    pattern_1 = re.compile(r'СД')\n",
        "    patt_2 = re.search(pattern_1, pattern)\n",
        "    try:\n",
        "        dm_list.append(patt_2)\n",
        "    except:\n",
        "        pass  \n",
        "    \n",
        "dm_ = []\n",
        "\n",
        "for i in dm_list:\n",
        "    if not i:\n",
        "        dm_.append(0)\n",
        "    else:\n",
        "        dm_.append(1)\n"
      ],
      "execution_count": null,
      "outputs": []
    },
    {
      "cell_type": "markdown",
      "metadata": {
        "id": "ZTj79bLk1_2k"
      },
      "source": [
        "## Поиск ожирения"
      ]
    },
    {
      "cell_type": "code",
      "metadata": {
        "id": "gbtN4aQt1_2l"
      },
      "source": [
        "obes_list = []\n",
        "for sent in list_wo_punct:\n",
        "    pattern = re.sub(r'ожир.н..', 'ОЖИРЕНИЕ', sent )\n",
        "    pattern = re.sub(r'.нжо.', 'ОЖИРЕНИЕ', pattern)\n",
        "    \n",
        "    #pattern = re.sub(r'торсков2', 'covid', pattern)\n",
        "    pattern_1 = re.compile(r'ОЖИРЕНИЕ')\n",
        "    patt_2 = re.search(pattern_1, pattern)\n",
        "    #patt_2 = pattern_1.findall(''.join(pattern.split()))\n",
        "    try:\n",
        "        obes_list.append(patt_2)\n",
        "    except:\n",
        "        pass  \n",
        "    \n",
        "ob_ = []\n",
        "\n",
        "for i in obes_list:\n",
        "    if not i:\n",
        "        ob_.append(0)\n",
        "    else:\n",
        "        ob_.append(1)"
      ],
      "execution_count": null,
      "outputs": []
    },
    {
      "cell_type": "markdown",
      "metadata": {
        "id": "StYH2vq01_2n"
      },
      "source": [
        "## Поиск обструктивной болезни лёгких"
      ]
    },
    {
      "cell_type": "code",
      "metadata": {
        "id": "FEuhelII1_2o"
      },
      "source": [
        "copd_list = []\n",
        "for sent in list_wo_punct:\n",
        "    pattern = re.sub(r'хобл', 'ХОБЛ', sent )\n",
        "    pattern = re.sub(r'другая обструктивная', 'ХОБЛ', pattern)\n",
        "    pattern = re.sub(r'j44', 'ХОБЛ', pattern)\n",
        "    pattern_1 = re.compile(r'ХОБЛ')\n",
        "    patt_2 = re.search(pattern_1, pattern)\n",
        "    try:\n",
        "        copd_list.append(patt_2)\n",
        "    except:\n",
        "        pass  \n",
        "\n",
        "\n",
        "copd_ = []\n",
        "for i in copd_list:\n",
        "    if not i:\n",
        "        copd_.append(0)\n",
        "    else:\n",
        "        copd_.append(1)    "
      ],
      "execution_count": null,
      "outputs": []
    },
    {
      "cell_type": "markdown",
      "metadata": {
        "id": "Srtdb2sd1_2q"
      },
      "source": [
        "## Поиск бронхиальной астмы"
      ]
    },
    {
      "cell_type": "code",
      "metadata": {
        "id": "bn3JLfjr1_2r"
      },
      "source": [
        "ba_list = []\n",
        "for sent in list_wo_punct:\n",
        "  pattern = re.sub(r'бронхиальная', 'БА', sent )\n",
        "  pattern = re.sub(r'частично контролируемая', 'БА', pattern)\n",
        "  pattern = re.sub(r'\\sба\\s', 'БА', pattern )\n",
        "  pattern = re.sub(r'неконтролируемая', 'БА', pattern )\n",
        "  pattern_1 = re.compile(r'БА')\n",
        "  pattern_2 = re.search(pattern_1, pattern)\n",
        "  try:\n",
        "    ba_list.append(pattern_2)\n",
        "  except:\n",
        "    pass\n",
        "ba = []\n",
        "for i in ba_list:\n",
        "    if not i:\n",
        "        ba.append(0)\n",
        "    else:\n",
        "        ba.append(1)"
      ],
      "execution_count": null,
      "outputs": []
    },
    {
      "cell_type": "markdown",
      "metadata": {
        "id": "ps2vjoZp1_2w"
      },
      "source": [
        "## Определяем наличие дыхательной недостаточности у пациентов"
      ]
    },
    {
      "cell_type": "code",
      "metadata": {
        "id": "H1N7IYEC1_2w"
      },
      "source": [
        "# нас интересует самый высокий уроведь ДН, т.к. у пациента при поступлении ДН может быть 2, а при выписке - 0,\n",
        "# о тяжести пациента мы будем судить по наибольшему значению\n",
        "rfl = []\n",
        "for i in rf_:\n",
        "    if i:\n",
        "        rfl.append(max(np.float_(i)))\n",
        "    else:\n",
        "        rfl.append(0)"
      ],
      "execution_count": null,
      "outputs": []
    },
    {
      "cell_type": "markdown",
      "metadata": {
        "id": "YXd4KCMf1_2x"
      },
      "source": [
        "итого: по степеням дыхательной недостаточности мы имеем: {0.0: 1015, 1.0: 652, 2.0: 535, 3.0: 22}"
      ]
    },
    {
      "cell_type": "markdown",
      "metadata": {
        "id": "R2djYdww1_2z"
      },
      "source": [
        "## Определение тяжести\n",
        "\n",
        "Пневмонии классифицируются на тяжёлые и нетяжёлые"
      ]
    },
    {
      "cell_type": "code",
      "metadata": {
        "id": "muSgZHkh1_20"
      },
      "source": [
        "gr_list = []\n",
        "for sent in list_wo_punct:\n",
        "  pattern = re.sub(r'среднетяж.л..', '', sent)\n",
        "  pattern = re.sub(r'ср.тяж.', '', sent)\n",
        "  pattern = re.sub(r'нетяж.л..', '', pattern)\n",
        "  pattern_1 = re.compile(r'тяж.л..')\n",
        "  pattern_2 = re.search(pattern_1, pattern)\n",
        "  try:\n",
        "    gr_list.append(pattern_2)\n",
        "  except:\n",
        "    pass"
      ],
      "execution_count": null,
      "outputs": []
    },
    {
      "cell_type": "code",
      "metadata": {
        "id": "bYgknryG1_21"
      },
      "source": [
        "g = []\n",
        "for i in gr_list:\n",
        "    if not i:\n",
        "        g.append(0)\n",
        "    else:\n",
        "        g.append(1)"
      ],
      "execution_count": null,
      "outputs": []
    },
    {
      "cell_type": "markdown",
      "metadata": {
        "id": "tZ42uwbk1_24"
      },
      "source": [
        "## 2) Работа с лечением. "
      ]
    },
    {
      "cell_type": "code",
      "metadata": {
        "id": "1_qA_UDo1_25"
      },
      "source": [
        "# задаём словарь, в котором ключ - истинное название препарата, а значения - варианты названий ( коммерческих) и\n",
        "# названия с ошибками для обработки с помощью регулярных выражений\n",
        "\n",
        "dict_treatment = {'лизиноприл':'л.з.....ил|лизитар|лизинеоприл', \n",
        "                  'цефтриаксон':'три.....ф|цефт.....он|цефтриакосн', \n",
        "                   \"метопролол\":\"мет.....ол|эгилок\", \n",
        "                  \"фраксипарин\":\"фра......ин\",\n",
        "                  'тейкопланин': \"тей......ин.\",\n",
        "                  \"амброксол\": \"аброкол|амброко.|амб......|амброксолс\\\n",
        "                      |амброкосл|амброксолл|амброксолл|аброксол|амброксолл\", \n",
        "                  \"моксифлоксацин\": 'пле....кс.|мокс.......цин',\n",
        "                  \"молсидомин\":\"м.лсид...н\",\n",
        "                  \"спиронолактон\":\"сп.р.......он.|верош....н\",\n",
        "                 \"бисопролол\":\"б.с.пр..ол|бисопралдол|бикард|конкор\", \n",
        "                  \"лансопрозол\": \"лан......ол|ланс.зол\",\n",
        "                 \"меропенем\":\"мер....ем\",\n",
        "                  \"аторвастатин\": \"липромак|аторв.......\",\n",
        "                 \"дексаметазон\": \"декс.......н|дексаетазон\",\n",
        "                 \"левофлоксацин\": \"лев.......цин\",\n",
        "                 \"омепразол\": \"омез|омепр..ол\",\n",
        "                 \"азитромицин\": \"азит.......\",\n",
        "                 \"кандесартан\": \"к.с.рк\",\n",
        "                 \"амоксициллин\": \"амоксицилин|амо........н\",\n",
        "                 \"озельтамивир\": \"флустоп|озел.......р\",\n",
        "                 \"эноксапарин\": \"клексан|кл...ан\",\n",
        "                 \"имепенем\": \"им....ем\",\n",
        "                 \"клопидогрел\": \"клопидогрель|плавикс|клорпидогрель\",\n",
        "                 \"аспикард\": \"аспкиард|кардиомагнил|ас....рд\",\n",
        "                 \"амлодипин\":\"амл....ин\",\n",
        "                 \"амикацин\": \"ам.к...н\",\n",
        "                 \"индапамид\": \"индап|инд.....д\",\n",
        "                 \"беродуал\": \"бер.дуал|ипратропия.бромид\",\n",
        "                 \"ацетилцистеин\": \"ацецемед|асс|ацц|ацемед|ацецезон\",\n",
        "                 \"парацетамол\": \"парац.....л\",\n",
        "                 \"гидроксихлорохин\": \"плаквенил|имар.|иммар.\",\n",
        "                 \"метилпреднизолон\": \"медрол|м.дрол|метипред|диметилпреднизолон\",\n",
        "                 \"теофиллин\": \"теофилин|теотард|теофилл\",\n",
        "                 \"кларитромицин\": \"кларибацин|кла.......цин\",\n",
        "                 \"лозартан\": \"лазртан|л...ртан|л.риста\",\n",
        "                 \"валсартан\": \"валозартан|валз|вал....ан\",\n",
        "                 \"моксонидин\": \"м.кс.н.дин\",\n",
        "                 \"амиодарон\": \"ами.д.р.н|к.рд.рон\",\n",
        "                 \"полимиксин\": \"колистин|колистат|к.л.стат\",\n",
        "                 \"преднизолон\": \"преднезолон|пре.н.з.лон\",\n",
        "                 \"рамиприл\": \"рам.л...|рам.прил\",\n",
        "                 \"карбомазепин\": \"карб.м.з.п.н\",\n",
        "                 \"кетаролак\": \"кет.р.лак|кет.рол|кет.н.в\",\n",
        "                 \"гентамицин\": \"г.нт.мицин\",\n",
        "                 \"цефепим\": \"ц.ф.пим\",\n",
        "                 \"цефоперазон/сульбактам\": \"цеф.пер.зон|цеф.пер.зон.су.......\",\n",
        "                 \"тайгециклин\": \"тиг.циклин|та.г.циклин\",\n",
        "                 \"зопиклон\": \"з.п.клон|соне.|соне.с\"}\n",
        "\n",
        "cleaned_treatment = []\n",
        "for words in tr:\n",
        "    try:\n",
        "        for i, j in dict_treatment.items():\n",
        "            words = re.sub(j, i, words.lower())\n",
        "\n",
        "        cleaned_treatment.append(words)\n",
        "    except:\n",
        "        cleaned_treatment.append(\"None\")"
      ],
      "execution_count": null,
      "outputs": []
    },
    {
      "cell_type": "markdown",
      "metadata": {
        "id": "649OEMHJ1_26"
      },
      "source": [
        "На выходе мы получили список с правильными названиями препаратов. Если нет - возвращаем \"None\""
      ]
    },
    {
      "cell_type": "markdown",
      "metadata": {
        "id": "f6WxpS_T1_26"
      },
      "source": [
        "# 3) Работа с анализами\n",
        "\n",
        "Мотивировочная часть:\n",
        "Прокальцитонин - показатель, который обладает довольно выской чувствительностью и специфичностью к наличию у пациента батериальной инфекции, т.о., если уровень прокальцитонина в пределах референтных значений - антибиотики пациенту не показаны. \n",
        "Таким образом, мы хотим знать уровень прокальцитонина у пациента при поступлении и максимальный прокальцитонин (нужны ли были ему антибиотики за всё время пребывания в больнице)"
      ]
    },
    {
      "cell_type": "code",
      "metadata": {
        "id": "25RPAQ1S1_28"
      },
      "source": [
        "initial_pct = []\n",
        "max_pct = []\n",
        "try:\n",
        "    for pct in pct_:\n",
        "        if pct != 'None':\n",
        "            initial_pct.append(pct[0])\n",
        "            max_pct.append(max(pct))\n",
        "        else:\n",
        "            initial_pct.append(0)\n",
        "            max_pct.append(0)\n",
        "            \n",
        "except:\n",
        "    initial_pct.append(0)\n",
        "    max_pct.append(0)\n"
      ],
      "execution_count": null,
      "outputs": []
    },
    {
      "cell_type": "markdown",
      "metadata": {
        "id": "K5kOxirc1_3C"
      },
      "source": [
        "## Показанием для антибиотикотерапии является уровень прокальцитонина более 0.5. Определим этот признак. Однако, в нашем случае, я определяю как показание к антибактериальной терапии уровень выше 0,4, т.к. хочу минимизировать риск \"пропустить\" пациента. По некоторым данным 0.4 - \"серая\" зона, где уже может быть вероятность показаний к АБ-терапии"
      ]
    },
    {
      "cell_type": "code",
      "metadata": {
        "id": "yuOy7nKv1_3F"
      },
      "source": [
        "ind_4_ab = []\n",
        "for pct_i  in  max_pct_:\n",
        "    if pct_i > .4:\n",
        "        ind_4_ab.append(1)\n",
        "    else:\n",
        "        ind_4_ab.append(0)"
      ],
      "execution_count": null,
      "outputs": []
    },
    {
      "cell_type": "markdown",
      "metadata": {
        "id": "XKjXB0vs1_3L"
      },
      "source": [
        "Отлично, проблема решена"
      ]
    },
    {
      "cell_type": "markdown",
      "metadata": {
        "id": "KX_bWm0O1_3O"
      },
      "source": [
        "## Поработаем с остальными анализами"
      ]
    },
    {
      "cell_type": "code",
      "metadata": {
        "id": "b-0g_Opn1_3P"
      },
      "source": [
        "# АСТ - неспецифический маркер повреждения печени\n",
        "\n",
        "max_ast = []\n",
        "try:\n",
        "    for ast in ast_:\n",
        "        if ast != 'None':\n",
        "            max_ast.append(max(ast))\n",
        "        else:\n",
        "            max_ast.append(0)\n",
        "except:\n",
        "    max_ast.append(0)\n",
        "\n",
        "# АЛТ - неспецифический маркер повреждения печени\n",
        "max_alt = []\n",
        "try:\n",
        "    for alt in alt_:\n",
        "        if alt != 'None':\n",
        "            max_alt.append(max(alt))\n",
        "        else:\n",
        "            max_alt.append(0)\n",
        "except:\n",
        "    max_alt.append(0)\n",
        "\n",
        "\n",
        "\n",
        "# ЛДГ - неспецифический маркер повреждения лёгких, повышение характерно именно\n",
        "# для коронавирусной инфекции\n",
        "initial_ldh = []\n",
        "max_ldh = []\n",
        "try:\n",
        "    for ldh in ldh_:\n",
        "        if  ldh == 'None':\n",
        "            initial_ldh.append(0)\n",
        "            max_ldh.append(0)\n",
        "            \n",
        "        else:\n",
        "          try:\n",
        "            initial_ldh.append(ldh[0])\n",
        "            max_ldh.append(max(ldh))\n",
        "          except:\n",
        "            initial_ldh.append(0)\n",
        "            max_ldh.append(0)            \n",
        "except:\n",
        "    initial_ldh.append(0)\n",
        "    max_ldh.append(0)\n",
        "\n",
        "\n",
        "# уровень гемоглобина \n",
        "max_hgb = []\n",
        "try:\n",
        "    for hgb in hgb_:\n",
        "        if hgb != 'None':\n",
        "            max_hgb.append(max(hgb))\n",
        "        else:\n",
        "            max_hgb.append(0)\n",
        "except:\n",
        "    max_hgb.append(0)\n",
        "\n",
        "\n",
        "# креатинин - продукт обмена, который характеризует функцию почек\n",
        "\n",
        "max_cre = []\n",
        "min_cre = []\n",
        "try:\n",
        "    for cre in crea_:\n",
        "        if cre != 'None':\n",
        "            min_cre.append(min(cre))\n",
        "            max_cre.append(max(cre))\n",
        "        else:\n",
        "            min_cre.append(0)\n",
        "            max_cre.append(0)\n",
        "except:\n",
        "    min_cre.append(0)\n",
        "    max_cre.append(0)\n",
        "\n",
        "\n",
        "# СРБ - маркер воспаления, невоспалительный, при коронавирусе часто повышается\n",
        "initial_crp = []\n",
        "max_crp = []\n",
        "try:\n",
        "    for crp in crp_:\n",
        "        if crp != 'None':\n",
        "            initial_crp.append(crp[0])\n",
        "            max_crp.append(max(crp))\n",
        "        else:\n",
        "            initial_crp.append(0)\n",
        "            max_crp.append(0)\n",
        "            \n",
        "except:\n",
        "    initial_crp.append(0)\n",
        "    max_crp.append(0)\n",
        "\n",
        "\n",
        "# уровень тромбоцитов\n",
        "\n",
        "min_plt = []\n",
        "max_plt = []\n",
        "try:\n",
        "    for plt in plt_:\n",
        "        if plt != 'None':\n",
        "            min_plt.append(min(plt))\n",
        "            max_plt.append(max(plt))\n",
        "        else:\n",
        "            min_plt.append(0)\n",
        "            max_plt.append(0)\n",
        "except:\n",
        "    max_plt.append(0)\n",
        "    min_plt.append(0)\n",
        "\n",
        "\n",
        "# уровень лейкоцитов\n",
        "min_wbc = []\n",
        "max_wbc = []\n",
        "try:\n",
        "    for wbc in wbc_:\n",
        "        if wbc != 'None':\n",
        "            min_wbc.append(min(wbc))\n",
        "            max_wbc.append(max(wbc))\n",
        "        else:\n",
        "            min_wbc.append(0)\n",
        "            max_wbc.append(0)\n",
        "except:\n",
        "    max_wbc.append(0)\n",
        "    min_wbc.append(0)\n",
        "\n",
        "\n",
        "\n",
        "# уровень СОЭ\n",
        "initial_esr = []\n",
        "max_esr = []\n",
        "try:\n",
        "    for esr in esr_:\n",
        "        if esr != 'None':\n",
        "          initial_esr.append(esr[0])\n",
        "          max_esr.append(max(esr))\n",
        "        else:\n",
        "          initial_esr.append(0)\n",
        "          max_esr.append(0)\n",
        "            \n",
        "except:\n",
        "    initial_esr.append(0)\n",
        "    max_esr.append(0)\n",
        "\n",
        "\n",
        "# фибриноген - белок свёртывающей системы крови, может быть как маркер воспаления\n",
        "initial_fibin = []\n",
        "max_fibin = []\n",
        "try:\n",
        "    for fibin in fibrin_:\n",
        "        if  fibin == 'None':\n",
        "            initial_fibin.append(0)\n",
        "            max_fibin.append(0)\n",
        "            \n",
        "        else:\n",
        "          try:\n",
        "            initial_fibin.append(fibin[0])\n",
        "            max_fibin.append(max(fibin))\n",
        "          except:\n",
        "            initial_fibin.append(0)\n",
        "            max_fibin.append(0)            \n",
        "except:\n",
        "    initial_fibin.append(0)\n",
        "    max_fibin.append(0)"
      ],
      "execution_count": null,
      "outputs": []
    },
    {
      "cell_type": "code",
      "metadata": {
        "id": "IfBxUsJj923U"
      },
      "source": [
        "# Собираем дата фрейм. Сначал в словарь\r\n",
        "\r\n",
        "data_dct = {'ID':ID_, \"Max_Procalcitonine\": max_pct_,'Max_Platlets':max_plt, \r\n",
        "            \"Min_Platlets\":min_plt, \"Init_ESR\": initial_esr,\r\n",
        "            \"Max_ESR\": max_esr, \"Init_Fibrinogen\": initial_fibin,\r\n",
        "            \"Max_Fibrinogen\": max_fibin, \"Initial_LDH\": initial_ldh,\r\n",
        "            \"Max_LDH\": max_ldh,\r\n",
        "            'Max_Leucocytes': max_wbc,\r\n",
        "            'Min_Leucocytes': min_wbc,'Hemoglobin': hgb_,\r\n",
        "           'Max_Creatinine': max_cre, \"Min_Cratinine\": min_cre , \r\n",
        "            'Gender':sex_, \r\n",
        "            'initial_CRP':initial_crp,\r\n",
        "            \"Max_CRP\":max_crp, \r\n",
        "            'Treatment': cleaned_treatment, 'Birthday': bir, 'Admission':ad,\r\n",
        "            'Discharge':dis,  'Diagnosis': list_wo_punct,\r\n",
        "            'COVID-19': c, 'Pneumonia': p, \"Severity\": g,\r\n",
        "            \"IHD\": ihd, \"COPD\": copd_, \"Bronchial_asthma\": ba,\r\n",
        "            \"Obesity\":ob_, \"Diabetes\": dm_, 'RF': rfl, \"ALT\": max_alt,\r\n",
        "            \"AST\": max_ast, 'Ab_ind': ind_4_ab\r\n",
        "           }\r\n",
        "# затем пандас-датафрейм\r\n",
        "dataFrame = pd.DataFrame(data_dct)"
      ],
      "execution_count": null,
      "outputs": []
    },
    {
      "cell_type": "code",
      "metadata": {
        "id": "to-fF2qC5xg0"
      },
      "source": [
        "# переводим наши даты в формат пандас\r\n",
        "for i in ['Birthday', 'Admission', 'Discharge']:\r\n",
        "  dataFrame[i] = pd.to_datetime(dataFrame[i], format = \"%d:%m:%Y\")\r\n",
        "# длительность госпитализации = выписка - поступление\r\n",
        "dataFrame[\"duration\"] = (dataFrame['Discharge'] -\r\n",
        "                         dataFrame['Admission']).dt.days\r\n",
        "\r\n",
        "# возраст пациента рассчитаем: день рождения - поступление = \r\n",
        "#дни и целочисленно делим на 356\r\n",
        "dataFrame[\"Age\"] = ((dataFrame['Admission'] - \r\n",
        "                     dataFrame['Birthday']).dt.days) // 356\r\n",
        "dataFrame = dataFrame.drop(['Birthday', 'Admission', 'Discharge'], axis=1)\r\n",
        "\r\n",
        "\r\n",
        "# # т.к. в наших данных есть параметр \"креатинин\", для того, \r\n",
        "#чтобы улучшить данные, давайте высчитаем скорость клубочковой\r\n",
        "# фильтрации. Однако, для начала надо перевести мкмоль \r\n",
        "#на литр в милиграммы на децилитр по формуле\r\n",
        "# мкмоль на литр / 113\r\n",
        "dataFrame['Max_Creatinine'] = dataFrame['Max_Creatinine'] / 113 \r\n",
        "\r\n",
        "\r\n",
        "# т.к. в наших данных есть параметр \"креатинин\", для того, чтобы улучшить\r\n",
        "# данные, давайте высчитаем скорость клубочковой\r\n",
        "# фильтрации. СКФ обладает значительно более высокой диагностической ценностью\r\n",
        "\"\"\"Levey AS, Stevens LA, Schmid CH, et al. for the CKD-EPI \r\n",
        "(Chronic Kidney Disease Epidemiology Collaboration). \r\n",
        "A New Equation to Estimate Glomerular Filtration Rate.\r\n",
        " Ann Intern Med. 2009 May 5; 150:604-612. PubMed ID: 19414839\"\"\"\r\n",
        "\r\n",
        "if dataFrame.Gender.all() == 'male':\r\n",
        "    if dataFrame.Max_Creatinine_mg_dl.all() < .9:\r\n",
        "        dataFrame['GFR'] = 141 * (((dataFrame['Max_Creatinine_mg_dl'] /\r\n",
        "                                  0.9)) ** (-0.411)) * 0.993 ** dataFrame['Age']\r\n",
        "    else:\r\n",
        "        dataFrame['GFR'] = 141 * (((hf['Max_Creatinine_mg_dl'] /\r\n",
        "                                  0.9)) ** (-1.209)) * 0.993 ** dataFrame['Age']\r\n",
        "else:\r\n",
        "    if dataFrame.Max_Creatinine_mg_dl.all() < .7:\r\n",
        "        dataFrame['GFR'] = 144 * (((dataFrame['Max_Creatinine_mg_dl'] / \r\n",
        "                                  0.7)) ** (-0.329)) * 0.993 ** dataFrame['Age']\r\n",
        "    else:\r\n",
        "        dataFrame['GFR'] = 144 * (((dataFrame['Max_Creatinine_mg_dl'] / \r\n",
        "                                  0.7)) ** (-1.209)) * 0.993 ** dataFrame['Age']\r\n",
        "\r\n",
        "\r\n",
        "# также соотношение лейкоцитов к тромбоцитам может быть полезным\r\n",
        "dataFrame[\"L/Pl_Ratio\"] = dataFrame['Max_Leucocytes']\r\n",
        "                                         / dataFrame['Max_Platlets'] * 100"
      ],
      "execution_count": null,
      "outputs": []
    },
    {
      "cell_type": "code",
      "metadata": {
        "id": "nyWu_slW9ub7"
      },
      "source": [
        "# оставляем только ковид и где есть прокальцитонин\r\n",
        "covid_data = dataFrame[(dataFrame['COVID-19'] == 1) &\r\n",
        "                      (dataFrame['Max_Procalcitonine'] > 0)]"
      ],
      "execution_count": null,
      "outputs": []
    },
    {
      "cell_type": "code",
      "metadata": {
        "id": "3hk0MFOl-lX7"
      },
      "source": [
        "# доп. очистка данных. Номер эпикриза, уровень гемоглобина, макс.тромб., текстовые данные,\r\n",
        "# минимальный уровень креатинина, ковид и пневмония не понадобятся для дальнейшего анализа\r\n",
        "# т.к. они не отражают сути процесса и могут ввести в заблуждение\r\n",
        "covid_data = covid_data.drop([ 'ID','Hemoglobin',\r\n",
        "              'Diagnosis', 'Treatment', 'Min_Cratinine', \r\n",
        "              'COVID-19', 'Pneumonia', \"Max_Platlets\",\r\n",
        "              'Init_Fibrinogen', 'Initial_LDH','Min_Leucocytes','initial_CRP',\r\n",
        "              'Init_ESR' ], axis = 1)\r\n",
        "\r\n",
        "# пол переведём в числовую матрицу\r\n",
        "covid_data['Gender'] = covid_data['Gender'].map({'male':1, 'female': 0})"
      ],
      "execution_count": null,
      "outputs": []
    },
    {
      "cell_type": "code",
      "metadata": {
        "id": "yyb_12EJABRM"
      },
      "source": [
        "# хотя и уровень дыхательной недостаточности определён цифрой, но это \r\n",
        "# по-сути категориальная колонка\r\n",
        "covid_data[\"RF\"] = covid_data[\"RF\"].astype('category')"
      ],
      "execution_count": null,
      "outputs": []
    },
    {
      "cell_type": "code",
      "metadata": {
        "id": "OIe-1CroAPB1"
      },
      "source": [
        "# получим даммис от всех категориальных данных\r\n",
        "covid_data = pd.get_dummies(covid_data)"
      ],
      "execution_count": null,
      "outputs": []
    },
    {
      "cell_type": "code",
      "metadata": {
        "colab": {
          "base_uri": "https://localhost:8080/"
        },
        "id": "BUPpG3RxClaV",
        "outputId": "9498c910-5727-43b8-cafd-524d1a1f3dfc"
      },
      "source": [
        "covid_data.shape"
      ],
      "execution_count": null,
      "outputs": [
        {
          "output_type": "execute_result",
          "data": {
            "text/plain": [
              "(863, 25)"
            ]
          },
          "metadata": {
            "tags": []
          },
          "execution_count": 19
        }
      ]
    },
    {
      "cell_type": "markdown",
      "metadata": {
        "id": "ZjfNLcMjDLJG"
      },
      "source": [
        "## Итого мы имеем матрицу размерности 863 на 25"
      ]
    },
    {
      "cell_type": "code",
      "metadata": {
        "colab": {
          "base_uri": "https://localhost:8080/",
          "height": 215
        },
        "id": "UcLmgn_PDV_B",
        "outputId": "67cd667e-a62a-4f71-b2f5-dd63b8123e3a"
      },
      "source": [
        "covid_data.head()"
      ],
      "execution_count": null,
      "outputs": [
        {
          "output_type": "execute_result",
          "data": {
            "text/html": [
              "<div>\n",
              "<style scoped>\n",
              "    .dataframe tbody tr th:only-of-type {\n",
              "        vertical-align: middle;\n",
              "    }\n",
              "\n",
              "    .dataframe tbody tr th {\n",
              "        vertical-align: top;\n",
              "    }\n",
              "\n",
              "    .dataframe thead th {\n",
              "        text-align: right;\n",
              "    }\n",
              "</style>\n",
              "<table border=\"1\" class=\"dataframe\">\n",
              "  <thead>\n",
              "    <tr style=\"text-align: right;\">\n",
              "      <th></th>\n",
              "      <th>Min_Platlets</th>\n",
              "      <th>Max_ESR</th>\n",
              "      <th>Max_Fibrinogen</th>\n",
              "      <th>Max_LDH</th>\n",
              "      <th>Max_Leucocytes</th>\n",
              "      <th>Gender</th>\n",
              "      <th>Max_CRP</th>\n",
              "      <th>Severity</th>\n",
              "      <th>IHD</th>\n",
              "      <th>COPD</th>\n",
              "      <th>Bronchial_asthma</th>\n",
              "      <th>Obesity</th>\n",
              "      <th>Diabetes</th>\n",
              "      <th>ALT</th>\n",
              "      <th>AST</th>\n",
              "      <th>duration</th>\n",
              "      <th>Age</th>\n",
              "      <th>Max_Creatinine</th>\n",
              "      <th>RF_0.0</th>\n",
              "      <th>RF_1.0</th>\n",
              "      <th>RF_2.0</th>\n",
              "      <th>RF_3.0</th>\n",
              "      <th>GFR</th>\n",
              "      <th>Ab_ind</th>\n",
              "      <th>L/Pl_Ratio</th>\n",
              "    </tr>\n",
              "  </thead>\n",
              "  <tbody>\n",
              "    <tr>\n",
              "      <th>0</th>\n",
              "      <td>142.8</td>\n",
              "      <td>54.0</td>\n",
              "      <td>4.8</td>\n",
              "      <td>513.0</td>\n",
              "      <td>10.0</td>\n",
              "      <td>1</td>\n",
              "      <td>88.7</td>\n",
              "      <td>0</td>\n",
              "      <td>0</td>\n",
              "      <td>1</td>\n",
              "      <td>0</td>\n",
              "      <td>0</td>\n",
              "      <td>0</td>\n",
              "      <td>57.26</td>\n",
              "      <td>42.59</td>\n",
              "      <td>25</td>\n",
              "      <td>58</td>\n",
              "      <td>0.94</td>\n",
              "      <td>0</td>\n",
              "      <td>0</td>\n",
              "      <td>0</td>\n",
              "      <td>0</td>\n",
              "      <td>87.0</td>\n",
              "      <td>0</td>\n",
              "      <td>38.1</td>\n",
              "    </tr>\n",
              "    <tr>\n",
              "      <th>1</th>\n",
              "      <td>261.5</td>\n",
              "      <td>36.0</td>\n",
              "      <td>10.0</td>\n",
              "      <td>287.6</td>\n",
              "      <td>8.3</td>\n",
              "      <td>0</td>\n",
              "      <td>47.4</td>\n",
              "      <td>1</td>\n",
              "      <td>0</td>\n",
              "      <td>0</td>\n",
              "      <td>0</td>\n",
              "      <td>0</td>\n",
              "      <td>0</td>\n",
              "      <td>101.68</td>\n",
              "      <td>59.71</td>\n",
              "      <td>18</td>\n",
              "      <td>54</td>\n",
              "      <td>0.87</td>\n",
              "      <td>0</td>\n",
              "      <td>0</td>\n",
              "      <td>0</td>\n",
              "      <td>0</td>\n",
              "      <td>92.0</td>\n",
              "      <td>0</td>\n",
              "      <td>20.2</td>\n",
              "    </tr>\n",
              "    <tr>\n",
              "      <th>2</th>\n",
              "      <td>225.4</td>\n",
              "      <td>36.0</td>\n",
              "      <td>9.3</td>\n",
              "      <td>851.4</td>\n",
              "      <td>12.5</td>\n",
              "      <td>0</td>\n",
              "      <td>57.4</td>\n",
              "      <td>0</td>\n",
              "      <td>0</td>\n",
              "      <td>0</td>\n",
              "      <td>0</td>\n",
              "      <td>0</td>\n",
              "      <td>0</td>\n",
              "      <td>69.51</td>\n",
              "      <td>35.10</td>\n",
              "      <td>16</td>\n",
              "      <td>54</td>\n",
              "      <td>0.76</td>\n",
              "      <td>0</td>\n",
              "      <td>0</td>\n",
              "      <td>0</td>\n",
              "      <td>0</td>\n",
              "      <td>96.0</td>\n",
              "      <td>0</td>\n",
              "      <td>29.0</td>\n",
              "    </tr>\n",
              "    <tr>\n",
              "      <th>3</th>\n",
              "      <td>323.3</td>\n",
              "      <td>57.0</td>\n",
              "      <td>3.7</td>\n",
              "      <td>690.3</td>\n",
              "      <td>10.9</td>\n",
              "      <td>0</td>\n",
              "      <td>116.0</td>\n",
              "      <td>0</td>\n",
              "      <td>0</td>\n",
              "      <td>0</td>\n",
              "      <td>0</td>\n",
              "      <td>0</td>\n",
              "      <td>0</td>\n",
              "      <td>46.83</td>\n",
              "      <td>44.42</td>\n",
              "      <td>29</td>\n",
              "      <td>48</td>\n",
              "      <td>0.91</td>\n",
              "      <td>0</td>\n",
              "      <td>0</td>\n",
              "      <td>1</td>\n",
              "      <td>0</td>\n",
              "      <td>94.0</td>\n",
              "      <td>1</td>\n",
              "      <td>19.5</td>\n",
              "    </tr>\n",
              "    <tr>\n",
              "      <th>4</th>\n",
              "      <td>168.8</td>\n",
              "      <td>52.0</td>\n",
              "      <td>7.3</td>\n",
              "      <td>567.1</td>\n",
              "      <td>7.7</td>\n",
              "      <td>0</td>\n",
              "      <td>189.6</td>\n",
              "      <td>0</td>\n",
              "      <td>0</td>\n",
              "      <td>0</td>\n",
              "      <td>0</td>\n",
              "      <td>0</td>\n",
              "      <td>0</td>\n",
              "      <td>43.23</td>\n",
              "      <td>35.31</td>\n",
              "      <td>23</td>\n",
              "      <td>57</td>\n",
              "      <td>0.87</td>\n",
              "      <td>0</td>\n",
              "      <td>0</td>\n",
              "      <td>0</td>\n",
              "      <td>0</td>\n",
              "      <td>90.0</td>\n",
              "      <td>1</td>\n",
              "      <td>33.1</td>\n",
              "    </tr>\n",
              "  </tbody>\n",
              "</table>\n",
              "</div>"
            ],
            "text/plain": [
              "   Min_Platlets  Max_ESR  Max_Fibrinogen  ...   GFR  Ab_ind  L/Pl_Ratio\n",
              "0         142.8     54.0             4.8  ...  87.0       0        38.1\n",
              "1         261.5     36.0            10.0  ...  92.0       0        20.2\n",
              "2         225.4     36.0             9.3  ...  96.0       0        29.0\n",
              "3         323.3     57.0             3.7  ...  94.0       1        19.5\n",
              "4         168.8     52.0             7.3  ...  90.0       1        33.1\n",
              "\n",
              "[5 rows x 25 columns]"
            ]
          },
          "metadata": {
            "tags": []
          },
          "execution_count": 20
        }
      ]
    },
    {
      "cell_type": "code",
      "metadata": {
        "id": "ljQEgK01E_ZO"
      },
      "source": [
        "covid_data.to_csv('covid_data.csv')"
      ],
      "execution_count": null,
      "outputs": []
    }
  ]
}