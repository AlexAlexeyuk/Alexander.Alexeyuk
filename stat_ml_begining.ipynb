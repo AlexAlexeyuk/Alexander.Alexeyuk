{
  "nbformat": 4,
  "nbformat_minor": 0,
  "metadata": {
    "colab": {
      "name": "stat_ml_begining.ipynb",
      "provenance": [],
      "authorship_tag": "ABX9TyP6RSJsGu7w4yVkinzTPPs9",
      "include_colab_link": true
    },
    "kernelspec": {
      "name": "python3",
      "display_name": "Python 3"
    }
  },
  "cells": [
    {
      "cell_type": "markdown",
      "metadata": {
        "id": "view-in-github",
        "colab_type": "text"
      },
      "source": [
        "<a href=\"https://colab.research.google.com/github/AlexAlexeyuk/Alexander.Alexeyuk/blob/master/stat_ml_begining.ipynb\" target=\"_parent\"><img src=\"https://colab.research.google.com/assets/colab-badge.svg\" alt=\"Open In Colab\"/></a>"
      ]
    },
    {
      "cell_type": "code",
      "metadata": {
        "id": "m7HhVcicq_5Y"
      },
      "source": [
        "import pandas as pd\r\n",
        "import numpy as np\r\n",
        "from scipy import stats\r\n",
        "from scipy.stats import mannwhitneyu,ttest_ind, kruskal,chisquare, pearsonr, spearmanr"
      ],
      "execution_count": 6,
      "outputs": []
    },
    {
      "cell_type": "code",
      "metadata": {
        "id": "DJYe7-8jrKAt"
      },
      "source": [
        "df = pd.read_csv('/content/covid_data_6_mistakes (1).csv')"
      ],
      "execution_count": 2,
      "outputs": []
    },
    {
      "cell_type": "code",
      "metadata": {
        "id": "ovmJNrdxrMob"
      },
      "source": [
        "columns = df.columns"
      ],
      "execution_count": 3,
      "outputs": []
    },
    {
      "cell_type": "code",
      "metadata": {
        "id": "E_9slIVGsZk0"
      },
      "source": [
        "def Basic_statistics(lst_1, lst_2):\r\n",
        "\r\n",
        "    res_tt = ttest_ind(lst_1, lst_2) # т-тест стьюдента\r\n",
        "    res_mw = mannwhitneyu(lst_1, lst_2, \r\n",
        "                       use_continuity=True, \r\n",
        "                       alternative=None) # u -тест манна-уитни\r\n",
        "    res_kw = kruskal(lst_1, lst_2)## краскела уолиса\r\n",
        "    res_chi = chisquare(lst_1, lst_2) ## хи-квадрат\r\n",
        "    res_pearson = pearsonr(lst_1, lst_2)# корреляция пирсона\r\n",
        "    res_spear = spearmanr(lst_1, lst_2)# корреляция спирмана\r\n",
        "    res1_ks = stats.kstest(lst_1,'norm',alternative='greater')#тест колмагорова-смирнова\r\n",
        "    res2_ks = stats.kstest(lst_2,'norm',alternative='greater')#тест колмагорова-смирнова\r\n",
        "    shapiro_test = stats.shapiro(lst_2)#тест шапиро-уилка\r\n",
        "    anova = stats.f_oneway(lst_1, lst_2)\r\n",
        "    oddsratio, pvalue = stats.fisher_exact([[8, 2], [1, 5]]) # точный тест фишера\r\n",
        "    return anova, oddsratio, pvalue, res_tt, res_mw, res_kw, res_chi, res_pearson, res_spear, res1_ks, res2_ks, shapiro_test"
      ],
      "execution_count": 9,
      "outputs": []
    },
    {
      "cell_type": "code",
      "metadata": {
        "id": "22TplD9srRWO"
      },
      "source": [
        "df_no_ind = df[df['Ab_ind'] ==0]\r\n",
        "df_ind = df[df['Ab_ind'] ==1]"
      ],
      "execution_count": 5,
      "outputs": []
    },
    {
      "cell_type": "code",
      "metadata": {
        "colab": {
          "base_uri": "https://localhost:8080/"
        },
        "id": "ijyNkKfmrqyf",
        "outputId": "f2af2e9d-d987-420d-baf7-9653e6798ee2"
      },
      "source": [
        "for i in columns:\r\n",
        "  lst1 = df_no_ind[i]\r\n",
        "  lst2 = df_ind[i]\r\n",
        "  res_tt = ttest_ind(lst1, lst2)\r\n",
        "  if res_tt[1] < .05:\r\n",
        "    print(i,  res_tt[1])\r\n",
        "  else:\r\n",
        "    pass"
      ],
      "execution_count": 14,
      "outputs": [
        {
          "output_type": "stream",
          "text": [
            "Min_Platlets 2.221286963984418e-07\n",
            "Max_ESR 0.0001178458266501955\n",
            "Max_Fibrinogen 8.00987160171709e-08\n",
            "Max_Leucocytes 0.018171946741101418\n",
            "Max_CRP 6.478105938120063e-05\n",
            "Severity 2.6819834628561046e-05\n",
            "IHD 2.695662569637109e-05\n",
            "COPD 1.4047360314090377e-14\n",
            "ALT 0.016309709524600507\n",
            "duration 2.6351622957897995e-10\n",
            "Age 0.04133697351902121\n",
            "RF_0.0 0.0015310975677618602\n",
            "RF_1.0 2.402749193545252e-06\n",
            "RF_2.0 0.0001053376798051839\n",
            "Ab_ind 0.0\n",
            "L/Pl_Ratio 0.005649827499620999\n"
          ],
          "name": "stdout"
        }
      ]
    },
    {
      "cell_type": "code",
      "metadata": {
        "colab": {
          "base_uri": "https://localhost:8080/"
        },
        "id": "iN166qx0roj-",
        "outputId": "f024a83d-78cc-418d-8dbb-16f5a21316d2"
      },
      "source": [
        "for i in columns:\r\n",
        "  lst1 = df_no_ind[i]\r\n",
        "  lst2 = df_ind[i]\r\n",
        "  shapiro_test = stats.shapiro(lst1)\r\n",
        "  shapiro_test2 = stats.shapiro(lst2)\r\n",
        "  if shapiro_test[1] < .05:\r\n",
        "    print(i,  shapiro_test[1])\r\n",
        "  if shapiro_test2[1] < .05:\r\n",
        "    print(i,  shapiro_test2[1])\r\n",
        "  else:\r\n",
        "    pass"
      ],
      "execution_count": 15,
      "outputs": [
        {
          "output_type": "stream",
          "text": [
            "Unnamed: 0 6.80880455098884e-14\n",
            "Unnamed: 0 1.0859444046218414e-05\n",
            "Min_Platlets 2.2496317308995373e-11\n",
            "Min_Platlets 0.0046564731746912\n",
            "Max_ESR 2.552094656493864e-06\n",
            "Max_ESR 2.1818234017700888e-05\n",
            "Max_Fibrinogen 8.701200213717984e-17\n",
            "Max_Fibrinogen 4.6909113734727725e-05\n",
            "Max_LDH 1.7956045894607087e-07\n",
            "Max_LDH 0.0016341493465006351\n",
            "Max_Leucocytes 1.087012632683404e-10\n",
            "Max_Leucocytes 1.7819214159775498e-10\n",
            "Gender 2.4788868492001074e-36\n",
            "Gender 9.546117563837618e-18\n",
            "Max_CRP 5.4264262484617843e-17\n",
            "Max_CRP 3.7895981491731234e-11\n",
            "Severity 2.690117458673659e-36\n",
            "Severity 8.67677927777552e-19\n",
            "IHD 2.61933435317887e-36\n",
            "IHD 5.795048493739047e-19\n",
            "COPD 0.0\n",
            "COPD 4.362893458973837e-21\n",
            "Bronchial_asthma 0.0\n",
            "Bronchial_asthma 7.012660368243035e-26\n",
            "Obesity 0.0\n",
            "Obesity 3.116403017944176e-26\n",
            "Diabetes 0.0\n",
            "Diabetes 1.20135796737943e-26\n",
            "ALT 9.310547806128627e-29\n",
            "ALT 1.2634226974214896e-16\n",
            "AST 8.480640728205856e-33\n",
            "AST 2.0524005358665723e-18\n",
            "duration 4.1189124333484983e-10\n",
            "duration 1.825566141633317e-05\n",
            "Age 5.653435437125154e-06\n",
            "Age 7.169759896896721e-07\n",
            "Max_Creatinine 3.699427945817517e-43\n",
            "Max_Creatinine 2.1479653017241274e-21\n",
            "RF_0.0 0.0\n",
            "RF_0.0 3.1831661652457766e-24\n",
            "RF_1.0 1.2168035085118117e-40\n",
            "RF_1.0 1.020436940405429e-24\n",
            "RF_2.0 1.6001937012558346e-36\n",
            "RF_2.0 1.8746991343293953e-19\n",
            "RF_3.0 0.0\n",
            "GFR 3.8155297943376354e-07\n",
            "GFR 2.591924674888446e-09\n",
            "L/Pl_Ratio 4.344025239406933e-44\n",
            "L/Pl_Ratio 5.2956821734858814e-14\n"
          ],
          "name": "stdout"
        },
        {
          "output_type": "stream",
          "text": [
            "/usr/local/lib/python3.6/dist-packages/scipy/stats/morestats.py:1673: UserWarning: Input data for shapiro has range zero. The results may not be accurate.\n",
            "  warnings.warn(\"Input data for shapiro has range zero. The results \"\n"
          ],
          "name": "stderr"
        }
      ]
    },
    {
      "cell_type": "code",
      "metadata": {
        "colab": {
          "base_uri": "https://localhost:8080/"
        },
        "id": "A8vshgEzuVKi",
        "outputId": "3b2169a8-729a-4ac9-cf8c-a6a4f0b4ca90"
      },
      "source": [
        "for i in columns:\r\n",
        "  lst1 = df_no_ind[i]\r\n",
        "  lst2 = df_ind[i]\r\n",
        "  res_kw = kruskal(lst1, lst2)## краскела уолиса\r\n",
        "  \r\n",
        "  if res_kw[1] < .05:\r\n",
        "    print(i,  res_kw[1])\r\n",
        "  else:\r\n",
        "    pass"
      ],
      "execution_count": 21,
      "outputs": [
        {
          "output_type": "stream",
          "text": [
            "Min_Platlets 6.565008618092226e-07\n",
            "Max_ESR 0.00013135466386457627\n",
            "Max_Fibrinogen 1.9387907471511455e-05\n",
            "Max_Leucocytes 0.004054041791523019\n",
            "Max_CRP 2.8435491579278232e-06\n",
            "Severity 2.900583157734838e-05\n",
            "IHD 2.9151073942774236e-05\n",
            "COPD 3.676413140899496e-14\n",
            "ALT 1.054902874670756e-09\n",
            "AST 0.017697926723581083\n",
            "duration 5.266070909595151e-10\n",
            "Age 0.007968861256725126\n",
            "RF_0.0 0.001565528638204953\n",
            "RF_1.0 2.7323340211092217e-06\n",
            "RF_2.0 0.00011134605344588802\n",
            "Ab_ind 1.7896263240240073e-189\n",
            "L/Pl_Ratio 7.433117108337258e-05\n"
          ],
          "name": "stdout"
        }
      ]
    },
    {
      "cell_type": "code",
      "metadata": {
        "colab": {
          "base_uri": "https://localhost:8080/"
        },
        "id": "D1A-VRiXtoOH",
        "outputId": "094c073e-c64c-42f2-deb8-5774c5945d15"
      },
      "source": [
        "for i in columns:\r\n",
        "  lst1 = df_no_ind[i]\r\n",
        "  lst2 = df_ind[i]\r\n",
        "  anova = stats.f_oneway(lst1, lst2)## краскела уолиса\r\n",
        "  \r\n",
        "  if anova[1] < .05:\r\n",
        "    print(i,  anova[1])\r\n",
        "  else:\r\n",
        "    pass\r\n"
      ],
      "execution_count": 20,
      "outputs": [
        {
          "output_type": "stream",
          "text": [
            "Min_Platlets 2.2212869639839813e-07\n",
            "Max_ESR 0.00011784582665018135\n",
            "Max_Fibrinogen 8.009871601715198e-08\n",
            "Max_Leucocytes 0.018171946741098028\n",
            "Max_CRP 6.478105938119224e-05\n",
            "Severity 2.6819834628556194e-05\n",
            "IHD 2.695662569636545e-05\n",
            "COPD 1.4047360314088254e-14\n",
            "ALT 0.016309709524597274\n",
            "duration 2.6351622957894273e-10\n",
            "Age 0.041336973519015996\n",
            "RF_0.0 0.0015310975677616065\n",
            "RF_1.0 2.4027491935449034e-06\n",
            "RF_2.0 0.00010533767980516619\n",
            "Ab_ind 0.0\n",
            "L/Pl_Ratio 0.005649827499620078\n"
          ],
          "name": "stdout"
        }
      ]
    },
    {
      "cell_type": "code",
      "metadata": {
        "id": "U2pIArL9vWij"
      },
      "source": [
        "res_pearson = pearsonr(lst_1, lst_2)# корреляция пирсона\r\n",
        "    res_spear = spearmanr(lst_1, lst_2)"
      ],
      "execution_count": null,
      "outputs": []
    },
    {
      "cell_type": "code",
      "metadata": {
        "id": "1PAepNwtx9HJ"
      },
      "source": [
        "def pipeline_gbm_grid(data, target_column, cols_to_remove, split_ratio):\r\n",
        "    !pip install h2o\r\n",
        "    import h2o\r\n",
        "    h2o.init()\r\n",
        "    from h2o.estimators.gbm import H2OGradientBoostingEstimator\r\n",
        "    from h2o.grid.grid_search import H2OGridSearch\r\n",
        "    data = h2o.H2OFrame(data)\r\n",
        "    predictors = data.col_names\r\n",
        "    predictors.remove(target_column)\r\n",
        "    data[target_column] = data[target_column].asfactor()\r\n",
        "    #data = data.drop(cols_to_remove)\r\n",
        "    train, test = data.split_frame(seed = 12345, ratios = [split_ratio])\r\n",
        "    target = target_column\r\n",
        "    #predictors = data.col_names.remove(target_column)\r\n",
        "    hyperparams_tune = {\r\n",
        "    'max_depth' : list(range(2, 6, 1)),\r\n",
        "    'sample_rate' : [x/100. for x in range(20,101)],\r\n",
        "    'col_sample_rate' : [x/100. for x in range(20,101)],\r\n",
        "    'min_split_improvement': [0, 1e-8, 1e-6, 1e-4]}\r\n",
        "\r\n",
        "    search_criteria_tune = {\r\n",
        "    'strategy' : \"RandomDiscrete\",\r\n",
        "    'max_runtime_secs' : 300,  ## limit the runtime to 5 minutes\r\n",
        "    'max_models' : 15,  ## build no more than 15 models\r\n",
        "    'stopping_rounds' : 5,\r\n",
        "    'stopping_metric' : \"AUC\",\r\n",
        "    'stopping_tolerance': 1e-3}\r\n",
        "    gbm_final_grid = H2OGradientBoostingEstimator(\r\n",
        "    ## More trees is better if the learning rate is small enough\r\n",
        "    ## we use \"more than enough\" trees with early stopping\r\n",
        "    ntrees = 10000,\r\n",
        "    ## we use learn rate with annealing for a fast scan\r\n",
        "    learn_rate = 0.05,\r\n",
        "    learn_rate_annealing = 0.99,\r\n",
        "    ## Score every 10 trees to make early stopping reproducible\r\n",
        "    score_tree_interval = 10,\r\n",
        "    ## Set seed for reproducibility\r\n",
        "    seed = 12345)\r\n",
        "    final_grid = H2OGridSearch(\r\n",
        "    gbm_final_grid,\r\n",
        "    hyper_params = hyperparams_tune,\r\n",
        "    grid_id = 'gbm_final_grid',\r\n",
        "    search_criteria = search_criteria_tune)\r\n",
        "    final_grid.train(\r\n",
        "    x = predictors,\r\n",
        "    y = target,\r\n",
        "    max_runtime_secs = 180, # can override setting in search_criteria_tune\r\n",
        "    training_frame = train)\r\n",
        "    #validation_frame = test)\r\n",
        "    \r\n",
        "    \r\n",
        "    sorted_gbm_grid = final_grid.get_grid(sort_by = \"auc\", decreasing = True)\r\n",
        "    best_gbm = sorted_gbm_grid.models[0]\r\n",
        "    #best_gbm_perf_valid = best_gbm.model_performance(valid)\r\n",
        "    best_gbm_perf_test = best_gbm.model_performance(test)\r\n",
        "    return best_gbm_perf_test\r\n",
        "    #final_grid.get_grid(sort_by = \"auc\", decreasing = True), "
      ],
      "execution_count": 25,
      "outputs": []
    },
    {
      "cell_type": "code",
      "metadata": {
        "id": "jyvrIL1-zDIt"
      },
      "source": [
        ""
      ],
      "execution_count": null,
      "outputs": []
    },
    {
      "cell_type": "code",
      "metadata": {
        "colab": {
          "base_uri": "https://localhost:8080/",
          "height": 1000
        },
        "id": "DHuxGHQ6x9uU",
        "outputId": "b60f9802-4119-4510-cfbf-baab1b1a9051"
      },
      "source": [
        "pipeline_gbm_grid(data = df, target_column = 'Ab_ind', cols_to_remove = 'Ab_ind', split_ratio = .8)"
      ],
      "execution_count": 27,
      "outputs": [
        {
          "output_type": "stream",
          "text": [
            "Requirement already satisfied: h2o in /usr/local/lib/python3.6/dist-packages (3.32.0.4)\n",
            "Requirement already satisfied: future in /usr/local/lib/python3.6/dist-packages (from h2o) (0.16.0)\n",
            "Requirement already satisfied: requests in /usr/local/lib/python3.6/dist-packages (from h2o) (2.23.0)\n",
            "Requirement already satisfied: colorama>=0.3.8 in /usr/local/lib/python3.6/dist-packages (from h2o) (0.4.4)\n",
            "Requirement already satisfied: tabulate in /usr/local/lib/python3.6/dist-packages (from h2o) (0.8.7)\n",
            "Requirement already satisfied: urllib3!=1.25.0,!=1.25.1,<1.26,>=1.21.1 in /usr/local/lib/python3.6/dist-packages (from requests->h2o) (1.24.3)\n",
            "Requirement already satisfied: idna<3,>=2.5 in /usr/local/lib/python3.6/dist-packages (from requests->h2o) (2.10)\n",
            "Requirement already satisfied: chardet<4,>=3.0.2 in /usr/local/lib/python3.6/dist-packages (from requests->h2o) (3.0.4)\n",
            "Requirement already satisfied: certifi>=2017.4.17 in /usr/local/lib/python3.6/dist-packages (from requests->h2o) (2020.12.5)\n",
            "Checking whether there is an H2O instance running at http://localhost:54321 . connected.\n"
          ],
          "name": "stdout"
        },
        {
          "output_type": "display_data",
          "data": {
            "text/html": [
              "<div style=\"overflow:auto\"><table style=\"width:50%\"><tr><td>H2O_cluster_uptime:</td>\n",
              "<td>3 mins 47 secs</td></tr>\n",
              "<tr><td>H2O_cluster_timezone:</td>\n",
              "<td>Etc/UTC</td></tr>\n",
              "<tr><td>H2O_data_parsing_timezone:</td>\n",
              "<td>UTC</td></tr>\n",
              "<tr><td>H2O_cluster_version:</td>\n",
              "<td>3.32.0.4</td></tr>\n",
              "<tr><td>H2O_cluster_version_age:</td>\n",
              "<td>19 days </td></tr>\n",
              "<tr><td>H2O_cluster_name:</td>\n",
              "<td>H2O_from_python_unknownUser_zxvatj</td></tr>\n",
              "<tr><td>H2O_cluster_total_nodes:</td>\n",
              "<td>1</td></tr>\n",
              "<tr><td>H2O_cluster_free_memory:</td>\n",
              "<td>3.180 Gb</td></tr>\n",
              "<tr><td>H2O_cluster_total_cores:</td>\n",
              "<td>2</td></tr>\n",
              "<tr><td>H2O_cluster_allowed_cores:</td>\n",
              "<td>2</td></tr>\n",
              "<tr><td>H2O_cluster_status:</td>\n",
              "<td>locked, healthy</td></tr>\n",
              "<tr><td>H2O_connection_url:</td>\n",
              "<td>http://localhost:54321</td></tr>\n",
              "<tr><td>H2O_connection_proxy:</td>\n",
              "<td>{\"http\": null, \"https\": null}</td></tr>\n",
              "<tr><td>H2O_internal_security:</td>\n",
              "<td>False</td></tr>\n",
              "<tr><td>H2O_API_Extensions:</td>\n",
              "<td>Amazon S3, XGBoost, Algos, AutoML, Core V3, TargetEncoder, Core V4</td></tr>\n",
              "<tr><td>Python_version:</td>\n",
              "<td>3.6.9 final</td></tr></table></div>"
            ],
            "text/plain": [
              "--------------------------  ------------------------------------------------------------------\n",
              "H2O_cluster_uptime:         3 mins 47 secs\n",
              "H2O_cluster_timezone:       Etc/UTC\n",
              "H2O_data_parsing_timezone:  UTC\n",
              "H2O_cluster_version:        3.32.0.4\n",
              "H2O_cluster_version_age:    19 days\n",
              "H2O_cluster_name:           H2O_from_python_unknownUser_zxvatj\n",
              "H2O_cluster_total_nodes:    1\n",
              "H2O_cluster_free_memory:    3.180 Gb\n",
              "H2O_cluster_total_cores:    2\n",
              "H2O_cluster_allowed_cores:  2\n",
              "H2O_cluster_status:         locked, healthy\n",
              "H2O_connection_url:         http://localhost:54321\n",
              "H2O_connection_proxy:       {\"http\": null, \"https\": null}\n",
              "H2O_internal_security:      False\n",
              "H2O_API_Extensions:         Amazon S3, XGBoost, Algos, AutoML, Core V3, TargetEncoder, Core V4\n",
              "Python_version:             3.6.9 final\n",
              "--------------------------  ------------------------------------------------------------------"
            ]
          },
          "metadata": {
            "tags": []
          }
        },
        {
          "output_type": "stream",
          "text": [
            "Parse progress: |█████████████████████████████████████████████████████████| 100%\n",
            "gbm Grid Build progress: |████████████████████████████████████████████████| 100%\n",
            "\n",
            "ModelMetricsBinomial: gbm\n",
            "** Reported on test data. **\n",
            "\n",
            "MSE: 0.10925503006900682\n",
            "RMSE: 0.33053748663201094\n",
            "LogLoss: 0.3636593540919993\n",
            "Mean Per-Class Error: 0.2690981432360743\n",
            "AUC: 0.7692307692307692\n",
            "AUCPR: 0.44469544749897755\n",
            "Gini: 0.5384615384615383\n",
            "\n",
            "Confusion Matrix (Act/Pred) for max f1 @ threshold = 0.15665475327590841: \n"
          ],
          "name": "stdout"
        },
        {
          "output_type": "display_data",
          "data": {
            "text/html": [
              "<div>\n",
              "<style scoped>\n",
              "    .dataframe tbody tr th:only-of-type {\n",
              "        vertical-align: middle;\n",
              "    }\n",
              "\n",
              "    .dataframe tbody tr th {\n",
              "        vertical-align: top;\n",
              "    }\n",
              "\n",
              "    .dataframe thead th {\n",
              "        text-align: right;\n",
              "    }\n",
              "</style>\n",
              "<table border=\"1\" class=\"dataframe\">\n",
              "  <thead>\n",
              "    <tr style=\"text-align: right;\">\n",
              "      <th></th>\n",
              "      <th></th>\n",
              "      <th>0</th>\n",
              "      <th>1</th>\n",
              "      <th>Error</th>\n",
              "      <th>Rate</th>\n",
              "    </tr>\n",
              "  </thead>\n",
              "  <tbody>\n",
              "    <tr>\n",
              "      <th>0</th>\n",
              "      <td>0</td>\n",
              "      <td>115.0</td>\n",
              "      <td>30.0</td>\n",
              "      <td>0.2069</td>\n",
              "      <td>(30.0/145.0)</td>\n",
              "    </tr>\n",
              "    <tr>\n",
              "      <th>1</th>\n",
              "      <td>1</td>\n",
              "      <td>9.0</td>\n",
              "      <td>17.0</td>\n",
              "      <td>0.3462</td>\n",
              "      <td>(9.0/26.0)</td>\n",
              "    </tr>\n",
              "    <tr>\n",
              "      <th>2</th>\n",
              "      <td>Total</td>\n",
              "      <td>124.0</td>\n",
              "      <td>47.0</td>\n",
              "      <td>0.2281</td>\n",
              "      <td>(39.0/171.0)</td>\n",
              "    </tr>\n",
              "  </tbody>\n",
              "</table>\n",
              "</div>"
            ],
            "text/plain": [
              "              0     1   Error           Rate\n",
              "0      0  115.0  30.0  0.2069   (30.0/145.0)\n",
              "1      1    9.0  17.0  0.3462     (9.0/26.0)\n",
              "2  Total  124.0  47.0  0.2281   (39.0/171.0)"
            ]
          },
          "metadata": {
            "tags": []
          }
        },
        {
          "output_type": "stream",
          "text": [
            "\n",
            "Maximum Metrics: Maximum metrics at their respective thresholds\n"
          ],
          "name": "stdout"
        },
        {
          "output_type": "display_data",
          "data": {
            "text/html": [
              "<div>\n",
              "<style scoped>\n",
              "    .dataframe tbody tr th:only-of-type {\n",
              "        vertical-align: middle;\n",
              "    }\n",
              "\n",
              "    .dataframe tbody tr th {\n",
              "        vertical-align: top;\n",
              "    }\n",
              "\n",
              "    .dataframe thead th {\n",
              "        text-align: right;\n",
              "    }\n",
              "</style>\n",
              "<table border=\"1\" class=\"dataframe\">\n",
              "  <thead>\n",
              "    <tr style=\"text-align: right;\">\n",
              "      <th></th>\n",
              "      <th>metric</th>\n",
              "      <th>threshold</th>\n",
              "      <th>value</th>\n",
              "      <th>idx</th>\n",
              "    </tr>\n",
              "  </thead>\n",
              "  <tbody>\n",
              "    <tr>\n",
              "      <th>0</th>\n",
              "      <td>max f1</td>\n",
              "      <td>0.156655</td>\n",
              "      <td>0.465753</td>\n",
              "      <td>46.0</td>\n",
              "    </tr>\n",
              "    <tr>\n",
              "      <th>1</th>\n",
              "      <td>max f2</td>\n",
              "      <td>0.136284</td>\n",
              "      <td>0.586420</td>\n",
              "      <td>57.0</td>\n",
              "    </tr>\n",
              "    <tr>\n",
              "      <th>2</th>\n",
              "      <td>max f0point5</td>\n",
              "      <td>0.463992</td>\n",
              "      <td>0.512821</td>\n",
              "      <td>12.0</td>\n",
              "    </tr>\n",
              "    <tr>\n",
              "      <th>3</th>\n",
              "      <td>max accuracy</td>\n",
              "      <td>0.684701</td>\n",
              "      <td>0.871345</td>\n",
              "      <td>5.0</td>\n",
              "    </tr>\n",
              "    <tr>\n",
              "      <th>4</th>\n",
              "      <td>max precision</td>\n",
              "      <td>0.872231</td>\n",
              "      <td>1.000000</td>\n",
              "      <td>0.0</td>\n",
              "    </tr>\n",
              "    <tr>\n",
              "      <th>5</th>\n",
              "      <td>max recall</td>\n",
              "      <td>0.021689</td>\n",
              "      <td>1.000000</td>\n",
              "      <td>155.0</td>\n",
              "    </tr>\n",
              "    <tr>\n",
              "      <th>6</th>\n",
              "      <td>max specificity</td>\n",
              "      <td>0.872231</td>\n",
              "      <td>1.000000</td>\n",
              "      <td>0.0</td>\n",
              "    </tr>\n",
              "    <tr>\n",
              "      <th>7</th>\n",
              "      <td>max absolute_mcc</td>\n",
              "      <td>0.463992</td>\n",
              "      <td>0.370140</td>\n",
              "      <td>12.0</td>\n",
              "    </tr>\n",
              "    <tr>\n",
              "      <th>8</th>\n",
              "      <td>max min_per_class_accuracy</td>\n",
              "      <td>0.136284</td>\n",
              "      <td>0.730769</td>\n",
              "      <td>57.0</td>\n",
              "    </tr>\n",
              "    <tr>\n",
              "      <th>9</th>\n",
              "      <td>max mean_per_class_accuracy</td>\n",
              "      <td>0.136284</td>\n",
              "      <td>0.730902</td>\n",
              "      <td>57.0</td>\n",
              "    </tr>\n",
              "    <tr>\n",
              "      <th>10</th>\n",
              "      <td>max tns</td>\n",
              "      <td>0.872231</td>\n",
              "      <td>145.000000</td>\n",
              "      <td>0.0</td>\n",
              "    </tr>\n",
              "    <tr>\n",
              "      <th>11</th>\n",
              "      <td>max fns</td>\n",
              "      <td>0.872231</td>\n",
              "      <td>25.000000</td>\n",
              "      <td>0.0</td>\n",
              "    </tr>\n",
              "    <tr>\n",
              "      <th>12</th>\n",
              "      <td>max fps</td>\n",
              "      <td>0.011098</td>\n",
              "      <td>145.000000</td>\n",
              "      <td>170.0</td>\n",
              "    </tr>\n",
              "    <tr>\n",
              "      <th>13</th>\n",
              "      <td>max tps</td>\n",
              "      <td>0.021689</td>\n",
              "      <td>26.000000</td>\n",
              "      <td>155.0</td>\n",
              "    </tr>\n",
              "    <tr>\n",
              "      <th>14</th>\n",
              "      <td>max tnr</td>\n",
              "      <td>0.872231</td>\n",
              "      <td>1.000000</td>\n",
              "      <td>0.0</td>\n",
              "    </tr>\n",
              "    <tr>\n",
              "      <th>15</th>\n",
              "      <td>max fnr</td>\n",
              "      <td>0.872231</td>\n",
              "      <td>0.961538</td>\n",
              "      <td>0.0</td>\n",
              "    </tr>\n",
              "    <tr>\n",
              "      <th>16</th>\n",
              "      <td>max fpr</td>\n",
              "      <td>0.011098</td>\n",
              "      <td>1.000000</td>\n",
              "      <td>170.0</td>\n",
              "    </tr>\n",
              "    <tr>\n",
              "      <th>17</th>\n",
              "      <td>max tpr</td>\n",
              "      <td>0.021689</td>\n",
              "      <td>1.000000</td>\n",
              "      <td>155.0</td>\n",
              "    </tr>\n",
              "  </tbody>\n",
              "</table>\n",
              "</div>"
            ],
            "text/plain": [
              "                         metric  threshold       value    idx\n",
              "0                        max f1   0.156655    0.465753   46.0\n",
              "1                        max f2   0.136284    0.586420   57.0\n",
              "2                  max f0point5   0.463992    0.512821   12.0\n",
              "3                  max accuracy   0.684701    0.871345    5.0\n",
              "4                 max precision   0.872231    1.000000    0.0\n",
              "5                    max recall   0.021689    1.000000  155.0\n",
              "6               max specificity   0.872231    1.000000    0.0\n",
              "7              max absolute_mcc   0.463992    0.370140   12.0\n",
              "8    max min_per_class_accuracy   0.136284    0.730769   57.0\n",
              "9   max mean_per_class_accuracy   0.136284    0.730902   57.0\n",
              "10                      max tns   0.872231  145.000000    0.0\n",
              "11                      max fns   0.872231   25.000000    0.0\n",
              "12                      max fps   0.011098  145.000000  170.0\n",
              "13                      max tps   0.021689   26.000000  155.0\n",
              "14                      max tnr   0.872231    1.000000    0.0\n",
              "15                      max fnr   0.872231    0.961538    0.0\n",
              "16                      max fpr   0.011098    1.000000  170.0\n",
              "17                      max tpr   0.021689    1.000000  155.0"
            ]
          },
          "metadata": {
            "tags": []
          }
        },
        {
          "output_type": "stream",
          "text": [
            "\n",
            "Gains/Lift Table: Avg response rate: 15.20 %, avg score: 14.41 %\n"
          ],
          "name": "stdout"
        },
        {
          "output_type": "display_data",
          "data": {
            "text/html": [
              "<div>\n",
              "<style scoped>\n",
              "    .dataframe tbody tr th:only-of-type {\n",
              "        vertical-align: middle;\n",
              "    }\n",
              "\n",
              "    .dataframe tbody tr th {\n",
              "        vertical-align: top;\n",
              "    }\n",
              "\n",
              "    .dataframe thead th {\n",
              "        text-align: right;\n",
              "    }\n",
              "</style>\n",
              "<table border=\"1\" class=\"dataframe\">\n",
              "  <thead>\n",
              "    <tr style=\"text-align: right;\">\n",
              "      <th></th>\n",
              "      <th>group</th>\n",
              "      <th>cumulative_data_fraction</th>\n",
              "      <th>lower_threshold</th>\n",
              "      <th>lift</th>\n",
              "      <th>cumulative_lift</th>\n",
              "      <th>response_rate</th>\n",
              "      <th>score</th>\n",
              "      <th>cumulative_response_rate</th>\n",
              "      <th>cumulative_score</th>\n",
              "      <th>capture_rate</th>\n",
              "      <th>cumulative_capture_rate</th>\n",
              "      <th>gain</th>\n",
              "      <th>cumulative_gain</th>\n",
              "      <th>kolmogorov_smirnov</th>\n",
              "    </tr>\n",
              "  </thead>\n",
              "  <tbody>\n",
              "    <tr>\n",
              "      <th>0</th>\n",
              "      <td>1</td>\n",
              "      <td>0.011696</td>\n",
              "      <td>0.784974</td>\n",
              "      <td>3.288462</td>\n",
              "      <td>3.288462</td>\n",
              "      <td>0.500000</td>\n",
              "      <td>0.861295</td>\n",
              "      <td>0.500000</td>\n",
              "      <td>0.861295</td>\n",
              "      <td>0.038462</td>\n",
              "      <td>0.038462</td>\n",
              "      <td>228.846154</td>\n",
              "      <td>228.846154</td>\n",
              "      <td>0.031565</td>\n",
              "    </tr>\n",
              "    <tr>\n",
              "      <th>1</th>\n",
              "      <td>2</td>\n",
              "      <td>0.023392</td>\n",
              "      <td>0.716908</td>\n",
              "      <td>6.576923</td>\n",
              "      <td>4.932692</td>\n",
              "      <td>1.000000</td>\n",
              "      <td>0.746170</td>\n",
              "      <td>0.750000</td>\n",
              "      <td>0.803732</td>\n",
              "      <td>0.076923</td>\n",
              "      <td>0.115385</td>\n",
              "      <td>557.692308</td>\n",
              "      <td>393.269231</td>\n",
              "      <td>0.108488</td>\n",
              "    </tr>\n",
              "    <tr>\n",
              "      <th>2</th>\n",
              "      <td>3</td>\n",
              "      <td>0.035088</td>\n",
              "      <td>0.681994</td>\n",
              "      <td>6.576923</td>\n",
              "      <td>5.480769</td>\n",
              "      <td>1.000000</td>\n",
              "      <td>0.686945</td>\n",
              "      <td>0.833333</td>\n",
              "      <td>0.764803</td>\n",
              "      <td>0.076923</td>\n",
              "      <td>0.192308</td>\n",
              "      <td>557.692308</td>\n",
              "      <td>448.076923</td>\n",
              "      <td>0.185411</td>\n",
              "    </tr>\n",
              "    <tr>\n",
              "      <th>3</th>\n",
              "      <td>4</td>\n",
              "      <td>0.040936</td>\n",
              "      <td>0.649972</td>\n",
              "      <td>0.000000</td>\n",
              "      <td>4.697802</td>\n",
              "      <td>0.000000</td>\n",
              "      <td>0.657635</td>\n",
              "      <td>0.714286</td>\n",
              "      <td>0.749494</td>\n",
              "      <td>0.000000</td>\n",
              "      <td>0.192308</td>\n",
              "      <td>-100.000000</td>\n",
              "      <td>369.780220</td>\n",
              "      <td>0.178515</td>\n",
              "    </tr>\n",
              "    <tr>\n",
              "      <th>4</th>\n",
              "      <td>5</td>\n",
              "      <td>0.052632</td>\n",
              "      <td>0.509034</td>\n",
              "      <td>3.288462</td>\n",
              "      <td>4.384615</td>\n",
              "      <td>0.500000</td>\n",
              "      <td>0.582819</td>\n",
              "      <td>0.666667</td>\n",
              "      <td>0.712455</td>\n",
              "      <td>0.038462</td>\n",
              "      <td>0.230769</td>\n",
              "      <td>228.846154</td>\n",
              "      <td>338.461538</td>\n",
              "      <td>0.210080</td>\n",
              "    </tr>\n",
              "    <tr>\n",
              "      <th>5</th>\n",
              "      <td>6</td>\n",
              "      <td>0.105263</td>\n",
              "      <td>0.387925</td>\n",
              "      <td>2.192308</td>\n",
              "      <td>3.288462</td>\n",
              "      <td>0.333333</td>\n",
              "      <td>0.446686</td>\n",
              "      <td>0.500000</td>\n",
              "      <td>0.579570</td>\n",
              "      <td>0.115385</td>\n",
              "      <td>0.346154</td>\n",
              "      <td>119.230769</td>\n",
              "      <td>228.846154</td>\n",
              "      <td>0.284085</td>\n",
              "    </tr>\n",
              "    <tr>\n",
              "      <th>6</th>\n",
              "      <td>7</td>\n",
              "      <td>0.152047</td>\n",
              "      <td>0.252080</td>\n",
              "      <td>0.822115</td>\n",
              "      <td>2.529586</td>\n",
              "      <td>0.125000</td>\n",
              "      <td>0.306707</td>\n",
              "      <td>0.384615</td>\n",
              "      <td>0.495612</td>\n",
              "      <td>0.038462</td>\n",
              "      <td>0.384615</td>\n",
              "      <td>-17.788462</td>\n",
              "      <td>152.958580</td>\n",
              "      <td>0.274271</td>\n",
              "    </tr>\n",
              "    <tr>\n",
              "      <th>7</th>\n",
              "      <td>8</td>\n",
              "      <td>0.204678</td>\n",
              "      <td>0.202360</td>\n",
              "      <td>2.923077</td>\n",
              "      <td>2.630769</td>\n",
              "      <td>0.444444</td>\n",
              "      <td>0.223902</td>\n",
              "      <td>0.400000</td>\n",
              "      <td>0.425744</td>\n",
              "      <td>0.153846</td>\n",
              "      <td>0.538462</td>\n",
              "      <td>192.307692</td>\n",
              "      <td>163.076923</td>\n",
              "      <td>0.393634</td>\n",
              "    </tr>\n",
              "    <tr>\n",
              "      <th>8</th>\n",
              "      <td>9</td>\n",
              "      <td>0.304094</td>\n",
              "      <td>0.144384</td>\n",
              "      <td>1.160633</td>\n",
              "      <td>2.150148</td>\n",
              "      <td>0.176471</td>\n",
              "      <td>0.166243</td>\n",
              "      <td>0.326923</td>\n",
              "      <td>0.340907</td>\n",
              "      <td>0.115385</td>\n",
              "      <td>0.653846</td>\n",
              "      <td>16.063348</td>\n",
              "      <td>115.014793</td>\n",
              "      <td>0.412467</td>\n",
              "    </tr>\n",
              "    <tr>\n",
              "      <th>9</th>\n",
              "      <td>10</td>\n",
              "      <td>0.403509</td>\n",
              "      <td>0.102322</td>\n",
              "      <td>0.773756</td>\n",
              "      <td>1.811037</td>\n",
              "      <td>0.117647</td>\n",
              "      <td>0.122147</td>\n",
              "      <td>0.275362</td>\n",
              "      <td>0.287010</td>\n",
              "      <td>0.076923</td>\n",
              "      <td>0.730769</td>\n",
              "      <td>-22.624434</td>\n",
              "      <td>81.103679</td>\n",
              "      <td>0.385942</td>\n",
              "    </tr>\n",
              "    <tr>\n",
              "      <th>10</th>\n",
              "      <td>11</td>\n",
              "      <td>0.502924</td>\n",
              "      <td>0.076200</td>\n",
              "      <td>0.773756</td>\n",
              "      <td>1.605993</td>\n",
              "      <td>0.117647</td>\n",
              "      <td>0.086635</td>\n",
              "      <td>0.244186</td>\n",
              "      <td>0.247401</td>\n",
              "      <td>0.076923</td>\n",
              "      <td>0.807692</td>\n",
              "      <td>-22.624434</td>\n",
              "      <td>60.599284</td>\n",
              "      <td>0.359416</td>\n",
              "    </tr>\n",
              "    <tr>\n",
              "      <th>11</th>\n",
              "      <td>12</td>\n",
              "      <td>0.602339</td>\n",
              "      <td>0.059881</td>\n",
              "      <td>0.773756</td>\n",
              "      <td>1.468633</td>\n",
              "      <td>0.117647</td>\n",
              "      <td>0.067204</td>\n",
              "      <td>0.223301</td>\n",
              "      <td>0.217659</td>\n",
              "      <td>0.076923</td>\n",
              "      <td>0.884615</td>\n",
              "      <td>-22.624434</td>\n",
              "      <td>46.863331</td>\n",
              "      <td>0.332891</td>\n",
              "    </tr>\n",
              "    <tr>\n",
              "      <th>12</th>\n",
              "      <td>13</td>\n",
              "      <td>0.701754</td>\n",
              "      <td>0.040526</td>\n",
              "      <td>0.386878</td>\n",
              "      <td>1.315385</td>\n",
              "      <td>0.058824</td>\n",
              "      <td>0.049076</td>\n",
              "      <td>0.200000</td>\n",
              "      <td>0.193777</td>\n",
              "      <td>0.038462</td>\n",
              "      <td>0.923077</td>\n",
              "      <td>-61.312217</td>\n",
              "      <td>31.538462</td>\n",
              "      <td>0.261008</td>\n",
              "    </tr>\n",
              "    <tr>\n",
              "      <th>13</th>\n",
              "      <td>14</td>\n",
              "      <td>0.801170</td>\n",
              "      <td>0.034692</td>\n",
              "      <td>0.000000</td>\n",
              "      <td>1.152162</td>\n",
              "      <td>0.000000</td>\n",
              "      <td>0.037061</td>\n",
              "      <td>0.175182</td>\n",
              "      <td>0.174330</td>\n",
              "      <td>0.000000</td>\n",
              "      <td>0.923077</td>\n",
              "      <td>-100.000000</td>\n",
              "      <td>15.216171</td>\n",
              "      <td>0.143767</td>\n",
              "    </tr>\n",
              "    <tr>\n",
              "      <th>14</th>\n",
              "      <td>15</td>\n",
              "      <td>0.900585</td>\n",
              "      <td>0.024038</td>\n",
              "      <td>0.386878</td>\n",
              "      <td>1.067682</td>\n",
              "      <td>0.058824</td>\n",
              "      <td>0.028621</td>\n",
              "      <td>0.162338</td>\n",
              "      <td>0.158245</td>\n",
              "      <td>0.038462</td>\n",
              "      <td>0.961538</td>\n",
              "      <td>-61.312217</td>\n",
              "      <td>6.768232</td>\n",
              "      <td>0.071883</td>\n",
              "    </tr>\n",
              "    <tr>\n",
              "      <th>15</th>\n",
              "      <td>16</td>\n",
              "      <td>1.000000</td>\n",
              "      <td>0.011098</td>\n",
              "      <td>0.386878</td>\n",
              "      <td>1.000000</td>\n",
              "      <td>0.058824</td>\n",
              "      <td>0.015934</td>\n",
              "      <td>0.152047</td>\n",
              "      <td>0.144098</td>\n",
              "      <td>0.038462</td>\n",
              "      <td>1.000000</td>\n",
              "      <td>-61.312217</td>\n",
              "      <td>0.000000</td>\n",
              "      <td>0.000000</td>\n",
              "    </tr>\n",
              "  </tbody>\n",
              "</table>\n",
              "</div>"
            ],
            "text/plain": [
              "    group  cumulative_data_fraction  ...  cumulative_gain  kolmogorov_smirnov\n",
              "0       1                  0.011696  ...       228.846154            0.031565\n",
              "1       2                  0.023392  ...       393.269231            0.108488\n",
              "2       3                  0.035088  ...       448.076923            0.185411\n",
              "3       4                  0.040936  ...       369.780220            0.178515\n",
              "4       5                  0.052632  ...       338.461538            0.210080\n",
              "5       6                  0.105263  ...       228.846154            0.284085\n",
              "6       7                  0.152047  ...       152.958580            0.274271\n",
              "7       8                  0.204678  ...       163.076923            0.393634\n",
              "8       9                  0.304094  ...       115.014793            0.412467\n",
              "9      10                  0.403509  ...        81.103679            0.385942\n",
              "10     11                  0.502924  ...        60.599284            0.359416\n",
              "11     12                  0.602339  ...        46.863331            0.332891\n",
              "12     13                  0.701754  ...        31.538462            0.261008\n",
              "13     14                  0.801170  ...        15.216171            0.143767\n",
              "14     15                  0.900585  ...         6.768232            0.071883\n",
              "15     16                  1.000000  ...         0.000000            0.000000\n",
              "\n",
              "[16 rows x 14 columns]"
            ]
          },
          "metadata": {
            "tags": []
          }
        },
        {
          "output_type": "stream",
          "text": [
            "\n"
          ],
          "name": "stdout"
        },
        {
          "output_type": "execute_result",
          "data": {
            "text/plain": [
              ""
            ]
          },
          "metadata": {
            "tags": []
          },
          "execution_count": 27
        }
      ]
    },
    {
      "cell_type": "code",
      "metadata": {
        "id": "NcnQ-cBoyj7F"
      },
      "source": [
        "def all_estimators_pipline(data, predictors, target, test_size, accuracy_list = []):\r\n",
        "    from sklearn.metrics import roc_auc_score\r\n",
        "    x = data[predictors]\r\n",
        "    y = data[target]\r\n",
        "    x_train,x_test,y_train,y_test = train_test_split(x,y, test_size=test_size, random_state=2)\r\n",
        "    #Logistic Regression\r\n",
        "    log_reg = LogisticRegression()\r\n",
        "    log_reg.fit(x_train, y_train)\r\n",
        "    log_reg_pred = log_reg.predict(x_test)\r\n",
        "    log_reg_acc = accuracy_score(y_test, log_reg_pred)\r\n",
        "    accuracy_list.append(100*log_reg_acc)\r\n",
        "    roc_auc_score(y_test,  log_reg.predict_proba(x_test)[:, 1])\r\n",
        "    print(Fore.GREEN + \"AUC of Logistic Regression is : \", \"{:.2f}%\".format(roc_auc_score(y_test,  log_reg.predict_proba(x_test)[:, 1])))\r\n",
        "    \r\n",
        "    #svm\r\n",
        "    sv_clf = SVC()\r\n",
        "    sv_clf.fit(x_train, y_train)\r\n",
        "    sv_clf_pred = sv_clf.predict(x_test)\r\n",
        "    sv_clf_acc = accuracy_score(y_test, sv_clf_pred)\r\n",
        "    accuracy_list.append(100* sv_clf_acc)\r\n",
        "    #roc_auc_score(y_test,  sv_clf.predict_proba(x_test)[:, 1],probability=True)\r\n",
        "    print(Fore.GREEN + \"Accuracy of SVC is : \", \"{:.2f}%\".format(100* sv_clf_acc))\r\n",
        "    \r\n",
        "    # K Neighbors Classifier\r\n",
        "\r\n",
        "    kn_clf = KNeighborsClassifier(n_neighbors=6)\r\n",
        "    kn_clf.fit(x_train, y_train)\r\n",
        "    kn_pred = kn_clf.predict(x_test)\r\n",
        "    kn_acc = accuracy_score(y_test, kn_pred)\r\n",
        "    accuracy_list.append(100*kn_acc)\r\n",
        "    roc3 =  roc_auc_score(y_test,  kn_clf.predict_proba(x_test)[:, 1])\r\n",
        "    print(Fore.GREEN + \"AUC of K Neighbors Classifier is : \", \"{:.2f}%\".format(roc3))\r\n",
        "    # Decision Tree Classifier\r\n",
        "\r\n",
        "    dt_clf = DecisionTreeClassifier(max_leaf_nodes=3, random_state=0, criterion='entropy')\r\n",
        "    dt_clf.fit(x_train, y_train)\r\n",
        "    dt_pred = dt_clf.predict(x_test)\r\n",
        "    dt_acc = accuracy_score(y_test, dt_pred)\r\n",
        "    accuracy_list.append(100*dt_acc)\r\n",
        "    print(Fore.GREEN + \"Accuracy of Decision Tree Classifier is : \", \"{:.2f}%\".format(100* dt_acc))\r\n",
        "    \r\n",
        "    # RandomForestClassifier\r\n",
        "\r\n",
        "    r_clf = RandomForestClassifier(max_features=0.5, max_depth=15, random_state=1)\r\n",
        "    r_clf.fit(x_train, y_train)\r\n",
        "    r_pred = r_clf.predict(x_test)\r\n",
        "    r_acc = accuracy_score(y_test, r_pred)\r\n",
        "    roc_ = roc_auc_score(y_test,  r_clf.predict_proba(x_test)[:, 1])\r\n",
        "    accuracy_list.append(100*r_acc)\r\n",
        "    print(Fore.GREEN + \"AUC of Random Forest Classifier is : \", \"{:.2f}%\".format(roc_))\r\n",
        "    \r\n",
        "    \r\n",
        "    #xgb\r\n",
        "    gradientboost_clf = GradientBoostingClassifier(max_depth=2, random_state=1)\r\n",
        "    gradientboost_clf.fit(x_train,y_train)\r\n",
        "    gradientboost_pred = gradientboost_clf.predict(x_test)\r\n",
        "    gradientboost_acc = accuracy_score(y_test, gradientboost_pred)\r\n",
        "    #accuracy_list.append(100*gradientboost_acc)\r\n",
        "    roc = roc_auc_score(y_test,  gradientboost_clf.predict_proba(x_test)[:, 1])\r\n",
        "    print(Fore.GREEN + \"AUC of Gradient Boosting is : \", \"{:.2f}%\".format(roc))\r\n",
        "    \r\n",
        "    #  lightgbm \r\n",
        "\r\n",
        "    lgb_clf = lightgbm.LGBMClassifier(max_depth=2, random_state=4)\r\n",
        "    lgb_clf.fit(x_train,y_train)\r\n",
        "    lgb_pred = lgb_clf.predict(x_test)\r\n",
        "    lgb_acc = accuracy_score(y_test, lgb_pred)\r\n",
        "    accuracy_list.append(100*lgb_acc)\r\n",
        "    roc2 = roc_auc_score(y_test,  lgb_clf.predict_proba(x_test)[:, 1])\r\n",
        "    print(Fore.GREEN + \"AUC of LGBMClassifier is : \",\"{:.2f}%\".format(roc2))\r\n",
        "    \r\n",
        "    # CatBoostClassifier\r\n",
        "\r\n",
        "    # cat_clf = CatBoostClassifier()\r\n",
        "    # cat_clf.fit(x_train,y_train)\r\n",
        "    # cat_pred = cat_clf.predict(x_test)\r\n",
        "    # cat_acc = accuracy_score(y_test, cat_pred)\r\n",
        "    # accuracy_list.append(100*cat_acc)\r\n",
        "    # roc4 = roc_auc_score(y_test,  cat_clf.predict_proba(x_test)[:, 1])\r\n",
        "    # print(Fore.GREEN + \"AUC of CatBoostClassifier is : \",\"{:.2f}%\".format(roc4))"
      ],
      "execution_count": 39,
      "outputs": []
    },
    {
      "cell_type": "code",
      "metadata": {
        "colab": {
          "base_uri": "https://localhost:8080/"
        },
        "id": "TQdI678Zzzrf",
        "outputId": "b109f5a9-debf-4980-a8de-710ce5643d3c"
      },
      "source": [
        " columns"
      ],
      "execution_count": 30,
      "outputs": [
        {
          "output_type": "execute_result",
          "data": {
            "text/plain": [
              "Index(['Unnamed: 0', 'Min_Platlets', 'Max_ESR', 'Max_Fibrinogen', 'Max_LDH',\n",
              "       'Max_Leucocytes', 'Gender', 'Max_CRP', 'Severity', 'IHD', 'COPD',\n",
              "       'Bronchial_asthma', 'Obesity', 'Diabetes', 'ALT', 'AST', 'duration',\n",
              "       'Age', 'Max_Creatinine', 'RF_0.0', 'RF_1.0', 'RF_2.0', 'RF_3.0', 'GFR',\n",
              "       'Ab_ind', 'L/Pl_Ratio'],\n",
              "      dtype='object')"
            ]
          },
          "metadata": {
            "tags": []
          },
          "execution_count": 30
        }
      ]
    },
    {
      "cell_type": "code",
      "metadata": {
        "id": "U_CFw5go0Dum"
      },
      "source": [
        "predictors = ['Min_Platlets', 'Max_ESR', 'Max_Fibrinogen', 'Max_LDH',\r\n",
        "       'Max_Leucocytes', 'Gender', 'Max_CRP', 'Severity', 'IHD', 'COPD',\r\n",
        "       'Bronchial_asthma', 'Obesity', 'Diabetes', 'ALT', 'AST', 'duration',\r\n",
        "       'Age', 'Max_Creatinine', 'RF_0.0', 'RF_1.0', 'RF_2.0', 'RF_3.0', 'GFR',\r\n",
        "        'L/Pl_Ratio']"
      ],
      "execution_count": 31,
      "outputs": []
    },
    {
      "cell_type": "code",
      "metadata": {
        "colab": {
          "base_uri": "https://localhost:8080/",
          "height": 339
        },
        "id": "AkH2I18J0Nx_",
        "outputId": "a24ec8af-20b9-4f6c-fbd4-63cbf4f14fb5"
      },
      "source": [
        "import matplotlib.pyplot as plt\r\n",
        "import warnings\r\n",
        "import seaborn as sns\r\n",
        "from colorama import Fore, Back, Style \r\n",
        "from sklearn.model_selection import train_test_split\r\n",
        "from sklearn.metrics import confusion_matrix, accuracy_score\r\n",
        "from mlxtend.plotting import plot_confusion_matrix\r\n",
        "from plotly.offline import plot, iplot, init_notebook_mode\r\n",
        "import plotly.graph_objs as go\r\n",
        "from plotly.subplots import make_subplots\r\n",
        "import plotly.express as px\r\n",
        "from statsmodels.formula.api import ols\r\n",
        "import plotly.graph_objs as gobj\r\n",
        "\r\n",
        "init_notebook_mode(connected=True)\r\n",
        "warnings.filterwarnings(\"ignore\")\r\n",
        "import plotly.figure_factory as ff\r\n",
        "\r\n",
        "%matplotlib inline\r\n",
        "\r\n",
        "import xgboost\r\n",
        "import lightgbm\r\n",
        "from sklearn.svm import SVC\r\n",
        "from sklearn.ensemble import GradientBoostingClassifier\r\n",
        "from sklearn.ensemble import RandomForestClassifier\r\n",
        "from sklearn.tree import DecisionTreeClassifier\r\n",
        "from sklearn.neighbors import KNeighborsClassifier\r\n",
        "from sklearn.linear_model import LogisticRegression\r\n",
        "!pip install catboost\r\n",
        "from catboost import CatBoostClassifier"
      ],
      "execution_count": 34,
      "outputs": [
        {
          "output_type": "display_data",
          "data": {
            "text/html": [
              "        <script type=\"text/javascript\">\n",
              "        window.PlotlyConfig = {MathJaxConfig: 'local'};\n",
              "        if (window.MathJax) {MathJax.Hub.Config({SVG: {font: \"STIX-Web\"}});}\n",
              "        if (typeof require !== 'undefined') {\n",
              "        require.undef(\"plotly\");\n",
              "        requirejs.config({\n",
              "            paths: {\n",
              "                'plotly': ['https://cdn.plot.ly/plotly-latest.min']\n",
              "            }\n",
              "        });\n",
              "        require(['plotly'], function(Plotly) {\n",
              "            window._Plotly = Plotly;\n",
              "        });\n",
              "        }\n",
              "        </script>\n",
              "        "
            ]
          },
          "metadata": {
            "tags": []
          }
        },
        {
          "output_type": "stream",
          "text": [
            "Collecting catboost\n",
            "\u001b[?25l  Downloading https://files.pythonhosted.org/packages/20/37/bc4e0ddc30c07a96482abf1de7ed1ca54e59bba2026a33bca6d2ef286e5b/catboost-0.24.4-cp36-none-manylinux1_x86_64.whl (65.7MB)\n",
            "     |████████████████████████████████| 65.8MB 73kB/s \n",
            "\u001b[?25hRequirement already satisfied: pandas>=0.24.0 in /usr/local/lib/python3.6/dist-packages (from catboost) (1.1.5)\n",
            "Requirement already satisfied: plotly in /usr/local/lib/python3.6/dist-packages (from catboost) (4.4.1)\n",
            "Requirement already satisfied: numpy>=1.16.0 in /usr/local/lib/python3.6/dist-packages (from catboost) (1.19.5)\n",
            "Requirement already satisfied: matplotlib in /usr/local/lib/python3.6/dist-packages (from catboost) (3.2.2)\n",
            "Requirement already satisfied: graphviz in /usr/local/lib/python3.6/dist-packages (from catboost) (0.10.1)\n",
            "Requirement already satisfied: six in /usr/local/lib/python3.6/dist-packages (from catboost) (1.15.0)\n",
            "Requirement already satisfied: scipy in /usr/local/lib/python3.6/dist-packages (from catboost) (1.4.1)\n",
            "Requirement already satisfied: pytz>=2017.2 in /usr/local/lib/python3.6/dist-packages (from pandas>=0.24.0->catboost) (2018.9)\n",
            "Requirement already satisfied: python-dateutil>=2.7.3 in /usr/local/lib/python3.6/dist-packages (from pandas>=0.24.0->catboost) (2.8.1)\n",
            "Requirement already satisfied: retrying>=1.3.3 in /usr/local/lib/python3.6/dist-packages (from plotly->catboost) (1.3.3)\n",
            "Requirement already satisfied: cycler>=0.10 in /usr/local/lib/python3.6/dist-packages (from matplotlib->catboost) (0.10.0)\n",
            "Requirement already satisfied: pyparsing!=2.0.4,!=2.1.2,!=2.1.6,>=2.0.1 in /usr/local/lib/python3.6/dist-packages (from matplotlib->catboost) (2.4.7)\n",
            "Requirement already satisfied: kiwisolver>=1.0.1 in /usr/local/lib/python3.6/dist-packages (from matplotlib->catboost) (1.3.1)\n",
            "Installing collected packages: catboost\n",
            "Successfully installed catboost-0.24.4\n"
          ],
          "name": "stdout"
        }
      ]
    },
    {
      "cell_type": "code",
      "metadata": {
        "colab": {
          "base_uri": "https://localhost:8080/"
        },
        "id": "G1kVOj36zrk_",
        "outputId": "3eaf414f-78c9-409c-c663-4c184a6e0e71"
      },
      "source": [
        "all_estimators_pipline(df, predictors = predictors , target = 'Ab_ind', test_size = 0.2, accuracy_list = [])"
      ],
      "execution_count": 40,
      "outputs": [
        {
          "output_type": "stream",
          "text": [
            "AUC of Logistic Regression is :  0.75%\n",
            "Accuracy of SVC is :  82.08%\n",
            "AUC of K Neighbors Classifier is :  0.62%\n",
            "Accuracy of Decision Tree Classifier is :  82.08%\n",
            "AUC of Random Forest Classifier is :  0.81%\n",
            "AUC of Gradient Boosting is :  0.78%\n",
            "AUC of LGBMClassifier is :  0.79%\n"
          ],
          "name": "stdout"
        }
      ]
    },
    {
      "cell_type": "code",
      "metadata": {
        "id": "Dq7Ga9490J5X"
      },
      "source": [
        "def pipeline_auto_ml(data, target_column, cols_to_remove, split_ratio):\r\n",
        "    \"\"\"Returns default gbm perfomance on H2O\"\"\"\r\n",
        "#     !pip install h2o\r\n",
        "    import h2o\r\n",
        "    h2o.init()\r\n",
        "    from h2o.automl import H2OAutoML\r\n",
        "    data = h2o.H2OFrame(data)\r\n",
        "    predictors = data.col_names\r\n",
        "    predictors.remove(target_column)\r\n",
        "    data[target_column] = data[target_column].asfactor()\r\n",
        "    train, test = data.split_frame(seed = 12345, ratios \r\n",
        "                                   = [split_ratio])\r\n",
        "    target = target_column\r\n",
        "    #predictors = data.col_names.remove(target_column)\r\n",
        "    aml = H2OAutoML(max_models = 6, max_runtime_secs = \r\n",
        "                    120, seed = 12345)\r\n",
        "    aml.train(x = predictors, y = target, \r\n",
        "              training_frame = train, leaderboard_frame = test)\r\n",
        "    lb = aml.leaderboard\r\n",
        "    return lb.head(rows=5)"
      ],
      "execution_count": 42,
      "outputs": []
    },
    {
      "cell_type": "code",
      "metadata": {
        "colab": {
          "base_uri": "https://localhost:8080/",
          "height": 527
        },
        "id": "vta0bPfU1J_Y",
        "outputId": "dd27f9b2-4f56-4f2d-ba76-25416485d497"
      },
      "source": [
        "pipeline_auto_ml(data = df, target_column = 'Ab_ind', cols_to_remove = 'Ab_ind', split_ratio = .8)"
      ],
      "execution_count": 43,
      "outputs": [
        {
          "output_type": "stream",
          "text": [
            "Checking whether there is an H2O instance running at http://localhost:54321 . connected.\n"
          ],
          "name": "stdout"
        },
        {
          "output_type": "display_data",
          "data": {
            "text/html": [
              "<div style=\"overflow:auto\"><table style=\"width:50%\"><tr><td>H2O_cluster_uptime:</td>\n",
              "<td>13 mins 00 secs</td></tr>\n",
              "<tr><td>H2O_cluster_timezone:</td>\n",
              "<td>Etc/UTC</td></tr>\n",
              "<tr><td>H2O_data_parsing_timezone:</td>\n",
              "<td>UTC</td></tr>\n",
              "<tr><td>H2O_cluster_version:</td>\n",
              "<td>3.32.0.4</td></tr>\n",
              "<tr><td>H2O_cluster_version_age:</td>\n",
              "<td>19 days </td></tr>\n",
              "<tr><td>H2O_cluster_name:</td>\n",
              "<td>H2O_from_python_unknownUser_zxvatj</td></tr>\n",
              "<tr><td>H2O_cluster_total_nodes:</td>\n",
              "<td>1</td></tr>\n",
              "<tr><td>H2O_cluster_free_memory:</td>\n",
              "<td>3.151 Gb</td></tr>\n",
              "<tr><td>H2O_cluster_total_cores:</td>\n",
              "<td>2</td></tr>\n",
              "<tr><td>H2O_cluster_allowed_cores:</td>\n",
              "<td>2</td></tr>\n",
              "<tr><td>H2O_cluster_status:</td>\n",
              "<td>locked, healthy</td></tr>\n",
              "<tr><td>H2O_connection_url:</td>\n",
              "<td>http://localhost:54321</td></tr>\n",
              "<tr><td>H2O_connection_proxy:</td>\n",
              "<td>{\"http\": null, \"https\": null}</td></tr>\n",
              "<tr><td>H2O_internal_security:</td>\n",
              "<td>False</td></tr>\n",
              "<tr><td>H2O_API_Extensions:</td>\n",
              "<td>Amazon S3, XGBoost, Algos, AutoML, Core V3, TargetEncoder, Core V4</td></tr>\n",
              "<tr><td>Python_version:</td>\n",
              "<td>3.6.9 final</td></tr></table></div>"
            ],
            "text/plain": [
              "--------------------------  ------------------------------------------------------------------\n",
              "H2O_cluster_uptime:         13 mins 00 secs\n",
              "H2O_cluster_timezone:       Etc/UTC\n",
              "H2O_data_parsing_timezone:  UTC\n",
              "H2O_cluster_version:        3.32.0.4\n",
              "H2O_cluster_version_age:    19 days\n",
              "H2O_cluster_name:           H2O_from_python_unknownUser_zxvatj\n",
              "H2O_cluster_total_nodes:    1\n",
              "H2O_cluster_free_memory:    3.151 Gb\n",
              "H2O_cluster_total_cores:    2\n",
              "H2O_cluster_allowed_cores:  2\n",
              "H2O_cluster_status:         locked, healthy\n",
              "H2O_connection_url:         http://localhost:54321\n",
              "H2O_connection_proxy:       {\"http\": null, \"https\": null}\n",
              "H2O_internal_security:      False\n",
              "H2O_API_Extensions:         Amazon S3, XGBoost, Algos, AutoML, Core V3, TargetEncoder, Core V4\n",
              "Python_version:             3.6.9 final\n",
              "--------------------------  ------------------------------------------------------------------"
            ]
          },
          "metadata": {
            "tags": []
          }
        },
        {
          "output_type": "stream",
          "text": [
            "Parse progress: |█████████████████████████████████████████████████████████| 100%\n",
            "AutoML progress: |████████████████████████████████████████████████████████| 100%\n"
          ],
          "name": "stdout"
        },
        {
          "output_type": "display_data",
          "data": {
            "text/html": [
              "<table>\n",
              "<thead>\n",
              "<tr><th>model_id                                        </th><th style=\"text-align: right;\">     auc</th><th style=\"text-align: right;\">  logloss</th><th style=\"text-align: right;\">   aucpr</th><th style=\"text-align: right;\">  mean_per_class_error</th><th style=\"text-align: right;\">    rmse</th><th style=\"text-align: right;\">     mse</th></tr>\n",
              "</thead>\n",
              "<tbody>\n",
              "<tr><td>GLM_1_AutoML_20210220_190523                    </td><td style=\"text-align: right;\">0.760477</td><td style=\"text-align: right;\"> 0.369492</td><td style=\"text-align: right;\">0.451736</td><td style=\"text-align: right;\">              0.314058</td><td style=\"text-align: right;\">0.333191</td><td style=\"text-align: right;\">0.111016</td></tr>\n",
              "<tr><td>XGBoost_3_AutoML_20210220_190523                </td><td style=\"text-align: right;\">0.755836</td><td style=\"text-align: right;\"> 0.391504</td><td style=\"text-align: right;\">0.366168</td><td style=\"text-align: right;\">              0.308621</td><td style=\"text-align: right;\">0.345077</td><td style=\"text-align: right;\">0.119078</td></tr>\n",
              "<tr><td>XGBoost_2_AutoML_20210220_190523                </td><td style=\"text-align: right;\">0.740053</td><td style=\"text-align: right;\"> 0.382041</td><td style=\"text-align: right;\">0.407312</td><td style=\"text-align: right;\">              0.307162</td><td style=\"text-align: right;\">0.33763 </td><td style=\"text-align: right;\">0.113994</td></tr>\n",
              "<tr><td>XGBoost_1_AutoML_20210220_190523                </td><td style=\"text-align: right;\">0.735279</td><td style=\"text-align: right;\"> 0.416167</td><td style=\"text-align: right;\">0.331696</td><td style=\"text-align: right;\">              0.26565 </td><td style=\"text-align: right;\">0.350204</td><td style=\"text-align: right;\">0.122643</td></tr>\n",
              "<tr><td>StackedEnsemble_AllModels_AutoML_20210220_190523</td><td style=\"text-align: right;\">0.693634</td><td style=\"text-align: right;\"> 0.384082</td><td style=\"text-align: right;\">0.356584</td><td style=\"text-align: right;\">              0.342175</td><td style=\"text-align: right;\">0.338576</td><td style=\"text-align: right;\">0.114633</td></tr>\n",
              "</tbody>\n",
              "</table>"
            ]
          },
          "metadata": {
            "tags": []
          }
        },
        {
          "output_type": "execute_result",
          "data": {
            "text/plain": [
              ""
            ]
          },
          "metadata": {
            "tags": []
          },
          "execution_count": 43
        }
      ]
    }
  ]
}