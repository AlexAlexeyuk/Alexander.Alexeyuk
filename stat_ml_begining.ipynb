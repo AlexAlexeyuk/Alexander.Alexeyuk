{
  "nbformat": 4,
  "nbformat_minor": 0,
  "metadata": {
    "colab": {
      "name": "stat_ml_begining.ipynb",
      "provenance": [],
      "collapsed_sections": [],
      "authorship_tag": "ABX9TyMxk7qvhJ8q+IZU6njzCOoi",
      "include_colab_link": true
    },
    "kernelspec": {
      "name": "python3",
      "display_name": "Python 3"
    }
  },
  "cells": [
    {
      "cell_type": "markdown",
      "metadata": {
        "id": "view-in-github",
        "colab_type": "text"
      },
      "source": [
        "<a href=\"https://colab.research.google.com/github/AlexAlexeyuk/Alexander.Alexeyuk/blob/ready/stat_ml_begining.ipynb\" target=\"_parent\"><img src=\"https://colab.research.google.com/assets/colab-badge.svg\" alt=\"Open In Colab\"/></a>"
      ]
    },
    {
      "cell_type": "code",
      "metadata": {
        "id": "m7HhVcicq_5Y"
      },
      "source": [
        "import pandas as pd\r\n",
        "import numpy as np\r\n",
        "from scipy import stats\r\n",
        "import matplotlib.pyplot as plt\r\n",
        "\r\n",
        "from scipy.stats import mannwhitneyu,ttest_ind, kruskal,chisquare, pearsonr, spearmanr"
      ],
      "execution_count": 2,
      "outputs": []
    },
    {
      "cell_type": "code",
      "metadata": {
        "id": "DJYe7-8jrKAt"
      },
      "source": [
        "df = pd.read_csv('/content/covid_data_6_mistakes (1).csv')\r\n",
        "df = df.drop('Unnamed: 0', axis=1)"
      ],
      "execution_count": 3,
      "outputs": []
    },
    {
      "cell_type": "code",
      "metadata": {
        "id": "ovmJNrdxrMob"
      },
      "source": [
        "columns =['Min_Platlets', 'Max_ESR', 'Max_Fibrinogen', 'Max_LDH',\r\n",
        "       'Max_Leucocytes',  'Max_CRP','Max_Creatinine','GFR','L/Pl_Ratio']"
      ],
      "execution_count": null,
      "outputs": []
    },
    {
      "cell_type": "code",
      "metadata": {
        "id": "Y63hYrxYSR18"
      },
      "source": [
        "df_no_ind = df[df['Ab_ind'] == 0]\r\n",
        "df_ind = df[df['Ab_ind'] == 1]"
      ],
      "execution_count": null,
      "outputs": []
    },
    {
      "cell_type": "markdown",
      "metadata": {
        "id": "W4j0RfpHbWS-"
      },
      "source": [
        "\r\n",
        "\r\n",
        "---\r\n",
        "## Классические статистические тесты\r\n"
      ]
    },
    {
      "cell_type": "markdown",
      "metadata": {
        "id": "5_scqYfNSVkq"
      },
      "source": [
        "## Проверим подвыборка на нормальность распределения.\r\n",
        "Нулевая гипотеза в этом случае: данные распределены нормально. p-value в данном случае, показывает вероятность ошибиться в случает, если мы отвергнем нулевую гипотезу."
      ]
    },
    {
      "cell_type": "code",
      "metadata": {
        "colab": {
          "base_uri": "https://localhost:8080/"
        },
        "id": "YcljbDFoSU-E",
        "outputId": "7b6ed7ce-af4f-4e63-cf0f-faf01a04b656"
      },
      "source": [
        "for i in columns:\r\n",
        "  lst1 = df_no_ind[i]\r\n",
        "  lst2 = df_ind[i]\r\n",
        "  shapiro_test = stats.shapiro(lst1) # тест шапиро-уилка\r\n",
        "  shapiro_test2 = stats.shapiro(lst2) # тест шапиро-уилка\r\n",
        "  if shapiro_test[1] < .05:\r\n",
        "    print('Данные {0} распределены ненормально,\\\r\n",
        "           p-value - {1}'.format(i,  shapiro_test[1]))\r\n",
        "  if shapiro_test2[1] < .05:\r\n",
        "    print('Данные {0} распределены ненормально,\\\r\n",
        "           p-value - {1}'.format(i,  shapiro_test2[1]))\r\n",
        "  else:\r\n",
        "    pass"
      ],
      "execution_count": null,
      "outputs": [
        {
          "output_type": "stream",
          "text": [
            "Данные Min_Platlets распределены ненормально,           p-value - 2.2496317308995373e-11\n",
            "Данные Min_Platlets распределены ненормально,           p-value - 0.0046564731746912\n",
            "Данные Max_ESR распределены ненормально,           p-value - 2.552094656493864e-06\n",
            "Данные Max_ESR распределены ненормально,           p-value - 2.1818234017700888e-05\n",
            "Данные Max_Fibrinogen распределены ненормально,           p-value - 8.701200213717984e-17\n",
            "Данные Max_Fibrinogen распределены ненормально,           p-value - 4.6909113734727725e-05\n",
            "Данные Max_LDH распределены ненормально,           p-value - 1.7956045894607087e-07\n",
            "Данные Max_LDH распределены ненормально,           p-value - 0.0016341493465006351\n",
            "Данные Max_Leucocytes распределены ненормально,           p-value - 1.087012632683404e-10\n",
            "Данные Max_Leucocytes распределены ненормально,           p-value - 1.7819214159775498e-10\n",
            "Данные Max_CRP распределены ненормально,           p-value - 5.4264262484617843e-17\n",
            "Данные Max_CRP распределены ненормально,           p-value - 3.7895981491731234e-11\n",
            "Данные Max_Creatinine распределены ненормально,           p-value - 3.699427945817517e-43\n",
            "Данные Max_Creatinine распределены ненормально,           p-value - 2.1479653017241274e-21\n",
            "Данные GFR распределены ненормально,           p-value - 3.8155297943376354e-07\n",
            "Данные GFR распределены ненормально,           p-value - 2.591924674888446e-09\n",
            "Данные L/Pl_Ratio распределены ненормально,           p-value - 4.344025239406933e-44\n",
            "Данные L/Pl_Ratio распределены ненормально,           p-value - 5.2956821734858814e-14\n"
          ],
          "name": "stdout"
        }
      ]
    },
    {
      "cell_type": "markdown",
      "metadata": {
        "id": "C3gSY-WHSzg0"
      },
      "source": [
        "p-value ниже 0.05, т.о мы отвергаем нулевую гипотезу о нормальности распределения и будем работать с данными используя непараметрические стат.методы"
      ]
    },
    {
      "cell_type": "code",
      "metadata": {
        "id": "22TplD9srRWO",
        "colab": {
          "base_uri": "https://localhost:8080/"
        },
        "outputId": "79178047-7358-43b7-8c2c-3bacb8931de3"
      },
      "source": [
        "def Basic_statistics(lst_1, lst_2):\r\n",
        "    \"\"\" \r\n",
        "    Функция \"Базовые статистики\"\r\n",
        "\r\n",
        "    На вход получает 2 списка данных для сравнения.\r\n",
        "    На выходе получаем p-values, при сравнении признаков. \r\n",
        "    В частности: показаны, не показаны антибиотики\r\n",
        "    \"\"\"\r\n",
        "    res_mw = mannwhitneyu(lst_1, lst_2, \r\n",
        "                       use_continuity=True, \r\n",
        "                       alternative=None) # u -тест манна-уитни\r\n",
        "    res_kw = kruskal(lst_1, lst_2)## краскела уолиса\r\n",
        "    anova = stats.f_oneway(lst_1, lst_2) #тест анова\r\n",
        "    return res_mw[1], res_kw[1],  anova[1]\r\n",
        "for col in columns:\r\n",
        "  lst1 = df_no_ind[col]\r\n",
        "  lst2 = df_ind[col]\r\n",
        "  mw =  Basic_statistics(lst1, lst2)[0]\r\n",
        "  kw =  Basic_statistics(lst1, lst2)[1]\r\n",
        "  an =  Basic_statistics(lst1, lst2)[2]\r\n",
        "  if mw < .05:\r\n",
        "    print('Данные {0} статисически значимо различаются в подгруппах,\\\r\n",
        "           p-value - {1}, тест Манна-Уитни'.format(col,  mw))\r\n",
        "  if kw < .05:\r\n",
        "    print('Данные {0} статисически значимо различаются в подгруппах,\\\r\n",
        "           p-value - {1}, тест Крускала-Уоллиса'.format(col,  kw))\r\n",
        "  if an < .05:\r\n",
        "    print('Данные {0} статисически значимо различаются в подгруппах,\\\r\n",
        "           p-value - {1}, тест Анова'.format(col,  an))\r\n",
        "  else:\r\n",
        "    pass\r\n"
      ],
      "execution_count": null,
      "outputs": [
        {
          "output_type": "stream",
          "text": [
            "Данные Min_Platlets статисически значимо различаются в подгруппах,           p-value - 3.2855745293407934e-07, тест Манна-Уитни\n",
            "Данные Min_Platlets статисически значимо различаются в подгруппах,           p-value - 6.565008618092226e-07, тест Крускала-Уоллиса\n",
            "Данные Min_Platlets статисически значимо различаются в подгруппах,           p-value - 2.2212869639839813e-07, тест Анова\n",
            "Данные Max_ESR статисически значимо различаются в подгруппах,           p-value - 6.572563797722308e-05, тест Манна-Уитни\n",
            "Данные Max_ESR статисически значимо различаются в подгруппах,           p-value - 0.00013135466386457627, тест Крускала-Уоллиса\n",
            "Данные Max_ESR статисически значимо различаются в подгруппах,           p-value - 0.00011784582665018135, тест Анова\n",
            "Данные Max_Fibrinogen статисически значимо различаются в подгруппах,           p-value - 9.701834609290562e-06, тест Манна-Уитни\n",
            "Данные Max_Fibrinogen статисически значимо различаются в подгруппах,           p-value - 1.9387907471511455e-05, тест Крускала-Уоллиса\n",
            "Данные Max_Fibrinogen статисически значимо различаются в подгруппах,           p-value - 8.009871601715198e-08, тест Анова\n",
            "Данные Max_Leucocytes статисически значимо различаются в подгруппах,           p-value - 0.0020281837945207173, тест Манна-Уитни\n",
            "Данные Max_Leucocytes статисически значимо различаются в подгруппах,           p-value - 0.004054041791523019, тест Крускала-Уоллиса\n",
            "Данные Max_Leucocytes статисически значимо различаются в подгруппах,           p-value - 0.018171946741098028, тест Анова\n",
            "Данные Max_CRP статисически значимо различаются в подгруппах,           p-value - 1.4230317435117545e-06, тест Манна-Уитни\n",
            "Данные Max_CRP статисически значимо различаются в подгруппах,           p-value - 2.8435491579278232e-06, тест Крускала-Уоллиса\n",
            "Данные Max_CRP статисически значимо различаются в подгруппах,           p-value - 6.478105938119224e-05, тест Анова\n",
            "Данные GFR статисически значимо различаются в подгруппах,           p-value - 0.03888725528397782, тест Манна-Уитни\n",
            "Данные L/Pl_Ratio статисически значимо различаются в подгруппах,           p-value - 3.719379985871806e-05, тест Манна-Уитни\n",
            "Данные L/Pl_Ratio статисически значимо различаются в подгруппах,           p-value - 7.433117108337258e-05, тест Крускала-Уоллиса\n",
            "Данные L/Pl_Ratio статисически значимо различаются в подгруппах,           p-value - 0.005649827499620078, тест Анова\n"
          ],
          "name": "stdout"
        }
      ]
    },
    {
      "cell_type": "markdown",
      "metadata": {
        "id": "udqHWNI5bqtM"
      },
      "source": [
        "## Модели машинного обучения"
      ]
    },
    {
      "cell_type": "code",
      "metadata": {
        "colab": {
          "base_uri": "https://localhost:8080/"
        },
        "id": "5feDfj1xd0u1",
        "outputId": "1dfabddc-7cde-4c2a-8b44-8b9d2de44436"
      },
      "source": [
        "# Для начала проверим баланс классов\r\n",
        "neg, pos = np.bincount(df['Ab_ind'])\r\n",
        "total = neg + pos\r\n",
        "print('Examples:\\n    Total: {}\\n    Positive: {} ({:.2f}% of total)\\n'.format(\r\n",
        "    total, pos, 100 * pos / total))"
      ],
      "execution_count": 30,
      "outputs": [
        {
          "output_type": "stream",
          "text": [
            "Examples:\n",
            "    Total: 863\n",
            "    Positive: 148 (17.15% of total)\n",
            "\n"
          ],
          "name": "stdout"
        }
      ]
    },
    {
      "cell_type": "markdown",
      "metadata": {
        "id": "5SD_Er7_eFTI"
      },
      "source": [
        "Мы имеет 17,15% позитивных классов, соответственно, у нас имеет место несбалансированные классы"
      ]
    },
    {
      "cell_type": "code",
      "metadata": {
        "colab": {
          "base_uri": "https://localhost:8080/",
          "height": 523
        },
        "id": "SobGsugUcgok",
        "outputId": "1eee7d3c-dca1-49a3-9fb3-d42655a0384f"
      },
      "source": [
        "!pip install h2o\r\n",
        "import h2o\r\n",
        "h2o.init()\r\n",
        "from h2o.automl import H2OAutoML\r\n",
        "from h2o.estimators.gbm import H2OGradientBoostingEstimator\r\n",
        "from h2o.estimators import H2OIsolationForestEstimator\r\n",
        "from h2o.estimators import H2ORandomForestEstimator\r\n",
        "from h2o.estimators import H2OSupportVectorMachineEstimator\r\n",
        "from h2o.grid.grid_search import H2OGridSearch"
      ],
      "execution_count": null,
      "outputs": [
        {
          "output_type": "stream",
          "text": [
            "Requirement already satisfied: h2o in /usr/local/lib/python3.6/dist-packages (3.32.0.4)\n",
            "Requirement already satisfied: tabulate in /usr/local/lib/python3.6/dist-packages (from h2o) (0.8.7)\n",
            "Requirement already satisfied: colorama>=0.3.8 in /usr/local/lib/python3.6/dist-packages (from h2o) (0.4.4)\n",
            "Requirement already satisfied: requests in /usr/local/lib/python3.6/dist-packages (from h2o) (2.23.0)\n",
            "Requirement already satisfied: future in /usr/local/lib/python3.6/dist-packages (from h2o) (0.16.0)\n",
            "Requirement already satisfied: urllib3!=1.25.0,!=1.25.1,<1.26,>=1.21.1 in /usr/local/lib/python3.6/dist-packages (from requests->h2o) (1.24.3)\n",
            "Requirement already satisfied: chardet<4,>=3.0.2 in /usr/local/lib/python3.6/dist-packages (from requests->h2o) (3.0.4)\n",
            "Requirement already satisfied: certifi>=2017.4.17 in /usr/local/lib/python3.6/dist-packages (from requests->h2o) (2020.12.5)\n",
            "Requirement already satisfied: idna<3,>=2.5 in /usr/local/lib/python3.6/dist-packages (from requests->h2o) (2.10)\n",
            "Checking whether there is an H2O instance running at http://localhost:54321 . connected.\n"
          ],
          "name": "stdout"
        },
        {
          "output_type": "display_data",
          "data": {
            "text/html": [
              "<div style=\"overflow:auto\"><table style=\"width:50%\"><tr><td>H2O_cluster_uptime:</td>\n",
              "<td>3 hours 20 mins</td></tr>\n",
              "<tr><td>H2O_cluster_timezone:</td>\n",
              "<td>Etc/UTC</td></tr>\n",
              "<tr><td>H2O_data_parsing_timezone:</td>\n",
              "<td>UTC</td></tr>\n",
              "<tr><td>H2O_cluster_version:</td>\n",
              "<td>3.32.0.4</td></tr>\n",
              "<tr><td>H2O_cluster_version_age:</td>\n",
              "<td>19 days </td></tr>\n",
              "<tr><td>H2O_cluster_name:</td>\n",
              "<td>H2O_from_python_unknownUser_m1njlv</td></tr>\n",
              "<tr><td>H2O_cluster_total_nodes:</td>\n",
              "<td>1</td></tr>\n",
              "<tr><td>H2O_cluster_free_memory:</td>\n",
              "<td>2.902 Gb</td></tr>\n",
              "<tr><td>H2O_cluster_total_cores:</td>\n",
              "<td>2</td></tr>\n",
              "<tr><td>H2O_cluster_allowed_cores:</td>\n",
              "<td>2</td></tr>\n",
              "<tr><td>H2O_cluster_status:</td>\n",
              "<td>locked, healthy</td></tr>\n",
              "<tr><td>H2O_connection_url:</td>\n",
              "<td>http://localhost:54321</td></tr>\n",
              "<tr><td>H2O_connection_proxy:</td>\n",
              "<td>{\"http\": null, \"https\": null}</td></tr>\n",
              "<tr><td>H2O_internal_security:</td>\n",
              "<td>False</td></tr>\n",
              "<tr><td>H2O_API_Extensions:</td>\n",
              "<td>Amazon S3, XGBoost, Algos, AutoML, Core V3, TargetEncoder, Core V4</td></tr>\n",
              "<tr><td>Python_version:</td>\n",
              "<td>3.6.9 final</td></tr></table></div>"
            ],
            "text/plain": [
              "--------------------------  ------------------------------------------------------------------\n",
              "H2O_cluster_uptime:         3 hours 20 mins\n",
              "H2O_cluster_timezone:       Etc/UTC\n",
              "H2O_data_parsing_timezone:  UTC\n",
              "H2O_cluster_version:        3.32.0.4\n",
              "H2O_cluster_version_age:    19 days\n",
              "H2O_cluster_name:           H2O_from_python_unknownUser_m1njlv\n",
              "H2O_cluster_total_nodes:    1\n",
              "H2O_cluster_free_memory:    2.902 Gb\n",
              "H2O_cluster_total_cores:    2\n",
              "H2O_cluster_allowed_cores:  2\n",
              "H2O_cluster_status:         locked, healthy\n",
              "H2O_connection_url:         http://localhost:54321\n",
              "H2O_connection_proxy:       {\"http\": null, \"https\": null}\n",
              "H2O_internal_security:      False\n",
              "H2O_API_Extensions:         Amazon S3, XGBoost, Algos, AutoML, Core V3, TargetEncoder, Core V4\n",
              "Python_version:             3.6.9 final\n",
              "--------------------------  ------------------------------------------------------------------"
            ]
          },
          "metadata": {
            "tags": []
          }
        }
      ]
    },
    {
      "cell_type": "code",
      "metadata": {
        "id": "1PAepNwtx9HJ"
      },
      "source": [
        "def pipeline_gbm_grid(data, target_column,  split_ratio):\r\n",
        "    data = h2o.H2OFrame(data)\r\n",
        "    predictors = data.col_names\r\n",
        "    predictors.remove(target_column)\r\n",
        "    data[target_column] = data[target_column].asfactor()\r\n",
        "    train, valid, test = data.split_frame(seed = 12345, ratios = split_ratio)\r\n",
        "    target = target_column\r\n",
        "    hyperparams_tune = {\r\n",
        "    'max_depth' : list(range(2, 6, 1)),\r\n",
        "    'sample_rate' : [x/100. for x in range(20,101)],\r\n",
        "    'col_sample_rate' : [x/100. for x in range(20,101)],\r\n",
        "    'min_split_improvement': [0, 1e-8, 1e-6, 1e-4]}\r\n",
        "\r\n",
        "    search_criteria_tune = {\r\n",
        "    'strategy' : \"RandomDiscrete\",\r\n",
        "    'max_runtime_secs' : 300,  ## limit the runtime to 5 minutes\r\n",
        "    'max_models' : 15,  ## build no more than 15 models\r\n",
        "    'stopping_rounds' : 5,\r\n",
        "    'stopping_metric' : \"AUC\",\r\n",
        "    'stopping_tolerance': 1e-3}\r\n",
        "    gbm_final_grid = H2OGradientBoostingEstimator(\r\n",
        "    ## More trees is better if the learning rate is small enough\r\n",
        "    ## we use \"more than enough\" trees with early stopping\r\n",
        "    ntrees = 10000,\r\n",
        "    ## we use learn rate with annealing for a fast scan\r\n",
        "    learn_rate = 0.05,\r\n",
        "    learn_rate_annealing = 0.99,\r\n",
        "    ## Score every 10 trees to make early stopping reproducible\r\n",
        "    score_tree_interval = 10,\r\n",
        "    ## Set seed for reproducibility\r\n",
        "    seed = 12345,\r\n",
        "    ## Balansing of classes\r\n",
        "    balance_classes = True,\r\n",
        "    keep_cross_validation_predictions = True)\r\n",
        "    final_grid = H2OGridSearch(\r\n",
        "    gbm_final_grid,\r\n",
        "    hyper_params = hyperparams_tune,\r\n",
        "    search_criteria = search_criteria_tune)\r\n",
        "    final_grid.train(x = predictors,\r\n",
        "           y = target,\r\n",
        "           training_frame = train,\r\n",
        "           validation_frame = valid, \r\n",
        "           max_runtime_secs = 180) # can override setting in search_criteria_tune\r\n",
        "    sorted_gbm_grid = final_grid.get_grid(sort_by = 'auc', decreasing = True)\r\n",
        "    best_gbm = sorted_gbm_grid.models[0]\r\n",
        "    best_gbm_perf_valid = best_gbm.model_performance(valid)\r\n",
        "    best_gbm_perf_test = best_gbm.model_performance(test)\r\n",
        "    params_list = []\r\n",
        "    for key, value in best_gbm.params.items():\r\n",
        "      params_list.append(str(key)+\" = \"+str(value['actual']))\r\n",
        "    return  best_gbm_perf_valid#best_gbm_perf_valid.aucpr(), best_gbm_perf_test.aucpr(), params_list"
      ],
      "execution_count": null,
      "outputs": []
    },
    {
      "cell_type": "code",
      "metadata": {
        "id": "jyvrIL1-zDIt",
        "colab": {
          "base_uri": "https://localhost:8080/",
          "height": 1000
        },
        "outputId": "2f7482ff-d1c1-43d3-f88d-661b880225e1"
      },
      "source": [
        "pipeline_gbm_grid(data = df, target_column = 'Ab_ind', cols_to_remove = 'Ab_ind', split_ratio = [.7, .15])"
      ],
      "execution_count": null,
      "outputs": [
        {
          "output_type": "stream",
          "text": [
            "Parse progress: |█████████████████████████████████████████████████████████| 100%\n",
            "gbm Grid Build progress: |████████████████████████████████████████████████| 100%\n",
            "\n",
            "ModelMetricsBinomial: gbm\n",
            "** Reported on test data. **\n",
            "\n",
            "MSE: 0.10186103705021149\n",
            "RMSE: 0.31915675936788723\n",
            "LogLoss: 0.3376416920930951\n",
            "Mean Per-Class Error: 0.25952075310226785\n",
            "AUC: 0.7847667950363714\n",
            "AUCPR: 0.331171773862001\n",
            "Gini: 0.5695335900727427\n",
            "\n",
            "Confusion Matrix (Act/Pred) for max f1 @ threshold = 0.11930284380010989: \n"
          ],
          "name": "stdout"
        },
        {
          "output_type": "display_data",
          "data": {
            "text/html": [
              "<div>\n",
              "<style scoped>\n",
              "    .dataframe tbody tr th:only-of-type {\n",
              "        vertical-align: middle;\n",
              "    }\n",
              "\n",
              "    .dataframe tbody tr th {\n",
              "        vertical-align: top;\n",
              "    }\n",
              "\n",
              "    .dataframe thead th {\n",
              "        text-align: right;\n",
              "    }\n",
              "</style>\n",
              "<table border=\"1\" class=\"dataframe\">\n",
              "  <thead>\n",
              "    <tr style=\"text-align: right;\">\n",
              "      <th></th>\n",
              "      <th></th>\n",
              "      <th>0</th>\n",
              "      <th>1</th>\n",
              "      <th>Error</th>\n",
              "      <th>Rate</th>\n",
              "    </tr>\n",
              "  </thead>\n",
              "  <tbody>\n",
              "    <tr>\n",
              "      <th>0</th>\n",
              "      <td>0</td>\n",
              "      <td>98.0</td>\n",
              "      <td>25.0</td>\n",
              "      <td>0.2033</td>\n",
              "      <td>(25.0/123.0)</td>\n",
              "    </tr>\n",
              "    <tr>\n",
              "      <th>1</th>\n",
              "      <td>1</td>\n",
              "      <td>6.0</td>\n",
              "      <td>13.0</td>\n",
              "      <td>0.3158</td>\n",
              "      <td>(6.0/19.0)</td>\n",
              "    </tr>\n",
              "    <tr>\n",
              "      <th>2</th>\n",
              "      <td>Total</td>\n",
              "      <td>104.0</td>\n",
              "      <td>38.0</td>\n",
              "      <td>0.2183</td>\n",
              "      <td>(31.0/142.0)</td>\n",
              "    </tr>\n",
              "  </tbody>\n",
              "</table>\n",
              "</div>"
            ],
            "text/plain": [
              "              0     1   Error           Rate\n",
              "0      0   98.0  25.0  0.2033   (25.0/123.0)\n",
              "1      1    6.0  13.0  0.3158     (6.0/19.0)\n",
              "2  Total  104.0  38.0  0.2183   (31.0/142.0)"
            ]
          },
          "metadata": {
            "tags": []
          }
        },
        {
          "output_type": "stream",
          "text": [
            "\n",
            "Maximum Metrics: Maximum metrics at their respective thresholds\n"
          ],
          "name": "stdout"
        },
        {
          "output_type": "display_data",
          "data": {
            "text/html": [
              "<div>\n",
              "<style scoped>\n",
              "    .dataframe tbody tr th:only-of-type {\n",
              "        vertical-align: middle;\n",
              "    }\n",
              "\n",
              "    .dataframe tbody tr th {\n",
              "        vertical-align: top;\n",
              "    }\n",
              "\n",
              "    .dataframe thead th {\n",
              "        text-align: right;\n",
              "    }\n",
              "</style>\n",
              "<table border=\"1\" class=\"dataframe\">\n",
              "  <thead>\n",
              "    <tr style=\"text-align: right;\">\n",
              "      <th></th>\n",
              "      <th>metric</th>\n",
              "      <th>threshold</th>\n",
              "      <th>value</th>\n",
              "      <th>idx</th>\n",
              "    </tr>\n",
              "  </thead>\n",
              "  <tbody>\n",
              "    <tr>\n",
              "      <th>0</th>\n",
              "      <td>max f1</td>\n",
              "      <td>0.119303</td>\n",
              "      <td>0.456140</td>\n",
              "      <td>37.0</td>\n",
              "    </tr>\n",
              "    <tr>\n",
              "      <th>1</th>\n",
              "      <td>max f2</td>\n",
              "      <td>0.067548</td>\n",
              "      <td>0.583942</td>\n",
              "      <td>60.0</td>\n",
              "    </tr>\n",
              "    <tr>\n",
              "      <th>2</th>\n",
              "      <td>max f0point5</td>\n",
              "      <td>0.259743</td>\n",
              "      <td>0.439560</td>\n",
              "      <td>17.0</td>\n",
              "    </tr>\n",
              "    <tr>\n",
              "      <th>3</th>\n",
              "      <td>max accuracy</td>\n",
              "      <td>0.560944</td>\n",
              "      <td>0.866197</td>\n",
              "      <td>3.0</td>\n",
              "    </tr>\n",
              "    <tr>\n",
              "      <th>4</th>\n",
              "      <td>max precision</td>\n",
              "      <td>0.560944</td>\n",
              "      <td>0.500000</td>\n",
              "      <td>3.0</td>\n",
              "    </tr>\n",
              "    <tr>\n",
              "      <th>5</th>\n",
              "      <td>max recall</td>\n",
              "      <td>0.015485</td>\n",
              "      <td>1.000000</td>\n",
              "      <td>127.0</td>\n",
              "    </tr>\n",
              "    <tr>\n",
              "      <th>6</th>\n",
              "      <td>max specificity</td>\n",
              "      <td>0.594685</td>\n",
              "      <td>0.991870</td>\n",
              "      <td>0.0</td>\n",
              "    </tr>\n",
              "    <tr>\n",
              "      <th>7</th>\n",
              "      <td>max absolute_mcc</td>\n",
              "      <td>0.119303</td>\n",
              "      <td>0.369852</td>\n",
              "      <td>37.0</td>\n",
              "    </tr>\n",
              "    <tr>\n",
              "      <th>8</th>\n",
              "      <td>max min_per_class_accuracy</td>\n",
              "      <td>0.096911</td>\n",
              "      <td>0.731707</td>\n",
              "      <td>46.0</td>\n",
              "    </tr>\n",
              "    <tr>\n",
              "      <th>9</th>\n",
              "      <td>max mean_per_class_accuracy</td>\n",
              "      <td>0.119303</td>\n",
              "      <td>0.740479</td>\n",
              "      <td>37.0</td>\n",
              "    </tr>\n",
              "    <tr>\n",
              "      <th>10</th>\n",
              "      <td>max tns</td>\n",
              "      <td>0.594685</td>\n",
              "      <td>122.000000</td>\n",
              "      <td>0.0</td>\n",
              "    </tr>\n",
              "    <tr>\n",
              "      <th>11</th>\n",
              "      <td>max fns</td>\n",
              "      <td>0.594685</td>\n",
              "      <td>19.000000</td>\n",
              "      <td>0.0</td>\n",
              "    </tr>\n",
              "    <tr>\n",
              "      <th>12</th>\n",
              "      <td>max fps</td>\n",
              "      <td>0.003418</td>\n",
              "      <td>123.000000</td>\n",
              "      <td>141.0</td>\n",
              "    </tr>\n",
              "    <tr>\n",
              "      <th>13</th>\n",
              "      <td>max tps</td>\n",
              "      <td>0.015485</td>\n",
              "      <td>19.000000</td>\n",
              "      <td>127.0</td>\n",
              "    </tr>\n",
              "    <tr>\n",
              "      <th>14</th>\n",
              "      <td>max tnr</td>\n",
              "      <td>0.594685</td>\n",
              "      <td>0.991870</td>\n",
              "      <td>0.0</td>\n",
              "    </tr>\n",
              "    <tr>\n",
              "      <th>15</th>\n",
              "      <td>max fnr</td>\n",
              "      <td>0.594685</td>\n",
              "      <td>1.000000</td>\n",
              "      <td>0.0</td>\n",
              "    </tr>\n",
              "    <tr>\n",
              "      <th>16</th>\n",
              "      <td>max fpr</td>\n",
              "      <td>0.003418</td>\n",
              "      <td>1.000000</td>\n",
              "      <td>141.0</td>\n",
              "    </tr>\n",
              "    <tr>\n",
              "      <th>17</th>\n",
              "      <td>max tpr</td>\n",
              "      <td>0.015485</td>\n",
              "      <td>1.000000</td>\n",
              "      <td>127.0</td>\n",
              "    </tr>\n",
              "  </tbody>\n",
              "</table>\n",
              "</div>"
            ],
            "text/plain": [
              "                         metric  threshold       value    idx\n",
              "0                        max f1   0.119303    0.456140   37.0\n",
              "1                        max f2   0.067548    0.583942   60.0\n",
              "2                  max f0point5   0.259743    0.439560   17.0\n",
              "3                  max accuracy   0.560944    0.866197    3.0\n",
              "4                 max precision   0.560944    0.500000    3.0\n",
              "5                    max recall   0.015485    1.000000  127.0\n",
              "6               max specificity   0.594685    0.991870    0.0\n",
              "7              max absolute_mcc   0.119303    0.369852   37.0\n",
              "8    max min_per_class_accuracy   0.096911    0.731707   46.0\n",
              "9   max mean_per_class_accuracy   0.119303    0.740479   37.0\n",
              "10                      max tns   0.594685  122.000000    0.0\n",
              "11                      max fns   0.594685   19.000000    0.0\n",
              "12                      max fps   0.003418  123.000000  141.0\n",
              "13                      max tps   0.015485   19.000000  127.0\n",
              "14                      max tnr   0.594685    0.991870    0.0\n",
              "15                      max fnr   0.594685    1.000000    0.0\n",
              "16                      max fpr   0.003418    1.000000  141.0\n",
              "17                      max tpr   0.015485    1.000000  127.0"
            ]
          },
          "metadata": {
            "tags": []
          }
        },
        {
          "output_type": "stream",
          "text": [
            "\n",
            "Gains/Lift Table: Avg response rate: 13.38 %, avg score: 10.99 %\n"
          ],
          "name": "stdout"
        },
        {
          "output_type": "display_data",
          "data": {
            "text/html": [
              "<div>\n",
              "<style scoped>\n",
              "    .dataframe tbody tr th:only-of-type {\n",
              "        vertical-align: middle;\n",
              "    }\n",
              "\n",
              "    .dataframe tbody tr th {\n",
              "        vertical-align: top;\n",
              "    }\n",
              "\n",
              "    .dataframe thead th {\n",
              "        text-align: right;\n",
              "    }\n",
              "</style>\n",
              "<table border=\"1\" class=\"dataframe\">\n",
              "  <thead>\n",
              "    <tr style=\"text-align: right;\">\n",
              "      <th></th>\n",
              "      <th>group</th>\n",
              "      <th>cumulative_data_fraction</th>\n",
              "      <th>lower_threshold</th>\n",
              "      <th>lift</th>\n",
              "      <th>cumulative_lift</th>\n",
              "      <th>response_rate</th>\n",
              "      <th>score</th>\n",
              "      <th>cumulative_response_rate</th>\n",
              "      <th>cumulative_score</th>\n",
              "      <th>capture_rate</th>\n",
              "      <th>cumulative_capture_rate</th>\n",
              "      <th>gain</th>\n",
              "      <th>cumulative_gain</th>\n",
              "      <th>kolmogorov_smirnov</th>\n",
              "    </tr>\n",
              "  </thead>\n",
              "  <tbody>\n",
              "    <tr>\n",
              "      <th>0</th>\n",
              "      <td>1</td>\n",
              "      <td>0.014085</td>\n",
              "      <td>0.583902</td>\n",
              "      <td>0.000000</td>\n",
              "      <td>0.000000</td>\n",
              "      <td>0.000000</td>\n",
              "      <td>0.594341</td>\n",
              "      <td>0.000000</td>\n",
              "      <td>0.594341</td>\n",
              "      <td>0.000000</td>\n",
              "      <td>0.000000</td>\n",
              "      <td>-100.000000</td>\n",
              "      <td>-100.000000</td>\n",
              "      <td>-0.016260</td>\n",
              "    </tr>\n",
              "    <tr>\n",
              "      <th>1</th>\n",
              "      <td>2</td>\n",
              "      <td>0.021127</td>\n",
              "      <td>0.562462</td>\n",
              "      <td>7.473684</td>\n",
              "      <td>2.491228</td>\n",
              "      <td>1.000000</td>\n",
              "      <td>0.569375</td>\n",
              "      <td>0.333333</td>\n",
              "      <td>0.586019</td>\n",
              "      <td>0.052632</td>\n",
              "      <td>0.052632</td>\n",
              "      <td>647.368421</td>\n",
              "      <td>149.122807</td>\n",
              "      <td>0.036371</td>\n",
              "    </tr>\n",
              "    <tr>\n",
              "      <th>2</th>\n",
              "      <td>3</td>\n",
              "      <td>0.035211</td>\n",
              "      <td>0.495367</td>\n",
              "      <td>3.736842</td>\n",
              "      <td>2.989474</td>\n",
              "      <td>0.500000</td>\n",
              "      <td>0.528531</td>\n",
              "      <td>0.400000</td>\n",
              "      <td>0.563024</td>\n",
              "      <td>0.052632</td>\n",
              "      <td>0.105263</td>\n",
              "      <td>273.684211</td>\n",
              "      <td>198.947368</td>\n",
              "      <td>0.080873</td>\n",
              "    </tr>\n",
              "    <tr>\n",
              "      <th>3</th>\n",
              "      <td>4</td>\n",
              "      <td>0.042254</td>\n",
              "      <td>0.492757</td>\n",
              "      <td>0.000000</td>\n",
              "      <td>2.491228</td>\n",
              "      <td>0.000000</td>\n",
              "      <td>0.492850</td>\n",
              "      <td>0.333333</td>\n",
              "      <td>0.551328</td>\n",
              "      <td>0.000000</td>\n",
              "      <td>0.105263</td>\n",
              "      <td>-100.000000</td>\n",
              "      <td>149.122807</td>\n",
              "      <td>0.072743</td>\n",
              "    </tr>\n",
              "    <tr>\n",
              "      <th>4</th>\n",
              "      <td>5</td>\n",
              "      <td>0.056338</td>\n",
              "      <td>0.434463</td>\n",
              "      <td>3.736842</td>\n",
              "      <td>2.802632</td>\n",
              "      <td>0.500000</td>\n",
              "      <td>0.464664</td>\n",
              "      <td>0.375000</td>\n",
              "      <td>0.529662</td>\n",
              "      <td>0.052632</td>\n",
              "      <td>0.157895</td>\n",
              "      <td>273.684211</td>\n",
              "      <td>180.263158</td>\n",
              "      <td>0.117244</td>\n",
              "    </tr>\n",
              "    <tr>\n",
              "      <th>5</th>\n",
              "      <td>6</td>\n",
              "      <td>0.105634</td>\n",
              "      <td>0.279777</td>\n",
              "      <td>3.203008</td>\n",
              "      <td>2.989474</td>\n",
              "      <td>0.428571</td>\n",
              "      <td>0.361548</td>\n",
              "      <td>0.400000</td>\n",
              "      <td>0.451209</td>\n",
              "      <td>0.157895</td>\n",
              "      <td>0.315789</td>\n",
              "      <td>220.300752</td>\n",
              "      <td>198.947368</td>\n",
              "      <td>0.242619</td>\n",
              "    </tr>\n",
              "    <tr>\n",
              "      <th>6</th>\n",
              "      <td>7</td>\n",
              "      <td>0.154930</td>\n",
              "      <td>0.218428</td>\n",
              "      <td>3.203008</td>\n",
              "      <td>3.057416</td>\n",
              "      <td>0.428571</td>\n",
              "      <td>0.248561</td>\n",
              "      <td>0.409091</td>\n",
              "      <td>0.386730</td>\n",
              "      <td>0.157895</td>\n",
              "      <td>0.473684</td>\n",
              "      <td>220.300752</td>\n",
              "      <td>205.741627</td>\n",
              "      <td>0.367993</td>\n",
              "    </tr>\n",
              "    <tr>\n",
              "      <th>7</th>\n",
              "      <td>8</td>\n",
              "      <td>0.204225</td>\n",
              "      <td>0.161200</td>\n",
              "      <td>1.067669</td>\n",
              "      <td>2.577132</td>\n",
              "      <td>0.142857</td>\n",
              "      <td>0.183883</td>\n",
              "      <td>0.344828</td>\n",
              "      <td>0.337767</td>\n",
              "      <td>0.052632</td>\n",
              "      <td>0.526316</td>\n",
              "      <td>6.766917</td>\n",
              "      <td>157.713249</td>\n",
              "      <td>0.371844</td>\n",
              "    </tr>\n",
              "    <tr>\n",
              "      <th>8</th>\n",
              "      <td>9</td>\n",
              "      <td>0.302817</td>\n",
              "      <td>0.101564</td>\n",
              "      <td>1.601504</td>\n",
              "      <td>2.259486</td>\n",
              "      <td>0.214286</td>\n",
              "      <td>0.127508</td>\n",
              "      <td>0.302326</td>\n",
              "      <td>0.269311</td>\n",
              "      <td>0.157895</td>\n",
              "      <td>0.684211</td>\n",
              "      <td>60.150376</td>\n",
              "      <td>125.948592</td>\n",
              "      <td>0.440308</td>\n",
              "    </tr>\n",
              "    <tr>\n",
              "      <th>9</th>\n",
              "      <td>10</td>\n",
              "      <td>0.401408</td>\n",
              "      <td>0.077574</td>\n",
              "      <td>1.067669</td>\n",
              "      <td>1.966759</td>\n",
              "      <td>0.142857</td>\n",
              "      <td>0.089694</td>\n",
              "      <td>0.263158</td>\n",
              "      <td>0.225194</td>\n",
              "      <td>0.105263</td>\n",
              "      <td>0.789474</td>\n",
              "      <td>6.766917</td>\n",
              "      <td>96.675900</td>\n",
              "      <td>0.448010</td>\n",
              "    </tr>\n",
              "    <tr>\n",
              "      <th>10</th>\n",
              "      <td>11</td>\n",
              "      <td>0.500000</td>\n",
              "      <td>0.052811</td>\n",
              "      <td>1.067669</td>\n",
              "      <td>1.789474</td>\n",
              "      <td>0.142857</td>\n",
              "      <td>0.063958</td>\n",
              "      <td>0.239437</td>\n",
              "      <td>0.193401</td>\n",
              "      <td>0.105263</td>\n",
              "      <td>0.894737</td>\n",
              "      <td>6.766917</td>\n",
              "      <td>78.947368</td>\n",
              "      <td>0.455712</td>\n",
              "    </tr>\n",
              "    <tr>\n",
              "      <th>11</th>\n",
              "      <td>12</td>\n",
              "      <td>0.598592</td>\n",
              "      <td>0.039885</td>\n",
              "      <td>0.000000</td>\n",
              "      <td>1.494737</td>\n",
              "      <td>0.000000</td>\n",
              "      <td>0.044317</td>\n",
              "      <td>0.200000</td>\n",
              "      <td>0.168846</td>\n",
              "      <td>0.000000</td>\n",
              "      <td>0.894737</td>\n",
              "      <td>-100.000000</td>\n",
              "      <td>49.473684</td>\n",
              "      <td>0.341891</td>\n",
              "    </tr>\n",
              "    <tr>\n",
              "      <th>12</th>\n",
              "      <td>13</td>\n",
              "      <td>0.697183</td>\n",
              "      <td>0.027820</td>\n",
              "      <td>0.533835</td>\n",
              "      <td>1.358852</td>\n",
              "      <td>0.071429</td>\n",
              "      <td>0.033686</td>\n",
              "      <td>0.181818</td>\n",
              "      <td>0.149733</td>\n",
              "      <td>0.052632</td>\n",
              "      <td>0.947368</td>\n",
              "      <td>-46.616541</td>\n",
              "      <td>35.885167</td>\n",
              "      <td>0.288832</td>\n",
              "    </tr>\n",
              "    <tr>\n",
              "      <th>13</th>\n",
              "      <td>14</td>\n",
              "      <td>0.795775</td>\n",
              "      <td>0.021368</td>\n",
              "      <td>0.000000</td>\n",
              "      <td>1.190498</td>\n",
              "      <td>0.000000</td>\n",
              "      <td>0.024679</td>\n",
              "      <td>0.159292</td>\n",
              "      <td>0.134239</td>\n",
              "      <td>0.000000</td>\n",
              "      <td>0.947368</td>\n",
              "      <td>-100.000000</td>\n",
              "      <td>19.049837</td>\n",
              "      <td>0.175011</td>\n",
              "    </tr>\n",
              "    <tr>\n",
              "      <th>14</th>\n",
              "      <td>15</td>\n",
              "      <td>0.894366</td>\n",
              "      <td>0.015488</td>\n",
              "      <td>0.000000</td>\n",
              "      <td>1.059262</td>\n",
              "      <td>0.000000</td>\n",
              "      <td>0.018823</td>\n",
              "      <td>0.141732</td>\n",
              "      <td>0.121516</td>\n",
              "      <td>0.000000</td>\n",
              "      <td>0.947368</td>\n",
              "      <td>-100.000000</td>\n",
              "      <td>5.926233</td>\n",
              "      <td>0.061190</td>\n",
              "    </tr>\n",
              "    <tr>\n",
              "      <th>15</th>\n",
              "      <td>16</td>\n",
              "      <td>1.000000</td>\n",
              "      <td>0.003418</td>\n",
              "      <td>0.498246</td>\n",
              "      <td>1.000000</td>\n",
              "      <td>0.066667</td>\n",
              "      <td>0.011095</td>\n",
              "      <td>0.133803</td>\n",
              "      <td>0.109852</td>\n",
              "      <td>0.052632</td>\n",
              "      <td>1.000000</td>\n",
              "      <td>-50.175439</td>\n",
              "      <td>0.000000</td>\n",
              "      <td>0.000000</td>\n",
              "    </tr>\n",
              "  </tbody>\n",
              "</table>\n",
              "</div>"
            ],
            "text/plain": [
              "    group  cumulative_data_fraction  ...  cumulative_gain  kolmogorov_smirnov\n",
              "0       1                  0.014085  ...      -100.000000           -0.016260\n",
              "1       2                  0.021127  ...       149.122807            0.036371\n",
              "2       3                  0.035211  ...       198.947368            0.080873\n",
              "3       4                  0.042254  ...       149.122807            0.072743\n",
              "4       5                  0.056338  ...       180.263158            0.117244\n",
              "5       6                  0.105634  ...       198.947368            0.242619\n",
              "6       7                  0.154930  ...       205.741627            0.367993\n",
              "7       8                  0.204225  ...       157.713249            0.371844\n",
              "8       9                  0.302817  ...       125.948592            0.440308\n",
              "9      10                  0.401408  ...        96.675900            0.448010\n",
              "10     11                  0.500000  ...        78.947368            0.455712\n",
              "11     12                  0.598592  ...        49.473684            0.341891\n",
              "12     13                  0.697183  ...        35.885167            0.288832\n",
              "13     14                  0.795775  ...        19.049837            0.175011\n",
              "14     15                  0.894366  ...         5.926233            0.061190\n",
              "15     16                  1.000000  ...         0.000000            0.000000\n",
              "\n",
              "[16 rows x 14 columns]"
            ]
          },
          "metadata": {
            "tags": []
          }
        },
        {
          "output_type": "stream",
          "text": [
            "\n"
          ],
          "name": "stdout"
        },
        {
          "output_type": "execute_result",
          "data": {
            "text/plain": [
              ""
            ]
          },
          "metadata": {
            "tags": []
          },
          "execution_count": 73
        }
      ]
    },
    {
      "cell_type": "code",
      "metadata": {
        "id": "TCcG78MRcdSo"
      },
      "source": [
        "def pipeline_xgb_grid(data, target_column, cols_to_remove, split_ratio):\r\n",
        "    data = h2o.H2OFrame(data)\r\n",
        "    predictors = data.col_names\r\n",
        "    predictors.remove(target_column)\r\n",
        "    data[target_column] = data[target_column].asfactor()\r\n",
        "    #data = data.drop(cols_to_remove)\r\n",
        "    train, valid, test = data.split_frame(seed = 12345, ratios = split_ratio)\r\n",
        "    target = target_column\r\n",
        "    hyperparams_tune = {\r\n",
        "    'max_depth' : list(range(2, 6, 1)),\r\n",
        "    'sample_rate' : [x/100. for x in range(20,101)],\r\n",
        "    'col_sample_rate' : [x/100. for x in range(20,101)],\r\n",
        "    'min_split_improvement': [0, 1e-8, 1e-6, 1e-4]}\r\n",
        "\r\n",
        "    search_criteria_tune = {\r\n",
        "    'strategy' : \"RandomDiscrete\",\r\n",
        "    'max_runtime_secs' : 300,  ## limit the runtime to 5 minutes\r\n",
        "    'max_models' : 15,  ## build no more than 15 models\r\n",
        "    'stopping_rounds' : 5,\r\n",
        "    'stopping_metric' : \"AUC\",\r\n",
        "    'stopping_tolerance': 1e-3}\r\n",
        "    xgb_final_grid = H2OGradientBoostingEstimator(\r\n",
        "    ## More trees is better if the learning rate is small enough\r\n",
        "    ## we use \"more than enough\" trees with early stopping\r\n",
        "    ntrees = 10000,\r\n",
        "    ## we use learn rate with annealing for a fast scan\r\n",
        "    learn_rate = 0.05,\r\n",
        "    learn_rate_annealing = 0.99,\r\n",
        "    ## Score every 10 trees to make early stopping reproducible\r\n",
        "    score_tree_interval = 10,\r\n",
        "    ## Set seed for reproducibility\r\n",
        "    seed = 12345,\r\n",
        "    ## Balansing of classes\r\n",
        "    balance_classes = True,\r\n",
        "    keep_cross_validation_predictions = True)\r\n",
        "    final_grid = H2OGridSearch(\r\n",
        "    _final_grid,\r\n",
        "    hyper_params = hyperparams_tune,\r\n",
        "    search_criteria = search_criteria_tune)\r\n",
        "    final_grid.train(x = predictors,\r\n",
        "           y = target,\r\n",
        "           training_frame = train,\r\n",
        "           validation_frame = valid, \r\n",
        "           max_runtime_secs = 180) # can override setting in search_criteria_tune\r\n",
        "    sorted_xgb_grid = final_grid.get_grid(sort_by = 'auc', decreasing = True)\r\n",
        "    best_xgb = sorted_xgb_grid.models[0]\r\n",
        "    best_xgb_perf_valid = best_xgb.model_performance(valid)\r\n",
        "    best_xgb_perf_test = best_xgb.model_performance(test)\r\n",
        "    params_list = []\r\n",
        "    for key, value in best_xgb.params.items():\r\n",
        "      params_list.append(str(key)+\" = \"+str(value['actual']))\r\n",
        "    return  best_xgb_perf_valid#best_xgb_perf_valid.aucpr(), best_xgb_perf_test.aucpr(), params_list"
      ],
      "execution_count": null,
      "outputs": []
    },
    {
      "cell_type": "code",
      "metadata": {
        "id": "DHuxGHQ6x9uU",
        "colab": {
          "base_uri": "https://localhost:8080/",
          "height": 1000
        },
        "outputId": "98bb392a-77eb-42b6-a911-d58b13d776ba"
      },
      "source": [
        "pipeline_xgb_grid(data = df, target_column = 'Ab_ind',  split_ratio = [.7, .15])"
      ],
      "execution_count": null,
      "outputs": [
        {
          "output_type": "stream",
          "text": [
            "Parse progress: |█████████████████████████████████████████████████████████| 100%\n",
            "gbm Grid Build progress: |████████████████████████████████████████████████| 100%\n",
            "\n",
            "ModelMetricsBinomial: gbm\n",
            "** Reported on test data. **\n",
            "\n",
            "MSE: 0.10291252754461808\n",
            "RMSE: 0.32079982472660123\n",
            "LogLoss: 0.3387290850456454\n",
            "Mean Per-Class Error: 0.24753958065896442\n",
            "AUC: 0.7770646127513907\n",
            "AUCPR: 0.3275543397104789\n",
            "Gini: 0.5541292255027814\n",
            "\n",
            "Confusion Matrix (Act/Pred) for max f1 @ threshold = 0.11590637196030239: \n"
          ],
          "name": "stdout"
        },
        {
          "output_type": "display_data",
          "data": {
            "text/html": [
              "<div>\n",
              "<style scoped>\n",
              "    .dataframe tbody tr th:only-of-type {\n",
              "        vertical-align: middle;\n",
              "    }\n",
              "\n",
              "    .dataframe tbody tr th {\n",
              "        vertical-align: top;\n",
              "    }\n",
              "\n",
              "    .dataframe thead th {\n",
              "        text-align: right;\n",
              "    }\n",
              "</style>\n",
              "<table border=\"1\" class=\"dataframe\">\n",
              "  <thead>\n",
              "    <tr style=\"text-align: right;\">\n",
              "      <th></th>\n",
              "      <th></th>\n",
              "      <th>0</th>\n",
              "      <th>1</th>\n",
              "      <th>Error</th>\n",
              "      <th>Rate</th>\n",
              "    </tr>\n",
              "  </thead>\n",
              "  <tbody>\n",
              "    <tr>\n",
              "      <th>0</th>\n",
              "      <td>0</td>\n",
              "      <td>88.0</td>\n",
              "      <td>35.0</td>\n",
              "      <td>0.2846</td>\n",
              "      <td>(35.0/123.0)</td>\n",
              "    </tr>\n",
              "    <tr>\n",
              "      <th>1</th>\n",
              "      <td>1</td>\n",
              "      <td>4.0</td>\n",
              "      <td>15.0</td>\n",
              "      <td>0.2105</td>\n",
              "      <td>(4.0/19.0)</td>\n",
              "    </tr>\n",
              "    <tr>\n",
              "      <th>2</th>\n",
              "      <td>Total</td>\n",
              "      <td>92.0</td>\n",
              "      <td>50.0</td>\n",
              "      <td>0.2746</td>\n",
              "      <td>(39.0/142.0)</td>\n",
              "    </tr>\n",
              "  </tbody>\n",
              "</table>\n",
              "</div>"
            ],
            "text/plain": [
              "             0     1   Error           Rate\n",
              "0      0  88.0  35.0  0.2846   (35.0/123.0)\n",
              "1      1   4.0  15.0  0.2105     (4.0/19.0)\n",
              "2  Total  92.0  50.0  0.2746   (39.0/142.0)"
            ]
          },
          "metadata": {
            "tags": []
          }
        },
        {
          "output_type": "stream",
          "text": [
            "\n",
            "Maximum Metrics: Maximum metrics at their respective thresholds\n"
          ],
          "name": "stdout"
        },
        {
          "output_type": "display_data",
          "data": {
            "text/html": [
              "<div>\n",
              "<style scoped>\n",
              "    .dataframe tbody tr th:only-of-type {\n",
              "        vertical-align: middle;\n",
              "    }\n",
              "\n",
              "    .dataframe tbody tr th {\n",
              "        vertical-align: top;\n",
              "    }\n",
              "\n",
              "    .dataframe thead th {\n",
              "        text-align: right;\n",
              "    }\n",
              "</style>\n",
              "<table border=\"1\" class=\"dataframe\">\n",
              "  <thead>\n",
              "    <tr style=\"text-align: right;\">\n",
              "      <th></th>\n",
              "      <th>metric</th>\n",
              "      <th>threshold</th>\n",
              "      <th>value</th>\n",
              "      <th>idx</th>\n",
              "    </tr>\n",
              "  </thead>\n",
              "  <tbody>\n",
              "    <tr>\n",
              "      <th>0</th>\n",
              "      <td>max f1</td>\n",
              "      <td>0.115906</td>\n",
              "      <td>0.434783</td>\n",
              "      <td>49.0</td>\n",
              "    </tr>\n",
              "    <tr>\n",
              "      <th>1</th>\n",
              "      <td>max f2</td>\n",
              "      <td>0.089079</td>\n",
              "      <td>0.598592</td>\n",
              "      <td>65.0</td>\n",
              "    </tr>\n",
              "    <tr>\n",
              "      <th>2</th>\n",
              "      <td>max f0point5</td>\n",
              "      <td>0.407855</td>\n",
              "      <td>0.490196</td>\n",
              "      <td>7.0</td>\n",
              "    </tr>\n",
              "    <tr>\n",
              "      <th>3</th>\n",
              "      <td>max accuracy</td>\n",
              "      <td>0.407855</td>\n",
              "      <td>0.880282</td>\n",
              "      <td>7.0</td>\n",
              "    </tr>\n",
              "    <tr>\n",
              "      <th>4</th>\n",
              "      <td>max precision</td>\n",
              "      <td>0.407855</td>\n",
              "      <td>0.625000</td>\n",
              "      <td>7.0</td>\n",
              "    </tr>\n",
              "    <tr>\n",
              "      <th>5</th>\n",
              "      <td>max recall</td>\n",
              "      <td>0.042642</td>\n",
              "      <td>1.000000</td>\n",
              "      <td>117.0</td>\n",
              "    </tr>\n",
              "    <tr>\n",
              "      <th>6</th>\n",
              "      <td>max specificity</td>\n",
              "      <td>0.635093</td>\n",
              "      <td>0.991870</td>\n",
              "      <td>0.0</td>\n",
              "    </tr>\n",
              "    <tr>\n",
              "      <th>7</th>\n",
              "      <td>max absolute_mcc</td>\n",
              "      <td>0.115906</td>\n",
              "      <td>0.359893</td>\n",
              "      <td>49.0</td>\n",
              "    </tr>\n",
              "    <tr>\n",
              "      <th>8</th>\n",
              "      <td>max min_per_class_accuracy</td>\n",
              "      <td>0.124713</td>\n",
              "      <td>0.736842</td>\n",
              "      <td>45.0</td>\n",
              "    </tr>\n",
              "    <tr>\n",
              "      <th>9</th>\n",
              "      <td>max mean_per_class_accuracy</td>\n",
              "      <td>0.115906</td>\n",
              "      <td>0.752460</td>\n",
              "      <td>49.0</td>\n",
              "    </tr>\n",
              "    <tr>\n",
              "      <th>10</th>\n",
              "      <td>max tns</td>\n",
              "      <td>0.635093</td>\n",
              "      <td>122.000000</td>\n",
              "      <td>0.0</td>\n",
              "    </tr>\n",
              "    <tr>\n",
              "      <th>11</th>\n",
              "      <td>max fns</td>\n",
              "      <td>0.635093</td>\n",
              "      <td>19.000000</td>\n",
              "      <td>0.0</td>\n",
              "    </tr>\n",
              "    <tr>\n",
              "      <th>12</th>\n",
              "      <td>max fps</td>\n",
              "      <td>0.006611</td>\n",
              "      <td>123.000000</td>\n",
              "      <td>141.0</td>\n",
              "    </tr>\n",
              "    <tr>\n",
              "      <th>13</th>\n",
              "      <td>max tps</td>\n",
              "      <td>0.042642</td>\n",
              "      <td>19.000000</td>\n",
              "      <td>117.0</td>\n",
              "    </tr>\n",
              "    <tr>\n",
              "      <th>14</th>\n",
              "      <td>max tnr</td>\n",
              "      <td>0.635093</td>\n",
              "      <td>0.991870</td>\n",
              "      <td>0.0</td>\n",
              "    </tr>\n",
              "    <tr>\n",
              "      <th>15</th>\n",
              "      <td>max fnr</td>\n",
              "      <td>0.635093</td>\n",
              "      <td>1.000000</td>\n",
              "      <td>0.0</td>\n",
              "    </tr>\n",
              "    <tr>\n",
              "      <th>16</th>\n",
              "      <td>max fpr</td>\n",
              "      <td>0.006611</td>\n",
              "      <td>1.000000</td>\n",
              "      <td>141.0</td>\n",
              "    </tr>\n",
              "    <tr>\n",
              "      <th>17</th>\n",
              "      <td>max tpr</td>\n",
              "      <td>0.042642</td>\n",
              "      <td>1.000000</td>\n",
              "      <td>117.0</td>\n",
              "    </tr>\n",
              "  </tbody>\n",
              "</table>\n",
              "</div>"
            ],
            "text/plain": [
              "                         metric  threshold       value    idx\n",
              "0                        max f1   0.115906    0.434783   49.0\n",
              "1                        max f2   0.089079    0.598592   65.0\n",
              "2                  max f0point5   0.407855    0.490196    7.0\n",
              "3                  max accuracy   0.407855    0.880282    7.0\n",
              "4                 max precision   0.407855    0.625000    7.0\n",
              "5                    max recall   0.042642    1.000000  117.0\n",
              "6               max specificity   0.635093    0.991870    0.0\n",
              "7              max absolute_mcc   0.115906    0.359893   49.0\n",
              "8    max min_per_class_accuracy   0.124713    0.736842   45.0\n",
              "9   max mean_per_class_accuracy   0.115906    0.752460   49.0\n",
              "10                      max tns   0.635093  122.000000    0.0\n",
              "11                      max fns   0.635093   19.000000    0.0\n",
              "12                      max fps   0.006611  123.000000  141.0\n",
              "13                      max tps   0.042642   19.000000  117.0\n",
              "14                      max tnr   0.635093    0.991870    0.0\n",
              "15                      max fnr   0.635093    1.000000    0.0\n",
              "16                      max fpr   0.006611    1.000000  141.0\n",
              "17                      max tpr   0.042642    1.000000  117.0"
            ]
          },
          "metadata": {
            "tags": []
          }
        },
        {
          "output_type": "stream",
          "text": [
            "\n",
            "Gains/Lift Table: Avg response rate: 13.38 %, avg score: 12.95 %\n"
          ],
          "name": "stdout"
        },
        {
          "output_type": "display_data",
          "data": {
            "text/html": [
              "<div>\n",
              "<style scoped>\n",
              "    .dataframe tbody tr th:only-of-type {\n",
              "        vertical-align: middle;\n",
              "    }\n",
              "\n",
              "    .dataframe tbody tr th {\n",
              "        vertical-align: top;\n",
              "    }\n",
              "\n",
              "    .dataframe thead th {\n",
              "        text-align: right;\n",
              "    }\n",
              "</style>\n",
              "<table border=\"1\" class=\"dataframe\">\n",
              "  <thead>\n",
              "    <tr style=\"text-align: right;\">\n",
              "      <th></th>\n",
              "      <th>group</th>\n",
              "      <th>cumulative_data_fraction</th>\n",
              "      <th>lower_threshold</th>\n",
              "      <th>lift</th>\n",
              "      <th>cumulative_lift</th>\n",
              "      <th>response_rate</th>\n",
              "      <th>score</th>\n",
              "      <th>cumulative_response_rate</th>\n",
              "      <th>cumulative_score</th>\n",
              "      <th>capture_rate</th>\n",
              "      <th>cumulative_capture_rate</th>\n",
              "      <th>gain</th>\n",
              "      <th>cumulative_gain</th>\n",
              "      <th>kolmogorov_smirnov</th>\n",
              "    </tr>\n",
              "  </thead>\n",
              "  <tbody>\n",
              "    <tr>\n",
              "      <th>0</th>\n",
              "      <td>1</td>\n",
              "      <td>0.014085</td>\n",
              "      <td>0.609986</td>\n",
              "      <td>0.000000</td>\n",
              "      <td>0.000000</td>\n",
              "      <td>0.000000</td>\n",
              "      <td>0.623902</td>\n",
              "      <td>0.000000</td>\n",
              "      <td>0.623902</td>\n",
              "      <td>0.000000</td>\n",
              "      <td>0.000000</td>\n",
              "      <td>-100.000000</td>\n",
              "      <td>-100.000000</td>\n",
              "      <td>-0.016260</td>\n",
              "    </tr>\n",
              "    <tr>\n",
              "      <th>1</th>\n",
              "      <td>2</td>\n",
              "      <td>0.021127</td>\n",
              "      <td>0.536355</td>\n",
              "      <td>7.473684</td>\n",
              "      <td>2.491228</td>\n",
              "      <td>1.000000</td>\n",
              "      <td>0.606064</td>\n",
              "      <td>0.333333</td>\n",
              "      <td>0.617956</td>\n",
              "      <td>0.052632</td>\n",
              "      <td>0.052632</td>\n",
              "      <td>647.368421</td>\n",
              "      <td>149.122807</td>\n",
              "      <td>0.036371</td>\n",
              "    </tr>\n",
              "    <tr>\n",
              "      <th>2</th>\n",
              "      <td>3</td>\n",
              "      <td>0.035211</td>\n",
              "      <td>0.444650</td>\n",
              "      <td>3.736842</td>\n",
              "      <td>2.989474</td>\n",
              "      <td>0.500000</td>\n",
              "      <td>0.483992</td>\n",
              "      <td>0.400000</td>\n",
              "      <td>0.564370</td>\n",
              "      <td>0.052632</td>\n",
              "      <td>0.105263</td>\n",
              "      <td>273.684211</td>\n",
              "      <td>198.947368</td>\n",
              "      <td>0.080873</td>\n",
              "    </tr>\n",
              "    <tr>\n",
              "      <th>3</th>\n",
              "      <td>4</td>\n",
              "      <td>0.042254</td>\n",
              "      <td>0.427374</td>\n",
              "      <td>7.473684</td>\n",
              "      <td>3.736842</td>\n",
              "      <td>1.000000</td>\n",
              "      <td>0.437013</td>\n",
              "      <td>0.500000</td>\n",
              "      <td>0.543144</td>\n",
              "      <td>0.052632</td>\n",
              "      <td>0.157895</td>\n",
              "      <td>647.368421</td>\n",
              "      <td>273.684211</td>\n",
              "      <td>0.133504</td>\n",
              "    </tr>\n",
              "    <tr>\n",
              "      <th>4</th>\n",
              "      <td>5</td>\n",
              "      <td>0.056338</td>\n",
              "      <td>0.407850</td>\n",
              "      <td>7.473684</td>\n",
              "      <td>4.671053</td>\n",
              "      <td>1.000000</td>\n",
              "      <td>0.414904</td>\n",
              "      <td>0.625000</td>\n",
              "      <td>0.511084</td>\n",
              "      <td>0.105263</td>\n",
              "      <td>0.263158</td>\n",
              "      <td>647.368421</td>\n",
              "      <td>367.105263</td>\n",
              "      <td>0.238768</td>\n",
              "    </tr>\n",
              "    <tr>\n",
              "      <th>5</th>\n",
              "      <td>6</td>\n",
              "      <td>0.105634</td>\n",
              "      <td>0.300561</td>\n",
              "      <td>1.067669</td>\n",
              "      <td>2.989474</td>\n",
              "      <td>0.142857</td>\n",
              "      <td>0.354889</td>\n",
              "      <td>0.400000</td>\n",
              "      <td>0.438193</td>\n",
              "      <td>0.052632</td>\n",
              "      <td>0.315789</td>\n",
              "      <td>6.766917</td>\n",
              "      <td>198.947368</td>\n",
              "      <td>0.242619</td>\n",
              "    </tr>\n",
              "    <tr>\n",
              "      <th>6</th>\n",
              "      <td>7</td>\n",
              "      <td>0.154930</td>\n",
              "      <td>0.236162</td>\n",
              "      <td>1.067669</td>\n",
              "      <td>2.377990</td>\n",
              "      <td>0.142857</td>\n",
              "      <td>0.261391</td>\n",
              "      <td>0.318182</td>\n",
              "      <td>0.381938</td>\n",
              "      <td>0.052632</td>\n",
              "      <td>0.368421</td>\n",
              "      <td>6.766917</td>\n",
              "      <td>137.799043</td>\n",
              "      <td>0.246470</td>\n",
              "    </tr>\n",
              "    <tr>\n",
              "      <th>7</th>\n",
              "      <td>8</td>\n",
              "      <td>0.204225</td>\n",
              "      <td>0.172204</td>\n",
              "      <td>2.135338</td>\n",
              "      <td>2.319419</td>\n",
              "      <td>0.285714</td>\n",
              "      <td>0.199859</td>\n",
              "      <td>0.310345</td>\n",
              "      <td>0.337988</td>\n",
              "      <td>0.105263</td>\n",
              "      <td>0.473684</td>\n",
              "      <td>113.533835</td>\n",
              "      <td>131.941924</td>\n",
              "      <td>0.311083</td>\n",
              "    </tr>\n",
              "    <tr>\n",
              "      <th>8</th>\n",
              "      <td>9</td>\n",
              "      <td>0.302817</td>\n",
              "      <td>0.130029</td>\n",
              "      <td>1.601504</td>\n",
              "      <td>2.085679</td>\n",
              "      <td>0.214286</td>\n",
              "      <td>0.150098</td>\n",
              "      <td>0.279070</td>\n",
              "      <td>0.276814</td>\n",
              "      <td>0.157895</td>\n",
              "      <td>0.631579</td>\n",
              "      <td>60.150376</td>\n",
              "      <td>108.567931</td>\n",
              "      <td>0.379546</td>\n",
              "    </tr>\n",
              "    <tr>\n",
              "      <th>9</th>\n",
              "      <td>10</td>\n",
              "      <td>0.401408</td>\n",
              "      <td>0.108982</td>\n",
              "      <td>1.601504</td>\n",
              "      <td>1.966759</td>\n",
              "      <td>0.214286</td>\n",
              "      <td>0.117615</td>\n",
              "      <td>0.263158</td>\n",
              "      <td>0.237713</td>\n",
              "      <td>0.157895</td>\n",
              "      <td>0.789474</td>\n",
              "      <td>60.150376</td>\n",
              "      <td>96.675900</td>\n",
              "      <td>0.448010</td>\n",
              "    </tr>\n",
              "    <tr>\n",
              "      <th>10</th>\n",
              "      <td>11</td>\n",
              "      <td>0.500000</td>\n",
              "      <td>0.081707</td>\n",
              "      <td>1.067669</td>\n",
              "      <td>1.789474</td>\n",
              "      <td>0.142857</td>\n",
              "      <td>0.094917</td>\n",
              "      <td>0.239437</td>\n",
              "      <td>0.209556</td>\n",
              "      <td>0.105263</td>\n",
              "      <td>0.894737</td>\n",
              "      <td>6.766917</td>\n",
              "      <td>78.947368</td>\n",
              "      <td>0.455712</td>\n",
              "    </tr>\n",
              "    <tr>\n",
              "      <th>11</th>\n",
              "      <td>12</td>\n",
              "      <td>0.598592</td>\n",
              "      <td>0.068914</td>\n",
              "      <td>0.000000</td>\n",
              "      <td>1.494737</td>\n",
              "      <td>0.000000</td>\n",
              "      <td>0.074594</td>\n",
              "      <td>0.200000</td>\n",
              "      <td>0.187327</td>\n",
              "      <td>0.000000</td>\n",
              "      <td>0.894737</td>\n",
              "      <td>-100.000000</td>\n",
              "      <td>49.473684</td>\n",
              "      <td>0.341891</td>\n",
              "    </tr>\n",
              "    <tr>\n",
              "      <th>12</th>\n",
              "      <td>13</td>\n",
              "      <td>0.697183</td>\n",
              "      <td>0.057111</td>\n",
              "      <td>0.000000</td>\n",
              "      <td>1.283360</td>\n",
              "      <td>0.000000</td>\n",
              "      <td>0.063159</td>\n",
              "      <td>0.171717</td>\n",
              "      <td>0.169768</td>\n",
              "      <td>0.000000</td>\n",
              "      <td>0.894737</td>\n",
              "      <td>-100.000000</td>\n",
              "      <td>28.335991</td>\n",
              "      <td>0.228070</td>\n",
              "    </tr>\n",
              "    <tr>\n",
              "      <th>13</th>\n",
              "      <td>14</td>\n",
              "      <td>0.795775</td>\n",
              "      <td>0.044535</td>\n",
              "      <td>0.533835</td>\n",
              "      <td>1.190498</td>\n",
              "      <td>0.071429</td>\n",
              "      <td>0.049986</td>\n",
              "      <td>0.159292</td>\n",
              "      <td>0.154928</td>\n",
              "      <td>0.052632</td>\n",
              "      <td>0.947368</td>\n",
              "      <td>-46.616541</td>\n",
              "      <td>19.049837</td>\n",
              "      <td>0.175011</td>\n",
              "    </tr>\n",
              "    <tr>\n",
              "      <th>14</th>\n",
              "      <td>15</td>\n",
              "      <td>0.894366</td>\n",
              "      <td>0.032476</td>\n",
              "      <td>0.533835</td>\n",
              "      <td>1.118110</td>\n",
              "      <td>0.071429</td>\n",
              "      <td>0.039589</td>\n",
              "      <td>0.149606</td>\n",
              "      <td>0.142213</td>\n",
              "      <td>0.052632</td>\n",
              "      <td>1.000000</td>\n",
              "      <td>-46.616541</td>\n",
              "      <td>11.811024</td>\n",
              "      <td>0.121951</td>\n",
              "    </tr>\n",
              "    <tr>\n",
              "      <th>15</th>\n",
              "      <td>16</td>\n",
              "      <td>1.000000</td>\n",
              "      <td>0.006611</td>\n",
              "      <td>0.000000</td>\n",
              "      <td>1.000000</td>\n",
              "      <td>0.000000</td>\n",
              "      <td>0.021974</td>\n",
              "      <td>0.133803</td>\n",
              "      <td>0.129512</td>\n",
              "      <td>0.000000</td>\n",
              "      <td>1.000000</td>\n",
              "      <td>-100.000000</td>\n",
              "      <td>0.000000</td>\n",
              "      <td>0.000000</td>\n",
              "    </tr>\n",
              "  </tbody>\n",
              "</table>\n",
              "</div>"
            ],
            "text/plain": [
              "    group  cumulative_data_fraction  ...  cumulative_gain  kolmogorov_smirnov\n",
              "0       1                  0.014085  ...      -100.000000           -0.016260\n",
              "1       2                  0.021127  ...       149.122807            0.036371\n",
              "2       3                  0.035211  ...       198.947368            0.080873\n",
              "3       4                  0.042254  ...       273.684211            0.133504\n",
              "4       5                  0.056338  ...       367.105263            0.238768\n",
              "5       6                  0.105634  ...       198.947368            0.242619\n",
              "6       7                  0.154930  ...       137.799043            0.246470\n",
              "7       8                  0.204225  ...       131.941924            0.311083\n",
              "8       9                  0.302817  ...       108.567931            0.379546\n",
              "9      10                  0.401408  ...        96.675900            0.448010\n",
              "10     11                  0.500000  ...        78.947368            0.455712\n",
              "11     12                  0.598592  ...        49.473684            0.341891\n",
              "12     13                  0.697183  ...        28.335991            0.228070\n",
              "13     14                  0.795775  ...        19.049837            0.175011\n",
              "14     15                  0.894366  ...        11.811024            0.121951\n",
              "15     16                  1.000000  ...         0.000000            0.000000\n",
              "\n",
              "[16 rows x 14 columns]"
            ]
          },
          "metadata": {
            "tags": []
          }
        },
        {
          "output_type": "stream",
          "text": [
            "\n"
          ],
          "name": "stdout"
        },
        {
          "output_type": "execute_result",
          "data": {
            "text/plain": [
              ""
            ]
          },
          "metadata": {
            "tags": []
          },
          "execution_count": 77
        }
      ]
    },
    {
      "cell_type": "code",
      "metadata": {
        "id": "tbtj464EvWEJ"
      },
      "source": [
        "def pipeline_random_forest_grid(data, target_column, split_ratio):\r\n",
        "    data = h2o.H2OFrame(data)\r\n",
        "    predictors = data.col_names\r\n",
        "    predictors.remove(target_column)\r\n",
        "    data[target_column] = data[target_column].asfactor()\r\n",
        "    train, valid, test = data.split_frame(seed = 12345, ratios = split_ratio)\r\n",
        "    target = target_column\r\n",
        "    hyperparams_tune = {\r\n",
        "    'max_depth' : list(range(2, 6, 1)),\r\n",
        "    'sample_rate' : [x/100. for x in range(20,101)],\r\n",
        "    'min_split_improvement': [0, 1e-8, 1e-6, 1e-4]}\r\n",
        "\r\n",
        "    search_criteria_tune = {\r\n",
        "    'strategy' : \"RandomDiscrete\",\r\n",
        "    'max_runtime_secs' : 300,  ## limit the runtime to 5 minutes\r\n",
        "    'max_models' : 15,  ## build no more than 15 models\r\n",
        "    'stopping_rounds' : 5,\r\n",
        "    'stopping_metric' : \"AUC\",\r\n",
        "    'stopping_tolerance': 1e-3}\r\n",
        "    drf_final_grid = H2ORandomForestEstimator(\r\n",
        "    ## More trees is better if the learning rate is small enough\r\n",
        "    ## we use \"more than enough\" trees with early stopping\r\n",
        "    ntrees = 10000,\r\n",
        "    ## Score every 10 trees to make early stopping reproducible\r\n",
        "    score_tree_interval = 10,\r\n",
        "    ## Set seed for reproducibility\r\n",
        "    seed = 12345,\r\n",
        "    ## Balansing of classes\r\n",
        "    balance_classes = True,\r\n",
        "    keep_cross_validation_predictions = True)\r\n",
        "    final_grid = H2OGridSearch(\r\n",
        "    drf_final_grid,\r\n",
        "    hyper_params = hyperparams_tune,\r\n",
        "    search_criteria = search_criteria_tune)\r\n",
        "    final_grid.train(x = predictors,\r\n",
        "           y = target,\r\n",
        "           training_frame = train,\r\n",
        "           validation_frame = valid, \r\n",
        "           max_runtime_secs = 180) # can override setting in search_criteria_tune\r\n",
        "    sorted_drf_grid = final_grid.get_grid(sort_by = 'auc', decreasing = True)\r\n",
        "    best_drf = sorted_drf_grid.models[0]\r\n",
        "    best_drf_perf_valid = best_drf.model_performance(valid)\r\n",
        "    best_drf_perf_test = best_drf.model_performance(test)\r\n",
        "    params_list = []\r\n",
        "    for key, value in best_drf.params.items():\r\n",
        "      params_list.append(str(key)+\" = \"+str(value['actual']))\r\n",
        "    return  best_drf_perf_valid#best_drf_perf_valid.aucpr(), best_drf_perf_test.aucpr(), params_list"
      ],
      "execution_count": null,
      "outputs": []
    },
    {
      "cell_type": "code",
      "metadata": {
        "colab": {
          "base_uri": "https://localhost:8080/",
          "height": 1000
        },
        "id": "na0r-toSvWKu",
        "outputId": "c7219e4a-8880-435d-cf2f-909fe4851301"
      },
      "source": [
        "pipeline_random_forest_grid(data = df, target_column = 'Ab_ind',  split_ratio = [.7, .15])"
      ],
      "execution_count": null,
      "outputs": [
        {
          "output_type": "stream",
          "text": [
            "Parse progress: |█████████████████████████████████████████████████████████| 100%\n",
            "drf Grid Build progress: |████████████████████████████████████████████████| 100%\n",
            "\n",
            "ModelMetricsBinomial: drf\n",
            "** Reported on test data. **\n",
            "\n",
            "MSE: 0.1066003259897037\n",
            "RMSE: 0.3264970535697125\n",
            "LogLoss: 0.35419063537150947\n",
            "Mean Per-Class Error: 0.2779204107830553\n",
            "AUC: 0.7441163885323063\n",
            "AUCPR: 0.2910462742790633\n",
            "Gini: 0.48823277706461266\n",
            "\n",
            "Confusion Matrix (Act/Pred) for max f1 @ threshold = 0.23309660150201092: \n"
          ],
          "name": "stdout"
        },
        {
          "output_type": "display_data",
          "data": {
            "text/html": [
              "<div>\n",
              "<style scoped>\n",
              "    .dataframe tbody tr th:only-of-type {\n",
              "        vertical-align: middle;\n",
              "    }\n",
              "\n",
              "    .dataframe tbody tr th {\n",
              "        vertical-align: top;\n",
              "    }\n",
              "\n",
              "    .dataframe thead th {\n",
              "        text-align: right;\n",
              "    }\n",
              "</style>\n",
              "<table border=\"1\" class=\"dataframe\">\n",
              "  <thead>\n",
              "    <tr style=\"text-align: right;\">\n",
              "      <th></th>\n",
              "      <th></th>\n",
              "      <th>0</th>\n",
              "      <th>1</th>\n",
              "      <th>Error</th>\n",
              "      <th>Rate</th>\n",
              "    </tr>\n",
              "  </thead>\n",
              "  <tbody>\n",
              "    <tr>\n",
              "      <th>0</th>\n",
              "      <td>0</td>\n",
              "      <td>114.0</td>\n",
              "      <td>9.0</td>\n",
              "      <td>0.0732</td>\n",
              "      <td>(9.0/123.0)</td>\n",
              "    </tr>\n",
              "    <tr>\n",
              "      <th>1</th>\n",
              "      <td>1</td>\n",
              "      <td>11.0</td>\n",
              "      <td>8.0</td>\n",
              "      <td>0.5789</td>\n",
              "      <td>(11.0/19.0)</td>\n",
              "    </tr>\n",
              "    <tr>\n",
              "      <th>2</th>\n",
              "      <td>Total</td>\n",
              "      <td>125.0</td>\n",
              "      <td>17.0</td>\n",
              "      <td>0.1408</td>\n",
              "      <td>(20.0/142.0)</td>\n",
              "    </tr>\n",
              "  </tbody>\n",
              "</table>\n",
              "</div>"
            ],
            "text/plain": [
              "              0     1   Error           Rate\n",
              "0      0  114.0   9.0  0.0732    (9.0/123.0)\n",
              "1      1   11.0   8.0  0.5789    (11.0/19.0)\n",
              "2  Total  125.0  17.0  0.1408   (20.0/142.0)"
            ]
          },
          "metadata": {
            "tags": []
          }
        },
        {
          "output_type": "stream",
          "text": [
            "\n",
            "Maximum Metrics: Maximum metrics at their respective thresholds\n"
          ],
          "name": "stdout"
        },
        {
          "output_type": "display_data",
          "data": {
            "text/html": [
              "<div>\n",
              "<style scoped>\n",
              "    .dataframe tbody tr th:only-of-type {\n",
              "        vertical-align: middle;\n",
              "    }\n",
              "\n",
              "    .dataframe tbody tr th {\n",
              "        vertical-align: top;\n",
              "    }\n",
              "\n",
              "    .dataframe thead th {\n",
              "        text-align: right;\n",
              "    }\n",
              "</style>\n",
              "<table border=\"1\" class=\"dataframe\">\n",
              "  <thead>\n",
              "    <tr style=\"text-align: right;\">\n",
              "      <th></th>\n",
              "      <th>metric</th>\n",
              "      <th>threshold</th>\n",
              "      <th>value</th>\n",
              "      <th>idx</th>\n",
              "    </tr>\n",
              "  </thead>\n",
              "  <tbody>\n",
              "    <tr>\n",
              "      <th>0</th>\n",
              "      <td>max f1</td>\n",
              "      <td>0.233097</td>\n",
              "      <td>0.444444</td>\n",
              "      <td>16.0</td>\n",
              "    </tr>\n",
              "    <tr>\n",
              "      <th>1</th>\n",
              "      <td>max f2</td>\n",
              "      <td>0.106689</td>\n",
              "      <td>0.563380</td>\n",
              "      <td>65.0</td>\n",
              "    </tr>\n",
              "    <tr>\n",
              "      <th>2</th>\n",
              "      <td>max f0point5</td>\n",
              "      <td>0.233097</td>\n",
              "      <td>0.459770</td>\n",
              "      <td>16.0</td>\n",
              "    </tr>\n",
              "    <tr>\n",
              "      <th>3</th>\n",
              "      <td>max accuracy</td>\n",
              "      <td>0.533160</td>\n",
              "      <td>0.859155</td>\n",
              "      <td>0.0</td>\n",
              "    </tr>\n",
              "    <tr>\n",
              "      <th>4</th>\n",
              "      <td>max precision</td>\n",
              "      <td>0.233097</td>\n",
              "      <td>0.470588</td>\n",
              "      <td>16.0</td>\n",
              "    </tr>\n",
              "    <tr>\n",
              "      <th>5</th>\n",
              "      <td>max recall</td>\n",
              "      <td>0.063407</td>\n",
              "      <td>1.000000</td>\n",
              "      <td>122.0</td>\n",
              "    </tr>\n",
              "    <tr>\n",
              "      <th>6</th>\n",
              "      <td>max specificity</td>\n",
              "      <td>0.533160</td>\n",
              "      <td>0.991870</td>\n",
              "      <td>0.0</td>\n",
              "    </tr>\n",
              "    <tr>\n",
              "      <th>7</th>\n",
              "      <td>max absolute_mcc</td>\n",
              "      <td>0.233097</td>\n",
              "      <td>0.364823</td>\n",
              "      <td>16.0</td>\n",
              "    </tr>\n",
              "    <tr>\n",
              "      <th>8</th>\n",
              "      <td>max min_per_class_accuracy</td>\n",
              "      <td>0.123094</td>\n",
              "      <td>0.707317</td>\n",
              "      <td>49.0</td>\n",
              "    </tr>\n",
              "    <tr>\n",
              "      <th>9</th>\n",
              "      <td>max mean_per_class_accuracy</td>\n",
              "      <td>0.123094</td>\n",
              "      <td>0.722080</td>\n",
              "      <td>49.0</td>\n",
              "    </tr>\n",
              "    <tr>\n",
              "      <th>10</th>\n",
              "      <td>max tns</td>\n",
              "      <td>0.533160</td>\n",
              "      <td>122.000000</td>\n",
              "      <td>0.0</td>\n",
              "    </tr>\n",
              "    <tr>\n",
              "      <th>11</th>\n",
              "      <td>max fns</td>\n",
              "      <td>0.533160</td>\n",
              "      <td>19.000000</td>\n",
              "      <td>0.0</td>\n",
              "    </tr>\n",
              "    <tr>\n",
              "      <th>12</th>\n",
              "      <td>max fps</td>\n",
              "      <td>0.028506</td>\n",
              "      <td>123.000000</td>\n",
              "      <td>141.0</td>\n",
              "    </tr>\n",
              "    <tr>\n",
              "      <th>13</th>\n",
              "      <td>max tps</td>\n",
              "      <td>0.063407</td>\n",
              "      <td>19.000000</td>\n",
              "      <td>122.0</td>\n",
              "    </tr>\n",
              "    <tr>\n",
              "      <th>14</th>\n",
              "      <td>max tnr</td>\n",
              "      <td>0.533160</td>\n",
              "      <td>0.991870</td>\n",
              "      <td>0.0</td>\n",
              "    </tr>\n",
              "    <tr>\n",
              "      <th>15</th>\n",
              "      <td>max fnr</td>\n",
              "      <td>0.533160</td>\n",
              "      <td>1.000000</td>\n",
              "      <td>0.0</td>\n",
              "    </tr>\n",
              "    <tr>\n",
              "      <th>16</th>\n",
              "      <td>max fpr</td>\n",
              "      <td>0.028506</td>\n",
              "      <td>1.000000</td>\n",
              "      <td>141.0</td>\n",
              "    </tr>\n",
              "    <tr>\n",
              "      <th>17</th>\n",
              "      <td>max tpr</td>\n",
              "      <td>0.063407</td>\n",
              "      <td>1.000000</td>\n",
              "      <td>122.0</td>\n",
              "    </tr>\n",
              "  </tbody>\n",
              "</table>\n",
              "</div>"
            ],
            "text/plain": [
              "                         metric  threshold       value    idx\n",
              "0                        max f1   0.233097    0.444444   16.0\n",
              "1                        max f2   0.106689    0.563380   65.0\n",
              "2                  max f0point5   0.233097    0.459770   16.0\n",
              "3                  max accuracy   0.533160    0.859155    0.0\n",
              "4                 max precision   0.233097    0.470588   16.0\n",
              "5                    max recall   0.063407    1.000000  122.0\n",
              "6               max specificity   0.533160    0.991870    0.0\n",
              "7              max absolute_mcc   0.233097    0.364823   16.0\n",
              "8    max min_per_class_accuracy   0.123094    0.707317   49.0\n",
              "9   max mean_per_class_accuracy   0.123094    0.722080   49.0\n",
              "10                      max tns   0.533160  122.000000    0.0\n",
              "11                      max fns   0.533160   19.000000    0.0\n",
              "12                      max fps   0.028506  123.000000  141.0\n",
              "13                      max tps   0.063407   19.000000  122.0\n",
              "14                      max tnr   0.533160    0.991870    0.0\n",
              "15                      max fnr   0.533160    1.000000    0.0\n",
              "16                      max fpr   0.028506    1.000000  141.0\n",
              "17                      max tpr   0.063407    1.000000  122.0"
            ]
          },
          "metadata": {
            "tags": []
          }
        },
        {
          "output_type": "stream",
          "text": [
            "\n",
            "Gains/Lift Table: Avg response rate: 13.38 %, avg score: 13.55 %\n"
          ],
          "name": "stdout"
        },
        {
          "output_type": "display_data",
          "data": {
            "text/html": [
              "<div>\n",
              "<style scoped>\n",
              "    .dataframe tbody tr th:only-of-type {\n",
              "        vertical-align: middle;\n",
              "    }\n",
              "\n",
              "    .dataframe tbody tr th {\n",
              "        vertical-align: top;\n",
              "    }\n",
              "\n",
              "    .dataframe thead th {\n",
              "        text-align: right;\n",
              "    }\n",
              "</style>\n",
              "<table border=\"1\" class=\"dataframe\">\n",
              "  <thead>\n",
              "    <tr style=\"text-align: right;\">\n",
              "      <th></th>\n",
              "      <th>group</th>\n",
              "      <th>cumulative_data_fraction</th>\n",
              "      <th>lower_threshold</th>\n",
              "      <th>lift</th>\n",
              "      <th>cumulative_lift</th>\n",
              "      <th>response_rate</th>\n",
              "      <th>score</th>\n",
              "      <th>cumulative_response_rate</th>\n",
              "      <th>cumulative_score</th>\n",
              "      <th>capture_rate</th>\n",
              "      <th>cumulative_capture_rate</th>\n",
              "      <th>gain</th>\n",
              "      <th>cumulative_gain</th>\n",
              "      <th>kolmogorov_smirnov</th>\n",
              "    </tr>\n",
              "  </thead>\n",
              "  <tbody>\n",
              "    <tr>\n",
              "      <th>0</th>\n",
              "      <td>1</td>\n",
              "      <td>0.014085</td>\n",
              "      <td>0.490191</td>\n",
              "      <td>0.000000</td>\n",
              "      <td>0.000000</td>\n",
              "      <td>0.000000</td>\n",
              "      <td>0.525551</td>\n",
              "      <td>0.000000</td>\n",
              "      <td>0.525551</td>\n",
              "      <td>0.000000</td>\n",
              "      <td>0.000000</td>\n",
              "      <td>-100.000000</td>\n",
              "      <td>-100.000000</td>\n",
              "      <td>-0.016260</td>\n",
              "    </tr>\n",
              "    <tr>\n",
              "      <th>1</th>\n",
              "      <td>2</td>\n",
              "      <td>0.021127</td>\n",
              "      <td>0.445538</td>\n",
              "      <td>7.473684</td>\n",
              "      <td>2.491228</td>\n",
              "      <td>1.000000</td>\n",
              "      <td>0.450255</td>\n",
              "      <td>0.333333</td>\n",
              "      <td>0.500452</td>\n",
              "      <td>0.052632</td>\n",
              "      <td>0.052632</td>\n",
              "      <td>647.368421</td>\n",
              "      <td>149.122807</td>\n",
              "      <td>0.036371</td>\n",
              "    </tr>\n",
              "    <tr>\n",
              "      <th>2</th>\n",
              "      <td>3</td>\n",
              "      <td>0.035211</td>\n",
              "      <td>0.377965</td>\n",
              "      <td>0.000000</td>\n",
              "      <td>1.494737</td>\n",
              "      <td>0.000000</td>\n",
              "      <td>0.411269</td>\n",
              "      <td>0.200000</td>\n",
              "      <td>0.464779</td>\n",
              "      <td>0.000000</td>\n",
              "      <td>0.052632</td>\n",
              "      <td>-100.000000</td>\n",
              "      <td>49.473684</td>\n",
              "      <td>0.020111</td>\n",
              "    </tr>\n",
              "    <tr>\n",
              "      <th>3</th>\n",
              "      <td>4</td>\n",
              "      <td>0.042254</td>\n",
              "      <td>0.369142</td>\n",
              "      <td>0.000000</td>\n",
              "      <td>1.245614</td>\n",
              "      <td>0.000000</td>\n",
              "      <td>0.377729</td>\n",
              "      <td>0.166667</td>\n",
              "      <td>0.450271</td>\n",
              "      <td>0.000000</td>\n",
              "      <td>0.052632</td>\n",
              "      <td>-100.000000</td>\n",
              "      <td>24.561404</td>\n",
              "      <td>0.011981</td>\n",
              "    </tr>\n",
              "    <tr>\n",
              "      <th>4</th>\n",
              "      <td>5</td>\n",
              "      <td>0.056338</td>\n",
              "      <td>0.358288</td>\n",
              "      <td>3.736842</td>\n",
              "      <td>1.868421</td>\n",
              "      <td>0.500000</td>\n",
              "      <td>0.361935</td>\n",
              "      <td>0.250000</td>\n",
              "      <td>0.428187</td>\n",
              "      <td>0.052632</td>\n",
              "      <td>0.105263</td>\n",
              "      <td>273.684211</td>\n",
              "      <td>86.842105</td>\n",
              "      <td>0.056483</td>\n",
              "    </tr>\n",
              "    <tr>\n",
              "      <th>5</th>\n",
              "      <td>6</td>\n",
              "      <td>0.105634</td>\n",
              "      <td>0.242707</td>\n",
              "      <td>5.338346</td>\n",
              "      <td>3.487719</td>\n",
              "      <td>0.714286</td>\n",
              "      <td>0.297568</td>\n",
              "      <td>0.466667</td>\n",
              "      <td>0.367231</td>\n",
              "      <td>0.263158</td>\n",
              "      <td>0.368421</td>\n",
              "      <td>433.834586</td>\n",
              "      <td>248.771930</td>\n",
              "      <td>0.303380</td>\n",
              "    </tr>\n",
              "    <tr>\n",
              "      <th>6</th>\n",
              "      <td>7</td>\n",
              "      <td>0.154930</td>\n",
              "      <td>0.192927</td>\n",
              "      <td>1.067669</td>\n",
              "      <td>2.717703</td>\n",
              "      <td>0.142857</td>\n",
              "      <td>0.220912</td>\n",
              "      <td>0.363636</td>\n",
              "      <td>0.320675</td>\n",
              "      <td>0.052632</td>\n",
              "      <td>0.421053</td>\n",
              "      <td>6.766917</td>\n",
              "      <td>171.770335</td>\n",
              "      <td>0.307231</td>\n",
              "    </tr>\n",
              "    <tr>\n",
              "      <th>7</th>\n",
              "      <td>8</td>\n",
              "      <td>0.204225</td>\n",
              "      <td>0.173733</td>\n",
              "      <td>1.067669</td>\n",
              "      <td>2.319419</td>\n",
              "      <td>0.142857</td>\n",
              "      <td>0.181673</td>\n",
              "      <td>0.310345</td>\n",
              "      <td>0.287123</td>\n",
              "      <td>0.052632</td>\n",
              "      <td>0.473684</td>\n",
              "      <td>6.766917</td>\n",
              "      <td>131.941924</td>\n",
              "      <td>0.311083</td>\n",
              "    </tr>\n",
              "    <tr>\n",
              "      <th>8</th>\n",
              "      <td>9</td>\n",
              "      <td>0.302817</td>\n",
              "      <td>0.140464</td>\n",
              "      <td>1.601504</td>\n",
              "      <td>2.085679</td>\n",
              "      <td>0.214286</td>\n",
              "      <td>0.156497</td>\n",
              "      <td>0.279070</td>\n",
              "      <td>0.244593</td>\n",
              "      <td>0.157895</td>\n",
              "      <td>0.631579</td>\n",
              "      <td>60.150376</td>\n",
              "      <td>108.567931</td>\n",
              "      <td>0.379546</td>\n",
              "    </tr>\n",
              "    <tr>\n",
              "      <th>9</th>\n",
              "      <td>10</td>\n",
              "      <td>0.401408</td>\n",
              "      <td>0.117895</td>\n",
              "      <td>1.067669</td>\n",
              "      <td>1.835642</td>\n",
              "      <td>0.142857</td>\n",
              "      <td>0.124332</td>\n",
              "      <td>0.245614</td>\n",
              "      <td>0.215056</td>\n",
              "      <td>0.105263</td>\n",
              "      <td>0.736842</td>\n",
              "      <td>6.766917</td>\n",
              "      <td>83.564174</td>\n",
              "      <td>0.387249</td>\n",
              "    </tr>\n",
              "    <tr>\n",
              "      <th>10</th>\n",
              "      <td>11</td>\n",
              "      <td>0.500000</td>\n",
              "      <td>0.104287</td>\n",
              "      <td>1.067669</td>\n",
              "      <td>1.684211</td>\n",
              "      <td>0.142857</td>\n",
              "      <td>0.110060</td>\n",
              "      <td>0.225352</td>\n",
              "      <td>0.194352</td>\n",
              "      <td>0.105263</td>\n",
              "      <td>0.842105</td>\n",
              "      <td>6.766917</td>\n",
              "      <td>68.421053</td>\n",
              "      <td>0.394951</td>\n",
              "    </tr>\n",
              "    <tr>\n",
              "      <th>11</th>\n",
              "      <td>12</td>\n",
              "      <td>0.598592</td>\n",
              "      <td>0.093047</td>\n",
              "      <td>0.000000</td>\n",
              "      <td>1.406811</td>\n",
              "      <td>0.000000</td>\n",
              "      <td>0.099730</td>\n",
              "      <td>0.188235</td>\n",
              "      <td>0.178767</td>\n",
              "      <td>0.000000</td>\n",
              "      <td>0.842105</td>\n",
              "      <td>-100.000000</td>\n",
              "      <td>40.681115</td>\n",
              "      <td>0.281130</td>\n",
              "    </tr>\n",
              "    <tr>\n",
              "      <th>12</th>\n",
              "      <td>13</td>\n",
              "      <td>0.697183</td>\n",
              "      <td>0.083572</td>\n",
              "      <td>0.000000</td>\n",
              "      <td>1.207868</td>\n",
              "      <td>0.000000</td>\n",
              "      <td>0.089044</td>\n",
              "      <td>0.161616</td>\n",
              "      <td>0.166079</td>\n",
              "      <td>0.000000</td>\n",
              "      <td>0.842105</td>\n",
              "      <td>-100.000000</td>\n",
              "      <td>20.786816</td>\n",
              "      <td>0.167309</td>\n",
              "    </tr>\n",
              "    <tr>\n",
              "      <th>13</th>\n",
              "      <td>14</td>\n",
              "      <td>0.795775</td>\n",
              "      <td>0.074337</td>\n",
              "      <td>0.533835</td>\n",
              "      <td>1.124360</td>\n",
              "      <td>0.071429</td>\n",
              "      <td>0.078706</td>\n",
              "      <td>0.150442</td>\n",
              "      <td>0.155254</td>\n",
              "      <td>0.052632</td>\n",
              "      <td>0.894737</td>\n",
              "      <td>-46.616541</td>\n",
              "      <td>12.435957</td>\n",
              "      <td>0.114249</td>\n",
              "    </tr>\n",
              "    <tr>\n",
              "      <th>14</th>\n",
              "      <td>15</td>\n",
              "      <td>0.894366</td>\n",
              "      <td>0.059088</td>\n",
              "      <td>1.067669</td>\n",
              "      <td>1.118110</td>\n",
              "      <td>0.142857</td>\n",
              "      <td>0.067599</td>\n",
              "      <td>0.149606</td>\n",
              "      <td>0.145591</td>\n",
              "      <td>0.105263</td>\n",
              "      <td>1.000000</td>\n",
              "      <td>6.766917</td>\n",
              "      <td>11.811024</td>\n",
              "      <td>0.121951</td>\n",
              "    </tr>\n",
              "    <tr>\n",
              "      <th>15</th>\n",
              "      <td>16</td>\n",
              "      <td>1.000000</td>\n",
              "      <td>0.028506</td>\n",
              "      <td>0.000000</td>\n",
              "      <td>1.000000</td>\n",
              "      <td>0.000000</td>\n",
              "      <td>0.049785</td>\n",
              "      <td>0.133803</td>\n",
              "      <td>0.135471</td>\n",
              "      <td>0.000000</td>\n",
              "      <td>1.000000</td>\n",
              "      <td>-100.000000</td>\n",
              "      <td>0.000000</td>\n",
              "      <td>0.000000</td>\n",
              "    </tr>\n",
              "  </tbody>\n",
              "</table>\n",
              "</div>"
            ],
            "text/plain": [
              "    group  cumulative_data_fraction  ...  cumulative_gain  kolmogorov_smirnov\n",
              "0       1                  0.014085  ...      -100.000000           -0.016260\n",
              "1       2                  0.021127  ...       149.122807            0.036371\n",
              "2       3                  0.035211  ...        49.473684            0.020111\n",
              "3       4                  0.042254  ...        24.561404            0.011981\n",
              "4       5                  0.056338  ...        86.842105            0.056483\n",
              "5       6                  0.105634  ...       248.771930            0.303380\n",
              "6       7                  0.154930  ...       171.770335            0.307231\n",
              "7       8                  0.204225  ...       131.941924            0.311083\n",
              "8       9                  0.302817  ...       108.567931            0.379546\n",
              "9      10                  0.401408  ...        83.564174            0.387249\n",
              "10     11                  0.500000  ...        68.421053            0.394951\n",
              "11     12                  0.598592  ...        40.681115            0.281130\n",
              "12     13                  0.697183  ...        20.786816            0.167309\n",
              "13     14                  0.795775  ...        12.435957            0.114249\n",
              "14     15                  0.894366  ...        11.811024            0.121951\n",
              "15     16                  1.000000  ...         0.000000            0.000000\n",
              "\n",
              "[16 rows x 14 columns]"
            ]
          },
          "metadata": {
            "tags": []
          }
        },
        {
          "output_type": "stream",
          "text": [
            "\n"
          ],
          "name": "stdout"
        },
        {
          "output_type": "execute_result",
          "data": {
            "text/plain": [
              ""
            ]
          },
          "metadata": {
            "tags": []
          },
          "execution_count": 89
        }
      ]
    },
    {
      "cell_type": "code",
      "metadata": {
        "id": "lGiXYf_0b9lN"
      },
      "source": [
        ""
      ],
      "execution_count": null,
      "outputs": []
    },
    {
      "cell_type": "code",
      "metadata": {
        "id": "QJ0DyL9vb9qp"
      },
      "source": [
        ""
      ],
      "execution_count": null,
      "outputs": []
    },
    {
      "cell_type": "code",
      "metadata": {
        "id": "zMcINKUIY5Ec",
        "colab": {
          "base_uri": "https://localhost:8080/",
          "height": 252
        },
        "outputId": "af867746-417d-492e-91ef-9a289491d4ff"
      },
      "source": [
        "from sklearn.svm import SVC\r\n",
        "from sklearn.model_selection import GridSearchCV\r\n",
        "from sklearn import preprocessing\r\n",
        "from sklearn.preprocessing import StandardScaler\r\n",
        "from sklearn.model_selection import cross_val_score\r\n",
        "import matplotlib.pyplot as plt\r\n",
        "import warnings\r\n",
        "import seaborn as sns\r\n",
        "from colorama import Fore, Back, Style \r\n",
        "from sklearn.model_selection import train_test_split\r\n",
        "from sklearn.metrics import confusion_matrix, accuracy_score\r\n",
        "from mlxtend.plotting import plot_confusion_matrix\r\n",
        "from plotly.offline import plot, iplot, init_notebook_mode\r\n",
        "import plotly.graph_objs as go\r\n",
        "from plotly.subplots import make_subplots\r\n",
        "import plotly.express as px\r\n",
        "from statsmodels.formula.api import ols\r\n",
        "import plotly.graph_objs as gobj\r\n",
        "\r\n",
        "init_notebook_mode(connected=True)\r\n",
        "warnings.filterwarnings(\"ignore\")\r\n",
        "import plotly.figure_factory as ff\r\n",
        "\r\n",
        "%matplotlib inline\r\n",
        "\r\n",
        "import xgboost\r\n",
        "import lightgbm\r\n",
        "from sklearn.svm import SVC\r\n",
        "from sklearn.ensemble import GradientBoostingClassifier\r\n",
        "from sklearn.ensemble import RandomForestClassifier\r\n",
        "from sklearn.tree import DecisionTreeClassifier\r\n",
        "from sklearn.neighbors import KNeighborsClassifier\r\n",
        "from sklearn.linear_model import LogisticRegression\r\n",
        "!pip install catboost\r\n",
        "from catboost import CatBoostClassifier"
      ],
      "execution_count": 10,
      "outputs": [
        {
          "output_type": "display_data",
          "data": {
            "text/html": [
              "        <script type=\"text/javascript\">\n",
              "        window.PlotlyConfig = {MathJaxConfig: 'local'};\n",
              "        if (window.MathJax) {MathJax.Hub.Config({SVG: {font: \"STIX-Web\"}});}\n",
              "        if (typeof require !== 'undefined') {\n",
              "        require.undef(\"plotly\");\n",
              "        requirejs.config({\n",
              "            paths: {\n",
              "                'plotly': ['https://cdn.plot.ly/plotly-latest.min']\n",
              "            }\n",
              "        });\n",
              "        require(['plotly'], function(Plotly) {\n",
              "            window._Plotly = Plotly;\n",
              "        });\n",
              "        }\n",
              "        </script>\n",
              "        "
            ]
          },
          "metadata": {
            "tags": []
          }
        },
        {
          "output_type": "stream",
          "text": [
            "Requirement already satisfied: catboost in /usr/local/lib/python3.6/dist-packages (0.24.4)\n",
            "Requirement already satisfied: plotly in /usr/local/lib/python3.6/dist-packages (from catboost) (4.4.1)\n",
            "Requirement already satisfied: numpy>=1.16.0 in /usr/local/lib/python3.6/dist-packages (from catboost) (1.19.5)\n",
            "Requirement already satisfied: graphviz in /usr/local/lib/python3.6/dist-packages (from catboost) (0.10.1)\n",
            "Requirement already satisfied: six in /usr/local/lib/python3.6/dist-packages (from catboost) (1.15.0)\n",
            "Requirement already satisfied: scipy in /usr/local/lib/python3.6/dist-packages (from catboost) (1.4.1)\n",
            "Requirement already satisfied: matplotlib in /usr/local/lib/python3.6/dist-packages (from catboost) (3.2.2)\n",
            "Requirement already satisfied: pandas>=0.24.0 in /usr/local/lib/python3.6/dist-packages (from catboost) (1.1.5)\n",
            "Requirement already satisfied: retrying>=1.3.3 in /usr/local/lib/python3.6/dist-packages (from plotly->catboost) (1.3.3)\n",
            "Requirement already satisfied: cycler>=0.10 in /usr/local/lib/python3.6/dist-packages (from matplotlib->catboost) (0.10.0)\n",
            "Requirement already satisfied: pyparsing!=2.0.4,!=2.1.2,!=2.1.6,>=2.0.1 in /usr/local/lib/python3.6/dist-packages (from matplotlib->catboost) (2.4.7)\n",
            "Requirement already satisfied: python-dateutil>=2.1 in /usr/local/lib/python3.6/dist-packages (from matplotlib->catboost) (2.8.1)\n",
            "Requirement already satisfied: kiwisolver>=1.0.1 in /usr/local/lib/python3.6/dist-packages (from matplotlib->catboost) (1.3.1)\n",
            "Requirement already satisfied: pytz>=2017.2 in /usr/local/lib/python3.6/dist-packages (from pandas>=0.24.0->catboost) (2018.9)\n"
          ],
          "name": "stdout"
        }
      ]
    },
    {
      "cell_type": "code",
      "metadata": {
        "id": "NcnQ-cBoyj7F"
      },
      "source": [
        "x_train, x_test, y_train, y_test = train_test_split(df.drop('Ab_ind',axis=1), df['Ab_ind'], test_size=.2, random_state=1234)\r\n",
        "scaler = StandardScaler()\r\n",
        "x_train = scaler.fit_transform(x_train)\r\n",
        "x_test = scaler.transform(x_test)\r\n",
        "def all_estimators_pipline(x_train, y_train, x_test, y_test):\r\n",
        "   \r\n",
        "    #Logistic Regression\r\n",
        "    log_reg = LogisticRegression()\r\n",
        "    log_reg.fit(x_train, y_train)\r\n",
        "    log_reg_pred = log_reg.predict(x_test)\r\n",
        "    print('LR conf{0}'.format(confusion_matrix(y_test,log_reg_pred)))\r\n",
        "    \r\n",
        "    #svm\r\n",
        "    sv_clf = SVC()\r\n",
        "    sv_clf.fit(x_train, y_train)\r\n",
        "    sv_clf_pred = sv_clf.predict(x_test)\r\n",
        "    print('SVM conf{0}'.format(confusion_matrix(y_test, sv_clf_pred)))\r\n",
        "    \r\n",
        "    # K Neighbors Classifier\r\n",
        "\r\n",
        "    kn_clf = KNeighborsClassifier(n_neighbors=6)\r\n",
        "    kn_clf.fit(x_train, y_train)\r\n",
        "    kn_pred = kn_clf.predict(x_test)\r\n",
        "    print('Kn conf{0}'.format(confusion_matrix(y_test, kn_pred)))\r\n",
        "    # Decision Tree Classifier\r\n",
        "\r\n",
        "    dt_clf = DecisionTreeClassifier(max_leaf_nodes=3, random_state=0, criterion='entropy')\r\n",
        "    dt_clf.fit(x_train, y_train)\r\n",
        "    dt_pred = dt_clf.predict(x_test)\r\n",
        "    print('DT conf{0}'.format(confusion_matrix(y_test, dt_pred)))\r\n",
        "    \r\n",
        "    # RandomForestClassifier\r\n",
        "\r\n",
        "    r_clf = RandomForestClassifier(max_features=0.5, max_depth=15, random_state=1)\r\n",
        "    r_clf.fit(x_train, y_train)\r\n",
        "    r_pred = r_clf.predict(x_test)\r\n",
        "    print('RF conf{0}'.format(confusion_matrix(y_test, r_pred)))\r\n",
        "  \r\n",
        "    #xgb\r\n",
        "    gradientboost_clf = GradientBoostingClassifier(max_depth=2, random_state=1)\r\n",
        "    gradientboost_clf.fit(x_train,y_train)\r\n",
        "    gradientboost_pred = gradientboost_clf.predict(x_test)\r\n",
        "    print('XGB conf{0}'.format(confusion_matrix(y_test, gradientboost_pred)))\r\n",
        "    \r\n",
        "    #  lightgbm \r\n",
        "\r\n",
        "    lgb_clf = lightgbm.LGBMClassifier(max_depth=2, random_state=4)\r\n",
        "    lgb_clf.fit(x_train,y_train)\r\n",
        "    lgb_pred = lgb_clf.predict(x_test)\r\n",
        "    print('LGB conf{0}'.format(confusion_matrix(y_test, lgb_pred)))\r\n",
        "    \r\n",
        "    # # CatBoostClassifier\r\n",
        "\r\n",
        "    # cat_clf = CatBoostClassifier()\r\n",
        "    # cat_clf.fit(x_train,y_train)\r\n",
        "    # cat_pred = cat_clf.predict(x_test)\r\n",
        "    # print('CBC conf{0}'.format(confusion_matrix(y_test, cat_pred)))"
      ],
      "execution_count": 17,
      "outputs": []
    },
    {
      "cell_type": "code",
      "metadata": {
        "id": "qt6cLw5bV_6J",
        "colab": {
          "base_uri": "https://localhost:8080/"
        },
        "outputId": "10a8a0e6-ec78-46a9-91b9-00b612795575"
      },
      "source": [
        "all_estimators_pipline(x_train, y_train, x_test, y_test)"
      ],
      "execution_count": 18,
      "outputs": [
        {
          "output_type": "stream",
          "text": [
            "LR conf[[137   6]\n",
            " [ 22   8]]\n",
            "SVM conf[[139   4]\n",
            " [ 26   4]]\n",
            "Kn conf[[139   4]\n",
            " [ 26   4]]\n",
            "DT conf[[143   0]\n",
            " [ 30   0]]\n",
            "RF conf[[136   7]\n",
            " [ 24   6]]\n",
            "XGB conf[[136   7]\n",
            " [ 19  11]]\n",
            "LGB conf[[137   6]\n",
            " [ 21   9]]\n"
          ],
          "name": "stdout"
        }
      ]
    },
    {
      "cell_type": "code",
      "metadata": {
        "id": "uSvzDPeOqCqu"
      },
      "source": [
        "import tensorflow as tf\r\n",
        "from tensorflow import keras\r\n",
        "\r\n",
        "import os\r\n",
        "import tempfile\r\n",
        "\r\n",
        "import matplotlib as mpl"
      ],
      "execution_count": 19,
      "outputs": []
    },
    {
      "cell_type": "code",
      "metadata": {
        "id": "MxfLVy3SqCxS"
      },
      "source": [
        "mpl.rcParams['figure.figsize'] = (12, 10)\r\n",
        "colors = plt.rcParams['axes.prop_cycle'].by_key()['color']"
      ],
      "execution_count": 20,
      "outputs": []
    },
    {
      "cell_type": "code",
      "metadata": {
        "id": "8UEO7H7UqDDJ"
      },
      "source": [
        "cleaned_df = df.copy()"
      ],
      "execution_count": 21,
      "outputs": []
    },
    {
      "cell_type": "code",
      "metadata": {
        "id": "C4Ulh7rDqDJn"
      },
      "source": [
        "# Use a utility from sklearn to split and shuffle our dataset.\r\n",
        "train_df, test_df = train_test_split(cleaned_df, test_size=0.2)\r\n",
        "train_df, val_df = train_test_split(train_df, test_size=0.2)\r\n",
        "\r\n",
        "# Form np arrays of labels and features.\r\n",
        "train_labels = np.array(train_df.pop('Ab_ind'))\r\n",
        "bool_train_labels = train_labels != 0\r\n",
        "val_labels = np.array(val_df.pop('Ab_ind'))\r\n",
        "test_labels = np.array(test_df.pop('Ab_ind'))\r\n",
        "\r\n",
        "train_features = np.array(train_df)\r\n",
        "val_features = np.array(val_df)\r\n",
        "test_features = np.array(test_df)"
      ],
      "execution_count": 22,
      "outputs": []
    },
    {
      "cell_type": "code",
      "metadata": {
        "colab": {
          "base_uri": "https://localhost:8080/"
        },
        "id": "NHphCFaNqTzr",
        "outputId": "ae543736-8aa5-4a12-f9ad-13eea5f361b3"
      },
      "source": [
        "scaler = StandardScaler()\r\n",
        "train_features = scaler.fit_transform(train_features)\r\n",
        "\r\n",
        "val_features = scaler.transform(val_features)\r\n",
        "test_features = scaler.transform(test_features)\r\n",
        "\r\n",
        "train_features = np.clip(train_features, -5, 5)\r\n",
        "val_features = np.clip(val_features, -5, 5)\r\n",
        "test_features = np.clip(test_features, -5, 5)\r\n",
        "\r\n",
        "\r\n",
        "print('Training labels shape:', train_labels.shape)\r\n",
        "print('Validation labels shape:', val_labels.shape)\r\n",
        "print('Test labels shape:', test_labels.shape)\r\n",
        "\r\n",
        "print('Training features shape:', train_features.shape)\r\n",
        "print('Validation features shape:', val_features.shape)\r\n",
        "print('Test features shape:', test_features.shape)"
      ],
      "execution_count": 23,
      "outputs": [
        {
          "output_type": "stream",
          "text": [
            "Training labels shape: (552,)\n",
            "Validation labels shape: (138,)\n",
            "Test labels shape: (173,)\n",
            "Training features shape: (552, 24)\n",
            "Validation features shape: (138, 24)\n",
            "Test features shape: (173, 24)\n"
          ],
          "name": "stdout"
        }
      ]
    },
    {
      "cell_type": "code",
      "metadata": {
        "colab": {
          "base_uri": "https://localhost:8080/",
          "height": 869
        },
        "id": "9v-NmnJlqXgk",
        "outputId": "57e7e293-284d-4103-bcc2-54c79bef9a14"
      },
      "source": [
        "pos_df = pd.DataFrame(train_features[ bool_train_labels], columns=train_df.columns)\r\n",
        "neg_df = pd.DataFrame(train_features[~bool_train_labels], columns=train_df.columns)\r\n",
        "\r\n",
        "sns.jointplot(pos_df['Min_Platlets'], pos_df['GFR'],\r\n",
        "              kind='hex', xlim=(-5,5), ylim=(-5,5))\r\n",
        "plt.suptitle(\"Positive distribution\")\r\n",
        "\r\n",
        "sns.jointplot(neg_df['Min_Platlets'], neg_df['GFR'],\r\n",
        "              kind='hex', xlim=(-5,5), ylim=(-5,5))\r\n",
        "_ = plt.suptitle(\"Negative distribution\")"
      ],
      "execution_count": 24,
      "outputs": [
        {
          "output_type": "display_data",
          "data": {
            "image/png": "[encoded data removed]",
            "text/plain": [
              "<Figure size 432x432 with 3 Axes>"
            ]
          },
          "metadata": {
            "tags": [],
            "needs_background": "light"
          }
        },
        {
          "output_type": "display_data",
          "data": {
            "image/png": "[encoded data removed]",
            "text/plain": [
              "<Figure size 432x432 with 3 Axes>"
            ]
          },
          "metadata": {
            "tags": [],
            "needs_background": "light"
          }
        }
      ]
    },
    {
      "cell_type": "code",
      "metadata": {
        "id": "ARPchbwEqdbl"
      },
      "source": [
        "METRICS = [\r\n",
        "      keras.metrics.TruePositives(name='tp'),\r\n",
        "      keras.metrics.FalsePositives(name='fp'),\r\n",
        "      keras.metrics.TrueNegatives(name='tn'),\r\n",
        "      keras.metrics.FalseNegatives(name='fn'), \r\n",
        "      keras.metrics.BinaryAccuracy(name='accuracy'),\r\n",
        "      keras.metrics.Precision(name='precision'),\r\n",
        "      keras.metrics.Recall(name='recall'),\r\n",
        "      keras.metrics.AUC(name='auc'),\r\n",
        "]\r\n",
        "\r\n",
        "def make_model(metrics=METRICS, output_bias=None):\r\n",
        "  if output_bias is not None:\r\n",
        "    output_bias = tf.keras.initializers.Constant(output_bias)\r\n",
        "  model = keras.Sequential([\r\n",
        "      keras.layers.Dense(\r\n",
        "          16, activation='relu',\r\n",
        "          input_shape=(train_features.shape[-1],)),\r\n",
        "      keras.layers.Dropout(0.5),\r\n",
        "      keras.layers.Dense(1, activation='sigmoid',\r\n",
        "                         bias_initializer=output_bias),\r\n",
        "  ])\r\n",
        "\r\n",
        "  model.compile(\r\n",
        "      optimizer=keras.optimizers.Adam(lr=1e-3),\r\n",
        "      loss=keras.losses.BinaryCrossentropy(),\r\n",
        "      metrics=metrics)\r\n",
        "\r\n",
        "  return model"
      ],
      "execution_count": 25,
      "outputs": []
    },
    {
      "cell_type": "code",
      "metadata": {
        "id": "SJDWJQXDqdho"
      },
      "source": [
        "EPOCHS = 100\r\n",
        "BATCH_SIZE = 2048\r\n",
        "\r\n",
        "early_stopping = tf.keras.callbacks.EarlyStopping(\r\n",
        "    monitor='val_auc', \r\n",
        "    verbose=1,\r\n",
        "    patience=10,\r\n",
        "    mode='max',\r\n",
        "    restore_best_weights=True)"
      ],
      "execution_count": 26,
      "outputs": []
    },
    {
      "cell_type": "code",
      "metadata": {
        "colab": {
          "base_uri": "https://localhost:8080/"
        },
        "id": "RPzRCvGAqdzk",
        "outputId": "9936e1d9-cf97-4d49-fcd2-2120fe6883df"
      },
      "source": [
        "model = make_model()\r\n",
        "model.summary()"
      ],
      "execution_count": 27,
      "outputs": [
        {
          "output_type": "stream",
          "text": [
            "Model: \"sequential\"\n",
            "_________________________________________________________________\n",
            "Layer (type)                 Output Shape              Param #   \n",
            "=================================================================\n",
            "dense (Dense)                (None, 16)                400       \n",
            "_________________________________________________________________\n",
            "dropout (Dropout)            (None, 16)                0         \n",
            "_________________________________________________________________\n",
            "dense_1 (Dense)              (None, 1)                 17        \n",
            "=================================================================\n",
            "Total params: 417\n",
            "Trainable params: 417\n",
            "Non-trainable params: 0\n",
            "_________________________________________________________________\n"
          ],
          "name": "stdout"
        }
      ]
    },
    {
      "cell_type": "code",
      "metadata": {
        "colab": {
          "base_uri": "https://localhost:8080/"
        },
        "id": "P4OehJ2Nqr_P",
        "outputId": "33538e27-3bcb-44a1-fc91-405a60378f60"
      },
      "source": [
        "results = model.evaluate(train_features, train_labels, batch_size=BATCH_SIZE, verbose=0)\r\n",
        "print(\"Loss: {:0.4f}\".format(results[0]))"
      ],
      "execution_count": 28,
      "outputs": [
        {
          "output_type": "stream",
          "text": [
            "Loss: 1.1994\n"
          ],
          "name": "stdout"
        }
      ]
    },
    {
      "cell_type": "code",
      "metadata": {
        "colab": {
          "base_uri": "https://localhost:8080/"
        },
        "id": "PrRRpcaJqsEW",
        "outputId": "c1ad1601-0258-4332-c2e1-9cbf1458d0b5"
      },
      "source": [
        "initial_bias = np.log([pos/neg])\r\n",
        "initial_bias"
      ],
      "execution_count": 31,
      "outputs": [
        {
          "output_type": "execute_result",
          "data": {
            "text/plain": [
              "array([-1.57507027])"
            ]
          },
          "metadata": {
            "tags": []
          },
          "execution_count": 31
        }
      ]
    },
    {
      "cell_type": "code",
      "metadata": {
        "colab": {
          "base_uri": "https://localhost:8080/"
        },
        "id": "fGv7s3mnqsK_",
        "outputId": "73b732a3-3f83-448f-91c2-279f78a8cae5"
      },
      "source": [
        "model = make_model(output_bias=initial_bias)\r\n",
        "model.predict(train_features[:10])"
      ],
      "execution_count": 32,
      "outputs": [
        {
          "output_type": "execute_result",
          "data": {
            "text/plain": [
              "array([[0.13542745],\n",
              "       [0.05980507],\n",
              "       [0.05974779],\n",
              "       [0.10283461],\n",
              "       [0.18274924],\n",
              "       [0.11486146],\n",
              "       [0.09984952],\n",
              "       [0.11691177],\n",
              "       [0.03027856],\n",
              "       [0.18822464]], dtype=float32)"
            ]
          },
          "metadata": {
            "tags": []
          },
          "execution_count": 32
        }
      ]
    },
    {
      "cell_type": "code",
      "metadata": {
        "colab": {
          "base_uri": "https://localhost:8080/"
        },
        "id": "aAGl4ArcqsRf",
        "outputId": "0d089763-6ed2-43cc-c6e8-11ac8bcbf560"
      },
      "source": [
        "results = model.evaluate(train_features, train_labels, batch_size=BATCH_SIZE, verbose=0)\r\n",
        "print(\"Loss: {:0.4f}\".format(results[0]))"
      ],
      "execution_count": 33,
      "outputs": [
        {
          "output_type": "stream",
          "text": [
            "Loss: 0.4236\n"
          ],
          "name": "stdout"
        }
      ]
    },
    {
      "cell_type": "code",
      "metadata": {
        "id": "jPf-BeiLqsYs"
      },
      "source": [
        "initial_weights = os.path.join(tempfile.mkdtemp(), 'initial_weights')\r\n",
        "model.save_weights(initial_weights)"
      ],
      "execution_count": 34,
      "outputs": []
    },
    {
      "cell_type": "code",
      "metadata": {
        "id": "1CG_ZmCDqsd9"
      },
      "source": [
        "model = make_model()\r\n",
        "model.load_weights(initial_weights)\r\n",
        "model.layers[-1].bias.assign([0.0])\r\n",
        "zero_bias_history = model.fit(\r\n",
        "    train_features,\r\n",
        "    train_labels,\r\n",
        "    batch_size=BATCH_SIZE,\r\n",
        "    epochs=20,\r\n",
        "    validation_data=(val_features, val_labels), \r\n",
        "    verbose=0)"
      ],
      "execution_count": 35,
      "outputs": []
    },
    {
      "cell_type": "code",
      "metadata": {
        "id": "2HsKLKYyqsi-"
      },
      "source": [
        "model = make_model()\r\n",
        "model.load_weights(initial_weights)\r\n",
        "careful_bias_history = model.fit(\r\n",
        "    train_features,\r\n",
        "    train_labels,\r\n",
        "    batch_size=BATCH_SIZE,\r\n",
        "    epochs=20,\r\n",
        "    validation_data=(val_features, val_labels), \r\n",
        "    verbose=0)"
      ],
      "execution_count": 36,
      "outputs": []
    },
    {
      "cell_type": "code",
      "metadata": {
        "id": "bxZigLU2qsoN"
      },
      "source": [
        "def plot_loss(history, label, n):\r\n",
        "  # Use a log scale on y-axis to show the wide range of values.\r\n",
        "  plt.semilogy(history.epoch, history.history['loss'],\r\n",
        "               color=colors[n], label='Train ' + label)\r\n",
        "  plt.semilogy(history.epoch, history.history['val_loss'],\r\n",
        "               color=colors[n], label='Val ' + label,\r\n",
        "               linestyle=\"--\")\r\n",
        "  plt.xlabel('Epoch')\r\n",
        "  plt.ylabel('Loss')"
      ],
      "execution_count": 37,
      "outputs": []
    },
    {
      "cell_type": "code",
      "metadata": {
        "colab": {
          "base_uri": "https://localhost:8080/",
          "height": 606
        },
        "id": "LcEveWkHqstZ",
        "outputId": "8683db0b-191f-4509-959c-11bb1327dd8d"
      },
      "source": [
        "plot_loss(zero_bias_history, \"Zero Bias\", 0)\r\n",
        "plot_loss(careful_bias_history, \"Careful Bias\", 1)"
      ],
      "execution_count": 38,
      "outputs": [
        {
          "output_type": "display_data",
          "data": {
            "image/png": "[encoded data removed]",
            "text/plain": [
              "<Figure size 864x720 with 1 Axes>"
            ]
          },
          "metadata": {
            "tags": [],
            "needs_background": "light"
          }
        }
      ]
    },
    {
      "cell_type": "code",
      "metadata": {
        "colab": {
          "base_uri": "https://localhost:8080/"
        },
        "id": "tYvCRxO3qsye",
        "outputId": "46e4524a-42f7-48d8-c62e-0778fbe40022"
      },
      "source": [
        "model = make_model()\r\n",
        "model.load_weights(initial_weights)\r\n",
        "baseline_history = model.fit(\r\n",
        "    train_features,\r\n",
        "    train_labels,\r\n",
        "    batch_size=BATCH_SIZE,\r\n",
        "    epochs=EPOCHS,\r\n",
        "    callbacks=[early_stopping],\r\n",
        "    validation_data=(val_features, val_labels))"
      ],
      "execution_count": 39,
      "outputs": [
        {
          "output_type": "stream",
          "text": [
            "Epoch 1/100\n",
            "1/1 [==============================] - 3s 3s/step - loss: 0.4608 - tp: 1.0000 - fp: 3.0000 - tn: 575.0000 - fn: 111.0000 - accuracy: 0.8348 - precision: 0.2500 - recall: 0.0089 - auc: 0.5958 - val_loss: 0.4743 - val_tp: 0.0000e+00 - val_fp: 0.0000e+00 - val_tn: 113.0000 - val_fn: 25.0000 - val_accuracy: 0.8188 - val_precision: 0.0000e+00 - val_recall: 0.0000e+00 - val_auc: 0.6423\n",
            "Epoch 2/100\n",
            "1/1 [==============================] - 0s 53ms/step - loss: 0.4579 - tp: 2.0000 - fp: 3.0000 - tn: 462.0000 - fn: 85.0000 - accuracy: 0.8406 - precision: 0.4000 - recall: 0.0230 - auc: 0.5583 - val_loss: 0.4728 - val_tp: 0.0000e+00 - val_fp: 0.0000e+00 - val_tn: 113.0000 - val_fn: 25.0000 - val_accuracy: 0.8188 - val_precision: 0.0000e+00 - val_recall: 0.0000e+00 - val_auc: 0.6430\n",
            "Epoch 3/100\n",
            "1/1 [==============================] - 0s 51ms/step - loss: 0.4616 - tp: 0.0000e+00 - fp: 4.0000 - tn: 461.0000 - fn: 87.0000 - accuracy: 0.8351 - precision: 0.0000e+00 - recall: 0.0000e+00 - auc: 0.5910 - val_loss: 0.4713 - val_tp: 0.0000e+00 - val_fp: 0.0000e+00 - val_tn: 113.0000 - val_fn: 25.0000 - val_accuracy: 0.8188 - val_precision: 0.0000e+00 - val_recall: 0.0000e+00 - val_auc: 0.6474\n",
            "Epoch 4/100\n",
            "1/1 [==============================] - 0s 48ms/step - loss: 0.4259 - tp: 3.0000 - fp: 2.0000 - tn: 463.0000 - fn: 84.0000 - accuracy: 0.8442 - precision: 0.6000 - recall: 0.0345 - auc: 0.6479 - val_loss: 0.4698 - val_tp: 0.0000e+00 - val_fp: 0.0000e+00 - val_tn: 113.0000 - val_fn: 25.0000 - val_accuracy: 0.8188 - val_precision: 0.0000e+00 - val_recall: 0.0000e+00 - val_auc: 0.6492\n",
            "Epoch 5/100\n",
            "1/1 [==============================] - 0s 52ms/step - loss: 0.4411 - tp: 1.0000 - fp: 3.0000 - tn: 462.0000 - fn: 86.0000 - accuracy: 0.8388 - precision: 0.2500 - recall: 0.0115 - auc: 0.6254 - val_loss: 0.4684 - val_tp: 0.0000e+00 - val_fp: 0.0000e+00 - val_tn: 113.0000 - val_fn: 25.0000 - val_accuracy: 0.8188 - val_precision: 0.0000e+00 - val_recall: 0.0000e+00 - val_auc: 0.6529\n",
            "Epoch 6/100\n",
            "1/1 [==============================] - 0s 55ms/step - loss: 0.4471 - tp: 2.0000 - fp: 3.0000 - tn: 462.0000 - fn: 85.0000 - accuracy: 0.8406 - precision: 0.4000 - recall: 0.0230 - auc: 0.6045 - val_loss: 0.4670 - val_tp: 0.0000e+00 - val_fp: 0.0000e+00 - val_tn: 113.0000 - val_fn: 25.0000 - val_accuracy: 0.8188 - val_precision: 0.0000e+00 - val_recall: 0.0000e+00 - val_auc: 0.6572\n",
            "Epoch 7/100\n",
            "1/1 [==============================] - 0s 49ms/step - loss: 0.4225 - tp: 2.0000 - fp: 3.0000 - tn: 462.0000 - fn: 85.0000 - accuracy: 0.8406 - precision: 0.4000 - recall: 0.0230 - auc: 0.6669 - val_loss: 0.4656 - val_tp: 0.0000e+00 - val_fp: 0.0000e+00 - val_tn: 113.0000 - val_fn: 25.0000 - val_accuracy: 0.8188 - val_precision: 0.0000e+00 - val_recall: 0.0000e+00 - val_auc: 0.6623\n",
            "Epoch 8/100\n",
            "1/1 [==============================] - 0s 50ms/step - loss: 0.4682 - tp: 2.0000 - fp: 2.0000 - tn: 463.0000 - fn: 85.0000 - accuracy: 0.8424 - precision: 0.5000 - recall: 0.0230 - auc: 0.5736 - val_loss: 0.4642 - val_tp: 0.0000e+00 - val_fp: 0.0000e+00 - val_tn: 113.0000 - val_fn: 25.0000 - val_accuracy: 0.8188 - val_precision: 0.0000e+00 - val_recall: 0.0000e+00 - val_auc: 0.6685\n",
            "Epoch 9/100\n",
            "1/1 [==============================] - 0s 55ms/step - loss: 0.4437 - tp: 5.0000 - fp: 6.0000 - tn: 459.0000 - fn: 82.0000 - accuracy: 0.8406 - precision: 0.4545 - recall: 0.0575 - auc: 0.6165 - val_loss: 0.4629 - val_tp: 0.0000e+00 - val_fp: 0.0000e+00 - val_tn: 113.0000 - val_fn: 25.0000 - val_accuracy: 0.8188 - val_precision: 0.0000e+00 - val_recall: 0.0000e+00 - val_auc: 0.6719\n",
            "Epoch 10/100\n",
            "1/1 [==============================] - 0s 52ms/step - loss: 0.4484 - tp: 2.0000 - fp: 4.0000 - tn: 461.0000 - fn: 85.0000 - accuracy: 0.8388 - precision: 0.3333 - recall: 0.0230 - auc: 0.6048 - val_loss: 0.4616 - val_tp: 0.0000e+00 - val_fp: 0.0000e+00 - val_tn: 113.0000 - val_fn: 25.0000 - val_accuracy: 0.8188 - val_precision: 0.0000e+00 - val_recall: 0.0000e+00 - val_auc: 0.6742\n",
            "Epoch 11/100\n",
            "1/1 [==============================] - 0s 51ms/step - loss: 0.4486 - tp: 1.0000 - fp: 2.0000 - tn: 463.0000 - fn: 86.0000 - accuracy: 0.8406 - precision: 0.3333 - recall: 0.0115 - auc: 0.5988 - val_loss: 0.4603 - val_tp: 0.0000e+00 - val_fp: 0.0000e+00 - val_tn: 113.0000 - val_fn: 25.0000 - val_accuracy: 0.8188 - val_precision: 0.0000e+00 - val_recall: 0.0000e+00 - val_auc: 0.6766\n",
            "Epoch 12/100\n",
            "1/1 [==============================] - 0s 51ms/step - loss: 0.4392 - tp: 2.0000 - fp: 3.0000 - tn: 462.0000 - fn: 85.0000 - accuracy: 0.8406 - precision: 0.4000 - recall: 0.0230 - auc: 0.6050 - val_loss: 0.4591 - val_tp: 0.0000e+00 - val_fp: 0.0000e+00 - val_tn: 113.0000 - val_fn: 25.0000 - val_accuracy: 0.8188 - val_precision: 0.0000e+00 - val_recall: 0.0000e+00 - val_auc: 0.6754\n",
            "Epoch 13/100\n",
            "1/1 [==============================] - 0s 56ms/step - loss: 0.4363 - tp: 2.0000 - fp: 1.0000 - tn: 464.0000 - fn: 85.0000 - accuracy: 0.8442 - precision: 0.6667 - recall: 0.0230 - auc: 0.6197 - val_loss: 0.4578 - val_tp: 0.0000e+00 - val_fp: 0.0000e+00 - val_tn: 113.0000 - val_fn: 25.0000 - val_accuracy: 0.8188 - val_precision: 0.0000e+00 - val_recall: 0.0000e+00 - val_auc: 0.6821\n",
            "Epoch 14/100\n",
            "1/1 [==============================] - 0s 51ms/step - loss: 0.4170 - tp: 4.0000 - fp: 2.0000 - tn: 463.0000 - fn: 83.0000 - accuracy: 0.8460 - precision: 0.6667 - recall: 0.0460 - auc: 0.6693 - val_loss: 0.4566 - val_tp: 0.0000e+00 - val_fp: 0.0000e+00 - val_tn: 113.0000 - val_fn: 25.0000 - val_accuracy: 0.8188 - val_precision: 0.0000e+00 - val_recall: 0.0000e+00 - val_auc: 0.6828\n",
            "Epoch 15/100\n",
            "1/1 [==============================] - 0s 59ms/step - loss: 0.4291 - tp: 2.0000 - fp: 5.0000 - tn: 460.0000 - fn: 85.0000 - accuracy: 0.8370 - precision: 0.2857 - recall: 0.0230 - auc: 0.6606 - val_loss: 0.4554 - val_tp: 0.0000e+00 - val_fp: 0.0000e+00 - val_tn: 113.0000 - val_fn: 25.0000 - val_accuracy: 0.8188 - val_precision: 0.0000e+00 - val_recall: 0.0000e+00 - val_auc: 0.6858\n",
            "Epoch 16/100\n",
            "1/1 [==============================] - 0s 57ms/step - loss: 0.4156 - tp: 3.0000 - fp: 3.0000 - tn: 462.0000 - fn: 84.0000 - accuracy: 0.8424 - precision: 0.5000 - recall: 0.0345 - auc: 0.6677 - val_loss: 0.4542 - val_tp: 0.0000e+00 - val_fp: 0.0000e+00 - val_tn: 113.0000 - val_fn: 25.0000 - val_accuracy: 0.8188 - val_precision: 0.0000e+00 - val_recall: 0.0000e+00 - val_auc: 0.6897\n",
            "Epoch 17/100\n",
            "1/1 [==============================] - 0s 52ms/step - loss: 0.4167 - tp: 4.0000 - fp: 3.0000 - tn: 462.0000 - fn: 83.0000 - accuracy: 0.8442 - precision: 0.5714 - recall: 0.0460 - auc: 0.6781 - val_loss: 0.4530 - val_tp: 0.0000e+00 - val_fp: 0.0000e+00 - val_tn: 113.0000 - val_fn: 25.0000 - val_accuracy: 0.8188 - val_precision: 0.0000e+00 - val_recall: 0.0000e+00 - val_auc: 0.6917\n",
            "Epoch 18/100\n",
            "1/1 [==============================] - 0s 50ms/step - loss: 0.4326 - tp: 3.0000 - fp: 2.0000 - tn: 463.0000 - fn: 84.0000 - accuracy: 0.8442 - precision: 0.6000 - recall: 0.0345 - auc: 0.6438 - val_loss: 0.4518 - val_tp: 1.0000 - val_fp: 0.0000e+00 - val_tn: 113.0000 - val_fn: 24.0000 - val_accuracy: 0.8261 - val_precision: 1.0000 - val_recall: 0.0400 - val_auc: 0.6975\n",
            "Epoch 19/100\n",
            "1/1 [==============================] - 0s 50ms/step - loss: 0.4380 - tp: 3.0000 - fp: 5.0000 - tn: 460.0000 - fn: 84.0000 - accuracy: 0.8388 - precision: 0.3750 - recall: 0.0345 - auc: 0.6345 - val_loss: 0.4507 - val_tp: 1.0000 - val_fp: 0.0000e+00 - val_tn: 113.0000 - val_fn: 24.0000 - val_accuracy: 0.8261 - val_precision: 1.0000 - val_recall: 0.0400 - val_auc: 0.6996\n",
            "Epoch 20/100\n",
            "1/1 [==============================] - 0s 257ms/step - loss: 0.4128 - tp: 2.0000 - fp: 5.0000 - tn: 460.0000 - fn: 85.0000 - accuracy: 0.8370 - precision: 0.2857 - recall: 0.0230 - auc: 0.6903 - val_loss: 0.4496 - val_tp: 1.0000 - val_fp: 0.0000e+00 - val_tn: 113.0000 - val_fn: 24.0000 - val_accuracy: 0.8261 - val_precision: 1.0000 - val_recall: 0.0400 - val_auc: 0.6989\n",
            "Epoch 21/100\n",
            "1/1 [==============================] - 0s 49ms/step - loss: 0.4338 - tp: 4.0000 - fp: 1.0000 - tn: 464.0000 - fn: 83.0000 - accuracy: 0.8478 - precision: 0.8000 - recall: 0.0460 - auc: 0.6267 - val_loss: 0.4486 - val_tp: 1.0000 - val_fp: 0.0000e+00 - val_tn: 113.0000 - val_fn: 24.0000 - val_accuracy: 0.8261 - val_precision: 1.0000 - val_recall: 0.0400 - val_auc: 0.7002\n",
            "Epoch 22/100\n",
            "1/1 [==============================] - 0s 49ms/step - loss: 0.4524 - tp: 1.0000 - fp: 5.0000 - tn: 460.0000 - fn: 86.0000 - accuracy: 0.8351 - precision: 0.1667 - recall: 0.0115 - auc: 0.6037 - val_loss: 0.4475 - val_tp: 1.0000 - val_fp: 0.0000e+00 - val_tn: 113.0000 - val_fn: 24.0000 - val_accuracy: 0.8261 - val_precision: 1.0000 - val_recall: 0.0400 - val_auc: 0.7035\n",
            "Epoch 23/100\n",
            "1/1 [==============================] - 0s 51ms/step - loss: 0.4087 - tp: 3.0000 - fp: 8.0000 - tn: 457.0000 - fn: 84.0000 - accuracy: 0.8333 - precision: 0.2727 - recall: 0.0345 - auc: 0.6960 - val_loss: 0.4465 - val_tp: 1.0000 - val_fp: 0.0000e+00 - val_tn: 113.0000 - val_fn: 24.0000 - val_accuracy: 0.8261 - val_precision: 1.0000 - val_recall: 0.0400 - val_auc: 0.7030\n",
            "Epoch 24/100\n",
            "1/1 [==============================] - 0s 53ms/step - loss: 0.4331 - tp: 6.0000 - fp: 7.0000 - tn: 458.0000 - fn: 81.0000 - accuracy: 0.8406 - precision: 0.4615 - recall: 0.0690 - auc: 0.6494 - val_loss: 0.4455 - val_tp: 1.0000 - val_fp: 0.0000e+00 - val_tn: 113.0000 - val_fn: 24.0000 - val_accuracy: 0.8261 - val_precision: 1.0000 - val_recall: 0.0400 - val_auc: 0.7085\n",
            "Epoch 25/100\n",
            "1/1 [==============================] - 0s 52ms/step - loss: 0.4199 - tp: 6.0000 - fp: 2.0000 - tn: 463.0000 - fn: 81.0000 - accuracy: 0.8496 - precision: 0.7500 - recall: 0.0690 - auc: 0.6582 - val_loss: 0.4445 - val_tp: 1.0000 - val_fp: 0.0000e+00 - val_tn: 113.0000 - val_fn: 24.0000 - val_accuracy: 0.8261 - val_precision: 1.0000 - val_recall: 0.0400 - val_auc: 0.7101\n",
            "Epoch 26/100\n",
            "1/1 [==============================] - 0s 58ms/step - loss: 0.4142 - tp: 0.0000e+00 - fp: 1.0000 - tn: 464.0000 - fn: 87.0000 - accuracy: 0.8406 - precision: 0.0000e+00 - recall: 0.0000e+00 - auc: 0.6777 - val_loss: 0.4436 - val_tp: 1.0000 - val_fp: 0.0000e+00 - val_tn: 113.0000 - val_fn: 24.0000 - val_accuracy: 0.8261 - val_precision: 1.0000 - val_recall: 0.0400 - val_auc: 0.7120\n",
            "Epoch 27/100\n",
            "1/1 [==============================] - 0s 57ms/step - loss: 0.4109 - tp: 4.0000 - fp: 4.0000 - tn: 461.0000 - fn: 83.0000 - accuracy: 0.8424 - precision: 0.5000 - recall: 0.0460 - auc: 0.7000 - val_loss: 0.4426 - val_tp: 1.0000 - val_fp: 0.0000e+00 - val_tn: 113.0000 - val_fn: 24.0000 - val_accuracy: 0.8261 - val_precision: 1.0000 - val_recall: 0.0400 - val_auc: 0.7122\n",
            "Epoch 28/100\n",
            "1/1 [==============================] - 0s 50ms/step - loss: 0.4211 - tp: 3.0000 - fp: 2.0000 - tn: 463.0000 - fn: 84.0000 - accuracy: 0.8442 - precision: 0.6000 - recall: 0.0345 - auc: 0.6585 - val_loss: 0.4417 - val_tp: 1.0000 - val_fp: 0.0000e+00 - val_tn: 113.0000 - val_fn: 24.0000 - val_accuracy: 0.8261 - val_precision: 1.0000 - val_recall: 0.0400 - val_auc: 0.7147\n",
            "Epoch 29/100\n",
            "1/1 [==============================] - 0s 51ms/step - loss: 0.4074 - tp: 4.0000 - fp: 4.0000 - tn: 461.0000 - fn: 83.0000 - accuracy: 0.8424 - precision: 0.5000 - recall: 0.0460 - auc: 0.6853 - val_loss: 0.4407 - val_tp: 1.0000 - val_fp: 0.0000e+00 - val_tn: 113.0000 - val_fn: 24.0000 - val_accuracy: 0.8261 - val_precision: 1.0000 - val_recall: 0.0400 - val_auc: 0.7177\n",
            "Epoch 30/100\n",
            "1/1 [==============================] - 0s 58ms/step - loss: 0.3978 - tp: 7.0000 - fp: 4.0000 - tn: 461.0000 - fn: 80.0000 - accuracy: 0.8478 - precision: 0.6364 - recall: 0.0805 - auc: 0.7136 - val_loss: 0.4398 - val_tp: 1.0000 - val_fp: 0.0000e+00 - val_tn: 113.0000 - val_fn: 24.0000 - val_accuracy: 0.8261 - val_precision: 1.0000 - val_recall: 0.0400 - val_auc: 0.7188\n",
            "Epoch 31/100\n",
            "1/1 [==============================] - 0s 53ms/step - loss: 0.4010 - tp: 4.0000 - fp: 2.0000 - tn: 463.0000 - fn: 83.0000 - accuracy: 0.8460 - precision: 0.6667 - recall: 0.0460 - auc: 0.6909 - val_loss: 0.4390 - val_tp: 1.0000 - val_fp: 0.0000e+00 - val_tn: 113.0000 - val_fn: 24.0000 - val_accuracy: 0.8261 - val_precision: 1.0000 - val_recall: 0.0400 - val_auc: 0.7200\n",
            "Epoch 32/100\n",
            "1/1 [==============================] - 0s 54ms/step - loss: 0.4215 - tp: 3.0000 - fp: 4.0000 - tn: 461.0000 - fn: 84.0000 - accuracy: 0.8406 - precision: 0.4286 - recall: 0.0345 - auc: 0.6692 - val_loss: 0.4381 - val_tp: 1.0000 - val_fp: 0.0000e+00 - val_tn: 113.0000 - val_fn: 24.0000 - val_accuracy: 0.8261 - val_precision: 1.0000 - val_recall: 0.0400 - val_auc: 0.7179\n",
            "Epoch 33/100\n",
            "1/1 [==============================] - 0s 59ms/step - loss: 0.4252 - tp: 1.0000 - fp: 4.0000 - tn: 461.0000 - fn: 86.0000 - accuracy: 0.8370 - precision: 0.2000 - recall: 0.0115 - auc: 0.6576 - val_loss: 0.4372 - val_tp: 1.0000 - val_fp: 0.0000e+00 - val_tn: 113.0000 - val_fn: 24.0000 - val_accuracy: 0.8261 - val_precision: 1.0000 - val_recall: 0.0400 - val_auc: 0.7218\n",
            "Epoch 34/100\n",
            "1/1 [==============================] - 0s 61ms/step - loss: 0.4110 - tp: 5.0000 - fp: 2.0000 - tn: 463.0000 - fn: 82.0000 - accuracy: 0.8478 - precision: 0.7143 - recall: 0.0575 - auc: 0.6736 - val_loss: 0.4364 - val_tp: 1.0000 - val_fp: 0.0000e+00 - val_tn: 113.0000 - val_fn: 24.0000 - val_accuracy: 0.8261 - val_precision: 1.0000 - val_recall: 0.0400 - val_auc: 0.7265\n",
            "Epoch 35/100\n",
            "1/1 [==============================] - 0s 51ms/step - loss: 0.3966 - tp: 6.0000 - fp: 7.0000 - tn: 458.0000 - fn: 81.0000 - accuracy: 0.8406 - precision: 0.4615 - recall: 0.0690 - auc: 0.7318 - val_loss: 0.4356 - val_tp: 1.0000 - val_fp: 0.0000e+00 - val_tn: 113.0000 - val_fn: 24.0000 - val_accuracy: 0.8261 - val_precision: 1.0000 - val_recall: 0.0400 - val_auc: 0.7276\n",
            "Epoch 36/100\n",
            "1/1 [==============================] - 0s 59ms/step - loss: 0.3919 - tp: 5.0000 - fp: 4.0000 - tn: 461.0000 - fn: 82.0000 - accuracy: 0.8442 - precision: 0.5556 - recall: 0.0575 - auc: 0.7358 - val_loss: 0.4349 - val_tp: 1.0000 - val_fp: 0.0000e+00 - val_tn: 113.0000 - val_fn: 24.0000 - val_accuracy: 0.8261 - val_precision: 1.0000 - val_recall: 0.0400 - val_auc: 0.7296\n",
            "Epoch 37/100\n",
            "1/1 [==============================] - 0s 50ms/step - loss: 0.4045 - tp: 2.0000 - fp: 3.0000 - tn: 462.0000 - fn: 85.0000 - accuracy: 0.8406 - precision: 0.4000 - recall: 0.0230 - auc: 0.6995 - val_loss: 0.4341 - val_tp: 1.0000 - val_fp: 0.0000e+00 - val_tn: 113.0000 - val_fn: 24.0000 - val_accuracy: 0.8261 - val_precision: 1.0000 - val_recall: 0.0400 - val_auc: 0.7304\n",
            "Epoch 38/100\n",
            "1/1 [==============================] - 0s 55ms/step - loss: 0.4048 - tp: 2.0000 - fp: 2.0000 - tn: 463.0000 - fn: 85.0000 - accuracy: 0.8424 - precision: 0.5000 - recall: 0.0230 - auc: 0.6982 - val_loss: 0.4334 - val_tp: 1.0000 - val_fp: 0.0000e+00 - val_tn: 113.0000 - val_fn: 24.0000 - val_accuracy: 0.8261 - val_precision: 1.0000 - val_recall: 0.0400 - val_auc: 0.7306\n",
            "Epoch 39/100\n",
            "1/1 [==============================] - 0s 63ms/step - loss: 0.3954 - tp: 7.0000 - fp: 5.0000 - tn: 460.0000 - fn: 80.0000 - accuracy: 0.8460 - precision: 0.5833 - recall: 0.0805 - auc: 0.7192 - val_loss: 0.4326 - val_tp: 1.0000 - val_fp: 0.0000e+00 - val_tn: 113.0000 - val_fn: 24.0000 - val_accuracy: 0.8261 - val_precision: 1.0000 - val_recall: 0.0400 - val_auc: 0.7303\n",
            "Epoch 40/100\n",
            "1/1 [==============================] - 0s 57ms/step - loss: 0.4264 - tp: 2.0000 - fp: 5.0000 - tn: 460.0000 - fn: 85.0000 - accuracy: 0.8370 - precision: 0.2857 - recall: 0.0230 - auc: 0.6775 - val_loss: 0.4319 - val_tp: 1.0000 - val_fp: 0.0000e+00 - val_tn: 113.0000 - val_fn: 24.0000 - val_accuracy: 0.8261 - val_precision: 1.0000 - val_recall: 0.0400 - val_auc: 0.7317\n",
            "Epoch 41/100\n",
            "1/1 [==============================] - 0s 60ms/step - loss: 0.4082 - tp: 5.0000 - fp: 5.0000 - tn: 460.0000 - fn: 82.0000 - accuracy: 0.8424 - precision: 0.5000 - recall: 0.0575 - auc: 0.6920 - val_loss: 0.4313 - val_tp: 1.0000 - val_fp: 0.0000e+00 - val_tn: 113.0000 - val_fn: 24.0000 - val_accuracy: 0.8261 - val_precision: 1.0000 - val_recall: 0.0400 - val_auc: 0.7329\n",
            "Epoch 42/100\n",
            "1/1 [==============================] - 0s 58ms/step - loss: 0.4024 - tp: 2.0000 - fp: 4.0000 - tn: 461.0000 - fn: 85.0000 - accuracy: 0.8388 - precision: 0.3333 - recall: 0.0230 - auc: 0.7068 - val_loss: 0.4307 - val_tp: 1.0000 - val_fp: 0.0000e+00 - val_tn: 113.0000 - val_fn: 24.0000 - val_accuracy: 0.8261 - val_precision: 1.0000 - val_recall: 0.0400 - val_auc: 0.7336\n",
            "Epoch 43/100\n",
            "1/1 [==============================] - 0s 57ms/step - loss: 0.3958 - tp: 4.0000 - fp: 4.0000 - tn: 461.0000 - fn: 83.0000 - accuracy: 0.8424 - precision: 0.5000 - recall: 0.0460 - auc: 0.7186 - val_loss: 0.4300 - val_tp: 1.0000 - val_fp: 0.0000e+00 - val_tn: 113.0000 - val_fn: 24.0000 - val_accuracy: 0.8261 - val_precision: 1.0000 - val_recall: 0.0400 - val_auc: 0.7347\n",
            "Epoch 44/100\n",
            "1/1 [==============================] - 0s 52ms/step - loss: 0.4032 - tp: 3.0000 - fp: 3.0000 - tn: 462.0000 - fn: 84.0000 - accuracy: 0.8424 - precision: 0.5000 - recall: 0.0345 - auc: 0.7045 - val_loss: 0.4294 - val_tp: 1.0000 - val_fp: 0.0000e+00 - val_tn: 113.0000 - val_fn: 24.0000 - val_accuracy: 0.8261 - val_precision: 1.0000 - val_recall: 0.0400 - val_auc: 0.7361\n",
            "Epoch 45/100\n",
            "1/1 [==============================] - 0s 53ms/step - loss: 0.4122 - tp: 4.0000 - fp: 4.0000 - tn: 461.0000 - fn: 83.0000 - accuracy: 0.8424 - precision: 0.5000 - recall: 0.0460 - auc: 0.6858 - val_loss: 0.4287 - val_tp: 1.0000 - val_fp: 0.0000e+00 - val_tn: 113.0000 - val_fn: 24.0000 - val_accuracy: 0.8261 - val_precision: 1.0000 - val_recall: 0.0400 - val_auc: 0.7373\n",
            "Epoch 46/100\n",
            "1/1 [==============================] - 0s 56ms/step - loss: 0.4104 - tp: 1.0000 - fp: 2.0000 - tn: 463.0000 - fn: 86.0000 - accuracy: 0.8406 - precision: 0.3333 - recall: 0.0115 - auc: 0.6974 - val_loss: 0.4281 - val_tp: 1.0000 - val_fp: 0.0000e+00 - val_tn: 113.0000 - val_fn: 24.0000 - val_accuracy: 0.8261 - val_precision: 1.0000 - val_recall: 0.0400 - val_auc: 0.7386\n",
            "Epoch 47/100\n",
            "1/1 [==============================] - 0s 56ms/step - loss: 0.3900 - tp: 6.0000 - fp: 6.0000 - tn: 459.0000 - fn: 81.0000 - accuracy: 0.8424 - precision: 0.5000 - recall: 0.0690 - auc: 0.7359 - val_loss: 0.4274 - val_tp: 1.0000 - val_fp: 0.0000e+00 - val_tn: 113.0000 - val_fn: 24.0000 - val_accuracy: 0.8261 - val_precision: 1.0000 - val_recall: 0.0400 - val_auc: 0.7391\n",
            "Epoch 48/100\n",
            "1/1 [==============================] - 0s 60ms/step - loss: 0.4188 - tp: 0.0000e+00 - fp: 6.0000 - tn: 459.0000 - fn: 87.0000 - accuracy: 0.8315 - precision: 0.0000e+00 - recall: 0.0000e+00 - auc: 0.6843 - val_loss: 0.4268 - val_tp: 1.0000 - val_fp: 0.0000e+00 - val_tn: 113.0000 - val_fn: 24.0000 - val_accuracy: 0.8261 - val_precision: 1.0000 - val_recall: 0.0400 - val_auc: 0.7411\n",
            "Epoch 49/100\n",
            "1/1 [==============================] - 0s 57ms/step - loss: 0.3958 - tp: 5.0000 - fp: 4.0000 - tn: 461.0000 - fn: 82.0000 - accuracy: 0.8442 - precision: 0.5556 - recall: 0.0575 - auc: 0.7359 - val_loss: 0.4262 - val_tp: 1.0000 - val_fp: 0.0000e+00 - val_tn: 113.0000 - val_fn: 24.0000 - val_accuracy: 0.8261 - val_precision: 1.0000 - val_recall: 0.0400 - val_auc: 0.7418\n",
            "Epoch 50/100\n",
            "1/1 [==============================] - 0s 59ms/step - loss: 0.3997 - tp: 4.0000 - fp: 2.0000 - tn: 463.0000 - fn: 83.0000 - accuracy: 0.8460 - precision: 0.6667 - recall: 0.0460 - auc: 0.7059 - val_loss: 0.4256 - val_tp: 1.0000 - val_fp: 0.0000e+00 - val_tn: 113.0000 - val_fn: 24.0000 - val_accuracy: 0.8261 - val_precision: 1.0000 - val_recall: 0.0400 - val_auc: 0.7435\n",
            "Epoch 51/100\n",
            "1/1 [==============================] - 0s 68ms/step - loss: 0.3950 - tp: 6.0000 - fp: 6.0000 - tn: 459.0000 - fn: 81.0000 - accuracy: 0.8424 - precision: 0.5000 - recall: 0.0690 - auc: 0.7165 - val_loss: 0.4250 - val_tp: 1.0000 - val_fp: 0.0000e+00 - val_tn: 113.0000 - val_fn: 24.0000 - val_accuracy: 0.8261 - val_precision: 1.0000 - val_recall: 0.0400 - val_auc: 0.7437\n",
            "Epoch 52/100\n",
            "1/1 [==============================] - 0s 70ms/step - loss: 0.3990 - tp: 3.0000 - fp: 5.0000 - tn: 460.0000 - fn: 84.0000 - accuracy: 0.8388 - precision: 0.3750 - recall: 0.0345 - auc: 0.7057 - val_loss: 0.4244 - val_tp: 1.0000 - val_fp: 0.0000e+00 - val_tn: 113.0000 - val_fn: 24.0000 - val_accuracy: 0.8261 - val_precision: 1.0000 - val_recall: 0.0400 - val_auc: 0.7439\n",
            "Epoch 53/100\n",
            "1/1 [==============================] - 0s 57ms/step - loss: 0.3825 - tp: 5.0000 - fp: 3.0000 - tn: 462.0000 - fn: 82.0000 - accuracy: 0.8460 - precision: 0.6250 - recall: 0.0575 - auc: 0.7521 - val_loss: 0.4238 - val_tp: 1.0000 - val_fp: 0.0000e+00 - val_tn: 113.0000 - val_fn: 24.0000 - val_accuracy: 0.8261 - val_precision: 1.0000 - val_recall: 0.0400 - val_auc: 0.7458\n",
            "Epoch 54/100\n",
            "1/1 [==============================] - 0s 57ms/step - loss: 0.3986 - tp: 4.0000 - fp: 6.0000 - tn: 459.0000 - fn: 83.0000 - accuracy: 0.8388 - precision: 0.4000 - recall: 0.0460 - auc: 0.7144 - val_loss: 0.4233 - val_tp: 1.0000 - val_fp: 0.0000e+00 - val_tn: 113.0000 - val_fn: 24.0000 - val_accuracy: 0.8261 - val_precision: 1.0000 - val_recall: 0.0400 - val_auc: 0.7474\n",
            "Epoch 55/100\n",
            "1/1 [==============================] - 0s 56ms/step - loss: 0.3953 - tp: 8.0000 - fp: 4.0000 - tn: 461.0000 - fn: 79.0000 - accuracy: 0.8496 - precision: 0.6667 - recall: 0.0920 - auc: 0.7273 - val_loss: 0.4227 - val_tp: 1.0000 - val_fp: 0.0000e+00 - val_tn: 113.0000 - val_fn: 24.0000 - val_accuracy: 0.8261 - val_precision: 1.0000 - val_recall: 0.0400 - val_auc: 0.7474\n",
            "Epoch 56/100\n",
            "1/1 [==============================] - 0s 59ms/step - loss: 0.3894 - tp: 6.0000 - fp: 5.0000 - tn: 460.0000 - fn: 81.0000 - accuracy: 0.8442 - precision: 0.5455 - recall: 0.0690 - auc: 0.7291 - val_loss: 0.4222 - val_tp: 1.0000 - val_fp: 0.0000e+00 - val_tn: 113.0000 - val_fn: 24.0000 - val_accuracy: 0.8261 - val_precision: 1.0000 - val_recall: 0.0400 - val_auc: 0.7467\n",
            "Epoch 57/100\n",
            "1/1 [==============================] - 0s 62ms/step - loss: 0.3842 - tp: 7.0000 - fp: 3.0000 - tn: 462.0000 - fn: 80.0000 - accuracy: 0.8496 - precision: 0.7000 - recall: 0.0805 - auc: 0.7451 - val_loss: 0.4217 - val_tp: 1.0000 - val_fp: 0.0000e+00 - val_tn: 113.0000 - val_fn: 24.0000 - val_accuracy: 0.8261 - val_precision: 1.0000 - val_recall: 0.0400 - val_auc: 0.7476\n",
            "Epoch 58/100\n",
            "1/1 [==============================] - 0s 56ms/step - loss: 0.3774 - tp: 6.0000 - fp: 5.0000 - tn: 460.0000 - fn: 81.0000 - accuracy: 0.8442 - precision: 0.5455 - recall: 0.0690 - auc: 0.7628 - val_loss: 0.4212 - val_tp: 1.0000 - val_fp: 0.0000e+00 - val_tn: 113.0000 - val_fn: 24.0000 - val_accuracy: 0.8261 - val_precision: 1.0000 - val_recall: 0.0400 - val_auc: 0.7487\n",
            "Epoch 59/100\n",
            "1/1 [==============================] - 0s 54ms/step - loss: 0.3921 - tp: 3.0000 - fp: 5.0000 - tn: 460.0000 - fn: 84.0000 - accuracy: 0.8388 - precision: 0.3750 - recall: 0.0345 - auc: 0.7413 - val_loss: 0.4207 - val_tp: 1.0000 - val_fp: 0.0000e+00 - val_tn: 113.0000 - val_fn: 24.0000 - val_accuracy: 0.8261 - val_precision: 1.0000 - val_recall: 0.0400 - val_auc: 0.7512\n",
            "Epoch 60/100\n",
            "1/1 [==============================] - 0s 58ms/step - loss: 0.3715 - tp: 5.0000 - fp: 4.0000 - tn: 461.0000 - fn: 82.0000 - accuracy: 0.8442 - precision: 0.5556 - recall: 0.0575 - auc: 0.7795 - val_loss: 0.4202 - val_tp: 1.0000 - val_fp: 0.0000e+00 - val_tn: 113.0000 - val_fn: 24.0000 - val_accuracy: 0.8261 - val_precision: 1.0000 - val_recall: 0.0400 - val_auc: 0.7499\n",
            "Epoch 61/100\n",
            "1/1 [==============================] - 0s 62ms/step - loss: 0.3805 - tp: 5.0000 - fp: 4.0000 - tn: 461.0000 - fn: 82.0000 - accuracy: 0.8442 - precision: 0.5556 - recall: 0.0575 - auc: 0.7464 - val_loss: 0.4198 - val_tp: 1.0000 - val_fp: 0.0000e+00 - val_tn: 113.0000 - val_fn: 24.0000 - val_accuracy: 0.8261 - val_precision: 1.0000 - val_recall: 0.0400 - val_auc: 0.7485\n",
            "Epoch 62/100\n",
            "1/1 [==============================] - 0s 61ms/step - loss: 0.3983 - tp: 3.0000 - fp: 7.0000 - tn: 458.0000 - fn: 84.0000 - accuracy: 0.8351 - precision: 0.3000 - recall: 0.0345 - auc: 0.7405 - val_loss: 0.4193 - val_tp: 1.0000 - val_fp: 0.0000e+00 - val_tn: 113.0000 - val_fn: 24.0000 - val_accuracy: 0.8261 - val_precision: 1.0000 - val_recall: 0.0400 - val_auc: 0.7490\n",
            "Epoch 63/100\n",
            "1/1 [==============================] - 0s 55ms/step - loss: 0.3848 - tp: 6.0000 - fp: 5.0000 - tn: 460.0000 - fn: 81.0000 - accuracy: 0.8442 - precision: 0.5455 - recall: 0.0690 - auc: 0.7453 - val_loss: 0.4189 - val_tp: 1.0000 - val_fp: 0.0000e+00 - val_tn: 113.0000 - val_fn: 24.0000 - val_accuracy: 0.8261 - val_precision: 1.0000 - val_recall: 0.0400 - val_auc: 0.7490\n",
            "Epoch 64/100\n",
            "1/1 [==============================] - 0s 60ms/step - loss: 0.3817 - tp: 7.0000 - fp: 9.0000 - tn: 456.0000 - fn: 80.0000 - accuracy: 0.8388 - precision: 0.4375 - recall: 0.0805 - auc: 0.7493 - val_loss: 0.4185 - val_tp: 1.0000 - val_fp: 0.0000e+00 - val_tn: 113.0000 - val_fn: 24.0000 - val_accuracy: 0.8261 - val_precision: 1.0000 - val_recall: 0.0400 - val_auc: 0.7494\n",
            "Epoch 65/100\n",
            "1/1 [==============================] - 0s 64ms/step - loss: 0.3823 - tp: 8.0000 - fp: 5.0000 - tn: 460.0000 - fn: 79.0000 - accuracy: 0.8478 - precision: 0.6154 - recall: 0.0920 - auc: 0.7565 - val_loss: 0.4180 - val_tp: 1.0000 - val_fp: 0.0000e+00 - val_tn: 113.0000 - val_fn: 24.0000 - val_accuracy: 0.8261 - val_precision: 1.0000 - val_recall: 0.0400 - val_auc: 0.7520\n",
            "Epoch 66/100\n",
            "1/1 [==============================] - 0s 252ms/step - loss: 0.3787 - tp: 8.0000 - fp: 5.0000 - tn: 460.0000 - fn: 79.0000 - accuracy: 0.8478 - precision: 0.6154 - recall: 0.0920 - auc: 0.7672 - val_loss: 0.4177 - val_tp: 1.0000 - val_fp: 0.0000e+00 - val_tn: 113.0000 - val_fn: 24.0000 - val_accuracy: 0.8261 - val_precision: 1.0000 - val_recall: 0.0400 - val_auc: 0.7504\n",
            "Epoch 67/100\n",
            "1/1 [==============================] - 0s 56ms/step - loss: 0.3838 - tp: 8.0000 - fp: 8.0000 - tn: 457.0000 - fn: 79.0000 - accuracy: 0.8424 - precision: 0.5000 - recall: 0.0920 - auc: 0.7519 - val_loss: 0.4173 - val_tp: 1.0000 - val_fp: 0.0000e+00 - val_tn: 113.0000 - val_fn: 24.0000 - val_accuracy: 0.8261 - val_precision: 1.0000 - val_recall: 0.0400 - val_auc: 0.7508\n",
            "Epoch 68/100\n",
            "1/1 [==============================] - 0s 61ms/step - loss: 0.3777 - tp: 11.0000 - fp: 8.0000 - tn: 457.0000 - fn: 76.0000 - accuracy: 0.8478 - precision: 0.5789 - recall: 0.1264 - auc: 0.7529 - val_loss: 0.4169 - val_tp: 1.0000 - val_fp: 1.0000 - val_tn: 112.0000 - val_fn: 24.0000 - val_accuracy: 0.8188 - val_precision: 0.5000 - val_recall: 0.0400 - val_auc: 0.7531\n",
            "Epoch 69/100\n",
            "1/1 [==============================] - 0s 56ms/step - loss: 0.3936 - tp: 8.0000 - fp: 5.0000 - tn: 460.0000 - fn: 79.0000 - accuracy: 0.8478 - precision: 0.6154 - recall: 0.0920 - auc: 0.7266 - val_loss: 0.4165 - val_tp: 1.0000 - val_fp: 1.0000 - val_tn: 112.0000 - val_fn: 24.0000 - val_accuracy: 0.8188 - val_precision: 0.5000 - val_recall: 0.0400 - val_auc: 0.7526\n",
            "Epoch 70/100\n",
            "1/1 [==============================] - 0s 61ms/step - loss: 0.3913 - tp: 5.0000 - fp: 7.0000 - tn: 458.0000 - fn: 82.0000 - accuracy: 0.8388 - precision: 0.4167 - recall: 0.0575 - auc: 0.7526 - val_loss: 0.4162 - val_tp: 1.0000 - val_fp: 1.0000 - val_tn: 112.0000 - val_fn: 24.0000 - val_accuracy: 0.8188 - val_precision: 0.5000 - val_recall: 0.0400 - val_auc: 0.7522\n",
            "Epoch 71/100\n",
            "1/1 [==============================] - 0s 64ms/step - loss: 0.3906 - tp: 8.0000 - fp: 10.0000 - tn: 455.0000 - fn: 79.0000 - accuracy: 0.8388 - precision: 0.4444 - recall: 0.0920 - auc: 0.7462 - val_loss: 0.4158 - val_tp: 1.0000 - val_fp: 1.0000 - val_tn: 112.0000 - val_fn: 24.0000 - val_accuracy: 0.8188 - val_precision: 0.5000 - val_recall: 0.0400 - val_auc: 0.7524\n",
            "Epoch 72/100\n",
            "1/1 [==============================] - 0s 54ms/step - loss: 0.3688 - tp: 8.0000 - fp: 4.0000 - tn: 461.0000 - fn: 79.0000 - accuracy: 0.8496 - precision: 0.6667 - recall: 0.0920 - auc: 0.7701 - val_loss: 0.4155 - val_tp: 1.0000 - val_fp: 1.0000 - val_tn: 112.0000 - val_fn: 24.0000 - val_accuracy: 0.8188 - val_precision: 0.5000 - val_recall: 0.0400 - val_auc: 0.7499\n",
            "Epoch 73/100\n",
            "1/1 [==============================] - 0s 55ms/step - loss: 0.3806 - tp: 5.0000 - fp: 2.0000 - tn: 463.0000 - fn: 82.0000 - accuracy: 0.8478 - precision: 0.7143 - recall: 0.0575 - auc: 0.7435 - val_loss: 0.4151 - val_tp: 1.0000 - val_fp: 1.0000 - val_tn: 112.0000 - val_fn: 24.0000 - val_accuracy: 0.8188 - val_precision: 0.5000 - val_recall: 0.0400 - val_auc: 0.7512\n",
            "Epoch 74/100\n",
            "1/1 [==============================] - 0s 57ms/step - loss: 0.3817 - tp: 12.0000 - fp: 7.0000 - tn: 458.0000 - fn: 75.0000 - accuracy: 0.8514 - precision: 0.6316 - recall: 0.1379 - auc: 0.7434 - val_loss: 0.4147 - val_tp: 1.0000 - val_fp: 1.0000 - val_tn: 112.0000 - val_fn: 24.0000 - val_accuracy: 0.8188 - val_precision: 0.5000 - val_recall: 0.0400 - val_auc: 0.7517\n",
            "Epoch 75/100\n",
            "1/1 [==============================] - 0s 58ms/step - loss: 0.3847 - tp: 4.0000 - fp: 7.0000 - tn: 458.0000 - fn: 83.0000 - accuracy: 0.8370 - precision: 0.3636 - recall: 0.0460 - auc: 0.7450 - val_loss: 0.4144 - val_tp: 1.0000 - val_fp: 1.0000 - val_tn: 112.0000 - val_fn: 24.0000 - val_accuracy: 0.8188 - val_precision: 0.5000 - val_recall: 0.0400 - val_auc: 0.7540\n",
            "Epoch 76/100\n",
            "1/1 [==============================] - 0s 58ms/step - loss: 0.3670 - tp: 11.0000 - fp: 3.0000 - tn: 462.0000 - fn: 76.0000 - accuracy: 0.8569 - precision: 0.7857 - recall: 0.1264 - auc: 0.7893 - val_loss: 0.4140 - val_tp: 1.0000 - val_fp: 1.0000 - val_tn: 112.0000 - val_fn: 24.0000 - val_accuracy: 0.8188 - val_precision: 0.5000 - val_recall: 0.0400 - val_auc: 0.7552\n",
            "Epoch 77/100\n",
            "1/1 [==============================] - 0s 60ms/step - loss: 0.3876 - tp: 6.0000 - fp: 12.0000 - tn: 453.0000 - fn: 81.0000 - accuracy: 0.8315 - precision: 0.3333 - recall: 0.0690 - auc: 0.7490 - val_loss: 0.4136 - val_tp: 1.0000 - val_fp: 1.0000 - val_tn: 112.0000 - val_fn: 24.0000 - val_accuracy: 0.8188 - val_precision: 0.5000 - val_recall: 0.0400 - val_auc: 0.7547\n",
            "Epoch 78/100\n",
            "1/1 [==============================] - 0s 59ms/step - loss: 0.3976 - tp: 3.0000 - fp: 10.0000 - tn: 455.0000 - fn: 84.0000 - accuracy: 0.8297 - precision: 0.2308 - recall: 0.0345 - auc: 0.7395 - val_loss: 0.4133 - val_tp: 1.0000 - val_fp: 1.0000 - val_tn: 112.0000 - val_fn: 24.0000 - val_accuracy: 0.8188 - val_precision: 0.5000 - val_recall: 0.0400 - val_auc: 0.7535\n",
            "Epoch 79/100\n",
            "1/1 [==============================] - 0s 70ms/step - loss: 0.3633 - tp: 7.0000 - fp: 3.0000 - tn: 462.0000 - fn: 80.0000 - accuracy: 0.8496 - precision: 0.7000 - recall: 0.0805 - auc: 0.7914 - val_loss: 0.4130 - val_tp: 1.0000 - val_fp: 1.0000 - val_tn: 112.0000 - val_fn: 24.0000 - val_accuracy: 0.8188 - val_precision: 0.5000 - val_recall: 0.0400 - val_auc: 0.7536\n",
            "Epoch 80/100\n",
            "1/1 [==============================] - 0s 62ms/step - loss: 0.3929 - tp: 6.0000 - fp: 8.0000 - tn: 457.0000 - fn: 81.0000 - accuracy: 0.8388 - precision: 0.4286 - recall: 0.0690 - auc: 0.7543 - val_loss: 0.4126 - val_tp: 1.0000 - val_fp: 1.0000 - val_tn: 112.0000 - val_fn: 24.0000 - val_accuracy: 0.8188 - val_precision: 0.5000 - val_recall: 0.0400 - val_auc: 0.7527\n",
            "Epoch 81/100\n",
            "1/1 [==============================] - 0s 54ms/step - loss: 0.3738 - tp: 12.0000 - fp: 10.0000 - tn: 455.0000 - fn: 75.0000 - accuracy: 0.8460 - precision: 0.5455 - recall: 0.1379 - auc: 0.7775 - val_loss: 0.4124 - val_tp: 1.0000 - val_fp: 1.0000 - val_tn: 112.0000 - val_fn: 24.0000 - val_accuracy: 0.8188 - val_precision: 0.5000 - val_recall: 0.0400 - val_auc: 0.7554\n",
            "Epoch 82/100\n",
            "1/1 [==============================] - 0s 55ms/step - loss: 0.3700 - tp: 11.0000 - fp: 8.0000 - tn: 457.0000 - fn: 76.0000 - accuracy: 0.8478 - precision: 0.5789 - recall: 0.1264 - auc: 0.7805 - val_loss: 0.4121 - val_tp: 1.0000 - val_fp: 1.0000 - val_tn: 112.0000 - val_fn: 24.0000 - val_accuracy: 0.8188 - val_precision: 0.5000 - val_recall: 0.0400 - val_auc: 0.7556\n",
            "Epoch 83/100\n",
            "1/1 [==============================] - 0s 63ms/step - loss: 0.3860 - tp: 10.0000 - fp: 12.0000 - tn: 453.0000 - fn: 77.0000 - accuracy: 0.8388 - precision: 0.4545 - recall: 0.1149 - auc: 0.7561 - val_loss: 0.4118 - val_tp: 1.0000 - val_fp: 1.0000 - val_tn: 112.0000 - val_fn: 24.0000 - val_accuracy: 0.8188 - val_precision: 0.5000 - val_recall: 0.0400 - val_auc: 0.7554\n",
            "Epoch 84/100\n",
            "1/1 [==============================] - 0s 61ms/step - loss: 0.3585 - tp: 11.0000 - fp: 5.0000 - tn: 460.0000 - fn: 76.0000 - accuracy: 0.8533 - precision: 0.6875 - recall: 0.1264 - auc: 0.7871 - val_loss: 0.4116 - val_tp: 1.0000 - val_fp: 1.0000 - val_tn: 112.0000 - val_fn: 24.0000 - val_accuracy: 0.8188 - val_precision: 0.5000 - val_recall: 0.0400 - val_auc: 0.7579\n",
            "Epoch 85/100\n",
            "1/1 [==============================] - 0s 54ms/step - loss: 0.3671 - tp: 10.0000 - fp: 7.0000 - tn: 458.0000 - fn: 77.0000 - accuracy: 0.8478 - precision: 0.5882 - recall: 0.1149 - auc: 0.7760 - val_loss: 0.4113 - val_tp: 1.0000 - val_fp: 1.0000 - val_tn: 112.0000 - val_fn: 24.0000 - val_accuracy: 0.8188 - val_precision: 0.5000 - val_recall: 0.0400 - val_auc: 0.7591\n",
            "Epoch 86/100\n",
            "1/1 [==============================] - 0s 57ms/step - loss: 0.3787 - tp: 6.0000 - fp: 6.0000 - tn: 459.0000 - fn: 81.0000 - accuracy: 0.8424 - precision: 0.5000 - recall: 0.0690 - auc: 0.7623 - val_loss: 0.4111 - val_tp: 1.0000 - val_fp: 1.0000 - val_tn: 112.0000 - val_fn: 24.0000 - val_accuracy: 0.8188 - val_precision: 0.5000 - val_recall: 0.0400 - val_auc: 0.7602\n",
            "Epoch 87/100\n",
            "1/1 [==============================] - 0s 64ms/step - loss: 0.3691 - tp: 8.0000 - fp: 8.0000 - tn: 457.0000 - fn: 79.0000 - accuracy: 0.8424 - precision: 0.5000 - recall: 0.0920 - auc: 0.7748 - val_loss: 0.4109 - val_tp: 1.0000 - val_fp: 1.0000 - val_tn: 112.0000 - val_fn: 24.0000 - val_accuracy: 0.8188 - val_precision: 0.5000 - val_recall: 0.0400 - val_auc: 0.7596\n",
            "Epoch 88/100\n",
            "1/1 [==============================] - 0s 60ms/step - loss: 0.3847 - tp: 7.0000 - fp: 7.0000 - tn: 458.0000 - fn: 80.0000 - accuracy: 0.8424 - precision: 0.5000 - recall: 0.0805 - auc: 0.7576 - val_loss: 0.4106 - val_tp: 1.0000 - val_fp: 1.0000 - val_tn: 112.0000 - val_fn: 24.0000 - val_accuracy: 0.8188 - val_precision: 0.5000 - val_recall: 0.0400 - val_auc: 0.7600\n",
            "Epoch 89/100\n",
            "1/1 [==============================] - 0s 57ms/step - loss: 0.3601 - tp: 9.0000 - fp: 9.0000 - tn: 456.0000 - fn: 78.0000 - accuracy: 0.8424 - precision: 0.5000 - recall: 0.1034 - auc: 0.8016 - val_loss: 0.4104 - val_tp: 1.0000 - val_fp: 1.0000 - val_tn: 112.0000 - val_fn: 24.0000 - val_accuracy: 0.8188 - val_precision: 0.5000 - val_recall: 0.0400 - val_auc: 0.7600\n",
            "Epoch 90/100\n",
            "1/1 [==============================] - 0s 68ms/step - loss: 0.3533 - tp: 13.0000 - fp: 10.0000 - tn: 455.0000 - fn: 74.0000 - accuracy: 0.8478 - precision: 0.5652 - recall: 0.1494 - auc: 0.8038 - val_loss: 0.4102 - val_tp: 1.0000 - val_fp: 1.0000 - val_tn: 112.0000 - val_fn: 24.0000 - val_accuracy: 0.8188 - val_precision: 0.5000 - val_recall: 0.0400 - val_auc: 0.7591\n",
            "Epoch 91/100\n",
            "1/1 [==============================] - 0s 55ms/step - loss: 0.3533 - tp: 9.0000 - fp: 5.0000 - tn: 460.0000 - fn: 78.0000 - accuracy: 0.8496 - precision: 0.6429 - recall: 0.1034 - auc: 0.8071 - val_loss: 0.4100 - val_tp: 1.0000 - val_fp: 1.0000 - val_tn: 112.0000 - val_fn: 24.0000 - val_accuracy: 0.8188 - val_precision: 0.5000 - val_recall: 0.0400 - val_auc: 0.7591\n",
            "Epoch 92/100\n",
            "1/1 [==============================] - 0s 59ms/step - loss: 0.3759 - tp: 10.0000 - fp: 7.0000 - tn: 458.0000 - fn: 77.0000 - accuracy: 0.8478 - precision: 0.5882 - recall: 0.1149 - auc: 0.7649 - val_loss: 0.4098 - val_tp: 1.0000 - val_fp: 1.0000 - val_tn: 112.0000 - val_fn: 24.0000 - val_accuracy: 0.8188 - val_precision: 0.5000 - val_recall: 0.0400 - val_auc: 0.7593\n",
            "Epoch 93/100\n",
            "1/1 [==============================] - 0s 60ms/step - loss: 0.3678 - tp: 12.0000 - fp: 4.0000 - tn: 461.0000 - fn: 75.0000 - accuracy: 0.8569 - precision: 0.7500 - recall: 0.1379 - auc: 0.7804 - val_loss: 0.4096 - val_tp: 1.0000 - val_fp: 1.0000 - val_tn: 112.0000 - val_fn: 24.0000 - val_accuracy: 0.8188 - val_precision: 0.5000 - val_recall: 0.0400 - val_auc: 0.7593\n",
            "Epoch 94/100\n",
            "1/1 [==============================] - 0s 74ms/step - loss: 0.3796 - tp: 13.0000 - fp: 8.0000 - tn: 457.0000 - fn: 74.0000 - accuracy: 0.8514 - precision: 0.6190 - recall: 0.1494 - auc: 0.7532 - val_loss: 0.4094 - val_tp: 1.0000 - val_fp: 1.0000 - val_tn: 112.0000 - val_fn: 24.0000 - val_accuracy: 0.8188 - val_precision: 0.5000 - val_recall: 0.0400 - val_auc: 0.7588\n",
            "Epoch 95/100\n",
            "1/1 [==============================] - 0s 54ms/step - loss: 0.3701 - tp: 7.0000 - fp: 7.0000 - tn: 458.0000 - fn: 80.0000 - accuracy: 0.8424 - precision: 0.5000 - recall: 0.0805 - auc: 0.7742 - val_loss: 0.4092 - val_tp: 1.0000 - val_fp: 1.0000 - val_tn: 112.0000 - val_fn: 24.0000 - val_accuracy: 0.8188 - val_precision: 0.5000 - val_recall: 0.0400 - val_auc: 0.7618\n",
            "Epoch 96/100\n",
            "1/1 [==============================] - 0s 57ms/step - loss: 0.3740 - tp: 7.0000 - fp: 8.0000 - tn: 457.0000 - fn: 80.0000 - accuracy: 0.8406 - precision: 0.4667 - recall: 0.0805 - auc: 0.7614 - val_loss: 0.4090 - val_tp: 1.0000 - val_fp: 1.0000 - val_tn: 112.0000 - val_fn: 24.0000 - val_accuracy: 0.8188 - val_precision: 0.5000 - val_recall: 0.0400 - val_auc: 0.7625\n",
            "Epoch 97/100\n",
            "1/1 [==============================] - 0s 55ms/step - loss: 0.3605 - tp: 11.0000 - fp: 7.0000 - tn: 458.0000 - fn: 76.0000 - accuracy: 0.8496 - precision: 0.6111 - recall: 0.1264 - auc: 0.7941 - val_loss: 0.4087 - val_tp: 1.0000 - val_fp: 1.0000 - val_tn: 112.0000 - val_fn: 24.0000 - val_accuracy: 0.8188 - val_precision: 0.5000 - val_recall: 0.0400 - val_auc: 0.7630\n",
            "Epoch 98/100\n",
            "1/1 [==============================] - 0s 67ms/step - loss: 0.3815 - tp: 9.0000 - fp: 7.0000 - tn: 458.0000 - fn: 78.0000 - accuracy: 0.8460 - precision: 0.5625 - recall: 0.1034 - auc: 0.7592 - val_loss: 0.4085 - val_tp: 1.0000 - val_fp: 1.0000 - val_tn: 112.0000 - val_fn: 24.0000 - val_accuracy: 0.8188 - val_precision: 0.5000 - val_recall: 0.0400 - val_auc: 0.7634\n",
            "Epoch 99/100\n",
            "1/1 [==============================] - 0s 67ms/step - loss: 0.3576 - tp: 9.0000 - fp: 8.0000 - tn: 457.0000 - fn: 78.0000 - accuracy: 0.8442 - precision: 0.5294 - recall: 0.1034 - auc: 0.8124 - val_loss: 0.4083 - val_tp: 1.0000 - val_fp: 1.0000 - val_tn: 112.0000 - val_fn: 24.0000 - val_accuracy: 0.8188 - val_precision: 0.5000 - val_recall: 0.0400 - val_auc: 0.7644\n",
            "Epoch 100/100\n",
            "1/1 [==============================] - 0s 63ms/step - loss: 0.3852 - tp: 8.0000 - fp: 6.0000 - tn: 459.0000 - fn: 79.0000 - accuracy: 0.8460 - precision: 0.5714 - recall: 0.0920 - auc: 0.7532 - val_loss: 0.4081 - val_tp: 1.0000 - val_fp: 1.0000 - val_tn: 112.0000 - val_fn: 24.0000 - val_accuracy: 0.8188 - val_precision: 0.5000 - val_recall: 0.0400 - val_auc: 0.7655\n"
          ],
          "name": "stdout"
        }
      ]
    },
    {
      "cell_type": "code",
      "metadata": {
        "id": "K5sGYGg0rUgN"
      },
      "source": [
        "def plot_metrics(history):\r\n",
        "  metrics = ['loss', 'auc', 'precision', 'recall']\r\n",
        "  for n, metric in enumerate(metrics):\r\n",
        "    name = metric.replace(\"_\",\" \").capitalize()\r\n",
        "    plt.subplot(2,2,n+1)\r\n",
        "    plt.plot(history.epoch, history.history[metric], color=colors[0], label='Train')\r\n",
        "    plt.plot(history.epoch, history.history['val_'+metric],\r\n",
        "             color=colors[0], linestyle=\"--\", label='Val')\r\n",
        "    plt.xlabel('Epoch')\r\n",
        "    plt.ylabel(name)\r\n",
        "    if metric == 'loss':\r\n",
        "      plt.ylim([0, plt.ylim()[1]])\r\n",
        "    elif metric == 'auc':\r\n",
        "      plt.ylim([0.8,1])\r\n",
        "    else:\r\n",
        "      plt.ylim([0,1])\r\n",
        "\r\n",
        "    plt.legend()"
      ],
      "execution_count": 41,
      "outputs": []
    },
    {
      "cell_type": "code",
      "metadata": {
        "colab": {
          "base_uri": "https://localhost:8080/",
          "height": 609
        },
        "id": "liXV0umFrUWH",
        "outputId": "258fad0e-d118-404a-e176-95834a3e1408"
      },
      "source": [
        "plot_metrics(baseline_history)"
      ],
      "execution_count": 42,
      "outputs": [
        {
          "output_type": "display_data",
          "data": {
            "image/png": "[encoded data removed]",
            "text/plain": [
              "<Figure size 864x720 with 4 Axes>"
            ]
          },
          "metadata": {
            "tags": [],
            "needs_background": "light"
          }
        }
      ]
    },
    {
      "cell_type": "code",
      "metadata": {
        "id": "DXyx1OkLrUPH"
      },
      "source": [
        "train_predictions_baseline = model.predict(train_features, batch_size=BATCH_SIZE)\r\n",
        "test_predictions_baseline = model.predict(test_features, batch_size=BATCH_SIZE)"
      ],
      "execution_count": 43,
      "outputs": []
    },
    {
      "cell_type": "code",
      "metadata": {
        "id": "PrVDSkV6re7R"
      },
      "source": [
        "def plot_cm(labels, predictions, p=0.5):\r\n",
        "  cm = confusion_matrix(labels, predictions > p)\r\n",
        "  plt.figure(figsize=(5,5))\r\n",
        "  sns.heatmap(cm, annot=True, fmt=\"d\")\r\n",
        "  plt.title('Confusion matrix @{:.2f}'.format(p))\r\n",
        "  plt.ylabel('Actual label')\r\n",
        "  plt.xlabel('Predicted label')\r\n",
        "\r\n",
        "  print('Legitimate Transactions Detected (True Negatives): ', cm[0][0])\r\n",
        "  print('Legitimate Transactions Incorrectly Detected (False Positives): ', cm[0][1])\r\n",
        "  print('Fraudulent Transactions Missed (False Negatives): ', cm[1][0])\r\n",
        "  print('Fraudulent Transactions Detected (True Positives): ', cm[1][1])\r\n",
        "  print('Total Fraudulent Transactions: ', np.sum(cm[1]))"
      ],
      "execution_count": 44,
      "outputs": []
    },
    {
      "cell_type": "code",
      "metadata": {
        "colab": {
          "base_uri": "https://localhost:8080/",
          "height": 602
        },
        "id": "OcA2NIfzre1H",
        "outputId": "7ac35857-8e6c-4b08-9815-77678094d16e"
      },
      "source": [
        "baseline_results = model.evaluate(test_features, test_labels,\r\n",
        "                                  batch_size=BATCH_SIZE, verbose=0)\r\n",
        "for name, value in zip(model.metrics_names, baseline_results):\r\n",
        "  print(name, ': ', value)\r\n",
        "print()\r\n",
        "\r\n",
        "plot_cm(test_labels, test_predictions_baseline)"
      ],
      "execution_count": 45,
      "outputs": [
        {
          "output_type": "stream",
          "text": [
            "loss :  0.5029137134552002\n",
            "tp :  2.0\n",
            "fp :  2.0\n",
            "tn :  135.0\n",
            "fn :  34.0\n",
            "accuracy :  0.7919074892997742\n",
            "precision :  0.5\n",
            "recall :  0.0555555559694767\n",
            "auc :  0.7107664346694946\n",
            "\n",
            "Legitimate Transactions Detected (True Negatives):  135\n",
            "Legitimate Transactions Incorrectly Detected (False Positives):  2\n",
            "Fraudulent Transactions Missed (False Negatives):  34\n",
            "Fraudulent Transactions Detected (True Positives):  2\n",
            "Total Fraudulent Transactions:  36\n"
          ],
          "name": "stdout"
        },
        {
          "output_type": "display_data",
          "data": {
            "image/png": "[encoded data removed]",
            "text/plain": [
              "<Figure size 360x360 with 2 Axes>"
            ]
          },
          "metadata": {
            "tags": [],
            "needs_background": "light"
          }
        }
      ]
    },
    {
      "cell_type": "code",
      "metadata": {
        "id": "JfHZ9BnFresA"
      },
      "source": [
        "def plot_roc(name, labels, predictions, **kwargs):\r\n",
        "  fp, tp, _ = sklearn.metrics.roc_curve(labels, predictions)\r\n",
        "\r\n",
        "  plt.plot(100*fp, 100*tp, label=name, linewidth=2, **kwargs)\r\n",
        "  plt.xlabel('False positives [%]')\r\n",
        "  plt.ylabel('True positives [%]')\r\n",
        "  plt.xlim([-0.5,20])\r\n",
        "  plt.ylim([80,100.5])\r\n",
        "  plt.grid(True)\r\n",
        "  ax = plt.gca()\r\n",
        "  ax.set_aspect('equal')"
      ],
      "execution_count": 46,
      "outputs": []
    },
    {
      "cell_type": "code",
      "metadata": {
        "colab": {
          "base_uri": "https://localhost:8080/",
          "height": 623
        },
        "id": "p0jvq2kvrelj",
        "outputId": "a793bf06-78be-4974-d1cd-1f8a7b17caf3"
      },
      "source": [
        "import sklearn\r\n",
        "plot_roc(\"Train Baseline\", train_labels, train_predictions_baseline, color=colors[0])\r\n",
        "plot_roc(\"Test Baseline\", test_labels, test_predictions_baseline, color=colors[0], linestyle='--')\r\n",
        "plt.legend(loc='lower right')"
      ],
      "execution_count": 48,
      "outputs": [
        {
          "output_type": "execute_result",
          "data": {
            "text/plain": [
              "<matplotlib.legend.Legend at 0x7fc55cc07358>"
            ]
          },
          "metadata": {
            "tags": []
          },
          "execution_count": 48
        },
        {
          "output_type": "display_data",
          "data": {
            "image/png": "[encoded data removed]",
            "text/plain": [
              "<Figure size 864x720 with 1 Axes>"
            ]
          },
          "metadata": {
            "tags": [],
            "needs_background": "light"
          }
        }
      ]
    },
    {
      "cell_type": "code",
      "metadata": {
        "colab": {
          "base_uri": "https://localhost:8080/"
        },
        "id": "ua_duEQireft",
        "outputId": "54a32dcb-30d1-40c2-e9b2-42298515ced1"
      },
      "source": [
        "# Scaling by total/2 helps keep the loss to a similar magnitude.\r\n",
        "# The sum of the weights of all examples stays the same.\r\n",
        "weight_for_0 = (1 / neg)*(total)/2.0 \r\n",
        "weight_for_1 = (1 / pos)*(total)/2.0\r\n",
        "\r\n",
        "class_weight = {0: weight_for_0, 1: weight_for_1}\r\n",
        "\r\n",
        "print('Weight for class 0: {:.2f}'.format(weight_for_0))\r\n",
        "print('Weight for class 1: {:.2f}'.format(weight_for_1))"
      ],
      "execution_count": 49,
      "outputs": [
        {
          "output_type": "stream",
          "text": [
            "Weight for class 0: 0.60\n",
            "Weight for class 1: 2.92\n"
          ],
          "name": "stdout"
        }
      ]
    },
    {
      "cell_type": "code",
      "metadata": {
        "colab": {
          "base_uri": "https://localhost:8080/"
        },
        "id": "5cMAyidMreZB",
        "outputId": "138b3098-3142-4ff0-9c9e-17140ab9c1d5"
      },
      "source": [
        "weighted_model = make_model()\r\n",
        "weighted_model.load_weights(initial_weights)\r\n",
        "\r\n",
        "weighted_history = weighted_model.fit(\r\n",
        "    train_features,\r\n",
        "    train_labels,\r\n",
        "    batch_size=BATCH_SIZE,\r\n",
        "    epochs=EPOCHS,\r\n",
        "    callbacks=[early_stopping],\r\n",
        "    validation_data=(val_features, val_labels),\r\n",
        "    # The class weights go here\r\n",
        "    class_weight=class_weight) "
      ],
      "execution_count": 50,
      "outputs": [
        {
          "output_type": "stream",
          "text": [
            "Epoch 1/100\n",
            "1/1 [==============================] - 3s 3s/step - loss: 1.0125 - tp: 6.0000 - fp: 8.0000 - tn: 594.0000 - fn: 117.0000 - accuracy: 0.8276 - precision: 0.4286 - recall: 0.0488 - auc: 0.6375 - val_loss: 0.4741 - val_tp: 0.0000e+00 - val_fp: 0.0000e+00 - val_tn: 113.0000 - val_fn: 25.0000 - val_accuracy: 0.8188 - val_precision: 0.0000e+00 - val_recall: 0.0000e+00 - val_auc: 0.6372\n",
            "Epoch 2/100\n",
            "1/1 [==============================] - 0s 54ms/step - loss: 0.9691 - tp: 4.0000 - fp: 2.0000 - tn: 463.0000 - fn: 83.0000 - accuracy: 0.8460 - precision: 0.6667 - recall: 0.0460 - auc: 0.6334 - val_loss: 0.4724 - val_tp: 0.0000e+00 - val_fp: 0.0000e+00 - val_tn: 113.0000 - val_fn: 25.0000 - val_accuracy: 0.8188 - val_precision: 0.0000e+00 - val_recall: 0.0000e+00 - val_auc: 0.6386\n",
            "Epoch 3/100\n",
            "1/1 [==============================] - 0s 49ms/step - loss: 1.0906 - tp: 2.0000 - fp: 6.0000 - tn: 459.0000 - fn: 85.0000 - accuracy: 0.8351 - precision: 0.2500 - recall: 0.0230 - auc: 0.5475 - val_loss: 0.4707 - val_tp: 0.0000e+00 - val_fp: 0.0000e+00 - val_tn: 113.0000 - val_fn: 25.0000 - val_accuracy: 0.8188 - val_precision: 0.0000e+00 - val_recall: 0.0000e+00 - val_auc: 0.6428\n",
            "Epoch 4/100\n",
            "1/1 [==============================] - 0s 51ms/step - loss: 1.0298 - tp: 2.0000 - fp: 5.0000 - tn: 460.0000 - fn: 85.0000 - accuracy: 0.8370 - precision: 0.2857 - recall: 0.0230 - auc: 0.6103 - val_loss: 0.4691 - val_tp: 0.0000e+00 - val_fp: 0.0000e+00 - val_tn: 113.0000 - val_fn: 25.0000 - val_accuracy: 0.8188 - val_precision: 0.0000e+00 - val_recall: 0.0000e+00 - val_auc: 0.6478\n",
            "Epoch 5/100\n",
            "1/1 [==============================] - 0s 56ms/step - loss: 0.9875 - tp: 4.0000 - fp: 6.0000 - tn: 459.0000 - fn: 83.0000 - accuracy: 0.8388 - precision: 0.4000 - recall: 0.0460 - auc: 0.6071 - val_loss: 0.4675 - val_tp: 0.0000e+00 - val_fp: 0.0000e+00 - val_tn: 113.0000 - val_fn: 25.0000 - val_accuracy: 0.8188 - val_precision: 0.0000e+00 - val_recall: 0.0000e+00 - val_auc: 0.6478\n",
            "Epoch 6/100\n",
            "1/1 [==============================] - 0s 53ms/step - loss: 0.9952 - tp: 3.0000 - fp: 3.0000 - tn: 462.0000 - fn: 84.0000 - accuracy: 0.8424 - precision: 0.5000 - recall: 0.0345 - auc: 0.6206 - val_loss: 0.4659 - val_tp: 0.0000e+00 - val_fp: 0.0000e+00 - val_tn: 113.0000 - val_fn: 25.0000 - val_accuracy: 0.8188 - val_precision: 0.0000e+00 - val_recall: 0.0000e+00 - val_auc: 0.6526\n",
            "Epoch 7/100\n",
            "1/1 [==============================] - 0s 56ms/step - loss: 1.0030 - tp: 3.0000 - fp: 7.0000 - tn: 458.0000 - fn: 84.0000 - accuracy: 0.8351 - precision: 0.3000 - recall: 0.0345 - auc: 0.6010 - val_loss: 0.4644 - val_tp: 0.0000e+00 - val_fp: 0.0000e+00 - val_tn: 113.0000 - val_fn: 25.0000 - val_accuracy: 0.8188 - val_precision: 0.0000e+00 - val_recall: 0.0000e+00 - val_auc: 0.6558\n",
            "Epoch 8/100\n",
            "1/1 [==============================] - 0s 50ms/step - loss: 0.9837 - tp: 1.0000 - fp: 7.0000 - tn: 458.0000 - fn: 86.0000 - accuracy: 0.8315 - precision: 0.1250 - recall: 0.0115 - auc: 0.6263 - val_loss: 0.4629 - val_tp: 0.0000e+00 - val_fp: 0.0000e+00 - val_tn: 113.0000 - val_fn: 25.0000 - val_accuracy: 0.8188 - val_precision: 0.0000e+00 - val_recall: 0.0000e+00 - val_auc: 0.6584\n",
            "Epoch 9/100\n",
            "1/1 [==============================] - 0s 49ms/step - loss: 0.9566 - tp: 4.0000 - fp: 5.0000 - tn: 460.0000 - fn: 83.0000 - accuracy: 0.8406 - precision: 0.4444 - recall: 0.0460 - auc: 0.6442 - val_loss: 0.4614 - val_tp: 0.0000e+00 - val_fp: 0.0000e+00 - val_tn: 113.0000 - val_fn: 25.0000 - val_accuracy: 0.8188 - val_precision: 0.0000e+00 - val_recall: 0.0000e+00 - val_auc: 0.6604\n",
            "Epoch 10/100\n",
            "1/1 [==============================] - 0s 53ms/step - loss: 0.9279 - tp: 5.0000 - fp: 5.0000 - tn: 460.0000 - fn: 82.0000 - accuracy: 0.8424 - precision: 0.5000 - recall: 0.0575 - auc: 0.6672 - val_loss: 0.4600 - val_tp: 0.0000e+00 - val_fp: 0.0000e+00 - val_tn: 113.0000 - val_fn: 25.0000 - val_accuracy: 0.8188 - val_precision: 0.0000e+00 - val_recall: 0.0000e+00 - val_auc: 0.6596\n",
            "Epoch 11/100\n",
            "1/1 [==============================] - 0s 49ms/step - loss: 1.0136 - tp: 2.0000 - fp: 8.0000 - tn: 457.0000 - fn: 85.0000 - accuracy: 0.8315 - precision: 0.2000 - recall: 0.0230 - auc: 0.6058 - val_loss: 0.4586 - val_tp: 0.0000e+00 - val_fp: 0.0000e+00 - val_tn: 113.0000 - val_fn: 25.0000 - val_accuracy: 0.8188 - val_precision: 0.0000e+00 - val_recall: 0.0000e+00 - val_auc: 0.6644\n",
            "Epoch 12/100\n",
            "1/1 [==============================] - 0s 53ms/step - loss: 0.9533 - tp: 6.0000 - fp: 4.0000 - tn: 461.0000 - fn: 81.0000 - accuracy: 0.8460 - precision: 0.6000 - recall: 0.0690 - auc: 0.6163 - val_loss: 0.4573 - val_tp: 0.0000e+00 - val_fp: 0.0000e+00 - val_tn: 113.0000 - val_fn: 25.0000 - val_accuracy: 0.8188 - val_precision: 0.0000e+00 - val_recall: 0.0000e+00 - val_auc: 0.6667\n",
            "Epoch 13/100\n",
            "1/1 [==============================] - 0s 51ms/step - loss: 0.9624 - tp: 5.0000 - fp: 3.0000 - tn: 462.0000 - fn: 82.0000 - accuracy: 0.8460 - precision: 0.6250 - recall: 0.0575 - auc: 0.6236 - val_loss: 0.4559 - val_tp: 1.0000 - val_fp: 0.0000e+00 - val_tn: 113.0000 - val_fn: 24.0000 - val_accuracy: 0.8261 - val_precision: 1.0000 - val_recall: 0.0400 - val_auc: 0.6688\n",
            "Epoch 14/100\n",
            "1/1 [==============================] - 0s 55ms/step - loss: 0.9432 - tp: 3.0000 - fp: 7.0000 - tn: 458.0000 - fn: 84.0000 - accuracy: 0.8351 - precision: 0.3000 - recall: 0.0345 - auc: 0.6563 - val_loss: 0.4546 - val_tp: 1.0000 - val_fp: 0.0000e+00 - val_tn: 113.0000 - val_fn: 24.0000 - val_accuracy: 0.8261 - val_precision: 1.0000 - val_recall: 0.0400 - val_auc: 0.6710\n",
            "Epoch 15/100\n",
            "1/1 [==============================] - 0s 59ms/step - loss: 0.9825 - tp: 1.0000 - fp: 4.0000 - tn: 461.0000 - fn: 86.0000 - accuracy: 0.8370 - precision: 0.2000 - recall: 0.0115 - auc: 0.6254 - val_loss: 0.4533 - val_tp: 1.0000 - val_fp: 0.0000e+00 - val_tn: 113.0000 - val_fn: 24.0000 - val_accuracy: 0.8261 - val_precision: 1.0000 - val_recall: 0.0400 - val_auc: 0.6729\n",
            "Epoch 16/100\n",
            "1/1 [==============================] - 0s 54ms/step - loss: 0.9456 - tp: 1.0000 - fp: 8.0000 - tn: 457.0000 - fn: 86.0000 - accuracy: 0.8297 - precision: 0.1111 - recall: 0.0115 - auc: 0.6291 - val_loss: 0.4520 - val_tp: 1.0000 - val_fp: 0.0000e+00 - val_tn: 113.0000 - val_fn: 24.0000 - val_accuracy: 0.8261 - val_precision: 1.0000 - val_recall: 0.0400 - val_auc: 0.6724\n",
            "Epoch 17/100\n",
            "1/1 [==============================] - 0s 52ms/step - loss: 0.9318 - tp: 3.0000 - fp: 5.0000 - tn: 460.0000 - fn: 84.0000 - accuracy: 0.8388 - precision: 0.3750 - recall: 0.0345 - auc: 0.6439 - val_loss: 0.4508 - val_tp: 1.0000 - val_fp: 0.0000e+00 - val_tn: 113.0000 - val_fn: 24.0000 - val_accuracy: 0.8261 - val_precision: 1.0000 - val_recall: 0.0400 - val_auc: 0.6750\n",
            "Epoch 18/100\n",
            "1/1 [==============================] - 0s 50ms/step - loss: 0.9262 - tp: 1.0000 - fp: 8.0000 - tn: 457.0000 - fn: 86.0000 - accuracy: 0.8297 - precision: 0.1111 - recall: 0.0115 - auc: 0.6419 - val_loss: 0.4497 - val_tp: 1.0000 - val_fp: 0.0000e+00 - val_tn: 113.0000 - val_fn: 24.0000 - val_accuracy: 0.8261 - val_precision: 1.0000 - val_recall: 0.0400 - val_auc: 0.6788\n",
            "Epoch 19/100\n",
            "1/1 [==============================] - 0s 54ms/step - loss: 0.9056 - tp: 8.0000 - fp: 7.0000 - tn: 458.0000 - fn: 79.0000 - accuracy: 0.8442 - precision: 0.5333 - recall: 0.0920 - auc: 0.6649 - val_loss: 0.4485 - val_tp: 1.0000 - val_fp: 0.0000e+00 - val_tn: 113.0000 - val_fn: 24.0000 - val_accuracy: 0.8261 - val_precision: 1.0000 - val_recall: 0.0400 - val_auc: 0.6812\n",
            "Epoch 20/100\n",
            "1/1 [==============================] - 0s 53ms/step - loss: 0.9230 - tp: 6.0000 - fp: 6.0000 - tn: 459.0000 - fn: 81.0000 - accuracy: 0.8424 - precision: 0.5000 - recall: 0.0690 - auc: 0.6659 - val_loss: 0.4474 - val_tp: 1.0000 - val_fp: 0.0000e+00 - val_tn: 113.0000 - val_fn: 24.0000 - val_accuracy: 0.8261 - val_precision: 1.0000 - val_recall: 0.0400 - val_auc: 0.6795\n",
            "Epoch 21/100\n",
            "1/1 [==============================] - 0s 59ms/step - loss: 0.9420 - tp: 5.0000 - fp: 7.0000 - tn: 458.0000 - fn: 82.0000 - accuracy: 0.8388 - precision: 0.4167 - recall: 0.0575 - auc: 0.6266 - val_loss: 0.4463 - val_tp: 1.0000 - val_fp: 0.0000e+00 - val_tn: 113.0000 - val_fn: 24.0000 - val_accuracy: 0.8261 - val_precision: 1.0000 - val_recall: 0.0400 - val_auc: 0.6825\n",
            "Epoch 22/100\n",
            "1/1 [==============================] - 0s 64ms/step - loss: 0.8676 - tp: 4.0000 - fp: 7.0000 - tn: 458.0000 - fn: 83.0000 - accuracy: 0.8370 - precision: 0.3636 - recall: 0.0460 - auc: 0.7005 - val_loss: 0.4452 - val_tp: 1.0000 - val_fp: 0.0000e+00 - val_tn: 113.0000 - val_fn: 24.0000 - val_accuracy: 0.8261 - val_precision: 1.0000 - val_recall: 0.0400 - val_auc: 0.6834\n",
            "Epoch 23/100\n",
            "1/1 [==============================] - 0s 54ms/step - loss: 0.8892 - tp: 5.0000 - fp: 7.0000 - tn: 458.0000 - fn: 82.0000 - accuracy: 0.8388 - precision: 0.4167 - recall: 0.0575 - auc: 0.6642 - val_loss: 0.4442 - val_tp: 1.0000 - val_fp: 0.0000e+00 - val_tn: 113.0000 - val_fn: 24.0000 - val_accuracy: 0.8261 - val_precision: 1.0000 - val_recall: 0.0400 - val_auc: 0.6855\n",
            "Epoch 24/100\n",
            "1/1 [==============================] - 0s 51ms/step - loss: 0.8873 - tp: 5.0000 - fp: 6.0000 - tn: 459.0000 - fn: 82.0000 - accuracy: 0.8406 - precision: 0.4545 - recall: 0.0575 - auc: 0.6505 - val_loss: 0.4431 - val_tp: 1.0000 - val_fp: 0.0000e+00 - val_tn: 113.0000 - val_fn: 24.0000 - val_accuracy: 0.8261 - val_precision: 1.0000 - val_recall: 0.0400 - val_auc: 0.6855\n",
            "Epoch 25/100\n",
            "1/1 [==============================] - 0s 56ms/step - loss: 0.9382 - tp: 3.0000 - fp: 3.0000 - tn: 462.0000 - fn: 84.0000 - accuracy: 0.8424 - precision: 0.5000 - recall: 0.0345 - auc: 0.6135 - val_loss: 0.4421 - val_tp: 1.0000 - val_fp: 0.0000e+00 - val_tn: 113.0000 - val_fn: 24.0000 - val_accuracy: 0.8261 - val_precision: 1.0000 - val_recall: 0.0400 - val_auc: 0.6915\n",
            "Epoch 26/100\n",
            "1/1 [==============================] - 0s 51ms/step - loss: 0.8989 - tp: 7.0000 - fp: 13.0000 - tn: 452.0000 - fn: 80.0000 - accuracy: 0.8315 - precision: 0.3500 - recall: 0.0805 - auc: 0.6566 - val_loss: 0.4411 - val_tp: 1.0000 - val_fp: 0.0000e+00 - val_tn: 113.0000 - val_fn: 24.0000 - val_accuracy: 0.8261 - val_precision: 1.0000 - val_recall: 0.0400 - val_auc: 0.6903\n",
            "Epoch 27/100\n",
            "1/1 [==============================] - 0s 258ms/step - loss: 0.9086 - tp: 1.0000 - fp: 10.0000 - tn: 455.0000 - fn: 86.0000 - accuracy: 0.8261 - precision: 0.0909 - recall: 0.0115 - auc: 0.6550 - val_loss: 0.4401 - val_tp: 1.0000 - val_fp: 0.0000e+00 - val_tn: 113.0000 - val_fn: 24.0000 - val_accuracy: 0.8261 - val_precision: 1.0000 - val_recall: 0.0400 - val_auc: 0.6903\n",
            "Epoch 28/100\n",
            "1/1 [==============================] - 0s 61ms/step - loss: 0.8475 - tp: 7.0000 - fp: 9.0000 - tn: 456.0000 - fn: 80.0000 - accuracy: 0.8388 - precision: 0.4375 - recall: 0.0805 - auc: 0.6885 - val_loss: 0.4392 - val_tp: 1.0000 - val_fp: 0.0000e+00 - val_tn: 113.0000 - val_fn: 24.0000 - val_accuracy: 0.8261 - val_precision: 1.0000 - val_recall: 0.0400 - val_auc: 0.6919\n",
            "Epoch 29/100\n",
            "1/1 [==============================] - 0s 70ms/step - loss: 0.9167 - tp: 5.0000 - fp: 6.0000 - tn: 459.0000 - fn: 82.0000 - accuracy: 0.8406 - precision: 0.4545 - recall: 0.0575 - auc: 0.6382 - val_loss: 0.4383 - val_tp: 1.0000 - val_fp: 0.0000e+00 - val_tn: 113.0000 - val_fn: 24.0000 - val_accuracy: 0.8261 - val_precision: 1.0000 - val_recall: 0.0400 - val_auc: 0.6931\n",
            "Epoch 30/100\n",
            "1/1 [==============================] - 0s 56ms/step - loss: 0.8337 - tp: 9.0000 - fp: 11.0000 - tn: 454.0000 - fn: 78.0000 - accuracy: 0.8388 - precision: 0.4500 - recall: 0.1034 - auc: 0.6893 - val_loss: 0.4374 - val_tp: 1.0000 - val_fp: 0.0000e+00 - val_tn: 113.0000 - val_fn: 24.0000 - val_accuracy: 0.8261 - val_precision: 1.0000 - val_recall: 0.0400 - val_auc: 0.6933\n",
            "Epoch 31/100\n",
            "1/1 [==============================] - 0s 50ms/step - loss: 0.8677 - tp: 7.0000 - fp: 5.0000 - tn: 460.0000 - fn: 80.0000 - accuracy: 0.8460 - precision: 0.5833 - recall: 0.0805 - auc: 0.6694 - val_loss: 0.4366 - val_tp: 1.0000 - val_fp: 0.0000e+00 - val_tn: 113.0000 - val_fn: 24.0000 - val_accuracy: 0.8261 - val_precision: 1.0000 - val_recall: 0.0400 - val_auc: 0.6947\n",
            "Epoch 32/100\n",
            "1/1 [==============================] - 0s 51ms/step - loss: 0.8461 - tp: 5.0000 - fp: 7.0000 - tn: 458.0000 - fn: 82.0000 - accuracy: 0.8388 - precision: 0.4167 - recall: 0.0575 - auc: 0.6805 - val_loss: 0.4357 - val_tp: 1.0000 - val_fp: 0.0000e+00 - val_tn: 113.0000 - val_fn: 24.0000 - val_accuracy: 0.8261 - val_precision: 1.0000 - val_recall: 0.0400 - val_auc: 0.6950\n",
            "Epoch 33/100\n",
            "1/1 [==============================] - 0s 56ms/step - loss: 0.8708 - tp: 7.0000 - fp: 11.0000 - tn: 454.0000 - fn: 80.0000 - accuracy: 0.8351 - precision: 0.3889 - recall: 0.0805 - auc: 0.6588 - val_loss: 0.4350 - val_tp: 1.0000 - val_fp: 0.0000e+00 - val_tn: 113.0000 - val_fn: 24.0000 - val_accuracy: 0.8261 - val_precision: 1.0000 - val_recall: 0.0400 - val_auc: 0.6959\n",
            "Epoch 34/100\n",
            "1/1 [==============================] - 0s 49ms/step - loss: 0.8295 - tp: 7.0000 - fp: 10.0000 - tn: 455.0000 - fn: 80.0000 - accuracy: 0.8370 - precision: 0.4118 - recall: 0.0805 - auc: 0.6910 - val_loss: 0.4343 - val_tp: 1.0000 - val_fp: 0.0000e+00 - val_tn: 113.0000 - val_fn: 24.0000 - val_accuracy: 0.8261 - val_precision: 1.0000 - val_recall: 0.0400 - val_auc: 0.6995\n",
            "Epoch 35/100\n",
            "1/1 [==============================] - 0s 48ms/step - loss: 0.9079 - tp: 7.0000 - fp: 9.0000 - tn: 456.0000 - fn: 80.0000 - accuracy: 0.8388 - precision: 0.4375 - recall: 0.0805 - auc: 0.6319 - val_loss: 0.4336 - val_tp: 1.0000 - val_fp: 0.0000e+00 - val_tn: 113.0000 - val_fn: 24.0000 - val_accuracy: 0.8261 - val_precision: 1.0000 - val_recall: 0.0400 - val_auc: 0.6995\n",
            "Epoch 36/100\n",
            "1/1 [==============================] - 0s 50ms/step - loss: 0.8980 - tp: 7.0000 - fp: 10.0000 - tn: 455.0000 - fn: 80.0000 - accuracy: 0.8370 - precision: 0.4118 - recall: 0.0805 - auc: 0.6328 - val_loss: 0.4330 - val_tp: 1.0000 - val_fp: 0.0000e+00 - val_tn: 113.0000 - val_fn: 24.0000 - val_accuracy: 0.8261 - val_precision: 1.0000 - val_recall: 0.0400 - val_auc: 0.6998\n",
            "Epoch 37/100\n",
            "1/1 [==============================] - 0s 54ms/step - loss: 0.8603 - tp: 7.0000 - fp: 15.0000 - tn: 450.0000 - fn: 80.0000 - accuracy: 0.8279 - precision: 0.3182 - recall: 0.0805 - auc: 0.6843 - val_loss: 0.4324 - val_tp: 1.0000 - val_fp: 0.0000e+00 - val_tn: 113.0000 - val_fn: 24.0000 - val_accuracy: 0.8261 - val_precision: 1.0000 - val_recall: 0.0400 - val_auc: 0.6998\n",
            "Epoch 38/100\n",
            "1/1 [==============================] - 0s 52ms/step - loss: 0.8335 - tp: 12.0000 - fp: 13.0000 - tn: 452.0000 - fn: 75.0000 - accuracy: 0.8406 - precision: 0.4800 - recall: 0.1379 - auc: 0.6706 - val_loss: 0.4318 - val_tp: 2.0000 - val_fp: 0.0000e+00 - val_tn: 113.0000 - val_fn: 23.0000 - val_accuracy: 0.8333 - val_precision: 1.0000 - val_recall: 0.0800 - val_auc: 0.7025\n",
            "Epoch 39/100\n",
            "1/1 [==============================] - 0s 51ms/step - loss: 0.8216 - tp: 10.0000 - fp: 16.0000 - tn: 449.0000 - fn: 77.0000 - accuracy: 0.8315 - precision: 0.3846 - recall: 0.1149 - auc: 0.7008 - val_loss: 0.4312 - val_tp: 2.0000 - val_fp: 0.0000e+00 - val_tn: 113.0000 - val_fn: 23.0000 - val_accuracy: 0.8333 - val_precision: 1.0000 - val_recall: 0.0800 - val_auc: 0.7025\n",
            "Epoch 40/100\n",
            "1/1 [==============================] - 0s 55ms/step - loss: 0.8729 - tp: 7.0000 - fp: 11.0000 - tn: 454.0000 - fn: 80.0000 - accuracy: 0.8351 - precision: 0.3889 - recall: 0.0805 - auc: 0.6241 - val_loss: 0.4307 - val_tp: 2.0000 - val_fp: 0.0000e+00 - val_tn: 113.0000 - val_fn: 23.0000 - val_accuracy: 0.8333 - val_precision: 1.0000 - val_recall: 0.0800 - val_auc: 0.7058\n",
            "Epoch 41/100\n",
            "1/1 [==============================] - 0s 51ms/step - loss: 0.8142 - tp: 10.0000 - fp: 12.0000 - tn: 453.0000 - fn: 77.0000 - accuracy: 0.8388 - precision: 0.4545 - recall: 0.1149 - auc: 0.6850 - val_loss: 0.4302 - val_tp: 2.0000 - val_fp: 0.0000e+00 - val_tn: 113.0000 - val_fn: 23.0000 - val_accuracy: 0.8333 - val_precision: 1.0000 - val_recall: 0.0800 - val_auc: 0.7048\n",
            "Epoch 42/100\n",
            "1/1 [==============================] - 0s 52ms/step - loss: 0.8139 - tp: 11.0000 - fp: 17.0000 - tn: 448.0000 - fn: 76.0000 - accuracy: 0.8315 - precision: 0.3929 - recall: 0.1264 - auc: 0.6785 - val_loss: 0.4297 - val_tp: 2.0000 - val_fp: 1.0000 - val_tn: 112.0000 - val_fn: 23.0000 - val_accuracy: 0.8261 - val_precision: 0.6667 - val_recall: 0.0800 - val_auc: 0.7053\n",
            "Epoch 43/100\n",
            "1/1 [==============================] - 0s 54ms/step - loss: 0.7630 - tp: 13.0000 - fp: 12.0000 - tn: 453.0000 - fn: 74.0000 - accuracy: 0.8442 - precision: 0.5200 - recall: 0.1494 - auc: 0.7271 - val_loss: 0.4291 - val_tp: 2.0000 - val_fp: 1.0000 - val_tn: 112.0000 - val_fn: 23.0000 - val_accuracy: 0.8261 - val_precision: 0.6667 - val_recall: 0.0800 - val_auc: 0.7048\n",
            "Epoch 44/100\n",
            "1/1 [==============================] - 0s 65ms/step - loss: 0.7957 - tp: 9.0000 - fp: 8.0000 - tn: 457.0000 - fn: 78.0000 - accuracy: 0.8442 - precision: 0.5294 - recall: 0.1034 - auc: 0.6969 - val_loss: 0.4286 - val_tp: 2.0000 - val_fp: 1.0000 - val_tn: 112.0000 - val_fn: 23.0000 - val_accuracy: 0.8261 - val_precision: 0.6667 - val_recall: 0.0800 - val_auc: 0.7062\n",
            "Epoch 45/100\n",
            "1/1 [==============================] - 0s 51ms/step - loss: 0.7895 - tp: 11.0000 - fp: 12.0000 - tn: 453.0000 - fn: 76.0000 - accuracy: 0.8406 - precision: 0.4783 - recall: 0.1264 - auc: 0.6987 - val_loss: 0.4282 - val_tp: 2.0000 - val_fp: 1.0000 - val_tn: 112.0000 - val_fn: 23.0000 - val_accuracy: 0.8261 - val_precision: 0.6667 - val_recall: 0.0800 - val_auc: 0.7071\n",
            "Epoch 46/100\n",
            "1/1 [==============================] - 0s 59ms/step - loss: 0.8256 - tp: 11.0000 - fp: 20.0000 - tn: 445.0000 - fn: 76.0000 - accuracy: 0.8261 - precision: 0.3548 - recall: 0.1264 - auc: 0.6861 - val_loss: 0.4277 - val_tp: 2.0000 - val_fp: 1.0000 - val_tn: 112.0000 - val_fn: 23.0000 - val_accuracy: 0.8261 - val_precision: 0.6667 - val_recall: 0.0800 - val_auc: 0.7074\n",
            "Epoch 47/100\n",
            "1/1 [==============================] - 0s 61ms/step - loss: 0.7887 - tp: 9.0000 - fp: 14.0000 - tn: 451.0000 - fn: 78.0000 - accuracy: 0.8333 - precision: 0.3913 - recall: 0.1034 - auc: 0.6959 - val_loss: 0.4273 - val_tp: 2.0000 - val_fp: 1.0000 - val_tn: 112.0000 - val_fn: 23.0000 - val_accuracy: 0.8261 - val_precision: 0.6667 - val_recall: 0.0800 - val_auc: 0.7071\n",
            "Epoch 48/100\n",
            "1/1 [==============================] - 0s 58ms/step - loss: 0.7661 - tp: 15.0000 - fp: 16.0000 - tn: 449.0000 - fn: 72.0000 - accuracy: 0.8406 - precision: 0.4839 - recall: 0.1724 - auc: 0.7060 - val_loss: 0.4270 - val_tp: 2.0000 - val_fp: 1.0000 - val_tn: 112.0000 - val_fn: 23.0000 - val_accuracy: 0.8261 - val_precision: 0.6667 - val_recall: 0.0800 - val_auc: 0.7085\n",
            "Epoch 49/100\n",
            "1/1 [==============================] - 0s 58ms/step - loss: 0.8045 - tp: 12.0000 - fp: 19.0000 - tn: 446.0000 - fn: 75.0000 - accuracy: 0.8297 - precision: 0.3871 - recall: 0.1379 - auc: 0.6841 - val_loss: 0.4266 - val_tp: 2.0000 - val_fp: 1.0000 - val_tn: 112.0000 - val_fn: 23.0000 - val_accuracy: 0.8261 - val_precision: 0.6667 - val_recall: 0.0800 - val_auc: 0.7071\n",
            "Epoch 50/100\n",
            "1/1 [==============================] - 0s 59ms/step - loss: 0.7794 - tp: 9.0000 - fp: 16.0000 - tn: 449.0000 - fn: 78.0000 - accuracy: 0.8297 - precision: 0.3600 - recall: 0.1034 - auc: 0.7167 - val_loss: 0.4263 - val_tp: 2.0000 - val_fp: 1.0000 - val_tn: 112.0000 - val_fn: 23.0000 - val_accuracy: 0.8261 - val_precision: 0.6667 - val_recall: 0.0800 - val_auc: 0.7090\n",
            "Epoch 51/100\n",
            "1/1 [==============================] - 0s 56ms/step - loss: 0.8206 - tp: 8.0000 - fp: 17.0000 - tn: 448.0000 - fn: 79.0000 - accuracy: 0.8261 - precision: 0.3200 - recall: 0.0920 - auc: 0.6796 - val_loss: 0.4260 - val_tp: 2.0000 - val_fp: 1.0000 - val_tn: 112.0000 - val_fn: 23.0000 - val_accuracy: 0.8261 - val_precision: 0.6667 - val_recall: 0.0800 - val_auc: 0.7110\n",
            "Epoch 52/100\n",
            "1/1 [==============================] - 0s 53ms/step - loss: 0.7974 - tp: 14.0000 - fp: 16.0000 - tn: 449.0000 - fn: 73.0000 - accuracy: 0.8388 - precision: 0.4667 - recall: 0.1609 - auc: 0.6859 - val_loss: 0.4257 - val_tp: 2.0000 - val_fp: 1.0000 - val_tn: 112.0000 - val_fn: 23.0000 - val_accuracy: 0.8261 - val_precision: 0.6667 - val_recall: 0.0800 - val_auc: 0.7110\n",
            "Epoch 53/100\n",
            "1/1 [==============================] - 0s 49ms/step - loss: 0.7538 - tp: 13.0000 - fp: 16.0000 - tn: 449.0000 - fn: 74.0000 - accuracy: 0.8370 - precision: 0.4483 - recall: 0.1494 - auc: 0.7286 - val_loss: 0.4254 - val_tp: 2.0000 - val_fp: 1.0000 - val_tn: 112.0000 - val_fn: 23.0000 - val_accuracy: 0.8261 - val_precision: 0.6667 - val_recall: 0.0800 - val_auc: 0.7126\n",
            "Epoch 54/100\n",
            "1/1 [==============================] - 0s 57ms/step - loss: 0.7653 - tp: 13.0000 - fp: 21.0000 - tn: 444.0000 - fn: 74.0000 - accuracy: 0.8279 - precision: 0.3824 - recall: 0.1494 - auc: 0.7078 - val_loss: 0.4252 - val_tp: 2.0000 - val_fp: 1.0000 - val_tn: 112.0000 - val_fn: 23.0000 - val_accuracy: 0.8261 - val_precision: 0.6667 - val_recall: 0.0800 - val_auc: 0.7142\n",
            "Epoch 55/100\n",
            "1/1 [==============================] - 0s 63ms/step - loss: 0.7522 - tp: 13.0000 - fp: 20.0000 - tn: 445.0000 - fn: 74.0000 - accuracy: 0.8297 - precision: 0.3939 - recall: 0.1494 - auc: 0.7173 - val_loss: 0.4250 - val_tp: 2.0000 - val_fp: 1.0000 - val_tn: 112.0000 - val_fn: 23.0000 - val_accuracy: 0.8261 - val_precision: 0.6667 - val_recall: 0.0800 - val_auc: 0.7126\n",
            "Epoch 56/100\n",
            "1/1 [==============================] - 0s 53ms/step - loss: 0.7820 - tp: 12.0000 - fp: 18.0000 - tn: 447.0000 - fn: 75.0000 - accuracy: 0.8315 - precision: 0.4000 - recall: 0.1379 - auc: 0.6993 - val_loss: 0.4248 - val_tp: 2.0000 - val_fp: 1.0000 - val_tn: 112.0000 - val_fn: 23.0000 - val_accuracy: 0.8261 - val_precision: 0.6667 - val_recall: 0.0800 - val_auc: 0.7112\n",
            "Epoch 57/100\n",
            "1/1 [==============================] - 0s 57ms/step - loss: 0.7402 - tp: 17.0000 - fp: 26.0000 - tn: 439.0000 - fn: 70.0000 - accuracy: 0.8261 - precision: 0.3953 - recall: 0.1954 - auc: 0.7150 - val_loss: 0.4246 - val_tp: 2.0000 - val_fp: 1.0000 - val_tn: 112.0000 - val_fn: 23.0000 - val_accuracy: 0.8261 - val_precision: 0.6667 - val_recall: 0.0800 - val_auc: 0.7140\n",
            "Epoch 58/100\n",
            "1/1 [==============================] - 0s 55ms/step - loss: 0.7791 - tp: 15.0000 - fp: 20.0000 - tn: 445.0000 - fn: 72.0000 - accuracy: 0.8333 - precision: 0.4286 - recall: 0.1724 - auc: 0.6812 - val_loss: 0.4244 - val_tp: 2.0000 - val_fp: 1.0000 - val_tn: 112.0000 - val_fn: 23.0000 - val_accuracy: 0.8261 - val_precision: 0.6667 - val_recall: 0.0800 - val_auc: 0.7158\n",
            "Epoch 59/100\n",
            "1/1 [==============================] - 0s 59ms/step - loss: 0.7337 - tp: 11.0000 - fp: 26.0000 - tn: 439.0000 - fn: 76.0000 - accuracy: 0.8152 - precision: 0.2973 - recall: 0.1264 - auc: 0.7450 - val_loss: 0.4243 - val_tp: 2.0000 - val_fp: 1.0000 - val_tn: 112.0000 - val_fn: 23.0000 - val_accuracy: 0.8261 - val_precision: 0.6667 - val_recall: 0.0800 - val_auc: 0.7138\n",
            "Epoch 60/100\n",
            "1/1 [==============================] - 0s 69ms/step - loss: 0.7380 - tp: 13.0000 - fp: 18.0000 - tn: 447.0000 - fn: 74.0000 - accuracy: 0.8333 - precision: 0.4194 - recall: 0.1494 - auc: 0.7289 - val_loss: 0.4242 - val_tp: 2.0000 - val_fp: 1.0000 - val_tn: 112.0000 - val_fn: 23.0000 - val_accuracy: 0.8261 - val_precision: 0.6667 - val_recall: 0.0800 - val_auc: 0.7175\n",
            "Epoch 61/100\n",
            "1/1 [==============================] - 0s 57ms/step - loss: 0.7928 - tp: 12.0000 - fp: 18.0000 - tn: 447.0000 - fn: 75.0000 - accuracy: 0.8315 - precision: 0.4000 - recall: 0.1379 - auc: 0.6850 - val_loss: 0.4241 - val_tp: 2.0000 - val_fp: 1.0000 - val_tn: 112.0000 - val_fn: 23.0000 - val_accuracy: 0.8261 - val_precision: 0.6667 - val_recall: 0.0800 - val_auc: 0.7177\n",
            "Epoch 62/100\n",
            "1/1 [==============================] - 0s 56ms/step - loss: 0.7288 - tp: 16.0000 - fp: 22.0000 - tn: 443.0000 - fn: 71.0000 - accuracy: 0.8315 - precision: 0.4211 - recall: 0.1839 - auc: 0.7172 - val_loss: 0.4240 - val_tp: 2.0000 - val_fp: 1.0000 - val_tn: 112.0000 - val_fn: 23.0000 - val_accuracy: 0.8261 - val_precision: 0.6667 - val_recall: 0.0800 - val_auc: 0.7177\n",
            "Epoch 63/100\n",
            "1/1 [==============================] - 0s 57ms/step - loss: 0.7002 - tp: 17.0000 - fp: 23.0000 - tn: 442.0000 - fn: 70.0000 - accuracy: 0.8315 - precision: 0.4250 - recall: 0.1954 - auc: 0.7429 - val_loss: 0.4240 - val_tp: 2.0000 - val_fp: 1.0000 - val_tn: 112.0000 - val_fn: 23.0000 - val_accuracy: 0.8261 - val_precision: 0.6667 - val_recall: 0.0800 - val_auc: 0.7198\n",
            "Epoch 64/100\n",
            "1/1 [==============================] - 0s 59ms/step - loss: 0.7491 - tp: 13.0000 - fp: 33.0000 - tn: 432.0000 - fn: 74.0000 - accuracy: 0.8062 - precision: 0.2826 - recall: 0.1494 - auc: 0.7046 - val_loss: 0.4239 - val_tp: 2.0000 - val_fp: 1.0000 - val_tn: 112.0000 - val_fn: 23.0000 - val_accuracy: 0.8261 - val_precision: 0.6667 - val_recall: 0.0800 - val_auc: 0.7186\n",
            "Epoch 65/100\n",
            "1/1 [==============================] - 0s 58ms/step - loss: 0.7707 - tp: 13.0000 - fp: 28.0000 - tn: 437.0000 - fn: 74.0000 - accuracy: 0.8152 - precision: 0.3171 - recall: 0.1494 - auc: 0.6825 - val_loss: 0.4239 - val_tp: 2.0000 - val_fp: 1.0000 - val_tn: 112.0000 - val_fn: 23.0000 - val_accuracy: 0.8261 - val_precision: 0.6667 - val_recall: 0.0800 - val_auc: 0.7202\n",
            "Epoch 66/100\n",
            "1/1 [==============================] - 0s 58ms/step - loss: 0.7135 - tp: 21.0000 - fp: 21.0000 - tn: 444.0000 - fn: 66.0000 - accuracy: 0.8424 - precision: 0.5000 - recall: 0.2414 - auc: 0.7177 - val_loss: 0.4239 - val_tp: 2.0000 - val_fp: 1.0000 - val_tn: 112.0000 - val_fn: 23.0000 - val_accuracy: 0.8261 - val_precision: 0.6667 - val_recall: 0.0800 - val_auc: 0.7207\n",
            "Epoch 67/100\n",
            "1/1 [==============================] - 0s 63ms/step - loss: 0.6796 - tp: 22.0000 - fp: 24.0000 - tn: 441.0000 - fn: 65.0000 - accuracy: 0.8388 - precision: 0.4783 - recall: 0.2529 - auc: 0.7564 - val_loss: 0.4239 - val_tp: 2.0000 - val_fp: 1.0000 - val_tn: 112.0000 - val_fn: 23.0000 - val_accuracy: 0.8261 - val_precision: 0.6667 - val_recall: 0.0800 - val_auc: 0.7212\n",
            "Epoch 68/100\n",
            "1/1 [==============================] - 0s 265ms/step - loss: 0.7564 - tp: 16.0000 - fp: 24.0000 - tn: 441.0000 - fn: 71.0000 - accuracy: 0.8279 - precision: 0.4000 - recall: 0.1839 - auc: 0.6936 - val_loss: 0.4239 - val_tp: 2.0000 - val_fp: 1.0000 - val_tn: 112.0000 - val_fn: 23.0000 - val_accuracy: 0.8261 - val_precision: 0.6667 - val_recall: 0.0800 - val_auc: 0.7202\n",
            "Epoch 69/100\n",
            "1/1 [==============================] - 0s 51ms/step - loss: 0.7050 - tp: 16.0000 - fp: 24.0000 - tn: 441.0000 - fn: 71.0000 - accuracy: 0.8279 - precision: 0.4000 - recall: 0.1839 - auc: 0.7494 - val_loss: 0.4239 - val_tp: 2.0000 - val_fp: 1.0000 - val_tn: 112.0000 - val_fn: 23.0000 - val_accuracy: 0.8261 - val_precision: 0.6667 - val_recall: 0.0800 - val_auc: 0.7207\n",
            "Epoch 70/100\n",
            "1/1 [==============================] - 0s 54ms/step - loss: 0.7158 - tp: 19.0000 - fp: 29.0000 - tn: 436.0000 - fn: 68.0000 - accuracy: 0.8243 - precision: 0.3958 - recall: 0.2184 - auc: 0.7455 - val_loss: 0.4239 - val_tp: 2.0000 - val_fp: 1.0000 - val_tn: 112.0000 - val_fn: 23.0000 - val_accuracy: 0.8261 - val_precision: 0.6667 - val_recall: 0.0800 - val_auc: 0.7214\n",
            "Epoch 71/100\n",
            "1/1 [==============================] - 0s 54ms/step - loss: 0.7412 - tp: 13.0000 - fp: 23.0000 - tn: 442.0000 - fn: 74.0000 - accuracy: 0.8243 - precision: 0.3611 - recall: 0.1494 - auc: 0.7126 - val_loss: 0.4240 - val_tp: 2.0000 - val_fp: 1.0000 - val_tn: 112.0000 - val_fn: 23.0000 - val_accuracy: 0.8261 - val_precision: 0.6667 - val_recall: 0.0800 - val_auc: 0.7227\n",
            "Epoch 72/100\n",
            "1/1 [==============================] - 0s 60ms/step - loss: 0.7411 - tp: 18.0000 - fp: 26.0000 - tn: 439.0000 - fn: 69.0000 - accuracy: 0.8279 - precision: 0.4091 - recall: 0.2069 - auc: 0.7129 - val_loss: 0.4241 - val_tp: 3.0000 - val_fp: 1.0000 - val_tn: 112.0000 - val_fn: 22.0000 - val_accuracy: 0.8333 - val_precision: 0.7500 - val_recall: 0.1200 - val_auc: 0.7228\n",
            "Epoch 73/100\n",
            "1/1 [==============================] - 0s 56ms/step - loss: 0.7487 - tp: 12.0000 - fp: 18.0000 - tn: 447.0000 - fn: 75.0000 - accuracy: 0.8315 - precision: 0.4000 - recall: 0.1379 - auc: 0.7063 - val_loss: 0.4242 - val_tp: 3.0000 - val_fp: 1.0000 - val_tn: 112.0000 - val_fn: 22.0000 - val_accuracy: 0.8333 - val_precision: 0.7500 - val_recall: 0.1200 - val_auc: 0.7242\n",
            "Epoch 74/100\n",
            "1/1 [==============================] - 0s 56ms/step - loss: 0.7528 - tp: 17.0000 - fp: 25.0000 - tn: 440.0000 - fn: 70.0000 - accuracy: 0.8279 - precision: 0.4048 - recall: 0.1954 - auc: 0.6960 - val_loss: 0.4243 - val_tp: 3.0000 - val_fp: 1.0000 - val_tn: 112.0000 - val_fn: 22.0000 - val_accuracy: 0.8333 - val_precision: 0.7500 - val_recall: 0.1200 - val_auc: 0.7227\n",
            "Epoch 75/100\n",
            "1/1 [==============================] - 0s 56ms/step - loss: 0.7199 - tp: 18.0000 - fp: 31.0000 - tn: 434.0000 - fn: 69.0000 - accuracy: 0.8188 - precision: 0.3673 - recall: 0.2069 - auc: 0.7270 - val_loss: 0.4244 - val_tp: 3.0000 - val_fp: 1.0000 - val_tn: 112.0000 - val_fn: 22.0000 - val_accuracy: 0.8333 - val_precision: 0.7500 - val_recall: 0.1200 - val_auc: 0.7214\n",
            "Epoch 76/100\n",
            "1/1 [==============================] - 0s 59ms/step - loss: 0.6704 - tp: 24.0000 - fp: 32.0000 - tn: 433.0000 - fn: 63.0000 - accuracy: 0.8279 - precision: 0.4286 - recall: 0.2759 - auc: 0.7628 - val_loss: 0.4245 - val_tp: 3.0000 - val_fp: 1.0000 - val_tn: 112.0000 - val_fn: 22.0000 - val_accuracy: 0.8333 - val_precision: 0.7500 - val_recall: 0.1200 - val_auc: 0.7214\n",
            "Epoch 77/100\n",
            "1/1 [==============================] - 0s 51ms/step - loss: 0.6752 - tp: 23.0000 - fp: 32.0000 - tn: 433.0000 - fn: 64.0000 - accuracy: 0.8261 - precision: 0.4182 - recall: 0.2644 - auc: 0.7564 - val_loss: 0.4246 - val_tp: 3.0000 - val_fp: 1.0000 - val_tn: 112.0000 - val_fn: 22.0000 - val_accuracy: 0.8333 - val_precision: 0.7500 - val_recall: 0.1200 - val_auc: 0.7232\n",
            "Epoch 78/100\n",
            "1/1 [==============================] - 0s 59ms/step - loss: 0.6780 - tp: 22.0000 - fp: 30.0000 - tn: 435.0000 - fn: 65.0000 - accuracy: 0.8279 - precision: 0.4231 - recall: 0.2529 - auc: 0.7544 - val_loss: 0.4248 - val_tp: 3.0000 - val_fp: 1.0000 - val_tn: 112.0000 - val_fn: 22.0000 - val_accuracy: 0.8333 - val_precision: 0.7500 - val_recall: 0.1200 - val_auc: 0.7223\n",
            "Epoch 79/100\n",
            "1/1 [==============================] - 0s 66ms/step - loss: 0.7174 - tp: 21.0000 - fp: 30.0000 - tn: 435.0000 - fn: 66.0000 - accuracy: 0.8261 - precision: 0.4118 - recall: 0.2414 - auc: 0.7224 - val_loss: 0.4249 - val_tp: 3.0000 - val_fp: 1.0000 - val_tn: 112.0000 - val_fn: 22.0000 - val_accuracy: 0.8333 - val_precision: 0.7500 - val_recall: 0.1200 - val_auc: 0.7244\n",
            "Epoch 80/100\n",
            "1/1 [==============================] - 0s 64ms/step - loss: 0.6370 - tp: 24.0000 - fp: 24.0000 - tn: 441.0000 - fn: 63.0000 - accuracy: 0.8424 - precision: 0.5000 - recall: 0.2759 - auc: 0.7886 - val_loss: 0.4250 - val_tp: 3.0000 - val_fp: 1.0000 - val_tn: 112.0000 - val_fn: 22.0000 - val_accuracy: 0.8333 - val_precision: 0.7500 - val_recall: 0.1200 - val_auc: 0.7253\n",
            "Epoch 81/100\n",
            "1/1 [==============================] - 0s 61ms/step - loss: 0.6831 - tp: 18.0000 - fp: 34.0000 - tn: 431.0000 - fn: 69.0000 - accuracy: 0.8134 - precision: 0.3462 - recall: 0.2069 - auc: 0.7531 - val_loss: 0.4252 - val_tp: 3.0000 - val_fp: 1.0000 - val_tn: 112.0000 - val_fn: 22.0000 - val_accuracy: 0.8333 - val_precision: 0.7500 - val_recall: 0.1200 - val_auc: 0.7257\n",
            "Epoch 82/100\n",
            "1/1 [==============================] - 0s 58ms/step - loss: 0.7258 - tp: 22.0000 - fp: 35.0000 - tn: 430.0000 - fn: 65.0000 - accuracy: 0.8188 - precision: 0.3860 - recall: 0.2529 - auc: 0.7029 - val_loss: 0.4254 - val_tp: 3.0000 - val_fp: 1.0000 - val_tn: 112.0000 - val_fn: 22.0000 - val_accuracy: 0.8333 - val_precision: 0.7500 - val_recall: 0.1200 - val_auc: 0.7276\n",
            "Epoch 83/100\n",
            "1/1 [==============================] - 0s 58ms/step - loss: 0.6878 - tp: 21.0000 - fp: 39.0000 - tn: 426.0000 - fn: 66.0000 - accuracy: 0.8098 - precision: 0.3500 - recall: 0.2414 - auc: 0.7426 - val_loss: 0.4256 - val_tp: 3.0000 - val_fp: 1.0000 - val_tn: 112.0000 - val_fn: 22.0000 - val_accuracy: 0.8333 - val_precision: 0.7500 - val_recall: 0.1200 - val_auc: 0.7257\n",
            "Epoch 84/100\n",
            "1/1 [==============================] - 0s 63ms/step - loss: 0.6719 - tp: 24.0000 - fp: 38.0000 - tn: 427.0000 - fn: 63.0000 - accuracy: 0.8170 - precision: 0.3871 - recall: 0.2759 - auc: 0.7454 - val_loss: 0.4257 - val_tp: 3.0000 - val_fp: 1.0000 - val_tn: 112.0000 - val_fn: 22.0000 - val_accuracy: 0.8333 - val_precision: 0.7500 - val_recall: 0.1200 - val_auc: 0.7250\n",
            "Epoch 85/100\n",
            "1/1 [==============================] - 0s 62ms/step - loss: 0.7124 - tp: 19.0000 - fp: 34.0000 - tn: 431.0000 - fn: 68.0000 - accuracy: 0.8152 - precision: 0.3585 - recall: 0.2184 - auc: 0.7184 - val_loss: 0.4259 - val_tp: 3.0000 - val_fp: 1.0000 - val_tn: 112.0000 - val_fn: 22.0000 - val_accuracy: 0.8333 - val_precision: 0.7500 - val_recall: 0.1200 - val_auc: 0.7278\n",
            "Epoch 86/100\n",
            "1/1 [==============================] - 0s 53ms/step - loss: 0.7109 - tp: 17.0000 - fp: 41.0000 - tn: 424.0000 - fn: 70.0000 - accuracy: 0.7989 - precision: 0.2931 - recall: 0.1954 - auc: 0.7261 - val_loss: 0.4261 - val_tp: 4.0000 - val_fp: 2.0000 - val_tn: 111.0000 - val_fn: 21.0000 - val_accuracy: 0.8333 - val_precision: 0.6667 - val_recall: 0.1600 - val_auc: 0.7281\n",
            "Epoch 87/100\n",
            "1/1 [==============================] - 0s 66ms/step - loss: 0.6844 - tp: 26.0000 - fp: 36.0000 - tn: 429.0000 - fn: 61.0000 - accuracy: 0.8243 - precision: 0.4194 - recall: 0.2989 - auc: 0.7297 - val_loss: 0.4263 - val_tp: 4.0000 - val_fp: 2.0000 - val_tn: 111.0000 - val_fn: 21.0000 - val_accuracy: 0.8333 - val_precision: 0.6667 - val_recall: 0.1600 - val_auc: 0.7262\n",
            "Epoch 88/100\n",
            "1/1 [==============================] - 0s 75ms/step - loss: 0.7124 - tp: 20.0000 - fp: 37.0000 - tn: 428.0000 - fn: 67.0000 - accuracy: 0.8116 - precision: 0.3509 - recall: 0.2299 - auc: 0.7135 - val_loss: 0.4265 - val_tp: 4.0000 - val_fp: 2.0000 - val_tn: 111.0000 - val_fn: 21.0000 - val_accuracy: 0.8333 - val_precision: 0.6667 - val_recall: 0.1600 - val_auc: 0.7292\n",
            "Epoch 89/100\n",
            "1/1 [==============================] - 0s 56ms/step - loss: 0.7279 - tp: 17.0000 - fp: 38.0000 - tn: 427.0000 - fn: 70.0000 - accuracy: 0.8043 - precision: 0.3091 - recall: 0.1954 - auc: 0.7124 - val_loss: 0.4266 - val_tp: 4.0000 - val_fp: 2.0000 - val_tn: 111.0000 - val_fn: 21.0000 - val_accuracy: 0.8333 - val_precision: 0.6667 - val_recall: 0.1600 - val_auc: 0.7297\n",
            "Epoch 90/100\n",
            "1/1 [==============================] - 0s 56ms/step - loss: 0.6817 - tp: 27.0000 - fp: 39.0000 - tn: 426.0000 - fn: 60.0000 - accuracy: 0.8207 - precision: 0.4091 - recall: 0.3103 - auc: 0.7395 - val_loss: 0.4268 - val_tp: 4.0000 - val_fp: 2.0000 - val_tn: 111.0000 - val_fn: 21.0000 - val_accuracy: 0.8333 - val_precision: 0.6667 - val_recall: 0.1600 - val_auc: 0.7303\n",
            "Epoch 91/100\n",
            "1/1 [==============================] - 0s 57ms/step - loss: 0.6402 - tp: 25.0000 - fp: 37.0000 - tn: 428.0000 - fn: 62.0000 - accuracy: 0.8207 - precision: 0.4032 - recall: 0.2874 - auc: 0.7668 - val_loss: 0.4270 - val_tp: 4.0000 - val_fp: 2.0000 - val_tn: 111.0000 - val_fn: 21.0000 - val_accuracy: 0.8333 - val_precision: 0.6667 - val_recall: 0.1600 - val_auc: 0.7312\n",
            "Epoch 92/100\n",
            "1/1 [==============================] - 0s 63ms/step - loss: 0.6809 - tp: 24.0000 - fp: 40.0000 - tn: 425.0000 - fn: 63.0000 - accuracy: 0.8134 - precision: 0.3750 - recall: 0.2759 - auc: 0.7335 - val_loss: 0.4272 - val_tp: 4.0000 - val_fp: 2.0000 - val_tn: 111.0000 - val_fn: 21.0000 - val_accuracy: 0.8333 - val_precision: 0.6667 - val_recall: 0.1600 - val_auc: 0.7304\n",
            "Epoch 93/100\n",
            "1/1 [==============================] - 0s 61ms/step - loss: 0.6780 - tp: 26.0000 - fp: 38.0000 - tn: 427.0000 - fn: 61.0000 - accuracy: 0.8207 - precision: 0.4062 - recall: 0.2989 - auc: 0.7344 - val_loss: 0.4274 - val_tp: 4.0000 - val_fp: 3.0000 - val_tn: 110.0000 - val_fn: 21.0000 - val_accuracy: 0.8261 - val_precision: 0.5714 - val_recall: 0.1600 - val_auc: 0.7308\n",
            "Epoch 94/100\n",
            "1/1 [==============================] - 0s 59ms/step - loss: 0.6199 - tp: 30.0000 - fp: 32.0000 - tn: 433.0000 - fn: 57.0000 - accuracy: 0.8388 - precision: 0.4839 - recall: 0.3448 - auc: 0.7820 - val_loss: 0.4276 - val_tp: 4.0000 - val_fp: 3.0000 - val_tn: 110.0000 - val_fn: 21.0000 - val_accuracy: 0.8261 - val_precision: 0.5714 - val_recall: 0.1600 - val_auc: 0.7312\n",
            "Epoch 95/100\n",
            "1/1 [==============================] - 0s 58ms/step - loss: 0.6701 - tp: 27.0000 - fp: 46.0000 - tn: 419.0000 - fn: 60.0000 - accuracy: 0.8080 - precision: 0.3699 - recall: 0.3103 - auc: 0.7334 - val_loss: 0.4278 - val_tp: 4.0000 - val_fp: 3.0000 - val_tn: 110.0000 - val_fn: 21.0000 - val_accuracy: 0.8261 - val_precision: 0.5714 - val_recall: 0.1600 - val_auc: 0.7313\n",
            "Epoch 96/100\n",
            "1/1 [==============================] - 0s 65ms/step - loss: 0.6784 - tp: 24.0000 - fp: 27.0000 - tn: 438.0000 - fn: 63.0000 - accuracy: 0.8370 - precision: 0.4706 - recall: 0.2759 - auc: 0.7269 - val_loss: 0.4280 - val_tp: 4.0000 - val_fp: 4.0000 - val_tn: 109.0000 - val_fn: 21.0000 - val_accuracy: 0.8188 - val_precision: 0.5000 - val_recall: 0.1600 - val_auc: 0.7303\n",
            "Epoch 97/100\n",
            "1/1 [==============================] - 0s 61ms/step - loss: 0.6814 - tp: 28.0000 - fp: 43.0000 - tn: 422.0000 - fn: 59.0000 - accuracy: 0.8152 - precision: 0.3944 - recall: 0.3218 - auc: 0.7304 - val_loss: 0.4282 - val_tp: 4.0000 - val_fp: 4.0000 - val_tn: 109.0000 - val_fn: 21.0000 - val_accuracy: 0.8188 - val_precision: 0.5000 - val_recall: 0.1600 - val_auc: 0.7335\n",
            "Epoch 98/100\n",
            "1/1 [==============================] - 0s 55ms/step - loss: 0.6386 - tp: 29.0000 - fp: 40.0000 - tn: 425.0000 - fn: 58.0000 - accuracy: 0.8225 - precision: 0.4203 - recall: 0.3333 - auc: 0.7440 - val_loss: 0.4283 - val_tp: 4.0000 - val_fp: 4.0000 - val_tn: 109.0000 - val_fn: 21.0000 - val_accuracy: 0.8188 - val_precision: 0.5000 - val_recall: 0.1600 - val_auc: 0.7326\n",
            "Epoch 99/100\n",
            "1/1 [==============================] - 0s 56ms/step - loss: 0.6523 - tp: 27.0000 - fp: 35.0000 - tn: 430.0000 - fn: 60.0000 - accuracy: 0.8279 - precision: 0.4355 - recall: 0.3103 - auc: 0.7478 - val_loss: 0.4285 - val_tp: 4.0000 - val_fp: 4.0000 - val_tn: 109.0000 - val_fn: 21.0000 - val_accuracy: 0.8188 - val_precision: 0.5000 - val_recall: 0.1600 - val_auc: 0.7329\n",
            "Epoch 100/100\n",
            "1/1 [==============================] - 0s 66ms/step - loss: 0.6339 - tp: 30.0000 - fp: 36.0000 - tn: 429.0000 - fn: 57.0000 - accuracy: 0.8315 - precision: 0.4545 - recall: 0.3448 - auc: 0.7642 - val_loss: 0.4287 - val_tp: 4.0000 - val_fp: 4.0000 - val_tn: 109.0000 - val_fn: 21.0000 - val_accuracy: 0.8188 - val_precision: 0.5000 - val_recall: 0.1600 - val_auc: 0.7343\n"
          ],
          "name": "stdout"
        }
      ]
    },
    {
      "cell_type": "code",
      "metadata": {
        "colab": {
          "base_uri": "https://localhost:8080/",
          "height": 609
        },
        "id": "fOe_0r-7rePG",
        "outputId": "99ca7e8f-6cb3-4627-edaa-efca59c6b45d"
      },
      "source": [
        "plot_metrics(weighted_history)"
      ],
      "execution_count": 51,
      "outputs": [
        {
          "output_type": "display_data",
          "data": {
            "image/png": "[encoded data removed]",
            "text/plain": [
              "<Figure size 864x720 with 4 Axes>"
            ]
          },
          "metadata": {
            "tags": [],
            "needs_background": "light"
          }
        }
      ]
    },
    {
      "cell_type": "code",
      "metadata": {
        "id": "seGiwhl_reHS"
      },
      "source": [
        "train_predictions_weighted = weighted_model.predict(train_features, batch_size=BATCH_SIZE)\r\n",
        "test_predictions_weighted = weighted_model.predict(test_features, batch_size=BATCH_SIZE)"
      ],
      "execution_count": 52,
      "outputs": []
    },
    {
      "cell_type": "code",
      "metadata": {
        "colab": {
          "base_uri": "https://localhost:8080/",
          "height": 602
        },
        "id": "9dXR7OP3reBx",
        "outputId": "afb4157d-a9bb-4f7f-c72d-9ed13521b218"
      },
      "source": [
        "weighted_results = weighted_model.evaluate(test_features, test_labels,\r\n",
        "                                           batch_size=BATCH_SIZE, verbose=0)\r\n",
        "for name, value in zip(weighted_model.metrics_names, weighted_results):\r\n",
        "  print(name, ': ', value)\r\n",
        "print()\r\n",
        "\r\n",
        "plot_cm(test_labels, test_predictions_weighted)"
      ],
      "execution_count": 53,
      "outputs": [
        {
          "output_type": "stream",
          "text": [
            "loss :  0.4984341263771057\n",
            "tp :  9.0\n",
            "fp :  8.0\n",
            "tn :  129.0\n",
            "fn :  27.0\n",
            "accuracy :  0.7976878881454468\n",
            "precision :  0.529411792755127\n",
            "recall :  0.25\n",
            "auc :  0.6906933784484863\n",
            "\n",
            "Legitimate Transactions Detected (True Negatives):  129\n",
            "Legitimate Transactions Incorrectly Detected (False Positives):  8\n",
            "Fraudulent Transactions Missed (False Negatives):  27\n",
            "Fraudulent Transactions Detected (True Positives):  9\n",
            "Total Fraudulent Transactions:  36\n"
          ],
          "name": "stdout"
        },
        {
          "output_type": "display_data",
          "data": {
            "image/png": "[encoded data removed]",
            "text/plain": [
              "<Figure size 360x360 with 2 Axes>"
            ]
          },
          "metadata": {
            "tags": [],
            "needs_background": "light"
          }
        }
      ]
    },
    {
      "cell_type": "code",
      "metadata": {
        "colab": {
          "base_uri": "https://localhost:8080/",
          "height": 623
        },
        "id": "WFBZwXKnrd8v",
        "outputId": "9d0572ca-d7bf-40d3-a9ec-1827e2138b75"
      },
      "source": [
        "plot_roc(\"Train Baseline\", train_labels, train_predictions_baseline, color=colors[0])\r\n",
        "plot_roc(\"Test Baseline\", test_labels, test_predictions_baseline, color=colors[0], linestyle='--')\r\n",
        "\r\n",
        "plot_roc(\"Train Weighted\", train_labels, train_predictions_weighted, color=colors[1])\r\n",
        "plot_roc(\"Test Weighted\", test_labels, test_predictions_weighted, color=colors[1], linestyle='--')\r\n",
        "\r\n",
        "\r\n",
        "plt.legend(loc='lower right')"
      ],
      "execution_count": 54,
      "outputs": [
        {
          "output_type": "execute_result",
          "data": {
            "text/plain": [
              "<matplotlib.legend.Legend at 0x7fc55bc63710>"
            ]
          },
          "metadata": {
            "tags": []
          },
          "execution_count": 54
        },
        {
          "output_type": "display_data",
          "data": {
            "image/png": "[encoded data removed]",
            "text/plain": [
              "<Figure size 864x720 with 1 Axes>"
            ]
          },
          "metadata": {
            "tags": [],
            "needs_background": "light"
          }
        }
      ]
    },
    {
      "cell_type": "code",
      "metadata": {
        "id": "NbhLTQBQr7u7"
      },
      "source": [
        "pos_features = train_features[bool_train_labels]\r\n",
        "neg_features = train_features[~bool_train_labels]\r\n",
        "\r\n",
        "pos_labels = train_labels[bool_train_labels]\r\n",
        "neg_labels = train_labels[~bool_train_labels]"
      ],
      "execution_count": 55,
      "outputs": []
    },
    {
      "cell_type": "code",
      "metadata": {
        "colab": {
          "base_uri": "https://localhost:8080/"
        },
        "id": "5BA_Q7Cvr7lX",
        "outputId": "9545d822-7f55-4ca0-cc06-40b014c730dc"
      },
      "source": [
        "ids = np.arange(len(pos_features))\r\n",
        "choices = np.random.choice(ids, len(neg_features))\r\n",
        "\r\n",
        "res_pos_features = pos_features[choices]\r\n",
        "res_pos_labels = pos_labels[choices]\r\n",
        "\r\n",
        "res_pos_features.shape"
      ],
      "execution_count": 56,
      "outputs": [
        {
          "output_type": "execute_result",
          "data": {
            "text/plain": [
              "(465, 24)"
            ]
          },
          "metadata": {
            "tags": []
          },
          "execution_count": 56
        }
      ]
    },
    {
      "cell_type": "code",
      "metadata": {
        "colab": {
          "base_uri": "https://localhost:8080/"
        },
        "id": "SFtqQo_fr7Jo",
        "outputId": "c3b6cd58-e55c-4a5e-bc8d-f7c57e0d3a50"
      },
      "source": [
        "resampled_features = np.concatenate([res_pos_features, neg_features], axis=0)\r\n",
        "resampled_labels = np.concatenate([res_pos_labels, neg_labels], axis=0)\r\n",
        "\r\n",
        "order = np.arange(len(resampled_labels))\r\n",
        "np.random.shuffle(order)\r\n",
        "resampled_features = resampled_features[order]\r\n",
        "resampled_labels = resampled_labels[order]\r\n",
        "\r\n",
        "resampled_features.shape"
      ],
      "execution_count": 57,
      "outputs": [
        {
          "output_type": "execute_result",
          "data": {
            "text/plain": [
              "(930, 24)"
            ]
          },
          "metadata": {
            "tags": []
          },
          "execution_count": 57
        }
      ]
    },
    {
      "cell_type": "code",
      "metadata": {
        "id": "ZcG_snbur69Q"
      },
      "source": [
        "BUFFER_SIZE = 100000\r\n",
        "\r\n",
        "def make_ds(features, labels):\r\n",
        "  ds = tf.data.Dataset.from_tensor_slices((features, labels))#.cache()\r\n",
        "  ds = ds.shuffle(BUFFER_SIZE).repeat()\r\n",
        "  return ds\r\n",
        "\r\n",
        "pos_ds = make_ds(pos_features, pos_labels)\r\n",
        "neg_ds = make_ds(neg_features, neg_labels)"
      ],
      "execution_count": 58,
      "outputs": []
    },
    {
      "cell_type": "code",
      "metadata": {
        "colab": {
          "base_uri": "https://localhost:8080/"
        },
        "id": "FKPUTB3ur63L",
        "outputId": "71523acd-3f7d-4ad1-9851-d0c06fa74f2a"
      },
      "source": [
        "for features, label in pos_ds.take(1):\r\n",
        "  print(\"Features:\\n\", features.numpy())\r\n",
        "  print()\r\n",
        "  print(\"Label: \", label.numpy())"
      ],
      "execution_count": 59,
      "outputs": [
        {
          "output_type": "stream",
          "text": [
            "Features:\n",
            " [ 0.90835212  1.38519389 -0.48665697 -0.30624553 -0.14946212 -1.08711461\n",
            " -1.36011477  1.06361371 -0.94705186 -0.22677868 -0.11333153 -0.08543577\n",
            " -0.12126781 -1.06450637 -0.59947858 -0.34527434 -0.57147071  4.52576062\n",
            " -0.16713157 -0.47609523 -0.82639387 -0.10482848 -2.49474133 -0.22686201]\n",
            "\n",
            "Label:  1\n"
          ],
          "name": "stdout"
        }
      ]
    },
    {
      "cell_type": "code",
      "metadata": {
        "id": "br05UrPssLSC"
      },
      "source": [
        "resampled_ds = tf.data.experimental.sample_from_datasets([pos_ds, neg_ds], weights=[0.5, 0.5])\r\n",
        "resampled_ds = resampled_ds.batch(BATCH_SIZE).prefetch(2)"
      ],
      "execution_count": 60,
      "outputs": []
    },
    {
      "cell_type": "code",
      "metadata": {
        "colab": {
          "base_uri": "https://localhost:8080/"
        },
        "id": "BAlgbLoAsNlE",
        "outputId": "fd7849cd-7f43-4eb9-f8eb-a6eec50a355c"
      },
      "source": [
        "for features, label in resampled_ds.take(1):\r\n",
        "  print(label.numpy().mean())"
      ],
      "execution_count": 61,
      "outputs": [
        {
          "output_type": "stream",
          "text": [
            "0.48486328125\n"
          ],
          "name": "stdout"
        }
      ]
    },
    {
      "cell_type": "code",
      "metadata": {
        "colab": {
          "base_uri": "https://localhost:8080/"
        },
        "id": "ZnSOBn61sV_F",
        "outputId": "982ccbe5-497c-42ba-ec60-8bb01306d959"
      },
      "source": [
        "resampled_steps_per_epoch = np.ceil(2.0*neg/BATCH_SIZE)\r\n",
        "resampled_steps_per_epoch"
      ],
      "execution_count": 63,
      "outputs": [
        {
          "output_type": "execute_result",
          "data": {
            "text/plain": [
              "1.0"
            ]
          },
          "metadata": {
            "tags": []
          },
          "execution_count": 63
        }
      ]
    },
    {
      "cell_type": "code",
      "metadata": {
        "colab": {
          "base_uri": "https://localhost:8080/"
        },
        "id": "kmVTb30rsPiu",
        "outputId": "172b5113-312c-4837-ac40-ec2324ddcb29"
      },
      "source": [
        "resampled_model = make_model()\r\n",
        "resampled_model.load_weights(initial_weights)\r\n",
        "\r\n",
        "# Reset the bias to zero, since this dataset is balanced.\r\n",
        "output_layer = resampled_model.layers[-1] \r\n",
        "output_layer.bias.assign([0])\r\n",
        "\r\n",
        "val_ds = tf.data.Dataset.from_tensor_slices((val_features, val_labels)).cache()\r\n",
        "val_ds = val_ds.batch(BATCH_SIZE).prefetch(2) \r\n",
        "\r\n",
        "resampled_history = resampled_model.fit(\r\n",
        "    resampled_ds,\r\n",
        "    epochs=EPOCHS,\r\n",
        "    steps_per_epoch=resampled_steps_per_epoch,\r\n",
        "    callbacks=[early_stopping],\r\n",
        "    validation_data=val_ds)"
      ],
      "execution_count": 64,
      "outputs": [
        {
          "output_type": "stream",
          "text": [
            "Epoch 1/100\n",
            "1/1 [==============================] - 3s 3s/step - loss: 0.7384 - tp: 331.0000 - fp: 277.0000 - tn: 907.0000 - fn: 706.0000 - accuracy: 0.5574 - precision: 0.5444 - recall: 0.3192 - auc: 0.6114 - val_loss: 0.5565 - val_tp: 7.0000 - val_fp: 13.0000 - val_tn: 100.0000 - val_fn: 18.0000 - val_accuracy: 0.7754 - val_precision: 0.3500 - val_recall: 0.2800 - val_auc: 0.6393\n",
            "Epoch 2/100\n",
            "1/1 [==============================] - 0s 65ms/step - loss: 0.7581 - tp: 326.0000 - fp: 280.0000 - tn: 778.0000 - fn: 664.0000 - accuracy: 0.5391 - precision: 0.5380 - recall: 0.3293 - auc: 0.5739 - val_loss: 0.5561 - val_tp: 7.0000 - val_fp: 13.0000 - val_tn: 100.0000 - val_fn: 18.0000 - val_accuracy: 0.7754 - val_precision: 0.3500 - val_recall: 0.2800 - val_auc: 0.6448\n",
            "Epoch 3/100\n",
            "1/1 [==============================] - 0s 58ms/step - loss: 0.7137 - tp: 362.0000 - fp: 252.0000 - tn: 787.0000 - fn: 647.0000 - accuracy: 0.5610 - precision: 0.5896 - recall: 0.3588 - auc: 0.6151 - val_loss: 0.5558 - val_tp: 8.0000 - val_fp: 13.0000 - val_tn: 100.0000 - val_fn: 17.0000 - val_accuracy: 0.7826 - val_precision: 0.3810 - val_recall: 0.3200 - val_auc: 0.6497\n",
            "Epoch 4/100\n",
            "1/1 [==============================] - 0s 61ms/step - loss: 0.7294 - tp: 381.0000 - fp: 239.0000 - tn: 760.0000 - fn: 668.0000 - accuracy: 0.5571 - precision: 0.6145 - recall: 0.3632 - auc: 0.6064 - val_loss: 0.5556 - val_tp: 8.0000 - val_fp: 13.0000 - val_tn: 100.0000 - val_fn: 17.0000 - val_accuracy: 0.7826 - val_precision: 0.3810 - val_recall: 0.3200 - val_auc: 0.6529\n",
            "Epoch 5/100\n",
            "1/1 [==============================] - 0s 57ms/step - loss: 0.7206 - tp: 366.0000 - fp: 259.0000 - tn: 773.0000 - fn: 650.0000 - accuracy: 0.5562 - precision: 0.5856 - recall: 0.3602 - auc: 0.6041 - val_loss: 0.5555 - val_tp: 8.0000 - val_fp: 14.0000 - val_tn: 99.0000 - val_fn: 17.0000 - val_accuracy: 0.7754 - val_precision: 0.3636 - val_recall: 0.3200 - val_auc: 0.6572\n",
            "Epoch 6/100\n",
            "1/1 [==============================] - 0s 56ms/step - loss: 0.7337 - tp: 410.0000 - fp: 259.0000 - tn: 758.0000 - fn: 621.0000 - accuracy: 0.5703 - precision: 0.6129 - recall: 0.3977 - auc: 0.6063 - val_loss: 0.5554 - val_tp: 8.0000 - val_fp: 14.0000 - val_tn: 99.0000 - val_fn: 17.0000 - val_accuracy: 0.7754 - val_precision: 0.3636 - val_recall: 0.3200 - val_auc: 0.6632\n",
            "Epoch 7/100\n",
            "1/1 [==============================] - 0s 58ms/step - loss: 0.7171 - tp: 381.0000 - fp: 257.0000 - tn: 773.0000 - fn: 637.0000 - accuracy: 0.5635 - precision: 0.5972 - recall: 0.3743 - auc: 0.6179 - val_loss: 0.5554 - val_tp: 8.0000 - val_fp: 14.0000 - val_tn: 99.0000 - val_fn: 17.0000 - val_accuracy: 0.7754 - val_precision: 0.3636 - val_recall: 0.3200 - val_auc: 0.6644\n",
            "Epoch 8/100\n",
            "1/1 [==============================] - 0s 64ms/step - loss: 0.7153 - tp: 382.0000 - fp: 273.0000 - tn: 781.0000 - fn: 612.0000 - accuracy: 0.5679 - precision: 0.5832 - recall: 0.3843 - auc: 0.6143 - val_loss: 0.5554 - val_tp: 8.0000 - val_fp: 14.0000 - val_tn: 99.0000 - val_fn: 17.0000 - val_accuracy: 0.7754 - val_precision: 0.3636 - val_recall: 0.3200 - val_auc: 0.6727\n",
            "Epoch 9/100\n",
            "1/1 [==============================] - 0s 58ms/step - loss: 0.7117 - tp: 413.0000 - fp: 273.0000 - tn: 749.0000 - fn: 613.0000 - accuracy: 0.5674 - precision: 0.6020 - recall: 0.4025 - auc: 0.6213 - val_loss: 0.5554 - val_tp: 8.0000 - val_fp: 14.0000 - val_tn: 99.0000 - val_fn: 17.0000 - val_accuracy: 0.7754 - val_precision: 0.3636 - val_recall: 0.3200 - val_auc: 0.6758\n",
            "Epoch 10/100\n",
            "1/1 [==============================] - 0s 59ms/step - loss: 0.6940 - tp: 426.0000 - fp: 276.0000 - tn: 773.0000 - fn: 573.0000 - accuracy: 0.5854 - precision: 0.6068 - recall: 0.4264 - auc: 0.6387 - val_loss: 0.5554 - val_tp: 8.0000 - val_fp: 14.0000 - val_tn: 99.0000 - val_fn: 17.0000 - val_accuracy: 0.7754 - val_precision: 0.3636 - val_recall: 0.3200 - val_auc: 0.6789\n",
            "Epoch 11/100\n",
            "1/1 [==============================] - 0s 58ms/step - loss: 0.7120 - tp: 411.0000 - fp: 257.0000 - tn: 754.0000 - fn: 626.0000 - accuracy: 0.5688 - precision: 0.6153 - recall: 0.3963 - auc: 0.6311 - val_loss: 0.5554 - val_tp: 8.0000 - val_fp: 14.0000 - val_tn: 99.0000 - val_fn: 17.0000 - val_accuracy: 0.7754 - val_precision: 0.3636 - val_recall: 0.3200 - val_auc: 0.6796\n",
            "Epoch 12/100\n",
            "1/1 [==============================] - 0s 61ms/step - loss: 0.6943 - tp: 424.0000 - fp: 263.0000 - tn: 771.0000 - fn: 590.0000 - accuracy: 0.5835 - precision: 0.6172 - recall: 0.4181 - auc: 0.6356 - val_loss: 0.5553 - val_tp: 8.0000 - val_fp: 14.0000 - val_tn: 99.0000 - val_fn: 17.0000 - val_accuracy: 0.7754 - val_precision: 0.3636 - val_recall: 0.3200 - val_auc: 0.6821\n",
            "Epoch 13/100\n",
            "1/1 [==============================] - 0s 61ms/step - loss: 0.7011 - tp: 450.0000 - fp: 267.0000 - tn: 737.0000 - fn: 594.0000 - accuracy: 0.5796 - precision: 0.6276 - recall: 0.4310 - auc: 0.6352 - val_loss: 0.5554 - val_tp: 8.0000 - val_fp: 16.0000 - val_tn: 97.0000 - val_fn: 17.0000 - val_accuracy: 0.7609 - val_precision: 0.3333 - val_recall: 0.3200 - val_auc: 0.6839\n",
            "Epoch 14/100\n",
            "1/1 [==============================] - 0s 62ms/step - loss: 0.6975 - tp: 455.0000 - fp: 271.0000 - tn: 716.0000 - fn: 606.0000 - accuracy: 0.5718 - precision: 0.6267 - recall: 0.4288 - auc: 0.6349 - val_loss: 0.5554 - val_tp: 8.0000 - val_fp: 15.0000 - val_tn: 98.0000 - val_fn: 17.0000 - val_accuracy: 0.7681 - val_precision: 0.3478 - val_recall: 0.3200 - val_auc: 0.6871\n",
            "Epoch 15/100\n",
            "1/1 [==============================] - 0s 64ms/step - loss: 0.6925 - tp: 435.0000 - fp: 273.0000 - tn: 763.0000 - fn: 577.0000 - accuracy: 0.5850 - precision: 0.6144 - recall: 0.4298 - auc: 0.6463 - val_loss: 0.5555 - val_tp: 10.0000 - val_fp: 16.0000 - val_tn: 97.0000 - val_fn: 15.0000 - val_accuracy: 0.7754 - val_precision: 0.3846 - val_recall: 0.4000 - val_auc: 0.6890\n",
            "Epoch 16/100\n",
            "1/1 [==============================] - 0s 62ms/step - loss: 0.6808 - tp: 431.0000 - fp: 263.0000 - tn: 768.0000 - fn: 586.0000 - accuracy: 0.5854 - precision: 0.6210 - recall: 0.4238 - auc: 0.6503 - val_loss: 0.5556 - val_tp: 11.0000 - val_fp: 16.0000 - val_tn: 97.0000 - val_fn: 14.0000 - val_accuracy: 0.7826 - val_precision: 0.4074 - val_recall: 0.4400 - val_auc: 0.6919\n",
            "Epoch 17/100\n",
            "1/1 [==============================] - 0s 70ms/step - loss: 0.6811 - tp: 478.0000 - fp: 282.0000 - tn: 727.0000 - fn: 561.0000 - accuracy: 0.5884 - precision: 0.6289 - recall: 0.4601 - auc: 0.6504 - val_loss: 0.5557 - val_tp: 11.0000 - val_fp: 16.0000 - val_tn: 97.0000 - val_fn: 14.0000 - val_accuracy: 0.7826 - val_precision: 0.4074 - val_recall: 0.4400 - val_auc: 0.6961\n",
            "Epoch 18/100\n",
            "1/1 [==============================] - 0s 63ms/step - loss: 0.6815 - tp: 439.0000 - fp: 264.0000 - tn: 759.0000 - fn: 586.0000 - accuracy: 0.5850 - precision: 0.6245 - recall: 0.4283 - auc: 0.6473 - val_loss: 0.5558 - val_tp: 11.0000 - val_fp: 17.0000 - val_tn: 96.0000 - val_fn: 14.0000 - val_accuracy: 0.7754 - val_precision: 0.3929 - val_recall: 0.4400 - val_auc: 0.6991\n",
            "Epoch 19/100\n",
            "1/1 [==============================] - 0s 57ms/step - loss: 0.6714 - tp: 440.0000 - fp: 270.0000 - tn: 777.0000 - fn: 561.0000 - accuracy: 0.5942 - precision: 0.6197 - recall: 0.4396 - auc: 0.6592 - val_loss: 0.5558 - val_tp: 11.0000 - val_fp: 17.0000 - val_tn: 96.0000 - val_fn: 14.0000 - val_accuracy: 0.7754 - val_precision: 0.3929 - val_recall: 0.4400 - val_auc: 0.7007\n",
            "Epoch 20/100\n",
            "1/1 [==============================] - 0s 59ms/step - loss: 0.6652 - tp: 472.0000 - fp: 257.0000 - tn: 766.0000 - fn: 553.0000 - accuracy: 0.6045 - precision: 0.6475 - recall: 0.4605 - auc: 0.6725 - val_loss: 0.5559 - val_tp: 12.0000 - val_fp: 17.0000 - val_tn: 96.0000 - val_fn: 13.0000 - val_accuracy: 0.7826 - val_precision: 0.4138 - val_recall: 0.4800 - val_auc: 0.7021\n",
            "Epoch 21/100\n",
            "1/1 [==============================] - 0s 59ms/step - loss: 0.6761 - tp: 466.0000 - fp: 299.0000 - tn: 752.0000 - fn: 531.0000 - accuracy: 0.5947 - precision: 0.6092 - recall: 0.4674 - auc: 0.6470 - val_loss: 0.5559 - val_tp: 12.0000 - val_fp: 17.0000 - val_tn: 96.0000 - val_fn: 13.0000 - val_accuracy: 0.7826 - val_precision: 0.4138 - val_recall: 0.4800 - val_auc: 0.7050\n",
            "Epoch 22/100\n",
            "1/1 [==============================] - 0s 61ms/step - loss: 0.6704 - tp: 510.0000 - fp: 271.0000 - tn: 743.0000 - fn: 524.0000 - accuracy: 0.6118 - precision: 0.6530 - recall: 0.4932 - auc: 0.6605 - val_loss: 0.5559 - val_tp: 12.0000 - val_fp: 18.0000 - val_tn: 95.0000 - val_fn: 13.0000 - val_accuracy: 0.7754 - val_precision: 0.4000 - val_recall: 0.4800 - val_auc: 0.7073\n",
            "Epoch 23/100\n",
            "1/1 [==============================] - 0s 67ms/step - loss: 0.6471 - tp: 515.0000 - fp: 269.0000 - tn: 758.0000 - fn: 506.0000 - accuracy: 0.6216 - precision: 0.6569 - recall: 0.5044 - auc: 0.6872 - val_loss: 0.5559 - val_tp: 12.0000 - val_fp: 18.0000 - val_tn: 95.0000 - val_fn: 13.0000 - val_accuracy: 0.7754 - val_precision: 0.4000 - val_recall: 0.4800 - val_auc: 0.7113\n",
            "Epoch 24/100\n",
            "1/1 [==============================] - 0s 62ms/step - loss: 0.6737 - tp: 502.0000 - fp: 296.0000 - tn: 691.0000 - fn: 559.0000 - accuracy: 0.5825 - precision: 0.6291 - recall: 0.4731 - auc: 0.6566 - val_loss: 0.5560 - val_tp: 12.0000 - val_fp: 18.0000 - val_tn: 95.0000 - val_fn: 13.0000 - val_accuracy: 0.7754 - val_precision: 0.4000 - val_recall: 0.4800 - val_auc: 0.7142\n",
            "Epoch 25/100\n",
            "1/1 [==============================] - 0s 60ms/step - loss: 0.6411 - tp: 530.0000 - fp: 285.0000 - tn: 724.0000 - fn: 509.0000 - accuracy: 0.6123 - precision: 0.6503 - recall: 0.5101 - auc: 0.6914 - val_loss: 0.5561 - val_tp: 13.0000 - val_fp: 18.0000 - val_tn: 95.0000 - val_fn: 12.0000 - val_accuracy: 0.7826 - val_precision: 0.4194 - val_recall: 0.5200 - val_auc: 0.7147\n",
            "Epoch 26/100\n",
            "1/1 [==============================] - 0s 68ms/step - loss: 0.6448 - tp: 505.0000 - fp: 290.0000 - tn: 759.0000 - fn: 494.0000 - accuracy: 0.6172 - precision: 0.6352 - recall: 0.5055 - auc: 0.6785 - val_loss: 0.5561 - val_tp: 14.0000 - val_fp: 18.0000 - val_tn: 95.0000 - val_fn: 11.0000 - val_accuracy: 0.7899 - val_precision: 0.4375 - val_recall: 0.5600 - val_auc: 0.7147\n",
            "Epoch 27/100\n",
            "1/1 [==============================] - 0s 65ms/step - loss: 0.6573 - tp: 550.0000 - fp: 269.0000 - tn: 712.0000 - fn: 517.0000 - accuracy: 0.6162 - precision: 0.6716 - recall: 0.5155 - auc: 0.6833 - val_loss: 0.5563 - val_tp: 14.0000 - val_fp: 20.0000 - val_tn: 93.0000 - val_fn: 11.0000 - val_accuracy: 0.7754 - val_precision: 0.4118 - val_recall: 0.5600 - val_auc: 0.7173\n",
            "Epoch 28/100\n",
            "1/1 [==============================] - 0s 60ms/step - loss: 0.6389 - tp: 563.0000 - fp: 281.0000 - tn: 708.0000 - fn: 496.0000 - accuracy: 0.6206 - precision: 0.6671 - recall: 0.5316 - auc: 0.6931 - val_loss: 0.5564 - val_tp: 14.0000 - val_fp: 21.0000 - val_tn: 92.0000 - val_fn: 11.0000 - val_accuracy: 0.7681 - val_precision: 0.4000 - val_recall: 0.5600 - val_auc: 0.7181\n",
            "Epoch 29/100\n",
            "1/1 [==============================] - 0s 62ms/step - loss: 0.6445 - tp: 532.0000 - fp: 299.0000 - tn: 748.0000 - fn: 469.0000 - accuracy: 0.6250 - precision: 0.6402 - recall: 0.5315 - auc: 0.6820 - val_loss: 0.5565 - val_tp: 14.0000 - val_fp: 22.0000 - val_tn: 91.0000 - val_fn: 11.0000 - val_accuracy: 0.7609 - val_precision: 0.3889 - val_recall: 0.5600 - val_auc: 0.7207\n",
            "Epoch 30/100\n",
            "1/1 [==============================] - 0s 286ms/step - loss: 0.6460 - tp: 531.0000 - fp: 280.0000 - tn: 736.0000 - fn: 501.0000 - accuracy: 0.6187 - precision: 0.6547 - recall: 0.5145 - auc: 0.6872 - val_loss: 0.5566 - val_tp: 14.0000 - val_fp: 22.0000 - val_tn: 91.0000 - val_fn: 11.0000 - val_accuracy: 0.7609 - val_precision: 0.3889 - val_recall: 0.5600 - val_auc: 0.7225\n",
            "Epoch 31/100\n",
            "1/1 [==============================] - 0s 58ms/step - loss: 0.6333 - tp: 544.0000 - fp: 291.0000 - tn: 750.0000 - fn: 463.0000 - accuracy: 0.6318 - precision: 0.6515 - recall: 0.5402 - auc: 0.6949 - val_loss: 0.5567 - val_tp: 14.0000 - val_fp: 22.0000 - val_tn: 91.0000 - val_fn: 11.0000 - val_accuracy: 0.7609 - val_precision: 0.3889 - val_recall: 0.5600 - val_auc: 0.7246\n",
            "Epoch 32/100\n",
            "1/1 [==============================] - 0s 63ms/step - loss: 0.6353 - tp: 539.0000 - fp: 301.0000 - tn: 750.0000 - fn: 458.0000 - accuracy: 0.6294 - precision: 0.6417 - recall: 0.5406 - auc: 0.6918 - val_loss: 0.5567 - val_tp: 14.0000 - val_fp: 22.0000 - val_tn: 91.0000 - val_fn: 11.0000 - val_accuracy: 0.7609 - val_precision: 0.3889 - val_recall: 0.5600 - val_auc: 0.7267\n",
            "Epoch 33/100\n",
            "1/1 [==============================] - 0s 63ms/step - loss: 0.6226 - tp: 552.0000 - fp: 291.0000 - tn: 776.0000 - fn: 429.0000 - accuracy: 0.6484 - precision: 0.6548 - recall: 0.5627 - auc: 0.7064 - val_loss: 0.5567 - val_tp: 15.0000 - val_fp: 23.0000 - val_tn: 90.0000 - val_fn: 10.0000 - val_accuracy: 0.7609 - val_precision: 0.3947 - val_recall: 0.6000 - val_auc: 0.7269\n",
            "Epoch 34/100\n",
            "1/1 [==============================] - 0s 70ms/step - loss: 0.6394 - tp: 593.0000 - fp: 298.0000 - tn: 698.0000 - fn: 459.0000 - accuracy: 0.6304 - precision: 0.6655 - recall: 0.5637 - auc: 0.6910 - val_loss: 0.5567 - val_tp: 15.0000 - val_fp: 24.0000 - val_tn: 89.0000 - val_fn: 10.0000 - val_accuracy: 0.7536 - val_precision: 0.3846 - val_recall: 0.6000 - val_auc: 0.7276\n",
            "Epoch 35/100\n",
            "1/1 [==============================] - 0s 64ms/step - loss: 0.6232 - tp: 547.0000 - fp: 285.0000 - tn: 752.0000 - fn: 464.0000 - accuracy: 0.6343 - precision: 0.6575 - recall: 0.5410 - auc: 0.7059 - val_loss: 0.5567 - val_tp: 15.0000 - val_fp: 24.0000 - val_tn: 89.0000 - val_fn: 10.0000 - val_accuracy: 0.7536 - val_precision: 0.3846 - val_recall: 0.6000 - val_auc: 0.7303\n",
            "Epoch 36/100\n",
            "1/1 [==============================] - 0s 55ms/step - loss: 0.6238 - tp: 523.0000 - fp: 310.0000 - tn: 749.0000 - fn: 466.0000 - accuracy: 0.6211 - precision: 0.6279 - recall: 0.5288 - auc: 0.6992 - val_loss: 0.5566 - val_tp: 15.0000 - val_fp: 25.0000 - val_tn: 88.0000 - val_fn: 10.0000 - val_accuracy: 0.7464 - val_precision: 0.3750 - val_recall: 0.6000 - val_auc: 0.7312\n",
            "Epoch 37/100\n",
            "1/1 [==============================] - 0s 61ms/step - loss: 0.6244 - tp: 576.0000 - fp: 300.0000 - tn: 737.0000 - fn: 435.0000 - accuracy: 0.6411 - precision: 0.6575 - recall: 0.5697 - auc: 0.7070 - val_loss: 0.5565 - val_tp: 15.0000 - val_fp: 26.0000 - val_tn: 87.0000 - val_fn: 10.0000 - val_accuracy: 0.7391 - val_precision: 0.3659 - val_recall: 0.6000 - val_auc: 0.7335\n",
            "Epoch 38/100\n",
            "1/1 [==============================] - 0s 56ms/step - loss: 0.6244 - tp: 592.0000 - fp: 313.0000 - tn: 729.0000 - fn: 414.0000 - accuracy: 0.6450 - precision: 0.6541 - recall: 0.5885 - auc: 0.7073 - val_loss: 0.5564 - val_tp: 15.0000 - val_fp: 26.0000 - val_tn: 87.0000 - val_fn: 10.0000 - val_accuracy: 0.7391 - val_precision: 0.3659 - val_recall: 0.6000 - val_auc: 0.7333\n",
            "Epoch 39/100\n",
            "1/1 [==============================] - 0s 61ms/step - loss: 0.6110 - tp: 579.0000 - fp: 287.0000 - tn: 752.0000 - fn: 430.0000 - accuracy: 0.6499 - precision: 0.6686 - recall: 0.5738 - auc: 0.7220 - val_loss: 0.5563 - val_tp: 15.0000 - val_fp: 26.0000 - val_tn: 87.0000 - val_fn: 10.0000 - val_accuracy: 0.7391 - val_precision: 0.3659 - val_recall: 0.6000 - val_auc: 0.7342\n",
            "Epoch 40/100\n",
            "1/1 [==============================] - 0s 60ms/step - loss: 0.6168 - tp: 584.0000 - fp: 279.0000 - tn: 760.0000 - fn: 425.0000 - accuracy: 0.6562 - precision: 0.6767 - recall: 0.5788 - auc: 0.7208 - val_loss: 0.5563 - val_tp: 15.0000 - val_fp: 26.0000 - val_tn: 87.0000 - val_fn: 10.0000 - val_accuracy: 0.7391 - val_precision: 0.3659 - val_recall: 0.6000 - val_auc: 0.7359\n",
            "Epoch 41/100\n",
            "1/1 [==============================] - 0s 69ms/step - loss: 0.6280 - tp: 587.0000 - fp: 298.0000 - tn: 722.0000 - fn: 441.0000 - accuracy: 0.6392 - precision: 0.6633 - recall: 0.5710 - auc: 0.7066 - val_loss: 0.5562 - val_tp: 15.0000 - val_fp: 26.0000 - val_tn: 87.0000 - val_fn: 10.0000 - val_accuracy: 0.7391 - val_precision: 0.3659 - val_recall: 0.6000 - val_auc: 0.7370\n",
            "Epoch 42/100\n",
            "1/1 [==============================] - 0s 61ms/step - loss: 0.6314 - tp: 597.0000 - fp: 310.0000 - tn: 697.0000 - fn: 444.0000 - accuracy: 0.6318 - precision: 0.6582 - recall: 0.5735 - auc: 0.6991 - val_loss: 0.5561 - val_tp: 15.0000 - val_fp: 26.0000 - val_tn: 87.0000 - val_fn: 10.0000 - val_accuracy: 0.7391 - val_precision: 0.3659 - val_recall: 0.6000 - val_auc: 0.7368\n",
            "Epoch 43/100\n",
            "1/1 [==============================] - 0s 66ms/step - loss: 0.6139 - tp: 616.0000 - fp: 309.0000 - tn: 706.0000 - fn: 417.0000 - accuracy: 0.6455 - precision: 0.6659 - recall: 0.5963 - auc: 0.7156 - val_loss: 0.5560 - val_tp: 15.0000 - val_fp: 26.0000 - val_tn: 87.0000 - val_fn: 10.0000 - val_accuracy: 0.7391 - val_precision: 0.3659 - val_recall: 0.6000 - val_auc: 0.7368\n",
            "Epoch 44/100\n",
            "1/1 [==============================] - 0s 63ms/step - loss: 0.5969 - tp: 649.0000 - fp: 279.0000 - tn: 724.0000 - fn: 396.0000 - accuracy: 0.6704 - precision: 0.6994 - recall: 0.6211 - auc: 0.7420 - val_loss: 0.5560 - val_tp: 15.0000 - val_fp: 26.0000 - val_tn: 87.0000 - val_fn: 10.0000 - val_accuracy: 0.7391 - val_precision: 0.3659 - val_recall: 0.6000 - val_auc: 0.7368\n",
            "Epoch 45/100\n",
            "1/1 [==============================] - 0s 60ms/step - loss: 0.6077 - tp: 604.0000 - fp: 300.0000 - tn: 735.0000 - fn: 409.0000 - accuracy: 0.6538 - precision: 0.6681 - recall: 0.5962 - auc: 0.7215 - val_loss: 0.5559 - val_tp: 15.0000 - val_fp: 26.0000 - val_tn: 87.0000 - val_fn: 10.0000 - val_accuracy: 0.7391 - val_precision: 0.3659 - val_recall: 0.6000 - val_auc: 0.7363\n",
            "Epoch 46/100\n",
            "1/1 [==============================] - 0s 58ms/step - loss: 0.6130 - tp: 605.0000 - fp: 290.0000 - tn: 743.0000 - fn: 410.0000 - accuracy: 0.6582 - precision: 0.6760 - recall: 0.5961 - auc: 0.7265 - val_loss: 0.5558 - val_tp: 15.0000 - val_fp: 26.0000 - val_tn: 87.0000 - val_fn: 10.0000 - val_accuracy: 0.7391 - val_precision: 0.3659 - val_recall: 0.6000 - val_auc: 0.7370\n",
            "Epoch 47/100\n",
            "1/1 [==============================] - 0s 75ms/step - loss: 0.6028 - tp: 635.0000 - fp: 284.0000 - tn: 741.0000 - fn: 388.0000 - accuracy: 0.6719 - precision: 0.6910 - recall: 0.6207 - auc: 0.7376 - val_loss: 0.5557 - val_tp: 15.0000 - val_fp: 26.0000 - val_tn: 87.0000 - val_fn: 10.0000 - val_accuracy: 0.7391 - val_precision: 0.3659 - val_recall: 0.6000 - val_auc: 0.7370\n",
            "Epoch 48/100\n",
            "1/1 [==============================] - 0s 61ms/step - loss: 0.6019 - tp: 612.0000 - fp: 288.0000 - tn: 763.0000 - fn: 385.0000 - accuracy: 0.6714 - precision: 0.6800 - recall: 0.6138 - auc: 0.7358 - val_loss: 0.5556 - val_tp: 15.0000 - val_fp: 26.0000 - val_tn: 87.0000 - val_fn: 10.0000 - val_accuracy: 0.7391 - val_precision: 0.3659 - val_recall: 0.6000 - val_auc: 0.7382\n",
            "Epoch 49/100\n",
            "1/1 [==============================] - 0s 58ms/step - loss: 0.5978 - tp: 660.0000 - fp: 289.0000 - tn: 714.0000 - fn: 385.0000 - accuracy: 0.6709 - precision: 0.6955 - recall: 0.6316 - auc: 0.7430 - val_loss: 0.5555 - val_tp: 15.0000 - val_fp: 26.0000 - val_tn: 87.0000 - val_fn: 10.0000 - val_accuracy: 0.7391 - val_precision: 0.3659 - val_recall: 0.6000 - val_auc: 0.7386\n",
            "Epoch 50/100\n",
            "1/1 [==============================] - 0s 62ms/step - loss: 0.5938 - tp: 671.0000 - fp: 277.0000 - tn: 725.0000 - fn: 375.0000 - accuracy: 0.6816 - precision: 0.7078 - recall: 0.6415 - auc: 0.7453 - val_loss: 0.5554 - val_tp: 15.0000 - val_fp: 27.0000 - val_tn: 86.0000 - val_fn: 10.0000 - val_accuracy: 0.7319 - val_precision: 0.3571 - val_recall: 0.6000 - val_auc: 0.7382\n",
            "Epoch 51/100\n",
            "1/1 [==============================] - 0s 63ms/step - loss: 0.6067 - tp: 643.0000 - fp: 321.0000 - tn: 720.0000 - fn: 364.0000 - accuracy: 0.6655 - precision: 0.6670 - recall: 0.6385 - auc: 0.7300 - val_loss: 0.5553 - val_tp: 15.0000 - val_fp: 27.0000 - val_tn: 86.0000 - val_fn: 10.0000 - val_accuracy: 0.7319 - val_precision: 0.3571 - val_recall: 0.6000 - val_auc: 0.7388\n",
            "Epoch 52/100\n",
            "1/1 [==============================] - 0s 65ms/step - loss: 0.6037 - tp: 659.0000 - fp: 307.0000 - tn: 697.0000 - fn: 385.0000 - accuracy: 0.6621 - precision: 0.6822 - recall: 0.6312 - auc: 0.7335 - val_loss: 0.5552 - val_tp: 15.0000 - val_fp: 27.0000 - val_tn: 86.0000 - val_fn: 10.0000 - val_accuracy: 0.7319 - val_precision: 0.3571 - val_recall: 0.6000 - val_auc: 0.7400\n",
            "Epoch 53/100\n",
            "1/1 [==============================] - 0s 65ms/step - loss: 0.5926 - tp: 630.0000 - fp: 282.0000 - tn: 768.0000 - fn: 368.0000 - accuracy: 0.6826 - precision: 0.6908 - recall: 0.6313 - auc: 0.7463 - val_loss: 0.5550 - val_tp: 15.0000 - val_fp: 27.0000 - val_tn: 86.0000 - val_fn: 10.0000 - val_accuracy: 0.7319 - val_precision: 0.3571 - val_recall: 0.6000 - val_auc: 0.7405\n",
            "Epoch 54/100\n",
            "1/1 [==============================] - 0s 60ms/step - loss: 0.5997 - tp: 663.0000 - fp: 305.0000 - tn: 727.0000 - fn: 353.0000 - accuracy: 0.6787 - precision: 0.6849 - recall: 0.6526 - auc: 0.7420 - val_loss: 0.5547 - val_tp: 15.0000 - val_fp: 27.0000 - val_tn: 86.0000 - val_fn: 10.0000 - val_accuracy: 0.7319 - val_precision: 0.3571 - val_recall: 0.6000 - val_auc: 0.7419\n",
            "Epoch 55/100\n",
            "1/1 [==============================] - 0s 68ms/step - loss: 0.5794 - tp: 667.0000 - fp: 283.0000 - tn: 741.0000 - fn: 357.0000 - accuracy: 0.6875 - precision: 0.7021 - recall: 0.6514 - auc: 0.7619 - val_loss: 0.5545 - val_tp: 15.0000 - val_fp: 27.0000 - val_tn: 86.0000 - val_fn: 10.0000 - val_accuracy: 0.7319 - val_precision: 0.3571 - val_recall: 0.6000 - val_auc: 0.7421\n",
            "Epoch 56/100\n",
            "1/1 [==============================] - 0s 66ms/step - loss: 0.5955 - tp: 690.0000 - fp: 281.0000 - tn: 711.0000 - fn: 366.0000 - accuracy: 0.6841 - precision: 0.7106 - recall: 0.6534 - auc: 0.7469 - val_loss: 0.5544 - val_tp: 15.0000 - val_fp: 27.0000 - val_tn: 86.0000 - val_fn: 10.0000 - val_accuracy: 0.7319 - val_precision: 0.3571 - val_recall: 0.6000 - val_auc: 0.7434\n",
            "Epoch 57/100\n",
            "1/1 [==============================] - 0s 68ms/step - loss: 0.5861 - tp: 682.0000 - fp: 282.0000 - tn: 728.0000 - fn: 356.0000 - accuracy: 0.6885 - precision: 0.7075 - recall: 0.6570 - auc: 0.7568 - val_loss: 0.5542 - val_tp: 15.0000 - val_fp: 27.0000 - val_tn: 86.0000 - val_fn: 10.0000 - val_accuracy: 0.7319 - val_precision: 0.3571 - val_recall: 0.6000 - val_auc: 0.7455\n",
            "Epoch 58/100\n",
            "1/1 [==============================] - 0s 62ms/step - loss: 0.5871 - tp: 673.0000 - fp: 296.0000 - tn: 734.0000 - fn: 345.0000 - accuracy: 0.6870 - precision: 0.6945 - recall: 0.6611 - auc: 0.7549 - val_loss: 0.5540 - val_tp: 15.0000 - val_fp: 27.0000 - val_tn: 86.0000 - val_fn: 10.0000 - val_accuracy: 0.7319 - val_precision: 0.3571 - val_recall: 0.6000 - val_auc: 0.7460\n",
            "Epoch 59/100\n",
            "1/1 [==============================] - 0s 60ms/step - loss: 0.5908 - tp: 642.0000 - fp: 324.0000 - tn: 736.0000 - fn: 346.0000 - accuracy: 0.6729 - precision: 0.6646 - recall: 0.6498 - auc: 0.7438 - val_loss: 0.5537 - val_tp: 15.0000 - val_fp: 27.0000 - val_tn: 86.0000 - val_fn: 10.0000 - val_accuracy: 0.7319 - val_precision: 0.3571 - val_recall: 0.6000 - val_auc: 0.7480\n",
            "Epoch 60/100\n",
            "1/1 [==============================] - 0s 58ms/step - loss: 0.5934 - tp: 702.0000 - fp: 296.0000 - tn: 684.0000 - fn: 366.0000 - accuracy: 0.6768 - precision: 0.7034 - recall: 0.6573 - auc: 0.7481 - val_loss: 0.5534 - val_tp: 15.0000 - val_fp: 27.0000 - val_tn: 86.0000 - val_fn: 10.0000 - val_accuracy: 0.7319 - val_precision: 0.3571 - val_recall: 0.6000 - val_auc: 0.7483\n",
            "Epoch 61/100\n",
            "1/1 [==============================] - 0s 58ms/step - loss: 0.5832 - tp: 707.0000 - fp: 279.0000 - tn: 717.0000 - fn: 345.0000 - accuracy: 0.6953 - precision: 0.7170 - recall: 0.6721 - auc: 0.7587 - val_loss: 0.5532 - val_tp: 15.0000 - val_fp: 28.0000 - val_tn: 85.0000 - val_fn: 10.0000 - val_accuracy: 0.7246 - val_precision: 0.3488 - val_recall: 0.6000 - val_auc: 0.7487\n",
            "Epoch 62/100\n",
            "1/1 [==============================] - 0s 68ms/step - loss: 0.5867 - tp: 649.0000 - fp: 302.0000 - tn: 740.0000 - fn: 357.0000 - accuracy: 0.6782 - precision: 0.6824 - recall: 0.6451 - auc: 0.7544 - val_loss: 0.5530 - val_tp: 15.0000 - val_fp: 28.0000 - val_tn: 85.0000 - val_fn: 10.0000 - val_accuracy: 0.7246 - val_precision: 0.3488 - val_recall: 0.6000 - val_auc: 0.7483\n",
            "Epoch 63/100\n",
            "1/1 [==============================] - 0s 63ms/step - loss: 0.5864 - tp: 661.0000 - fp: 322.0000 - tn: 731.0000 - fn: 334.0000 - accuracy: 0.6797 - precision: 0.6724 - recall: 0.6643 - auc: 0.7503 - val_loss: 0.5528 - val_tp: 15.0000 - val_fp: 28.0000 - val_tn: 85.0000 - val_fn: 10.0000 - val_accuracy: 0.7246 - val_precision: 0.3488 - val_recall: 0.6000 - val_auc: 0.7481\n",
            "Epoch 64/100\n",
            "1/1 [==============================] - 0s 61ms/step - loss: 0.5819 - tp: 685.0000 - fp: 294.0000 - tn: 738.0000 - fn: 331.0000 - accuracy: 0.6948 - precision: 0.6997 - recall: 0.6742 - auc: 0.7593 - val_loss: 0.5524 - val_tp: 15.0000 - val_fp: 27.0000 - val_tn: 86.0000 - val_fn: 10.0000 - val_accuracy: 0.7319 - val_precision: 0.3571 - val_recall: 0.6000 - val_auc: 0.7494\n",
            "Epoch 65/100\n",
            "1/1 [==============================] - 0s 66ms/step - loss: 0.5916 - tp: 645.0000 - fp: 303.0000 - tn: 757.0000 - fn: 343.0000 - accuracy: 0.6846 - precision: 0.6804 - recall: 0.6528 - auc: 0.7509 - val_loss: 0.5519 - val_tp: 15.0000 - val_fp: 27.0000 - val_tn: 86.0000 - val_fn: 10.0000 - val_accuracy: 0.7319 - val_precision: 0.3571 - val_recall: 0.6000 - val_auc: 0.7503\n",
            "Epoch 66/100\n",
            "1/1 [==============================] - 0s 61ms/step - loss: 0.5873 - tp: 677.0000 - fp: 314.0000 - tn: 704.0000 - fn: 353.0000 - accuracy: 0.6743 - precision: 0.6831 - recall: 0.6573 - auc: 0.7498 - val_loss: 0.5515 - val_tp: 15.0000 - val_fp: 27.0000 - val_tn: 86.0000 - val_fn: 10.0000 - val_accuracy: 0.7319 - val_precision: 0.3571 - val_recall: 0.6000 - val_auc: 0.7487\n",
            "Epoch 67/100\n",
            "1/1 [==============================] - 0s 70ms/step - loss: 0.5762 - tp: 668.0000 - fp: 311.0000 - tn: 739.0000 - fn: 330.0000 - accuracy: 0.6870 - precision: 0.6823 - recall: 0.6693 - auc: 0.7610 - val_loss: 0.5510 - val_tp: 15.0000 - val_fp: 26.0000 - val_tn: 87.0000 - val_fn: 10.0000 - val_accuracy: 0.7391 - val_precision: 0.3659 - val_recall: 0.6000 - val_auc: 0.7504\n",
            "Epoch 68/100\n",
            "1/1 [==============================] - 0s 60ms/step - loss: 0.5814 - tp: 718.0000 - fp: 301.0000 - tn: 691.0000 - fn: 338.0000 - accuracy: 0.6880 - precision: 0.7046 - recall: 0.6799 - auc: 0.7596 - val_loss: 0.5506 - val_tp: 15.0000 - val_fp: 26.0000 - val_tn: 87.0000 - val_fn: 10.0000 - val_accuracy: 0.7391 - val_precision: 0.3659 - val_recall: 0.6000 - val_auc: 0.7510\n",
            "Epoch 69/100\n",
            "1/1 [==============================] - 0s 72ms/step - loss: 0.5743 - tp: 677.0000 - fp: 301.0000 - tn: 753.0000 - fn: 317.0000 - accuracy: 0.6982 - precision: 0.6922 - recall: 0.6811 - auc: 0.7685 - val_loss: 0.5502 - val_tp: 15.0000 - val_fp: 26.0000 - val_tn: 87.0000 - val_fn: 10.0000 - val_accuracy: 0.7391 - val_precision: 0.3659 - val_recall: 0.6000 - val_auc: 0.7524\n",
            "Epoch 70/100\n",
            "1/1 [==============================] - 0s 62ms/step - loss: 0.5710 - tp: 739.0000 - fp: 264.0000 - tn: 699.0000 - fn: 346.0000 - accuracy: 0.7021 - precision: 0.7368 - recall: 0.6811 - auc: 0.7766 - val_loss: 0.5499 - val_tp: 15.0000 - val_fp: 26.0000 - val_tn: 87.0000 - val_fn: 10.0000 - val_accuracy: 0.7391 - val_precision: 0.3659 - val_recall: 0.6000 - val_auc: 0.7531\n",
            "Epoch 71/100\n",
            "1/1 [==============================] - 0s 67ms/step - loss: 0.5655 - tp: 728.0000 - fp: 282.0000 - tn: 720.0000 - fn: 318.0000 - accuracy: 0.7070 - precision: 0.7208 - recall: 0.6960 - auc: 0.7788 - val_loss: 0.5496 - val_tp: 15.0000 - val_fp: 26.0000 - val_tn: 87.0000 - val_fn: 10.0000 - val_accuracy: 0.7391 - val_precision: 0.3659 - val_recall: 0.6000 - val_auc: 0.7524\n",
            "Epoch 72/100\n",
            "1/1 [==============================] - 0s 66ms/step - loss: 0.5741 - tp: 726.0000 - fp: 292.0000 - tn: 713.0000 - fn: 317.0000 - accuracy: 0.7026 - precision: 0.7132 - recall: 0.6961 - auc: 0.7698 - val_loss: 0.5493 - val_tp: 15.0000 - val_fp: 26.0000 - val_tn: 87.0000 - val_fn: 10.0000 - val_accuracy: 0.7391 - val_precision: 0.3659 - val_recall: 0.6000 - val_auc: 0.7543\n",
            "Epoch 73/100\n",
            "1/1 [==============================] - 0s 57ms/step - loss: 0.5746 - tp: 699.0000 - fp: 275.0000 - tn: 738.0000 - fn: 336.0000 - accuracy: 0.7017 - precision: 0.7177 - recall: 0.6754 - auc: 0.7724 - val_loss: 0.5490 - val_tp: 15.0000 - val_fp: 26.0000 - val_tn: 87.0000 - val_fn: 10.0000 - val_accuracy: 0.7391 - val_precision: 0.3659 - val_recall: 0.6000 - val_auc: 0.7535\n",
            "Epoch 74/100\n",
            "1/1 [==============================] - 0s 59ms/step - loss: 0.5789 - tp: 718.0000 - fp: 312.0000 - tn: 689.0000 - fn: 329.0000 - accuracy: 0.6870 - precision: 0.6971 - recall: 0.6858 - auc: 0.7579 - val_loss: 0.5486 - val_tp: 15.0000 - val_fp: 26.0000 - val_tn: 87.0000 - val_fn: 10.0000 - val_accuracy: 0.7391 - val_precision: 0.3659 - val_recall: 0.6000 - val_auc: 0.7543\n",
            "Epoch 75/100\n",
            "1/1 [==============================] - 0s 57ms/step - loss: 0.5756 - tp: 704.0000 - fp: 305.0000 - tn: 731.0000 - fn: 308.0000 - accuracy: 0.7007 - precision: 0.6977 - recall: 0.6957 - auc: 0.7693 - val_loss: 0.5482 - val_tp: 15.0000 - val_fp: 26.0000 - val_tn: 87.0000 - val_fn: 10.0000 - val_accuracy: 0.7391 - val_precision: 0.3659 - val_recall: 0.6000 - val_auc: 0.7540\n",
            "Epoch 76/100\n",
            "1/1 [==============================] - 0s 73ms/step - loss: 0.5709 - tp: 727.0000 - fp: 284.0000 - tn: 717.0000 - fn: 320.0000 - accuracy: 0.7051 - precision: 0.7191 - recall: 0.6944 - auc: 0.7708 - val_loss: 0.5478 - val_tp: 15.0000 - val_fp: 26.0000 - val_tn: 87.0000 - val_fn: 10.0000 - val_accuracy: 0.7391 - val_precision: 0.3659 - val_recall: 0.6000 - val_auc: 0.7535\n",
            "Epoch 77/100\n",
            "1/1 [==============================] - 0s 62ms/step - loss: 0.5668 - tp: 714.0000 - fp: 268.0000 - tn: 729.0000 - fn: 337.0000 - accuracy: 0.7046 - precision: 0.7271 - recall: 0.6794 - auc: 0.7766 - val_loss: 0.5475 - val_tp: 15.0000 - val_fp: 26.0000 - val_tn: 87.0000 - val_fn: 10.0000 - val_accuracy: 0.7391 - val_precision: 0.3659 - val_recall: 0.6000 - val_auc: 0.7559\n",
            "Epoch 78/100\n",
            "1/1 [==============================] - 0s 62ms/step - loss: 0.5777 - tp: 724.0000 - fp: 306.0000 - tn: 708.0000 - fn: 310.0000 - accuracy: 0.6992 - precision: 0.7029 - recall: 0.7002 - auc: 0.7662 - val_loss: 0.5471 - val_tp: 15.0000 - val_fp: 26.0000 - val_tn: 87.0000 - val_fn: 10.0000 - val_accuracy: 0.7391 - val_precision: 0.3659 - val_recall: 0.6000 - val_auc: 0.7565\n",
            "Epoch 79/100\n",
            "1/1 [==============================] - 0s 295ms/step - loss: 0.5687 - tp: 670.0000 - fp: 322.0000 - tn: 751.0000 - fn: 305.0000 - accuracy: 0.6938 - precision: 0.6754 - recall: 0.6872 - auc: 0.7698 - val_loss: 0.5467 - val_tp: 15.0000 - val_fp: 27.0000 - val_tn: 86.0000 - val_fn: 10.0000 - val_accuracy: 0.7319 - val_precision: 0.3571 - val_recall: 0.6000 - val_auc: 0.7561\n",
            "Epoch 80/100\n",
            "1/1 [==============================] - 0s 61ms/step - loss: 0.5595 - tp: 685.0000 - fp: 285.0000 - tn: 777.0000 - fn: 301.0000 - accuracy: 0.7139 - precision: 0.7062 - recall: 0.6947 - auc: 0.7866 - val_loss: 0.5462 - val_tp: 15.0000 - val_fp: 27.0000 - val_tn: 86.0000 - val_fn: 10.0000 - val_accuracy: 0.7319 - val_precision: 0.3571 - val_recall: 0.6000 - val_auc: 0.7566\n",
            "Epoch 81/100\n",
            "1/1 [==============================] - 0s 58ms/step - loss: 0.5666 - tp: 716.0000 - fp: 293.0000 - tn: 734.0000 - fn: 305.0000 - accuracy: 0.7080 - precision: 0.7096 - recall: 0.7013 - auc: 0.7786 - val_loss: 0.5457 - val_tp: 15.0000 - val_fp: 27.0000 - val_tn: 86.0000 - val_fn: 10.0000 - val_accuracy: 0.7319 - val_precision: 0.3571 - val_recall: 0.6000 - val_auc: 0.7568\n",
            "Epoch 82/100\n",
            "1/1 [==============================] - 0s 67ms/step - loss: 0.5520 - tp: 736.0000 - fp: 282.0000 - tn: 741.0000 - fn: 289.0000 - accuracy: 0.7212 - precision: 0.7230 - recall: 0.7180 - auc: 0.7936 - val_loss: 0.5452 - val_tp: 15.0000 - val_fp: 28.0000 - val_tn: 85.0000 - val_fn: 10.0000 - val_accuracy: 0.7246 - val_precision: 0.3488 - val_recall: 0.6000 - val_auc: 0.7573\n",
            "Epoch 83/100\n",
            "1/1 [==============================] - 0s 67ms/step - loss: 0.5582 - tp: 741.0000 - fp: 270.0000 - tn: 732.0000 - fn: 305.0000 - accuracy: 0.7192 - precision: 0.7329 - recall: 0.7084 - auc: 0.7929 - val_loss: 0.5448 - val_tp: 15.0000 - val_fp: 28.0000 - val_tn: 85.0000 - val_fn: 10.0000 - val_accuracy: 0.7246 - val_precision: 0.3488 - val_recall: 0.6000 - val_auc: 0.7575\n",
            "Epoch 84/100\n",
            "1/1 [==============================] - 0s 62ms/step - loss: 0.5597 - tp: 702.0000 - fp: 305.0000 - tn: 726.0000 - fn: 315.0000 - accuracy: 0.6973 - precision: 0.6971 - recall: 0.6903 - auc: 0.7782 - val_loss: 0.5443 - val_tp: 15.0000 - val_fp: 28.0000 - val_tn: 85.0000 - val_fn: 10.0000 - val_accuracy: 0.7246 - val_precision: 0.3488 - val_recall: 0.6000 - val_auc: 0.7588\n",
            "Epoch 85/100\n",
            "1/1 [==============================] - 0s 64ms/step - loss: 0.5395 - tp: 734.0000 - fp: 281.0000 - tn: 749.0000 - fn: 284.0000 - accuracy: 0.7241 - precision: 0.7232 - recall: 0.7210 - auc: 0.8053 - val_loss: 0.5439 - val_tp: 15.0000 - val_fp: 28.0000 - val_tn: 85.0000 - val_fn: 10.0000 - val_accuracy: 0.7246 - val_precision: 0.3488 - val_recall: 0.6000 - val_auc: 0.7588\n",
            "Epoch 86/100\n",
            "1/1 [==============================] - 0s 69ms/step - loss: 0.5649 - tp: 721.0000 - fp: 305.0000 - tn: 712.0000 - fn: 310.0000 - accuracy: 0.6997 - precision: 0.7027 - recall: 0.6993 - auc: 0.7747 - val_loss: 0.5435 - val_tp: 15.0000 - val_fp: 28.0000 - val_tn: 85.0000 - val_fn: 10.0000 - val_accuracy: 0.7246 - val_precision: 0.3488 - val_recall: 0.6000 - val_auc: 0.7589\n",
            "Epoch 87/100\n",
            "1/1 [==============================] - 0s 62ms/step - loss: 0.5572 - tp: 743.0000 - fp: 274.0000 - tn: 739.0000 - fn: 292.0000 - accuracy: 0.7236 - precision: 0.7306 - recall: 0.7179 - auc: 0.7885 - val_loss: 0.5431 - val_tp: 15.0000 - val_fp: 27.0000 - val_tn: 86.0000 - val_fn: 10.0000 - val_accuracy: 0.7319 - val_precision: 0.3571 - val_recall: 0.6000 - val_auc: 0.7600\n",
            "Epoch 88/100\n",
            "1/1 [==============================] - 0s 72ms/step - loss: 0.5572 - tp: 724.0000 - fp: 295.0000 - tn: 730.0000 - fn: 299.0000 - accuracy: 0.7100 - precision: 0.7105 - recall: 0.7077 - auc: 0.7867 - val_loss: 0.5427 - val_tp: 15.0000 - val_fp: 27.0000 - val_tn: 86.0000 - val_fn: 10.0000 - val_accuracy: 0.7319 - val_precision: 0.3571 - val_recall: 0.6000 - val_auc: 0.7609\n",
            "Epoch 89/100\n",
            "1/1 [==============================] - 0s 70ms/step - loss: 0.5583 - tp: 727.0000 - fp: 276.0000 - tn: 761.0000 - fn: 284.0000 - accuracy: 0.7266 - precision: 0.7248 - recall: 0.7191 - auc: 0.7904 - val_loss: 0.5423 - val_tp: 15.0000 - val_fp: 27.0000 - val_tn: 86.0000 - val_fn: 10.0000 - val_accuracy: 0.7319 - val_precision: 0.3571 - val_recall: 0.6000 - val_auc: 0.7598\n",
            "Epoch 90/100\n",
            "1/1 [==============================] - 0s 65ms/step - loss: 0.5592 - tp: 777.0000 - fp: 280.0000 - tn: 706.0000 - fn: 285.0000 - accuracy: 0.7241 - precision: 0.7351 - recall: 0.7316 - auc: 0.7904 - val_loss: 0.5419 - val_tp: 15.0000 - val_fp: 27.0000 - val_tn: 86.0000 - val_fn: 10.0000 - val_accuracy: 0.7319 - val_precision: 0.3571 - val_recall: 0.6000 - val_auc: 0.7609\n",
            "Epoch 91/100\n",
            "1/1 [==============================] - 0s 64ms/step - loss: 0.5517 - tp: 733.0000 - fp: 274.0000 - tn: 764.0000 - fn: 277.0000 - accuracy: 0.7310 - precision: 0.7279 - recall: 0.7257 - auc: 0.7948 - val_loss: 0.5415 - val_tp: 15.0000 - val_fp: 27.0000 - val_tn: 86.0000 - val_fn: 10.0000 - val_accuracy: 0.7319 - val_precision: 0.3571 - val_recall: 0.6000 - val_auc: 0.7619\n",
            "Epoch 92/100\n",
            "1/1 [==============================] - 0s 63ms/step - loss: 0.5607 - tp: 762.0000 - fp: 299.0000 - tn: 706.0000 - fn: 281.0000 - accuracy: 0.7168 - precision: 0.7182 - recall: 0.7306 - auc: 0.7852 - val_loss: 0.5411 - val_tp: 15.0000 - val_fp: 27.0000 - val_tn: 86.0000 - val_fn: 10.0000 - val_accuracy: 0.7319 - val_precision: 0.3571 - val_recall: 0.6000 - val_auc: 0.7619\n",
            "Epoch 93/100\n",
            "1/1 [==============================] - 0s 62ms/step - loss: 0.5656 - tp: 673.0000 - fp: 323.0000 - tn: 755.0000 - fn: 297.0000 - accuracy: 0.6973 - precision: 0.6757 - recall: 0.6938 - auc: 0.7756 - val_loss: 0.5406 - val_tp: 15.0000 - val_fp: 27.0000 - val_tn: 86.0000 - val_fn: 10.0000 - val_accuracy: 0.7319 - val_precision: 0.3571 - val_recall: 0.6000 - val_auc: 0.7623\n",
            "Epoch 94/100\n",
            "1/1 [==============================] - 0s 64ms/step - loss: 0.5512 - tp: 736.0000 - fp: 299.0000 - tn: 747.0000 - fn: 266.0000 - accuracy: 0.7241 - precision: 0.7111 - recall: 0.7345 - auc: 0.7905 - val_loss: 0.5400 - val_tp: 15.0000 - val_fp: 28.0000 - val_tn: 85.0000 - val_fn: 10.0000 - val_accuracy: 0.7246 - val_precision: 0.3488 - val_recall: 0.6000 - val_auc: 0.7635\n",
            "Epoch 95/100\n",
            "1/1 [==============================] - 0s 72ms/step - loss: 0.5543 - tp: 741.0000 - fp: 291.0000 - tn: 728.0000 - fn: 288.0000 - accuracy: 0.7173 - precision: 0.7180 - recall: 0.7201 - auc: 0.7889 - val_loss: 0.5395 - val_tp: 15.0000 - val_fp: 28.0000 - val_tn: 85.0000 - val_fn: 10.0000 - val_accuracy: 0.7246 - val_precision: 0.3488 - val_recall: 0.6000 - val_auc: 0.7642\n",
            "Epoch 96/100\n",
            "1/1 [==============================] - 0s 71ms/step - loss: 0.5515 - tp: 758.0000 - fp: 278.0000 - tn: 725.0000 - fn: 287.0000 - accuracy: 0.7241 - precision: 0.7317 - recall: 0.7254 - auc: 0.7964 - val_loss: 0.5391 - val_tp: 15.0000 - val_fp: 28.0000 - val_tn: 85.0000 - val_fn: 10.0000 - val_accuracy: 0.7246 - val_precision: 0.3488 - val_recall: 0.6000 - val_auc: 0.7650\n",
            "Epoch 97/100\n",
            "1/1 [==============================] - 0s 60ms/step - loss: 0.5532 - tp: 759.0000 - fp: 274.0000 - tn: 711.0000 - fn: 304.0000 - accuracy: 0.7178 - precision: 0.7348 - recall: 0.7140 - auc: 0.7905 - val_loss: 0.5387 - val_tp: 15.0000 - val_fp: 28.0000 - val_tn: 85.0000 - val_fn: 10.0000 - val_accuracy: 0.7246 - val_precision: 0.3488 - val_recall: 0.6000 - val_auc: 0.7642\n",
            "Epoch 98/100\n",
            "1/1 [==============================] - 0s 65ms/step - loss: 0.5474 - tp: 724.0000 - fp: 294.0000 - tn: 744.0000 - fn: 286.0000 - accuracy: 0.7168 - precision: 0.7112 - recall: 0.7168 - auc: 0.7945 - val_loss: 0.5384 - val_tp: 15.0000 - val_fp: 28.0000 - val_tn: 85.0000 - val_fn: 10.0000 - val_accuracy: 0.7246 - val_precision: 0.3488 - val_recall: 0.6000 - val_auc: 0.7650\n",
            "Epoch 99/100\n",
            "1/1 [==============================] - 0s 60ms/step - loss: 0.5349 - tp: 758.0000 - fp: 272.0000 - tn: 763.0000 - fn: 255.0000 - accuracy: 0.7427 - precision: 0.7359 - recall: 0.7483 - auc: 0.8107 - val_loss: 0.5380 - val_tp: 15.0000 - val_fp: 28.0000 - val_tn: 85.0000 - val_fn: 10.0000 - val_accuracy: 0.7246 - val_precision: 0.3488 - val_recall: 0.6000 - val_auc: 0.7653\n",
            "Epoch 100/100\n",
            "1/1 [==============================] - 0s 65ms/step - loss: 0.5428 - tp: 801.0000 - fp: 267.0000 - tn: 716.0000 - fn: 264.0000 - accuracy: 0.7407 - precision: 0.7500 - recall: 0.7521 - auc: 0.8022 - val_loss: 0.5376 - val_tp: 15.0000 - val_fp: 28.0000 - val_tn: 85.0000 - val_fn: 10.0000 - val_accuracy: 0.7246 - val_precision: 0.3488 - val_recall: 0.6000 - val_auc: 0.7650\n"
          ],
          "name": "stdout"
        }
      ]
    },
    {
      "cell_type": "code",
      "metadata": {
        "colab": {
          "base_uri": "https://localhost:8080/",
          "height": 609
        },
        "id": "hkJ_WP6lsSEQ",
        "outputId": "c3138ac8-a186-4ab6-f465-f43229fda5e5"
      },
      "source": [
        "plot_metrics(resampled_history)"
      ],
      "execution_count": 65,
      "outputs": [
        {
          "output_type": "display_data",
          "data": {
            "image/png": "[encoded data removed]",
            "text/plain": [
              "<Figure size 864x720 with 4 Axes>"
            ]
          },
          "metadata": {
            "tags": [],
            "needs_background": "light"
          }
        }
      ]
    },
    {
      "cell_type": "code",
      "metadata": {
        "colab": {
          "base_uri": "https://localhost:8080/"
        },
        "id": "puZSLKvDsdUY",
        "outputId": "489bae5b-e231-4838-c2bb-f70e45125f56"
      },
      "source": [
        "tf.random.set_seed(1222)\r\n",
        "resampled_model = make_model()\r\n",
        "resampled_model.load_weights(initial_weights)\r\n",
        "\r\n",
        "# Reset the bias to zero, since this dataset is balanced.\r\n",
        "output_layer = resampled_model.layers[-1] \r\n",
        "output_layer.bias.assign([0])\r\n",
        "\r\n",
        "resampled_history = resampled_model.fit(\r\n",
        "    resampled_ds,\r\n",
        "    # These are not real epochs\r\n",
        "    steps_per_epoch=20,\r\n",
        "    epochs=10*EPOCHS,\r\n",
        "    callbacks=[early_stopping],\r\n",
        "    validation_data=(val_ds))"
      ],
      "execution_count": 74,
      "outputs": [
        {
          "output_type": "stream",
          "text": [
            "Epoch 1/1000\n",
            "20/20 [==============================] - 3s 87ms/step - loss: 0.7191 - tp: 4352.0000 - fp: 2900.3333 - tn: 8540.1905 - fn: 6810.9524 - accuracy: 0.5677 - precision: 0.5936 - recall: 0.3792 - auc: 0.6187 - val_loss: 0.5556 - val_tp: 11.0000 - val_fp: 17.0000 - val_tn: 96.0000 - val_fn: 14.0000 - val_accuracy: 0.7754 - val_precision: 0.3929 - val_recall: 0.4400 - val_auc: 0.7030\n",
            "Epoch 2/1000\n",
            "20/20 [==============================] - 0s 24ms/step - loss: 0.6553 - tp: 5702.0952 - fp: 3177.6667 - tn: 8088.3810 - fn: 5462.3333 - accuracy: 0.6099 - precision: 0.6385 - recall: 0.5004 - auc: 0.6754 - val_loss: 0.5562 - val_tp: 15.0000 - val_fp: 26.0000 - val_tn: 87.0000 - val_fn: 10.0000 - val_accuracy: 0.7391 - val_precision: 0.3659 - val_recall: 0.6000 - val_auc: 0.7375\n",
            "Epoch 3/1000\n",
            "20/20 [==============================] - 0s 23ms/step - loss: 0.6115 - tp: 6938.2857 - fp: 3234.6190 - tn: 7939.0000 - fn: 4318.5714 - accuracy: 0.6611 - precision: 0.6812 - recall: 0.6109 - auc: 0.7252 - val_loss: 0.5540 - val_tp: 15.0000 - val_fp: 27.0000 - val_tn: 86.0000 - val_fn: 10.0000 - val_accuracy: 0.7319 - val_precision: 0.3571 - val_recall: 0.6000 - val_auc: 0.7483\n",
            "Epoch 4/1000\n",
            "20/20 [==============================] - 0s 23ms/step - loss: 0.5823 - tp: 7527.0952 - fp: 3241.3810 - tn: 8007.6667 - fn: 3654.3333 - accuracy: 0.6900 - precision: 0.6960 - recall: 0.6672 - auc: 0.7585 - val_loss: 0.5469 - val_tp: 15.0000 - val_fp: 28.0000 - val_tn: 85.0000 - val_fn: 10.0000 - val_accuracy: 0.7246 - val_precision: 0.3488 - val_recall: 0.6000 - val_auc: 0.7568\n",
            "Epoch 5/1000\n",
            "20/20 [==============================] - 0s 23ms/step - loss: 0.5607 - tp: 8082.1429 - fp: 3170.0476 - tn: 7963.8095 - fn: 3214.4762 - accuracy: 0.7129 - precision: 0.7164 - recall: 0.7117 - auc: 0.7828 - val_loss: 0.5385 - val_tp: 15.0000 - val_fp: 28.0000 - val_tn: 85.0000 - val_fn: 10.0000 - val_accuracy: 0.7246 - val_precision: 0.3488 - val_recall: 0.6000 - val_auc: 0.7678\n",
            "Epoch 6/1000\n",
            "20/20 [==============================] - 0s 23ms/step - loss: 0.5430 - tp: 8236.7143 - fp: 3156.4762 - tn: 8129.6190 - fn: 2907.6667 - accuracy: 0.7283 - precision: 0.7215 - recall: 0.7365 - auc: 0.8004 - val_loss: 0.5300 - val_tp: 16.0000 - val_fp: 28.0000 - val_tn: 85.0000 - val_fn: 9.0000 - val_accuracy: 0.7319 - val_precision: 0.3636 - val_recall: 0.6400 - val_auc: 0.7749\n",
            "Epoch 7/1000\n",
            "20/20 [==============================] - 0s 24ms/step - loss: 0.5295 - tp: 8604.6190 - fp: 3044.5238 - tn: 8101.5238 - fn: 2679.8095 - accuracy: 0.7434 - precision: 0.7373 - recall: 0.7603 - auc: 0.8151 - val_loss: 0.5238 - val_tp: 15.0000 - val_fp: 25.0000 - val_tn: 88.0000 - val_fn: 10.0000 - val_accuracy: 0.7464 - val_precision: 0.3750 - val_recall: 0.6000 - val_auc: 0.7812\n",
            "Epoch 8/1000\n",
            "20/20 [==============================] - 0s 23ms/step - loss: 0.5140 - tp: 8776.2381 - fp: 2995.9048 - tn: 8207.8095 - fn: 2450.5238 - accuracy: 0.7556 - precision: 0.7458 - recall: 0.7790 - auc: 0.8267 - val_loss: 0.5185 - val_tp: 15.0000 - val_fp: 24.0000 - val_tn: 89.0000 - val_fn: 10.0000 - val_accuracy: 0.7536 - val_precision: 0.3846 - val_recall: 0.6000 - val_auc: 0.7869\n",
            "Epoch 9/1000\n",
            "20/20 [==============================] - 0s 24ms/step - loss: 0.5033 - tp: 8882.7619 - fp: 2973.7143 - tn: 8222.7143 - fn: 2351.2857 - accuracy: 0.7611 - precision: 0.7468 - recall: 0.7889 - auc: 0.8343 - val_loss: 0.5126 - val_tp: 15.0000 - val_fp: 25.0000 - val_tn: 88.0000 - val_fn: 10.0000 - val_accuracy: 0.7464 - val_precision: 0.3750 - val_recall: 0.6000 - val_auc: 0.7917\n",
            "Epoch 10/1000\n",
            "20/20 [==============================] - 0s 23ms/step - loss: 0.4901 - tp: 8966.0000 - fp: 2902.6667 - tn: 8316.8095 - fn: 2245.0000 - accuracy: 0.7705 - precision: 0.7552 - recall: 0.7990 - auc: 0.8454 - val_loss: 0.5074 - val_tp: 15.0000 - val_fp: 28.0000 - val_tn: 85.0000 - val_fn: 10.0000 - val_accuracy: 0.7246 - val_precision: 0.3488 - val_recall: 0.6000 - val_auc: 0.7936\n",
            "Epoch 11/1000\n",
            "20/20 [==============================] - 0s 24ms/step - loss: 0.4864 - tp: 9015.5714 - fp: 2943.3810 - tn: 8281.3810 - fn: 2190.1429 - accuracy: 0.7701 - precision: 0.7528 - recall: 0.8037 - auc: 0.8456 - val_loss: 0.5016 - val_tp: 16.0000 - val_fp: 28.0000 - val_tn: 85.0000 - val_fn: 9.0000 - val_accuracy: 0.7319 - val_precision: 0.3636 - val_recall: 0.6400 - val_auc: 0.7949\n",
            "Epoch 12/1000\n",
            "20/20 [==============================] - 0s 24ms/step - loss: 0.4731 - tp: 9207.6190 - fp: 2866.7619 - tn: 8257.0000 - fn: 2099.0952 - accuracy: 0.7780 - precision: 0.7621 - recall: 0.8135 - auc: 0.8555 - val_loss: 0.4978 - val_tp: 17.0000 - val_fp: 27.0000 - val_tn: 86.0000 - val_fn: 8.0000 - val_accuracy: 0.7464 - val_precision: 0.3864 - val_recall: 0.6800 - val_auc: 0.7952\n",
            "Epoch 13/1000\n",
            "20/20 [==============================] - 0s 24ms/step - loss: 0.4688 - tp: 9203.1429 - fp: 2804.1905 - tn: 8379.0476 - fn: 2044.0952 - accuracy: 0.7840 - precision: 0.7680 - recall: 0.8174 - auc: 0.8588 - val_loss: 0.4947 - val_tp: 17.0000 - val_fp: 27.0000 - val_tn: 86.0000 - val_fn: 8.0000 - val_accuracy: 0.7464 - val_precision: 0.3864 - val_recall: 0.6800 - val_auc: 0.7988\n",
            "Epoch 14/1000\n",
            "20/20 [==============================] - 0s 24ms/step - loss: 0.4640 - tp: 9325.5714 - fp: 2830.5714 - tn: 8345.5714 - fn: 1928.7619 - accuracy: 0.7879 - precision: 0.7672 - recall: 0.8288 - auc: 0.8622 - val_loss: 0.4900 - val_tp: 17.0000 - val_fp: 28.0000 - val_tn: 85.0000 - val_fn: 8.0000 - val_accuracy: 0.7391 - val_precision: 0.3778 - val_recall: 0.6800 - val_auc: 0.8009\n",
            "Epoch 15/1000\n",
            "20/20 [==============================] - 0s 24ms/step - loss: 0.4573 - tp: 9383.0000 - fp: 2784.8095 - tn: 8366.9048 - fn: 1895.7619 - accuracy: 0.7905 - precision: 0.7705 - recall: 0.8302 - auc: 0.8658 - val_loss: 0.4883 - val_tp: 17.0000 - val_fp: 28.0000 - val_tn: 85.0000 - val_fn: 8.0000 - val_accuracy: 0.7391 - val_precision: 0.3778 - val_recall: 0.6800 - val_auc: 0.8011\n",
            "Epoch 16/1000\n",
            "20/20 [==============================] - 0s 24ms/step - loss: 0.4518 - tp: 9510.7143 - fp: 2817.2857 - tn: 8329.2857 - fn: 1773.1905 - accuracy: 0.7935 - precision: 0.7701 - recall: 0.8417 - auc: 0.8695 - val_loss: 0.4850 - val_tp: 17.0000 - val_fp: 28.0000 - val_tn: 85.0000 - val_fn: 8.0000 - val_accuracy: 0.7391 - val_precision: 0.3778 - val_recall: 0.6800 - val_auc: 0.8046\n",
            "Epoch 17/1000\n",
            "20/20 [==============================] - 0s 23ms/step - loss: 0.4442 - tp: 9513.6190 - fp: 2804.0952 - tn: 8407.1429 - fn: 1705.6190 - accuracy: 0.7985 - precision: 0.7727 - recall: 0.8475 - auc: 0.8741 - val_loss: 0.4803 - val_tp: 17.0000 - val_fp: 28.0000 - val_tn: 85.0000 - val_fn: 8.0000 - val_accuracy: 0.7391 - val_precision: 0.3778 - val_recall: 0.6800 - val_auc: 0.8081\n",
            "Epoch 18/1000\n",
            "20/20 [==============================] - 0s 24ms/step - loss: 0.4392 - tp: 9578.9524 - fp: 2753.5238 - tn: 8464.4286 - fn: 1633.5714 - accuracy: 0.8032 - precision: 0.7756 - recall: 0.8532 - auc: 0.8773 - val_loss: 0.4767 - val_tp: 17.0000 - val_fp: 27.0000 - val_tn: 86.0000 - val_fn: 8.0000 - val_accuracy: 0.7464 - val_precision: 0.3864 - val_recall: 0.6800 - val_auc: 0.8103\n",
            "Epoch 19/1000\n",
            "20/20 [==============================] - 0s 24ms/step - loss: 0.4297 - tp: 9725.7619 - fp: 2742.9524 - tn: 8418.9524 - fn: 1542.8095 - accuracy: 0.8094 - precision: 0.7805 - recall: 0.8640 - auc: 0.8817 - val_loss: 0.4737 - val_tp: 16.0000 - val_fp: 27.0000 - val_tn: 86.0000 - val_fn: 9.0000 - val_accuracy: 0.7391 - val_precision: 0.3721 - val_recall: 0.6400 - val_auc: 0.8110\n",
            "Epoch 20/1000\n",
            "20/20 [==============================] - 0s 23ms/step - loss: 0.4282 - tp: 9730.1429 - fp: 2741.6667 - tn: 8464.5238 - fn: 1494.1429 - accuracy: 0.8111 - precision: 0.7809 - recall: 0.8666 - auc: 0.8826 - val_loss: 0.4712 - val_tp: 16.0000 - val_fp: 27.0000 - val_tn: 86.0000 - val_fn: 9.0000 - val_accuracy: 0.7391 - val_precision: 0.3721 - val_recall: 0.6400 - val_auc: 0.8110\n",
            "Epoch 21/1000\n",
            "20/20 [==============================] - 0s 25ms/step - loss: 0.4217 - tp: 9786.9524 - fp: 2674.3333 - tn: 8539.1905 - fn: 1430.0000 - accuracy: 0.8169 - precision: 0.7851 - recall: 0.8723 - auc: 0.8876 - val_loss: 0.4679 - val_tp: 16.0000 - val_fp: 27.0000 - val_tn: 86.0000 - val_fn: 9.0000 - val_accuracy: 0.7391 - val_precision: 0.3721 - val_recall: 0.6400 - val_auc: 0.8115\n",
            "Epoch 22/1000\n",
            "20/20 [==============================] - 0s 24ms/step - loss: 0.4178 - tp: 9843.4286 - fp: 2637.0476 - tn: 8580.6190 - fn: 1369.3810 - accuracy: 0.8202 - precision: 0.7881 - recall: 0.8763 - auc: 0.8897 - val_loss: 0.4651 - val_tp: 16.0000 - val_fp: 27.0000 - val_tn: 86.0000 - val_fn: 9.0000 - val_accuracy: 0.7391 - val_precision: 0.3721 - val_recall: 0.6400 - val_auc: 0.8115\n",
            "Epoch 23/1000\n",
            "20/20 [==============================] - 0s 25ms/step - loss: 0.4122 - tp: 9907.0000 - fp: 2626.4762 - tn: 8559.1905 - fn: 1337.8095 - accuracy: 0.8226 - precision: 0.7909 - recall: 0.8800 - auc: 0.8915 - val_loss: 0.4647 - val_tp: 16.0000 - val_fp: 27.0000 - val_tn: 86.0000 - val_fn: 9.0000 - val_accuracy: 0.7391 - val_precision: 0.3721 - val_recall: 0.6400 - val_auc: 0.8117\n",
            "Epoch 24/1000\n",
            "20/20 [==============================] - 0s 23ms/step - loss: 0.4064 - tp: 9969.7619 - fp: 2602.5238 - tn: 8546.4286 - fn: 1311.7619 - accuracy: 0.8254 - precision: 0.7941 - recall: 0.8827 - auc: 0.8951 - val_loss: 0.4635 - val_tp: 16.0000 - val_fp: 26.0000 - val_tn: 87.0000 - val_fn: 9.0000 - val_accuracy: 0.7464 - val_precision: 0.3810 - val_recall: 0.6400 - val_auc: 0.8119\n",
            "Epoch 25/1000\n",
            "20/20 [==============================] - 0s 23ms/step - loss: 0.4031 - tp: 10074.4762 - fp: 2588.0952 - tn: 8507.8571 - fn: 1260.0476 - accuracy: 0.8284 - precision: 0.7964 - recall: 0.8883 - auc: 0.8976 - val_loss: 0.4635 - val_tp: 16.0000 - val_fp: 26.0000 - val_tn: 87.0000 - val_fn: 9.0000 - val_accuracy: 0.7464 - val_precision: 0.3810 - val_recall: 0.6400 - val_auc: 0.8129\n",
            "Epoch 26/1000\n",
            "20/20 [==============================] - 0s 24ms/step - loss: 0.3960 - tp: 9928.4286 - fp: 2587.0476 - tn: 8684.0000 - fn: 1231.0000 - accuracy: 0.8307 - precision: 0.7951 - recall: 0.8896 - auc: 0.9001 - val_loss: 0.4621 - val_tp: 16.0000 - val_fp: 26.0000 - val_tn: 87.0000 - val_fn: 9.0000 - val_accuracy: 0.7464 - val_precision: 0.3810 - val_recall: 0.6400 - val_auc: 0.8126\n",
            "Epoch 27/1000\n",
            "20/20 [==============================] - 1s 27ms/step - loss: 0.3995 - tp: 9950.2381 - fp: 2580.7143 - tn: 8638.1429 - fn: 1261.3810 - accuracy: 0.8281 - precision: 0.7933 - recall: 0.8869 - auc: 0.8985 - val_loss: 0.4620 - val_tp: 16.0000 - val_fp: 27.0000 - val_tn: 86.0000 - val_fn: 9.0000 - val_accuracy: 0.7391 - val_precision: 0.3721 - val_recall: 0.6400 - val_auc: 0.8108\n",
            "Epoch 28/1000\n",
            "20/20 [==============================] - 0s 24ms/step - loss: 0.3906 - tp: 10080.2381 - fp: 2544.4762 - tn: 8593.0476 - fn: 1212.7143 - accuracy: 0.8322 - precision: 0.7989 - recall: 0.8916 - auc: 0.9030 - val_loss: 0.4633 - val_tp: 15.0000 - val_fp: 28.0000 - val_tn: 85.0000 - val_fn: 10.0000 - val_accuracy: 0.7246 - val_precision: 0.3488 - val_recall: 0.6000 - val_auc: 0.8083\n",
            "Epoch 29/1000\n",
            "20/20 [==============================] - 0s 23ms/step - loss: 0.3891 - tp: 10133.4762 - fp: 2564.2381 - tn: 8572.1905 - fn: 1160.5714 - accuracy: 0.8341 - precision: 0.7990 - recall: 0.8972 - auc: 0.9031 - val_loss: 0.4649 - val_tp: 15.0000 - val_fp: 29.0000 - val_tn: 84.0000 - val_fn: 10.0000 - val_accuracy: 0.7174 - val_precision: 0.3409 - val_recall: 0.6000 - val_auc: 0.8067\n",
            "Epoch 30/1000\n",
            "20/20 [==============================] - 0s 25ms/step - loss: 0.3878 - tp: 10103.6190 - fp: 2623.8571 - tn: 8572.0000 - fn: 1131.0000 - accuracy: 0.8327 - precision: 0.7938 - recall: 0.8994 - auc: 0.9036 - val_loss: 0.4632 - val_tp: 15.0000 - val_fp: 29.0000 - val_tn: 84.0000 - val_fn: 10.0000 - val_accuracy: 0.7174 - val_precision: 0.3409 - val_recall: 0.6000 - val_auc: 0.8058\n",
            "Epoch 31/1000\n",
            "20/20 [==============================] - 0s 24ms/step - loss: 0.3851 - tp: 10080.0000 - fp: 2593.9048 - tn: 8650.1429 - fn: 1106.4286 - accuracy: 0.8343 - precision: 0.7942 - recall: 0.9013 - auc: 0.9047 - val_loss: 0.4615 - val_tp: 15.0000 - val_fp: 28.0000 - val_tn: 85.0000 - val_fn: 10.0000 - val_accuracy: 0.7246 - val_precision: 0.3488 - val_recall: 0.6000 - val_auc: 0.8055\n",
            "Epoch 32/1000\n",
            "20/20 [==============================] - 0s 25ms/step - loss: 0.3798 - tp: 10106.1429 - fp: 2573.4286 - tn: 8705.9524 - fn: 1044.9524 - accuracy: 0.8386 - precision: 0.7979 - recall: 0.9046 - auc: 0.9069 - val_loss: 0.4613 - val_tp: 15.0000 - val_fp: 26.0000 - val_tn: 87.0000 - val_fn: 10.0000 - val_accuracy: 0.7391 - val_precision: 0.3659 - val_recall: 0.6000 - val_auc: 0.8073\n",
            "Epoch 33/1000\n",
            "20/20 [==============================] - 0s 23ms/step - loss: 0.3744 - tp: 10161.7619 - fp: 2577.6190 - tn: 8688.4286 - fn: 1002.6667 - accuracy: 0.8405 - precision: 0.7977 - recall: 0.9103 - auc: 0.9096 - val_loss: 0.4612 - val_tp: 14.0000 - val_fp: 26.0000 - val_tn: 87.0000 - val_fn: 11.0000 - val_accuracy: 0.7319 - val_precision: 0.3500 - val_recall: 0.5600 - val_auc: 0.8080\n",
            "Epoch 34/1000\n",
            "20/20 [==============================] - 0s 23ms/step - loss: 0.3725 - tp: 10254.0476 - fp: 2554.3810 - tn: 8623.6667 - fn: 998.3810 - accuracy: 0.8416 - precision: 0.8013 - recall: 0.9103 - auc: 0.9103 - val_loss: 0.4621 - val_tp: 14.0000 - val_fp: 27.0000 - val_tn: 86.0000 - val_fn: 11.0000 - val_accuracy: 0.7246 - val_precision: 0.3415 - val_recall: 0.5600 - val_auc: 0.8055\n",
            "Epoch 35/1000\n",
            "20/20 [==============================] - 0s 24ms/step - loss: 0.3689 - tp: 10338.8571 - fp: 2568.5238 - tn: 8587.4762 - fn: 935.6190 - accuracy: 0.8431 - precision: 0.8015 - recall: 0.9160 - auc: 0.9121 - val_loss: 0.4604 - val_tp: 14.0000 - val_fp: 27.0000 - val_tn: 86.0000 - val_fn: 11.0000 - val_accuracy: 0.7246 - val_precision: 0.3415 - val_recall: 0.5600 - val_auc: 0.8065\n",
            "Restoring model weights from the end of the best epoch.\n",
            "Epoch 00035: early stopping\n"
          ],
          "name": "stdout"
        }
      ]
    },
    {
      "cell_type": "code",
      "metadata": {
        "colab": {
          "base_uri": "https://localhost:8080/",
          "height": 609
        },
        "id": "QCSV_J9msjVm",
        "outputId": "4bca84a3-47f3-404a-bf5a-a6f21d8ef6a6"
      },
      "source": [
        "plot_metrics(resampled_history)"
      ],
      "execution_count": 75,
      "outputs": [
        {
          "output_type": "display_data",
          "data": {
            "image/png": "[encoded data removed]",
            "text/plain": [
              "<Figure size 864x720 with 4 Axes>"
            ]
          },
          "metadata": {
            "tags": [],
            "needs_background": "light"
          }
        }
      ]
    },
    {
      "cell_type": "code",
      "metadata": {
        "colab": {
          "base_uri": "https://localhost:8080/"
        },
        "id": "GTfSoc9gsjOO",
        "outputId": "39eac91d-0795-4a5f-cd03-8a069c316d57"
      },
      "source": [
        "train_predictions_resampled = resampled_model.predict(train_features, batch_size=BATCH_SIZE)\r\n",
        "test_predictions_resampled = resampled_model.predict(test_features, batch_size=BATCH_SIZE)"
      ],
      "execution_count": 76,
      "outputs": [
        {
          "output_type": "stream",
          "text": [
            "WARNING:tensorflow:6 out of the last 10 calls to <function Model.make_predict_function.<locals>.predict_function at 0x7fc5570ae7b8> triggered tf.function retracing. Tracing is expensive and the excessive number of tracings could be due to (1) creating @tf.function repeatedly in a loop, (2) passing tensors with different shapes, (3) passing Python objects instead of tensors. For (1), please define your @tf.function outside of the loop. For (2), @tf.function has experimental_relax_shapes=True option that relaxes argument shapes that can avoid unnecessary retracing. For (3), please refer to https://www.tensorflow.org/guide/function#controlling_retracing and https://www.tensorflow.org/api_docs/python/tf/function for  more details.\n"
          ],
          "name": "stdout"
        }
      ]
    },
    {
      "cell_type": "code",
      "metadata": {
        "colab": {
          "base_uri": "https://localhost:8080/",
          "height": 602
        },
        "id": "8VIzI12Lsn1h",
        "outputId": "9bb1757b-a02a-4bfc-8363-923e752b68a1"
      },
      "source": [
        "resampled_results = resampled_model.evaluate(test_features, test_labels,\r\n",
        "                                             batch_size=BATCH_SIZE, verbose=0)\r\n",
        "for name, value in zip(resampled_model.metrics_names, resampled_results):\r\n",
        "  print(name, ': ', value)\r\n",
        "print()\r\n",
        "\r\n",
        "plot_cm(test_labels, test_predictions_resampled)"
      ],
      "execution_count": 77,
      "outputs": [
        {
          "output_type": "stream",
          "text": [
            "loss :  0.6593720316886902\n",
            "tp :  21.0\n",
            "fp :  25.0\n",
            "tn :  112.0\n",
            "fn :  15.0\n",
            "accuracy :  0.7687861323356628\n",
            "precision :  0.45652174949645996\n",
            "recall :  0.5833333134651184\n",
            "auc :  0.7213098406791687\n",
            "\n",
            "Legitimate Transactions Detected (True Negatives):  112\n",
            "Legitimate Transactions Incorrectly Detected (False Positives):  25\n",
            "Fraudulent Transactions Missed (False Negatives):  15\n",
            "Fraudulent Transactions Detected (True Positives):  21\n",
            "Total Fraudulent Transactions:  36\n"
          ],
          "name": "stdout"
        },
        {
          "output_type": "display_data",
          "data": {
            "image/png": "[encoded data removed]",
            "text/plain": [
              "<Figure size 360x360 with 2 Axes>"
            ]
          },
          "metadata": {
            "tags": [],
            "needs_background": "light"
          }
        }
      ]
    },
    {
      "cell_type": "code",
      "metadata": {
        "colab": {
          "base_uri": "https://localhost:8080/",
          "height": 623
        },
        "id": "Zu6Ioj6VtKcK",
        "outputId": "ddd25f37-75d5-48f0-8556-2ade6146cf7d"
      },
      "source": [
        "plot_roc(\"Train Baseline\", train_labels, train_predictions_baseline, color=colors[0])\r\n",
        "plot_roc(\"Test Baseline\", test_labels, test_predictions_baseline, color=colors[0], linestyle='--')\r\n",
        "\r\n",
        "plot_roc(\"Train Weighted\", train_labels, train_predictions_weighted, color=colors[1])\r\n",
        "plot_roc(\"Test Weighted\", test_labels, test_predictions_weighted, color=colors[1], linestyle='--')\r\n",
        "\r\n",
        "plot_roc(\"Train Resampled\", train_labels, train_predictions_resampled, color=colors[2])\r\n",
        "plot_roc(\"Test Resampled\", test_labels, test_predictions_resampled, color=colors[2], linestyle='--')\r\n",
        "plt.legend(loc='lower right')"
      ],
      "execution_count": 78,
      "outputs": [
        {
          "output_type": "execute_result",
          "data": {
            "text/plain": [
              "<matplotlib.legend.Legend at 0x7fc556f00278>"
            ]
          },
          "metadata": {
            "tags": []
          },
          "execution_count": 78
        },
        {
          "output_type": "display_data",
          "data": {
            "image/png": "[encoded data removed]",
            "text/plain": [
              "<Figure size 864x720 with 1 Axes>"
            ]
          },
          "metadata": {
            "tags": [],
            "needs_background": "light"
          }
        }
      ]
    },
    {
      "cell_type": "code",
      "metadata": {
        "id": "6OsXCGFBtK_7"
      },
      "source": [
        ""
      ],
      "execution_count": null,
      "outputs": []
    }
  ]
}