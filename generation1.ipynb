{
  "nbformat": 4,
  "nbformat_minor": 0,
  "metadata": {
    "colab": {
      "name": "generation.ipynb",
      "provenance": [],
      "authorship_tag": "ABX9TyOIxIaRc0e2ntonOMWAsVLb",
      "include_colab_link": true
    },
    "kernelspec": {
      "name": "python3",
      "display_name": "Python 3"
    }
  },
  "cells": [
    {
      "cell_type": "markdown",
      "metadata": {
        "id": "view-in-github",
        "colab_type": "text"
      },
      "source": [
        "<a href=\"https://colab.research.google.com/github/AlexAlexeyuk/Alexander.Alexeyuk/blob/master/generation1.ipynb\" target=\"_parent\"><img src=\"https://colab.research.google.com/assets/colab-badge.svg\" alt=\"Open In Colab\"/></a>"
      ]
    },
    {
      "cell_type": "code",
      "metadata": {
        "colab": {
          "base_uri": "https://localhost:8080/"
        },
        "id": "tokP_QsTntw1",
        "outputId": "447f79c0-e8d7-420b-b609-6617f9c756cc"
      },
      "source": [
        "import pandas as pd\r\n",
        "import numpy as np\r\n",
        "!pip install sdv"
      ],
      "execution_count": 8,
      "outputs": [
        {
          "output_type": "stream",
          "text": [
            "Requirement already satisfied: sdv in /usr/local/lib/python3.6/dist-packages (0.7.0)\n",
            "Requirement already satisfied: sdmetrics<0.2.0,>=0.1.2 in /usr/local/lib/python3.6/dist-packages (from sdv) (0.1.3)\n",
            "Requirement already satisfied: deepecho<0.2,>=0.1.4 in /usr/local/lib/python3.6/dist-packages (from sdv) (0.1.4)\n",
            "Requirement already satisfied: scipy<1.6,>=1.1.0 in /usr/local/lib/python3.6/dist-packages (from sdv) (1.4.1)\n",
            "Requirement already satisfied: pandas<1.1.5,>=1.1 in /usr/local/lib/python3.6/dist-packages (from sdv) (1.1.4)\n",
            "Requirement already satisfied: copulas<0.5,>=0.4.0 in /usr/local/lib/python3.6/dist-packages (from sdv) (0.4.0)\n",
            "Requirement already satisfied: rdt<0.4,>=0.2.10 in /usr/local/lib/python3.6/dist-packages (from sdv) (0.3.0)\n",
            "Requirement already satisfied: ctgan<0.4,>=0.3.1 in /usr/local/lib/python3.6/dist-packages (from sdv) (0.3.1)\n",
            "Requirement already satisfied: numpy<2,>=1.18.0 in /usr/local/lib/python3.6/dist-packages (from sdv) (1.19.5)\n",
            "Requirement already satisfied: graphviz<1,>=0.13.2 in /usr/local/lib/python3.6/dist-packages (from sdv) (0.16)\n",
            "Requirement already satisfied: sktime<0.6,>=0.4 in /usr/local/lib/python3.6/dist-packages (from sdmetrics<0.2.0,>=0.1.2->sdv) (0.5.3)\n",
            "Requirement already satisfied: scikit-learn<1,>=0.20 in /usr/local/lib/python3.6/dist-packages (from sdmetrics<0.2.0,>=0.1.2->sdv) (0.22.2.post1)\n",
            "Requirement already satisfied: torch<2,>=1 in /usr/local/lib/python3.6/dist-packages (from sdmetrics<0.2.0,>=0.1.2->sdv) (1.7.0+cu101)\n",
            "Requirement already satisfied: pomegranate<0.13.5,>=0.13.0 in /usr/local/lib/python3.6/dist-packages (from sdmetrics<0.2.0,>=0.1.2->sdv) (0.13.4)\n",
            "Requirement already satisfied: tqdm<5,>=4 in /usr/local/lib/python3.6/dist-packages (from deepecho<0.2,>=0.1.4->sdv) (4.41.1)\n",
            "Requirement already satisfied: pytz>=2017.2 in /usr/local/lib/python3.6/dist-packages (from pandas<1.1.5,>=1.1->sdv) (2018.9)\n",
            "Requirement already satisfied: python-dateutil>=2.7.3 in /usr/local/lib/python3.6/dist-packages (from pandas<1.1.5,>=1.1->sdv) (2.8.1)\n",
            "Requirement already satisfied: matplotlib<3.2.2,>=2.2.2 in /usr/local/lib/python3.6/dist-packages (from copulas<0.5,>=0.4.0->sdv) (3.2.1)\n",
            "Requirement already satisfied: Faker<4.15,>=1.0.1 in /usr/local/lib/python3.6/dist-packages (from rdt<0.4,>=0.2.10->sdv) (4.14.2)\n",
            "Requirement already satisfied: torchvision<1,>=0.4.2 in /usr/local/lib/python3.6/dist-packages (from ctgan<0.4,>=0.3.1->sdv) (0.8.1+cu101)\n",
            "Requirement already satisfied: packaging in /usr/local/lib/python3.6/dist-packages (from ctgan<0.4,>=0.3.1->sdv) (20.9)\n",
            "Requirement already satisfied: statsmodels>=0.12.1 in /usr/local/lib/python3.6/dist-packages (from sktime<0.6,>=0.4->sdmetrics<0.2.0,>=0.1.2->sdv) (0.12.2)\n",
            "Requirement already satisfied: wheel in /usr/local/lib/python3.6/dist-packages (from sktime<0.6,>=0.4->sdmetrics<0.2.0,>=0.1.2->sdv) (0.36.2)\n",
            "Requirement already satisfied: numba>=0.50 in /usr/local/lib/python3.6/dist-packages (from sktime<0.6,>=0.4->sdmetrics<0.2.0,>=0.1.2->sdv) (0.51.2)\n",
            "Requirement already satisfied: joblib>=0.11 in /usr/local/lib/python3.6/dist-packages (from scikit-learn<1,>=0.20->sdmetrics<0.2.0,>=0.1.2->sdv) (1.0.0)\n",
            "Requirement already satisfied: future in /usr/local/lib/python3.6/dist-packages (from torch<2,>=1->sdmetrics<0.2.0,>=0.1.2->sdv) (0.16.0)\n",
            "Requirement already satisfied: typing-extensions in /usr/local/lib/python3.6/dist-packages (from torch<2,>=1->sdmetrics<0.2.0,>=0.1.2->sdv) (3.7.4.3)\n",
            "Requirement already satisfied: dataclasses in /usr/local/lib/python3.6/dist-packages (from torch<2,>=1->sdmetrics<0.2.0,>=0.1.2->sdv) (0.8)\n",
            "Requirement already satisfied: networkx>=2.0 in /usr/local/lib/python3.6/dist-packages (from pomegranate<0.13.5,>=0.13.0->sdmetrics<0.2.0,>=0.1.2->sdv) (2.5)\n",
            "Requirement already satisfied: pyyaml in /usr/local/lib/python3.6/dist-packages (from pomegranate<0.13.5,>=0.13.0->sdmetrics<0.2.0,>=0.1.2->sdv) (3.13)\n",
            "Requirement already satisfied: six>=1.5 in /usr/local/lib/python3.6/dist-packages (from python-dateutil>=2.7.3->pandas<1.1.5,>=1.1->sdv) (1.15.0)\n",
            "Requirement already satisfied: cycler>=0.10 in /usr/local/lib/python3.6/dist-packages (from matplotlib<3.2.2,>=2.2.2->copulas<0.5,>=0.4.0->sdv) (0.10.0)\n",
            "Requirement already satisfied: kiwisolver>=1.0.1 in /usr/local/lib/python3.6/dist-packages (from matplotlib<3.2.2,>=2.2.2->copulas<0.5,>=0.4.0->sdv) (1.3.1)\n",
            "Requirement already satisfied: pyparsing!=2.0.4,!=2.1.2,!=2.1.6,>=2.0.1 in /usr/local/lib/python3.6/dist-packages (from matplotlib<3.2.2,>=2.2.2->copulas<0.5,>=0.4.0->sdv) (2.4.7)\n",
            "Requirement already satisfied: text-unidecode==1.3 in /usr/local/lib/python3.6/dist-packages (from Faker<4.15,>=1.0.1->rdt<0.4,>=0.2.10->sdv) (1.3)\n",
            "Requirement already satisfied: pillow>=4.1.1 in /usr/local/lib/python3.6/dist-packages (from torchvision<1,>=0.4.2->ctgan<0.4,>=0.3.1->sdv) (7.0.0)\n",
            "Requirement already satisfied: patsy>=0.5 in /usr/local/lib/python3.6/dist-packages (from statsmodels>=0.12.1->sktime<0.6,>=0.4->sdmetrics<0.2.0,>=0.1.2->sdv) (0.5.1)\n",
            "Requirement already satisfied: llvmlite<0.35,>=0.34.0.dev0 in /usr/local/lib/python3.6/dist-packages (from numba>=0.50->sktime<0.6,>=0.4->sdmetrics<0.2.0,>=0.1.2->sdv) (0.34.0)\n",
            "Requirement already satisfied: setuptools in /usr/local/lib/python3.6/dist-packages (from numba>=0.50->sktime<0.6,>=0.4->sdmetrics<0.2.0,>=0.1.2->sdv) (53.0.0)\n",
            "Requirement already satisfied: decorator>=4.3.0 in /usr/local/lib/python3.6/dist-packages (from networkx>=2.0->pomegranate<0.13.5,>=0.13.0->sdmetrics<0.2.0,>=0.1.2->sdv) (4.4.2)\n"
          ],
          "name": "stdout"
        }
      ]
    },
    {
      "cell_type": "code",
      "metadata": {
        "id": "vjOgNuyPn2CT"
      },
      "source": [
        "import matplotlib.pyplot as plt\r\n"
      ],
      "execution_count": 9,
      "outputs": []
    },
    {
      "cell_type": "code",
      "metadata": {
        "id": "LoA9jCTBoOp4"
      },
      "source": [
        "df  = pd.read_csv('/content/Proc_data_1.csv')"
      ],
      "execution_count": 12,
      "outputs": []
    },
    {
      "cell_type": "code",
      "metadata": {
        "colab": {
          "base_uri": "https://localhost:8080/",
          "height": 741
        },
        "id": "CoaoYSfzoRzq",
        "outputId": "5b145031-46a8-441c-ecd1-0178b58bb996"
      },
      "source": [
        "\r\n",
        "df.drop(['Hemoglobin','Unnamed: 0', 'Unnamed: 0.1',\r\n",
        "         'ID', 'Diagnosis', \r\n",
        "         'COVID-19'], axis=1)"
      ],
      "execution_count": 17,
      "outputs": [
        {
          "output_type": "execute_result",
          "data": {
            "text/html": [
              "<div>\n",
              "<style scoped>\n",
              "    .dataframe tbody tr th:only-of-type {\n",
              "        vertical-align: middle;\n",
              "    }\n",
              "\n",
              "    .dataframe tbody tr th {\n",
              "        vertical-align: top;\n",
              "    }\n",
              "\n",
              "    .dataframe thead th {\n",
              "        text-align: right;\n",
              "    }\n",
              "</style>\n",
              "<table border=\"1\" class=\"dataframe\">\n",
              "  <thead>\n",
              "    <tr style=\"text-align: right;\">\n",
              "      <th></th>\n",
              "      <th>Max_Platlets</th>\n",
              "      <th>Min_Platlets</th>\n",
              "      <th>Max_Leucocytes</th>\n",
              "      <th>Min_Leucocytes</th>\n",
              "      <th>Max_Creatinine</th>\n",
              "      <th>Min_Cratinine</th>\n",
              "      <th>Gender</th>\n",
              "      <th>initial_CRP</th>\n",
              "      <th>Max_CRP</th>\n",
              "      <th>Treatment</th>\n",
              "      <th>Birthday</th>\n",
              "      <th>Admission</th>\n",
              "      <th>Discharge</th>\n",
              "      <th>Pneumonia</th>\n",
              "      <th>Severity</th>\n",
              "      <th>IHD</th>\n",
              "      <th>COPD</th>\n",
              "      <th>Bronchial_asthma</th>\n",
              "      <th>Obesity</th>\n",
              "      <th>Diabetes</th>\n",
              "      <th>RF</th>\n",
              "      <th>ALT</th>\n",
              "      <th>AST</th>\n",
              "      <th>Initial_Procalcitonine</th>\n",
              "      <th>Max_Procalcitonine</th>\n",
              "    </tr>\n",
              "  </thead>\n",
              "  <tbody>\n",
              "    <tr>\n",
              "      <th>0</th>\n",
              "      <td>269.0</td>\n",
              "      <td>269.0</td>\n",
              "      <td>10.02</td>\n",
              "      <td>10.02</td>\n",
              "      <td>107.0</td>\n",
              "      <td>76.0</td>\n",
              "      <td>female</td>\n",
              "      <td>68.90</td>\n",
              "      <td>68.90</td>\n",
              "      <td>цефтриаксон,  дексаметазон, аскорб. к-та, ац...</td>\n",
              "      <td>15:02:1940</td>\n",
              "      <td>23:12:2020</td>\n",
              "      <td>19:01:2021</td>\n",
              "      <td>1</td>\n",
              "      <td>1</td>\n",
              "      <td>0</td>\n",
              "      <td>0</td>\n",
              "      <td>0</td>\n",
              "      <td>0</td>\n",
              "      <td>0</td>\n",
              "      <td>0.0</td>\n",
              "      <td>381.4</td>\n",
              "      <td>61.6</td>\n",
              "      <td>0.10</td>\n",
              "      <td>0.10</td>\n",
              "    </tr>\n",
              "    <tr>\n",
              "      <th>1</th>\n",
              "      <td>282.0</td>\n",
              "      <td>282.0</td>\n",
              "      <td>6.14</td>\n",
              "      <td>6.14</td>\n",
              "      <td>78.0</td>\n",
              "      <td>59.0</td>\n",
              "      <td>female</td>\n",
              "      <td>30.00</td>\n",
              "      <td>36.00</td>\n",
              "      <td>меропенем, озельтамивир, фраксипарин, ранитид...</td>\n",
              "      <td>23:01:1985</td>\n",
              "      <td>26:12:2018</td>\n",
              "      <td>15:02:2019</td>\n",
              "      <td>0</td>\n",
              "      <td>0</td>\n",
              "      <td>0</td>\n",
              "      <td>0</td>\n",
              "      <td>0</td>\n",
              "      <td>0</td>\n",
              "      <td>0</td>\n",
              "      <td>0.0</td>\n",
              "      <td>56.0</td>\n",
              "      <td>96.0</td>\n",
              "      <td>0.05</td>\n",
              "      <td>0.05</td>\n",
              "    </tr>\n",
              "    <tr>\n",
              "      <th>2</th>\n",
              "      <td>440.0</td>\n",
              "      <td>440.0</td>\n",
              "      <td>7.59</td>\n",
              "      <td>7.59</td>\n",
              "      <td>656.0</td>\n",
              "      <td>88.0</td>\n",
              "      <td>female</td>\n",
              "      <td>5.74</td>\n",
              "      <td>61.50</td>\n",
              "      <td>цефтриаксон, омепразол, гепарин,левофлоксацин...</td>\n",
              "      <td>03:08:1955</td>\n",
              "      <td>07:07:2020</td>\n",
              "      <td>24:07:2020</td>\n",
              "      <td>1</td>\n",
              "      <td>0</td>\n",
              "      <td>0</td>\n",
              "      <td>0</td>\n",
              "      <td>0</td>\n",
              "      <td>0</td>\n",
              "      <td>0</td>\n",
              "      <td>1.0</td>\n",
              "      <td>17.0</td>\n",
              "      <td>25.0</td>\n",
              "      <td>0.20</td>\n",
              "      <td>0.20</td>\n",
              "    </tr>\n",
              "    <tr>\n",
              "      <th>3</th>\n",
              "      <td>228.0</td>\n",
              "      <td>228.0</td>\n",
              "      <td>10.65</td>\n",
              "      <td>10.65</td>\n",
              "      <td>59.0</td>\n",
              "      <td>43.0</td>\n",
              "      <td>female</td>\n",
              "      <td>113.50</td>\n",
              "      <td>124.20</td>\n",
              "      <td>гепарин,  аспикард, омепразол, амброксол, дек...</td>\n",
              "      <td>13:12:1949</td>\n",
              "      <td>28:06:2020</td>\n",
              "      <td>21:07:2020</td>\n",
              "      <td>1</td>\n",
              "      <td>0</td>\n",
              "      <td>1</td>\n",
              "      <td>0</td>\n",
              "      <td>0</td>\n",
              "      <td>0</td>\n",
              "      <td>0</td>\n",
              "      <td>0.0</td>\n",
              "      <td>21.0</td>\n",
              "      <td>16.0</td>\n",
              "      <td>0.23</td>\n",
              "      <td>0.23</td>\n",
              "    </tr>\n",
              "    <tr>\n",
              "      <th>4</th>\n",
              "      <td>236.0</td>\n",
              "      <td>236.0</td>\n",
              "      <td>13.88</td>\n",
              "      <td>13.88</td>\n",
              "      <td>107.0</td>\n",
              "      <td>95.0</td>\n",
              "      <td>male</td>\n",
              "      <td>36.10</td>\n",
              "      <td>171.60</td>\n",
              "      <td>ванкомицин, кпс, фуросемид, имепенем, ацетилц...</td>\n",
              "      <td>18:03:1954</td>\n",
              "      <td>21:10:2020</td>\n",
              "      <td>20:11:2020</td>\n",
              "      <td>1</td>\n",
              "      <td>1</td>\n",
              "      <td>1</td>\n",
              "      <td>0</td>\n",
              "      <td>0</td>\n",
              "      <td>0</td>\n",
              "      <td>0</td>\n",
              "      <td>2.0</td>\n",
              "      <td>0.0</td>\n",
              "      <td>0.0</td>\n",
              "      <td>0.07</td>\n",
              "      <td>0.07</td>\n",
              "    </tr>\n",
              "    <tr>\n",
              "      <th>...</th>\n",
              "      <td>...</td>\n",
              "      <td>...</td>\n",
              "      <td>...</td>\n",
              "      <td>...</td>\n",
              "      <td>...</td>\n",
              "      <td>...</td>\n",
              "      <td>...</td>\n",
              "      <td>...</td>\n",
              "      <td>...</td>\n",
              "      <td>...</td>\n",
              "      <td>...</td>\n",
              "      <td>...</td>\n",
              "      <td>...</td>\n",
              "      <td>...</td>\n",
              "      <td>...</td>\n",
              "      <td>...</td>\n",
              "      <td>...</td>\n",
              "      <td>...</td>\n",
              "      <td>...</td>\n",
              "      <td>...</td>\n",
              "      <td>...</td>\n",
              "      <td>...</td>\n",
              "      <td>...</td>\n",
              "      <td>...</td>\n",
              "      <td>...</td>\n",
              "    </tr>\n",
              "    <tr>\n",
              "      <th>68</th>\n",
              "      <td>249.0</td>\n",
              "      <td>249.0</td>\n",
              "      <td>7.19</td>\n",
              "      <td>7.19</td>\n",
              "      <td>93.0</td>\n",
              "      <td>93.0</td>\n",
              "      <td>male</td>\n",
              "      <td>27.20</td>\n",
              "      <td>27.20</td>\n",
              "      <td>левофлоксацин, амброксол, аспикард, омепразол...</td>\n",
              "      <td>20:07:1957</td>\n",
              "      <td>06:01:2021</td>\n",
              "      <td>15:01:2021</td>\n",
              "      <td>1</td>\n",
              "      <td>0</td>\n",
              "      <td>1</td>\n",
              "      <td>0</td>\n",
              "      <td>0</td>\n",
              "      <td>0</td>\n",
              "      <td>0</td>\n",
              "      <td>1.0</td>\n",
              "      <td>53.2</td>\n",
              "      <td>18.7</td>\n",
              "      <td>0.07</td>\n",
              "      <td>0.07</td>\n",
              "    </tr>\n",
              "    <tr>\n",
              "      <th>69</th>\n",
              "      <td>327.0</td>\n",
              "      <td>327.0</td>\n",
              "      <td>16.24</td>\n",
              "      <td>16.24</td>\n",
              "      <td>133.0</td>\n",
              "      <td>93.0</td>\n",
              "      <td>male</td>\n",
              "      <td>27.10</td>\n",
              "      <td>27.10</td>\n",
              "      <td>цефтриаксон, дексаметазон, гепарин, парацетам...</td>\n",
              "      <td>04:11:1979</td>\n",
              "      <td>19:12:2020</td>\n",
              "      <td>06:01:2021</td>\n",
              "      <td>1</td>\n",
              "      <td>1</td>\n",
              "      <td>0</td>\n",
              "      <td>0</td>\n",
              "      <td>0</td>\n",
              "      <td>1</td>\n",
              "      <td>0</td>\n",
              "      <td>2.0</td>\n",
              "      <td>34.6</td>\n",
              "      <td>31.4</td>\n",
              "      <td>0.07</td>\n",
              "      <td>0.07</td>\n",
              "    </tr>\n",
              "    <tr>\n",
              "      <th>70</th>\n",
              "      <td>234.0</td>\n",
              "      <td>234.0</td>\n",
              "      <td>9.90</td>\n",
              "      <td>9.90</td>\n",
              "      <td>151.0</td>\n",
              "      <td>114.0</td>\n",
              "      <td>male</td>\n",
              "      <td>170.00</td>\n",
              "      <td>170.00</td>\n",
              "      <td>имепенем.  левофлоксацин, озельтамивир, тигац...</td>\n",
              "      <td>01:01:1957</td>\n",
              "      <td>01:11:2018</td>\n",
              "      <td>03:12:2018</td>\n",
              "      <td>1</td>\n",
              "      <td>1</td>\n",
              "      <td>1</td>\n",
              "      <td>1</td>\n",
              "      <td>0</td>\n",
              "      <td>0</td>\n",
              "      <td>0</td>\n",
              "      <td>2.0</td>\n",
              "      <td>150.0</td>\n",
              "      <td>147.0</td>\n",
              "      <td>0.37</td>\n",
              "      <td>0.37</td>\n",
              "    </tr>\n",
              "    <tr>\n",
              "      <th>71</th>\n",
              "      <td>233.0</td>\n",
              "      <td>233.0</td>\n",
              "      <td>3.25</td>\n",
              "      <td>3.25</td>\n",
              "      <td>84.0</td>\n",
              "      <td>84.0</td>\n",
              "      <td>male</td>\n",
              "      <td>6.00</td>\n",
              "      <td>12.00</td>\n",
              "      <td>цефоперазон/сульбактам/сульбактам, левофлокса...</td>\n",
              "      <td>06:03:1966</td>\n",
              "      <td>09:10:2018</td>\n",
              "      <td>02:11:2018</td>\n",
              "      <td>1</td>\n",
              "      <td>1</td>\n",
              "      <td>0</td>\n",
              "      <td>0</td>\n",
              "      <td>0</td>\n",
              "      <td>0</td>\n",
              "      <td>0</td>\n",
              "      <td>1.0</td>\n",
              "      <td>109.0</td>\n",
              "      <td>77.0</td>\n",
              "      <td>0.14</td>\n",
              "      <td>0.14</td>\n",
              "    </tr>\n",
              "    <tr>\n",
              "      <th>72</th>\n",
              "      <td>180.0</td>\n",
              "      <td>180.0</td>\n",
              "      <td>4.66</td>\n",
              "      <td>4.66</td>\n",
              "      <td>96.0</td>\n",
              "      <td>73.0</td>\n",
              "      <td>female</td>\n",
              "      <td>2.62</td>\n",
              "      <td>2.62</td>\n",
              "      <td>цефтриаксон, дексаметазон, гидроксихлорохин,...</td>\n",
              "      <td>10:01:1952</td>\n",
              "      <td>20:12:2020</td>\n",
              "      <td>29:12:2020</td>\n",
              "      <td>1</td>\n",
              "      <td>1</td>\n",
              "      <td>1</td>\n",
              "      <td>0</td>\n",
              "      <td>0</td>\n",
              "      <td>0</td>\n",
              "      <td>0</td>\n",
              "      <td>0.0</td>\n",
              "      <td>83.8</td>\n",
              "      <td>31.7</td>\n",
              "      <td>0.07</td>\n",
              "      <td>0.07</td>\n",
              "    </tr>\n",
              "  </tbody>\n",
              "</table>\n",
              "<p>73 rows × 25 columns</p>\n",
              "</div>"
            ],
            "text/plain": [
              "    Max_Platlets  Min_Platlets  ...  Initial_Procalcitonine  Max_Procalcitonine\n",
              "0          269.0         269.0  ...                    0.10                0.10\n",
              "1          282.0         282.0  ...                    0.05                0.05\n",
              "2          440.0         440.0  ...                    0.20                0.20\n",
              "3          228.0         228.0  ...                    0.23                0.23\n",
              "4          236.0         236.0  ...                    0.07                0.07\n",
              "..           ...           ...  ...                     ...                 ...\n",
              "68         249.0         249.0  ...                    0.07                0.07\n",
              "69         327.0         327.0  ...                    0.07                0.07\n",
              "70         234.0         234.0  ...                    0.37                0.37\n",
              "71         233.0         233.0  ...                    0.14                0.14\n",
              "72         180.0         180.0  ...                    0.07                0.07\n",
              "\n",
              "[73 rows x 25 columns]"
            ]
          },
          "metadata": {
            "tags": []
          },
          "execution_count": 17
        }
      ]
    },
    {
      "cell_type": "code",
      "metadata": {
        "colab": {
          "base_uri": "https://localhost:8080/",
          "height": 282
        },
        "id": "GWwGLz0koUYi",
        "outputId": "a390d553-3f61-44ab-9b92-95a52ba2f4c9"
      },
      "source": [
        "df['Initial_Procalcitonine'].hist()\r\n"
      ],
      "execution_count": null,
      "outputs": [
        {
          "output_type": "execute_result",
          "data": {
            "text/plain": [
              "<matplotlib.axes._subplots.AxesSubplot at 0x7fb8e01a9390>"
            ]
          },
          "metadata": {
            "tags": []
          },
          "execution_count": 7
        },
        {
          "output_type": "display_data",
          "data": {
            "image/png": "[encoded data removed]",
            "text/plain": [
              "<Figure size 432x288 with 1 Axes>"
            ]
          },
          "metadata": {
            "tags": [],
            "needs_background": "light"
          }
        }
      ]
    },
    {
      "cell_type": "code",
      "metadata": {
        "colab": {
          "base_uri": "https://localhost:8080/",
          "height": 282
        },
        "id": "X-JoZ3rIohES",
        "outputId": "d6d20951-19ea-4e32-e7a5-9e7e05e259a5"
      },
      "source": [
        "df['Max_Procalcitonine'].hist()"
      ],
      "execution_count": null,
      "outputs": [
        {
          "output_type": "execute_result",
          "data": {
            "text/plain": [
              "<matplotlib.axes._subplots.AxesSubplot at 0x7fb8dfd0afd0>"
            ]
          },
          "metadata": {
            "tags": []
          },
          "execution_count": 8
        },
        {
          "output_type": "display_data",
          "data": {
            "image/png": "[encoded data removed]",
            "text/plain": [
              "<Figure size 432x288 with 1 Axes>"
            ]
          },
          "metadata": {
            "tags": [],
            "needs_background": "light"
          }
        }
      ]
    },
    {
      "cell_type": "code",
      "metadata": {
        "id": "qrrtordmoljR",
        "colab": {
          "base_uri": "https://localhost:8080/",
          "height": 702
        },
        "outputId": "398c410b-5dbd-4e06-852e-aa52cf661fa4"
      },
      "source": [
        "from sdv.tabular import GaussianCopula\r\n",
        "model = GaussianCopula()\r\n",
        "model.fit(df)\r\n",
        "new_data_1 = model.sample(400)\r\n",
        "new_data_1.head()"
      ],
      "execution_count": 18,
      "outputs": [
        {
          "output_type": "stream",
          "text": [
            "/usr/local/lib/python3.6/dist-packages/scipy/stats/_continuous_distns.py:547: RuntimeWarning: invalid value encountered in sqrt\n",
            "  sk = 2*(b-a)*np.sqrt(a + b + 1) / (a + b + 2) / np.sqrt(a*b)\n",
            "/usr/local/lib/python3.6/dist-packages/scipy/optimize/minpack.py:162: RuntimeWarning: The iteration is not making good progress, as measured by the \n",
            "  improvement from the last ten iterations.\n",
            "  warnings.warn(msg, RuntimeWarning)\n",
            "/usr/local/lib/python3.6/dist-packages/scipy/stats/_continuous_distns.py:4798: RuntimeWarning: divide by zero encountered in true_divide\n",
            "  return c**2 / (c**2 - n**2)\n",
            "/usr/local/lib/python3.6/dist-packages/scipy/stats/_distn_infrastructure.py:2407: RuntimeWarning: invalid value encountered in double_scalars\n",
            "  Lhat = muhat - Shat*mu\n",
            "/usr/local/lib/python3.6/dist-packages/scipy/optimize/minpack.py:162: RuntimeWarning: The iteration is not making good progress, as measured by the \n",
            "  improvement from the last five Jacobian evaluations.\n",
            "  warnings.warn(msg, RuntimeWarning)\n",
            "/usr/local/lib/python3.6/dist-packages/scipy/optimize/minpack.py:162: RuntimeWarning: The number of calls to function has reached maxfev = 600.\n",
            "  warnings.warn(msg, RuntimeWarning)\n",
            "/usr/local/lib/python3.6/dist-packages/scipy/stats/_continuous_distns.py:4789: RuntimeWarning: divide by zero encountered in power\n",
            "  return cd2*x**(c-1)\n"
          ],
          "name": "stderr"
        },
        {
          "output_type": "execute_result",
          "data": {
            "text/html": [
              "<div>\n",
              "<style scoped>\n",
              "    .dataframe tbody tr th:only-of-type {\n",
              "        vertical-align: middle;\n",
              "    }\n",
              "\n",
              "    .dataframe tbody tr th {\n",
              "        vertical-align: top;\n",
              "    }\n",
              "\n",
              "    .dataframe thead th {\n",
              "        text-align: right;\n",
              "    }\n",
              "</style>\n",
              "<table border=\"1\" class=\"dataframe\">\n",
              "  <thead>\n",
              "    <tr style=\"text-align: right;\">\n",
              "      <th></th>\n",
              "      <th>Unnamed: 0</th>\n",
              "      <th>Unnamed: 0.1</th>\n",
              "      <th>ID</th>\n",
              "      <th>Max_Platlets</th>\n",
              "      <th>Min_Platlets</th>\n",
              "      <th>Max_Leucocytes</th>\n",
              "      <th>Min_Leucocytes</th>\n",
              "      <th>Hemoglobin</th>\n",
              "      <th>Max_Creatinine</th>\n",
              "      <th>Min_Cratinine</th>\n",
              "      <th>Gender</th>\n",
              "      <th>initial_CRP</th>\n",
              "      <th>Max_CRP</th>\n",
              "      <th>Treatment</th>\n",
              "      <th>Birthday</th>\n",
              "      <th>Admission</th>\n",
              "      <th>Discharge</th>\n",
              "      <th>Diagnosis</th>\n",
              "      <th>COVID-19</th>\n",
              "      <th>Pneumonia</th>\n",
              "      <th>Severity</th>\n",
              "      <th>IHD</th>\n",
              "      <th>COPD</th>\n",
              "      <th>Bronchial_asthma</th>\n",
              "      <th>Obesity</th>\n",
              "      <th>Diabetes</th>\n",
              "      <th>RF</th>\n",
              "      <th>ALT</th>\n",
              "      <th>AST</th>\n",
              "      <th>Initial_Procalcitonine</th>\n",
              "      <th>Max_Procalcitonine</th>\n",
              "    </tr>\n",
              "  </thead>\n",
              "  <tbody>\n",
              "    <tr>\n",
              "      <th>0</th>\n",
              "      <td>318</td>\n",
              "      <td>318</td>\n",
              "      <td>4524.257356</td>\n",
              "      <td>348.358674</td>\n",
              "      <td>348.332323</td>\n",
              "      <td>8.095622</td>\n",
              "      <td>8.093874</td>\n",
              "      <td>[138. 150.]</td>\n",
              "      <td>114.261310</td>\n",
              "      <td>147.722695</td>\n",
              "      <td>male</td>\n",
              "      <td>0.221229</td>\n",
              "      <td>15.485036</td>\n",
              "      <td>цефтриаксон, фрагмин, фраксипарин, дексаметазо...</td>\n",
              "      <td>19:02:1971</td>\n",
              "      <td>24:12:2020</td>\n",
              "      <td>01:02:2021</td>\n",
              "      <td>в 34 инфекция вызванная covid 19 мазок пцр на ...</td>\n",
              "      <td>1</td>\n",
              "      <td>1</td>\n",
              "      <td>0</td>\n",
              "      <td>1</td>\n",
              "      <td>0</td>\n",
              "      <td>0</td>\n",
              "      <td>0</td>\n",
              "      <td>0</td>\n",
              "      <td>0.715693</td>\n",
              "      <td>83.551113</td>\n",
              "      <td>39.360674</td>\n",
              "      <td>0.054286</td>\n",
              "      <td>0.052739</td>\n",
              "    </tr>\n",
              "    <tr>\n",
              "      <th>1</th>\n",
              "      <td>298</td>\n",
              "      <td>298</td>\n",
              "      <td>6503.763890</td>\n",
              "      <td>400.340408</td>\n",
              "      <td>400.329005</td>\n",
              "      <td>17.305976</td>\n",
              "      <td>17.298519</td>\n",
              "      <td>[144. 128. 126. 123. 125. 134. 152. 168. 160.]</td>\n",
              "      <td>97.778914</td>\n",
              "      <td>73.240141</td>\n",
              "      <td>male</td>\n",
              "      <td>5.665226</td>\n",
              "      <td>78.352789</td>\n",
              "      <td>цефтриаксон.левофлоксацин.гепарин.фолиевая ки...</td>\n",
              "      <td>16:02:1985</td>\n",
              "      <td>10:07:2020</td>\n",
              "      <td>24:12:2020</td>\n",
              "      <td>в342 инфекция вызванная covid19 кт 100720экспр...</td>\n",
              "      <td>1</td>\n",
              "      <td>1</td>\n",
              "      <td>0</td>\n",
              "      <td>1</td>\n",
              "      <td>0</td>\n",
              "      <td>0</td>\n",
              "      <td>0</td>\n",
              "      <td>0</td>\n",
              "      <td>0.738918</td>\n",
              "      <td>92.477036</td>\n",
              "      <td>20.619833</td>\n",
              "      <td>0.070746</td>\n",
              "      <td>0.072630</td>\n",
              "    </tr>\n",
              "    <tr>\n",
              "      <th>2</th>\n",
              "      <td>294</td>\n",
              "      <td>294</td>\n",
              "      <td>2701.889942</td>\n",
              "      <td>407.026441</td>\n",
              "      <td>406.851968</td>\n",
              "      <td>10.114930</td>\n",
              "      <td>10.115359</td>\n",
              "      <td>[133. 134. 129. 125. 135.]</td>\n",
              "      <td>103.579878</td>\n",
              "      <td>66.169773</td>\n",
              "      <td>female</td>\n",
              "      <td>125.763861</td>\n",
              "      <td>72.191066</td>\n",
              "      <td>цефтриаксон,  дексаметазон, аскорб. к-та, ац...</td>\n",
              "      <td>15:02:1940</td>\n",
              "      <td>25:12:2020</td>\n",
              "      <td>22:01:2021</td>\n",
              "      <td>в 342 тяжёлая коронавирусная инфекция реконвал...</td>\n",
              "      <td>1</td>\n",
              "      <td>1</td>\n",
              "      <td>1</td>\n",
              "      <td>0</td>\n",
              "      <td>0</td>\n",
              "      <td>0</td>\n",
              "      <td>0</td>\n",
              "      <td>0</td>\n",
              "      <td>1.461929</td>\n",
              "      <td>22.189746</td>\n",
              "      <td>21.345913</td>\n",
              "      <td>0.106993</td>\n",
              "      <td>0.109661</td>\n",
              "    </tr>\n",
              "    <tr>\n",
              "      <th>3</th>\n",
              "      <td>299</td>\n",
              "      <td>299</td>\n",
              "      <td>2829.982474</td>\n",
              "      <td>257.691811</td>\n",
              "      <td>257.597682</td>\n",
              "      <td>14.653290</td>\n",
              "      <td>14.650459</td>\n",
              "      <td>[144. 149. 162.]</td>\n",
              "      <td>69.984156</td>\n",
              "      <td>45.987432</td>\n",
              "      <td>male</td>\n",
              "      <td>73.234240</td>\n",
              "      <td>137.080146</td>\n",
              "      <td>None</td>\n",
              "      <td>06:07:1970</td>\n",
              "      <td>11:12:2020</td>\n",
              "      <td>23:12:2020</td>\n",
              "      <td>в 34 инфекция вызванная сovid19 пцр от 1112202...</td>\n",
              "      <td>1</td>\n",
              "      <td>1</td>\n",
              "      <td>2</td>\n",
              "      <td>0</td>\n",
              "      <td>0</td>\n",
              "      <td>0</td>\n",
              "      <td>0</td>\n",
              "      <td>0</td>\n",
              "      <td>1.475143</td>\n",
              "      <td>93.048580</td>\n",
              "      <td>47.408772</td>\n",
              "      <td>0.144759</td>\n",
              "      <td>0.214738</td>\n",
              "    </tr>\n",
              "    <tr>\n",
              "      <th>4</th>\n",
              "      <td>303</td>\n",
              "      <td>303</td>\n",
              "      <td>6798.565222</td>\n",
              "      <td>242.046519</td>\n",
              "      <td>241.994486</td>\n",
              "      <td>9.836508</td>\n",
              "      <td>9.833937</td>\n",
              "      <td>[143. 140. 140. 119.  58. 101.]</td>\n",
              "      <td>58.275253</td>\n",
              "      <td>50.022998</td>\n",
              "      <td>male</td>\n",
              "      <td>7.248751</td>\n",
              "      <td>33.742667</td>\n",
              "      <td>тайгециклин( по 50 мг 2 р\\сут с 30.10.20 по 0...</td>\n",
              "      <td>06:08:1973</td>\n",
              "      <td>30:09:2020</td>\n",
              "      <td>09:11:2020</td>\n",
              "      <td>лимфопролиферативное заболевание инфекция вызв...</td>\n",
              "      <td>0</td>\n",
              "      <td>1</td>\n",
              "      <td>0</td>\n",
              "      <td>1</td>\n",
              "      <td>0</td>\n",
              "      <td>0</td>\n",
              "      <td>0</td>\n",
              "      <td>0</td>\n",
              "      <td>1.791642</td>\n",
              "      <td>18.665207</td>\n",
              "      <td>51.058533</td>\n",
              "      <td>0.050234</td>\n",
              "      <td>0.060570</td>\n",
              "    </tr>\n",
              "  </tbody>\n",
              "</table>\n",
              "</div>"
            ],
            "text/plain": [
              "   Unnamed: 0  Unnamed: 0.1  ...  Initial_Procalcitonine  Max_Procalcitonine\n",
              "0         318           318  ...                0.054286            0.052739\n",
              "1         298           298  ...                0.070746            0.072630\n",
              "2         294           294  ...                0.106993            0.109661\n",
              "3         299           299  ...                0.144759            0.214738\n",
              "4         303           303  ...                0.050234            0.060570\n",
              "\n",
              "[5 rows x 31 columns]"
            ]
          },
          "metadata": {
            "tags": []
          },
          "execution_count": 18
        }
      ]
    },
    {
      "cell_type": "code",
      "metadata": {
        "id": "hLvtJtWWpGLC"
      },
      "source": [
        "# переводим наши даты в формат пандас\r\n",
        "for i in ['Birthday', 'Admission', 'Discharge']:\r\n",
        "  df[i] = pd.to_datetime(df[i], format = \"%d:%m:%Y\")\r\n",
        "# длительность госпитализации = выписка - поступление\r\n",
        "df[\"duration\"] = (df['Discharge'] - df['Admission']).dt.days\r\n",
        "\r\n",
        "# возраст пациента рассчитаем: день рождения - поступление = дни и целочисленно делим на 356\r\n",
        "df[\"Age\"] = ((df['Admission'] - df['Birthday']).dt.days) // 356\r\n",
        "data = df.drop(['Birthday', 'Admission', 'Discharge'], axis=1)"
      ],
      "execution_count": 19,
      "outputs": []
    },
    {
      "cell_type": "code",
      "metadata": {
        "colab": {
          "base_uri": "https://localhost:8080/",
          "height": 753
        },
        "id": "TU6nTpCOpg5I",
        "outputId": "ac6df5c5-3d57-4089-ea6b-ccd07888c72e"
      },
      "source": [
        "from sdv.tabular import GaussianCopula\r\n",
        "model_ = GaussianCopula()\r\n",
        "model_.fit(data)\r\n",
        "new_data_1_ = model.sample(400)\r\n",
        "new_data_1_.head()"
      ],
      "execution_count": 20,
      "outputs": [
        {
          "output_type": "stream",
          "text": [
            "/usr/local/lib/python3.6/dist-packages/scipy/stats/_continuous_distns.py:547: RuntimeWarning: invalid value encountered in sqrt\n",
            "  sk = 2*(b-a)*np.sqrt(a + b + 1) / (a + b + 2) / np.sqrt(a*b)\n",
            "/usr/local/lib/python3.6/dist-packages/scipy/optimize/minpack.py:162: RuntimeWarning: The iteration is not making good progress, as measured by the \n",
            "  improvement from the last ten iterations.\n",
            "  warnings.warn(msg, RuntimeWarning)\n",
            "/usr/local/lib/python3.6/dist-packages/scipy/stats/_continuous_distns.py:4798: RuntimeWarning: divide by zero encountered in true_divide\n",
            "  return c**2 / (c**2 - n**2)\n",
            "/usr/local/lib/python3.6/dist-packages/scipy/stats/_distn_infrastructure.py:2407: RuntimeWarning: invalid value encountered in double_scalars\n",
            "  Lhat = muhat - Shat*mu\n",
            "/usr/local/lib/python3.6/dist-packages/scipy/optimize/minpack.py:162: RuntimeWarning: The iteration is not making good progress, as measured by the \n",
            "  improvement from the last five Jacobian evaluations.\n",
            "  warnings.warn(msg, RuntimeWarning)\n",
            "/usr/local/lib/python3.6/dist-packages/scipy/optimize/minpack.py:162: RuntimeWarning: The number of calls to function has reached maxfev = 600.\n",
            "  warnings.warn(msg, RuntimeWarning)\n",
            "/usr/local/lib/python3.6/dist-packages/scipy/stats/_continuous_distns.py:4789: RuntimeWarning: divide by zero encountered in power\n",
            "  return cd2*x**(c-1)\n"
          ],
          "name": "stderr"
        },
        {
          "output_type": "execute_result",
          "data": {
            "text/html": [
              "<div>\n",
              "<style scoped>\n",
              "    .dataframe tbody tr th:only-of-type {\n",
              "        vertical-align: middle;\n",
              "    }\n",
              "\n",
              "    .dataframe tbody tr th {\n",
              "        vertical-align: top;\n",
              "    }\n",
              "\n",
              "    .dataframe thead th {\n",
              "        text-align: right;\n",
              "    }\n",
              "</style>\n",
              "<table border=\"1\" class=\"dataframe\">\n",
              "  <thead>\n",
              "    <tr style=\"text-align: right;\">\n",
              "      <th></th>\n",
              "      <th>Unnamed: 0</th>\n",
              "      <th>Unnamed: 0.1</th>\n",
              "      <th>ID</th>\n",
              "      <th>Max_Platlets</th>\n",
              "      <th>Min_Platlets</th>\n",
              "      <th>Max_Leucocytes</th>\n",
              "      <th>Min_Leucocytes</th>\n",
              "      <th>Hemoglobin</th>\n",
              "      <th>Max_Creatinine</th>\n",
              "      <th>Min_Cratinine</th>\n",
              "      <th>Gender</th>\n",
              "      <th>initial_CRP</th>\n",
              "      <th>Max_CRP</th>\n",
              "      <th>Treatment</th>\n",
              "      <th>Birthday</th>\n",
              "      <th>Admission</th>\n",
              "      <th>Discharge</th>\n",
              "      <th>Diagnosis</th>\n",
              "      <th>COVID-19</th>\n",
              "      <th>Pneumonia</th>\n",
              "      <th>Severity</th>\n",
              "      <th>IHD</th>\n",
              "      <th>COPD</th>\n",
              "      <th>Bronchial_asthma</th>\n",
              "      <th>Obesity</th>\n",
              "      <th>Diabetes</th>\n",
              "      <th>RF</th>\n",
              "      <th>ALT</th>\n",
              "      <th>AST</th>\n",
              "      <th>Initial_Procalcitonine</th>\n",
              "      <th>Max_Procalcitonine</th>\n",
              "    </tr>\n",
              "  </thead>\n",
              "  <tbody>\n",
              "    <tr>\n",
              "      <th>0</th>\n",
              "      <td>305</td>\n",
              "      <td>305</td>\n",
              "      <td>8519.755799</td>\n",
              "      <td>451.629501</td>\n",
              "      <td>451.646182</td>\n",
              "      <td>11.625356</td>\n",
              "      <td>11.629526</td>\n",
              "      <td>[164. 164. 164.]</td>\n",
              "      <td>114.370263</td>\n",
              "      <td>136.409924</td>\n",
              "      <td>male</td>\n",
              "      <td>1.280283</td>\n",
              "      <td>13.917055</td>\n",
              "      <td>дексаметазон, кпс, аспикард, лозартон аторвас...</td>\n",
              "      <td>22:06:1955</td>\n",
              "      <td>13:11:2020</td>\n",
              "      <td>23:07:2020</td>\n",
              "      <td>инфекция ср ст тяжэт 231220 м пол джи отрвнего...</td>\n",
              "      <td>0</td>\n",
              "      <td>1</td>\n",
              "      <td>0</td>\n",
              "      <td>1</td>\n",
              "      <td>0</td>\n",
              "      <td>0</td>\n",
              "      <td>0</td>\n",
              "      <td>0</td>\n",
              "      <td>0.849875</td>\n",
              "      <td>102.317346</td>\n",
              "      <td>58.432519</td>\n",
              "      <td>0.351636</td>\n",
              "      <td>0.342467</td>\n",
              "    </tr>\n",
              "    <tr>\n",
              "      <th>1</th>\n",
              "      <td>213</td>\n",
              "      <td>213</td>\n",
              "      <td>3622.215468</td>\n",
              "      <td>-30.119440</td>\n",
              "      <td>-30.109946</td>\n",
              "      <td>8.045245</td>\n",
              "      <td>8.046350</td>\n",
              "      <td>[133. 134. 129. 125. 135.]</td>\n",
              "      <td>107.646465</td>\n",
              "      <td>67.277971</td>\n",
              "      <td>male</td>\n",
              "      <td>190.090552</td>\n",
              "      <td>210.626175</td>\n",
              "      <td>None</td>\n",
              "      <td>15:02:1940</td>\n",
              "      <td>17:12:2020</td>\n",
              "      <td>01:02:2021</td>\n",
              "      <td>в 342 тяжёлая коронавирусная инфекция реконвал...</td>\n",
              "      <td>1</td>\n",
              "      <td>1</td>\n",
              "      <td>1</td>\n",
              "      <td>0</td>\n",
              "      <td>0</td>\n",
              "      <td>0</td>\n",
              "      <td>0</td>\n",
              "      <td>0</td>\n",
              "      <td>1.016863</td>\n",
              "      <td>225.779953</td>\n",
              "      <td>87.575656</td>\n",
              "      <td>0.051798</td>\n",
              "      <td>0.051837</td>\n",
              "    </tr>\n",
              "    <tr>\n",
              "      <th>2</th>\n",
              "      <td>313</td>\n",
              "      <td>313</td>\n",
              "      <td>4108.305344</td>\n",
              "      <td>68.853604</td>\n",
              "      <td>68.925117</td>\n",
              "      <td>7.311479</td>\n",
              "      <td>7.305042</td>\n",
              "      <td>[145.]</td>\n",
              "      <td>106.341133</td>\n",
              "      <td>62.310109</td>\n",
              "      <td>female</td>\n",
              "      <td>78.447109</td>\n",
              "      <td>132.774568</td>\n",
              "      <td>цефтриаксон, дексаметазон, гидроксихлорохин,...</td>\n",
              "      <td>10:01:1952</td>\n",
              "      <td>20:12:2020</td>\n",
              "      <td>29:12:2020</td>\n",
              "      <td>в 342 тяжёлая коронавирусная инфекцияэт на ат ...</td>\n",
              "      <td>1</td>\n",
              "      <td>1</td>\n",
              "      <td>1</td>\n",
              "      <td>1</td>\n",
              "      <td>0</td>\n",
              "      <td>0</td>\n",
              "      <td>0</td>\n",
              "      <td>0</td>\n",
              "      <td>0.257570</td>\n",
              "      <td>95.480911</td>\n",
              "      <td>48.525126</td>\n",
              "      <td>0.054781</td>\n",
              "      <td>0.052865</td>\n",
              "    </tr>\n",
              "    <tr>\n",
              "      <th>3</th>\n",
              "      <td>273</td>\n",
              "      <td>273</td>\n",
              "      <td>5785.791005</td>\n",
              "      <td>220.689792</td>\n",
              "      <td>220.657121</td>\n",
              "      <td>7.101137</td>\n",
              "      <td>7.101667</td>\n",
              "      <td>[117. 122. 115. 116. 121.]</td>\n",
              "      <td>123.214871</td>\n",
              "      <td>101.391750</td>\n",
              "      <td>female</td>\n",
              "      <td>8.878393</td>\n",
              "      <td>46.133046</td>\n",
              "      <td>цефтриаксон, левофлоксацин, дексаметазон, гепа...</td>\n",
              "      <td>12:07:1981</td>\n",
              "      <td>17:12:2020</td>\n",
              "      <td>31:12:2020</td>\n",
              "      <td>в 34 инфекция вызванная covid 19 пцр положит о...</td>\n",
              "      <td>1</td>\n",
              "      <td>1</td>\n",
              "      <td>0</td>\n",
              "      <td>0</td>\n",
              "      <td>0</td>\n",
              "      <td>0</td>\n",
              "      <td>0</td>\n",
              "      <td>0</td>\n",
              "      <td>1.863413</td>\n",
              "      <td>141.409456</td>\n",
              "      <td>141.105463</td>\n",
              "      <td>0.053384</td>\n",
              "      <td>0.050479</td>\n",
              "    </tr>\n",
              "    <tr>\n",
              "      <th>4</th>\n",
              "      <td>302</td>\n",
              "      <td>302</td>\n",
              "      <td>1757.841858</td>\n",
              "      <td>464.747100</td>\n",
              "      <td>464.725307</td>\n",
              "      <td>10.876287</td>\n",
              "      <td>10.872180</td>\n",
              "      <td>[103. 144. 146.]</td>\n",
              "      <td>88.820492</td>\n",
              "      <td>65.477755</td>\n",
              "      <td>female</td>\n",
              "      <td>104.328120</td>\n",
              "      <td>159.138097</td>\n",
              "      <td>левофлоксацин, амброксол, аспикард, омепразол...</td>\n",
              "      <td>20:07:1957</td>\n",
              "      <td>06:01:2021</td>\n",
              "      <td>15:01:2021</td>\n",
              "      <td>b342 среднетяжёлая короновирусная sarscov2 ig ...</td>\n",
              "      <td>1</td>\n",
              "      <td>1</td>\n",
              "      <td>1</td>\n",
              "      <td>1</td>\n",
              "      <td>0</td>\n",
              "      <td>0</td>\n",
              "      <td>0</td>\n",
              "      <td>0</td>\n",
              "      <td>1.596056</td>\n",
              "      <td>138.405256</td>\n",
              "      <td>48.728331</td>\n",
              "      <td>0.051602</td>\n",
              "      <td>0.050981</td>\n",
              "    </tr>\n",
              "  </tbody>\n",
              "</table>\n",
              "</div>"
            ],
            "text/plain": [
              "   Unnamed: 0  Unnamed: 0.1  ...  Initial_Procalcitonine  Max_Procalcitonine\n",
              "0         305           305  ...                0.351636            0.342467\n",
              "1         213           213  ...                0.051798            0.051837\n",
              "2         313           313  ...                0.054781            0.052865\n",
              "3         273           273  ...                0.053384            0.050479\n",
              "4         302           302  ...                0.051602            0.050981\n",
              "\n",
              "[5 rows x 31 columns]"
            ]
          },
          "metadata": {
            "tags": []
          },
          "execution_count": 20
        }
      ]
    },
    {
      "cell_type": "code",
      "metadata": {
        "colab": {
          "base_uri": "https://localhost:8080/"
        },
        "id": "nF_u4Pe_swfj",
        "outputId": "b0543124-52cd-49a6-d058-c1308c9749e5"
      },
      "source": [
        "from sdv.tabular import CTGAN\r\n",
        "\r\n",
        "model2 = CTGAN()\r\n",
        "model2.fit(df)"
      ],
      "execution_count": 21,
      "outputs": [
        {
          "output_type": "stream",
          "text": [
            "/usr/local/lib/python3.6/dist-packages/sklearn/mixture/_base.py:147: ConvergenceWarning: Number of distinct clusters (2) found smaller than n_clusters (10). Possibly due to duplicate points in X.\n",
            "  random_state=random_state).fit(X).labels_\n",
            "/usr/local/lib/python3.6/dist-packages/sklearn/mixture/_base.py:147: ConvergenceWarning: Number of distinct clusters (2) found smaller than n_clusters (10). Possibly due to duplicate points in X.\n",
            "  random_state=random_state).fit(X).labels_\n",
            "/usr/local/lib/python3.6/dist-packages/sklearn/mixture/_base.py:147: ConvergenceWarning: Number of distinct clusters (2) found smaller than n_clusters (10). Possibly due to duplicate points in X.\n",
            "  random_state=random_state).fit(X).labels_\n",
            "/usr/local/lib/python3.6/dist-packages/sklearn/mixture/_base.py:147: ConvergenceWarning: Number of distinct clusters (2) found smaller than n_clusters (10). Possibly due to duplicate points in X.\n",
            "  random_state=random_state).fit(X).labels_\n",
            "/usr/local/lib/python3.6/dist-packages/sklearn/mixture/_base.py:147: ConvergenceWarning: Number of distinct clusters (2) found smaller than n_clusters (10). Possibly due to duplicate points in X.\n",
            "  random_state=random_state).fit(X).labels_\n",
            "/usr/local/lib/python3.6/dist-packages/sklearn/mixture/_base.py:147: ConvergenceWarning: Number of distinct clusters (2) found smaller than n_clusters (10). Possibly due to duplicate points in X.\n",
            "  random_state=random_state).fit(X).labels_\n",
            "/usr/local/lib/python3.6/dist-packages/sklearn/mixture/_base.py:147: ConvergenceWarning: Number of distinct clusters (2) found smaller than n_clusters (10). Possibly due to duplicate points in X.\n",
            "  random_state=random_state).fit(X).labels_\n",
            "/usr/local/lib/python3.6/dist-packages/sklearn/mixture/_base.py:147: ConvergenceWarning: Number of distinct clusters (2) found smaller than n_clusters (10). Possibly due to duplicate points in X.\n",
            "  random_state=random_state).fit(X).labels_\n",
            "/usr/local/lib/python3.6/dist-packages/sklearn/mixture/_base.py:147: ConvergenceWarning: Number of distinct clusters (4) found smaller than n_clusters (10). Possibly due to duplicate points in X.\n",
            "  random_state=random_state).fit(X).labels_\n",
            "/usr/local/lib/python3.6/dist-packages/sklearn/mixture/_base.py:267: ConvergenceWarning: Initialization 1 did not converge. Try different init parameters, or increase max_iter, tol or check for degenerate data.\n",
            "  % (init + 1), ConvergenceWarning)\n"
          ],
          "name": "stderr"
        }
      ]
    },
    {
      "cell_type": "code",
      "metadata": {
        "id": "Noda6o1ftEHZ"
      },
      "source": [
        "new_data_2 = model2.sample(400)"
      ],
      "execution_count": 23,
      "outputs": []
    },
    {
      "cell_type": "code",
      "metadata": {
        "id": "uyQJ5EiUtI2B",
        "colab": {
          "base_uri": "https://localhost:8080/"
        },
        "outputId": "feeebc7f-8fae-45ff-fab8-a3cbabaa3cf6"
      },
      "source": [
        "model2_ = CTGAN()\r\n",
        "model2_.fit(data)"
      ],
      "execution_count": 22,
      "outputs": [
        {
          "output_type": "stream",
          "text": [
            "/usr/local/lib/python3.6/dist-packages/sklearn/mixture/_base.py:147: ConvergenceWarning: Number of distinct clusters (2) found smaller than n_clusters (10). Possibly due to duplicate points in X.\n",
            "  random_state=random_state).fit(X).labels_\n",
            "/usr/local/lib/python3.6/dist-packages/sklearn/mixture/_base.py:147: ConvergenceWarning: Number of distinct clusters (2) found smaller than n_clusters (10). Possibly due to duplicate points in X.\n",
            "  random_state=random_state).fit(X).labels_\n",
            "/usr/local/lib/python3.6/dist-packages/sklearn/mixture/_base.py:147: ConvergenceWarning: Number of distinct clusters (2) found smaller than n_clusters (10). Possibly due to duplicate points in X.\n",
            "  random_state=random_state).fit(X).labels_\n",
            "/usr/local/lib/python3.6/dist-packages/sklearn/mixture/_base.py:147: ConvergenceWarning: Number of distinct clusters (2) found smaller than n_clusters (10). Possibly due to duplicate points in X.\n",
            "  random_state=random_state).fit(X).labels_\n",
            "/usr/local/lib/python3.6/dist-packages/sklearn/mixture/_base.py:147: ConvergenceWarning: Number of distinct clusters (2) found smaller than n_clusters (10). Possibly due to duplicate points in X.\n",
            "  random_state=random_state).fit(X).labels_\n",
            "/usr/local/lib/python3.6/dist-packages/sklearn/mixture/_base.py:147: ConvergenceWarning: Number of distinct clusters (2) found smaller than n_clusters (10). Possibly due to duplicate points in X.\n",
            "  random_state=random_state).fit(X).labels_\n",
            "/usr/local/lib/python3.6/dist-packages/sklearn/mixture/_base.py:147: ConvergenceWarning: Number of distinct clusters (2) found smaller than n_clusters (10). Possibly due to duplicate points in X.\n",
            "  random_state=random_state).fit(X).labels_\n",
            "/usr/local/lib/python3.6/dist-packages/sklearn/mixture/_base.py:147: ConvergenceWarning: Number of distinct clusters (2) found smaller than n_clusters (10). Possibly due to duplicate points in X.\n",
            "  random_state=random_state).fit(X).labels_\n",
            "/usr/local/lib/python3.6/dist-packages/sklearn/mixture/_base.py:147: ConvergenceWarning: Number of distinct clusters (4) found smaller than n_clusters (10). Possibly due to duplicate points in X.\n",
            "  random_state=random_state).fit(X).labels_\n"
          ],
          "name": "stderr"
        }
      ]
    },
    {
      "cell_type": "code",
      "metadata": {
        "id": "HEjNFf9bjdh_"
      },
      "source": [
        "new_data_2_ = model2_.sample(400)"
      ],
      "execution_count": 24,
      "outputs": []
    },
    {
      "cell_type": "code",
      "metadata": {
        "colab": {
          "base_uri": "https://localhost:8080/",
          "height": 282
        },
        "id": "B-_a55l2kVmm",
        "outputId": "454b63eb-869d-4506-a5c8-72dfa8e25405"
      },
      "source": [
        "new_data_2_['Max_Procalcitonine'].hist()"
      ],
      "execution_count": 25,
      "outputs": [
        {
          "output_type": "execute_result",
          "data": {
            "text/plain": [
              "<matplotlib.axes._subplots.AxesSubplot at 0x7f4b92cfb828>"
            ]
          },
          "metadata": {
            "tags": []
          },
          "execution_count": 25
        },
        {
          "output_type": "display_data",
          "data": {
            "image/png": "[encoded data removed]",
            "text/plain": [
              "<Figure size 432x288 with 1 Axes>"
            ]
          },
          "metadata": {
            "tags": [],
            "needs_background": "light"
          }
        }
      ]
    },
    {
      "cell_type": "code",
      "metadata": {
        "colab": {
          "base_uri": "https://localhost:8080/",
          "height": 282
        },
        "id": "Cng_wjYMkhlq",
        "outputId": "69498554-a6d6-4aa0-9749-d279a5e9c6b7"
      },
      "source": [
        "new_data_2['Max_Procalcitonine'].hist()"
      ],
      "execution_count": 26,
      "outputs": [
        {
          "output_type": "execute_result",
          "data": {
            "text/plain": [
              "<matplotlib.axes._subplots.AxesSubplot at 0x7f4b92c80d68>"
            ]
          },
          "metadata": {
            "tags": []
          },
          "execution_count": 26
        },
        {
          "output_type": "display_data",
          "data": {
            "image/png": "[encoded data removed]",
            "text/plain": [
              "<Figure size 432x288 with 1 Axes>"
            ]
          },
          "metadata": {
            "tags": [],
            "needs_background": "light"
          }
        }
      ]
    },
    {
      "cell_type": "code",
      "metadata": {
        "colab": {
          "base_uri": "https://localhost:8080/",
          "height": 282
        },
        "id": "_fcVE-wRkkeP",
        "outputId": "efb81410-4994-4357-c88a-2915f4a890c7"
      },
      "source": [
        "new_data_1_['Max_Procalcitonine'].hist()"
      ],
      "execution_count": 27,
      "outputs": [
        {
          "output_type": "execute_result",
          "data": {
            "text/plain": [
              "<matplotlib.axes._subplots.AxesSubplot at 0x7f4b92a8dac8>"
            ]
          },
          "metadata": {
            "tags": []
          },
          "execution_count": 27
        },
        {
          "output_type": "display_data",
          "data": {
            "image/png": "[encoded data removed]",
            "text/plain": [
              "<Figure size 432x288 with 1 Axes>"
            ]
          },
          "metadata": {
            "tags": [],
            "needs_background": "light"
          }
        }
      ]
    },
    {
      "cell_type": "code",
      "metadata": {
        "colab": {
          "base_uri": "https://localhost:8080/",
          "height": 555
        },
        "id": "ZNNH1csJknLk",
        "outputId": "db4a7882-9cee-47c8-f19e-bfb85ac55e3e"
      },
      "source": [
        "# переводим наши даты в формат пандас\r\n",
        "for i in ['Birthday', 'Admission', 'Discharge']:\r\n",
        "  df[i] = pd.to_datetime(df[i], format = \"%d:%m:%Y\")\r\n",
        "# длительность госпитализации = выписка - поступление\r\n",
        "df[\"duration\"] = (df['Discharge'] - df['Admission']).dt.days\r\n",
        "\r\n",
        "# возраст пациента рассчитаем: день рождения - поступление = дни и целочисленно делим на 356\r\n",
        "df[\"Age\"] = ((df['Admission'] - df['Birthday']).dt.days) // 356\r\n",
        "data = df.drop(['Birthday', 'Admission', 'Discharge'], axis=1)\r\n",
        "new_data_1['Age'] =  new_data_1['Age'].map(lambda x: x + 10 if x < 10 else x)"
      ],
      "execution_count": 113,
      "outputs": [
        {
          "output_type": "error",
          "ename": "KeyError",
          "evalue": "ignored",
          "traceback": [
            "\u001b[0;31m---------------------------------------------------------------------------\u001b[0m",
            "\u001b[0;31mKeyError\u001b[0m                                  Traceback (most recent call last)",
            "\u001b[0;32m/usr/local/lib/python3.6/dist-packages/pandas/core/indexes/base.py\u001b[0m in \u001b[0;36mget_loc\u001b[0;34m(self, key, method, tolerance)\u001b[0m\n\u001b[1;32m   2897\u001b[0m                 \u001b[0;32mraise\u001b[0m \u001b[0mKeyError\u001b[0m\u001b[0;34m(\u001b[0m\u001b[0mkey\u001b[0m\u001b[0;34m)\u001b[0m \u001b[0;32mfrom\u001b[0m \u001b[0merr\u001b[0m\u001b[0;34m\u001b[0m\u001b[0;34m\u001b[0m\u001b[0m\n\u001b[0;32m-> 2898\u001b[0;31m \u001b[0;34m\u001b[0m\u001b[0m\n\u001b[0m\u001b[1;32m   2899\u001b[0m         \u001b[0;32mif\u001b[0m \u001b[0mtolerance\u001b[0m \u001b[0;32mis\u001b[0m \u001b[0;32mnot\u001b[0m \u001b[0;32mNone\u001b[0m\u001b[0;34m:\u001b[0m\u001b[0;34m\u001b[0m\u001b[0;34m\u001b[0m\u001b[0m\n",
            "\u001b[0;32mpandas/_libs/index.pyx\u001b[0m in \u001b[0;36mpandas._libs.index.IndexEngine.get_loc\u001b[0;34m()\u001b[0m\n",
            "\u001b[0;32mpandas/_libs/index.pyx\u001b[0m in \u001b[0;36mpandas._libs.index.IndexEngine.get_loc\u001b[0;34m()\u001b[0m\n",
            "\u001b[0;32mpandas/_libs/hashtable_class_helper.pxi\u001b[0m in \u001b[0;36mpandas._libs.hashtable.PyObjectHashTable.get_item\u001b[0;34m()\u001b[0m\n",
            "\u001b[0;32mpandas/_libs/hashtable_class_helper.pxi\u001b[0m in \u001b[0;36mpandas._libs.hashtable.PyObjectHashTable.get_item\u001b[0;34m()\u001b[0m\n",
            "\u001b[0;31mKeyError\u001b[0m: 'Age'",
            "\nThe above exception was the direct cause of the following exception:\n",
            "\u001b[0;31mKeyError\u001b[0m                                  Traceback (most recent call last)",
            "\u001b[0;32m<ipython-input-113-ae528ab91263>\u001b[0m in \u001b[0;36m<module>\u001b[0;34m()\u001b[0m\n\u001b[0;32m----> 1\u001b[0;31m \u001b[0mnew_data_1\u001b[0m\u001b[0;34m[\u001b[0m\u001b[0;34m'Age'\u001b[0m\u001b[0;34m]\u001b[0m \u001b[0;34m=\u001b[0m  \u001b[0mnew_data_1\u001b[0m\u001b[0;34m[\u001b[0m\u001b[0;34m'Age'\u001b[0m\u001b[0;34m]\u001b[0m\u001b[0;34m.\u001b[0m\u001b[0mmap\u001b[0m\u001b[0;34m(\u001b[0m\u001b[0;32mlambda\u001b[0m \u001b[0mx\u001b[0m\u001b[0;34m:\u001b[0m \u001b[0mx\u001b[0m \u001b[0;34m+\u001b[0m \u001b[0;36m10\u001b[0m \u001b[0;32mif\u001b[0m \u001b[0mx\u001b[0m \u001b[0;34m<\u001b[0m \u001b[0;36m10\u001b[0m \u001b[0;32melse\u001b[0m \u001b[0mx\u001b[0m\u001b[0;34m)\u001b[0m\u001b[0;34m\u001b[0m\u001b[0;34m\u001b[0m\u001b[0m\n\u001b[0m",
            "\u001b[0;32m/usr/local/lib/python3.6/dist-packages/pandas/core/frame.py\u001b[0m in \u001b[0;36m__getitem__\u001b[0;34m(self, key)\u001b[0m\n\u001b[1;32m   2904\u001b[0m             \u001b[0;32mif\u001b[0m \u001b[0mself\u001b[0m\u001b[0;34m.\u001b[0m\u001b[0mcolumns\u001b[0m\u001b[0;34m.\u001b[0m\u001b[0mnlevels\u001b[0m \u001b[0;34m>\u001b[0m \u001b[0;36m1\u001b[0m\u001b[0;34m:\u001b[0m\u001b[0;34m\u001b[0m\u001b[0;34m\u001b[0m\u001b[0m\n\u001b[1;32m   2905\u001b[0m                 \u001b[0;32mreturn\u001b[0m \u001b[0mself\u001b[0m\u001b[0;34m.\u001b[0m\u001b[0m_getitem_multilevel\u001b[0m\u001b[0;34m(\u001b[0m\u001b[0mkey\u001b[0m\u001b[0;34m)\u001b[0m\u001b[0;34m\u001b[0m\u001b[0;34m\u001b[0m\u001b[0m\n\u001b[0;32m-> 2906\u001b[0;31m             \u001b[0mindexer\u001b[0m \u001b[0;34m=\u001b[0m \u001b[0mself\u001b[0m\u001b[0;34m.\u001b[0m\u001b[0mcolumns\u001b[0m\u001b[0;34m.\u001b[0m\u001b[0mget_loc\u001b[0m\u001b[0;34m(\u001b[0m\u001b[0mkey\u001b[0m\u001b[0;34m)\u001b[0m\u001b[0;34m\u001b[0m\u001b[0;34m\u001b[0m\u001b[0m\n\u001b[0m\u001b[1;32m   2907\u001b[0m             \u001b[0;32mif\u001b[0m \u001b[0mis_integer\u001b[0m\u001b[0;34m(\u001b[0m\u001b[0mindexer\u001b[0m\u001b[0;34m)\u001b[0m\u001b[0;34m:\u001b[0m\u001b[0;34m\u001b[0m\u001b[0;34m\u001b[0m\u001b[0m\n\u001b[1;32m   2908\u001b[0m                 \u001b[0mindexer\u001b[0m \u001b[0;34m=\u001b[0m \u001b[0;34m[\u001b[0m\u001b[0mindexer\u001b[0m\u001b[0;34m]\u001b[0m\u001b[0;34m\u001b[0m\u001b[0;34m\u001b[0m\u001b[0m\n",
            "\u001b[0;32m/usr/local/lib/python3.6/dist-packages/pandas/core/indexes/base.py\u001b[0m in \u001b[0;36mget_loc\u001b[0;34m(self, key, method, tolerance)\u001b[0m\n\u001b[1;32m   2898\u001b[0m \u001b[0;34m\u001b[0m\u001b[0m\n\u001b[1;32m   2899\u001b[0m         \u001b[0;32mif\u001b[0m \u001b[0mtolerance\u001b[0m \u001b[0;32mis\u001b[0m \u001b[0;32mnot\u001b[0m \u001b[0;32mNone\u001b[0m\u001b[0;34m:\u001b[0m\u001b[0;34m\u001b[0m\u001b[0;34m\u001b[0m\u001b[0m\n\u001b[0;32m-> 2900\u001b[0;31m             \u001b[0mtolerance\u001b[0m \u001b[0;34m=\u001b[0m \u001b[0mself\u001b[0m\u001b[0;34m.\u001b[0m\u001b[0m_convert_tolerance\u001b[0m\u001b[0;34m(\u001b[0m\u001b[0mtolerance\u001b[0m\u001b[0;34m,\u001b[0m \u001b[0mnp\u001b[0m\u001b[0;34m.\u001b[0m\u001b[0masarray\u001b[0m\u001b[0;34m(\u001b[0m\u001b[0mkey\u001b[0m\u001b[0;34m)\u001b[0m\u001b[0;34m)\u001b[0m\u001b[0;34m\u001b[0m\u001b[0;34m\u001b[0m\u001b[0m\n\u001b[0m\u001b[1;32m   2901\u001b[0m \u001b[0;34m\u001b[0m\u001b[0m\n\u001b[1;32m   2902\u001b[0m         \u001b[0mindexer\u001b[0m \u001b[0;34m=\u001b[0m \u001b[0mself\u001b[0m\u001b[0;34m.\u001b[0m\u001b[0mget_indexer\u001b[0m\u001b[0;34m(\u001b[0m\u001b[0;34m[\u001b[0m\u001b[0mkey\u001b[0m\u001b[0;34m]\u001b[0m\u001b[0;34m,\u001b[0m \u001b[0mmethod\u001b[0m\u001b[0;34m=\u001b[0m\u001b[0mmethod\u001b[0m\u001b[0;34m,\u001b[0m \u001b[0mtolerance\u001b[0m\u001b[0;34m=\u001b[0m\u001b[0mtolerance\u001b[0m\u001b[0;34m)\u001b[0m\u001b[0;34m\u001b[0m\u001b[0;34m\u001b[0m\u001b[0m\n",
            "\u001b[0;31mKeyError\u001b[0m: 'Age'"
          ]
        }
      ]
    },
    {
      "cell_type": "code",
      "metadata": {
        "colab": {
          "base_uri": "https://localhost:8080/"
        },
        "id": "uv8RF_QVkuWv",
        "outputId": "fee4996f-af0a-4a75-c15d-547ddbd9c171"
      },
      "source": [
        "new_data_2.columns"
      ],
      "execution_count": 194,
      "outputs": [
        {
          "output_type": "execute_result",
          "data": {
            "text/plain": [
              "Index(['Unnamed: 0', 'Unnamed: 0.1', 'ID', 'Max_Platlets', 'Min_Platlets',\n",
              "       'Max_Leucocytes', 'Min_Leucocytes', 'Hemoglobin', 'Max_Creatinine',\n",
              "       'Min_Cratinine', 'Gender', 'initial_CRP', 'Max_CRP', 'Treatment',\n",
              "       'Birthday', 'Admission', 'Discharge', 'Diagnosis', 'COVID-19',\n",
              "       'Pneumonia', 'Severity', 'IHD', 'COPD', 'Bronchial_asthma', 'Obesity',\n",
              "       'Diabetes', 'RF', 'ALT', 'AST', 'Initial_Procalcitonine',\n",
              "       'Max_Procalcitonine', 'duration', 'Age'],\n",
              "      dtype='object')"
            ]
          },
          "metadata": {
            "tags": []
          },
          "execution_count": 194
        }
      ]
    },
    {
      "cell_type": "code",
      "metadata": {
        "id": "5-nBXSTIra1q"
      },
      "source": [
        "\r\n",
        "new_data_2['Age'] =  new_data_2['Age'].map(lambda x: x + 10 if x < 10 else x)"
      ],
      "execution_count": 195,
      "outputs": []
    },
    {
      "cell_type": "code",
      "metadata": {
        "id": "_rXWW3KSseya"
      },
      "source": [
        "dataf = new_data_2.copy()"
      ],
      "execution_count": 196,
      "outputs": []
    },
    {
      "cell_type": "code",
      "metadata": {
        "id": "MGQQMnUaukU0"
      },
      "source": [
        "dataf = dataf.drop(['Unnamed: 0', 'Unnamed: 0.1',\r\n",
        "         'ID', 'Diagnosis', \r\n",
        "         'COVID-19', \"Treatment\", 'duration',\r\n",
        "          'Birthday', 'Admission', 'Discharge', 'Diagnosis',\r\n",
        "          'Pneumonia', 'Hemoglobin'], axis=1)"
      ],
      "execution_count": 197,
      "outputs": []
    },
    {
      "cell_type": "code",
      "metadata": {
        "id": "3XHqkqlWlEXB"
      },
      "source": [
        "import tensorflow as tf\r\n",
        "from tensorflow import keras\r\n",
        "\r\n",
        "import os\r\n",
        "import tempfile\r\n",
        "\r\n",
        "import matplotlib as mpl\r\n",
        "import matplotlib.pyplot as plt\r\n",
        "import numpy as np\r\n",
        "import pandas as pd\r\n",
        "import seaborn as sns\r\n",
        "\r\n",
        "import sklearn\r\n",
        "from sklearn.metrics import confusion_matrix\r\n",
        "from sklearn.model_selection import train_test_split\r\n",
        "from sklearn.preprocessing import StandardScaler"
      ],
      "execution_count": 198,
      "outputs": []
    },
    {
      "cell_type": "code",
      "metadata": {
        "id": "pSrvubwElHlJ"
      },
      "source": [
        "mpl.rcParams['figure.figsize'] = (12, 10)\r\n",
        "colors = plt.rcParams['axes.prop_cycle'].by_key()['color']"
      ],
      "execution_count": 199,
      "outputs": []
    },
    {
      "cell_type": "code",
      "metadata": {
        "id": "7e4hfsk8lbF7"
      },
      "source": [
        "def ind_ab(x):\r\n",
        "  if x > .4:\r\n",
        "    return 1\r\n",
        "  else:\r\n",
        "    return 0"
      ],
      "execution_count": 200,
      "outputs": []
    },
    {
      "cell_type": "code",
      "metadata": {
        "id": "8j1ffFUxlKFh"
      },
      "source": [
        "dataf['Ab_ind'] = dataf['Max_Procalcitonine'].apply(ind_ab)"
      ],
      "execution_count": 201,
      "outputs": []
    },
    {
      "cell_type": "code",
      "metadata": {
        "colab": {
          "base_uri": "https://localhost:8080/"
        },
        "id": "OCcUiWh7lm_X",
        "outputId": "c90f439a-adf1-456d-bd62-e4329c018ebd"
      },
      "source": [
        "dataf['Ab_ind'].value_counts()"
      ],
      "execution_count": 202,
      "outputs": [
        {
          "output_type": "execute_result",
          "data": {
            "text/plain": [
              "0    386\n",
              "1     14\n",
              "Name: Ab_ind, dtype: int64"
            ]
          },
          "metadata": {
            "tags": []
          },
          "execution_count": 202
        }
      ]
    },
    {
      "cell_type": "code",
      "metadata": {
        "id": "iGQOXRXZsj3W"
      },
      "source": [
        ""
      ],
      "execution_count": 202,
      "outputs": []
    },
    {
      "cell_type": "code",
      "metadata": {
        "id": "jSDd8rqSl0wx"
      },
      "source": [
        ""
      ],
      "execution_count": 202,
      "outputs": []
    },
    {
      "cell_type": "code",
      "metadata": {
        "colab": {
          "base_uri": "https://localhost:8080/",
          "height": 337
        },
        "id": "hw0A9LUQncQ-",
        "outputId": "7bc3e767-534a-4d79-afab-5c724c7ee60a"
      },
      "source": [
        "dataf = dataf.drop(['Unnamed: 0', 'Unnamed: 0.1',\r\n",
        "         'ID', 'Diagnosis', \r\n",
        "         'COVID-19', \"Treatment\"], axis=1)"
      ],
      "execution_count": 203,
      "outputs": [
        {
          "output_type": "error",
          "ename": "KeyError",
          "evalue": "ignored",
          "traceback": [
            "\u001b[0;31m---------------------------------------------------------------------------\u001b[0m",
            "\u001b[0;31mKeyError\u001b[0m                                  Traceback (most recent call last)",
            "\u001b[0;32m<ipython-input-203-f6a1b1c39aab>\u001b[0m in \u001b[0;36m<module>\u001b[0;34m()\u001b[0m\n\u001b[1;32m      1\u001b[0m dataf = dataf.drop(['Unnamed: 0', 'Unnamed: 0.1',\n\u001b[1;32m      2\u001b[0m          \u001b[0;34m'ID'\u001b[0m\u001b[0;34m,\u001b[0m \u001b[0;34m'Diagnosis'\u001b[0m\u001b[0;34m,\u001b[0m\u001b[0;34m\u001b[0m\u001b[0;34m\u001b[0m\u001b[0m\n\u001b[0;32m----> 3\u001b[0;31m          'COVID-19', \"Treatment\"], axis=1)\n\u001b[0m",
            "\u001b[0;32m/usr/local/lib/python3.6/dist-packages/pandas/core/frame.py\u001b[0m in \u001b[0;36mdrop\u001b[0;34m(self, labels, axis, index, columns, level, inplace, errors)\u001b[0m\n\u001b[1;32m   4172\u001b[0m             \u001b[0mlevel\u001b[0m\u001b[0;34m=\u001b[0m\u001b[0mlevel\u001b[0m\u001b[0;34m,\u001b[0m\u001b[0;34m\u001b[0m\u001b[0;34m\u001b[0m\u001b[0m\n\u001b[1;32m   4173\u001b[0m             \u001b[0minplace\u001b[0m\u001b[0;34m=\u001b[0m\u001b[0minplace\u001b[0m\u001b[0;34m,\u001b[0m\u001b[0;34m\u001b[0m\u001b[0;34m\u001b[0m\u001b[0m\n\u001b[0;32m-> 4174\u001b[0;31m             \u001b[0merrors\u001b[0m\u001b[0;34m=\u001b[0m\u001b[0merrors\u001b[0m\u001b[0;34m,\u001b[0m\u001b[0;34m\u001b[0m\u001b[0;34m\u001b[0m\u001b[0m\n\u001b[0m\u001b[1;32m   4175\u001b[0m         )\n\u001b[1;32m   4176\u001b[0m \u001b[0;34m\u001b[0m\u001b[0m\n",
            "\u001b[0;32m/usr/local/lib/python3.6/dist-packages/pandas/core/generic.py\u001b[0m in \u001b[0;36mdrop\u001b[0;34m(self, labels, axis, index, columns, level, inplace, errors)\u001b[0m\n\u001b[1;32m   3887\u001b[0m                 \u001b[0mobj\u001b[0m \u001b[0;34m=\u001b[0m \u001b[0mobj\u001b[0m\u001b[0;34m.\u001b[0m\u001b[0m_drop_axis\u001b[0m\u001b[0;34m(\u001b[0m\u001b[0mlabels\u001b[0m\u001b[0;34m,\u001b[0m \u001b[0maxis\u001b[0m\u001b[0;34m,\u001b[0m \u001b[0mlevel\u001b[0m\u001b[0;34m=\u001b[0m\u001b[0mlevel\u001b[0m\u001b[0;34m,\u001b[0m \u001b[0merrors\u001b[0m\u001b[0;34m=\u001b[0m\u001b[0merrors\u001b[0m\u001b[0;34m)\u001b[0m\u001b[0;34m\u001b[0m\u001b[0;34m\u001b[0m\u001b[0m\n\u001b[1;32m   3888\u001b[0m \u001b[0;34m\u001b[0m\u001b[0m\n\u001b[0;32m-> 3889\u001b[0;31m         \u001b[0;32mif\u001b[0m \u001b[0minplace\u001b[0m\u001b[0;34m:\u001b[0m\u001b[0;34m\u001b[0m\u001b[0;34m\u001b[0m\u001b[0m\n\u001b[0m\u001b[1;32m   3890\u001b[0m             \u001b[0mself\u001b[0m\u001b[0;34m.\u001b[0m\u001b[0m_update_inplace\u001b[0m\u001b[0;34m(\u001b[0m\u001b[0mobj\u001b[0m\u001b[0;34m)\u001b[0m\u001b[0;34m\u001b[0m\u001b[0;34m\u001b[0m\u001b[0m\n\u001b[1;32m   3891\u001b[0m         \u001b[0;32melse\u001b[0m\u001b[0;34m:\u001b[0m\u001b[0;34m\u001b[0m\u001b[0;34m\u001b[0m\u001b[0m\n",
            "\u001b[0;32m/usr/local/lib/python3.6/dist-packages/pandas/core/generic.py\u001b[0m in \u001b[0;36m_drop_axis\u001b[0;34m(self, labels, axis, level, errors)\u001b[0m\n\u001b[1;32m   3921\u001b[0m                 \u001b[0mnew_axis\u001b[0m \u001b[0;34m=\u001b[0m \u001b[0maxis\u001b[0m\u001b[0;34m.\u001b[0m\u001b[0mdrop\u001b[0m\u001b[0;34m(\u001b[0m\u001b[0mlabels\u001b[0m\u001b[0;34m,\u001b[0m \u001b[0merrors\u001b[0m\u001b[0;34m=\u001b[0m\u001b[0merrors\u001b[0m\u001b[0;34m)\u001b[0m\u001b[0;34m\u001b[0m\u001b[0;34m\u001b[0m\u001b[0m\n\u001b[1;32m   3922\u001b[0m             \u001b[0mresult\u001b[0m \u001b[0;34m=\u001b[0m \u001b[0mself\u001b[0m\u001b[0;34m.\u001b[0m\u001b[0mreindex\u001b[0m\u001b[0;34m(\u001b[0m\u001b[0;34m**\u001b[0m\u001b[0;34m{\u001b[0m\u001b[0maxis_name\u001b[0m\u001b[0;34m:\u001b[0m \u001b[0mnew_axis\u001b[0m\u001b[0;34m}\u001b[0m\u001b[0;34m)\u001b[0m\u001b[0;34m\u001b[0m\u001b[0;34m\u001b[0m\u001b[0m\n\u001b[0;32m-> 3923\u001b[0;31m \u001b[0;34m\u001b[0m\u001b[0m\n\u001b[0m\u001b[1;32m   3924\u001b[0m         \u001b[0;31m# Case for non-unique axis\u001b[0m\u001b[0;34m\u001b[0m\u001b[0;34m\u001b[0m\u001b[0;34m\u001b[0m\u001b[0m\n\u001b[1;32m   3925\u001b[0m         \u001b[0;32melse\u001b[0m\u001b[0;34m:\u001b[0m\u001b[0;34m\u001b[0m\u001b[0;34m\u001b[0m\u001b[0m\n",
            "\u001b[0;32m/usr/local/lib/python3.6/dist-packages/pandas/core/indexes/base.py\u001b[0m in \u001b[0;36mdrop\u001b[0;34m(self, labels, errors)\u001b[0m\n\u001b[1;32m   5285\u001b[0m             \u001b[0mindexer\u001b[0m \u001b[0;34m=\u001b[0m \u001b[0mindexer\u001b[0m\u001b[0;34m[\u001b[0m\u001b[0;34m~\u001b[0m\u001b[0mmask\u001b[0m\u001b[0;34m]\u001b[0m\u001b[0;34m\u001b[0m\u001b[0;34m\u001b[0m\u001b[0m\n\u001b[1;32m   5286\u001b[0m         \u001b[0;32mreturn\u001b[0m \u001b[0mself\u001b[0m\u001b[0;34m.\u001b[0m\u001b[0mdelete\u001b[0m\u001b[0;34m(\u001b[0m\u001b[0mindexer\u001b[0m\u001b[0;34m)\u001b[0m\u001b[0;34m\u001b[0m\u001b[0;34m\u001b[0m\u001b[0m\n\u001b[0;32m-> 5287\u001b[0;31m \u001b[0;34m\u001b[0m\u001b[0m\n\u001b[0m\u001b[1;32m   5288\u001b[0m     \u001b[0;31m# --------------------------------------------------------------------\u001b[0m\u001b[0;34m\u001b[0m\u001b[0;34m\u001b[0m\u001b[0;34m\u001b[0m\u001b[0m\n\u001b[1;32m   5289\u001b[0m     \u001b[0;31m# Generated Arithmetic, Comparison, and Unary Methods\u001b[0m\u001b[0;34m\u001b[0m\u001b[0;34m\u001b[0m\u001b[0;34m\u001b[0m\u001b[0m\n",
            "\u001b[0;31mKeyError\u001b[0m: \"['Unnamed: 0' 'Unnamed: 0.1' 'ID' 'Diagnosis' 'COVID-19' 'Treatment'] not found in axis\""
          ]
        }
      ]
    },
    {
      "cell_type": "code",
      "metadata": {
        "colab": {
          "base_uri": "https://localhost:8080/"
        },
        "id": "KbJvflK_luGh",
        "outputId": "195aa565-14ea-46ac-8dd5-67231f127c15"
      },
      "source": [
        "neg, pos = np.bincount(dataf['Ab_ind'])\r\n",
        "total = neg + pos\r\n",
        "print('Examples:\\n    Total: {}\\n    Positive: {} ({:.2f}% of total)\\n'.format(\r\n",
        "    total, pos, 100 * pos / total))"
      ],
      "execution_count": 204,
      "outputs": [
        {
          "output_type": "stream",
          "text": [
            "Examples:\n",
            "    Total: 400\n",
            "    Positive: 14 (3.50% of total)\n",
            "\n"
          ],
          "name": "stdout"
        }
      ]
    },
    {
      "cell_type": "code",
      "metadata": {
        "colab": {
          "base_uri": "https://localhost:8080/",
          "height": 354
        },
        "id": "NQbhB70XmLqr",
        "outputId": "38561f0a-331e-462b-bf27-d7e9a2595ac0"
      },
      "source": [
        "dataf[['Max_Platlets', 'Min_Platlets', 'Max_Leucocytes', 'Min_Leucocytes',\r\n",
        "        'Max_Creatinine', 'Min_Cratinine', 'Gender',\r\n",
        "       'initial_CRP', 'Max_CRP', 'Pneumonia', 'Severity', 'IHD', 'COPD',\r\n",
        "       'Bronchial_asthma', 'Obesity', 'Diabetes', 'RF', 'ALT', 'AST', 'Age',\r\n",
        "       'Ab_ind']].describe"
      ],
      "execution_count": 205,
      "outputs": [
        {
          "output_type": "error",
          "ename": "KeyError",
          "evalue": "ignored",
          "traceback": [
            "\u001b[0;31m---------------------------------------------------------------------------\u001b[0m",
            "\u001b[0;31mKeyError\u001b[0m                                  Traceback (most recent call last)",
            "\u001b[0;32m<ipython-input-205-7957c55c6370>\u001b[0m in \u001b[0;36m<module>\u001b[0;34m()\u001b[0m\n\u001b[1;32m      3\u001b[0m        \u001b[0;34m'initial_CRP'\u001b[0m\u001b[0;34m,\u001b[0m \u001b[0;34m'Max_CRP'\u001b[0m\u001b[0;34m,\u001b[0m \u001b[0;34m'Pneumonia'\u001b[0m\u001b[0;34m,\u001b[0m \u001b[0;34m'Severity'\u001b[0m\u001b[0;34m,\u001b[0m \u001b[0;34m'IHD'\u001b[0m\u001b[0;34m,\u001b[0m \u001b[0;34m'COPD'\u001b[0m\u001b[0;34m,\u001b[0m\u001b[0;34m\u001b[0m\u001b[0;34m\u001b[0m\u001b[0m\n\u001b[1;32m      4\u001b[0m        \u001b[0;34m'Bronchial_asthma'\u001b[0m\u001b[0;34m,\u001b[0m \u001b[0;34m'Obesity'\u001b[0m\u001b[0;34m,\u001b[0m \u001b[0;34m'Diabetes'\u001b[0m\u001b[0;34m,\u001b[0m \u001b[0;34m'RF'\u001b[0m\u001b[0;34m,\u001b[0m \u001b[0;34m'ALT'\u001b[0m\u001b[0;34m,\u001b[0m \u001b[0;34m'AST'\u001b[0m\u001b[0;34m,\u001b[0m \u001b[0;34m'Age'\u001b[0m\u001b[0;34m,\u001b[0m\u001b[0;34m\u001b[0m\u001b[0;34m\u001b[0m\u001b[0m\n\u001b[0;32m----> 5\u001b[0;31m        'Ab_ind']].describe\n\u001b[0m",
            "\u001b[0;32m/usr/local/lib/python3.6/dist-packages/pandas/core/frame.py\u001b[0m in \u001b[0;36m__getitem__\u001b[0;34m(self, key)\u001b[0m\n\u001b[1;32m   2910\u001b[0m             \u001b[0;32mif\u001b[0m \u001b[0mis_iterator\u001b[0m\u001b[0;34m(\u001b[0m\u001b[0mkey\u001b[0m\u001b[0;34m)\u001b[0m\u001b[0;34m:\u001b[0m\u001b[0;34m\u001b[0m\u001b[0;34m\u001b[0m\u001b[0m\n\u001b[1;32m   2911\u001b[0m                 \u001b[0mkey\u001b[0m \u001b[0;34m=\u001b[0m \u001b[0mlist\u001b[0m\u001b[0;34m(\u001b[0m\u001b[0mkey\u001b[0m\u001b[0;34m)\u001b[0m\u001b[0;34m\u001b[0m\u001b[0;34m\u001b[0m\u001b[0m\n\u001b[0;32m-> 2912\u001b[0;31m             \u001b[0mindexer\u001b[0m \u001b[0;34m=\u001b[0m \u001b[0mself\u001b[0m\u001b[0;34m.\u001b[0m\u001b[0mloc\u001b[0m\u001b[0;34m.\u001b[0m\u001b[0m_get_listlike_indexer\u001b[0m\u001b[0;34m(\u001b[0m\u001b[0mkey\u001b[0m\u001b[0;34m,\u001b[0m \u001b[0maxis\u001b[0m\u001b[0;34m=\u001b[0m\u001b[0;36m1\u001b[0m\u001b[0;34m,\u001b[0m \u001b[0mraise_missing\u001b[0m\u001b[0;34m=\u001b[0m\u001b[0;32mTrue\u001b[0m\u001b[0;34m)\u001b[0m\u001b[0;34m[\u001b[0m\u001b[0;36m1\u001b[0m\u001b[0;34m]\u001b[0m\u001b[0;34m\u001b[0m\u001b[0;34m\u001b[0m\u001b[0m\n\u001b[0m\u001b[1;32m   2913\u001b[0m \u001b[0;34m\u001b[0m\u001b[0m\n\u001b[1;32m   2914\u001b[0m         \u001b[0;31m# take() does not accept boolean indexers\u001b[0m\u001b[0;34m\u001b[0m\u001b[0;34m\u001b[0m\u001b[0;34m\u001b[0m\u001b[0m\n",
            "\u001b[0;32m/usr/local/lib/python3.6/dist-packages/pandas/core/indexing.py\u001b[0m in \u001b[0;36m_get_listlike_indexer\u001b[0;34m(self, key, axis, raise_missing)\u001b[0m\n\u001b[1;32m   1252\u001b[0m             \u001b[0mkeyarr\u001b[0m\u001b[0;34m,\u001b[0m \u001b[0mindexer\u001b[0m\u001b[0;34m,\u001b[0m \u001b[0mnew_indexer\u001b[0m \u001b[0;34m=\u001b[0m \u001b[0max\u001b[0m\u001b[0;34m.\u001b[0m\u001b[0m_reindex_non_unique\u001b[0m\u001b[0;34m(\u001b[0m\u001b[0mkeyarr\u001b[0m\u001b[0;34m)\u001b[0m\u001b[0;34m\u001b[0m\u001b[0;34m\u001b[0m\u001b[0m\n\u001b[1;32m   1253\u001b[0m \u001b[0;34m\u001b[0m\u001b[0m\n\u001b[0;32m-> 1254\u001b[0;31m         \u001b[0mself\u001b[0m\u001b[0;34m.\u001b[0m\u001b[0m_validate_read_indexer\u001b[0m\u001b[0;34m(\u001b[0m\u001b[0mkeyarr\u001b[0m\u001b[0;34m,\u001b[0m \u001b[0mindexer\u001b[0m\u001b[0;34m,\u001b[0m \u001b[0maxis\u001b[0m\u001b[0;34m,\u001b[0m \u001b[0mraise_missing\u001b[0m\u001b[0;34m=\u001b[0m\u001b[0mraise_missing\u001b[0m\u001b[0;34m)\u001b[0m\u001b[0;34m\u001b[0m\u001b[0;34m\u001b[0m\u001b[0m\n\u001b[0m\u001b[1;32m   1255\u001b[0m         \u001b[0;32mreturn\u001b[0m \u001b[0mkeyarr\u001b[0m\u001b[0;34m,\u001b[0m \u001b[0mindexer\u001b[0m\u001b[0;34m\u001b[0m\u001b[0;34m\u001b[0m\u001b[0m\n\u001b[1;32m   1256\u001b[0m \u001b[0;34m\u001b[0m\u001b[0m\n",
            "\u001b[0;32m/usr/local/lib/python3.6/dist-packages/pandas/core/indexing.py\u001b[0m in \u001b[0;36m_validate_read_indexer\u001b[0;34m(self, key, indexer, axis, raise_missing)\u001b[0m\n\u001b[1;32m   1302\u001b[0m             \u001b[0;32mif\u001b[0m \u001b[0mraise_missing\u001b[0m\u001b[0;34m:\u001b[0m\u001b[0;34m\u001b[0m\u001b[0;34m\u001b[0m\u001b[0m\n\u001b[1;32m   1303\u001b[0m                 \u001b[0mnot_found\u001b[0m \u001b[0;34m=\u001b[0m \u001b[0mlist\u001b[0m\u001b[0;34m(\u001b[0m\u001b[0mset\u001b[0m\u001b[0;34m(\u001b[0m\u001b[0mkey\u001b[0m\u001b[0;34m)\u001b[0m \u001b[0;34m-\u001b[0m \u001b[0mset\u001b[0m\u001b[0;34m(\u001b[0m\u001b[0max\u001b[0m\u001b[0;34m)\u001b[0m\u001b[0;34m)\u001b[0m\u001b[0;34m\u001b[0m\u001b[0;34m\u001b[0m\u001b[0m\n\u001b[0;32m-> 1304\u001b[0;31m                 \u001b[0;32mraise\u001b[0m \u001b[0mKeyError\u001b[0m\u001b[0;34m(\u001b[0m\u001b[0;34mf\"{not_found} not in index\"\u001b[0m\u001b[0;34m)\u001b[0m\u001b[0;34m\u001b[0m\u001b[0;34m\u001b[0m\u001b[0m\n\u001b[0m\u001b[1;32m   1305\u001b[0m \u001b[0;34m\u001b[0m\u001b[0m\n\u001b[1;32m   1306\u001b[0m             \u001b[0;31m# we skip the warning on Categorical\u001b[0m\u001b[0;34m\u001b[0m\u001b[0;34m\u001b[0m\u001b[0;34m\u001b[0m\u001b[0m\n",
            "\u001b[0;31mKeyError\u001b[0m: \"['Pneumonia'] not in index\""
          ]
        }
      ]
    },
    {
      "cell_type": "code",
      "metadata": {
        "id": "EvN7dvZjmDog"
      },
      "source": [
        "cleaned_df = dataf.copy()\r\n"
      ],
      "execution_count": 206,
      "outputs": []
    },
    {
      "cell_type": "code",
      "metadata": {
        "id": "4SFoxaMrny3x"
      },
      "source": [
        "cleaned_df['Gender'] = cleaned_df['Gender'].map({'male': 1, 'female': 0})"
      ],
      "execution_count": 207,
      "outputs": []
    },
    {
      "cell_type": "code",
      "metadata": {
        "id": "_qgYpHwhnHw0"
      },
      "source": [
        "# Use a utility from sklearn to split and shuffle our dataset.\r\n",
        "train_df, test_df = train_test_split(cleaned_df, test_size=0.2)\r\n",
        "train_df, val_df = train_test_split(train_df, test_size=0.2)\r\n",
        "\r\n",
        "# Form np arrays of labels and features.\r\n",
        "train_labels = np.array(train_df.pop('Ab_ind'))\r\n",
        "bool_train_labels = train_labels != 0\r\n",
        "val_labels = np.array(val_df.pop('Ab_ind'))\r\n",
        "test_labels = np.array(test_df.pop('Ab_ind'))\r\n",
        "\r\n",
        "train_features = np.array(train_df)\r\n",
        "val_features = np.array(val_df)\r\n",
        "test_features = np.array(test_df)"
      ],
      "execution_count": 208,
      "outputs": []
    },
    {
      "cell_type": "code",
      "metadata": {
        "colab": {
          "base_uri": "https://localhost:8080/"
        },
        "id": "5WW6qOQ0nQ88",
        "outputId": "32f474d0-c228-4598-cabe-2f4a9d239869"
      },
      "source": [
        "scaler = StandardScaler()\r\n",
        "train_features = scaler.fit_transform(train_features)\r\n",
        "\r\n",
        "val_features = scaler.transform(val_features)\r\n",
        "test_features = scaler.transform(test_features)\r\n",
        "\r\n",
        "train_features = np.clip(train_features, -5, 5)\r\n",
        "val_features = np.clip(val_features, -5, 5)\r\n",
        "test_features = np.clip(test_features, -5, 5)\r\n",
        "\r\n",
        "\r\n",
        "print('Training labels shape:', train_labels.shape)\r\n",
        "print('Validation labels shape:', val_labels.shape)\r\n",
        "print('Test labels shape:', test_labels.shape)\r\n",
        "\r\n",
        "print('Training features shape:', train_features.shape)\r\n",
        "print('Validation features shape:', val_features.shape)\r\n",
        "print('Test features shape:', test_features.shape)"
      ],
      "execution_count": 209,
      "outputs": [
        {
          "output_type": "stream",
          "text": [
            "Training labels shape: (256,)\n",
            "Validation labels shape: (64,)\n",
            "Test labels shape: (80,)\n",
            "Training features shape: (256, 21)\n",
            "Validation features shape: (64, 21)\n",
            "Test features shape: (80, 21)\n"
          ],
          "name": "stdout"
        }
      ]
    },
    {
      "cell_type": "code",
      "metadata": {
        "colab": {
          "base_uri": "https://localhost:8080/"
        },
        "id": "VbF05rZvoAT0",
        "outputId": "8e7c9236-f2ef-4777-9a67-bff74f384796"
      },
      "source": [
        "cleaned_df.columns"
      ],
      "execution_count": 210,
      "outputs": [
        {
          "output_type": "execute_result",
          "data": {
            "text/plain": [
              "Index(['Max_Platlets', 'Min_Platlets', 'Max_Leucocytes', 'Min_Leucocytes',\n",
              "       'Max_Creatinine', 'Min_Cratinine', 'Gender', 'initial_CRP', 'Max_CRP',\n",
              "       'Severity', 'IHD', 'COPD', 'Bronchial_asthma', 'Obesity', 'Diabetes',\n",
              "       'RF', 'ALT', 'AST', 'Initial_Procalcitonine', 'Max_Procalcitonine',\n",
              "       'Age', 'Ab_ind'],\n",
              "      dtype='object')"
            ]
          },
          "metadata": {
            "tags": []
          },
          "execution_count": 210
        }
      ]
    },
    {
      "cell_type": "code",
      "metadata": {
        "colab": {
          "base_uri": "https://localhost:8080/",
          "height": 956
        },
        "id": "8bQsZuIqnWA5",
        "outputId": "66b210de-fb6b-4743-dd61-da4931527ed9"
      },
      "source": [
        "pos_df = pd.DataFrame(train_features[ bool_train_labels], columns=train_df.columns)\r\n",
        "neg_df = pd.DataFrame(train_features[~bool_train_labels], columns=train_df.columns)\r\n",
        "\r\n",
        "sns.jointplot(pos_df['Max_Platlets'], pos_df['Max_Creatinine'],\r\n",
        "              kind='hex', xlim=(-5,5), ylim=(-5,5))\r\n",
        "plt.suptitle(\"Positive distribution\")\r\n",
        "\r\n",
        "sns.jointplot(neg_df['Max_Platlets'], neg_df['Max_Creatinine'],\r\n",
        "              kind='hex', xlim=(-5,5), ylim=(-5,5))\r\n",
        "_ = plt.suptitle(\"Negative distribution\")"
      ],
      "execution_count": 211,
      "outputs": [
        {
          "output_type": "stream",
          "text": [
            "/usr/local/lib/python3.6/dist-packages/seaborn/_decorators.py:43: FutureWarning: Pass the following variables as keyword args: x, y. From version 0.12, the only valid positional argument will be `data`, and passing other arguments without an explicit keyword will result in an error or misinterpretation.\n",
            "  FutureWarning\n",
            "/usr/local/lib/python3.6/dist-packages/seaborn/_decorators.py:43: FutureWarning: Pass the following variables as keyword args: x, y. From version 0.12, the only valid positional argument will be `data`, and passing other arguments without an explicit keyword will result in an error or misinterpretation.\n",
            "  FutureWarning\n"
          ],
          "name": "stderr"
        },
        {
          "output_type": "display_data",
          "data": {
            "image/png": "[encoded data removed]",
            "text/plain": [
              "<Figure size 432x432 with 3 Axes>"
            ]
          },
          "metadata": {
            "tags": [],
            "needs_background": "light"
          }
        },
        {
          "output_type": "display_data",
          "data": {
            "image/png": "[encoded data removed]",
            "text/plain": [
              "<Figure size 432x432 with 3 Axes>"
            ]
          },
          "metadata": {
            "tags": [],
            "needs_background": "light"
          }
        }
      ]
    },
    {
      "cell_type": "code",
      "metadata": {
        "id": "GGMBRarJn6yi"
      },
      "source": [
        "METRICS = [\r\n",
        "      keras.metrics.TruePositives(name='tp'),\r\n",
        "      keras.metrics.FalsePositives(name='fp'),\r\n",
        "      keras.metrics.TrueNegatives(name='tn'),\r\n",
        "      keras.metrics.FalseNegatives(name='fn'), \r\n",
        "      keras.metrics.BinaryAccuracy(name='accuracy'),\r\n",
        "      keras.metrics.Precision(name='precision'),\r\n",
        "      keras.metrics.Recall(name='recall'),\r\n",
        "      keras.metrics.AUC(name='auc'),\r\n",
        "]\r\n",
        "\r\n",
        "def make_model(metrics=METRICS, output_bias=None):\r\n",
        "  if output_bias is not None:\r\n",
        "    output_bias = tf.keras.initializers.Constant(output_bias)\r\n",
        "  model = keras.Sequential([\r\n",
        "      keras.layers.Dense(\r\n",
        "          16, activation='relu',\r\n",
        "          input_shape=(train_features.shape[-1],)),\r\n",
        "      keras.layers.Dropout(0.5),\r\n",
        "      keras.layers.Dense(1, activation='sigmoid',\r\n",
        "                         bias_initializer=output_bias),\r\n",
        "  ])\r\n",
        "\r\n",
        "  model.compile(\r\n",
        "      optimizer=keras.optimizers.Adam(lr=1e-3),\r\n",
        "      loss=keras.losses.BinaryCrossentropy(),\r\n",
        "      metrics=metrics)\r\n",
        "\r\n",
        "  return model"
      ],
      "execution_count": 212,
      "outputs": []
    },
    {
      "cell_type": "code",
      "metadata": {
        "id": "bXc6wlVxoULI"
      },
      "source": [
        "EPOCHS = 100\r\n",
        "BATCH_SIZE = 2048\r\n",
        "\r\n",
        "early_stopping = tf.keras.callbacks.EarlyStopping(\r\n",
        "    monitor='val_auc', \r\n",
        "    verbose=1,\r\n",
        "    patience=10,\r\n",
        "    mode='max',\r\n",
        "    restore_best_weights=True)"
      ],
      "execution_count": 213,
      "outputs": []
    },
    {
      "cell_type": "code",
      "metadata": {
        "colab": {
          "base_uri": "https://localhost:8080/"
        },
        "id": "wG8XFqHZoXja",
        "outputId": "08be42c3-775a-4874-893b-9fb87a34e766"
      },
      "source": [
        "model = make_model()\r\n",
        "model.summary()"
      ],
      "execution_count": 214,
      "outputs": [
        {
          "output_type": "stream",
          "text": [
            "Model: \"sequential_16\"\n",
            "_________________________________________________________________\n",
            "Layer (type)                 Output Shape              Param #   \n",
            "=================================================================\n",
            "dense_32 (Dense)             (None, 16)                352       \n",
            "_________________________________________________________________\n",
            "dropout_16 (Dropout)         (None, 16)                0         \n",
            "_________________________________________________________________\n",
            "dense_33 (Dense)             (None, 1)                 17        \n",
            "=================================================================\n",
            "Total params: 369\n",
            "Trainable params: 369\n",
            "Non-trainable params: 0\n",
            "_________________________________________________________________\n"
          ],
          "name": "stdout"
        }
      ]
    },
    {
      "cell_type": "code",
      "metadata": {
        "colab": {
          "base_uri": "https://localhost:8080/"
        },
        "id": "SqWKsnfYoZhE",
        "outputId": "4d377b9a-2a53-4b71-81a2-1704fe77ef33"
      },
      "source": [
        "results = model.evaluate(train_features, train_labels, batch_size=BATCH_SIZE, verbose=0)\r\n",
        "print(\"Loss: {:0.4f}\".format(results[0]))"
      ],
      "execution_count": 215,
      "outputs": [
        {
          "output_type": "stream",
          "text": [
            "Loss: 0.3939\n"
          ],
          "name": "stdout"
        }
      ]
    },
    {
      "cell_type": "code",
      "metadata": {
        "colab": {
          "base_uri": "https://localhost:8080/"
        },
        "id": "g9cyMd0docU3",
        "outputId": "edff40cb-844f-4f63-d2f5-0d7eed6e65d0"
      },
      "source": [
        "initial_bias = np.log([pos/neg])\r\n",
        "initial_bias"
      ],
      "execution_count": 216,
      "outputs": [
        {
          "output_type": "execute_result",
          "data": {
            "text/plain": [
              "array([-3.31678004])"
            ]
          },
          "metadata": {
            "tags": []
          },
          "execution_count": 216
        }
      ]
    },
    {
      "cell_type": "code",
      "metadata": {
        "colab": {
          "base_uri": "https://localhost:8080/"
        },
        "id": "s4MRhi39ofKY",
        "outputId": "e413bc78-ce7b-4254-d991-6efc0dae90ac"
      },
      "source": [
        "model = make_model(output_bias=initial_bias)\r\n",
        "model.predict(train_features[:10])"
      ],
      "execution_count": 217,
      "outputs": [
        {
          "output_type": "stream",
          "text": [
            "WARNING:tensorflow:7 out of the last 12 calls to <function Model.make_predict_function.<locals>.predict_function at 0x7f4b5639c268> triggered tf.function retracing. Tracing is expensive and the excessive number of tracings could be due to (1) creating @tf.function repeatedly in a loop, (2) passing tensors with different shapes, (3) passing Python objects instead of tensors. For (1), please define your @tf.function outside of the loop. For (2), @tf.function has experimental_relax_shapes=True option that relaxes argument shapes that can avoid unnecessary retracing. For (3), please refer to https://www.tensorflow.org/guide/function#controlling_retracing and https://www.tensorflow.org/api_docs/python/tf/function for  more details.\n"
          ],
          "name": "stdout"
        },
        {
          "output_type": "execute_result",
          "data": {
            "text/plain": [
              "array([[0.0437237 ],\n",
              "       [0.00706771],\n",
              "       [0.03253707],\n",
              "       [0.04418969],\n",
              "       [0.02240828],\n",
              "       [0.01663798],\n",
              "       [0.0358991 ],\n",
              "       [0.03149593],\n",
              "       [0.01031893],\n",
              "       [0.01987976]], dtype=float32)"
            ]
          },
          "metadata": {
            "tags": []
          },
          "execution_count": 217
        }
      ]
    },
    {
      "cell_type": "code",
      "metadata": {
        "colab": {
          "base_uri": "https://localhost:8080/"
        },
        "id": "RlDlBgPWohVd",
        "outputId": "503f8cf3-4b66-4d7d-e091-3c7a75cf0f84"
      },
      "source": [
        "results = model.evaluate(train_features, train_labels, batch_size=BATCH_SIZE, verbose=0)\r\n",
        "print(\"Loss: {:0.4f}\".format(results[0]))"
      ],
      "execution_count": 218,
      "outputs": [
        {
          "output_type": "stream",
          "text": [
            "Loss: 0.1605\n"
          ],
          "name": "stdout"
        }
      ]
    },
    {
      "cell_type": "code",
      "metadata": {
        "id": "JzBFLTcNojtg"
      },
      "source": [
        "initial_weights = os.path.join(tempfile.mkdtemp(), 'initial_weights')\r\n",
        "model.save_weights(initial_weights)"
      ],
      "execution_count": 219,
      "outputs": []
    },
    {
      "cell_type": "code",
      "metadata": {
        "colab": {
          "base_uri": "https://localhost:8080/"
        },
        "id": "NKAqzCC2omT9",
        "outputId": "62fde43b-1215-46cc-911e-808af8e7b4ba"
      },
      "source": [
        "model = make_model()\r\n",
        "model.load_weights(initial_weights)\r\n",
        "model.layers[-1].bias.assign([0.0])\r\n",
        "zero_bias_history = model.fit(\r\n",
        "    train_features,\r\n",
        "    train_labels,\r\n",
        "    batch_size=BATCH_SIZE,\r\n",
        "    epochs=20,\r\n",
        "    validation_data=(val_features, val_labels), \r\n",
        "    verbose=0)"
      ],
      "execution_count": 220,
      "outputs": [
        {
          "output_type": "stream",
          "text": [
            "WARNING:tensorflow:5 out of the last 20 calls to <function Model.make_test_function.<locals>.test_function at 0x7f4b573918c8> triggered tf.function retracing. Tracing is expensive and the excessive number of tracings could be due to (1) creating @tf.function repeatedly in a loop, (2) passing tensors with different shapes, (3) passing Python objects instead of tensors. For (1), please define your @tf.function outside of the loop. For (2), @tf.function has experimental_relax_shapes=True option that relaxes argument shapes that can avoid unnecessary retracing. For (3), please refer to https://www.tensorflow.org/guide/function#controlling_retracing and https://www.tensorflow.org/api_docs/python/tf/function for  more details.\n"
          ],
          "name": "stdout"
        }
      ]
    },
    {
      "cell_type": "code",
      "metadata": {
        "id": "Djaji_Fnoody"
      },
      "source": [
        "model = make_model()\r\n",
        "model.load_weights(initial_weights)\r\n",
        "careful_bias_history = model.fit(\r\n",
        "    train_features,\r\n",
        "    train_labels,\r\n",
        "    batch_size=BATCH_SIZE,\r\n",
        "    epochs=20,\r\n",
        "    validation_data=(val_features, val_labels), \r\n",
        "    verbose=0)"
      ],
      "execution_count": 221,
      "outputs": []
    },
    {
      "cell_type": "code",
      "metadata": {
        "id": "sW60uyQ9ormJ"
      },
      "source": [
        "def plot_loss(history, label, n):\r\n",
        "  # Use a log scale on y-axis to show the wide range of values.\r\n",
        "  plt.semilogy(history.epoch, history.history['loss'],\r\n",
        "               color=colors[n], label='Train ' + label)\r\n",
        "  plt.semilogy(history.epoch, history.history['val_loss'],\r\n",
        "               color=colors[n], label='Val ' + label,\r\n",
        "               linestyle=\"--\")\r\n",
        "  plt.xlabel('Epoch')\r\n",
        "  plt.ylabel('Loss')"
      ],
      "execution_count": 222,
      "outputs": []
    },
    {
      "cell_type": "code",
      "metadata": {
        "colab": {
          "base_uri": "https://localhost:8080/",
          "height": 606
        },
        "id": "nrCKyt8Eovb6",
        "outputId": "8523f921-0714-4ef2-eced-0751bc381b08"
      },
      "source": [
        "plot_loss(zero_bias_history, \"Zero Bias\", 0)\r\n",
        "plot_loss(careful_bias_history, \"Careful Bias\", 1)"
      ],
      "execution_count": 223,
      "outputs": [
        {
          "output_type": "display_data",
          "data": {
            "image/png": "[encoded data removed]",
            "text/plain": [
              "<Figure size 864x720 with 1 Axes>"
            ]
          },
          "metadata": {
            "tags": [],
            "needs_background": "light"
          }
        }
      ]
    },
    {
      "cell_type": "code",
      "metadata": {
        "colab": {
          "base_uri": "https://localhost:8080/"
        },
        "id": "EmhaWEC9oxLF",
        "outputId": "db945bce-b639-4a15-b9fb-d02162718293"
      },
      "source": [
        "model = make_model()\r\n",
        "model.load_weights(initial_weights)\r\n",
        "baseline_history = model.fit(\r\n",
        "    train_features,\r\n",
        "    train_labels,\r\n",
        "    batch_size=BATCH_SIZE,\r\n",
        "    epochs=EPOCHS,\r\n",
        "    callbacks=[early_stopping],\r\n",
        "    validation_data=(val_features, val_labels))"
      ],
      "execution_count": 224,
      "outputs": [
        {
          "output_type": "stream",
          "text": [
            "Epoch 1/100\n",
            "1/1 [==============================] - 3s 3s/step - loss: 0.1823 - tp: 0.0000e+00 - fp: 0.0000e+00 - tn: 310.0000 - fn: 10.0000 - accuracy: 0.9688 - precision: 0.0000e+00 - recall: 0.0000e+00 - auc: 0.3824 - val_loss: 0.1553 - val_tp: 0.0000e+00 - val_fp: 0.0000e+00 - val_tn: 62.0000 - val_fn: 2.0000 - val_accuracy: 0.9688 - val_precision: 0.0000e+00 - val_recall: 0.0000e+00 - val_auc: 0.4637\n",
            "Epoch 2/100\n",
            "1/1 [==============================] - 0s 50ms/step - loss: 0.1756 - tp: 0.0000e+00 - fp: 0.0000e+00 - tn: 248.0000 - fn: 8.0000 - accuracy: 0.9688 - precision: 0.0000e+00 - recall: 0.0000e+00 - auc: 0.4027 - val_loss: 0.1545 - val_tp: 0.0000e+00 - val_fp: 0.0000e+00 - val_tn: 62.0000 - val_fn: 2.0000 - val_accuracy: 0.9688 - val_precision: 0.0000e+00 - val_recall: 0.0000e+00 - val_auc: 0.4718\n",
            "Epoch 3/100\n",
            "1/1 [==============================] - 0s 51ms/step - loss: 0.1526 - tp: 0.0000e+00 - fp: 0.0000e+00 - tn: 248.0000 - fn: 8.0000 - accuracy: 0.9688 - precision: 0.0000e+00 - recall: 0.0000e+00 - auc: 0.4599 - val_loss: 0.1538 - val_tp: 0.0000e+00 - val_fp: 0.0000e+00 - val_tn: 62.0000 - val_fn: 2.0000 - val_accuracy: 0.9688 - val_precision: 0.0000e+00 - val_recall: 0.0000e+00 - val_auc: 0.4718\n",
            "Epoch 4/100\n",
            "1/1 [==============================] - 0s 54ms/step - loss: 0.1728 - tp: 0.0000e+00 - fp: 0.0000e+00 - tn: 248.0000 - fn: 8.0000 - accuracy: 0.9688 - precision: 0.0000e+00 - recall: 0.0000e+00 - auc: 0.3780 - val_loss: 0.1531 - val_tp: 0.0000e+00 - val_fp: 0.0000e+00 - val_tn: 62.0000 - val_fn: 2.0000 - val_accuracy: 0.9688 - val_precision: 0.0000e+00 - val_recall: 0.0000e+00 - val_auc: 0.4718\n",
            "Epoch 5/100\n",
            "1/1 [==============================] - 0s 51ms/step - loss: 0.1631 - tp: 0.0000e+00 - fp: 0.0000e+00 - tn: 248.0000 - fn: 8.0000 - accuracy: 0.9688 - precision: 0.0000e+00 - recall: 0.0000e+00 - auc: 0.4287 - val_loss: 0.1524 - val_tp: 0.0000e+00 - val_fp: 0.0000e+00 - val_tn: 62.0000 - val_fn: 2.0000 - val_accuracy: 0.9688 - val_precision: 0.0000e+00 - val_recall: 0.0000e+00 - val_auc: 0.5081\n",
            "Epoch 6/100\n",
            "1/1 [==============================] - 0s 58ms/step - loss: 0.1517 - tp: 0.0000e+00 - fp: 0.0000e+00 - tn: 248.0000 - fn: 8.0000 - accuracy: 0.9688 - precision: 0.0000e+00 - recall: 0.0000e+00 - auc: 0.5066 - val_loss: 0.1517 - val_tp: 0.0000e+00 - val_fp: 0.0000e+00 - val_tn: 62.0000 - val_fn: 2.0000 - val_accuracy: 0.9688 - val_precision: 0.0000e+00 - val_recall: 0.0000e+00 - val_auc: 0.5202\n",
            "Epoch 7/100\n",
            "1/1 [==============================] - 0s 58ms/step - loss: 0.1481 - tp: 0.0000e+00 - fp: 0.0000e+00 - tn: 248.0000 - fn: 8.0000 - accuracy: 0.9688 - precision: 0.0000e+00 - recall: 0.0000e+00 - auc: 0.5549 - val_loss: 0.1509 - val_tp: 0.0000e+00 - val_fp: 0.0000e+00 - val_tn: 62.0000 - val_fn: 2.0000 - val_accuracy: 0.9688 - val_precision: 0.0000e+00 - val_recall: 0.0000e+00 - val_auc: 0.5202\n",
            "Epoch 8/100\n",
            "1/1 [==============================] - 0s 64ms/step - loss: 0.1691 - tp: 0.0000e+00 - fp: 0.0000e+00 - tn: 248.0000 - fn: 8.0000 - accuracy: 0.9688 - precision: 0.0000e+00 - recall: 0.0000e+00 - auc: 0.3707 - val_loss: 0.1502 - val_tp: 0.0000e+00 - val_fp: 0.0000e+00 - val_tn: 62.0000 - val_fn: 2.0000 - val_accuracy: 0.9688 - val_precision: 0.0000e+00 - val_recall: 0.0000e+00 - val_auc: 0.5202\n",
            "Epoch 9/100\n",
            "1/1 [==============================] - 0s 58ms/step - loss: 0.1727 - tp: 0.0000e+00 - fp: 0.0000e+00 - tn: 248.0000 - fn: 8.0000 - accuracy: 0.9688 - precision: 0.0000e+00 - recall: 0.0000e+00 - auc: 0.3949 - val_loss: 0.1495 - val_tp: 0.0000e+00 - val_fp: 0.0000e+00 - val_tn: 62.0000 - val_fn: 2.0000 - val_accuracy: 0.9688 - val_precision: 0.0000e+00 - val_recall: 0.0000e+00 - val_auc: 0.5242\n",
            "Epoch 10/100\n",
            "1/1 [==============================] - 0s 55ms/step - loss: 0.1692 - tp: 0.0000e+00 - fp: 0.0000e+00 - tn: 248.0000 - fn: 8.0000 - accuracy: 0.9688 - precision: 0.0000e+00 - recall: 0.0000e+00 - auc: 0.3170 - val_loss: 0.1488 - val_tp: 0.0000e+00 - val_fp: 0.0000e+00 - val_tn: 62.0000 - val_fn: 2.0000 - val_accuracy: 0.9688 - val_precision: 0.0000e+00 - val_recall: 0.0000e+00 - val_auc: 0.5282\n",
            "Epoch 11/100\n",
            "1/1 [==============================] - 0s 58ms/step - loss: 0.1849 - tp: 0.0000e+00 - fp: 0.0000e+00 - tn: 248.0000 - fn: 8.0000 - accuracy: 0.9688 - precision: 0.0000e+00 - recall: 0.0000e+00 - auc: 0.2777 - val_loss: 0.1480 - val_tp: 0.0000e+00 - val_fp: 0.0000e+00 - val_tn: 62.0000 - val_fn: 2.0000 - val_accuracy: 0.9688 - val_precision: 0.0000e+00 - val_recall: 0.0000e+00 - val_auc: 0.5282\n",
            "Epoch 12/100\n",
            "1/1 [==============================] - 0s 53ms/step - loss: 0.1550 - tp: 0.0000e+00 - fp: 0.0000e+00 - tn: 248.0000 - fn: 8.0000 - accuracy: 0.9688 - precision: 0.0000e+00 - recall: 0.0000e+00 - auc: 0.5159 - val_loss: 0.1473 - val_tp: 0.0000e+00 - val_fp: 0.0000e+00 - val_tn: 62.0000 - val_fn: 2.0000 - val_accuracy: 0.9688 - val_precision: 0.0000e+00 - val_recall: 0.0000e+00 - val_auc: 0.5282\n",
            "Epoch 13/100\n",
            "1/1 [==============================] - 0s 57ms/step - loss: 0.1746 - tp: 0.0000e+00 - fp: 0.0000e+00 - tn: 248.0000 - fn: 8.0000 - accuracy: 0.9688 - precision: 0.0000e+00 - recall: 0.0000e+00 - auc: 0.3183 - val_loss: 0.1466 - val_tp: 0.0000e+00 - val_fp: 0.0000e+00 - val_tn: 62.0000 - val_fn: 2.0000 - val_accuracy: 0.9688 - val_precision: 0.0000e+00 - val_recall: 0.0000e+00 - val_auc: 0.5282\n",
            "Epoch 14/100\n",
            "1/1 [==============================] - 0s 56ms/step - loss: 0.1790 - tp: 0.0000e+00 - fp: 0.0000e+00 - tn: 248.0000 - fn: 8.0000 - accuracy: 0.9688 - precision: 0.0000e+00 - recall: 0.0000e+00 - auc: 0.2689 - val_loss: 0.1459 - val_tp: 0.0000e+00 - val_fp: 0.0000e+00 - val_tn: 62.0000 - val_fn: 2.0000 - val_accuracy: 0.9688 - val_precision: 0.0000e+00 - val_recall: 0.0000e+00 - val_auc: 0.5282\n",
            "Epoch 15/100\n",
            "1/1 [==============================] - 0s 53ms/step - loss: 0.1309 - tp: 0.0000e+00 - fp: 0.0000e+00 - tn: 248.0000 - fn: 8.0000 - accuracy: 0.9688 - precision: 0.0000e+00 - recall: 0.0000e+00 - auc: 0.7087 - val_loss: 0.1453 - val_tp: 0.0000e+00 - val_fp: 0.0000e+00 - val_tn: 62.0000 - val_fn: 2.0000 - val_accuracy: 0.9688 - val_precision: 0.0000e+00 - val_recall: 0.0000e+00 - val_auc: 0.5282\n",
            "Epoch 16/100\n",
            "1/1 [==============================] - 0s 54ms/step - loss: 0.1307 - tp: 0.0000e+00 - fp: 0.0000e+00 - tn: 248.0000 - fn: 8.0000 - accuracy: 0.9688 - precision: 0.0000e+00 - recall: 0.0000e+00 - auc: 0.6961 - val_loss: 0.1446 - val_tp: 0.0000e+00 - val_fp: 0.0000e+00 - val_tn: 62.0000 - val_fn: 2.0000 - val_accuracy: 0.9688 - val_precision: 0.0000e+00 - val_recall: 0.0000e+00 - val_auc: 0.5282\n",
            "Epoch 17/100\n",
            "1/1 [==============================] - 0s 61ms/step - loss: 0.1382 - tp: 0.0000e+00 - fp: 0.0000e+00 - tn: 248.0000 - fn: 8.0000 - accuracy: 0.9688 - precision: 0.0000e+00 - recall: 0.0000e+00 - auc: 0.6379 - val_loss: 0.1439 - val_tp: 0.0000e+00 - val_fp: 0.0000e+00 - val_tn: 62.0000 - val_fn: 2.0000 - val_accuracy: 0.9688 - val_precision: 0.0000e+00 - val_recall: 0.0000e+00 - val_auc: 0.5282\n",
            "Epoch 18/100\n",
            "1/1 [==============================] - 0s 65ms/step - loss: 0.1572 - tp: 0.0000e+00 - fp: 0.0000e+00 - tn: 248.0000 - fn: 8.0000 - accuracy: 0.9688 - precision: 0.0000e+00 - recall: 0.0000e+00 - auc: 0.5474 - val_loss: 0.1433 - val_tp: 0.0000e+00 - val_fp: 0.0000e+00 - val_tn: 62.0000 - val_fn: 2.0000 - val_accuracy: 0.9688 - val_precision: 0.0000e+00 - val_recall: 0.0000e+00 - val_auc: 0.5242\n",
            "Epoch 19/100\n",
            "1/1 [==============================] - 0s 61ms/step - loss: 0.1466 - tp: 0.0000e+00 - fp: 0.0000e+00 - tn: 248.0000 - fn: 8.0000 - accuracy: 0.9688 - precision: 0.0000e+00 - recall: 0.0000e+00 - auc: 0.5217 - val_loss: 0.1427 - val_tp: 0.0000e+00 - val_fp: 0.0000e+00 - val_tn: 62.0000 - val_fn: 2.0000 - val_accuracy: 0.9688 - val_precision: 0.0000e+00 - val_recall: 0.0000e+00 - val_auc: 0.5242\n",
            "Epoch 20/100\n",
            "1/1 [==============================] - 0s 56ms/step - loss: 0.1418 - tp: 0.0000e+00 - fp: 0.0000e+00 - tn: 248.0000 - fn: 8.0000 - accuracy: 0.9688 - precision: 0.0000e+00 - recall: 0.0000e+00 - auc: 0.6678 - val_loss: 0.1420 - val_tp: 0.0000e+00 - val_fp: 0.0000e+00 - val_tn: 62.0000 - val_fn: 2.0000 - val_accuracy: 0.9688 - val_precision: 0.0000e+00 - val_recall: 0.0000e+00 - val_auc: 0.5242\n",
            "Restoring model weights from the end of the best epoch.\n",
            "Epoch 00020: early stopping\n"
          ],
          "name": "stdout"
        }
      ]
    },
    {
      "cell_type": "code",
      "metadata": {
        "id": "6Uy2fp2Go7GA"
      },
      "source": [
        "def plot_metrics(history):\r\n",
        "  metrics = ['loss', 'auc', 'precision', 'recall']\r\n",
        "  for n, metric in enumerate(metrics):\r\n",
        "    name = metric.replace(\"_\",\" \").capitalize()\r\n",
        "    plt.subplot(2,2,n+1)\r\n",
        "    plt.plot(history.epoch, history.history[metric], color=colors[0], label='Train')\r\n",
        "    plt.plot(history.epoch, history.history['val_'+metric],\r\n",
        "             color=colors[0], linestyle=\"--\", label='Val')\r\n",
        "    plt.xlabel('Epoch')\r\n",
        "    plt.ylabel(name)\r\n",
        "    if metric == 'loss':\r\n",
        "      plt.ylim([0, plt.ylim()[1]])\r\n",
        "    elif metric == 'auc':\r\n",
        "      plt.ylim([0.8,1])\r\n",
        "    else:\r\n",
        "      plt.ylim([0,1])\r\n",
        "\r\n",
        "    plt.legend()"
      ],
      "execution_count": 225,
      "outputs": []
    },
    {
      "cell_type": "code",
      "metadata": {
        "colab": {
          "base_uri": "https://localhost:8080/",
          "height": 609
        },
        "id": "k-uLNujQpCfq",
        "outputId": "a351a5a3-31ec-4f29-bb16-9238ddaadf0f"
      },
      "source": [
        "plot_metrics(baseline_history)"
      ],
      "execution_count": 226,
      "outputs": [
        {
          "output_type": "display_data",
          "data": {
            "image/png": "[encoded data removed]",
            "text/plain": [
              "<Figure size 864x720 with 4 Axes>"
            ]
          },
          "metadata": {
            "tags": [],
            "needs_background": "light"
          }
        }
      ]
    },
    {
      "cell_type": "code",
      "metadata": {
        "colab": {
          "base_uri": "https://localhost:8080/"
        },
        "id": "y_cCO6-cpEfU",
        "outputId": "c68ce6c4-1d02-4974-eaf9-2387d1c0ca95"
      },
      "source": [
        "train_predictions_baseline = model.predict(train_features, batch_size=BATCH_SIZE)\r\n",
        "test_predictions_baseline = model.predict(test_features, batch_size=BATCH_SIZE)"
      ],
      "execution_count": 227,
      "outputs": [
        {
          "output_type": "stream",
          "text": [
            "WARNING:tensorflow:7 out of the last 11 calls to <function Model.make_predict_function.<locals>.predict_function at 0x7f4b4e8fcd90> triggered tf.function retracing. Tracing is expensive and the excessive number of tracings could be due to (1) creating @tf.function repeatedly in a loop, (2) passing tensors with different shapes, (3) passing Python objects instead of tensors. For (1), please define your @tf.function outside of the loop. For (2), @tf.function has experimental_relax_shapes=True option that relaxes argument shapes that can avoid unnecessary retracing. For (3), please refer to https://www.tensorflow.org/guide/function#controlling_retracing and https://www.tensorflow.org/api_docs/python/tf/function for  more details.\n"
          ],
          "name": "stdout"
        }
      ]
    },
    {
      "cell_type": "code",
      "metadata": {
        "id": "1fI_CTPLpK8U"
      },
      "source": [
        "def plot_cm(labels, predictions, p=0.5):\r\n",
        "  cm = confusion_matrix(labels, predictions > p)\r\n",
        "  plt.figure(figsize=(5,5))\r\n",
        "  sns.heatmap(cm, annot=True, fmt=\"d\")\r\n",
        "  plt.title('Confusion matrix @{:.2f}'.format(p))\r\n",
        "  plt.ylabel('Actual label')\r\n",
        "  plt.xlabel('Predicted label')\r\n",
        "\r\n",
        "  print('Legitimate Transactions Detected (True Negatives): ', cm[0][0])\r\n",
        "  print('Legitimate Transactions Incorrectly Detected (False Positives): ', cm[0][1])\r\n",
        "  print('Fraudulent Transactions Missed (False Negatives): ', cm[1][0])\r\n",
        "  print('Fraudulent Transactions Detected (True Positives): ', cm[1][1])\r\n",
        "  print('Total Fraudulent Transactions: ', np.sum(cm[1]))"
      ],
      "execution_count": 228,
      "outputs": []
    },
    {
      "cell_type": "code",
      "metadata": {
        "colab": {
          "base_uri": "https://localhost:8080/",
          "height": 602
        },
        "id": "JaSr-pOepNVH",
        "outputId": "aba43b6a-4836-4a56-ae72-0bab5d96925c"
      },
      "source": [
        "baseline_results = model.evaluate(test_features, test_labels,\r\n",
        "                                  batch_size=BATCH_SIZE, verbose=0)\r\n",
        "for name, value in zip(model.metrics_names, baseline_results):\r\n",
        "  print(name, ': ', value)\r\n",
        "print()\r\n",
        "\r\n",
        "plot_cm(test_labels, test_predictions_baseline)"
      ],
      "execution_count": 229,
      "outputs": [
        {
          "output_type": "stream",
          "text": [
            "loss :  0.18481118977069855\n",
            "tp :  0.0\n",
            "fp :  0.0\n",
            "tn :  76.0\n",
            "fn :  4.0\n",
            "accuracy :  0.949999988079071\n",
            "precision :  0.0\n",
            "recall :  0.0\n",
            "auc :  0.6973683834075928\n",
            "\n",
            "Legitimate Transactions Detected (True Negatives):  76\n",
            "Legitimate Transactions Incorrectly Detected (False Positives):  0\n",
            "Fraudulent Transactions Missed (False Negatives):  4\n",
            "Fraudulent Transactions Detected (True Positives):  0\n",
            "Total Fraudulent Transactions:  4\n"
          ],
          "name": "stdout"
        },
        {
          "output_type": "display_data",
          "data": {
            "image/png": "[encoded data removed]",
            "text/plain": [
              "<Figure size 360x360 with 2 Axes>"
            ]
          },
          "metadata": {
            "tags": [],
            "needs_background": "light"
          }
        }
      ]
    },
    {
      "cell_type": "code",
      "metadata": {
        "id": "lbr1ChYtpQWZ"
      },
      "source": [
        "def plot_roc(name, labels, predictions, **kwargs):\r\n",
        "  fp, tp, _ = sklearn.metrics.roc_curve(labels, predictions)\r\n",
        "\r\n",
        "  plt.plot(100*fp, 100*tp, label=name, linewidth=2, **kwargs)\r\n",
        "  plt.xlabel('False positives [%]')\r\n",
        "  plt.ylabel('True positives [%]')\r\n",
        "  plt.xlim([-0.5,20])\r\n",
        "  plt.ylim([80,100.5])\r\n",
        "  plt.grid(True)\r\n",
        "  ax = plt.gca()\r\n",
        "  ax.set_aspect('equal')"
      ],
      "execution_count": 230,
      "outputs": []
    },
    {
      "cell_type": "code",
      "metadata": {
        "colab": {
          "base_uri": "https://localhost:8080/",
          "height": 623
        },
        "id": "1yeKe-OupWl-",
        "outputId": "8fc11eb0-b8a8-4926-9d27-4e1e121fd0b3"
      },
      "source": [
        "plot_roc(\"Train Baseline\", train_labels, train_predictions_baseline, color=colors[0])\r\n",
        "plot_roc(\"Test Baseline\", test_labels, test_predictions_baseline, color=colors[0], linestyle='--')\r\n",
        "plt.legend(loc='lower right')"
      ],
      "execution_count": 231,
      "outputs": [
        {
          "output_type": "execute_result",
          "data": {
            "text/plain": [
              "<matplotlib.legend.Legend at 0x7f4b57581320>"
            ]
          },
          "metadata": {
            "tags": []
          },
          "execution_count": 231
        },
        {
          "output_type": "display_data",
          "data": {
            "image/png": "[encoded data removed]",
            "text/plain": [
              "<Figure size 864x720 with 1 Axes>"
            ]
          },
          "metadata": {
            "tags": [],
            "needs_background": "light"
          }
        }
      ]
    },
    {
      "cell_type": "code",
      "metadata": {
        "colab": {
          "base_uri": "https://localhost:8080/"
        },
        "id": "Tc4-VHPapYhA",
        "outputId": "0f6f77ab-277c-46d2-f513-cb9b48ff5d08"
      },
      "source": [
        "# Scaling by total/2 helps keep the loss to a similar magnitude.\r\n",
        "# The sum of the weights of all examples stays the same.\r\n",
        "weight_for_0 = (1 / neg)*(total)/2.0 \r\n",
        "weight_for_1 = (1 / pos)*(total)/2.0\r\n",
        "\r\n",
        "class_weight = {0: weight_for_0, 1: weight_for_1}\r\n",
        "\r\n",
        "print('Weight for class 0: {:.2f}'.format(weight_for_0))\r\n",
        "print('Weight for class 1: {:.2f}'.format(weight_for_1))"
      ],
      "execution_count": 232,
      "outputs": [
        {
          "output_type": "stream",
          "text": [
            "Weight for class 0: 0.52\n",
            "Weight for class 1: 14.29\n"
          ],
          "name": "stdout"
        }
      ]
    },
    {
      "cell_type": "code",
      "metadata": {
        "colab": {
          "base_uri": "https://localhost:8080/"
        },
        "id": "-jzJeNAIpfQt",
        "outputId": "2b56485e-2a35-4407-ae79-17a2a96a9379"
      },
      "source": [
        "weighted_model = make_model()\r\n",
        "weighted_model.load_weights(initial_weights)\r\n",
        "\r\n",
        "weighted_history = weighted_model.fit(\r\n",
        "    train_features,\r\n",
        "    train_labels,\r\n",
        "    batch_size=BATCH_SIZE,\r\n",
        "    epochs=EPOCHS,\r\n",
        "    callbacks=[early_stopping],\r\n",
        "    validation_data=(val_features, val_labels),\r\n",
        "    # The class weights go here\r\n",
        "    class_weight=class_weight) "
      ],
      "execution_count": 233,
      "outputs": [
        {
          "output_type": "stream",
          "text": [
            "Epoch 1/100\n",
            "1/1 [==============================] - 4s 4s/step - loss: 2.0170 - tp: 0.0000e+00 - fp: 1.0000 - tn: 323.0000 - fn: 12.0000 - accuracy: 0.9613 - precision: 0.0000e+00 - recall: 0.0000e+00 - auc: 0.4684 - val_loss: 0.1553 - val_tp: 0.0000e+00 - val_fp: 0.0000e+00 - val_tn: 62.0000 - val_fn: 2.0000 - val_accuracy: 0.9688 - val_precision: 0.0000e+00 - val_recall: 0.0000e+00 - val_auc: 0.4718\n",
            "Epoch 2/100\n",
            "1/1 [==============================] - 0s 59ms/step - loss: 2.0626 - tp: 0.0000e+00 - fp: 0.0000e+00 - tn: 248.0000 - fn: 8.0000 - accuracy: 0.9688 - precision: 0.0000e+00 - recall: 0.0000e+00 - auc: 0.3810 - val_loss: 0.1545 - val_tp: 0.0000e+00 - val_fp: 0.0000e+00 - val_tn: 62.0000 - val_fn: 2.0000 - val_accuracy: 0.9688 - val_precision: 0.0000e+00 - val_recall: 0.0000e+00 - val_auc: 0.4718\n",
            "Epoch 3/100\n",
            "1/1 [==============================] - 0s 58ms/step - loss: 1.9141 - tp: 0.0000e+00 - fp: 0.0000e+00 - tn: 248.0000 - fn: 8.0000 - accuracy: 0.9688 - precision: 0.0000e+00 - recall: 0.0000e+00 - auc: 0.3959 - val_loss: 0.1537 - val_tp: 0.0000e+00 - val_fp: 0.0000e+00 - val_tn: 62.0000 - val_fn: 2.0000 - val_accuracy: 0.9688 - val_precision: 0.0000e+00 - val_recall: 0.0000e+00 - val_auc: 0.4718\n",
            "Epoch 4/100\n",
            "1/1 [==============================] - 0s 63ms/step - loss: 1.7782 - tp: 0.0000e+00 - fp: 0.0000e+00 - tn: 248.0000 - fn: 8.0000 - accuracy: 0.9688 - precision: 0.0000e+00 - recall: 0.0000e+00 - auc: 0.4685 - val_loss: 0.1529 - val_tp: 0.0000e+00 - val_fp: 0.0000e+00 - val_tn: 62.0000 - val_fn: 2.0000 - val_accuracy: 0.9688 - val_precision: 0.0000e+00 - val_recall: 0.0000e+00 - val_auc: 0.5081\n",
            "Epoch 5/100\n",
            "1/1 [==============================] - 0s 57ms/step - loss: 1.5598 - tp: 0.0000e+00 - fp: 1.0000 - tn: 247.0000 - fn: 8.0000 - accuracy: 0.9648 - precision: 0.0000e+00 - recall: 0.0000e+00 - auc: 0.6298 - val_loss: 0.1522 - val_tp: 0.0000e+00 - val_fp: 0.0000e+00 - val_tn: 62.0000 - val_fn: 2.0000 - val_accuracy: 0.9688 - val_precision: 0.0000e+00 - val_recall: 0.0000e+00 - val_auc: 0.5161\n",
            "Epoch 6/100\n",
            "1/1 [==============================] - 0s 52ms/step - loss: 1.7929 - tp: 0.0000e+00 - fp: 0.0000e+00 - tn: 248.0000 - fn: 8.0000 - accuracy: 0.9688 - precision: 0.0000e+00 - recall: 0.0000e+00 - auc: 0.4869 - val_loss: 0.1514 - val_tp: 0.0000e+00 - val_fp: 0.0000e+00 - val_tn: 62.0000 - val_fn: 2.0000 - val_accuracy: 0.9688 - val_precision: 0.0000e+00 - val_recall: 0.0000e+00 - val_auc: 0.5121\n",
            "Epoch 7/100\n",
            "1/1 [==============================] - 0s 55ms/step - loss: 1.7309 - tp: 0.0000e+00 - fp: 0.0000e+00 - tn: 248.0000 - fn: 8.0000 - accuracy: 0.9688 - precision: 0.0000e+00 - recall: 0.0000e+00 - auc: 0.5370 - val_loss: 0.1507 - val_tp: 0.0000e+00 - val_fp: 0.0000e+00 - val_tn: 62.0000 - val_fn: 2.0000 - val_accuracy: 0.9688 - val_precision: 0.0000e+00 - val_recall: 0.0000e+00 - val_auc: 0.5121\n",
            "Epoch 8/100\n",
            "1/1 [==============================] - 0s 56ms/step - loss: 1.5610 - tp: 0.0000e+00 - fp: 0.0000e+00 - tn: 248.0000 - fn: 8.0000 - accuracy: 0.9688 - precision: 0.0000e+00 - recall: 0.0000e+00 - auc: 0.5577 - val_loss: 0.1499 - val_tp: 0.0000e+00 - val_fp: 0.0000e+00 - val_tn: 62.0000 - val_fn: 2.0000 - val_accuracy: 0.9688 - val_precision: 0.0000e+00 - val_recall: 0.0000e+00 - val_auc: 0.5202\n",
            "Epoch 9/100\n",
            "1/1 [==============================] - 0s 58ms/step - loss: 1.9352 - tp: 0.0000e+00 - fp: 1.0000 - tn: 247.0000 - fn: 8.0000 - accuracy: 0.9648 - precision: 0.0000e+00 - recall: 0.0000e+00 - auc: 0.3498 - val_loss: 0.1492 - val_tp: 0.0000e+00 - val_fp: 0.0000e+00 - val_tn: 62.0000 - val_fn: 2.0000 - val_accuracy: 0.9688 - val_precision: 0.0000e+00 - val_recall: 0.0000e+00 - val_auc: 0.5161\n",
            "Epoch 10/100\n",
            "1/1 [==============================] - 0s 61ms/step - loss: 1.6087 - tp: 0.0000e+00 - fp: 0.0000e+00 - tn: 248.0000 - fn: 8.0000 - accuracy: 0.9688 - precision: 0.0000e+00 - recall: 0.0000e+00 - auc: 0.5502 - val_loss: 0.1485 - val_tp: 0.0000e+00 - val_fp: 0.0000e+00 - val_tn: 62.0000 - val_fn: 2.0000 - val_accuracy: 0.9688 - val_precision: 0.0000e+00 - val_recall: 0.0000e+00 - val_auc: 0.5161\n",
            "Epoch 11/100\n",
            "1/1 [==============================] - 0s 61ms/step - loss: 2.0185 - tp: 0.0000e+00 - fp: 1.0000 - tn: 247.0000 - fn: 8.0000 - accuracy: 0.9648 - precision: 0.0000e+00 - recall: 0.0000e+00 - auc: 0.3228 - val_loss: 0.1478 - val_tp: 0.0000e+00 - val_fp: 0.0000e+00 - val_tn: 62.0000 - val_fn: 2.0000 - val_accuracy: 0.9688 - val_precision: 0.0000e+00 - val_recall: 0.0000e+00 - val_auc: 0.5242\n",
            "Epoch 12/100\n",
            "1/1 [==============================] - 0s 62ms/step - loss: 2.0205 - tp: 0.0000e+00 - fp: 1.0000 - tn: 247.0000 - fn: 8.0000 - accuracy: 0.9648 - precision: 0.0000e+00 - recall: 0.0000e+00 - auc: 0.3712 - val_loss: 0.1471 - val_tp: 0.0000e+00 - val_fp: 0.0000e+00 - val_tn: 62.0000 - val_fn: 2.0000 - val_accuracy: 0.9688 - val_precision: 0.0000e+00 - val_recall: 0.0000e+00 - val_auc: 0.5202\n",
            "Epoch 13/100\n",
            "1/1 [==============================] - 0s 60ms/step - loss: 1.6457 - tp: 0.0000e+00 - fp: 0.0000e+00 - tn: 248.0000 - fn: 8.0000 - accuracy: 0.9688 - precision: 0.0000e+00 - recall: 0.0000e+00 - auc: 0.5943 - val_loss: 0.1464 - val_tp: 0.0000e+00 - val_fp: 0.0000e+00 - val_tn: 62.0000 - val_fn: 2.0000 - val_accuracy: 0.9688 - val_precision: 0.0000e+00 - val_recall: 0.0000e+00 - val_auc: 0.5202\n",
            "Epoch 14/100\n",
            "1/1 [==============================] - 0s 59ms/step - loss: 2.0234 - tp: 0.0000e+00 - fp: 0.0000e+00 - tn: 248.0000 - fn: 8.0000 - accuracy: 0.9688 - precision: 0.0000e+00 - recall: 0.0000e+00 - auc: 0.3516 - val_loss: 0.1457 - val_tp: 0.0000e+00 - val_fp: 0.0000e+00 - val_tn: 62.0000 - val_fn: 2.0000 - val_accuracy: 0.9688 - val_precision: 0.0000e+00 - val_recall: 0.0000e+00 - val_auc: 0.5242\n",
            "Epoch 15/100\n",
            "1/1 [==============================] - 0s 66ms/step - loss: 1.8154 - tp: 0.0000e+00 - fp: 0.0000e+00 - tn: 248.0000 - fn: 8.0000 - accuracy: 0.9688 - precision: 0.0000e+00 - recall: 0.0000e+00 - auc: 0.5559 - val_loss: 0.1450 - val_tp: 0.0000e+00 - val_fp: 0.0000e+00 - val_tn: 62.0000 - val_fn: 2.0000 - val_accuracy: 0.9688 - val_precision: 0.0000e+00 - val_recall: 0.0000e+00 - val_auc: 0.5242\n",
            "Epoch 16/100\n",
            "1/1 [==============================] - 0s 54ms/step - loss: 1.8798 - tp: 0.0000e+00 - fp: 0.0000e+00 - tn: 248.0000 - fn: 8.0000 - accuracy: 0.9688 - precision: 0.0000e+00 - recall: 0.0000e+00 - auc: 0.4141 - val_loss: 0.1443 - val_tp: 0.0000e+00 - val_fp: 0.0000e+00 - val_tn: 62.0000 - val_fn: 2.0000 - val_accuracy: 0.9688 - val_precision: 0.0000e+00 - val_recall: 0.0000e+00 - val_auc: 0.5242\n",
            "Epoch 17/100\n",
            "1/1 [==============================] - 0s 66ms/step - loss: 1.5878 - tp: 0.0000e+00 - fp: 0.0000e+00 - tn: 248.0000 - fn: 8.0000 - accuracy: 0.9688 - precision: 0.0000e+00 - recall: 0.0000e+00 - auc: 0.5895 - val_loss: 0.1436 - val_tp: 0.0000e+00 - val_fp: 0.0000e+00 - val_tn: 62.0000 - val_fn: 2.0000 - val_accuracy: 0.9688 - val_precision: 0.0000e+00 - val_recall: 0.0000e+00 - val_auc: 0.5242\n",
            "Epoch 18/100\n",
            "1/1 [==============================] - 0s 73ms/step - loss: 1.7216 - tp: 0.0000e+00 - fp: 0.0000e+00 - tn: 248.0000 - fn: 8.0000 - accuracy: 0.9688 - precision: 0.0000e+00 - recall: 0.0000e+00 - auc: 0.4970 - val_loss: 0.1429 - val_tp: 0.0000e+00 - val_fp: 0.0000e+00 - val_tn: 62.0000 - val_fn: 2.0000 - val_accuracy: 0.9688 - val_precision: 0.0000e+00 - val_recall: 0.0000e+00 - val_auc: 0.5202\n",
            "Epoch 19/100\n",
            "1/1 [==============================] - 0s 83ms/step - loss: 1.3793 - tp: 0.0000e+00 - fp: 0.0000e+00 - tn: 248.0000 - fn: 8.0000 - accuracy: 0.9688 - precision: 0.0000e+00 - recall: 0.0000e+00 - auc: 0.6935 - val_loss: 0.1422 - val_tp: 0.0000e+00 - val_fp: 0.0000e+00 - val_tn: 62.0000 - val_fn: 2.0000 - val_accuracy: 0.9688 - val_precision: 0.0000e+00 - val_recall: 0.0000e+00 - val_auc: 0.5161\n",
            "Epoch 20/100\n",
            "1/1 [==============================] - 0s 69ms/step - loss: 1.4195 - tp: 0.0000e+00 - fp: 0.0000e+00 - tn: 248.0000 - fn: 8.0000 - accuracy: 0.9688 - precision: 0.0000e+00 - recall: 0.0000e+00 - auc: 0.6865 - val_loss: 0.1416 - val_tp: 0.0000e+00 - val_fp: 0.0000e+00 - val_tn: 62.0000 - val_fn: 2.0000 - val_accuracy: 0.9688 - val_precision: 0.0000e+00 - val_recall: 0.0000e+00 - val_auc: 0.5161\n",
            "Epoch 21/100\n",
            "1/1 [==============================] - 0s 62ms/step - loss: 1.6451 - tp: 0.0000e+00 - fp: 1.0000 - tn: 247.0000 - fn: 8.0000 - accuracy: 0.9648 - precision: 0.0000e+00 - recall: 0.0000e+00 - auc: 0.5527 - val_loss: 0.1409 - val_tp: 0.0000e+00 - val_fp: 0.0000e+00 - val_tn: 62.0000 - val_fn: 2.0000 - val_accuracy: 0.9688 - val_precision: 0.0000e+00 - val_recall: 0.0000e+00 - val_auc: 0.5161\n",
            "Restoring model weights from the end of the best epoch.\n",
            "Epoch 00021: early stopping\n"
          ],
          "name": "stdout"
        }
      ]
    },
    {
      "cell_type": "code",
      "metadata": {
        "colab": {
          "base_uri": "https://localhost:8080/",
          "height": 609
        },
        "id": "XAzDc2Vcpjir",
        "outputId": "d74a0364-8608-42b5-b856-773178f2ac7c"
      },
      "source": [
        "plot_metrics(weighted_history)"
      ],
      "execution_count": 234,
      "outputs": [
        {
          "output_type": "display_data",
          "data": {
            "image/png": "[encoded data removed]",
            "text/plain": [
              "<Figure size 864x720 with 4 Axes>"
            ]
          },
          "metadata": {
            "tags": [],
            "needs_background": "light"
          }
        }
      ]
    },
    {
      "cell_type": "code",
      "metadata": {
        "colab": {
          "base_uri": "https://localhost:8080/"
        },
        "id": "h7h20wtwpsU3",
        "outputId": "5310ef77-655d-4d8e-973c-9c4f37e1106f"
      },
      "source": [
        "train_predictions_weighted = weighted_model.predict(train_features, batch_size=BATCH_SIZE)\r\n",
        "test_predictions_weighted = weighted_model.predict(test_features, batch_size=BATCH_SIZE)"
      ],
      "execution_count": 235,
      "outputs": [
        {
          "output_type": "stream",
          "text": [
            "WARNING:tensorflow:7 out of the last 11 calls to <function Model.make_predict_function.<locals>.predict_function at 0x7f4b5802c730> triggered tf.function retracing. Tracing is expensive and the excessive number of tracings could be due to (1) creating @tf.function repeatedly in a loop, (2) passing tensors with different shapes, (3) passing Python objects instead of tensors. For (1), please define your @tf.function outside of the loop. For (2), @tf.function has experimental_relax_shapes=True option that relaxes argument shapes that can avoid unnecessary retracing. For (3), please refer to https://www.tensorflow.org/guide/function#controlling_retracing and https://www.tensorflow.org/api_docs/python/tf/function for  more details.\n"
          ],
          "name": "stdout"
        }
      ]
    },
    {
      "cell_type": "code",
      "metadata": {
        "colab": {
          "base_uri": "https://localhost:8080/",
          "height": 602
        },
        "id": "cnV6tmaBpynr",
        "outputId": "a1d93598-fc8a-428e-a28d-8510ac5e532e"
      },
      "source": [
        "weighted_results = weighted_model.evaluate(test_features, test_labels,\r\n",
        "                                           batch_size=BATCH_SIZE, verbose=0)\r\n",
        "for name, value in zip(weighted_model.metrics_names, weighted_results):\r\n",
        "  print(name, ': ', value)\r\n",
        "print()\r\n",
        "\r\n",
        "plot_cm(test_labels, test_predictions_weighted)"
      ],
      "execution_count": 236,
      "outputs": [
        {
          "output_type": "stream",
          "text": [
            "loss :  0.18052799999713898\n",
            "tp :  0.0\n",
            "fp :  0.0\n",
            "tn :  76.0\n",
            "fn :  4.0\n",
            "accuracy :  0.949999988079071\n",
            "precision :  0.0\n",
            "recall :  0.0\n",
            "auc :  0.7105262875556946\n",
            "\n",
            "Legitimate Transactions Detected (True Negatives):  76\n",
            "Legitimate Transactions Incorrectly Detected (False Positives):  0\n",
            "Fraudulent Transactions Missed (False Negatives):  4\n",
            "Fraudulent Transactions Detected (True Positives):  0\n",
            "Total Fraudulent Transactions:  4\n"
          ],
          "name": "stdout"
        },
        {
          "output_type": "display_data",
          "data": {
            "image/png": "[encoded data removed]",
            "text/plain": [
              "<Figure size 360x360 with 2 Axes>"
            ]
          },
          "metadata": {
            "tags": [],
            "needs_background": "light"
          }
        }
      ]
    },
    {
      "cell_type": "code",
      "metadata": {
        "colab": {
          "base_uri": "https://localhost:8080/",
          "height": 623
        },
        "id": "9oFSk6wLp0li",
        "outputId": "ea6fda26-498e-405c-da2b-80a64f814056"
      },
      "source": [
        "plot_roc(\"Train Baseline\", train_labels, train_predictions_baseline, color=colors[0])\r\n",
        "plot_roc(\"Test Baseline\", test_labels, test_predictions_baseline, color=colors[0], linestyle='--')\r\n",
        "\r\n",
        "plot_roc(\"Train Weighted\", train_labels, train_predictions_weighted, color=colors[1])\r\n",
        "plot_roc(\"Test Weighted\", test_labels, test_predictions_weighted, color=colors[1], linestyle='--')\r\n",
        "\r\n",
        "\r\n",
        "plt.legend(loc='lower right')"
      ],
      "execution_count": 237,
      "outputs": [
        {
          "output_type": "execute_result",
          "data": {
            "text/plain": [
              "<matplotlib.legend.Legend at 0x7f4b4fea7da0>"
            ]
          },
          "metadata": {
            "tags": []
          },
          "execution_count": 237
        },
        {
          "output_type": "display_data",
          "data": {
            "image/png": "[encoded data removed]",
            "text/plain": [
              "<Figure size 864x720 with 1 Axes>"
            ]
          },
          "metadata": {
            "tags": [],
            "needs_background": "light"
          }
        }
      ]
    },
    {
      "cell_type": "code",
      "metadata": {
        "id": "9GLxQN0ep83l"
      },
      "source": [
        "pos_features = train_features[bool_train_labels]\r\n",
        "neg_features = train_features[~bool_train_labels]\r\n",
        "\r\n",
        "pos_labels = train_labels[bool_train_labels]\r\n",
        "neg_labels = train_labels[~bool_train_labels]"
      ],
      "execution_count": 238,
      "outputs": []
    },
    {
      "cell_type": "code",
      "metadata": {
        "colab": {
          "base_uri": "https://localhost:8080/"
        },
        "id": "r3yjq8JuqAb0",
        "outputId": "4b78b390-eaef-46d8-d2a4-7971154d4838"
      },
      "source": [
        "ids = np.arange(len(pos_features))\r\n",
        "choices = np.random.choice(ids, len(neg_features))\r\n",
        "\r\n",
        "res_pos_features = pos_features[choices]\r\n",
        "res_pos_labels = pos_labels[choices]\r\n",
        "\r\n",
        "res_pos_features.shape"
      ],
      "execution_count": 239,
      "outputs": [
        {
          "output_type": "execute_result",
          "data": {
            "text/plain": [
              "(248, 21)"
            ]
          },
          "metadata": {
            "tags": []
          },
          "execution_count": 239
        }
      ]
    },
    {
      "cell_type": "code",
      "metadata": {
        "colab": {
          "base_uri": "https://localhost:8080/"
        },
        "id": "bngwhzm_qCmG",
        "outputId": "a9b9eb76-f151-4ff7-9559-ec51a83d87a9"
      },
      "source": [
        "resampled_features = np.concatenate([res_pos_features, neg_features], axis=0)\r\n",
        "resampled_labels = np.concatenate([res_pos_labels, neg_labels], axis=0)\r\n",
        "\r\n",
        "order = np.arange(len(resampled_labels))\r\n",
        "np.random.shuffle(order)\r\n",
        "resampled_features = resampled_features[order]\r\n",
        "resampled_labels = resampled_labels[order]\r\n",
        "\r\n",
        "resampled_features.shape"
      ],
      "execution_count": 240,
      "outputs": [
        {
          "output_type": "execute_result",
          "data": {
            "text/plain": [
              "(496, 21)"
            ]
          },
          "metadata": {
            "tags": []
          },
          "execution_count": 240
        }
      ]
    },
    {
      "cell_type": "code",
      "metadata": {
        "id": "8X_A5RmTqFBB"
      },
      "source": [
        "BUFFER_SIZE = 100000\r\n",
        "\r\n",
        "def make_ds(features, labels):\r\n",
        "  ds = tf.data.Dataset.from_tensor_slices((features, labels))#.cache()\r\n",
        "  ds = ds.shuffle(BUFFER_SIZE).repeat()\r\n",
        "  return ds\r\n",
        "\r\n",
        "pos_ds = make_ds(pos_features, pos_labels)\r\n",
        "neg_ds = make_ds(neg_features, neg_labels)"
      ],
      "execution_count": 241,
      "outputs": []
    },
    {
      "cell_type": "code",
      "metadata": {
        "colab": {
          "base_uri": "https://localhost:8080/"
        },
        "id": "rxbDDjjlqKIq",
        "outputId": "01ce96ac-a28f-4732-e770-5fc943d3eec3"
      },
      "source": [
        "for features, label in pos_ds.take(1):\r\n",
        "  print(\"Features:\\n\", features.numpy())\r\n",
        "  print()\r\n",
        "  print(\"Label: \", label.numpy())"
      ],
      "execution_count": 242,
      "outputs": [
        {
          "output_type": "stream",
          "text": [
            "Features:\n",
            " [-0.71768018  0.1124683  -0.21143143  0.47215583 -0.82557481 -1.94335641\n",
            "  0.99221778  0.12552418  1.81533899 -0.8138413  -0.37118429 -0.19424203\n",
            "  0.         -0.25819889  0.         -0.70425136 -0.74118934 -0.8743395\n",
            "  0.94678588  4.2366822   1.30639357]\n",
            "\n",
            "Label:  1\n"
          ],
          "name": "stdout"
        }
      ]
    },
    {
      "cell_type": "code",
      "metadata": {
        "id": "k7LSNJNqqMWe"
      },
      "source": [
        "resampled_ds = tf.data.experimental.sample_from_datasets([pos_ds, neg_ds], weights=[0.5, 0.5])\r\n",
        "resampled_ds = resampled_ds.batch(BATCH_SIZE).prefetch(2)"
      ],
      "execution_count": 243,
      "outputs": []
    },
    {
      "cell_type": "code",
      "metadata": {
        "colab": {
          "base_uri": "https://localhost:8080/"
        },
        "id": "K5j3Vq4vqPJM",
        "outputId": "608d487a-cbf0-465a-a2f9-9481c6c1afa7"
      },
      "source": [
        "for features, label in resampled_ds.take(1):\r\n",
        "  print(label.numpy().mean())"
      ],
      "execution_count": 244,
      "outputs": [
        {
          "output_type": "stream",
          "text": [
            "0.51513671875\n"
          ],
          "name": "stdout"
        }
      ]
    },
    {
      "cell_type": "code",
      "metadata": {
        "colab": {
          "base_uri": "https://localhost:8080/"
        },
        "id": "CuPymCb4qROo",
        "outputId": "f29b41b0-db47-48db-aefc-332e55fe5994"
      },
      "source": [
        "resampled_steps_per_epoch = np.ceil(2.0*neg/BATCH_SIZE)\r\n",
        "resampled_steps_per_epoch"
      ],
      "execution_count": 245,
      "outputs": [
        {
          "output_type": "execute_result",
          "data": {
            "text/plain": [
              "1.0"
            ]
          },
          "metadata": {
            "tags": []
          },
          "execution_count": 245
        }
      ]
    },
    {
      "cell_type": "code",
      "metadata": {
        "colab": {
          "base_uri": "https://localhost:8080/"
        },
        "id": "I69CCVCKqTvI",
        "outputId": "ce9028bb-0ec4-41d1-f3a2-498b6f4ba4bc"
      },
      "source": [
        "resampled_model = make_model()\r\n",
        "resampled_model.load_weights(initial_weights)\r\n",
        "\r\n",
        "# Reset the bias to zero, since this dataset is balanced.\r\n",
        "output_layer = resampled_model.layers[-1] \r\n",
        "output_layer.bias.assign([0])\r\n",
        "\r\n",
        "val_ds = tf.data.Dataset.from_tensor_slices((val_features, val_labels)).cache()\r\n",
        "val_ds = val_ds.batch(BATCH_SIZE).prefetch(2) \r\n",
        "\r\n",
        "resampled_history = resampled_model.fit(\r\n",
        "    resampled_ds,\r\n",
        "    epochs=EPOCHS,\r\n",
        "    steps_per_epoch=resampled_steps_per_epoch,\r\n",
        "    callbacks=[early_stopping],\r\n",
        "    validation_data=val_ds)"
      ],
      "execution_count": 246,
      "outputs": [
        {
          "output_type": "stream",
          "text": [
            "Epoch 1/100\n",
            "1/1 [==============================] - 4s 4s/step - loss: 1.0265 - tp: 243.0000 - fp: 310.0000 - tn: 815.0000 - fn: 760.0000 - accuracy: 0.4972 - precision: 0.4394 - recall: 0.2423 - auc: 0.4413 - val_loss: 0.4892 - val_tp: 1.0000 - val_fp: 5.0000 - val_tn: 57.0000 - val_fn: 1.0000 - val_accuracy: 0.9062 - val_precision: 0.1667 - val_recall: 0.5000 - val_auc: 0.4677\n",
            "Epoch 2/100\n",
            "1/1 [==============================] - 0s 69ms/step - loss: 1.0404 - tp: 238.0000 - fp: 309.0000 - tn: 703.0000 - fn: 798.0000 - accuracy: 0.4595 - precision: 0.4351 - recall: 0.2297 - auc: 0.4086 - val_loss: 0.4905 - val_tp: 1.0000 - val_fp: 5.0000 - val_tn: 57.0000 - val_fn: 1.0000 - val_accuracy: 0.9062 - val_precision: 0.1667 - val_recall: 0.5000 - val_auc: 0.4677\n",
            "Epoch 3/100\n",
            "1/1 [==============================] - 0s 66ms/step - loss: 0.9654 - tp: 288.0000 - fp: 317.0000 - tn: 707.0000 - fn: 736.0000 - accuracy: 0.4858 - precision: 0.4760 - recall: 0.2812 - auc: 0.4370 - val_loss: 0.4918 - val_tp: 1.0000 - val_fp: 5.0000 - val_tn: 57.0000 - val_fn: 1.0000 - val_accuracy: 0.9062 - val_precision: 0.1667 - val_recall: 0.5000 - val_auc: 0.4798\n",
            "Epoch 4/100\n",
            "1/1 [==============================] - 0s 80ms/step - loss: 0.9978 - tp: 287.0000 - fp: 308.0000 - tn: 686.0000 - fn: 767.0000 - accuracy: 0.4751 - precision: 0.4824 - recall: 0.2723 - auc: 0.4296 - val_loss: 0.4931 - val_tp: 1.0000 - val_fp: 5.0000 - val_tn: 57.0000 - val_fn: 1.0000 - val_accuracy: 0.9062 - val_precision: 0.1667 - val_recall: 0.5000 - val_auc: 0.4839\n",
            "Epoch 5/100\n",
            "1/1 [==============================] - 0s 70ms/step - loss: 0.9515 - tp: 273.0000 - fp: 315.0000 - tn: 743.0000 - fn: 717.0000 - accuracy: 0.4961 - precision: 0.4643 - recall: 0.2758 - auc: 0.4389 - val_loss: 0.4944 - val_tp: 1.0000 - val_fp: 5.0000 - val_tn: 57.0000 - val_fn: 1.0000 - val_accuracy: 0.9062 - val_precision: 0.1667 - val_recall: 0.5000 - val_auc: 0.4839\n",
            "Epoch 6/100\n",
            "1/1 [==============================] - 0s 72ms/step - loss: 0.9740 - tp: 291.0000 - fp: 302.0000 - tn: 706.0000 - fn: 749.0000 - accuracy: 0.4868 - precision: 0.4907 - recall: 0.2798 - auc: 0.4385 - val_loss: 0.4956 - val_tp: 1.0000 - val_fp: 5.0000 - val_tn: 57.0000 - val_fn: 1.0000 - val_accuracy: 0.9062 - val_precision: 0.1667 - val_recall: 0.5000 - val_auc: 0.4839\n",
            "Epoch 7/100\n",
            "1/1 [==============================] - 0s 71ms/step - loss: 0.9216 - tp: 299.0000 - fp: 348.0000 - tn: 719.0000 - fn: 682.0000 - accuracy: 0.4971 - precision: 0.4621 - recall: 0.3048 - auc: 0.4587 - val_loss: 0.4968 - val_tp: 1.0000 - val_fp: 5.0000 - val_tn: 57.0000 - val_fn: 1.0000 - val_accuracy: 0.9062 - val_precision: 0.1667 - val_recall: 0.5000 - val_auc: 0.4839\n",
            "Epoch 8/100\n",
            "1/1 [==============================] - 0s 66ms/step - loss: 0.9496 - tp: 311.0000 - fp: 302.0000 - tn: 698.0000 - fn: 737.0000 - accuracy: 0.4927 - precision: 0.5073 - recall: 0.2968 - auc: 0.4584 - val_loss: 0.4981 - val_tp: 1.0000 - val_fp: 6.0000 - val_tn: 56.0000 - val_fn: 1.0000 - val_accuracy: 0.8906 - val_precision: 0.1429 - val_recall: 0.5000 - val_auc: 0.4839\n",
            "Epoch 9/100\n",
            "1/1 [==============================] - 0s 68ms/step - loss: 0.9056 - tp: 302.0000 - fp: 351.0000 - tn: 721.0000 - fn: 674.0000 - accuracy: 0.4995 - precision: 0.4625 - recall: 0.3094 - auc: 0.4628 - val_loss: 0.4993 - val_tp: 1.0000 - val_fp: 6.0000 - val_tn: 56.0000 - val_fn: 1.0000 - val_accuracy: 0.8906 - val_precision: 0.1429 - val_recall: 0.5000 - val_auc: 0.4879\n",
            "Epoch 10/100\n",
            "1/1 [==============================] - 0s 65ms/step - loss: 0.8844 - tp: 344.0000 - fp: 332.0000 - tn: 713.0000 - fn: 659.0000 - accuracy: 0.5161 - precision: 0.5089 - recall: 0.3430 - auc: 0.4949 - val_loss: 0.5005 - val_tp: 1.0000 - val_fp: 6.0000 - val_tn: 56.0000 - val_fn: 1.0000 - val_accuracy: 0.8906 - val_precision: 0.1429 - val_recall: 0.5000 - val_auc: 0.5040\n",
            "Epoch 11/100\n",
            "1/1 [==============================] - 0s 73ms/step - loss: 0.8555 - tp: 359.0000 - fp: 345.0000 - tn: 715.0000 - fn: 629.0000 - accuracy: 0.5244 - precision: 0.5099 - recall: 0.3634 - auc: 0.5062 - val_loss: 0.5017 - val_tp: 1.0000 - val_fp: 7.0000 - val_tn: 55.0000 - val_fn: 1.0000 - val_accuracy: 0.8750 - val_precision: 0.1250 - val_recall: 0.5000 - val_auc: 0.5081\n",
            "Epoch 12/100\n",
            "1/1 [==============================] - 0s 70ms/step - loss: 0.8611 - tp: 404.0000 - fp: 320.0000 - tn: 683.0000 - fn: 641.0000 - accuracy: 0.5308 - precision: 0.5580 - recall: 0.3866 - auc: 0.5219 - val_loss: 0.5029 - val_tp: 1.0000 - val_fp: 7.0000 - val_tn: 55.0000 - val_fn: 1.0000 - val_accuracy: 0.8750 - val_precision: 0.1250 - val_recall: 0.5000 - val_auc: 0.5081\n",
            "Epoch 13/100\n",
            "1/1 [==============================] - 0s 68ms/step - loss: 0.8557 - tp: 379.0000 - fp: 346.0000 - tn: 663.0000 - fn: 660.0000 - accuracy: 0.5088 - precision: 0.5228 - recall: 0.3648 - auc: 0.5152 - val_loss: 0.5041 - val_tp: 1.0000 - val_fp: 7.0000 - val_tn: 55.0000 - val_fn: 1.0000 - val_accuracy: 0.8750 - val_precision: 0.1250 - val_recall: 0.5000 - val_auc: 0.5081\n",
            "Epoch 14/100\n",
            "1/1 [==============================] - 0s 71ms/step - loss: 0.8273 - tp: 392.0000 - fp: 357.0000 - tn: 677.0000 - fn: 622.0000 - accuracy: 0.5220 - precision: 0.5234 - recall: 0.3866 - auc: 0.5244 - val_loss: 0.5053 - val_tp: 1.0000 - val_fp: 7.0000 - val_tn: 55.0000 - val_fn: 1.0000 - val_accuracy: 0.8750 - val_precision: 0.1250 - val_recall: 0.5000 - val_auc: 0.5081\n",
            "Epoch 15/100\n",
            "1/1 [==============================] - 0s 68ms/step - loss: 0.8041 - tp: 399.0000 - fp: 350.0000 - tn: 694.0000 - fn: 605.0000 - accuracy: 0.5337 - precision: 0.5327 - recall: 0.3974 - auc: 0.5465 - val_loss: 0.5065 - val_tp: 1.0000 - val_fp: 7.0000 - val_tn: 55.0000 - val_fn: 1.0000 - val_accuracy: 0.8750 - val_precision: 0.1250 - val_recall: 0.5000 - val_auc: 0.5081\n",
            "Epoch 16/100\n",
            "1/1 [==============================] - 0s 71ms/step - loss: 0.8052 - tp: 417.0000 - fp: 350.0000 - tn: 714.0000 - fn: 567.0000 - accuracy: 0.5522 - precision: 0.5437 - recall: 0.4238 - auc: 0.5471 - val_loss: 0.5076 - val_tp: 1.0000 - val_fp: 7.0000 - val_tn: 55.0000 - val_fn: 1.0000 - val_accuracy: 0.8750 - val_precision: 0.1250 - val_recall: 0.5000 - val_auc: 0.5081\n",
            "Epoch 17/100\n",
            "1/1 [==============================] - 0s 86ms/step - loss: 0.7897 - tp: 415.0000 - fp: 347.0000 - tn: 724.0000 - fn: 562.0000 - accuracy: 0.5562 - precision: 0.5446 - recall: 0.4248 - auc: 0.5608 - val_loss: 0.5087 - val_tp: 1.0000 - val_fp: 7.0000 - val_tn: 55.0000 - val_fn: 1.0000 - val_accuracy: 0.8750 - val_precision: 0.1250 - val_recall: 0.5000 - val_auc: 0.5081\n",
            "Epoch 18/100\n",
            "1/1 [==============================] - 0s 73ms/step - loss: 0.7920 - tp: 471.0000 - fp: 350.0000 - tn: 663.0000 - fn: 564.0000 - accuracy: 0.5537 - precision: 0.5737 - recall: 0.4551 - auc: 0.5681 - val_loss: 0.5098 - val_tp: 1.0000 - val_fp: 7.0000 - val_tn: 55.0000 - val_fn: 1.0000 - val_accuracy: 0.8750 - val_precision: 0.1250 - val_recall: 0.5000 - val_auc: 0.5081\n",
            "Epoch 19/100\n",
            "1/1 [==============================] - 0s 73ms/step - loss: 0.7790 - tp: 468.0000 - fp: 343.0000 - tn: 670.0000 - fn: 567.0000 - accuracy: 0.5557 - precision: 0.5771 - recall: 0.4522 - auc: 0.5743 - val_loss: 0.5108 - val_tp: 1.0000 - val_fp: 7.0000 - val_tn: 55.0000 - val_fn: 1.0000 - val_accuracy: 0.8750 - val_precision: 0.1250 - val_recall: 0.5000 - val_auc: 0.5081\n",
            "Epoch 20/100\n",
            "1/1 [==============================] - 0s 74ms/step - loss: 0.7938 - tp: 467.0000 - fp: 335.0000 - tn: 691.0000 - fn: 555.0000 - accuracy: 0.5654 - precision: 0.5823 - recall: 0.4569 - auc: 0.5644 - val_loss: 0.5119 - val_tp: 1.0000 - val_fp: 8.0000 - val_tn: 54.0000 - val_fn: 1.0000 - val_accuracy: 0.8594 - val_precision: 0.1111 - val_recall: 0.5000 - val_auc: 0.5121\n",
            "Epoch 21/100\n",
            "1/1 [==============================] - 0s 71ms/step - loss: 0.7656 - tp: 466.0000 - fp: 355.0000 - tn: 694.0000 - fn: 533.0000 - accuracy: 0.5664 - precision: 0.5676 - recall: 0.4665 - auc: 0.5842 - val_loss: 0.5129 - val_tp: 1.0000 - val_fp: 8.0000 - val_tn: 54.0000 - val_fn: 1.0000 - val_accuracy: 0.8594 - val_precision: 0.1111 - val_recall: 0.5000 - val_auc: 0.5121\n",
            "Epoch 22/100\n",
            "1/1 [==============================] - 0s 72ms/step - loss: 0.7601 - tp: 492.0000 - fp: 318.0000 - tn: 686.0000 - fn: 552.0000 - accuracy: 0.5752 - precision: 0.6074 - recall: 0.4713 - auc: 0.5975 - val_loss: 0.5139 - val_tp: 1.0000 - val_fp: 8.0000 - val_tn: 54.0000 - val_fn: 1.0000 - val_accuracy: 0.8594 - val_precision: 0.1111 - val_recall: 0.5000 - val_auc: 0.5161\n",
            "Epoch 23/100\n",
            "1/1 [==============================] - 0s 71ms/step - loss: 0.7426 - tp: 514.0000 - fp: 345.0000 - tn: 700.0000 - fn: 489.0000 - accuracy: 0.5928 - precision: 0.5984 - recall: 0.5125 - auc: 0.6077 - val_loss: 0.5149 - val_tp: 1.0000 - val_fp: 8.0000 - val_tn: 54.0000 - val_fn: 1.0000 - val_accuracy: 0.8594 - val_precision: 0.1111 - val_recall: 0.5000 - val_auc: 0.5161\n",
            "Epoch 24/100\n",
            "1/1 [==============================] - 0s 75ms/step - loss: 0.7218 - tp: 543.0000 - fp: 356.0000 - tn: 656.0000 - fn: 493.0000 - accuracy: 0.5854 - precision: 0.6040 - recall: 0.5241 - auc: 0.6231 - val_loss: 0.5159 - val_tp: 1.0000 - val_fp: 8.0000 - val_tn: 54.0000 - val_fn: 1.0000 - val_accuracy: 0.8594 - val_precision: 0.1111 - val_recall: 0.5000 - val_auc: 0.5202\n",
            "Epoch 25/100\n",
            "1/1 [==============================] - 0s 72ms/step - loss: 0.7237 - tp: 553.0000 - fp: 328.0000 - tn: 669.0000 - fn: 498.0000 - accuracy: 0.5967 - precision: 0.6277 - recall: 0.5262 - auc: 0.6261 - val_loss: 0.5168 - val_tp: 1.0000 - val_fp: 8.0000 - val_tn: 54.0000 - val_fn: 1.0000 - val_accuracy: 0.8594 - val_precision: 0.1111 - val_recall: 0.5000 - val_auc: 0.5282\n",
            "Epoch 26/100\n",
            "1/1 [==============================] - 0s 68ms/step - loss: 0.7104 - tp: 579.0000 - fp: 352.0000 - tn: 649.0000 - fn: 468.0000 - accuracy: 0.5996 - precision: 0.6219 - recall: 0.5530 - auc: 0.6353 - val_loss: 0.5178 - val_tp: 1.0000 - val_fp: 8.0000 - val_tn: 54.0000 - val_fn: 1.0000 - val_accuracy: 0.8594 - val_precision: 0.1111 - val_recall: 0.5000 - val_auc: 0.5282\n",
            "Epoch 27/100\n",
            "1/1 [==============================] - 0s 68ms/step - loss: 0.7108 - tp: 545.0000 - fp: 371.0000 - tn: 659.0000 - fn: 473.0000 - accuracy: 0.5879 - precision: 0.5950 - recall: 0.5354 - auc: 0.6364 - val_loss: 0.5187 - val_tp: 1.0000 - val_fp: 8.0000 - val_tn: 54.0000 - val_fn: 1.0000 - val_accuracy: 0.8594 - val_precision: 0.1111 - val_recall: 0.5000 - val_auc: 0.5323\n",
            "Epoch 28/100\n",
            "1/1 [==============================] - 0s 80ms/step - loss: 0.6885 - tp: 576.0000 - fp: 367.0000 - tn: 672.0000 - fn: 433.0000 - accuracy: 0.6094 - precision: 0.6108 - recall: 0.5709 - auc: 0.6551 - val_loss: 0.5195 - val_tp: 1.0000 - val_fp: 9.0000 - val_tn: 53.0000 - val_fn: 1.0000 - val_accuracy: 0.8438 - val_precision: 0.1000 - val_recall: 0.5000 - val_auc: 0.5323\n",
            "Epoch 29/100\n",
            "1/1 [==============================] - 0s 78ms/step - loss: 0.6811 - tp: 608.0000 - fp: 366.0000 - tn: 659.0000 - fn: 415.0000 - accuracy: 0.6187 - precision: 0.6242 - recall: 0.5943 - auc: 0.6666 - val_loss: 0.5202 - val_tp: 1.0000 - val_fp: 9.0000 - val_tn: 53.0000 - val_fn: 1.0000 - val_accuracy: 0.8438 - val_precision: 0.1000 - val_recall: 0.5000 - val_auc: 0.5323\n",
            "Epoch 30/100\n",
            "1/1 [==============================] - 0s 69ms/step - loss: 0.6658 - tp: 595.0000 - fp: 365.0000 - tn: 672.0000 - fn: 416.0000 - accuracy: 0.6187 - precision: 0.6198 - recall: 0.5885 - auc: 0.6766 - val_loss: 0.5209 - val_tp: 1.0000 - val_fp: 9.0000 - val_tn: 53.0000 - val_fn: 1.0000 - val_accuracy: 0.8438 - val_precision: 0.1000 - val_recall: 0.5000 - val_auc: 0.5323\n",
            "Epoch 31/100\n",
            "1/1 [==============================] - 0s 79ms/step - loss: 0.6623 - tp: 635.0000 - fp: 353.0000 - tn: 642.0000 - fn: 418.0000 - accuracy: 0.6235 - precision: 0.6427 - recall: 0.6030 - auc: 0.6784 - val_loss: 0.5216 - val_tp: 1.0000 - val_fp: 9.0000 - val_tn: 53.0000 - val_fn: 1.0000 - val_accuracy: 0.8438 - val_precision: 0.1000 - val_recall: 0.5000 - val_auc: 0.5363\n",
            "Epoch 32/100\n",
            "1/1 [==============================] - 0s 66ms/step - loss: 0.6623 - tp: 610.0000 - fp: 362.0000 - tn: 663.0000 - fn: 413.0000 - accuracy: 0.6216 - precision: 0.6276 - recall: 0.5963 - auc: 0.6766 - val_loss: 0.5222 - val_tp: 1.0000 - val_fp: 9.0000 - val_tn: 53.0000 - val_fn: 1.0000 - val_accuracy: 0.8438 - val_precision: 0.1000 - val_recall: 0.5000 - val_auc: 0.5403\n",
            "Epoch 33/100\n",
            "1/1 [==============================] - 0s 65ms/step - loss: 0.6464 - tp: 628.0000 - fp: 353.0000 - tn: 656.0000 - fn: 411.0000 - accuracy: 0.6270 - precision: 0.6402 - recall: 0.6044 - auc: 0.6904 - val_loss: 0.5228 - val_tp: 1.0000 - val_fp: 9.0000 - val_tn: 53.0000 - val_fn: 1.0000 - val_accuracy: 0.8438 - val_precision: 0.1000 - val_recall: 0.5000 - val_auc: 0.5403\n",
            "Epoch 34/100\n",
            "1/1 [==============================] - 0s 67ms/step - loss: 0.6321 - tp: 658.0000 - fp: 343.0000 - tn: 658.0000 - fn: 389.0000 - accuracy: 0.6426 - precision: 0.6573 - recall: 0.6285 - auc: 0.7078 - val_loss: 0.5234 - val_tp: 1.0000 - val_fp: 9.0000 - val_tn: 53.0000 - val_fn: 1.0000 - val_accuracy: 0.8438 - val_precision: 0.1000 - val_recall: 0.5000 - val_auc: 0.5403\n",
            "Epoch 35/100\n",
            "1/1 [==============================] - 0s 69ms/step - loss: 0.6538 - tp: 652.0000 - fp: 358.0000 - tn: 646.0000 - fn: 392.0000 - accuracy: 0.6338 - precision: 0.6455 - recall: 0.6245 - auc: 0.6891 - val_loss: 0.5240 - val_tp: 1.0000 - val_fp: 9.0000 - val_tn: 53.0000 - val_fn: 1.0000 - val_accuracy: 0.8438 - val_precision: 0.1000 - val_recall: 0.5000 - val_auc: 0.5403\n",
            "Epoch 36/100\n",
            "1/1 [==============================] - 0s 360ms/step - loss: 0.6506 - tp: 637.0000 - fp: 379.0000 - tn: 640.0000 - fn: 392.0000 - accuracy: 0.6235 - precision: 0.6270 - recall: 0.6190 - auc: 0.6883 - val_loss: 0.5245 - val_tp: 1.0000 - val_fp: 9.0000 - val_tn: 53.0000 - val_fn: 1.0000 - val_accuracy: 0.8438 - val_precision: 0.1000 - val_recall: 0.5000 - val_auc: 0.5403\n",
            "Epoch 37/100\n",
            "1/1 [==============================] - 0s 73ms/step - loss: 0.6359 - tp: 685.0000 - fp: 368.0000 - tn: 621.0000 - fn: 374.0000 - accuracy: 0.6377 - precision: 0.6505 - recall: 0.6468 - auc: 0.7067 - val_loss: 0.5250 - val_tp: 1.0000 - val_fp: 9.0000 - val_tn: 53.0000 - val_fn: 1.0000 - val_accuracy: 0.8438 - val_precision: 0.1000 - val_recall: 0.5000 - val_auc: 0.5403\n",
            "Epoch 38/100\n",
            "1/1 [==============================] - 0s 73ms/step - loss: 0.6094 - tp: 689.0000 - fp: 382.0000 - tn: 653.0000 - fn: 324.0000 - accuracy: 0.6553 - precision: 0.6433 - recall: 0.6802 - auc: 0.7306 - val_loss: 0.5253 - val_tp: 1.0000 - val_fp: 10.0000 - val_tn: 52.0000 - val_fn: 1.0000 - val_accuracy: 0.8281 - val_precision: 0.0909 - val_recall: 0.5000 - val_auc: 0.5403\n",
            "Epoch 39/100\n",
            "1/1 [==============================] - 0s 76ms/step - loss: 0.6164 - tp: 707.0000 - fp: 365.0000 - tn: 640.0000 - fn: 336.0000 - accuracy: 0.6577 - precision: 0.6595 - recall: 0.6779 - auc: 0.7265 - val_loss: 0.5256 - val_tp: 1.0000 - val_fp: 9.0000 - val_tn: 53.0000 - val_fn: 1.0000 - val_accuracy: 0.8438 - val_precision: 0.1000 - val_recall: 0.5000 - val_auc: 0.5444\n",
            "Epoch 40/100\n",
            "1/1 [==============================] - 0s 63ms/step - loss: 0.6050 - tp: 669.0000 - fp: 372.0000 - tn: 676.0000 - fn: 331.0000 - accuracy: 0.6567 - precision: 0.6427 - recall: 0.6690 - auc: 0.7322 - val_loss: 0.5258 - val_tp: 1.0000 - val_fp: 9.0000 - val_tn: 53.0000 - val_fn: 1.0000 - val_accuracy: 0.8438 - val_precision: 0.1000 - val_recall: 0.5000 - val_auc: 0.5444\n",
            "Epoch 41/100\n",
            "1/1 [==============================] - 0s 64ms/step - loss: 0.6040 - tp: 737.0000 - fp: 366.0000 - tn: 628.0000 - fn: 317.0000 - accuracy: 0.6665 - precision: 0.6682 - recall: 0.6992 - auc: 0.7385 - val_loss: 0.5260 - val_tp: 1.0000 - val_fp: 9.0000 - val_tn: 53.0000 - val_fn: 1.0000 - val_accuracy: 0.8438 - val_precision: 0.1000 - val_recall: 0.5000 - val_auc: 0.5484\n",
            "Epoch 42/100\n",
            "1/1 [==============================] - 0s 62ms/step - loss: 0.5966 - tp: 721.0000 - fp: 369.0000 - tn: 653.0000 - fn: 305.0000 - accuracy: 0.6709 - precision: 0.6615 - recall: 0.7027 - auc: 0.7458 - val_loss: 0.5260 - val_tp: 1.0000 - val_fp: 9.0000 - val_tn: 53.0000 - val_fn: 1.0000 - val_accuracy: 0.8438 - val_precision: 0.1000 - val_recall: 0.5000 - val_auc: 0.5484\n",
            "Epoch 43/100\n",
            "1/1 [==============================] - 0s 66ms/step - loss: 0.5779 - tp: 758.0000 - fp: 336.0000 - tn: 641.0000 - fn: 313.0000 - accuracy: 0.6831 - precision: 0.6929 - recall: 0.7077 - auc: 0.7621 - val_loss: 0.5260 - val_tp: 1.0000 - val_fp: 9.0000 - val_tn: 53.0000 - val_fn: 1.0000 - val_accuracy: 0.8438 - val_precision: 0.1000 - val_recall: 0.5000 - val_auc: 0.5484\n",
            "Epoch 44/100\n",
            "1/1 [==============================] - 0s 70ms/step - loss: 0.5882 - tp: 694.0000 - fp: 380.0000 - tn: 664.0000 - fn: 310.0000 - accuracy: 0.6631 - precision: 0.6462 - recall: 0.6912 - auc: 0.7500 - val_loss: 0.5260 - val_tp: 1.0000 - val_fp: 9.0000 - val_tn: 53.0000 - val_fn: 1.0000 - val_accuracy: 0.8438 - val_precision: 0.1000 - val_recall: 0.5000 - val_auc: 0.5484\n",
            "Epoch 45/100\n",
            "1/1 [==============================] - 0s 68ms/step - loss: 0.5829 - tp: 707.0000 - fp: 378.0000 - tn: 664.0000 - fn: 299.0000 - accuracy: 0.6694 - precision: 0.6516 - recall: 0.7028 - auc: 0.7548 - val_loss: 0.5258 - val_tp: 1.0000 - val_fp: 9.0000 - val_tn: 53.0000 - val_fn: 1.0000 - val_accuracy: 0.8438 - val_precision: 0.1000 - val_recall: 0.5000 - val_auc: 0.5484\n",
            "Epoch 46/100\n",
            "1/1 [==============================] - 0s 67ms/step - loss: 0.5687 - tp: 758.0000 - fp: 354.0000 - tn: 649.0000 - fn: 287.0000 - accuracy: 0.6870 - precision: 0.6817 - recall: 0.7254 - auc: 0.7726 - val_loss: 0.5256 - val_tp: 1.0000 - val_fp: 9.0000 - val_tn: 53.0000 - val_fn: 1.0000 - val_accuracy: 0.8438 - val_precision: 0.1000 - val_recall: 0.5000 - val_auc: 0.5484\n",
            "Epoch 47/100\n",
            "1/1 [==============================] - 0s 76ms/step - loss: 0.5589 - tp: 728.0000 - fp: 355.0000 - tn: 684.0000 - fn: 281.0000 - accuracy: 0.6895 - precision: 0.6722 - recall: 0.7215 - auc: 0.7769 - val_loss: 0.5254 - val_tp: 1.0000 - val_fp: 9.0000 - val_tn: 53.0000 - val_fn: 1.0000 - val_accuracy: 0.8438 - val_precision: 0.1000 - val_recall: 0.5000 - val_auc: 0.5484\n",
            "Epoch 48/100\n",
            "1/1 [==============================] - 0s 68ms/step - loss: 0.5804 - tp: 718.0000 - fp: 380.0000 - tn: 666.0000 - fn: 284.0000 - accuracy: 0.6758 - precision: 0.6539 - recall: 0.7166 - auc: 0.7630 - val_loss: 0.5250 - val_tp: 1.0000 - val_fp: 9.0000 - val_tn: 53.0000 - val_fn: 1.0000 - val_accuracy: 0.8438 - val_precision: 0.1000 - val_recall: 0.5000 - val_auc: 0.5484\n",
            "Epoch 49/100\n",
            "1/1 [==============================] - 0s 71ms/step - loss: 0.5597 - tp: 770.0000 - fp: 348.0000 - tn: 663.0000 - fn: 267.0000 - accuracy: 0.6997 - precision: 0.6887 - recall: 0.7425 - auc: 0.7824 - val_loss: 0.5246 - val_tp: 1.0000 - val_fp: 9.0000 - val_tn: 53.0000 - val_fn: 1.0000 - val_accuracy: 0.8438 - val_precision: 0.1000 - val_recall: 0.5000 - val_auc: 0.5524\n",
            "Epoch 50/100\n",
            "1/1 [==============================] - 0s 74ms/step - loss: 0.5413 - tp: 798.0000 - fp: 371.0000 - tn: 652.0000 - fn: 227.0000 - accuracy: 0.7080 - precision: 0.6826 - recall: 0.7785 - auc: 0.8041 - val_loss: 0.5241 - val_tp: 1.0000 - val_fp: 9.0000 - val_tn: 53.0000 - val_fn: 1.0000 - val_accuracy: 0.8438 - val_precision: 0.1000 - val_recall: 0.5000 - val_auc: 0.5565\n",
            "Epoch 51/100\n",
            "1/1 [==============================] - 0s 89ms/step - loss: 0.5546 - tp: 741.0000 - fp: 371.0000 - tn: 681.0000 - fn: 255.0000 - accuracy: 0.6943 - precision: 0.6664 - recall: 0.7440 - auc: 0.7880 - val_loss: 0.5236 - val_tp: 1.0000 - val_fp: 9.0000 - val_tn: 53.0000 - val_fn: 1.0000 - val_accuracy: 0.8438 - val_precision: 0.1000 - val_recall: 0.5000 - val_auc: 0.5565\n",
            "Epoch 52/100\n",
            "1/1 [==============================] - 0s 87ms/step - loss: 0.5382 - tp: 793.0000 - fp: 367.0000 - tn: 640.0000 - fn: 248.0000 - accuracy: 0.6997 - precision: 0.6836 - recall: 0.7618 - auc: 0.8023 - val_loss: 0.5230 - val_tp: 1.0000 - val_fp: 9.0000 - val_tn: 53.0000 - val_fn: 1.0000 - val_accuracy: 0.8438 - val_precision: 0.1000 - val_recall: 0.5000 - val_auc: 0.5565\n",
            "Epoch 53/100\n",
            "1/1 [==============================] - 0s 68ms/step - loss: 0.5341 - tp: 794.0000 - fp: 353.0000 - tn: 664.0000 - fn: 237.0000 - accuracy: 0.7119 - precision: 0.6922 - recall: 0.7701 - auc: 0.8083 - val_loss: 0.5224 - val_tp: 1.0000 - val_fp: 9.0000 - val_tn: 53.0000 - val_fn: 1.0000 - val_accuracy: 0.8438 - val_precision: 0.1000 - val_recall: 0.5000 - val_auc: 0.5685\n",
            "Epoch 54/100\n",
            "1/1 [==============================] - 0s 70ms/step - loss: 0.5427 - tp: 772.0000 - fp: 377.0000 - tn: 648.0000 - fn: 251.0000 - accuracy: 0.6934 - precision: 0.6719 - recall: 0.7546 - auc: 0.7981 - val_loss: 0.5217 - val_tp: 1.0000 - val_fp: 9.0000 - val_tn: 53.0000 - val_fn: 1.0000 - val_accuracy: 0.8438 - val_precision: 0.1000 - val_recall: 0.5000 - val_auc: 0.5726\n",
            "Epoch 55/100\n",
            "1/1 [==============================] - 0s 78ms/step - loss: 0.5246 - tp: 772.0000 - fp: 351.0000 - tn: 669.0000 - fn: 256.0000 - accuracy: 0.7036 - precision: 0.6874 - recall: 0.7510 - auc: 0.8117 - val_loss: 0.5209 - val_tp: 1.0000 - val_fp: 9.0000 - val_tn: 53.0000 - val_fn: 1.0000 - val_accuracy: 0.8438 - val_precision: 0.1000 - val_recall: 0.5000 - val_auc: 0.5766\n",
            "Epoch 56/100\n",
            "1/1 [==============================] - 0s 67ms/step - loss: 0.5148 - tp: 812.0000 - fp: 354.0000 - tn: 690.0000 - fn: 192.0000 - accuracy: 0.7334 - precision: 0.6964 - recall: 0.8088 - auc: 0.8294 - val_loss: 0.5201 - val_tp: 1.0000 - val_fp: 9.0000 - val_tn: 53.0000 - val_fn: 1.0000 - val_accuracy: 0.8438 - val_precision: 0.1000 - val_recall: 0.5000 - val_auc: 0.5766\n",
            "Epoch 57/100\n",
            "1/1 [==============================] - 0s 66ms/step - loss: 0.5097 - tp: 819.0000 - fp: 332.0000 - tn: 679.0000 - fn: 218.0000 - accuracy: 0.7314 - precision: 0.7116 - recall: 0.7898 - auc: 0.8294 - val_loss: 0.5192 - val_tp: 1.0000 - val_fp: 9.0000 - val_tn: 53.0000 - val_fn: 1.0000 - val_accuracy: 0.8438 - val_precision: 0.1000 - val_recall: 0.5000 - val_auc: 0.5766\n",
            "Epoch 58/100\n",
            "1/1 [==============================] - 0s 69ms/step - loss: 0.5178 - tp: 818.0000 - fp: 352.0000 - tn: 672.0000 - fn: 206.0000 - accuracy: 0.7275 - precision: 0.6991 - recall: 0.7988 - auc: 0.8258 - val_loss: 0.5183 - val_tp: 1.0000 - val_fp: 9.0000 - val_tn: 53.0000 - val_fn: 1.0000 - val_accuracy: 0.8438 - val_precision: 0.1000 - val_recall: 0.5000 - val_auc: 0.5806\n",
            "Epoch 59/100\n",
            "1/1 [==============================] - 0s 72ms/step - loss: 0.5192 - tp: 785.0000 - fp: 381.0000 - tn: 668.0000 - fn: 214.0000 - accuracy: 0.7095 - precision: 0.6732 - recall: 0.7858 - auc: 0.8235 - val_loss: 0.5173 - val_tp: 1.0000 - val_fp: 9.0000 - val_tn: 53.0000 - val_fn: 1.0000 - val_accuracy: 0.8438 - val_precision: 0.1000 - val_recall: 0.5000 - val_auc: 0.5847\n",
            "Epoch 60/100\n",
            "1/1 [==============================] - 0s 69ms/step - loss: 0.5173 - tp: 797.0000 - fp: 354.0000 - tn: 677.0000 - fn: 220.0000 - accuracy: 0.7197 - precision: 0.6924 - recall: 0.7837 - auc: 0.8212 - val_loss: 0.5162 - val_tp: 1.0000 - val_fp: 9.0000 - val_tn: 53.0000 - val_fn: 1.0000 - val_accuracy: 0.8438 - val_precision: 0.1000 - val_recall: 0.5000 - val_auc: 0.5847\n",
            "Epoch 61/100\n",
            "1/1 [==============================] - 0s 63ms/step - loss: 0.5154 - tp: 809.0000 - fp: 364.0000 - tn: 674.0000 - fn: 201.0000 - accuracy: 0.7241 - precision: 0.6897 - recall: 0.8010 - auc: 0.8275 - val_loss: 0.5152 - val_tp: 1.0000 - val_fp: 9.0000 - val_tn: 53.0000 - val_fn: 1.0000 - val_accuracy: 0.8438 - val_precision: 0.1000 - val_recall: 0.5000 - val_auc: 0.5847\n",
            "Epoch 62/100\n",
            "1/1 [==============================] - 0s 67ms/step - loss: 0.4825 - tp: 855.0000 - fp: 315.0000 - tn: 670.0000 - fn: 208.0000 - accuracy: 0.7446 - precision: 0.7308 - recall: 0.8043 - auc: 0.8491 - val_loss: 0.5141 - val_tp: 1.0000 - val_fp: 9.0000 - val_tn: 53.0000 - val_fn: 1.0000 - val_accuracy: 0.8438 - val_precision: 0.1000 - val_recall: 0.5000 - val_auc: 0.5847\n",
            "Epoch 63/100\n",
            "1/1 [==============================] - 0s 66ms/step - loss: 0.4994 - tp: 820.0000 - fp: 337.0000 - tn: 681.0000 - fn: 210.0000 - accuracy: 0.7329 - precision: 0.7087 - recall: 0.7961 - auc: 0.8362 - val_loss: 0.5130 - val_tp: 1.0000 - val_fp: 9.0000 - val_tn: 53.0000 - val_fn: 1.0000 - val_accuracy: 0.8438 - val_precision: 0.1000 - val_recall: 0.5000 - val_auc: 0.6048\n",
            "Epoch 64/100\n",
            "1/1 [==============================] - 0s 76ms/step - loss: 0.4964 - tp: 883.0000 - fp: 330.0000 - tn: 635.0000 - fn: 200.0000 - accuracy: 0.7412 - precision: 0.7279 - recall: 0.8153 - auc: 0.8404 - val_loss: 0.5119 - val_tp: 1.0000 - val_fp: 9.0000 - val_tn: 53.0000 - val_fn: 1.0000 - val_accuracy: 0.8438 - val_precision: 0.1000 - val_recall: 0.5000 - val_auc: 0.6048\n",
            "Epoch 65/100\n",
            "1/1 [==============================] - 0s 79ms/step - loss: 0.4915 - tp: 872.0000 - fp: 343.0000 - tn: 637.0000 - fn: 196.0000 - accuracy: 0.7368 - precision: 0.7177 - recall: 0.8165 - auc: 0.8433 - val_loss: 0.5108 - val_tp: 1.0000 - val_fp: 9.0000 - val_tn: 53.0000 - val_fn: 1.0000 - val_accuracy: 0.8438 - val_precision: 0.1000 - val_recall: 0.5000 - val_auc: 0.6089\n",
            "Epoch 66/100\n",
            "1/1 [==============================] - 0s 70ms/step - loss: 0.4910 - tp: 849.0000 - fp: 344.0000 - tn: 666.0000 - fn: 189.0000 - accuracy: 0.7397 - precision: 0.7117 - recall: 0.8179 - auc: 0.8475 - val_loss: 0.5096 - val_tp: 1.0000 - val_fp: 9.0000 - val_tn: 53.0000 - val_fn: 1.0000 - val_accuracy: 0.8438 - val_precision: 0.1000 - val_recall: 0.5000 - val_auc: 0.6129\n",
            "Epoch 67/100\n",
            "1/1 [==============================] - 0s 68ms/step - loss: 0.4735 - tp: 883.0000 - fp: 316.0000 - tn: 673.0000 - fn: 176.0000 - accuracy: 0.7598 - precision: 0.7364 - recall: 0.8338 - auc: 0.8618 - val_loss: 0.5084 - val_tp: 1.0000 - val_fp: 9.0000 - val_tn: 53.0000 - val_fn: 1.0000 - val_accuracy: 0.8438 - val_precision: 0.1000 - val_recall: 0.5000 - val_auc: 0.6129\n",
            "Epoch 68/100\n",
            "1/1 [==============================] - 0s 76ms/step - loss: 0.4851 - tp: 821.0000 - fp: 334.0000 - tn: 696.0000 - fn: 197.0000 - accuracy: 0.7407 - precision: 0.7108 - recall: 0.8065 - auc: 0.8508 - val_loss: 0.5071 - val_tp: 1.0000 - val_fp: 9.0000 - val_tn: 53.0000 - val_fn: 1.0000 - val_accuracy: 0.8438 - val_precision: 0.1000 - val_recall: 0.5000 - val_auc: 0.6129\n",
            "Epoch 69/100\n",
            "1/1 [==============================] - 0s 74ms/step - loss: 0.4729 - tp: 862.0000 - fp: 340.0000 - tn: 669.0000 - fn: 177.0000 - accuracy: 0.7476 - precision: 0.7171 - recall: 0.8296 - auc: 0.8638 - val_loss: 0.5059 - val_tp: 1.0000 - val_fp: 9.0000 - val_tn: 53.0000 - val_fn: 1.0000 - val_accuracy: 0.8438 - val_precision: 0.1000 - val_recall: 0.5000 - val_auc: 0.6169\n",
            "Epoch 70/100\n",
            "1/1 [==============================] - 0s 65ms/step - loss: 0.4748 - tp: 858.0000 - fp: 363.0000 - tn: 692.0000 - fn: 135.0000 - accuracy: 0.7568 - precision: 0.7027 - recall: 0.8640 - auc: 0.8706 - val_loss: 0.5046 - val_tp: 1.0000 - val_fp: 9.0000 - val_tn: 53.0000 - val_fn: 1.0000 - val_accuracy: 0.8438 - val_precision: 0.1000 - val_recall: 0.5000 - val_auc: 0.6210\n",
            "Epoch 71/100\n",
            "1/1 [==============================] - 0s 69ms/step - loss: 0.4690 - tp: 840.0000 - fp: 329.0000 - tn: 711.0000 - fn: 168.0000 - accuracy: 0.7573 - precision: 0.7186 - recall: 0.8333 - auc: 0.8675 - val_loss: 0.5032 - val_tp: 1.0000 - val_fp: 9.0000 - val_tn: 53.0000 - val_fn: 1.0000 - val_accuracy: 0.8438 - val_precision: 0.1000 - val_recall: 0.5000 - val_auc: 0.6210\n",
            "Epoch 72/100\n",
            "1/1 [==============================] - 0s 68ms/step - loss: 0.4753 - tp: 870.0000 - fp: 342.0000 - tn: 657.0000 - fn: 179.0000 - accuracy: 0.7456 - precision: 0.7178 - recall: 0.8294 - auc: 0.8613 - val_loss: 0.5018 - val_tp: 1.0000 - val_fp: 9.0000 - val_tn: 53.0000 - val_fn: 1.0000 - val_accuracy: 0.8438 - val_precision: 0.1000 - val_recall: 0.5000 - val_auc: 0.6210\n",
            "Epoch 73/100\n",
            "1/1 [==============================] - 0s 74ms/step - loss: 0.4737 - tp: 871.0000 - fp: 344.0000 - tn: 661.0000 - fn: 172.0000 - accuracy: 0.7480 - precision: 0.7169 - recall: 0.8351 - auc: 0.8629 - val_loss: 0.5004 - val_tp: 1.0000 - val_fp: 8.0000 - val_tn: 54.0000 - val_fn: 1.0000 - val_accuracy: 0.8594 - val_precision: 0.1111 - val_recall: 0.5000 - val_auc: 0.6210\n",
            "Epoch 74/100\n",
            "1/1 [==============================] - 0s 357ms/step - loss: 0.4552 - tp: 871.0000 - fp: 322.0000 - tn: 707.0000 - fn: 148.0000 - accuracy: 0.7705 - precision: 0.7301 - recall: 0.8548 - auc: 0.8785 - val_loss: 0.4989 - val_tp: 1.0000 - val_fp: 8.0000 - val_tn: 54.0000 - val_fn: 1.0000 - val_accuracy: 0.8594 - val_precision: 0.1111 - val_recall: 0.5000 - val_auc: 0.6331\n",
            "Epoch 75/100\n",
            "1/1 [==============================] - 0s 68ms/step - loss: 0.4647 - tp: 872.0000 - fp: 345.0000 - tn: 686.0000 - fn: 145.0000 - accuracy: 0.7607 - precision: 0.7165 - recall: 0.8574 - auc: 0.8738 - val_loss: 0.4974 - val_tp: 1.0000 - val_fp: 7.0000 - val_tn: 55.0000 - val_fn: 1.0000 - val_accuracy: 0.8750 - val_precision: 0.1250 - val_recall: 0.5000 - val_auc: 0.6331\n",
            "Epoch 76/100\n",
            "1/1 [==============================] - 0s 70ms/step - loss: 0.4662 - tp: 879.0000 - fp: 318.0000 - tn: 679.0000 - fn: 172.0000 - accuracy: 0.7607 - precision: 0.7343 - recall: 0.8363 - auc: 0.8680 - val_loss: 0.4959 - val_tp: 1.0000 - val_fp: 7.0000 - val_tn: 55.0000 - val_fn: 1.0000 - val_accuracy: 0.8750 - val_precision: 0.1250 - val_recall: 0.5000 - val_auc: 0.6371\n",
            "Epoch 77/100\n",
            "1/1 [==============================] - 0s 68ms/step - loss: 0.4497 - tp: 888.0000 - fp: 324.0000 - tn: 682.0000 - fn: 154.0000 - accuracy: 0.7666 - precision: 0.7327 - recall: 0.8522 - auc: 0.8815 - val_loss: 0.4944 - val_tp: 1.0000 - val_fp: 7.0000 - val_tn: 55.0000 - val_fn: 1.0000 - val_accuracy: 0.8750 - val_precision: 0.1250 - val_recall: 0.5000 - val_auc: 0.6371\n",
            "Epoch 78/100\n",
            "1/1 [==============================] - 0s 76ms/step - loss: 0.4544 - tp: 871.0000 - fp: 333.0000 - tn: 688.0000 - fn: 156.0000 - accuracy: 0.7612 - precision: 0.7234 - recall: 0.8481 - auc: 0.8790 - val_loss: 0.4928 - val_tp: 1.0000 - val_fp: 7.0000 - val_tn: 55.0000 - val_fn: 1.0000 - val_accuracy: 0.8750 - val_precision: 0.1250 - val_recall: 0.5000 - val_auc: 0.6371\n",
            "Epoch 79/100\n",
            "1/1 [==============================] - 0s 64ms/step - loss: 0.4625 - tp: 877.0000 - fp: 311.0000 - tn: 679.0000 - fn: 181.0000 - accuracy: 0.7598 - precision: 0.7382 - recall: 0.8289 - auc: 0.8678 - val_loss: 0.4912 - val_tp: 1.0000 - val_fp: 8.0000 - val_tn: 54.0000 - val_fn: 1.0000 - val_accuracy: 0.8594 - val_precision: 0.1111 - val_recall: 0.5000 - val_auc: 0.6371\n",
            "Epoch 80/100\n",
            "1/1 [==============================] - 0s 69ms/step - loss: 0.4531 - tp: 901.0000 - fp: 333.0000 - tn: 659.0000 - fn: 155.0000 - accuracy: 0.7617 - precision: 0.7301 - recall: 0.8532 - auc: 0.8797 - val_loss: 0.4897 - val_tp: 1.0000 - val_fp: 8.0000 - val_tn: 54.0000 - val_fn: 1.0000 - val_accuracy: 0.8594 - val_precision: 0.1111 - val_recall: 0.5000 - val_auc: 0.6371\n",
            "Epoch 81/100\n",
            "1/1 [==============================] - 0s 74ms/step - loss: 0.4550 - tp: 846.0000 - fp: 323.0000 - tn: 733.0000 - fn: 146.0000 - accuracy: 0.7710 - precision: 0.7237 - recall: 0.8528 - auc: 0.8812 - val_loss: 0.4881 - val_tp: 1.0000 - val_fp: 8.0000 - val_tn: 54.0000 - val_fn: 1.0000 - val_accuracy: 0.8594 - val_precision: 0.1111 - val_recall: 0.5000 - val_auc: 0.6371\n",
            "Epoch 82/100\n",
            "1/1 [==============================] - 0s 72ms/step - loss: 0.4592 - tp: 846.0000 - fp: 348.0000 - tn: 708.0000 - fn: 146.0000 - accuracy: 0.7588 - precision: 0.7085 - recall: 0.8528 - auc: 0.8794 - val_loss: 0.4864 - val_tp: 1.0000 - val_fp: 8.0000 - val_tn: 54.0000 - val_fn: 1.0000 - val_accuracy: 0.8594 - val_precision: 0.1111 - val_recall: 0.5000 - val_auc: 0.6371\n",
            "Epoch 83/100\n",
            "1/1 [==============================] - 0s 70ms/step - loss: 0.4477 - tp: 879.0000 - fp: 321.0000 - tn: 693.0000 - fn: 155.0000 - accuracy: 0.7676 - precision: 0.7325 - recall: 0.8501 - auc: 0.8840 - val_loss: 0.4847 - val_tp: 1.0000 - val_fp: 8.0000 - val_tn: 54.0000 - val_fn: 1.0000 - val_accuracy: 0.8594 - val_precision: 0.1111 - val_recall: 0.5000 - val_auc: 0.6371\n",
            "Epoch 84/100\n",
            "1/1 [==============================] - 0s 68ms/step - loss: 0.4343 - tp: 904.0000 - fp: 321.0000 - tn: 698.0000 - fn: 125.0000 - accuracy: 0.7822 - precision: 0.7380 - recall: 0.8785 - auc: 0.8961 - val_loss: 0.4830 - val_tp: 1.0000 - val_fp: 8.0000 - val_tn: 54.0000 - val_fn: 1.0000 - val_accuracy: 0.8594 - val_precision: 0.1111 - val_recall: 0.5000 - val_auc: 0.6371\n",
            "Epoch 85/100\n",
            "1/1 [==============================] - 0s 72ms/step - loss: 0.4238 - tp: 911.0000 - fp: 318.0000 - tn: 699.0000 - fn: 120.0000 - accuracy: 0.7861 - precision: 0.7413 - recall: 0.8836 - auc: 0.9037 - val_loss: 0.4813 - val_tp: 1.0000 - val_fp: 8.0000 - val_tn: 54.0000 - val_fn: 1.0000 - val_accuracy: 0.8594 - val_precision: 0.1111 - val_recall: 0.5000 - val_auc: 0.6371\n",
            "Epoch 86/100\n",
            "1/1 [==============================] - 0s 77ms/step - loss: 0.4413 - tp: 881.0000 - fp: 318.0000 - tn: 697.0000 - fn: 152.0000 - accuracy: 0.7705 - precision: 0.7348 - recall: 0.8529 - auc: 0.8868 - val_loss: 0.4796 - val_tp: 1.0000 - val_fp: 8.0000 - val_tn: 54.0000 - val_fn: 1.0000 - val_accuracy: 0.8594 - val_precision: 0.1111 - val_recall: 0.5000 - val_auc: 0.6371\n",
            "Restoring model weights from the end of the best epoch.\n",
            "Epoch 00086: early stopping\n"
          ],
          "name": "stdout"
        }
      ]
    },
    {
      "cell_type": "code",
      "metadata": {
        "colab": {
          "base_uri": "https://localhost:8080/",
          "height": 609
        },
        "id": "pftUeXtEqWEx",
        "outputId": "13609ec8-4cf9-4f42-b4de-9fb90cf9adc3"
      },
      "source": [
        "plot_metrics(resampled_history)"
      ],
      "execution_count": 247,
      "outputs": [
        {
          "output_type": "display_data",
          "data": {
            "image/png": "[encoded data removed]",
            "text/plain": [
              "<Figure size 864x720 with 4 Axes>"
            ]
          },
          "metadata": {
            "tags": [],
            "needs_background": "light"
          }
        }
      ]
    },
    {
      "cell_type": "code",
      "metadata": {
        "colab": {
          "base_uri": "https://localhost:8080/"
        },
        "id": "QaVRPiJ2qdee",
        "outputId": "49009569-4fb1-4d2f-e7e7-296397587ea7"
      },
      "source": [
        "resampled_model = make_model()\r\n",
        "resampled_model.load_weights(initial_weights)\r\n",
        "\r\n",
        "# Reset the bias to zero, since this dataset is balanced.\r\n",
        "output_layer = resampled_model.layers[-1] \r\n",
        "output_layer.bias.assign([0])\r\n",
        "\r\n",
        "resampled_history = resampled_model.fit(\r\n",
        "    resampled_ds,\r\n",
        "    # These are not real epochs\r\n",
        "    steps_per_epoch=20,\r\n",
        "    epochs=10*EPOCHS,\r\n",
        "    callbacks=[early_stopping],\r\n",
        "    validation_data=(val_ds))"
      ],
      "execution_count": 248,
      "outputs": [
        {
          "output_type": "stream",
          "text": [
            "Epoch 1/1000\n",
            "20/20 [==============================] - 3s 73ms/step - loss: 0.9506 - tp: 3520.4762 - fp: 3642.7143 - tn: 7694.8095 - fn: 7636.4762 - accuracy: 0.4925 - precision: 0.4743 - recall: 0.2957 - auc: 0.4502 - val_loss: 0.5114 - val_tp: 1.0000 - val_fp: 8.0000 - val_tn: 54.0000 - val_fn: 1.0000 - val_accuracy: 0.8594 - val_precision: 0.1111 - val_recall: 0.5000 - val_auc: 0.5121\n",
            "Epoch 2/1000\n",
            "20/20 [==============================] - 0s 23ms/step - loss: 0.7077 - tp: 6251.7619 - fp: 3806.3810 - tn: 7458.3810 - fn: 4913.9524 - accuracy: 0.6036 - precision: 0.6143 - recall: 0.5422 - auc: 0.6378 - val_loss: 0.5246 - val_tp: 1.0000 - val_fp: 9.0000 - val_tn: 53.0000 - val_fn: 1.0000 - val_accuracy: 0.8438 - val_precision: 0.1000 - val_recall: 0.5000 - val_auc: 0.5444\n",
            "Epoch 3/1000\n",
            "20/20 [==============================] - 0s 23ms/step - loss: 0.5637 - tp: 8296.3810 - fp: 3896.0952 - tn: 7273.4286 - fn: 2964.5714 - accuracy: 0.6898 - precision: 0.6788 - recall: 0.7287 - auc: 0.7760 - val_loss: 0.5156 - val_tp: 1.0000 - val_fp: 9.0000 - val_tn: 53.0000 - val_fn: 1.0000 - val_accuracy: 0.8438 - val_precision: 0.1000 - val_recall: 0.5000 - val_auc: 0.5887\n",
            "Epoch 4/1000\n",
            "20/20 [==============================] - 0s 23ms/step - loss: 0.4882 - tp: 9200.6667 - fp: 3780.0476 - tn: 7470.9524 - fn: 1978.8095 - accuracy: 0.7405 - precision: 0.7073 - recall: 0.8187 - auc: 0.8505 - val_loss: 0.4884 - val_tp: 1.0000 - val_fp: 7.0000 - val_tn: 55.0000 - val_fn: 1.0000 - val_accuracy: 0.8750 - val_precision: 0.1250 - val_recall: 0.5000 - val_auc: 0.6371\n",
            "Epoch 5/1000\n",
            "20/20 [==============================] - 0s 23ms/step - loss: 0.4371 - tp: 9709.4286 - fp: 3360.5238 - tn: 7837.7619 - fn: 1522.7619 - accuracy: 0.7795 - precision: 0.7400 - recall: 0.8630 - auc: 0.8920 - val_loss: 0.4540 - val_tp: 1.0000 - val_fp: 7.0000 - val_tn: 55.0000 - val_fn: 1.0000 - val_accuracy: 0.8750 - val_precision: 0.1250 - val_recall: 0.5000 - val_auc: 0.6452\n",
            "Epoch 6/1000\n",
            "20/20 [==============================] - 0s 23ms/step - loss: 0.3936 - tp: 9980.1429 - fp: 2875.5714 - tn: 8333.9048 - fn: 1240.8571 - accuracy: 0.8137 - precision: 0.7743 - recall: 0.8860 - auc: 0.9215 - val_loss: 0.4206 - val_tp: 1.0000 - val_fp: 7.0000 - val_tn: 55.0000 - val_fn: 1.0000 - val_accuracy: 0.8750 - val_precision: 0.1250 - val_recall: 0.5000 - val_auc: 0.6492\n",
            "Epoch 7/1000\n",
            "20/20 [==============================] - 0s 23ms/step - loss: 0.3597 - tp: 10064.2381 - fp: 2482.3333 - tn: 8825.0952 - fn: 1058.8095 - accuracy: 0.8392 - precision: 0.7986 - recall: 0.9028 - auc: 0.9418 - val_loss: 0.3883 - val_tp: 1.0000 - val_fp: 5.0000 - val_tn: 57.0000 - val_fn: 1.0000 - val_accuracy: 0.9062 - val_precision: 0.1667 - val_recall: 0.5000 - val_auc: 0.6694\n",
            "Epoch 8/1000\n",
            "20/20 [==============================] - 0s 23ms/step - loss: 0.3209 - tp: 10395.1905 - fp: 2132.0952 - tn: 9073.4286 - fn: 829.7619 - accuracy: 0.8666 - precision: 0.8288 - recall: 0.9245 - auc: 0.9602 - val_loss: 0.3582 - val_tp: 1.0000 - val_fp: 4.0000 - val_tn: 58.0000 - val_fn: 1.0000 - val_accuracy: 0.9219 - val_precision: 0.2000 - val_recall: 0.5000 - val_auc: 0.6935\n",
            "Epoch 9/1000\n",
            "20/20 [==============================] - 0s 24ms/step - loss: 0.2961 - tp: 10492.5238 - fp: 1877.2857 - tn: 9350.0000 - fn: 710.6667 - accuracy: 0.8839 - precision: 0.8471 - recall: 0.9362 - auc: 0.9707 - val_loss: 0.3293 - val_tp: 1.0000 - val_fp: 4.0000 - val_tn: 58.0000 - val_fn: 1.0000 - val_accuracy: 0.9219 - val_precision: 0.2000 - val_recall: 0.5000 - val_auc: 0.7258\n",
            "Epoch 10/1000\n",
            "20/20 [==============================] - 0s 24ms/step - loss: 0.2727 - tp: 10728.6667 - fp: 1583.4762 - tn: 9512.8571 - fn: 605.4762 - accuracy: 0.9013 - precision: 0.8707 - recall: 0.9456 - auc: 0.9772 - val_loss: 0.3037 - val_tp: 1.0000 - val_fp: 3.0000 - val_tn: 59.0000 - val_fn: 1.0000 - val_accuracy: 0.9375 - val_precision: 0.2500 - val_recall: 0.5000 - val_auc: 0.7702\n",
            "Epoch 11/1000\n",
            "20/20 [==============================] - 0s 24ms/step - loss: 0.2495 - tp: 10723.0476 - fp: 1339.5238 - tn: 9840.3810 - fn: 527.5238 - accuracy: 0.9143 - precision: 0.8857 - recall: 0.9518 - auc: 0.9828 - val_loss: 0.2803 - val_tp: 1.0000 - val_fp: 3.0000 - val_tn: 59.0000 - val_fn: 1.0000 - val_accuracy: 0.9375 - val_precision: 0.2500 - val_recall: 0.5000 - val_auc: 0.7823\n",
            "Epoch 12/1000\n",
            "20/20 [==============================] - 0s 24ms/step - loss: 0.2308 - tp: 10788.0000 - fp: 1155.1905 - tn: 9987.3810 - fn: 499.9048 - accuracy: 0.9259 - precision: 0.9033 - recall: 0.9555 - auc: 0.9865 - val_loss: 0.2593 - val_tp: 1.0000 - val_fp: 3.0000 - val_tn: 59.0000 - val_fn: 1.0000 - val_accuracy: 0.9375 - val_precision: 0.2500 - val_recall: 0.5000 - val_auc: 0.7903\n",
            "Epoch 13/1000\n",
            "20/20 [==============================] - 1s 48ms/step - loss: 0.2124 - tp: 10708.2857 - fp: 976.7143 - tn: 10294.2381 - fn: 451.2381 - accuracy: 0.9363 - precision: 0.9160 - recall: 0.9598 - auc: 0.9899 - val_loss: 0.2405 - val_tp: 1.0000 - val_fp: 2.0000 - val_tn: 60.0000 - val_fn: 1.0000 - val_accuracy: 0.9531 - val_precision: 0.3333 - val_recall: 0.5000 - val_auc: 0.7903\n",
            "Epoch 14/1000\n",
            "20/20 [==============================] - 0s 24ms/step - loss: 0.1995 - tp: 10748.9048 - fp: 832.7143 - tn: 10405.8095 - fn: 443.0476 - accuracy: 0.9416 - precision: 0.9262 - recall: 0.9590 - auc: 0.9907 - val_loss: 0.2234 - val_tp: 1.0000 - val_fp: 2.0000 - val_tn: 60.0000 - val_fn: 1.0000 - val_accuracy: 0.9531 - val_precision: 0.3333 - val_recall: 0.5000 - val_auc: 0.7984\n",
            "Epoch 15/1000\n",
            "20/20 [==============================] - 0s 23ms/step - loss: 0.1862 - tp: 10730.4286 - fp: 719.2857 - tn: 10540.4762 - fn: 440.2857 - accuracy: 0.9478 - precision: 0.9372 - recall: 0.9596 - auc: 0.9925 - val_loss: 0.2077 - val_tp: 1.0000 - val_fp: 2.0000 - val_tn: 60.0000 - val_fn: 1.0000 - val_accuracy: 0.9531 - val_precision: 0.3333 - val_recall: 0.5000 - val_auc: 0.8065\n",
            "Epoch 16/1000\n",
            "20/20 [==============================] - 0s 24ms/step - loss: 0.1735 - tp: 10682.4762 - fp: 604.4762 - tn: 10698.8571 - fn: 444.6667 - accuracy: 0.9524 - precision: 0.9446 - recall: 0.9601 - auc: 0.9934 - val_loss: 0.1942 - val_tp: 1.0000 - val_fp: 2.0000 - val_tn: 60.0000 - val_fn: 1.0000 - val_accuracy: 0.9531 - val_precision: 0.3333 - val_recall: 0.5000 - val_auc: 0.8347\n",
            "Epoch 17/1000\n",
            "20/20 [==============================] - 0s 23ms/step - loss: 0.1614 - tp: 10682.6667 - fp: 503.5714 - tn: 10783.1905 - fn: 461.0476 - accuracy: 0.9568 - precision: 0.9547 - recall: 0.9585 - auc: 0.9944 - val_loss: 0.1819 - val_tp: 1.0000 - val_fp: 2.0000 - val_tn: 60.0000 - val_fn: 1.0000 - val_accuracy: 0.9531 - val_precision: 0.3333 - val_recall: 0.5000 - val_auc: 0.8468\n",
            "Epoch 18/1000\n",
            "20/20 [==============================] - 0s 24ms/step - loss: 0.1520 - tp: 10850.0476 - fp: 440.2381 - tn: 10671.0476 - fn: 469.1429 - accuracy: 0.9590 - precision: 0.9604 - recall: 0.9582 - auc: 0.9951 - val_loss: 0.1714 - val_tp: 1.0000 - val_fp: 2.0000 - val_tn: 60.0000 - val_fn: 1.0000 - val_accuracy: 0.9531 - val_precision: 0.3333 - val_recall: 0.5000 - val_auc: 0.8508\n",
            "Epoch 19/1000\n",
            "20/20 [==============================] - 0s 25ms/step - loss: 0.1428 - tp: 10831.4286 - fp: 416.6190 - tn: 10759.2857 - fn: 423.1429 - accuracy: 0.9631 - precision: 0.9634 - recall: 0.9629 - auc: 0.9959 - val_loss: 0.1619 - val_tp: 1.0000 - val_fp: 2.0000 - val_tn: 60.0000 - val_fn: 1.0000 - val_accuracy: 0.9531 - val_precision: 0.3333 - val_recall: 0.5000 - val_auc: 0.8548\n",
            "Epoch 20/1000\n",
            "20/20 [==============================] - 0s 24ms/step - loss: 0.1336 - tp: 10736.8571 - fp: 342.9048 - tn: 10924.0000 - fn: 426.7143 - accuracy: 0.9654 - precision: 0.9690 - recall: 0.9612 - auc: 0.9964 - val_loss: 0.1533 - val_tp: 1.0000 - val_fp: 2.0000 - val_tn: 60.0000 - val_fn: 1.0000 - val_accuracy: 0.9531 - val_precision: 0.3333 - val_recall: 0.5000 - val_auc: 0.8750\n",
            "Epoch 21/1000\n",
            "20/20 [==============================] - 0s 24ms/step - loss: 0.1296 - tp: 10708.7143 - fp: 335.5238 - tn: 10985.2381 - fn: 401.0000 - accuracy: 0.9660 - precision: 0.9686 - recall: 0.9628 - auc: 0.9964 - val_loss: 0.1453 - val_tp: 1.0000 - val_fp: 2.0000 - val_tn: 60.0000 - val_fn: 1.0000 - val_accuracy: 0.9531 - val_precision: 0.3333 - val_recall: 0.5000 - val_auc: 0.8831\n",
            "Epoch 22/1000\n",
            "20/20 [==============================] - 0s 24ms/step - loss: 0.1202 - tp: 10777.0000 - fp: 310.2381 - tn: 10942.3333 - fn: 400.9048 - accuracy: 0.9683 - precision: 0.9715 - recall: 0.9645 - auc: 0.9970 - val_loss: 0.1379 - val_tp: 1.0000 - val_fp: 2.0000 - val_tn: 60.0000 - val_fn: 1.0000 - val_accuracy: 0.9531 - val_precision: 0.3333 - val_recall: 0.5000 - val_auc: 0.8992\n",
            "Epoch 23/1000\n",
            "20/20 [==============================] - 0s 24ms/step - loss: 0.1123 - tp: 10931.0000 - fp: 246.4762 - tn: 10892.0000 - fn: 361.0000 - accuracy: 0.9729 - precision: 0.9775 - recall: 0.9684 - auc: 0.9975 - val_loss: 0.1313 - val_tp: 1.0000 - val_fp: 2.0000 - val_tn: 60.0000 - val_fn: 1.0000 - val_accuracy: 0.9531 - val_precision: 0.3333 - val_recall: 0.5000 - val_auc: 0.9032\n",
            "Epoch 24/1000\n",
            "20/20 [==============================] - 0s 24ms/step - loss: 0.1081 - tp: 10916.2857 - fp: 259.8095 - tn: 10900.3333 - fn: 354.0476 - accuracy: 0.9726 - precision: 0.9770 - recall: 0.9682 - auc: 0.9975 - val_loss: 0.1254 - val_tp: 1.0000 - val_fp: 2.0000 - val_tn: 60.0000 - val_fn: 1.0000 - val_accuracy: 0.9531 - val_precision: 0.3333 - val_recall: 0.5000 - val_auc: 0.9153\n",
            "Epoch 25/1000\n",
            "20/20 [==============================] - 0s 24ms/step - loss: 0.0991 - tp: 10924.7143 - fp: 224.6190 - tn: 10927.0952 - fn: 354.0476 - accuracy: 0.9742 - precision: 0.9798 - recall: 0.9687 - auc: 0.9980 - val_loss: 0.1200 - val_tp: 1.0000 - val_fp: 2.0000 - val_tn: 60.0000 - val_fn: 1.0000 - val_accuracy: 0.9531 - val_precision: 0.3333 - val_recall: 0.5000 - val_auc: 0.9194\n",
            "Epoch 26/1000\n",
            "20/20 [==============================] - 0s 24ms/step - loss: 0.0960 - tp: 10956.6190 - fp: 190.0476 - tn: 10939.8571 - fn: 343.9524 - accuracy: 0.9760 - precision: 0.9828 - recall: 0.9694 - auc: 0.9981 - val_loss: 0.1151 - val_tp: 1.0000 - val_fp: 1.0000 - val_tn: 61.0000 - val_fn: 1.0000 - val_accuracy: 0.9688 - val_precision: 0.5000 - val_recall: 0.5000 - val_auc: 0.9234\n",
            "Epoch 27/1000\n",
            "20/20 [==============================] - 0s 25ms/step - loss: 0.0927 - tp: 10847.0476 - fp: 211.7143 - tn: 11024.2857 - fn: 347.4286 - accuracy: 0.9749 - precision: 0.9805 - recall: 0.9689 - auc: 0.9981 - val_loss: 0.1106 - val_tp: 1.0000 - val_fp: 1.0000 - val_tn: 61.0000 - val_fn: 1.0000 - val_accuracy: 0.9688 - val_precision: 0.5000 - val_recall: 0.5000 - val_auc: 0.9355\n",
            "Epoch 28/1000\n",
            "20/20 [==============================] - 0s 25ms/step - loss: 0.0886 - tp: 10872.0000 - fp: 191.0476 - tn: 11007.3333 - fn: 360.0952 - accuracy: 0.9753 - precision: 0.9822 - recall: 0.9683 - auc: 0.9982 - val_loss: 0.1067 - val_tp: 1.0000 - val_fp: 1.0000 - val_tn: 61.0000 - val_fn: 1.0000 - val_accuracy: 0.9688 - val_precision: 0.5000 - val_recall: 0.5000 - val_auc: 0.9355\n",
            "Epoch 29/1000\n",
            "20/20 [==============================] - 0s 25ms/step - loss: 0.0839 - tp: 10884.5238 - fp: 166.1905 - tn: 11037.5714 - fn: 342.1905 - accuracy: 0.9777 - precision: 0.9852 - recall: 0.9700 - auc: 0.9985 - val_loss: 0.1029 - val_tp: 1.0000 - val_fp: 1.0000 - val_tn: 61.0000 - val_fn: 1.0000 - val_accuracy: 0.9688 - val_precision: 0.5000 - val_recall: 0.5000 - val_auc: 0.9355\n",
            "Epoch 30/1000\n",
            "20/20 [==============================] - 1s 26ms/step - loss: 0.0831 - tp: 10723.1905 - fp: 162.5238 - tn: 11190.8571 - fn: 353.9048 - accuracy: 0.9769 - precision: 0.9850 - recall: 0.9679 - auc: 0.9985 - val_loss: 0.0995 - val_tp: 1.0000 - val_fp: 1.0000 - val_tn: 61.0000 - val_fn: 1.0000 - val_accuracy: 0.9688 - val_precision: 0.5000 - val_recall: 0.5000 - val_auc: 0.9355\n",
            "Epoch 31/1000\n",
            "20/20 [==============================] - 0s 23ms/step - loss: 0.0795 - tp: 10907.2381 - fp: 156.4286 - tn: 10995.6190 - fn: 371.1905 - accuracy: 0.9764 - precision: 0.9855 - recall: 0.9673 - auc: 0.9986 - val_loss: 0.0964 - val_tp: 1.0000 - val_fp: 1.0000 - val_tn: 61.0000 - val_fn: 1.0000 - val_accuracy: 0.9688 - val_precision: 0.5000 - val_recall: 0.5000 - val_auc: 0.9435\n",
            "Epoch 32/1000\n",
            "20/20 [==============================] - 0s 25ms/step - loss: 0.0746 - tp: 10945.9048 - fp: 148.6190 - tn: 10998.9524 - fn: 337.0000 - accuracy: 0.9785 - precision: 0.9865 - recall: 0.9705 - auc: 0.9988 - val_loss: 0.0938 - val_tp: 1.0000 - val_fp: 1.0000 - val_tn: 61.0000 - val_fn: 1.0000 - val_accuracy: 0.9688 - val_precision: 0.5000 - val_recall: 0.5000 - val_auc: 0.9435\n",
            "Epoch 33/1000\n",
            "20/20 [==============================] - 0s 24ms/step - loss: 0.0731 - tp: 10875.2381 - fp: 129.1429 - tn: 11071.5238 - fn: 354.5714 - accuracy: 0.9786 - precision: 0.9884 - recall: 0.9687 - auc: 0.9988 - val_loss: 0.0912 - val_tp: 1.0000 - val_fp: 1.0000 - val_tn: 61.0000 - val_fn: 1.0000 - val_accuracy: 0.9688 - val_precision: 0.5000 - val_recall: 0.5000 - val_auc: 0.9435\n",
            "Epoch 34/1000\n",
            "20/20 [==============================] - 0s 24ms/step - loss: 0.0720 - tp: 10760.6667 - fp: 133.8095 - tn: 11193.0952 - fn: 342.9048 - accuracy: 0.9786 - precision: 0.9876 - recall: 0.9688 - auc: 0.9987 - val_loss: 0.0889 - val_tp: 1.0000 - val_fp: 1.0000 - val_tn: 61.0000 - val_fn: 1.0000 - val_accuracy: 0.9688 - val_precision: 0.5000 - val_recall: 0.5000 - val_auc: 0.9435\n",
            "Epoch 35/1000\n",
            "20/20 [==============================] - 0s 24ms/step - loss: 0.0672 - tp: 10895.7143 - fp: 101.4762 - tn: 11086.7619 - fn: 346.5238 - accuracy: 0.9798 - precision: 0.9911 - recall: 0.9684 - auc: 0.9990 - val_loss: 0.0868 - val_tp: 1.0000 - val_fp: 1.0000 - val_tn: 61.0000 - val_fn: 1.0000 - val_accuracy: 0.9688 - val_precision: 0.5000 - val_recall: 0.5000 - val_auc: 0.9435\n",
            "Epoch 36/1000\n",
            "20/20 [==============================] - 0s 24ms/step - loss: 0.0683 - tp: 10872.9048 - fp: 120.8095 - tn: 11091.7143 - fn: 345.0476 - accuracy: 0.9790 - precision: 0.9892 - recall: 0.9685 - auc: 0.9988 - val_loss: 0.0847 - val_tp: 1.0000 - val_fp: 1.0000 - val_tn: 61.0000 - val_fn: 1.0000 - val_accuracy: 0.9688 - val_precision: 0.5000 - val_recall: 0.5000 - val_auc: 0.9435\n",
            "Epoch 37/1000\n",
            "20/20 [==============================] - 0s 25ms/step - loss: 0.0664 - tp: 10822.3810 - fp: 120.3810 - tn: 11145.8571 - fn: 341.8571 - accuracy: 0.9787 - precision: 0.9888 - recall: 0.9683 - auc: 0.9989 - val_loss: 0.0831 - val_tp: 1.0000 - val_fp: 1.0000 - val_tn: 61.0000 - val_fn: 1.0000 - val_accuracy: 0.9688 - val_precision: 0.5000 - val_recall: 0.5000 - val_auc: 0.9476\n",
            "Epoch 38/1000\n",
            "20/20 [==============================] - 0s 24ms/step - loss: 0.0634 - tp: 10929.8095 - fp: 101.9524 - tn: 11051.0000 - fn: 347.7143 - accuracy: 0.9797 - precision: 0.9906 - recall: 0.9689 - auc: 0.9990 - val_loss: 0.0812 - val_tp: 1.0000 - val_fp: 1.0000 - val_tn: 61.0000 - val_fn: 1.0000 - val_accuracy: 0.9688 - val_precision: 0.5000 - val_recall: 0.5000 - val_auc: 0.9516\n",
            "Epoch 39/1000\n",
            "20/20 [==============================] - 0s 25ms/step - loss: 0.0636 - tp: 10960.3810 - fp: 105.8095 - tn: 10988.5714 - fn: 375.7143 - accuracy: 0.9783 - precision: 0.9907 - recall: 0.9663 - auc: 0.9989 - val_loss: 0.0795 - val_tp: 1.0000 - val_fp: 1.0000 - val_tn: 61.0000 - val_fn: 1.0000 - val_accuracy: 0.9688 - val_precision: 0.5000 - val_recall: 0.5000 - val_auc: 0.9516\n",
            "Epoch 40/1000\n",
            "20/20 [==============================] - 0s 25ms/step - loss: 0.0612 - tp: 10780.5238 - fp: 94.3333 - tn: 11191.0952 - fn: 364.5238 - accuracy: 0.9796 - precision: 0.9909 - recall: 0.9679 - auc: 0.9990 - val_loss: 0.0782 - val_tp: 1.0000 - val_fp: 1.0000 - val_tn: 61.0000 - val_fn: 1.0000 - val_accuracy: 0.9688 - val_precision: 0.5000 - val_recall: 0.5000 - val_auc: 0.9516\n",
            "Epoch 41/1000\n",
            "20/20 [==============================] - 1s 26ms/step - loss: 0.0584 - tp: 10997.9524 - fp: 88.2381 - tn: 10999.1429 - fn: 345.1429 - accuracy: 0.9806 - precision: 0.9921 - recall: 0.9695 - auc: 0.9992 - val_loss: 0.0770 - val_tp: 1.0000 - val_fp: 1.0000 - val_tn: 61.0000 - val_fn: 1.0000 - val_accuracy: 0.9688 - val_precision: 0.5000 - val_recall: 0.5000 - val_auc: 0.9516\n",
            "Epoch 42/1000\n",
            "20/20 [==============================] - 0s 25ms/step - loss: 0.0571 - tp: 10841.6190 - fp: 91.7619 - tn: 11157.5238 - fn: 339.5714 - accuracy: 0.9806 - precision: 0.9912 - recall: 0.9699 - auc: 0.9991 - val_loss: 0.0763 - val_tp: 1.0000 - val_fp: 1.0000 - val_tn: 61.0000 - val_fn: 1.0000 - val_accuracy: 0.9688 - val_precision: 0.5000 - val_recall: 0.5000 - val_auc: 0.9516\n",
            "Epoch 43/1000\n",
            "20/20 [==============================] - 0s 25ms/step - loss: 0.0564 - tp: 10913.1429 - fp: 81.6190 - tn: 11080.1429 - fn: 355.5714 - accuracy: 0.9802 - precision: 0.9924 - recall: 0.9680 - auc: 0.9991 - val_loss: 0.0752 - val_tp: 1.0000 - val_fp: 1.0000 - val_tn: 61.0000 - val_fn: 1.0000 - val_accuracy: 0.9688 - val_precision: 0.5000 - val_recall: 0.5000 - val_auc: 0.9597\n",
            "Epoch 44/1000\n",
            "20/20 [==============================] - 0s 24ms/step - loss: 0.0545 - tp: 10786.1429 - fp: 76.1429 - tn: 11215.9048 - fn: 352.2857 - accuracy: 0.9808 - precision: 0.9930 - recall: 0.9681 - auc: 0.9992 - val_loss: 0.0741 - val_tp: 1.0000 - val_fp: 1.0000 - val_tn: 61.0000 - val_fn: 1.0000 - val_accuracy: 0.9688 - val_precision: 0.5000 - val_recall: 0.5000 - val_auc: 0.9637\n",
            "Epoch 45/1000\n",
            "20/20 [==============================] - 0s 25ms/step - loss: 0.0536 - tp: 10821.4286 - fp: 77.4286 - tn: 11179.3810 - fn: 352.2381 - accuracy: 0.9808 - precision: 0.9926 - recall: 0.9685 - auc: 0.9993 - val_loss: 0.0733 - val_tp: 1.0000 - val_fp: 1.0000 - val_tn: 61.0000 - val_fn: 1.0000 - val_accuracy: 0.9688 - val_precision: 0.5000 - val_recall: 0.5000 - val_auc: 0.9637\n",
            "Epoch 46/1000\n",
            "20/20 [==============================] - 0s 25ms/step - loss: 0.0508 - tp: 10887.4762 - fp: 77.0952 - tn: 11109.2381 - fn: 356.6667 - accuracy: 0.9813 - precision: 0.9935 - recall: 0.9691 - auc: 0.9994 - val_loss: 0.0725 - val_tp: 1.0000 - val_fp: 1.0000 - val_tn: 61.0000 - val_fn: 1.0000 - val_accuracy: 0.9688 - val_precision: 0.5000 - val_recall: 0.5000 - val_auc: 0.9677\n",
            "Epoch 47/1000\n",
            "20/20 [==============================] - 1s 28ms/step - loss: 0.0504 - tp: 10845.5714 - fp: 64.3333 - tn: 11174.5714 - fn: 346.0000 - accuracy: 0.9821 - precision: 0.9944 - recall: 0.9697 - auc: 0.9993 - val_loss: 0.0718 - val_tp: 1.0000 - val_fp: 1.0000 - val_tn: 61.0000 - val_fn: 1.0000 - val_accuracy: 0.9688 - val_precision: 0.5000 - val_recall: 0.5000 - val_auc: 0.9677\n",
            "Epoch 48/1000\n",
            "20/20 [==============================] - 0s 24ms/step - loss: 0.0499 - tp: 10961.4286 - fp: 63.4762 - tn: 11049.5714 - fn: 356.0000 - accuracy: 0.9811 - precision: 0.9940 - recall: 0.9684 - auc: 0.9993 - val_loss: 0.0713 - val_tp: 1.0000 - val_fp: 1.0000 - val_tn: 61.0000 - val_fn: 1.0000 - val_accuracy: 0.9688 - val_precision: 0.5000 - val_recall: 0.5000 - val_auc: 0.9677\n",
            "Epoch 49/1000\n",
            "20/20 [==============================] - 0s 25ms/step - loss: 0.0486 - tp: 10955.0000 - fp: 56.6667 - tn: 11078.6667 - fn: 340.1429 - accuracy: 0.9821 - precision: 0.9948 - recall: 0.9696 - auc: 0.9992 - val_loss: 0.0710 - val_tp: 1.0000 - val_fp: 1.0000 - val_tn: 61.0000 - val_fn: 1.0000 - val_accuracy: 0.9688 - val_precision: 0.5000 - val_recall: 0.5000 - val_auc: 0.9677\n",
            "Epoch 50/1000\n",
            "20/20 [==============================] - 1s 39ms/step - loss: 0.0501 - tp: 10883.0000 - fp: 65.3810 - tn: 11106.3810 - fn: 375.7143 - accuracy: 0.9796 - precision: 0.9936 - recall: 0.9655 - auc: 0.9992 - val_loss: 0.0702 - val_tp: 1.0000 - val_fp: 1.0000 - val_tn: 61.0000 - val_fn: 1.0000 - val_accuracy: 0.9688 - val_precision: 0.5000 - val_recall: 0.5000 - val_auc: 0.9677\n",
            "Epoch 51/1000\n",
            "20/20 [==============================] - 1s 28ms/step - loss: 0.0487 - tp: 10854.5714 - fp: 62.9524 - tn: 11155.3810 - fn: 357.5714 - accuracy: 0.9808 - precision: 0.9938 - recall: 0.9677 - auc: 0.9992 - val_loss: 0.0694 - val_tp: 1.0000 - val_fp: 1.0000 - val_tn: 61.0000 - val_fn: 1.0000 - val_accuracy: 0.9688 - val_precision: 0.5000 - val_recall: 0.5000 - val_auc: 0.9677\n",
            "Epoch 52/1000\n",
            "20/20 [==============================] - 0s 25ms/step - loss: 0.0461 - tp: 10833.2857 - fp: 51.3810 - tn: 11205.4286 - fn: 340.3810 - accuracy: 0.9829 - precision: 0.9953 - recall: 0.9702 - auc: 0.9995 - val_loss: 0.0692 - val_tp: 1.0000 - val_fp: 1.0000 - val_tn: 61.0000 - val_fn: 1.0000 - val_accuracy: 0.9688 - val_precision: 0.5000 - val_recall: 0.5000 - val_auc: 0.9677\n",
            "Epoch 53/1000\n",
            "20/20 [==============================] - 0s 24ms/step - loss: 0.0462 - tp: 10829.3810 - fp: 51.5714 - tn: 11202.4286 - fn: 347.0952 - accuracy: 0.9821 - precision: 0.9952 - recall: 0.9686 - auc: 0.9994 - val_loss: 0.0688 - val_tp: 1.0000 - val_fp: 1.0000 - val_tn: 61.0000 - val_fn: 1.0000 - val_accuracy: 0.9688 - val_precision: 0.5000 - val_recall: 0.5000 - val_auc: 0.9677\n",
            "Epoch 54/1000\n",
            "20/20 [==============================] - 0s 25ms/step - loss: 0.0447 - tp: 10851.7619 - fp: 60.7143 - tn: 11174.9524 - fn: 343.0476 - accuracy: 0.9816 - precision: 0.9940 - recall: 0.9690 - auc: 0.9994 - val_loss: 0.0684 - val_tp: 1.0000 - val_fp: 1.0000 - val_tn: 61.0000 - val_fn: 1.0000 - val_accuracy: 0.9688 - val_precision: 0.5000 - val_recall: 0.5000 - val_auc: 0.9677\n",
            "Epoch 55/1000\n",
            "20/20 [==============================] - 0s 25ms/step - loss: 0.0429 - tp: 10846.1429 - fp: 53.5238 - tn: 11215.0476 - fn: 315.7619 - accuracy: 0.9838 - precision: 0.9951 - recall: 0.9720 - auc: 0.9995 - val_loss: 0.0684 - val_tp: 1.0000 - val_fp: 1.0000 - val_tn: 61.0000 - val_fn: 1.0000 - val_accuracy: 0.9688 - val_precision: 0.5000 - val_recall: 0.5000 - val_auc: 0.9677\n",
            "Epoch 56/1000\n",
            "20/20 [==============================] - 1s 26ms/step - loss: 0.0431 - tp: 10958.0476 - fp: 62.1429 - tn: 11069.0000 - fn: 341.2857 - accuracy: 0.9821 - precision: 0.9944 - recall: 0.9701 - auc: 0.9994 - val_loss: 0.0683 - val_tp: 1.0000 - val_fp: 1.0000 - val_tn: 61.0000 - val_fn: 1.0000 - val_accuracy: 0.9688 - val_precision: 0.5000 - val_recall: 0.5000 - val_auc: 0.9718\n",
            "Epoch 57/1000\n",
            "20/20 [==============================] - 0s 24ms/step - loss: 0.0430 - tp: 10872.0000 - fp: 47.6190 - tn: 11149.5714 - fn: 361.2857 - accuracy: 0.9817 - precision: 0.9958 - recall: 0.9675 - auc: 0.9995 - val_loss: 0.0683 - val_tp: 1.0000 - val_fp: 1.0000 - val_tn: 61.0000 - val_fn: 1.0000 - val_accuracy: 0.9688 - val_precision: 0.5000 - val_recall: 0.5000 - val_auc: 0.9677\n",
            "Epoch 58/1000\n",
            "20/20 [==============================] - 1s 26ms/step - loss: 0.0429 - tp: 10858.4286 - fp: 42.5238 - tn: 11168.9048 - fn: 360.6190 - accuracy: 0.9819 - precision: 0.9965 - recall: 0.9673 - auc: 0.9995 - val_loss: 0.0682 - val_tp: 1.0000 - val_fp: 1.0000 - val_tn: 61.0000 - val_fn: 1.0000 - val_accuracy: 0.9688 - val_precision: 0.5000 - val_recall: 0.5000 - val_auc: 0.9718\n",
            "Epoch 59/1000\n",
            "20/20 [==============================] - 0s 25ms/step - loss: 0.0413 - tp: 10789.3810 - fp: 44.9048 - tn: 11244.1905 - fn: 352.0000 - accuracy: 0.9820 - precision: 0.9957 - recall: 0.9680 - auc: 0.9995 - val_loss: 0.0681 - val_tp: 1.0000 - val_fp: 1.0000 - val_tn: 61.0000 - val_fn: 1.0000 - val_accuracy: 0.9688 - val_precision: 0.5000 - val_recall: 0.5000 - val_auc: 0.9758\n",
            "Epoch 60/1000\n",
            "20/20 [==============================] - 1s 26ms/step - loss: 0.0425 - tp: 10950.5714 - fp: 46.7619 - tn: 11069.2857 - fn: 363.8571 - accuracy: 0.9815 - precision: 0.9957 - recall: 0.9676 - auc: 0.9994 - val_loss: 0.0677 - val_tp: 1.0000 - val_fp: 1.0000 - val_tn: 61.0000 - val_fn: 1.0000 - val_accuracy: 0.9688 - val_precision: 0.5000 - val_recall: 0.5000 - val_auc: 0.9758\n",
            "Epoch 61/1000\n",
            "20/20 [==============================] - 1s 26ms/step - loss: 0.0412 - tp: 10902.7619 - fp: 46.9524 - tn: 11119.1905 - fn: 361.5714 - accuracy: 0.9819 - precision: 0.9959 - recall: 0.9679 - auc: 0.9995 - val_loss: 0.0671 - val_tp: 1.0000 - val_fp: 1.0000 - val_tn: 61.0000 - val_fn: 1.0000 - val_accuracy: 0.9688 - val_precision: 0.5000 - val_recall: 0.5000 - val_auc: 0.9758\n",
            "Epoch 62/1000\n",
            "20/20 [==============================] - 0s 25ms/step - loss: 0.0399 - tp: 10814.4286 - fp: 45.4762 - tn: 11207.4762 - fn: 363.0952 - accuracy: 0.9817 - precision: 0.9955 - recall: 0.9675 - auc: 0.9995 - val_loss: 0.0671 - val_tp: 1.0000 - val_fp: 1.0000 - val_tn: 61.0000 - val_fn: 1.0000 - val_accuracy: 0.9688 - val_precision: 0.5000 - val_recall: 0.5000 - val_auc: 0.9758\n",
            "Epoch 63/1000\n",
            "20/20 [==============================] - 0s 24ms/step - loss: 0.0382 - tp: 10849.5238 - fp: 41.7619 - tn: 11193.3333 - fn: 345.8571 - accuracy: 0.9830 - precision: 0.9961 - recall: 0.9696 - auc: 0.9995 - val_loss: 0.0671 - val_tp: 1.0000 - val_fp: 1.0000 - val_tn: 61.0000 - val_fn: 1.0000 - val_accuracy: 0.9688 - val_precision: 0.5000 - val_recall: 0.5000 - val_auc: 0.9758\n",
            "Epoch 64/1000\n",
            "20/20 [==============================] - 0s 24ms/step - loss: 0.0396 - tp: 10922.8571 - fp: 35.4762 - tn: 11098.7619 - fn: 373.3810 - accuracy: 0.9820 - precision: 0.9970 - recall: 0.9672 - auc: 0.9995 - val_loss: 0.0672 - val_tp: 1.0000 - val_fp: 1.0000 - val_tn: 61.0000 - val_fn: 1.0000 - val_accuracy: 0.9688 - val_precision: 0.5000 - val_recall: 0.5000 - val_auc: 0.9758\n",
            "Epoch 65/1000\n",
            "20/20 [==============================] - 0s 25ms/step - loss: 0.0393 - tp: 10795.4286 - fp: 46.7619 - tn: 11238.8095 - fn: 349.4762 - accuracy: 0.9826 - precision: 0.9957 - recall: 0.9690 - auc: 0.9995 - val_loss: 0.0671 - val_tp: 1.0000 - val_fp: 1.0000 - val_tn: 61.0000 - val_fn: 1.0000 - val_accuracy: 0.9688 - val_precision: 0.5000 - val_recall: 0.5000 - val_auc: 0.9758\n",
            "Epoch 66/1000\n",
            "20/20 [==============================] - 0s 25ms/step - loss: 0.0378 - tp: 10854.7143 - fp: 34.8095 - tn: 11167.0476 - fn: 373.9048 - accuracy: 0.9824 - precision: 0.9969 - recall: 0.9680 - auc: 0.9995 - val_loss: 0.0665 - val_tp: 1.0000 - val_fp: 1.0000 - val_tn: 61.0000 - val_fn: 1.0000 - val_accuracy: 0.9688 - val_precision: 0.5000 - val_recall: 0.5000 - val_auc: 0.9758\n",
            "Epoch 67/1000\n",
            "20/20 [==============================] - 0s 24ms/step - loss: 0.0382 - tp: 10918.3810 - fp: 35.3333 - tn: 11106.4286 - fn: 370.3333 - accuracy: 0.9817 - precision: 0.9972 - recall: 0.9664 - auc: 0.9996 - val_loss: 0.0666 - val_tp: 1.0000 - val_fp: 1.0000 - val_tn: 61.0000 - val_fn: 1.0000 - val_accuracy: 0.9688 - val_precision: 0.5000 - val_recall: 0.5000 - val_auc: 0.9758\n",
            "Epoch 68/1000\n",
            "20/20 [==============================] - 0s 25ms/step - loss: 0.0391 - tp: 10850.6190 - fp: 44.6190 - tn: 11179.5238 - fn: 355.7143 - accuracy: 0.9817 - precision: 0.9954 - recall: 0.9680 - auc: 0.9994 - val_loss: 0.0664 - val_tp: 1.0000 - val_fp: 1.0000 - val_tn: 61.0000 - val_fn: 1.0000 - val_accuracy: 0.9688 - val_precision: 0.5000 - val_recall: 0.5000 - val_auc: 0.9758\n",
            "Epoch 69/1000\n",
            "20/20 [==============================] - 1s 26ms/step - loss: 0.0374 - tp: 10920.8571 - fp: 36.7619 - tn: 11134.4286 - fn: 338.4286 - accuracy: 0.9831 - precision: 0.9964 - recall: 0.9699 - auc: 0.9995 - val_loss: 0.0657 - val_tp: 1.0000 - val_fp: 1.0000 - val_tn: 61.0000 - val_fn: 1.0000 - val_accuracy: 0.9688 - val_precision: 0.5000 - val_recall: 0.5000 - val_auc: 0.9758\n",
            "Epoch 70/1000\n",
            "20/20 [==============================] - 0s 25ms/step - loss: 0.0363 - tp: 10823.4762 - fp: 44.0000 - tn: 11229.5238 - fn: 333.4762 - accuracy: 0.9833 - precision: 0.9961 - recall: 0.9701 - auc: 0.9995 - val_loss: 0.0654 - val_tp: 1.0000 - val_fp: 1.0000 - val_tn: 61.0000 - val_fn: 1.0000 - val_accuracy: 0.9688 - val_precision: 0.5000 - val_recall: 0.5000 - val_auc: 0.9758\n",
            "Epoch 71/1000\n",
            "20/20 [==============================] - 1s 26ms/step - loss: 0.0367 - tp: 10861.3810 - fp: 35.9524 - tn: 11174.6190 - fn: 358.5238 - accuracy: 0.9825 - precision: 0.9967 - recall: 0.9683 - auc: 0.9996 - val_loss: 0.0651 - val_tp: 1.0000 - val_fp: 0.0000e+00 - val_tn: 62.0000 - val_fn: 1.0000 - val_accuracy: 0.9844 - val_precision: 1.0000 - val_recall: 0.5000 - val_auc: 0.9758\n",
            "Epoch 72/1000\n",
            "20/20 [==============================] - 0s 24ms/step - loss: 0.0344 - tp: 10875.1905 - fp: 30.7619 - tn: 11191.7619 - fn: 332.7619 - accuracy: 0.9840 - precision: 0.9973 - recall: 0.9705 - auc: 0.9996 - val_loss: 0.0650 - val_tp: 1.0000 - val_fp: 1.0000 - val_tn: 61.0000 - val_fn: 1.0000 - val_accuracy: 0.9688 - val_precision: 0.5000 - val_recall: 0.5000 - val_auc: 0.9758\n",
            "Epoch 73/1000\n",
            "20/20 [==============================] - 0s 25ms/step - loss: 0.0350 - tp: 10886.3333 - fp: 31.5238 - tn: 11151.3333 - fn: 361.2857 - accuracy: 0.9824 - precision: 0.9971 - recall: 0.9676 - auc: 0.9996 - val_loss: 0.0651 - val_tp: 1.0000 - val_fp: 1.0000 - val_tn: 61.0000 - val_fn: 1.0000 - val_accuracy: 0.9688 - val_precision: 0.5000 - val_recall: 0.5000 - val_auc: 0.9758\n",
            "Restoring model weights from the end of the best epoch.\n",
            "Epoch 00073: early stopping\n"
          ],
          "name": "stdout"
        }
      ]
    },
    {
      "cell_type": "code",
      "metadata": {
        "colab": {
          "base_uri": "https://localhost:8080/",
          "height": 609
        },
        "id": "RqpDTJZwqixa",
        "outputId": "d0394244-c466-45b8-cae0-6f1a49ff6269"
      },
      "source": [
        "plot_metrics(resampled_history)"
      ],
      "execution_count": 249,
      "outputs": [
        {
          "output_type": "display_data",
          "data": {
            "image/png": "[encoded data removed]",
            "text/plain": [
              "<Figure size 864x720 with 4 Axes>"
            ]
          },
          "metadata": {
            "tags": [],
            "needs_background": "light"
          }
        }
      ]
    },
    {
      "cell_type": "code",
      "metadata": {
        "colab": {
          "base_uri": "https://localhost:8080/"
        },
        "id": "q7325UUPqqpM",
        "outputId": "45d8434f-4710-4df7-c8a5-c02d8d9e755b"
      },
      "source": [
        "train_predictions_resampled = resampled_model.predict(train_features, batch_size=BATCH_SIZE)\r\n",
        "test_predictions_resampled = resampled_model.predict(test_features, batch_size=BATCH_SIZE)"
      ],
      "execution_count": 250,
      "outputs": [
        {
          "output_type": "stream",
          "text": [
            "WARNING:tensorflow:7 out of the last 12 calls to <function Model.make_predict_function.<locals>.predict_function at 0x7f4b4e7ba950> triggered tf.function retracing. Tracing is expensive and the excessive number of tracings could be due to (1) creating @tf.function repeatedly in a loop, (2) passing tensors with different shapes, (3) passing Python objects instead of tensors. For (1), please define your @tf.function outside of the loop. For (2), @tf.function has experimental_relax_shapes=True option that relaxes argument shapes that can avoid unnecessary retracing. For (3), please refer to https://www.tensorflow.org/guide/function#controlling_retracing and https://www.tensorflow.org/api_docs/python/tf/function for  more details.\n"
          ],
          "name": "stdout"
        }
      ]
    },
    {
      "cell_type": "code",
      "metadata": {
        "colab": {
          "base_uri": "https://localhost:8080/",
          "height": 602
        },
        "id": "FhrHjr6pqyCR",
        "outputId": "7d3afa8d-3965-47d9-eac9-8f246c9954e8"
      },
      "source": [
        "resampled_results = resampled_model.evaluate(test_features, test_labels,\r\n",
        "                                             batch_size=BATCH_SIZE, verbose=0)\r\n",
        "for name, value in zip(resampled_model.metrics_names, resampled_results):\r\n",
        "  print(name, ': ', value)\r\n",
        "print()\r\n",
        "\r\n",
        "plot_cm(test_labels, test_predictions_resampled)"
      ],
      "execution_count": 251,
      "outputs": [
        {
          "output_type": "stream",
          "text": [
            "loss :  0.06567620486021042\n",
            "tp :  3.0\n",
            "fp :  0.0\n",
            "tn :  76.0\n",
            "fn :  1.0\n",
            "accuracy :  0.987500011920929\n",
            "precision :  1.0\n",
            "recall :  0.75\n",
            "auc :  0.9605262875556946\n",
            "\n",
            "Legitimate Transactions Detected (True Negatives):  76\n",
            "Legitimate Transactions Incorrectly Detected (False Positives):  0\n",
            "Fraudulent Transactions Missed (False Negatives):  1\n",
            "Fraudulent Transactions Detected (True Positives):  3\n",
            "Total Fraudulent Transactions:  4\n"
          ],
          "name": "stdout"
        },
        {
          "output_type": "display_data",
          "data": {
            "image/png": "[encoded data removed]",
            "text/plain": [
              "<Figure size 360x360 with 2 Axes>"
            ]
          },
          "metadata": {
            "tags": [],
            "needs_background": "light"
          }
        }
      ]
    },
    {
      "cell_type": "code",
      "metadata": {
        "colab": {
          "base_uri": "https://localhost:8080/",
          "height": 623
        },
        "id": "yGl5kPUWqz9m",
        "outputId": "da7694fd-a0e6-4dff-c0ec-7147f1f23b89"
      },
      "source": [
        "plot_roc(\"Train Baseline\", train_labels, train_predictions_baseline, color=colors[0])\r\n",
        "plot_roc(\"Test Baseline\", test_labels, test_predictions_baseline, color=colors[0], linestyle='--')\r\n",
        "\r\n",
        "plot_roc(\"Train Weighted\", train_labels, train_predictions_weighted, color=colors[1])\r\n",
        "plot_roc(\"Test Weighted\", test_labels, test_predictions_weighted, color=colors[1], linestyle='--')\r\n",
        "\r\n",
        "plot_roc(\"Train Resampled\", train_labels, train_predictions_resampled, color=colors[2])\r\n",
        "plot_roc(\"Test Resampled\", test_labels, test_predictions_resampled, color=colors[2], linestyle='--')\r\n",
        "plt.legend(loc='lower right')"
      ],
      "execution_count": 252,
      "outputs": [
        {
          "output_type": "execute_result",
          "data": {
            "text/plain": [
              "<matplotlib.legend.Legend at 0x7f4b566c8a20>"
            ]
          },
          "metadata": {
            "tags": []
          },
          "execution_count": 252
        },
        {
          "output_type": "display_data",
          "data": {
            "image/png": "[encoded data removed]",
            "text/plain": [
              "<Figure size 864x720 with 1 Axes>"
            ]
          },
          "metadata": {
            "tags": [],
            "needs_background": "light"
          }
        }
      ]
    },
    {
      "cell_type": "code",
      "metadata": {
        "id": "Xj7yURLCq5EO"
      },
      "source": [
        ""
      ],
      "execution_count": null,
      "outputs": []
    }
  ]
}