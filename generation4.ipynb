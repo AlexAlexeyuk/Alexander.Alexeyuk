{
  "nbformat": 4,
  "nbformat_minor": 0,
  "metadata": {
    "colab": {
      "name": "generation.ipynb",
      "provenance": [],
      "authorship_tag": "ABX9TyNuRVG3JvLi7RyzUCNf+U/x",
      "include_colab_link": true
    },
    "kernelspec": {
      "name": "python3",
      "display_name": "Python 3"
    }
  },
  "cells": [
    {
      "cell_type": "markdown",
      "metadata": {
        "id": "view-in-github",
        "colab_type": "text"
      },
      "source": [
        "<a href=\"https://colab.research.google.com/github/AlexAlexeyuk/Alexander.Alexeyuk/blob/master/generation4.ipynb\" target=\"_parent\"><img src=\"https://colab.research.google.com/assets/colab-badge.svg\" alt=\"Open In Colab\"/></a>"
      ]
    },
    {
      "cell_type": "code",
      "metadata": {
        "colab": {
          "base_uri": "https://localhost:8080/"
        },
        "id": "tokP_QsTntw1",
        "outputId": "cd9eb3d4-fa41-4b42-e52a-ce96ad86a14f"
      },
      "source": [
        "import pandas as pd\r\n",
        "import numpy as np\r\n",
        "!pip install sdv"
      ],
      "execution_count": 155,
      "outputs": [
        {
          "output_type": "stream",
          "text": [
            "Requirement already satisfied: sdv in /usr/local/lib/python3.6/dist-packages (0.7.0)\n",
            "Requirement already satisfied: rdt<0.4,>=0.2.10 in /usr/local/lib/python3.6/dist-packages (from sdv) (0.3.0)\n",
            "Requirement already satisfied: deepecho<0.2,>=0.1.4 in /usr/local/lib/python3.6/dist-packages (from sdv) (0.1.4)\n",
            "Requirement already satisfied: sdmetrics<0.2.0,>=0.1.2 in /usr/local/lib/python3.6/dist-packages (from sdv) (0.1.3)\n",
            "Requirement already satisfied: ctgan<0.4,>=0.3.1 in /usr/local/lib/python3.6/dist-packages (from sdv) (0.3.1)\n",
            "Requirement already satisfied: pandas<1.1.5,>=1.1 in /usr/local/lib/python3.6/dist-packages (from sdv) (1.1.4)\n",
            "Requirement already satisfied: copulas<0.5,>=0.4.0 in /usr/local/lib/python3.6/dist-packages (from sdv) (0.4.0)\n",
            "Requirement already satisfied: graphviz<1,>=0.13.2 in /usr/local/lib/python3.6/dist-packages (from sdv) (0.16)\n",
            "Requirement already satisfied: scipy<1.6,>=1.1.0 in /usr/local/lib/python3.6/dist-packages (from sdv) (1.4.1)\n",
            "Requirement already satisfied: numpy<2,>=1.18.0 in /usr/local/lib/python3.6/dist-packages (from sdv) (1.19.5)\n",
            "Requirement already satisfied: Faker<4.15,>=1.0.1 in /usr/local/lib/python3.6/dist-packages (from rdt<0.4,>=0.2.10->sdv) (4.14.2)\n",
            "Requirement already satisfied: torch<2,>=1 in /usr/local/lib/python3.6/dist-packages (from deepecho<0.2,>=0.1.4->sdv) (1.7.0+cu101)\n",
            "Requirement already satisfied: tqdm<5,>=4 in /usr/local/lib/python3.6/dist-packages (from deepecho<0.2,>=0.1.4->sdv) (4.41.1)\n",
            "Requirement already satisfied: scikit-learn<1,>=0.20 in /usr/local/lib/python3.6/dist-packages (from sdmetrics<0.2.0,>=0.1.2->sdv) (0.22.2.post1)\n",
            "Requirement already satisfied: pomegranate<0.13.5,>=0.13.0 in /usr/local/lib/python3.6/dist-packages (from sdmetrics<0.2.0,>=0.1.2->sdv) (0.13.4)\n",
            "Requirement already satisfied: sktime<0.6,>=0.4 in /usr/local/lib/python3.6/dist-packages (from sdmetrics<0.2.0,>=0.1.2->sdv) (0.5.3)\n",
            "Requirement already satisfied: torchvision<1,>=0.4.2 in /usr/local/lib/python3.6/dist-packages (from ctgan<0.4,>=0.3.1->sdv) (0.8.1+cu101)\n",
            "Requirement already satisfied: packaging in /usr/local/lib/python3.6/dist-packages (from ctgan<0.4,>=0.3.1->sdv) (20.9)\n",
            "Requirement already satisfied: python-dateutil>=2.7.3 in /usr/local/lib/python3.6/dist-packages (from pandas<1.1.5,>=1.1->sdv) (2.8.1)\n",
            "Requirement already satisfied: pytz>=2017.2 in /usr/local/lib/python3.6/dist-packages (from pandas<1.1.5,>=1.1->sdv) (2018.9)\n",
            "Requirement already satisfied: matplotlib<3.2.2,>=2.2.2 in /usr/local/lib/python3.6/dist-packages (from copulas<0.5,>=0.4.0->sdv) (3.2.1)\n",
            "Requirement already satisfied: text-unidecode==1.3 in /usr/local/lib/python3.6/dist-packages (from Faker<4.15,>=1.0.1->rdt<0.4,>=0.2.10->sdv) (1.3)\n",
            "Requirement already satisfied: dataclasses in /usr/local/lib/python3.6/dist-packages (from torch<2,>=1->deepecho<0.2,>=0.1.4->sdv) (0.8)\n",
            "Requirement already satisfied: typing-extensions in /usr/local/lib/python3.6/dist-packages (from torch<2,>=1->deepecho<0.2,>=0.1.4->sdv) (3.7.4.3)\n",
            "Requirement already satisfied: future in /usr/local/lib/python3.6/dist-packages (from torch<2,>=1->deepecho<0.2,>=0.1.4->sdv) (0.16.0)\n",
            "Requirement already satisfied: joblib>=0.11 in /usr/local/lib/python3.6/dist-packages (from scikit-learn<1,>=0.20->sdmetrics<0.2.0,>=0.1.2->sdv) (1.0.0)\n",
            "Requirement already satisfied: pyyaml in /usr/local/lib/python3.6/dist-packages (from pomegranate<0.13.5,>=0.13.0->sdmetrics<0.2.0,>=0.1.2->sdv) (3.13)\n",
            "Requirement already satisfied: networkx>=2.0 in /usr/local/lib/python3.6/dist-packages (from pomegranate<0.13.5,>=0.13.0->sdmetrics<0.2.0,>=0.1.2->sdv) (2.5)\n",
            "Requirement already satisfied: statsmodels>=0.12.1 in /usr/local/lib/python3.6/dist-packages (from sktime<0.6,>=0.4->sdmetrics<0.2.0,>=0.1.2->sdv) (0.12.2)\n",
            "Requirement already satisfied: wheel in /usr/local/lib/python3.6/dist-packages (from sktime<0.6,>=0.4->sdmetrics<0.2.0,>=0.1.2->sdv) (0.36.2)\n",
            "Requirement already satisfied: numba>=0.50 in /usr/local/lib/python3.6/dist-packages (from sktime<0.6,>=0.4->sdmetrics<0.2.0,>=0.1.2->sdv) (0.51.2)\n",
            "Requirement already satisfied: pillow>=4.1.1 in /usr/local/lib/python3.6/dist-packages (from torchvision<1,>=0.4.2->ctgan<0.4,>=0.3.1->sdv) (7.0.0)\n",
            "Requirement already satisfied: pyparsing>=2.0.2 in /usr/local/lib/python3.6/dist-packages (from packaging->ctgan<0.4,>=0.3.1->sdv) (2.4.7)\n",
            "Requirement already satisfied: six>=1.5 in /usr/local/lib/python3.6/dist-packages (from python-dateutil>=2.7.3->pandas<1.1.5,>=1.1->sdv) (1.15.0)\n",
            "Requirement already satisfied: cycler>=0.10 in /usr/local/lib/python3.6/dist-packages (from matplotlib<3.2.2,>=2.2.2->copulas<0.5,>=0.4.0->sdv) (0.10.0)\n",
            "Requirement already satisfied: kiwisolver>=1.0.1 in /usr/local/lib/python3.6/dist-packages (from matplotlib<3.2.2,>=2.2.2->copulas<0.5,>=0.4.0->sdv) (1.3.1)\n",
            "Requirement already satisfied: decorator>=4.3.0 in /usr/local/lib/python3.6/dist-packages (from networkx>=2.0->pomegranate<0.13.5,>=0.13.0->sdmetrics<0.2.0,>=0.1.2->sdv) (4.4.2)\n",
            "Requirement already satisfied: patsy>=0.5 in /usr/local/lib/python3.6/dist-packages (from statsmodels>=0.12.1->sktime<0.6,>=0.4->sdmetrics<0.2.0,>=0.1.2->sdv) (0.5.1)\n",
            "Requirement already satisfied: llvmlite<0.35,>=0.34.0.dev0 in /usr/local/lib/python3.6/dist-packages (from numba>=0.50->sktime<0.6,>=0.4->sdmetrics<0.2.0,>=0.1.2->sdv) (0.34.0)\n",
            "Requirement already satisfied: setuptools in /usr/local/lib/python3.6/dist-packages (from numba>=0.50->sktime<0.6,>=0.4->sdmetrics<0.2.0,>=0.1.2->sdv) (53.0.0)\n"
          ],
          "name": "stdout"
        }
      ]
    },
    {
      "cell_type": "code",
      "metadata": {
        "id": "vjOgNuyPn2CT"
      },
      "source": [
        "import matplotlib.pyplot as plt\r\n"
      ],
      "execution_count": 156,
      "outputs": []
    },
    {
      "cell_type": "code",
      "metadata": {
        "id": "LoA9jCTBoOp4"
      },
      "source": [
        "df  = pd.read_csv('/content/Proc_data_1.csv')"
      ],
      "execution_count": 157,
      "outputs": []
    },
    {
      "cell_type": "code",
      "metadata": {
        "id": "CoaoYSfzoRzq"
      },
      "source": [
        "\r\n",
        "df = df.drop(['Hemoglobin','Unnamed: 0', 'Unnamed: 0.1',\r\n",
        "         'ID', 'Diagnosis', \r\n",
        "         'COVID-19'], axis=1)"
      ],
      "execution_count": 158,
      "outputs": []
    },
    {
      "cell_type": "code",
      "metadata": {
        "colab": {
          "base_uri": "https://localhost:8080/",
          "height": 282
        },
        "id": "GWwGLz0koUYi",
        "outputId": "a390d553-3f61-44ab-9b92-95a52ba2f4c9"
      },
      "source": [
        "df['Initial_Procalcitonine'].hist()\r\n"
      ],
      "execution_count": null,
      "outputs": [
        {
          "output_type": "execute_result",
          "data": {
            "text/plain": [
              "<matplotlib.axes._subplots.AxesSubplot at 0x7fb8e01a9390>"
            ]
          },
          "metadata": {
            "tags": []
          },
          "execution_count": 7
        },
        {
          "output_type": "display_data",
          "data": {
            "image/png": "[encoded data removed]",
            "text/plain": [
              "<Figure size 432x288 with 1 Axes>"
            ]
          },
          "metadata": {
            "tags": [],
            "needs_background": "light"
          }
        }
      ]
    },
    {
      "cell_type": "code",
      "metadata": {
        "colab": {
          "base_uri": "https://localhost:8080/",
          "height": 282
        },
        "id": "X-JoZ3rIohES",
        "outputId": "d6d20951-19ea-4e32-e7a5-9e7e05e259a5"
      },
      "source": [
        "df['Max_Procalcitonine'].hist()"
      ],
      "execution_count": null,
      "outputs": [
        {
          "output_type": "execute_result",
          "data": {
            "text/plain": [
              "<matplotlib.axes._subplots.AxesSubplot at 0x7fb8dfd0afd0>"
            ]
          },
          "metadata": {
            "tags": []
          },
          "execution_count": 8
        },
        {
          "output_type": "display_data",
          "data": {
            "image/png": "[encoded data removed]",
            "text/plain": [
              "<Figure size 432x288 with 1 Axes>"
            ]
          },
          "metadata": {
            "tags": [],
            "needs_background": "light"
          }
        }
      ]
    },
    {
      "cell_type": "code",
      "metadata": {
        "id": "L64QoFncCH0w"
      },
      "source": [
        "# переводим наши даты в формат пандас\r\n",
        "for i in ['Birthday', 'Admission', 'Discharge']:\r\n",
        "  df[i] = pd.to_datetime(df[i], format = \"%d:%m:%Y\")\r\n",
        "# длительность госпитализации = выписка - поступление\r\n",
        "df[\"duration\"] = (df['Discharge'] - df['Admission']).dt.days\r\n",
        "\r\n",
        "# возраст пациента рассчитаем: день рождения - поступление = дни и целочисленно делим на 356\r\n",
        "df[\"Age\"] = ((df['Admission'] - df['Birthday']).dt.days) // 356\r\n",
        "data = df.drop(['Birthday', 'Admission', 'Discharge'], axis=1)"
      ],
      "execution_count": 160,
      "outputs": []
    },
    {
      "cell_type": "code",
      "metadata": {
        "id": "qrrtordmoljR",
        "colab": {
          "base_uri": "https://localhost:8080/",
          "height": 736
        },
        "outputId": "8a0d33f2-ac46-43ec-cabd-68f7ea992a5c"
      },
      "source": [
        "from sdv.tabular import GaussianCopula\r\n",
        "model = GaussianCopula()\r\n",
        "model.fit(df)\r\n",
        "new_data_1 = model.sample(400)\r\n",
        "new_data_1.head()"
      ],
      "execution_count": 161,
      "outputs": [
        {
          "output_type": "stream",
          "text": [
            "/usr/local/lib/python3.6/dist-packages/scipy/stats/_continuous_distns.py:547: RuntimeWarning: invalid value encountered in sqrt\n",
            "  sk = 2*(b-a)*np.sqrt(a + b + 1) / (a + b + 2) / np.sqrt(a*b)\n",
            "/usr/local/lib/python3.6/dist-packages/scipy/optimize/minpack.py:162: RuntimeWarning: The iteration is not making good progress, as measured by the \n",
            "  improvement from the last ten iterations.\n",
            "  warnings.warn(msg, RuntimeWarning)\n",
            "/usr/local/lib/python3.6/dist-packages/scipy/stats/_continuous_distns.py:4798: RuntimeWarning: divide by zero encountered in true_divide\n",
            "  return c**2 / (c**2 - n**2)\n",
            "/usr/local/lib/python3.6/dist-packages/scipy/stats/_distn_infrastructure.py:2407: RuntimeWarning: invalid value encountered in double_scalars\n",
            "  Lhat = muhat - Shat*mu\n",
            "/usr/local/lib/python3.6/dist-packages/scipy/optimize/minpack.py:162: RuntimeWarning: The iteration is not making good progress, as measured by the \n",
            "  improvement from the last five Jacobian evaluations.\n",
            "  warnings.warn(msg, RuntimeWarning)\n",
            "/usr/local/lib/python3.6/dist-packages/scipy/optimize/minpack.py:162: RuntimeWarning: The number of calls to function has reached maxfev = 600.\n",
            "  warnings.warn(msg, RuntimeWarning)\n",
            "/usr/local/lib/python3.6/dist-packages/scipy/stats/_continuous_distns.py:4789: RuntimeWarning: divide by zero encountered in power\n",
            "  return cd2*x**(c-1)\n"
          ],
          "name": "stderr"
        },
        {
          "output_type": "execute_result",
          "data": {
            "text/html": [
              "<div>\n",
              "<style scoped>\n",
              "    .dataframe tbody tr th:only-of-type {\n",
              "        vertical-align: middle;\n",
              "    }\n",
              "\n",
              "    .dataframe tbody tr th {\n",
              "        vertical-align: top;\n",
              "    }\n",
              "\n",
              "    .dataframe thead th {\n",
              "        text-align: right;\n",
              "    }\n",
              "</style>\n",
              "<table border=\"1\" class=\"dataframe\">\n",
              "  <thead>\n",
              "    <tr style=\"text-align: right;\">\n",
              "      <th></th>\n",
              "      <th>Max_Platlets</th>\n",
              "      <th>Min_Platlets</th>\n",
              "      <th>Max_Leucocytes</th>\n",
              "      <th>Min_Leucocytes</th>\n",
              "      <th>Max_Creatinine</th>\n",
              "      <th>Min_Cratinine</th>\n",
              "      <th>Gender</th>\n",
              "      <th>initial_CRP</th>\n",
              "      <th>Max_CRP</th>\n",
              "      <th>Treatment</th>\n",
              "      <th>Birthday</th>\n",
              "      <th>Admission</th>\n",
              "      <th>Discharge</th>\n",
              "      <th>Pneumonia</th>\n",
              "      <th>Severity</th>\n",
              "      <th>IHD</th>\n",
              "      <th>COPD</th>\n",
              "      <th>Bronchial_asthma</th>\n",
              "      <th>Obesity</th>\n",
              "      <th>Diabetes</th>\n",
              "      <th>RF</th>\n",
              "      <th>ALT</th>\n",
              "      <th>AST</th>\n",
              "      <th>Initial_Procalcitonine</th>\n",
              "      <th>Max_Procalcitonine</th>\n",
              "      <th>duration</th>\n",
              "      <th>Age</th>\n",
              "    </tr>\n",
              "  </thead>\n",
              "  <tbody>\n",
              "    <tr>\n",
              "      <th>0</th>\n",
              "      <td>285.172818</td>\n",
              "      <td>285.242534</td>\n",
              "      <td>11.668202</td>\n",
              "      <td>11.665753</td>\n",
              "      <td>101.266048</td>\n",
              "      <td>83.635372</td>\n",
              "      <td>male</td>\n",
              "      <td>0.498560</td>\n",
              "      <td>4.163077</td>\n",
              "      <td>цефтриаксон, глюкоза, вит. с, фрагмин, омепра...</td>\n",
              "      <td>1952-03-28</td>\n",
              "      <td>2021-01-19</td>\n",
              "      <td>2021-01-23</td>\n",
              "      <td>1</td>\n",
              "      <td>0</td>\n",
              "      <td>1</td>\n",
              "      <td>0</td>\n",
              "      <td>0</td>\n",
              "      <td>0</td>\n",
              "      <td>0</td>\n",
              "      <td>-0.416142</td>\n",
              "      <td>45.861298</td>\n",
              "      <td>7.886802</td>\n",
              "      <td>0.219611</td>\n",
              "      <td>0.157277</td>\n",
              "      <td>9</td>\n",
              "      <td>68</td>\n",
              "    </tr>\n",
              "    <tr>\n",
              "      <th>1</th>\n",
              "      <td>350.908044</td>\n",
              "      <td>350.874077</td>\n",
              "      <td>11.678031</td>\n",
              "      <td>11.678783</td>\n",
              "      <td>105.127198</td>\n",
              "      <td>70.393810</td>\n",
              "      <td>male</td>\n",
              "      <td>13.458354</td>\n",
              "      <td>1.293862</td>\n",
              "      <td>дексаметазон, гепарин, фамотидин, парацетамол...</td>\n",
              "      <td>1968-01-16</td>\n",
              "      <td>2020-08-23</td>\n",
              "      <td>2020-11-24</td>\n",
              "      <td>1</td>\n",
              "      <td>1</td>\n",
              "      <td>0</td>\n",
              "      <td>0</td>\n",
              "      <td>0</td>\n",
              "      <td>0</td>\n",
              "      <td>0</td>\n",
              "      <td>1.641096</td>\n",
              "      <td>10.310594</td>\n",
              "      <td>0.215320</td>\n",
              "      <td>0.149311</td>\n",
              "      <td>0.138303</td>\n",
              "      <td>25</td>\n",
              "      <td>43</td>\n",
              "    </tr>\n",
              "    <tr>\n",
              "      <th>2</th>\n",
              "      <td>223.487350</td>\n",
              "      <td>223.519619</td>\n",
              "      <td>11.377648</td>\n",
              "      <td>11.379763</td>\n",
              "      <td>107.204905</td>\n",
              "      <td>74.944780</td>\n",
              "      <td>male</td>\n",
              "      <td>5.565566</td>\n",
              "      <td>11.944603</td>\n",
              "      <td>цефтриаксон, дексаметазон, гепарин, парацетам...</td>\n",
              "      <td>1979-09-14</td>\n",
              "      <td>2020-11-17</td>\n",
              "      <td>2021-01-29</td>\n",
              "      <td>1</td>\n",
              "      <td>1</td>\n",
              "      <td>-1</td>\n",
              "      <td>0</td>\n",
              "      <td>0</td>\n",
              "      <td>0</td>\n",
              "      <td>0</td>\n",
              "      <td>2.822994</td>\n",
              "      <td>71.466698</td>\n",
              "      <td>26.065321</td>\n",
              "      <td>0.068476</td>\n",
              "      <td>0.064911</td>\n",
              "      <td>25</td>\n",
              "      <td>42</td>\n",
              "    </tr>\n",
              "    <tr>\n",
              "      <th>3</th>\n",
              "      <td>360.900169</td>\n",
              "      <td>360.888965</td>\n",
              "      <td>11.797338</td>\n",
              "      <td>11.797091</td>\n",
              "      <td>112.910427</td>\n",
              "      <td>66.523662</td>\n",
              "      <td>male</td>\n",
              "      <td>69.837857</td>\n",
              "      <td>34.639941</td>\n",
              "      <td>цефтриаксон,  дексаметазон, эноксапарин, аце...</td>\n",
              "      <td>1956-12-09</td>\n",
              "      <td>2020-09-04</td>\n",
              "      <td>2021-01-14</td>\n",
              "      <td>1</td>\n",
              "      <td>1</td>\n",
              "      <td>0</td>\n",
              "      <td>0</td>\n",
              "      <td>0</td>\n",
              "      <td>0</td>\n",
              "      <td>0</td>\n",
              "      <td>1.688467</td>\n",
              "      <td>45.306939</td>\n",
              "      <td>19.320531</td>\n",
              "      <td>0.314717</td>\n",
              "      <td>0.264842</td>\n",
              "      <td>19</td>\n",
              "      <td>69</td>\n",
              "    </tr>\n",
              "    <tr>\n",
              "      <th>4</th>\n",
              "      <td>215.815522</td>\n",
              "      <td>215.754058</td>\n",
              "      <td>9.334102</td>\n",
              "      <td>9.331187</td>\n",
              "      <td>113.331670</td>\n",
              "      <td>77.589488</td>\n",
              "      <td>male</td>\n",
              "      <td>2.276815</td>\n",
              "      <td>16.459769</td>\n",
              "      <td>фраксипарин , аспикард, цефтриаксон, лизинопри...</td>\n",
              "      <td>1946-12-18</td>\n",
              "      <td>2021-03-30</td>\n",
              "      <td>2021-02-01</td>\n",
              "      <td>1</td>\n",
              "      <td>0</td>\n",
              "      <td>0</td>\n",
              "      <td>0</td>\n",
              "      <td>0</td>\n",
              "      <td>0</td>\n",
              "      <td>0</td>\n",
              "      <td>1.887184</td>\n",
              "      <td>93.218223</td>\n",
              "      <td>73.421171</td>\n",
              "      <td>0.147366</td>\n",
              "      <td>0.108558</td>\n",
              "      <td>14</td>\n",
              "      <td>64</td>\n",
              "    </tr>\n",
              "  </tbody>\n",
              "</table>\n",
              "</div>"
            ],
            "text/plain": [
              "   Max_Platlets  Min_Platlets  ...  duration  Age\n",
              "0    285.172818    285.242534  ...         9   68\n",
              "1    350.908044    350.874077  ...        25   43\n",
              "2    223.487350    223.519619  ...        25   42\n",
              "3    360.900169    360.888965  ...        19   69\n",
              "4    215.815522    215.754058  ...        14   64\n",
              "\n",
              "[5 rows x 27 columns]"
            ]
          },
          "metadata": {
            "tags": []
          },
          "execution_count": 161
        }
      ]
    },
    {
      "cell_type": "code",
      "metadata": {
        "id": "hLvtJtWWpGLC"
      },
      "source": [
        "new_data_1 = new_data_1[new_data_1['Max_Procalcitonine']>.4]"
      ],
      "execution_count": 162,
      "outputs": []
    },
    {
      "cell_type": "code",
      "metadata": {
        "colab": {
          "base_uri": "https://localhost:8080/"
        },
        "id": "A-nxcwp4Cxmg",
        "outputId": "4cb7304e-5332-4513-952e-d262eca15bd7"
      },
      "source": [
        "new_data_1.shape"
      ],
      "execution_count": 170,
      "outputs": [
        {
          "output_type": "execute_result",
          "data": {
            "text/plain": [
              "(20, 27)"
            ]
          },
          "metadata": {
            "tags": []
          },
          "execution_count": 170
        }
      ]
    },
    {
      "cell_type": "code",
      "metadata": {
        "colab": {
          "base_uri": "https://localhost:8080/",
          "height": 686
        },
        "id": "TU6nTpCOpg5I",
        "outputId": "4718275d-aed5-414a-f8c8-ce10d35add48"
      },
      "source": [
        "from sdv.tabular import GaussianCopula\r\n",
        "model_ = GaussianCopula()\r\n",
        "model_.fit(data)\r\n",
        "new_data_2 = model_.sample(524)\r\n",
        "new_data_2.head()"
      ],
      "execution_count": 562,
      "outputs": [
        {
          "output_type": "stream",
          "text": [
            "/usr/local/lib/python3.6/dist-packages/scipy/stats/_continuous_distns.py:547: RuntimeWarning: invalid value encountered in sqrt\n",
            "  sk = 2*(b-a)*np.sqrt(a + b + 1) / (a + b + 2) / np.sqrt(a*b)\n",
            "/usr/local/lib/python3.6/dist-packages/scipy/optimize/minpack.py:162: RuntimeWarning: The iteration is not making good progress, as measured by the \n",
            "  improvement from the last ten iterations.\n",
            "  warnings.warn(msg, RuntimeWarning)\n",
            "/usr/local/lib/python3.6/dist-packages/scipy/stats/_continuous_distns.py:4798: RuntimeWarning: divide by zero encountered in true_divide\n",
            "  return c**2 / (c**2 - n**2)\n",
            "/usr/local/lib/python3.6/dist-packages/scipy/stats/_distn_infrastructure.py:2407: RuntimeWarning: invalid value encountered in double_scalars\n",
            "  Lhat = muhat - Shat*mu\n",
            "/usr/local/lib/python3.6/dist-packages/scipy/optimize/minpack.py:162: RuntimeWarning: The iteration is not making good progress, as measured by the \n",
            "  improvement from the last five Jacobian evaluations.\n",
            "  warnings.warn(msg, RuntimeWarning)\n",
            "/usr/local/lib/python3.6/dist-packages/scipy/optimize/minpack.py:162: RuntimeWarning: The number of calls to function has reached maxfev = 600.\n",
            "  warnings.warn(msg, RuntimeWarning)\n",
            "/usr/local/lib/python3.6/dist-packages/scipy/stats/_continuous_distns.py:4789: RuntimeWarning: divide by zero encountered in power\n",
            "  return cd2*x**(c-1)\n"
          ],
          "name": "stderr"
        },
        {
          "output_type": "execute_result",
          "data": {
            "text/html": [
              "<div>\n",
              "<style scoped>\n",
              "    .dataframe tbody tr th:only-of-type {\n",
              "        vertical-align: middle;\n",
              "    }\n",
              "\n",
              "    .dataframe tbody tr th {\n",
              "        vertical-align: top;\n",
              "    }\n",
              "\n",
              "    .dataframe thead th {\n",
              "        text-align: right;\n",
              "    }\n",
              "</style>\n",
              "<table border=\"1\" class=\"dataframe\">\n",
              "  <thead>\n",
              "    <tr style=\"text-align: right;\">\n",
              "      <th></th>\n",
              "      <th>Max_Platlets</th>\n",
              "      <th>Min_Platlets</th>\n",
              "      <th>Max_Leucocytes</th>\n",
              "      <th>Min_Leucocytes</th>\n",
              "      <th>Max_Creatinine</th>\n",
              "      <th>Min_Cratinine</th>\n",
              "      <th>Gender</th>\n",
              "      <th>initial_CRP</th>\n",
              "      <th>Max_CRP</th>\n",
              "      <th>Treatment</th>\n",
              "      <th>Pneumonia</th>\n",
              "      <th>Severity</th>\n",
              "      <th>IHD</th>\n",
              "      <th>COPD</th>\n",
              "      <th>Bronchial_asthma</th>\n",
              "      <th>Obesity</th>\n",
              "      <th>Diabetes</th>\n",
              "      <th>RF</th>\n",
              "      <th>ALT</th>\n",
              "      <th>AST</th>\n",
              "      <th>Initial_Procalcitonine</th>\n",
              "      <th>Max_Procalcitonine</th>\n",
              "      <th>duration</th>\n",
              "      <th>Age</th>\n",
              "    </tr>\n",
              "  </thead>\n",
              "  <tbody>\n",
              "    <tr>\n",
              "      <th>0</th>\n",
              "      <td>292.175937</td>\n",
              "      <td>292.155824</td>\n",
              "      <td>11.606018</td>\n",
              "      <td>11.609350</td>\n",
              "      <td>104.119435</td>\n",
              "      <td>65.682535</td>\n",
              "      <td>male</td>\n",
              "      <td>3.038042</td>\n",
              "      <td>1.254175</td>\n",
              "      <td>дексаметазон, гепарин, фамотидин, парацетамол...</td>\n",
              "      <td>1</td>\n",
              "      <td>1</td>\n",
              "      <td>1</td>\n",
              "      <td>0</td>\n",
              "      <td>0</td>\n",
              "      <td>0</td>\n",
              "      <td>0</td>\n",
              "      <td>1.209985</td>\n",
              "      <td>-147.416363</td>\n",
              "      <td>-145.822674</td>\n",
              "      <td>0.164071</td>\n",
              "      <td>0.097985</td>\n",
              "      <td>32</td>\n",
              "      <td>49</td>\n",
              "    </tr>\n",
              "    <tr>\n",
              "      <th>1</th>\n",
              "      <td>277.839645</td>\n",
              "      <td>277.841601</td>\n",
              "      <td>17.006865</td>\n",
              "      <td>17.003836</td>\n",
              "      <td>62.152268</td>\n",
              "      <td>41.089060</td>\n",
              "      <td>female</td>\n",
              "      <td>2.417075</td>\n",
              "      <td>40.491946</td>\n",
              "      <td>инванз, ксарелто, пантопрозол, эноксипарин, ...</td>\n",
              "      <td>1</td>\n",
              "      <td>0</td>\n",
              "      <td>1</td>\n",
              "      <td>0</td>\n",
              "      <td>0</td>\n",
              "      <td>0</td>\n",
              "      <td>0</td>\n",
              "      <td>0.272171</td>\n",
              "      <td>58.182277</td>\n",
              "      <td>28.451836</td>\n",
              "      <td>0.074933</td>\n",
              "      <td>0.076368</td>\n",
              "      <td>16</td>\n",
              "      <td>78</td>\n",
              "    </tr>\n",
              "    <tr>\n",
              "      <th>2</th>\n",
              "      <td>371.031428</td>\n",
              "      <td>371.074535</td>\n",
              "      <td>15.042500</td>\n",
              "      <td>15.039610</td>\n",
              "      <td>71.664839</td>\n",
              "      <td>55.376739</td>\n",
              "      <td>female</td>\n",
              "      <td>25.794113</td>\n",
              "      <td>152.013548</td>\n",
              "      <td>цефтриаксон, дексаметазон, гидроксихлорохин,...</td>\n",
              "      <td>1</td>\n",
              "      <td>1</td>\n",
              "      <td>0</td>\n",
              "      <td>0</td>\n",
              "      <td>0</td>\n",
              "      <td>0</td>\n",
              "      <td>0</td>\n",
              "      <td>0.660539</td>\n",
              "      <td>91.339983</td>\n",
              "      <td>36.326748</td>\n",
              "      <td>0.274433</td>\n",
              "      <td>0.216835</td>\n",
              "      <td>8</td>\n",
              "      <td>51</td>\n",
              "    </tr>\n",
              "    <tr>\n",
              "      <th>3</th>\n",
              "      <td>205.225210</td>\n",
              "      <td>205.317276</td>\n",
              "      <td>15.915514</td>\n",
              "      <td>15.913853</td>\n",
              "      <td>46.727548</td>\n",
              "      <td>-6.236082</td>\n",
              "      <td>male</td>\n",
              "      <td>68.396466</td>\n",
              "      <td>133.729560</td>\n",
              "      <td>ванкомицин, кпс, фуросемид, имепенем, ацетилц...</td>\n",
              "      <td>1</td>\n",
              "      <td>0</td>\n",
              "      <td>1</td>\n",
              "      <td>0</td>\n",
              "      <td>0</td>\n",
              "      <td>0</td>\n",
              "      <td>0</td>\n",
              "      <td>0.982082</td>\n",
              "      <td>58.124755</td>\n",
              "      <td>27.316142</td>\n",
              "      <td>0.112720</td>\n",
              "      <td>0.076241</td>\n",
              "      <td>21</td>\n",
              "      <td>57</td>\n",
              "    </tr>\n",
              "    <tr>\n",
              "      <th>4</th>\n",
              "      <td>284.940272</td>\n",
              "      <td>284.908212</td>\n",
              "      <td>8.860139</td>\n",
              "      <td>8.859701</td>\n",
              "      <td>98.339385</td>\n",
              "      <td>81.949704</td>\n",
              "      <td>male</td>\n",
              "      <td>41.704509</td>\n",
              "      <td>36.882978</td>\n",
              "      <td>дексаметазон, кпс, аспикард, лозартон аторвас...</td>\n",
              "      <td>1</td>\n",
              "      <td>1</td>\n",
              "      <td>0</td>\n",
              "      <td>0</td>\n",
              "      <td>0</td>\n",
              "      <td>0</td>\n",
              "      <td>0</td>\n",
              "      <td>1.347285</td>\n",
              "      <td>64.453893</td>\n",
              "      <td>48.136058</td>\n",
              "      <td>0.066724</td>\n",
              "      <td>0.067892</td>\n",
              "      <td>15</td>\n",
              "      <td>59</td>\n",
              "    </tr>\n",
              "  </tbody>\n",
              "</table>\n",
              "</div>"
            ],
            "text/plain": [
              "   Max_Platlets  Min_Platlets  ...  duration  Age\n",
              "0    292.175937    292.155824  ...        32   49\n",
              "1    277.839645    277.841601  ...        16   78\n",
              "2    371.031428    371.074535  ...         8   51\n",
              "3    205.225210    205.317276  ...        21   57\n",
              "4    284.940272    284.908212  ...        15   59\n",
              "\n",
              "[5 rows x 24 columns]"
            ]
          },
          "metadata": {
            "tags": []
          },
          "execution_count": 562
        }
      ]
    },
    {
      "cell_type": "code",
      "metadata": {
        "colab": {
          "base_uri": "https://localhost:8080/"
        },
        "id": "nF_u4Pe_swfj",
        "outputId": "1401b3f0-c81f-4237-ed56-24973aa40592"
      },
      "source": [
        "from sdv.tabular import CTGAN\r\n",
        "\r\n",
        "model2 = CTGAN()\r\n",
        "model2.fit(df)"
      ],
      "execution_count": 163,
      "outputs": [
        {
          "output_type": "stream",
          "text": [
            "/usr/local/lib/python3.6/dist-packages/sklearn/mixture/_base.py:267: ConvergenceWarning: Initialization 1 did not converge. Try different init parameters, or increase max_iter, tol or check for degenerate data.\n",
            "  % (init + 1), ConvergenceWarning)\n",
            "/usr/local/lib/python3.6/dist-packages/sklearn/mixture/_base.py:147: ConvergenceWarning: Number of distinct clusters (2) found smaller than n_clusters (10). Possibly due to duplicate points in X.\n",
            "  random_state=random_state).fit(X).labels_\n",
            "/usr/local/lib/python3.6/dist-packages/sklearn/mixture/_base.py:147: ConvergenceWarning: Number of distinct clusters (2) found smaller than n_clusters (10). Possibly due to duplicate points in X.\n",
            "  random_state=random_state).fit(X).labels_\n",
            "/usr/local/lib/python3.6/dist-packages/sklearn/mixture/_base.py:147: ConvergenceWarning: Number of distinct clusters (2) found smaller than n_clusters (10). Possibly due to duplicate points in X.\n",
            "  random_state=random_state).fit(X).labels_\n",
            "/usr/local/lib/python3.6/dist-packages/sklearn/mixture/_base.py:147: ConvergenceWarning: Number of distinct clusters (2) found smaller than n_clusters (10). Possibly due to duplicate points in X.\n",
            "  random_state=random_state).fit(X).labels_\n",
            "/usr/local/lib/python3.6/dist-packages/sklearn/mixture/_base.py:147: ConvergenceWarning: Number of distinct clusters (2) found smaller than n_clusters (10). Possibly due to duplicate points in X.\n",
            "  random_state=random_state).fit(X).labels_\n",
            "/usr/local/lib/python3.6/dist-packages/sklearn/mixture/_base.py:147: ConvergenceWarning: Number of distinct clusters (2) found smaller than n_clusters (10). Possibly due to duplicate points in X.\n",
            "  random_state=random_state).fit(X).labels_\n",
            "/usr/local/lib/python3.6/dist-packages/sklearn/mixture/_base.py:147: ConvergenceWarning: Number of distinct clusters (2) found smaller than n_clusters (10). Possibly due to duplicate points in X.\n",
            "  random_state=random_state).fit(X).labels_\n",
            "/usr/local/lib/python3.6/dist-packages/sklearn/mixture/_base.py:147: ConvergenceWarning: Number of distinct clusters (4) found smaller than n_clusters (10). Possibly due to duplicate points in X.\n",
            "  random_state=random_state).fit(X).labels_\n"
          ],
          "name": "stderr"
        }
      ]
    },
    {
      "cell_type": "code",
      "metadata": {
        "id": "Noda6o1ftEHZ"
      },
      "source": [
        "new_data_2 = model2.sample(600)"
      ],
      "execution_count": 440,
      "outputs": []
    },
    {
      "cell_type": "code",
      "metadata": {
        "colab": {
          "base_uri": "https://localhost:8080/"
        },
        "id": "X3XkQublC7EF",
        "outputId": "51a61acf-d540-4d94-d350-e56189e4155d"
      },
      "source": [
        "new_data_2.shape"
      ],
      "execution_count": 441,
      "outputs": [
        {
          "output_type": "execute_result",
          "data": {
            "text/plain": [
              "(600, 27)"
            ]
          },
          "metadata": {
            "tags": []
          },
          "execution_count": 441
        }
      ]
    },
    {
      "cell_type": "code",
      "metadata": {
        "id": "Jj-l0uMcyxYX"
      },
      "source": [
        "l = df[df['Max_Procalcitonine']>.4]"
      ],
      "execution_count": 377,
      "outputs": []
    },
    {
      "cell_type": "code",
      "metadata": {
        "colab": {
          "base_uri": "https://localhost:8080/"
        },
        "id": "2DHw039szYPp",
        "outputId": "0da1f366-3e0c-462e-a986-3cd08645201b"
      },
      "source": [
        "l.shape"
      ],
      "execution_count": 378,
      "outputs": [
        {
          "output_type": "execute_result",
          "data": {
            "text/plain": [
              "(8, 27)"
            ]
          },
          "metadata": {
            "tags": []
          },
          "execution_count": 378
        }
      ]
    },
    {
      "cell_type": "markdown",
      "metadata": {
        "id": "viW5jFpDzC03"
      },
      "source": [
        ""
      ]
    },
    {
      "cell_type": "code",
      "metadata": {
        "id": "JmZtQV4oy8QY"
      },
      "source": [
        "new_data_2= new_data_2.append(l)"
      ],
      "execution_count": 563,
      "outputs": []
    },
    {
      "cell_type": "code",
      "metadata": {
        "id": "mQFfrOgDzKde"
      },
      "source": [
        "# new_data_2= new_data_2.append(new_data_2_)"
      ],
      "execution_count": 246,
      "outputs": []
    },
    {
      "cell_type": "code",
      "metadata": {
        "colab": {
          "base_uri": "https://localhost:8080/"
        },
        "id": "T9uheFvhCqmj",
        "outputId": "dec5cf75-6fb3-4ebb-eaa7-eebd200b9548"
      },
      "source": [
        "new_data_2.shape"
      ],
      "execution_count": 311,
      "outputs": [
        {
          "output_type": "execute_result",
          "data": {
            "text/plain": [
              "(548, 27)"
            ]
          },
          "metadata": {
            "tags": []
          },
          "execution_count": 311
        }
      ]
    },
    {
      "cell_type": "code",
      "metadata": {
        "id": "uyQJ5EiUtI2B",
        "colab": {
          "base_uri": "https://localhost:8080/"
        },
        "outputId": "9a81cf09-ae18-4177-de74-d83d9662ff1e"
      },
      "source": [
        "model2_ = CTGAN()\r\n",
        "model2_.fit(data)"
      ],
      "execution_count": 240,
      "outputs": [
        {
          "output_type": "stream",
          "text": [
            "/usr/local/lib/python3.6/dist-packages/sklearn/mixture/_base.py:147: ConvergenceWarning: Number of distinct clusters (2) found smaller than n_clusters (10). Possibly due to duplicate points in X.\n",
            "  random_state=random_state).fit(X).labels_\n",
            "/usr/local/lib/python3.6/dist-packages/sklearn/mixture/_base.py:147: ConvergenceWarning: Number of distinct clusters (2) found smaller than n_clusters (10). Possibly due to duplicate points in X.\n",
            "  random_state=random_state).fit(X).labels_\n",
            "/usr/local/lib/python3.6/dist-packages/sklearn/mixture/_base.py:147: ConvergenceWarning: Number of distinct clusters (2) found smaller than n_clusters (10). Possibly due to duplicate points in X.\n",
            "  random_state=random_state).fit(X).labels_\n",
            "/usr/local/lib/python3.6/dist-packages/sklearn/mixture/_base.py:147: ConvergenceWarning: Number of distinct clusters (2) found smaller than n_clusters (10). Possibly due to duplicate points in X.\n",
            "  random_state=random_state).fit(X).labels_\n",
            "/usr/local/lib/python3.6/dist-packages/sklearn/mixture/_base.py:147: ConvergenceWarning: Number of distinct clusters (2) found smaller than n_clusters (10). Possibly due to duplicate points in X.\n",
            "  random_state=random_state).fit(X).labels_\n",
            "/usr/local/lib/python3.6/dist-packages/sklearn/mixture/_base.py:147: ConvergenceWarning: Number of distinct clusters (2) found smaller than n_clusters (10). Possibly due to duplicate points in X.\n",
            "  random_state=random_state).fit(X).labels_\n",
            "/usr/local/lib/python3.6/dist-packages/sklearn/mixture/_base.py:147: ConvergenceWarning: Number of distinct clusters (2) found smaller than n_clusters (10). Possibly due to duplicate points in X.\n",
            "  random_state=random_state).fit(X).labels_\n",
            "/usr/local/lib/python3.6/dist-packages/sklearn/mixture/_base.py:147: ConvergenceWarning: Number of distinct clusters (4) found smaller than n_clusters (10). Possibly due to duplicate points in X.\n",
            "  random_state=random_state).fit(X).labels_\n"
          ],
          "name": "stderr"
        }
      ]
    },
    {
      "cell_type": "code",
      "metadata": {
        "id": "HEjNFf9bjdh_"
      },
      "source": [
        "new_data_2 = model2_.sample(480)"
      ],
      "execution_count": 501,
      "outputs": []
    },
    {
      "cell_type": "code",
      "metadata": {
        "id": "B-_a55l2kVmm"
      },
      "source": [
        "new_data_2_ = new_data_2_[(new_data_2_['Max_Procalcitonine'] > .5) & (new_data_2_['Max_Procalcitonine'] < 1.2)]"
      ],
      "execution_count": 312,
      "outputs": []
    },
    {
      "cell_type": "code",
      "metadata": {
        "id": "kewAuI3_Ek02",
        "outputId": "1114625d-3b31-4190-fcea-14a60a14b022",
        "colab": {
          "base_uri": "https://localhost:8080/"
        }
      },
      "source": [
        "new_data_2_.shape"
      ],
      "execution_count": 313,
      "outputs": [
        {
          "output_type": "execute_result",
          "data": {
            "text/plain": [
              "(25, 24)"
            ]
          },
          "metadata": {
            "tags": []
          },
          "execution_count": 313
        }
      ]
    },
    {
      "cell_type": "code",
      "metadata": {
        "colab": {
          "base_uri": "https://localhost:8080/",
          "height": 282
        },
        "id": "Cng_wjYMkhlq",
        "outputId": "69498554-a6d6-4aa0-9749-d279a5e9c6b7"
      },
      "source": [
        "new_data_2['Max_Procalcitonine'].hist()"
      ],
      "execution_count": null,
      "outputs": [
        {
          "output_type": "execute_result",
          "data": {
            "text/plain": [
              "<matplotlib.axes._subplots.AxesSubplot at 0x7f4b92c80d68>"
            ]
          },
          "metadata": {
            "tags": []
          },
          "execution_count": 26
        },
        {
          "output_type": "display_data",
          "data": {
            "image/png": "[encoded data removed]",
            "text/plain": [
              "<Figure size 432x288 with 1 Axes>"
            ]
          },
          "metadata": {
            "tags": [],
            "needs_background": "light"
          }
        }
      ]
    },
    {
      "cell_type": "code",
      "metadata": {
        "id": "_fcVE-wRkkeP"
      },
      "source": [
        "new_data_2= new_data_2.append(l)"
      ],
      "execution_count": 502,
      "outputs": []
    },
    {
      "cell_type": "code",
      "metadata": {
        "id": "dYPrsFDaF54g"
      },
      "source": [
        "# new_data_2= new_data_2.append(df)"
      ],
      "execution_count": 315,
      "outputs": []
    },
    {
      "cell_type": "code",
      "metadata": {
        "id": "ZNNH1csJknLk"
      },
      "source": [
        "# переводим наши даты в формат пандас\r\n",
        "for i in ['Birthday', 'Admission', 'Discharge']:\r\n",
        "  df[i] = pd.to_datetime(df[i], format = \"%d:%m:%Y\")\r\n",
        "# длительность госпитализации = выписка - поступление\r\n",
        "df[\"duration\"] = (df['Discharge'] - df['Admission']).dt.days\r\n",
        "\r\n",
        "# возраст пациента рассчитаем: день рождения - поступление = дни и целочисленно делим на 356\r\n",
        "df[\"Age\"] = ((df['Admission'] - df['Birthday']).dt.days) // 356\r\n",
        "data = df.drop(['Birthday', 'Admission', 'Discharge'], axis=1)\r\n",
        "new_data_1['Age'] =  new_data_1['Age'].map(lambda x: x + 10 if x < 10 else x)"
      ],
      "execution_count": null,
      "outputs": []
    },
    {
      "cell_type": "code",
      "metadata": {
        "colab": {
          "base_uri": "https://localhost:8080/"
        },
        "id": "uv8RF_QVkuWv",
        "outputId": "1d4a55f1-6511-45a0-fe61-581557707d04"
      },
      "source": [
        "new_data_2.columns\r\n"
      ],
      "execution_count": 503,
      "outputs": [
        {
          "output_type": "execute_result",
          "data": {
            "text/plain": [
              "Index(['Max_Platlets', 'Min_Platlets', 'Max_Leucocytes', 'Min_Leucocytes',\n",
              "       'Max_Creatinine', 'Min_Cratinine', 'Gender', 'initial_CRP', 'Max_CRP',\n",
              "       'Treatment', 'Pneumonia', 'Severity', 'IHD', 'COPD', 'Bronchial_asthma',\n",
              "       'Obesity', 'Diabetes', 'RF', 'ALT', 'AST', 'Initial_Procalcitonine',\n",
              "       'Max_Procalcitonine', 'duration', 'Age', 'Birthday', 'Admission',\n",
              "       'Discharge'],\n",
              "      dtype='object')"
            ]
          },
          "metadata": {
            "tags": []
          },
          "execution_count": 503
        }
      ]
    },
    {
      "cell_type": "code",
      "metadata": {
        "id": "5-nBXSTIra1q"
      },
      "source": [
        "\r\n",
        "new_data_2['Age'] =  new_data_2['Age'].map(lambda x: x + 10 if x < 10 else x)"
      ],
      "execution_count": 564,
      "outputs": []
    },
    {
      "cell_type": "code",
      "metadata": {
        "id": "_rXWW3KSseya"
      },
      "source": [
        "dataf = new_data_2.copy()"
      ],
      "execution_count": 565,
      "outputs": []
    },
    {
      "cell_type": "code",
      "metadata": {
        "id": "MGQQMnUaukU0"
      },
      "source": [
        "dataf = dataf.drop([\r\n",
        "          \"Treatment\", 'duration',\r\n",
        "          'Birthday', 'Admission', 'Discharge', \r\n",
        "          'Pneumonia', ], axis=1)"
      ],
      "execution_count": 566,
      "outputs": []
    },
    {
      "cell_type": "code",
      "metadata": {
        "id": "3XHqkqlWlEXB"
      },
      "source": [
        "import tensorflow as tf\r\n",
        "from tensorflow import keras\r\n",
        "\r\n",
        "import os\r\n",
        "import tempfile\r\n",
        "\r\n",
        "import matplotlib as mpl\r\n",
        "import matplotlib.pyplot as plt\r\n",
        "import numpy as np\r\n",
        "import pandas as pd\r\n",
        "import seaborn as sns\r\n",
        "\r\n",
        "import sklearn\r\n",
        "from sklearn.metrics import confusion_matrix\r\n",
        "from sklearn.model_selection import train_test_split\r\n",
        "from sklearn.preprocessing import StandardScaler"
      ],
      "execution_count": 567,
      "outputs": []
    },
    {
      "cell_type": "code",
      "metadata": {
        "id": "pSrvubwElHlJ"
      },
      "source": [
        "mpl.rcParams['figure.figsize'] = (12, 10)\r\n",
        "colors = plt.rcParams['axes.prop_cycle'].by_key()['color']"
      ],
      "execution_count": 568,
      "outputs": []
    },
    {
      "cell_type": "code",
      "metadata": {
        "id": "7e4hfsk8lbF7"
      },
      "source": [
        "def ind_ab(x):\r\n",
        "  if x > .4:\r\n",
        "    return 1\r\n",
        "  else:\r\n",
        "    return 0"
      ],
      "execution_count": 569,
      "outputs": []
    },
    {
      "cell_type": "code",
      "metadata": {
        "id": "8j1ffFUxlKFh"
      },
      "source": [
        "dataf['Ab_ind'] = dataf['Max_Procalcitonine'].apply(ind_ab)"
      ],
      "execution_count": 570,
      "outputs": []
    },
    {
      "cell_type": "code",
      "metadata": {
        "colab": {
          "base_uri": "https://localhost:8080/"
        },
        "id": "OCcUiWh7lm_X",
        "outputId": "555c97a3-1ec3-4a27-d706-84613bb88ca9"
      },
      "source": [
        "dataf['Ab_ind'].value_counts()"
      ],
      "execution_count": 571,
      "outputs": [
        {
          "output_type": "execute_result",
          "data": {
            "text/plain": [
              "0    488\n",
              "1     44\n",
              "Name: Ab_ind, dtype: int64"
            ]
          },
          "metadata": {
            "tags": []
          },
          "execution_count": 571
        }
      ]
    },
    {
      "cell_type": "code",
      "metadata": {
        "colab": {
          "base_uri": "https://localhost:8080/",
          "height": 337
        },
        "id": "hw0A9LUQncQ-",
        "outputId": "e656a8f3-9536-4f25-b663-8bffb05cdbc6"
      },
      "source": [
        "dataf = dataf.drop(['Unnamed: 0', 'Unnamed: 0.1',\r\n",
        "         'ID', 'Diagnosis', \r\n",
        "         'COVID-19', \"Treatment\"], axis=1)"
      ],
      "execution_count": 572,
      "outputs": [
        {
          "output_type": "error",
          "ename": "KeyError",
          "evalue": "ignored",
          "traceback": [
            "\u001b[0;31m---------------------------------------------------------------------------\u001b[0m",
            "\u001b[0;31mKeyError\u001b[0m                                  Traceback (most recent call last)",
            "\u001b[0;32m<ipython-input-572-f6a1b1c39aab>\u001b[0m in \u001b[0;36m<module>\u001b[0;34m()\u001b[0m\n\u001b[1;32m      1\u001b[0m dataf = dataf.drop(['Unnamed: 0', 'Unnamed: 0.1',\n\u001b[1;32m      2\u001b[0m          \u001b[0;34m'ID'\u001b[0m\u001b[0;34m,\u001b[0m \u001b[0;34m'Diagnosis'\u001b[0m\u001b[0;34m,\u001b[0m\u001b[0;34m\u001b[0m\u001b[0;34m\u001b[0m\u001b[0m\n\u001b[0;32m----> 3\u001b[0;31m          'COVID-19', \"Treatment\"], axis=1)\n\u001b[0m",
            "\u001b[0;32m/usr/local/lib/python3.6/dist-packages/pandas/core/frame.py\u001b[0m in \u001b[0;36mdrop\u001b[0;34m(self, labels, axis, index, columns, level, inplace, errors)\u001b[0m\n\u001b[1;32m   4172\u001b[0m             \u001b[0mlevel\u001b[0m\u001b[0;34m=\u001b[0m\u001b[0mlevel\u001b[0m\u001b[0;34m,\u001b[0m\u001b[0;34m\u001b[0m\u001b[0;34m\u001b[0m\u001b[0m\n\u001b[1;32m   4173\u001b[0m             \u001b[0minplace\u001b[0m\u001b[0;34m=\u001b[0m\u001b[0minplace\u001b[0m\u001b[0;34m,\u001b[0m\u001b[0;34m\u001b[0m\u001b[0;34m\u001b[0m\u001b[0m\n\u001b[0;32m-> 4174\u001b[0;31m             \u001b[0merrors\u001b[0m\u001b[0;34m=\u001b[0m\u001b[0merrors\u001b[0m\u001b[0;34m,\u001b[0m\u001b[0;34m\u001b[0m\u001b[0;34m\u001b[0m\u001b[0m\n\u001b[0m\u001b[1;32m   4175\u001b[0m         )\n\u001b[1;32m   4176\u001b[0m \u001b[0;34m\u001b[0m\u001b[0m\n",
            "\u001b[0;32m/usr/local/lib/python3.6/dist-packages/pandas/core/generic.py\u001b[0m in \u001b[0;36mdrop\u001b[0;34m(self, labels, axis, index, columns, level, inplace, errors)\u001b[0m\n\u001b[1;32m   3887\u001b[0m                 \u001b[0mobj\u001b[0m \u001b[0;34m=\u001b[0m \u001b[0mobj\u001b[0m\u001b[0;34m.\u001b[0m\u001b[0m_drop_axis\u001b[0m\u001b[0;34m(\u001b[0m\u001b[0mlabels\u001b[0m\u001b[0;34m,\u001b[0m \u001b[0maxis\u001b[0m\u001b[0;34m,\u001b[0m \u001b[0mlevel\u001b[0m\u001b[0;34m=\u001b[0m\u001b[0mlevel\u001b[0m\u001b[0;34m,\u001b[0m \u001b[0merrors\u001b[0m\u001b[0;34m=\u001b[0m\u001b[0merrors\u001b[0m\u001b[0;34m)\u001b[0m\u001b[0;34m\u001b[0m\u001b[0;34m\u001b[0m\u001b[0m\n\u001b[1;32m   3888\u001b[0m \u001b[0;34m\u001b[0m\u001b[0m\n\u001b[0;32m-> 3889\u001b[0;31m         \u001b[0;32mif\u001b[0m \u001b[0minplace\u001b[0m\u001b[0;34m:\u001b[0m\u001b[0;34m\u001b[0m\u001b[0;34m\u001b[0m\u001b[0m\n\u001b[0m\u001b[1;32m   3890\u001b[0m             \u001b[0mself\u001b[0m\u001b[0;34m.\u001b[0m\u001b[0m_update_inplace\u001b[0m\u001b[0;34m(\u001b[0m\u001b[0mobj\u001b[0m\u001b[0;34m)\u001b[0m\u001b[0;34m\u001b[0m\u001b[0;34m\u001b[0m\u001b[0m\n\u001b[1;32m   3891\u001b[0m         \u001b[0;32melse\u001b[0m\u001b[0;34m:\u001b[0m\u001b[0;34m\u001b[0m\u001b[0;34m\u001b[0m\u001b[0m\n",
            "\u001b[0;32m/usr/local/lib/python3.6/dist-packages/pandas/core/generic.py\u001b[0m in \u001b[0;36m_drop_axis\u001b[0;34m(self, labels, axis, level, errors)\u001b[0m\n\u001b[1;32m   3921\u001b[0m                 \u001b[0mnew_axis\u001b[0m \u001b[0;34m=\u001b[0m \u001b[0maxis\u001b[0m\u001b[0;34m.\u001b[0m\u001b[0mdrop\u001b[0m\u001b[0;34m(\u001b[0m\u001b[0mlabels\u001b[0m\u001b[0;34m,\u001b[0m \u001b[0merrors\u001b[0m\u001b[0;34m=\u001b[0m\u001b[0merrors\u001b[0m\u001b[0;34m)\u001b[0m\u001b[0;34m\u001b[0m\u001b[0;34m\u001b[0m\u001b[0m\n\u001b[1;32m   3922\u001b[0m             \u001b[0mresult\u001b[0m \u001b[0;34m=\u001b[0m \u001b[0mself\u001b[0m\u001b[0;34m.\u001b[0m\u001b[0mreindex\u001b[0m\u001b[0;34m(\u001b[0m\u001b[0;34m**\u001b[0m\u001b[0;34m{\u001b[0m\u001b[0maxis_name\u001b[0m\u001b[0;34m:\u001b[0m \u001b[0mnew_axis\u001b[0m\u001b[0;34m}\u001b[0m\u001b[0;34m)\u001b[0m\u001b[0;34m\u001b[0m\u001b[0;34m\u001b[0m\u001b[0m\n\u001b[0;32m-> 3923\u001b[0;31m \u001b[0;34m\u001b[0m\u001b[0m\n\u001b[0m\u001b[1;32m   3924\u001b[0m         \u001b[0;31m# Case for non-unique axis\u001b[0m\u001b[0;34m\u001b[0m\u001b[0;34m\u001b[0m\u001b[0;34m\u001b[0m\u001b[0m\n\u001b[1;32m   3925\u001b[0m         \u001b[0;32melse\u001b[0m\u001b[0;34m:\u001b[0m\u001b[0;34m\u001b[0m\u001b[0;34m\u001b[0m\u001b[0m\n",
            "\u001b[0;32m/usr/local/lib/python3.6/dist-packages/pandas/core/indexes/base.py\u001b[0m in \u001b[0;36mdrop\u001b[0;34m(self, labels, errors)\u001b[0m\n\u001b[1;32m   5285\u001b[0m             \u001b[0mindexer\u001b[0m \u001b[0;34m=\u001b[0m \u001b[0mindexer\u001b[0m\u001b[0;34m[\u001b[0m\u001b[0;34m~\u001b[0m\u001b[0mmask\u001b[0m\u001b[0;34m]\u001b[0m\u001b[0;34m\u001b[0m\u001b[0;34m\u001b[0m\u001b[0m\n\u001b[1;32m   5286\u001b[0m         \u001b[0;32mreturn\u001b[0m \u001b[0mself\u001b[0m\u001b[0;34m.\u001b[0m\u001b[0mdelete\u001b[0m\u001b[0;34m(\u001b[0m\u001b[0mindexer\u001b[0m\u001b[0;34m)\u001b[0m\u001b[0;34m\u001b[0m\u001b[0;34m\u001b[0m\u001b[0m\n\u001b[0;32m-> 5287\u001b[0;31m \u001b[0;34m\u001b[0m\u001b[0m\n\u001b[0m\u001b[1;32m   5288\u001b[0m     \u001b[0;31m# --------------------------------------------------------------------\u001b[0m\u001b[0;34m\u001b[0m\u001b[0;34m\u001b[0m\u001b[0;34m\u001b[0m\u001b[0m\n\u001b[1;32m   5289\u001b[0m     \u001b[0;31m# Generated Arithmetic, Comparison, and Unary Methods\u001b[0m\u001b[0;34m\u001b[0m\u001b[0;34m\u001b[0m\u001b[0;34m\u001b[0m\u001b[0m\n",
            "\u001b[0;31mKeyError\u001b[0m: \"['Unnamed: 0' 'Unnamed: 0.1' 'ID' 'Diagnosis' 'COVID-19' 'Treatment'] not found in axis\""
          ]
        }
      ]
    },
    {
      "cell_type": "code",
      "metadata": {
        "colab": {
          "base_uri": "https://localhost:8080/"
        },
        "id": "KbJvflK_luGh",
        "outputId": "b055ae26-2f0c-4732-ed89-ba172308cfc8"
      },
      "source": [
        "neg, pos = np.bincount(dataf['Ab_ind'])\r\n",
        "total = neg + pos\r\n",
        "print('Examples:\\n    Total: {}\\n    Positive: {} ({:.2f}% of total)\\n'.format(\r\n",
        "    total, pos, 100 * pos / total))"
      ],
      "execution_count": 573,
      "outputs": [
        {
          "output_type": "stream",
          "text": [
            "Examples:\n",
            "    Total: 532\n",
            "    Positive: 44 (8.27% of total)\n",
            "\n"
          ],
          "name": "stdout"
        }
      ]
    },
    {
      "cell_type": "code",
      "metadata": {
        "colab": {
          "base_uri": "https://localhost:8080/"
        },
        "id": "NQbhB70XmLqr",
        "outputId": "1e49b7f9-1860-40a1-e7ce-a8313a93e554"
      },
      "source": [
        "dataf[['Max_Platlets', 'Min_Platlets', 'Max_Leucocytes', 'Min_Leucocytes',\r\n",
        "        'Max_Creatinine', 'Min_Cratinine', 'Gender',\r\n",
        "       'initial_CRP', 'Max_CRP',  'Severity', 'IHD', 'COPD',\r\n",
        "       'Bronchial_asthma', 'Obesity', 'Diabetes', 'RF', 'ALT', 'AST', 'Age',\r\n",
        "       'Ab_ind']].describe"
      ],
      "execution_count": 574,
      "outputs": [
        {
          "output_type": "execute_result",
          "data": {
            "text/plain": [
              "<bound method NDFrame.describe of     Max_Platlets  Min_Platlets  Max_Leucocytes  ...         AST  Age  Ab_ind\n",
              "0     292.175937    292.155824       11.606018  ... -145.822674   49       0\n",
              "1     277.839645    277.841601       17.006865  ...   28.451836   78       0\n",
              "2     371.031428    371.074535       15.042500  ...   36.326748   51       0\n",
              "3     205.225210    205.317276       15.915514  ...   27.316142   57       0\n",
              "4     284.940272    284.908212        8.860139  ...   48.136058   59       0\n",
              "..           ...           ...             ...  ...         ...  ...     ...\n",
              "24    510.000000    510.000000       13.740000  ...   17.800000   48       1\n",
              "29    386.000000    386.000000       12.700000  ...   20.000000   36       1\n",
              "36    386.000000    386.000000       12.700000  ...   20.000000   36       1\n",
              "43    356.000000    356.000000       12.000000  ...   22.900000   57       1\n",
              "65    354.000000    354.000000       10.900000  ...   16.000000   62       1\n",
              "\n",
              "[532 rows x 20 columns]>"
            ]
          },
          "metadata": {
            "tags": []
          },
          "execution_count": 574
        }
      ]
    },
    {
      "cell_type": "code",
      "metadata": {
        "id": "EvN7dvZjmDog"
      },
      "source": [
        "cleaned_df = dataf.copy()\r\n"
      ],
      "execution_count": 575,
      "outputs": []
    },
    {
      "cell_type": "code",
      "metadata": {
        "id": "4SFoxaMrny3x"
      },
      "source": [
        "cleaned_df['Gender'] = cleaned_df['Gender'].map({'male': 1, 'female': 0})"
      ],
      "execution_count": 576,
      "outputs": []
    },
    {
      "cell_type": "code",
      "metadata": {
        "id": "EYj1gRG41B1p"
      },
      "source": [
        "cleaned_df = cleaned_df.drop(['Initial_Procalcitonine', 'Max_Procalcitonine'], axis=1)"
      ],
      "execution_count": 577,
      "outputs": []
    },
    {
      "cell_type": "code",
      "metadata": {
        "id": "_qgYpHwhnHw0"
      },
      "source": [
        "# Use a utility from sklearn to split and shuffle our dataset.\r\n",
        "train_df, test_df = train_test_split(cleaned_df, test_size=0.2)\r\n",
        "train_df, val_df = train_test_split(train_df, test_size=0.2)\r\n",
        "\r\n",
        "# Form np arrays of labels and features.\r\n",
        "train_labels = np.array(train_df.pop('Ab_ind'))\r\n",
        "bool_train_labels = train_labels != 0\r\n",
        "val_labels = np.array(val_df.pop('Ab_ind'))\r\n",
        "test_labels = np.array(test_df.pop('Ab_ind'))\r\n",
        "\r\n",
        "train_features = np.array(train_df)\r\n",
        "val_features = np.array(val_df)\r\n",
        "test_features = np.array(test_df)"
      ],
      "execution_count": 578,
      "outputs": []
    },
    {
      "cell_type": "code",
      "metadata": {
        "colab": {
          "base_uri": "https://localhost:8080/"
        },
        "id": "5WW6qOQ0nQ88",
        "outputId": "534cefcb-6eaf-4617-f4b2-0ec7a121c356"
      },
      "source": [
        "scaler = StandardScaler()\r\n",
        "train_features = scaler.fit_transform(train_features)\r\n",
        "\r\n",
        "val_features = scaler.transform(val_features)\r\n",
        "test_features = scaler.transform(test_features)\r\n",
        "\r\n",
        "train_features = np.clip(train_features, -5, 5)\r\n",
        "val_features = np.clip(val_features, -5, 5)\r\n",
        "test_features = np.clip(test_features, -5, 5)\r\n",
        "\r\n",
        "\r\n",
        "print('Training labels shape:', train_labels.shape)\r\n",
        "print('Validation labels shape:', val_labels.shape)\r\n",
        "print('Test labels shape:', test_labels.shape)\r\n",
        "\r\n",
        "print('Training features shape:', train_features.shape)\r\n",
        "print('Validation features shape:', val_features.shape)\r\n",
        "print('Test features shape:', test_features.shape)"
      ],
      "execution_count": 579,
      "outputs": [
        {
          "output_type": "stream",
          "text": [
            "Training labels shape: (340,)\n",
            "Validation labels shape: (85,)\n",
            "Test labels shape: (107,)\n",
            "Training features shape: (340, 19)\n",
            "Validation features shape: (85, 19)\n",
            "Test features shape: (107, 19)\n"
          ],
          "name": "stdout"
        }
      ]
    },
    {
      "cell_type": "code",
      "metadata": {
        "id": "VbF05rZvoAT0"
      },
      "source": [
        "#cleaned_df = cleaned_df.drop(['Initial_Procalcitonine', 'Max_Procalcitonine'], axis=1)"
      ],
      "execution_count": 580,
      "outputs": []
    },
    {
      "cell_type": "code",
      "metadata": {
        "colab": {
          "base_uri": "https://localhost:8080/",
          "height": 956
        },
        "id": "8bQsZuIqnWA5",
        "outputId": "04f4eb74-eabb-498c-a3ad-43c5e464d6f5"
      },
      "source": [
        "pos_df = pd.DataFrame(train_features[ bool_train_labels], columns=train_df.columns)\r\n",
        "neg_df = pd.DataFrame(train_features[~bool_train_labels], columns=train_df.columns)\r\n",
        "\r\n",
        "sns.jointplot(pos_df['Max_Platlets'], pos_df['Max_Creatinine'],\r\n",
        "              kind='hex', xlim=(-5,5), ylim=(-5,5))\r\n",
        "plt.suptitle(\"Positive distribution\")\r\n",
        "\r\n",
        "sns.jointplot(neg_df['Max_Platlets'], neg_df['Max_Creatinine'],\r\n",
        "              kind='hex', xlim=(-5,5), ylim=(-5,5))\r\n",
        "_ = plt.suptitle(\"Negative distribution\")"
      ],
      "execution_count": 581,
      "outputs": [
        {
          "output_type": "stream",
          "text": [
            "/usr/local/lib/python3.6/dist-packages/seaborn/_decorators.py:43: FutureWarning: Pass the following variables as keyword args: x, y. From version 0.12, the only valid positional argument will be `data`, and passing other arguments without an explicit keyword will result in an error or misinterpretation.\n",
            "  FutureWarning\n",
            "/usr/local/lib/python3.6/dist-packages/seaborn/_decorators.py:43: FutureWarning: Pass the following variables as keyword args: x, y. From version 0.12, the only valid positional argument will be `data`, and passing other arguments without an explicit keyword will result in an error or misinterpretation.\n",
            "  FutureWarning\n"
          ],
          "name": "stderr"
        },
        {
          "output_type": "display_data",
          "data": {
            "image/png": "[encoded data removed]",
            "text/plain": [
              "<Figure size 432x432 with 3 Axes>"
            ]
          },
          "metadata": {
            "tags": [],
            "needs_background": "light"
          }
        },
        {
          "output_type": "display_data",
          "data": {
            "image/png": "[encoded data removed]",
            "text/plain": [
              "<Figure size 432x432 with 3 Axes>"
            ]
          },
          "metadata": {
            "tags": [],
            "needs_background": "light"
          }
        }
      ]
    },
    {
      "cell_type": "code",
      "metadata": {
        "id": "GGMBRarJn6yi"
      },
      "source": [
        "METRICS = [\r\n",
        "      keras.metrics.TruePositives(name='tp'),\r\n",
        "      keras.metrics.FalsePositives(name='fp'),\r\n",
        "      keras.metrics.TrueNegatives(name='tn'),\r\n",
        "      keras.metrics.FalseNegatives(name='fn'), \r\n",
        "      keras.metrics.BinaryAccuracy(name='accuracy'),\r\n",
        "      keras.metrics.Precision(name='precision'),\r\n",
        "      keras.metrics.Recall(name='recall'),\r\n",
        "      keras.metrics.AUC(name='auc'),\r\n",
        "]\r\n",
        "\r\n",
        "def make_model(metrics=METRICS, output_bias=None):\r\n",
        "  if output_bias is not None:\r\n",
        "    output_bias = tf.keras.initializers.Constant(output_bias)\r\n",
        "  model = keras.Sequential([\r\n",
        "      keras.layers.Dense(\r\n",
        "          16, activation='relu',\r\n",
        "          input_shape=(train_features.shape[-1],)),\r\n",
        "      keras.layers.Dropout(0.5),\r\n",
        "      keras.layers.Dense(1, activation='sigmoid',\r\n",
        "                         bias_initializer=output_bias),\r\n",
        "  ])\r\n",
        "\r\n",
        "  model.compile(\r\n",
        "      optimizer=keras.optimizers.Adam(lr=1e-3),\r\n",
        "      loss=keras.losses.BinaryCrossentropy(),\r\n",
        "      metrics=metrics)\r\n",
        "\r\n",
        "  return model"
      ],
      "execution_count": 582,
      "outputs": []
    },
    {
      "cell_type": "code",
      "metadata": {
        "id": "bXc6wlVxoULI"
      },
      "source": [
        "EPOCHS = 100\r\n",
        "BATCH_SIZE = 2048\r\n",
        "\r\n",
        "early_stopping = tf.keras.callbacks.EarlyStopping(\r\n",
        "    monitor='val_auc', \r\n",
        "    verbose=1,\r\n",
        "    patience=10,\r\n",
        "    mode='max',\r\n",
        "    restore_best_weights=True)"
      ],
      "execution_count": 583,
      "outputs": []
    },
    {
      "cell_type": "code",
      "metadata": {
        "colab": {
          "base_uri": "https://localhost:8080/"
        },
        "id": "wG8XFqHZoXja",
        "outputId": "318a7303-c463-48c6-9d83-793377305e54"
      },
      "source": [
        "model = make_model()\r\n",
        "model.summary()"
      ],
      "execution_count": 584,
      "outputs": [
        {
          "output_type": "stream",
          "text": [
            "Model: \"sequential_69\"\n",
            "_________________________________________________________________\n",
            "Layer (type)                 Output Shape              Param #   \n",
            "=================================================================\n",
            "dense_138 (Dense)            (None, 16)                320       \n",
            "_________________________________________________________________\n",
            "dropout_69 (Dropout)         (None, 16)                0         \n",
            "_________________________________________________________________\n",
            "dense_139 (Dense)            (None, 1)                 17        \n",
            "=================================================================\n",
            "Total params: 337\n",
            "Trainable params: 337\n",
            "Non-trainable params: 0\n",
            "_________________________________________________________________\n"
          ],
          "name": "stdout"
        }
      ]
    },
    {
      "cell_type": "code",
      "metadata": {
        "colab": {
          "base_uri": "https://localhost:8080/"
        },
        "id": "SqWKsnfYoZhE",
        "outputId": "6c19b5d3-bc80-45a8-a990-a904434e3263"
      },
      "source": [
        "results = model.evaluate(train_features, train_labels, batch_size=BATCH_SIZE, verbose=0)\r\n",
        "print(\"Loss: {:0.4f}\".format(results[0]))"
      ],
      "execution_count": 585,
      "outputs": [
        {
          "output_type": "stream",
          "text": [
            "Loss: 0.9774\n"
          ],
          "name": "stdout"
        }
      ]
    },
    {
      "cell_type": "code",
      "metadata": {
        "colab": {
          "base_uri": "https://localhost:8080/"
        },
        "id": "g9cyMd0docU3",
        "outputId": "6b88a997-992c-48fc-f534-3e291b61c8a3"
      },
      "source": [
        "initial_bias = np.log([pos/neg])\r\n",
        "initial_bias"
      ],
      "execution_count": 586,
      "outputs": [
        {
          "output_type": "execute_result",
          "data": {
            "text/plain": [
              "array([-2.40612577])"
            ]
          },
          "metadata": {
            "tags": []
          },
          "execution_count": 586
        }
      ]
    },
    {
      "cell_type": "code",
      "metadata": {
        "colab": {
          "base_uri": "https://localhost:8080/"
        },
        "id": "s4MRhi39ofKY",
        "outputId": "f98fd3c6-ba35-48a2-ca2c-09dd1d6a5227"
      },
      "source": [
        "model = make_model(output_bias=initial_bias)\r\n",
        "model.predict(train_features[:10])"
      ],
      "execution_count": 587,
      "outputs": [
        {
          "output_type": "stream",
          "text": [
            "WARNING:tensorflow:7 out of the last 12 calls to <function Model.make_predict_function.<locals>.predict_function at 0x7f8dee7a5ea0> triggered tf.function retracing. Tracing is expensive and the excessive number of tracings could be due to (1) creating @tf.function repeatedly in a loop, (2) passing tensors with different shapes, (3) passing Python objects instead of tensors. For (1), please define your @tf.function outside of the loop. For (2), @tf.function has experimental_relax_shapes=True option that relaxes argument shapes that can avoid unnecessary retracing. For (3), please refer to https://www.tensorflow.org/guide/function#controlling_retracing and https://www.tensorflow.org/api_docs/python/tf/function for  more details.\n"
          ],
          "name": "stdout"
        },
        {
          "output_type": "execute_result",
          "data": {
            "text/plain": [
              "array([[0.1596626 ],\n",
              "       [0.12614477],\n",
              "       [0.1099602 ],\n",
              "       [0.07210982],\n",
              "       [0.3204376 ],\n",
              "       [0.07486036],\n",
              "       [0.13749906],\n",
              "       [0.08775386],\n",
              "       [0.13796505],\n",
              "       [0.31717333]], dtype=float32)"
            ]
          },
          "metadata": {
            "tags": []
          },
          "execution_count": 587
        }
      ]
    },
    {
      "cell_type": "code",
      "metadata": {
        "colab": {
          "base_uri": "https://localhost:8080/"
        },
        "id": "RlDlBgPWohVd",
        "outputId": "3f11841a-74a1-4c11-d645-e5218b4e5b34"
      },
      "source": [
        "results = model.evaluate(train_features, train_labels, batch_size=BATCH_SIZE, verbose=0)\r\n",
        "print(\"Loss: {:0.4f}\".format(results[0]))"
      ],
      "execution_count": 588,
      "outputs": [
        {
          "output_type": "stream",
          "text": [
            "Loss: 0.2893\n"
          ],
          "name": "stdout"
        }
      ]
    },
    {
      "cell_type": "code",
      "metadata": {
        "id": "JzBFLTcNojtg"
      },
      "source": [
        "initial_weights = os.path.join(tempfile.mkdtemp(), 'initial_weights')\r\n",
        "model.save_weights(initial_weights)"
      ],
      "execution_count": 589,
      "outputs": []
    },
    {
      "cell_type": "code",
      "metadata": {
        "colab": {
          "base_uri": "https://localhost:8080/"
        },
        "id": "NKAqzCC2omT9",
        "outputId": "dab12637-ab56-41e3-9f99-a700f1f49aee"
      },
      "source": [
        "model = make_model()\r\n",
        "model.load_weights(initial_weights)\r\n",
        "model.layers[-1].bias.assign([0.0])\r\n",
        "zero_bias_history = model.fit(\r\n",
        "    train_features,\r\n",
        "    train_labels,\r\n",
        "    batch_size=BATCH_SIZE,\r\n",
        "    epochs=20,\r\n",
        "    validation_data=(val_features, val_labels), \r\n",
        "    verbose=0)"
      ],
      "execution_count": 590,
      "outputs": [
        {
          "output_type": "stream",
          "text": [
            "WARNING:tensorflow:5 out of the last 26 calls to <function Model.make_test_function.<locals>.test_function at 0x7f8dd9488048> triggered tf.function retracing. Tracing is expensive and the excessive number of tracings could be due to (1) creating @tf.function repeatedly in a loop, (2) passing tensors with different shapes, (3) passing Python objects instead of tensors. For (1), please define your @tf.function outside of the loop. For (2), @tf.function has experimental_relax_shapes=True option that relaxes argument shapes that can avoid unnecessary retracing. For (3), please refer to https://www.tensorflow.org/guide/function#controlling_retracing and https://www.tensorflow.org/api_docs/python/tf/function for  more details.\n"
          ],
          "name": "stdout"
        }
      ]
    },
    {
      "cell_type": "code",
      "metadata": {
        "id": "Djaji_Fnoody"
      },
      "source": [
        "model = make_model()\r\n",
        "model.load_weights(initial_weights)\r\n",
        "careful_bias_history = model.fit(\r\n",
        "    train_features,\r\n",
        "    train_labels,\r\n",
        "    batch_size=BATCH_SIZE,\r\n",
        "    epochs=20,\r\n",
        "    validation_data=(val_features, val_labels), \r\n",
        "    verbose=0)"
      ],
      "execution_count": 591,
      "outputs": []
    },
    {
      "cell_type": "code",
      "metadata": {
        "id": "sW60uyQ9ormJ"
      },
      "source": [
        "def plot_loss(history, label, n):\r\n",
        "  # Use a log scale on y-axis to show the wide range of values.\r\n",
        "  plt.semilogy(history.epoch, history.history['loss'],\r\n",
        "               color=colors[n], label='Train ' + label)\r\n",
        "  plt.semilogy(history.epoch, history.history['val_loss'],\r\n",
        "               color=colors[n], label='Val ' + label,\r\n",
        "               linestyle=\"--\")\r\n",
        "  plt.xlabel('Epoch')\r\n",
        "  plt.ylabel('Loss')"
      ],
      "execution_count": 592,
      "outputs": []
    },
    {
      "cell_type": "code",
      "metadata": {
        "colab": {
          "base_uri": "https://localhost:8080/",
          "height": 606
        },
        "id": "nrCKyt8Eovb6",
        "outputId": "34dbd58b-7bba-476c-f864-d873637c0c7d"
      },
      "source": [
        "plot_loss(zero_bias_history, \"Zero Bias\", 0)\r\n",
        "plot_loss(careful_bias_history, \"Careful Bias\", 1)"
      ],
      "execution_count": 593,
      "outputs": [
        {
          "output_type": "display_data",
          "data": {
            "image/png": "[encoded data removed]",
            "text/plain": [
              "<Figure size 864x720 with 1 Axes>"
            ]
          },
          "metadata": {
            "tags": [],
            "needs_background": "light"
          }
        }
      ]
    },
    {
      "cell_type": "code",
      "metadata": {
        "colab": {
          "base_uri": "https://localhost:8080/"
        },
        "id": "EmhaWEC9oxLF",
        "outputId": "15d150c1-31bb-4e22-97ca-c7aa02460bcc"
      },
      "source": [
        "model = make_model()\r\n",
        "model.load_weights(initial_weights)\r\n",
        "baseline_history = model.fit(\r\n",
        "    train_features,\r\n",
        "    train_labels,\r\n",
        "    batch_size=BATCH_SIZE,\r\n",
        "    epochs=EPOCHS,\r\n",
        "    callbacks=[early_stopping],\r\n",
        "    validation_data=(val_features, val_labels))"
      ],
      "execution_count": 594,
      "outputs": [
        {
          "output_type": "stream",
          "text": [
            "Epoch 1/100\n",
            "1/1 [==============================] - 3s 3s/step - loss: 0.3196 - tp: 0.0000e+00 - fp: 4.0000 - tn: 389.0000 - fn: 32.0000 - accuracy: 0.9153 - precision: 0.0000e+00 - recall: 0.0000e+00 - auc: 0.5471 - val_loss: 0.1988 - val_tp: 0.0000e+00 - val_fp: 0.0000e+00 - val_tn: 82.0000 - val_fn: 3.0000 - val_accuracy: 0.9647 - val_precision: 0.0000e+00 - val_recall: 0.0000e+00 - val_auc: 0.3598\n",
            "Epoch 2/100\n",
            "1/1 [==============================] - 0s 47ms/step - loss: 0.3038 - tp: 0.0000e+00 - fp: 1.0000 - tn: 310.0000 - fn: 29.0000 - accuracy: 0.9118 - precision: 0.0000e+00 - recall: 0.0000e+00 - auc: 0.5927 - val_loss: 0.1983 - val_tp: 0.0000e+00 - val_fp: 0.0000e+00 - val_tn: 82.0000 - val_fn: 3.0000 - val_accuracy: 0.9647 - val_precision: 0.0000e+00 - val_recall: 0.0000e+00 - val_auc: 0.3618\n",
            "Epoch 3/100\n",
            "1/1 [==============================] - 0s 46ms/step - loss: 0.3018 - tp: 0.0000e+00 - fp: 4.0000 - tn: 307.0000 - fn: 29.0000 - accuracy: 0.9029 - precision: 0.0000e+00 - recall: 0.0000e+00 - auc: 0.6146 - val_loss: 0.1979 - val_tp: 0.0000e+00 - val_fp: 0.0000e+00 - val_tn: 82.0000 - val_fn: 3.0000 - val_accuracy: 0.9647 - val_precision: 0.0000e+00 - val_recall: 0.0000e+00 - val_auc: 0.3618\n",
            "Epoch 4/100\n",
            "1/1 [==============================] - 0s 46ms/step - loss: 0.3066 - tp: 0.0000e+00 - fp: 2.0000 - tn: 309.0000 - fn: 29.0000 - accuracy: 0.9088 - precision: 0.0000e+00 - recall: 0.0000e+00 - auc: 0.6101 - val_loss: 0.1974 - val_tp: 0.0000e+00 - val_fp: 0.0000e+00 - val_tn: 82.0000 - val_fn: 3.0000 - val_accuracy: 0.9647 - val_precision: 0.0000e+00 - val_recall: 0.0000e+00 - val_auc: 0.3557\n",
            "Epoch 5/100\n",
            "1/1 [==============================] - 0s 48ms/step - loss: 0.3257 - tp: 0.0000e+00 - fp: 1.0000 - tn: 310.0000 - fn: 29.0000 - accuracy: 0.9118 - precision: 0.0000e+00 - recall: 0.0000e+00 - auc: 0.5133 - val_loss: 0.1969 - val_tp: 0.0000e+00 - val_fp: 0.0000e+00 - val_tn: 82.0000 - val_fn: 3.0000 - val_accuracy: 0.9647 - val_precision: 0.0000e+00 - val_recall: 0.0000e+00 - val_auc: 0.3557\n",
            "Epoch 6/100\n",
            "1/1 [==============================] - 0s 49ms/step - loss: 0.3083 - tp: 0.0000e+00 - fp: 3.0000 - tn: 308.0000 - fn: 29.0000 - accuracy: 0.9059 - precision: 0.0000e+00 - recall: 0.0000e+00 - auc: 0.6007 - val_loss: 0.1964 - val_tp: 0.0000e+00 - val_fp: 0.0000e+00 - val_tn: 82.0000 - val_fn: 3.0000 - val_accuracy: 0.9647 - val_precision: 0.0000e+00 - val_recall: 0.0000e+00 - val_auc: 0.3801\n",
            "Epoch 7/100\n",
            "1/1 [==============================] - 0s 48ms/step - loss: 0.3115 - tp: 2.0000 - fp: 2.0000 - tn: 309.0000 - fn: 27.0000 - accuracy: 0.9147 - precision: 0.5000 - recall: 0.0690 - auc: 0.5521 - val_loss: 0.1959 - val_tp: 0.0000e+00 - val_fp: 0.0000e+00 - val_tn: 82.0000 - val_fn: 3.0000 - val_accuracy: 0.9647 - val_precision: 0.0000e+00 - val_recall: 0.0000e+00 - val_auc: 0.3801\n",
            "Epoch 8/100\n",
            "1/1 [==============================] - 0s 49ms/step - loss: 0.2980 - tp: 0.0000e+00 - fp: 2.0000 - tn: 309.0000 - fn: 29.0000 - accuracy: 0.9088 - precision: 0.0000e+00 - recall: 0.0000e+00 - auc: 0.6175 - val_loss: 0.1955 - val_tp: 0.0000e+00 - val_fp: 0.0000e+00 - val_tn: 82.0000 - val_fn: 3.0000 - val_accuracy: 0.9647 - val_precision: 0.0000e+00 - val_recall: 0.0000e+00 - val_auc: 0.3841\n",
            "Epoch 9/100\n",
            "1/1 [==============================] - 0s 50ms/step - loss: 0.2895 - tp: 1.0000 - fp: 3.0000 - tn: 308.0000 - fn: 28.0000 - accuracy: 0.9088 - precision: 0.2500 - recall: 0.0345 - auc: 0.6737 - val_loss: 0.1950 - val_tp: 0.0000e+00 - val_fp: 0.0000e+00 - val_tn: 82.0000 - val_fn: 3.0000 - val_accuracy: 0.9647 - val_precision: 0.0000e+00 - val_recall: 0.0000e+00 - val_auc: 0.3902\n",
            "Epoch 10/100\n",
            "1/1 [==============================] - 0s 51ms/step - loss: 0.3084 - tp: 2.0000 - fp: 4.0000 - tn: 307.0000 - fn: 27.0000 - accuracy: 0.9088 - precision: 0.3333 - recall: 0.0690 - auc: 0.6083 - val_loss: 0.1946 - val_tp: 0.0000e+00 - val_fp: 0.0000e+00 - val_tn: 82.0000 - val_fn: 3.0000 - val_accuracy: 0.9647 - val_precision: 0.0000e+00 - val_recall: 0.0000e+00 - val_auc: 0.3902\n",
            "Epoch 11/100\n",
            "1/1 [==============================] - 0s 53ms/step - loss: 0.3070 - tp: 0.0000e+00 - fp: 3.0000 - tn: 308.0000 - fn: 29.0000 - accuracy: 0.9059 - precision: 0.0000e+00 - recall: 0.0000e+00 - auc: 0.5911 - val_loss: 0.1941 - val_tp: 0.0000e+00 - val_fp: 0.0000e+00 - val_tn: 82.0000 - val_fn: 3.0000 - val_accuracy: 0.9647 - val_precision: 0.0000e+00 - val_recall: 0.0000e+00 - val_auc: 0.3841\n",
            "Epoch 12/100\n",
            "1/1 [==============================] - 0s 47ms/step - loss: 0.3094 - tp: 1.0000 - fp: 4.0000 - tn: 307.0000 - fn: 28.0000 - accuracy: 0.9059 - precision: 0.2000 - recall: 0.0345 - auc: 0.5758 - val_loss: 0.1937 - val_tp: 0.0000e+00 - val_fp: 0.0000e+00 - val_tn: 82.0000 - val_fn: 3.0000 - val_accuracy: 0.9647 - val_precision: 0.0000e+00 - val_recall: 0.0000e+00 - val_auc: 0.3882\n",
            "Epoch 13/100\n",
            "1/1 [==============================] - 0s 49ms/step - loss: 0.3051 - tp: 0.0000e+00 - fp: 5.0000 - tn: 306.0000 - fn: 29.0000 - accuracy: 0.9000 - precision: 0.0000e+00 - recall: 0.0000e+00 - auc: 0.6477 - val_loss: 0.1933 - val_tp: 0.0000e+00 - val_fp: 0.0000e+00 - val_tn: 82.0000 - val_fn: 3.0000 - val_accuracy: 0.9647 - val_precision: 0.0000e+00 - val_recall: 0.0000e+00 - val_auc: 0.3943\n",
            "Epoch 14/100\n",
            "1/1 [==============================] - 0s 46ms/step - loss: 0.2951 - tp: 0.0000e+00 - fp: 3.0000 - tn: 308.0000 - fn: 29.0000 - accuracy: 0.9059 - precision: 0.0000e+00 - recall: 0.0000e+00 - auc: 0.6285 - val_loss: 0.1929 - val_tp: 0.0000e+00 - val_fp: 0.0000e+00 - val_tn: 82.0000 - val_fn: 3.0000 - val_accuracy: 0.9647 - val_precision: 0.0000e+00 - val_recall: 0.0000e+00 - val_auc: 0.3801\n",
            "Epoch 15/100\n",
            "1/1 [==============================] - 0s 59ms/step - loss: 0.3037 - tp: 0.0000e+00 - fp: 5.0000 - tn: 306.0000 - fn: 29.0000 - accuracy: 0.9000 - precision: 0.0000e+00 - recall: 0.0000e+00 - auc: 0.6108 - val_loss: 0.1925 - val_tp: 0.0000e+00 - val_fp: 0.0000e+00 - val_tn: 82.0000 - val_fn: 3.0000 - val_accuracy: 0.9647 - val_precision: 0.0000e+00 - val_recall: 0.0000e+00 - val_auc: 0.3841\n",
            "Epoch 16/100\n",
            "1/1 [==============================] - 0s 51ms/step - loss: 0.3104 - tp: 0.0000e+00 - fp: 2.0000 - tn: 309.0000 - fn: 29.0000 - accuracy: 0.9088 - precision: 0.0000e+00 - recall: 0.0000e+00 - auc: 0.5824 - val_loss: 0.1922 - val_tp: 0.0000e+00 - val_fp: 0.0000e+00 - val_tn: 82.0000 - val_fn: 3.0000 - val_accuracy: 0.9647 - val_precision: 0.0000e+00 - val_recall: 0.0000e+00 - val_auc: 0.3862\n",
            "Epoch 17/100\n",
            "1/1 [==============================] - 0s 50ms/step - loss: 0.2951 - tp: 1.0000 - fp: 2.0000 - tn: 309.0000 - fn: 28.0000 - accuracy: 0.9118 - precision: 0.3333 - recall: 0.0345 - auc: 0.6253 - val_loss: 0.1918 - val_tp: 0.0000e+00 - val_fp: 0.0000e+00 - val_tn: 82.0000 - val_fn: 3.0000 - val_accuracy: 0.9647 - val_precision: 0.0000e+00 - val_recall: 0.0000e+00 - val_auc: 0.3801\n",
            "Epoch 18/100\n",
            "1/1 [==============================] - 0s 48ms/step - loss: 0.2959 - tp: 0.0000e+00 - fp: 2.0000 - tn: 309.0000 - fn: 29.0000 - accuracy: 0.9088 - precision: 0.0000e+00 - recall: 0.0000e+00 - auc: 0.6034 - val_loss: 0.1916 - val_tp: 0.0000e+00 - val_fp: 0.0000e+00 - val_tn: 82.0000 - val_fn: 3.0000 - val_accuracy: 0.9647 - val_precision: 0.0000e+00 - val_recall: 0.0000e+00 - val_auc: 0.3821\n",
            "Epoch 19/100\n",
            "1/1 [==============================] - 0s 51ms/step - loss: 0.2844 - tp: 1.0000 - fp: 3.0000 - tn: 308.0000 - fn: 28.0000 - accuracy: 0.9088 - precision: 0.2500 - recall: 0.0345 - auc: 0.6786 - val_loss: 0.1913 - val_tp: 0.0000e+00 - val_fp: 0.0000e+00 - val_tn: 82.0000 - val_fn: 3.0000 - val_accuracy: 0.9647 - val_precision: 0.0000e+00 - val_recall: 0.0000e+00 - val_auc: 0.3943\n",
            "Epoch 20/100\n",
            "1/1 [==============================] - 0s 45ms/step - loss: 0.3088 - tp: 1.0000 - fp: 2.0000 - tn: 309.0000 - fn: 28.0000 - accuracy: 0.9118 - precision: 0.3333 - recall: 0.0345 - auc: 0.5492 - val_loss: 0.1910 - val_tp: 0.0000e+00 - val_fp: 0.0000e+00 - val_tn: 82.0000 - val_fn: 3.0000 - val_accuracy: 0.9647 - val_precision: 0.0000e+00 - val_recall: 0.0000e+00 - val_auc: 0.3984\n",
            "Epoch 21/100\n",
            "1/1 [==============================] - 0s 49ms/step - loss: 0.3031 - tp: 0.0000e+00 - fp: 1.0000 - tn: 310.0000 - fn: 29.0000 - accuracy: 0.9118 - precision: 0.0000e+00 - recall: 0.0000e+00 - auc: 0.5961 - val_loss: 0.1908 - val_tp: 0.0000e+00 - val_fp: 0.0000e+00 - val_tn: 82.0000 - val_fn: 3.0000 - val_accuracy: 0.9647 - val_precision: 0.0000e+00 - val_recall: 0.0000e+00 - val_auc: 0.3862\n",
            "Epoch 22/100\n",
            "1/1 [==============================] - 0s 54ms/step - loss: 0.2895 - tp: 0.0000e+00 - fp: 2.0000 - tn: 309.0000 - fn: 29.0000 - accuracy: 0.9088 - precision: 0.0000e+00 - recall: 0.0000e+00 - auc: 0.6250 - val_loss: 0.1905 - val_tp: 0.0000e+00 - val_fp: 0.0000e+00 - val_tn: 82.0000 - val_fn: 3.0000 - val_accuracy: 0.9647 - val_precision: 0.0000e+00 - val_recall: 0.0000e+00 - val_auc: 0.3862\n",
            "Epoch 23/100\n",
            "1/1 [==============================] - 0s 56ms/step - loss: 0.2971 - tp: 0.0000e+00 - fp: 2.0000 - tn: 309.0000 - fn: 29.0000 - accuracy: 0.9088 - precision: 0.0000e+00 - recall: 0.0000e+00 - auc: 0.6638 - val_loss: 0.1903 - val_tp: 0.0000e+00 - val_fp: 0.0000e+00 - val_tn: 82.0000 - val_fn: 3.0000 - val_accuracy: 0.9647 - val_precision: 0.0000e+00 - val_recall: 0.0000e+00 - val_auc: 0.3902\n",
            "Epoch 24/100\n",
            "1/1 [==============================] - 0s 51ms/step - loss: 0.2952 - tp: 0.0000e+00 - fp: 0.0000e+00 - tn: 311.0000 - fn: 29.0000 - accuracy: 0.9147 - precision: 0.0000e+00 - recall: 0.0000e+00 - auc: 0.6337 - val_loss: 0.1900 - val_tp: 0.0000e+00 - val_fp: 0.0000e+00 - val_tn: 82.0000 - val_fn: 3.0000 - val_accuracy: 0.9647 - val_precision: 0.0000e+00 - val_recall: 0.0000e+00 - val_auc: 0.3943\n",
            "Epoch 25/100\n",
            "1/1 [==============================] - 0s 52ms/step - loss: 0.2929 - tp: 0.0000e+00 - fp: 2.0000 - tn: 309.0000 - fn: 29.0000 - accuracy: 0.9088 - precision: 0.0000e+00 - recall: 0.0000e+00 - auc: 0.6237 - val_loss: 0.1898 - val_tp: 0.0000e+00 - val_fp: 0.0000e+00 - val_tn: 82.0000 - val_fn: 3.0000 - val_accuracy: 0.9647 - val_precision: 0.0000e+00 - val_recall: 0.0000e+00 - val_auc: 0.4004\n",
            "Epoch 26/100\n",
            "1/1 [==============================] - 0s 53ms/step - loss: 0.2838 - tp: 0.0000e+00 - fp: 2.0000 - tn: 309.0000 - fn: 29.0000 - accuracy: 0.9088 - precision: 0.0000e+00 - recall: 0.0000e+00 - auc: 0.6778 - val_loss: 0.1896 - val_tp: 0.0000e+00 - val_fp: 0.0000e+00 - val_tn: 82.0000 - val_fn: 3.0000 - val_accuracy: 0.9647 - val_precision: 0.0000e+00 - val_recall: 0.0000e+00 - val_auc: 0.3902\n",
            "Epoch 27/100\n",
            "1/1 [==============================] - 0s 50ms/step - loss: 0.3027 - tp: 0.0000e+00 - fp: 1.0000 - tn: 310.0000 - fn: 29.0000 - accuracy: 0.9118 - precision: 0.0000e+00 - recall: 0.0000e+00 - auc: 0.6191 - val_loss: 0.1893 - val_tp: 0.0000e+00 - val_fp: 0.0000e+00 - val_tn: 82.0000 - val_fn: 3.0000 - val_accuracy: 0.9647 - val_precision: 0.0000e+00 - val_recall: 0.0000e+00 - val_auc: 0.3801\n",
            "Epoch 28/100\n",
            "1/1 [==============================] - 0s 52ms/step - loss: 0.2920 - tp: 0.0000e+00 - fp: 1.0000 - tn: 310.0000 - fn: 29.0000 - accuracy: 0.9118 - precision: 0.0000e+00 - recall: 0.0000e+00 - auc: 0.6352 - val_loss: 0.1891 - val_tp: 0.0000e+00 - val_fp: 0.0000e+00 - val_tn: 82.0000 - val_fn: 3.0000 - val_accuracy: 0.9647 - val_precision: 0.0000e+00 - val_recall: 0.0000e+00 - val_auc: 0.3821\n",
            "Epoch 29/100\n",
            "1/1 [==============================] - 0s 50ms/step - loss: 0.2880 - tp: 1.0000 - fp: 0.0000e+00 - tn: 311.0000 - fn: 28.0000 - accuracy: 0.9176 - precision: 1.0000 - recall: 0.0345 - auc: 0.6299 - val_loss: 0.1889 - val_tp: 0.0000e+00 - val_fp: 0.0000e+00 - val_tn: 82.0000 - val_fn: 3.0000 - val_accuracy: 0.9647 - val_precision: 0.0000e+00 - val_recall: 0.0000e+00 - val_auc: 0.3923\n",
            "Epoch 30/100\n",
            "1/1 [==============================] - 0s 51ms/step - loss: 0.2947 - tp: 0.0000e+00 - fp: 2.0000 - tn: 309.0000 - fn: 29.0000 - accuracy: 0.9088 - precision: 0.0000e+00 - recall: 0.0000e+00 - auc: 0.6211 - val_loss: 0.1887 - val_tp: 0.0000e+00 - val_fp: 0.0000e+00 - val_tn: 82.0000 - val_fn: 3.0000 - val_accuracy: 0.9647 - val_precision: 0.0000e+00 - val_recall: 0.0000e+00 - val_auc: 0.3943\n",
            "Epoch 31/100\n",
            "1/1 [==============================] - 0s 54ms/step - loss: 0.3032 - tp: 0.0000e+00 - fp: 3.0000 - tn: 308.0000 - fn: 29.0000 - accuracy: 0.9059 - precision: 0.0000e+00 - recall: 0.0000e+00 - auc: 0.6007 - val_loss: 0.1884 - val_tp: 0.0000e+00 - val_fp: 0.0000e+00 - val_tn: 82.0000 - val_fn: 3.0000 - val_accuracy: 0.9647 - val_precision: 0.0000e+00 - val_recall: 0.0000e+00 - val_auc: 0.3984\n",
            "Epoch 32/100\n",
            "1/1 [==============================] - 0s 55ms/step - loss: 0.2846 - tp: 0.0000e+00 - fp: 0.0000e+00 - tn: 311.0000 - fn: 29.0000 - accuracy: 0.9147 - precision: 0.0000e+00 - recall: 0.0000e+00 - auc: 0.6574 - val_loss: 0.1882 - val_tp: 0.0000e+00 - val_fp: 0.0000e+00 - val_tn: 82.0000 - val_fn: 3.0000 - val_accuracy: 0.9647 - val_precision: 0.0000e+00 - val_recall: 0.0000e+00 - val_auc: 0.4004\n",
            "Epoch 33/100\n",
            "1/1 [==============================] - 0s 59ms/step - loss: 0.3035 - tp: 0.0000e+00 - fp: 1.0000 - tn: 310.0000 - fn: 29.0000 - accuracy: 0.9118 - precision: 0.0000e+00 - recall: 0.0000e+00 - auc: 0.5736 - val_loss: 0.1880 - val_tp: 0.0000e+00 - val_fp: 0.0000e+00 - val_tn: 82.0000 - val_fn: 3.0000 - val_accuracy: 0.9647 - val_precision: 0.0000e+00 - val_recall: 0.0000e+00 - val_auc: 0.4024\n",
            "Epoch 34/100\n",
            "1/1 [==============================] - 0s 51ms/step - loss: 0.2836 - tp: 0.0000e+00 - fp: 3.0000 - tn: 308.0000 - fn: 29.0000 - accuracy: 0.9059 - precision: 0.0000e+00 - recall: 0.0000e+00 - auc: 0.6501 - val_loss: 0.1878 - val_tp: 0.0000e+00 - val_fp: 0.0000e+00 - val_tn: 82.0000 - val_fn: 3.0000 - val_accuracy: 0.9647 - val_precision: 0.0000e+00 - val_recall: 0.0000e+00 - val_auc: 0.4045\n",
            "Epoch 35/100\n",
            "1/1 [==============================] - 0s 52ms/step - loss: 0.2655 - tp: 0.0000e+00 - fp: 2.0000 - tn: 309.0000 - fn: 29.0000 - accuracy: 0.9088 - precision: 0.0000e+00 - recall: 0.0000e+00 - auc: 0.7397 - val_loss: 0.1876 - val_tp: 0.0000e+00 - val_fp: 0.0000e+00 - val_tn: 82.0000 - val_fn: 3.0000 - val_accuracy: 0.9647 - val_precision: 0.0000e+00 - val_recall: 0.0000e+00 - val_auc: 0.4085\n",
            "Epoch 36/100\n",
            "1/1 [==============================] - 0s 55ms/step - loss: 0.2863 - tp: 0.0000e+00 - fp: 2.0000 - tn: 309.0000 - fn: 29.0000 - accuracy: 0.9088 - precision: 0.0000e+00 - recall: 0.0000e+00 - auc: 0.6554 - val_loss: 0.1874 - val_tp: 0.0000e+00 - val_fp: 0.0000e+00 - val_tn: 82.0000 - val_fn: 3.0000 - val_accuracy: 0.9647 - val_precision: 0.0000e+00 - val_recall: 0.0000e+00 - val_auc: 0.4126\n",
            "Epoch 37/100\n",
            "1/1 [==============================] - 0s 47ms/step - loss: 0.2897 - tp: 0.0000e+00 - fp: 3.0000 - tn: 308.0000 - fn: 29.0000 - accuracy: 0.9059 - precision: 0.0000e+00 - recall: 0.0000e+00 - auc: 0.6561 - val_loss: 0.1872 - val_tp: 0.0000e+00 - val_fp: 0.0000e+00 - val_tn: 82.0000 - val_fn: 3.0000 - val_accuracy: 0.9647 - val_precision: 0.0000e+00 - val_recall: 0.0000e+00 - val_auc: 0.4146\n",
            "Epoch 38/100\n",
            "1/1 [==============================] - 0s 50ms/step - loss: 0.2892 - tp: 0.0000e+00 - fp: 3.0000 - tn: 308.0000 - fn: 29.0000 - accuracy: 0.9059 - precision: 0.0000e+00 - recall: 0.0000e+00 - auc: 0.6668 - val_loss: 0.1870 - val_tp: 0.0000e+00 - val_fp: 0.0000e+00 - val_tn: 82.0000 - val_fn: 3.0000 - val_accuracy: 0.9647 - val_precision: 0.0000e+00 - val_recall: 0.0000e+00 - val_auc: 0.4085\n",
            "Epoch 39/100\n",
            "1/1 [==============================] - 0s 50ms/step - loss: 0.2813 - tp: 1.0000 - fp: 1.0000 - tn: 310.0000 - fn: 28.0000 - accuracy: 0.9147 - precision: 0.5000 - recall: 0.0345 - auc: 0.6436 - val_loss: 0.1868 - val_tp: 0.0000e+00 - val_fp: 0.0000e+00 - val_tn: 82.0000 - val_fn: 3.0000 - val_accuracy: 0.9647 - val_precision: 0.0000e+00 - val_recall: 0.0000e+00 - val_auc: 0.4085\n",
            "Epoch 40/100\n",
            "1/1 [==============================] - 0s 60ms/step - loss: 0.2807 - tp: 1.0000 - fp: 0.0000e+00 - tn: 311.0000 - fn: 28.0000 - accuracy: 0.9176 - precision: 1.0000 - recall: 0.0345 - auc: 0.6538 - val_loss: 0.1867 - val_tp: 0.0000e+00 - val_fp: 0.0000e+00 - val_tn: 82.0000 - val_fn: 3.0000 - val_accuracy: 0.9647 - val_precision: 0.0000e+00 - val_recall: 0.0000e+00 - val_auc: 0.4085\n",
            "Epoch 41/100\n",
            "1/1 [==============================] - 0s 53ms/step - loss: 0.2981 - tp: 0.0000e+00 - fp: 1.0000 - tn: 310.0000 - fn: 29.0000 - accuracy: 0.9118 - precision: 0.0000e+00 - recall: 0.0000e+00 - auc: 0.6193 - val_loss: 0.1866 - val_tp: 0.0000e+00 - val_fp: 0.0000e+00 - val_tn: 82.0000 - val_fn: 3.0000 - val_accuracy: 0.9647 - val_precision: 0.0000e+00 - val_recall: 0.0000e+00 - val_auc: 0.4106\n",
            "Epoch 42/100\n",
            "1/1 [==============================] - 0s 51ms/step - loss: 0.2675 - tp: 0.0000e+00 - fp: 1.0000 - tn: 310.0000 - fn: 29.0000 - accuracy: 0.9118 - precision: 0.0000e+00 - recall: 0.0000e+00 - auc: 0.7275 - val_loss: 0.1864 - val_tp: 0.0000e+00 - val_fp: 0.0000e+00 - val_tn: 82.0000 - val_fn: 3.0000 - val_accuracy: 0.9647 - val_precision: 0.0000e+00 - val_recall: 0.0000e+00 - val_auc: 0.4126\n",
            "Epoch 43/100\n",
            "1/1 [==============================] - 0s 346ms/step - loss: 0.2685 - tp: 1.0000 - fp: 1.0000 - tn: 310.0000 - fn: 28.0000 - accuracy: 0.9147 - precision: 0.5000 - recall: 0.0345 - auc: 0.7122 - val_loss: 0.1863 - val_tp: 0.0000e+00 - val_fp: 0.0000e+00 - val_tn: 82.0000 - val_fn: 3.0000 - val_accuracy: 0.9647 - val_precision: 0.0000e+00 - val_recall: 0.0000e+00 - val_auc: 0.4207\n",
            "Epoch 44/100\n",
            "1/1 [==============================] - 0s 50ms/step - loss: 0.2802 - tp: 0.0000e+00 - fp: 2.0000 - tn: 309.0000 - fn: 29.0000 - accuracy: 0.9088 - precision: 0.0000e+00 - recall: 0.0000e+00 - auc: 0.6751 - val_loss: 0.1862 - val_tp: 0.0000e+00 - val_fp: 0.0000e+00 - val_tn: 82.0000 - val_fn: 3.0000 - val_accuracy: 0.9647 - val_precision: 0.0000e+00 - val_recall: 0.0000e+00 - val_auc: 0.4248\n",
            "Epoch 45/100\n",
            "1/1 [==============================] - 0s 59ms/step - loss: 0.2851 - tp: 0.0000e+00 - fp: 0.0000e+00 - tn: 311.0000 - fn: 29.0000 - accuracy: 0.9147 - precision: 0.0000e+00 - recall: 0.0000e+00 - auc: 0.6447 - val_loss: 0.1861 - val_tp: 0.0000e+00 - val_fp: 0.0000e+00 - val_tn: 82.0000 - val_fn: 3.0000 - val_accuracy: 0.9647 - val_precision: 0.0000e+00 - val_recall: 0.0000e+00 - val_auc: 0.4289\n",
            "Epoch 46/100\n",
            "1/1 [==============================] - 0s 50ms/step - loss: 0.2770 - tp: 0.0000e+00 - fp: 2.0000 - tn: 309.0000 - fn: 29.0000 - accuracy: 0.9088 - precision: 0.0000e+00 - recall: 0.0000e+00 - auc: 0.7012 - val_loss: 0.1861 - val_tp: 0.0000e+00 - val_fp: 0.0000e+00 - val_tn: 82.0000 - val_fn: 3.0000 - val_accuracy: 0.9647 - val_precision: 0.0000e+00 - val_recall: 0.0000e+00 - val_auc: 0.4289\n",
            "Epoch 47/100\n",
            "1/1 [==============================] - 0s 51ms/step - loss: 0.2925 - tp: 0.0000e+00 - fp: 0.0000e+00 - tn: 311.0000 - fn: 29.0000 - accuracy: 0.9147 - precision: 0.0000e+00 - recall: 0.0000e+00 - auc: 0.6207 - val_loss: 0.1860 - val_tp: 0.0000e+00 - val_fp: 0.0000e+00 - val_tn: 82.0000 - val_fn: 3.0000 - val_accuracy: 0.9647 - val_precision: 0.0000e+00 - val_recall: 0.0000e+00 - val_auc: 0.4309\n",
            "Epoch 48/100\n",
            "1/1 [==============================] - 0s 53ms/step - loss: 0.2679 - tp: 0.0000e+00 - fp: 2.0000 - tn: 309.0000 - fn: 29.0000 - accuracy: 0.9088 - precision: 0.0000e+00 - recall: 0.0000e+00 - auc: 0.7443 - val_loss: 0.1859 - val_tp: 0.0000e+00 - val_fp: 0.0000e+00 - val_tn: 82.0000 - val_fn: 3.0000 - val_accuracy: 0.9647 - val_precision: 0.0000e+00 - val_recall: 0.0000e+00 - val_auc: 0.4289\n",
            "Epoch 49/100\n",
            "1/1 [==============================] - 0s 60ms/step - loss: 0.2748 - tp: 1.0000 - fp: 2.0000 - tn: 309.0000 - fn: 28.0000 - accuracy: 0.9118 - precision: 0.3333 - recall: 0.0345 - auc: 0.7061 - val_loss: 0.1859 - val_tp: 0.0000e+00 - val_fp: 0.0000e+00 - val_tn: 82.0000 - val_fn: 3.0000 - val_accuracy: 0.9647 - val_precision: 0.0000e+00 - val_recall: 0.0000e+00 - val_auc: 0.4350\n",
            "Epoch 50/100\n",
            "1/1 [==============================] - 0s 49ms/step - loss: 0.2800 - tp: 0.0000e+00 - fp: 2.0000 - tn: 309.0000 - fn: 29.0000 - accuracy: 0.9088 - precision: 0.0000e+00 - recall: 0.0000e+00 - auc: 0.6709 - val_loss: 0.1858 - val_tp: 0.0000e+00 - val_fp: 0.0000e+00 - val_tn: 82.0000 - val_fn: 3.0000 - val_accuracy: 0.9647 - val_precision: 0.0000e+00 - val_recall: 0.0000e+00 - val_auc: 0.4350\n",
            "Epoch 51/100\n",
            "1/1 [==============================] - 0s 51ms/step - loss: 0.2701 - tp: 1.0000 - fp: 1.0000 - tn: 310.0000 - fn: 28.0000 - accuracy: 0.9147 - precision: 0.5000 - recall: 0.0345 - auc: 0.6888 - val_loss: 0.1858 - val_tp: 0.0000e+00 - val_fp: 0.0000e+00 - val_tn: 82.0000 - val_fn: 3.0000 - val_accuracy: 0.9647 - val_precision: 0.0000e+00 - val_recall: 0.0000e+00 - val_auc: 0.4350\n",
            "Epoch 52/100\n",
            "1/1 [==============================] - 0s 55ms/step - loss: 0.2727 - tp: 0.0000e+00 - fp: 0.0000e+00 - tn: 311.0000 - fn: 29.0000 - accuracy: 0.9147 - precision: 0.0000e+00 - recall: 0.0000e+00 - auc: 0.7125 - val_loss: 0.1857 - val_tp: 0.0000e+00 - val_fp: 0.0000e+00 - val_tn: 82.0000 - val_fn: 3.0000 - val_accuracy: 0.9647 - val_precision: 0.0000e+00 - val_recall: 0.0000e+00 - val_auc: 0.4350\n",
            "Epoch 53/100\n",
            "1/1 [==============================] - 0s 51ms/step - loss: 0.2676 - tp: 0.0000e+00 - fp: 0.0000e+00 - tn: 311.0000 - fn: 29.0000 - accuracy: 0.9147 - precision: 0.0000e+00 - recall: 0.0000e+00 - auc: 0.7077 - val_loss: 0.1857 - val_tp: 0.0000e+00 - val_fp: 0.0000e+00 - val_tn: 82.0000 - val_fn: 3.0000 - val_accuracy: 0.9647 - val_precision: 0.0000e+00 - val_recall: 0.0000e+00 - val_auc: 0.4370\n",
            "Epoch 54/100\n",
            "1/1 [==============================] - 0s 54ms/step - loss: 0.2890 - tp: 0.0000e+00 - fp: 1.0000 - tn: 310.0000 - fn: 29.0000 - accuracy: 0.9118 - precision: 0.0000e+00 - recall: 0.0000e+00 - auc: 0.6360 - val_loss: 0.1857 - val_tp: 0.0000e+00 - val_fp: 0.0000e+00 - val_tn: 82.0000 - val_fn: 3.0000 - val_accuracy: 0.9647 - val_precision: 0.0000e+00 - val_recall: 0.0000e+00 - val_auc: 0.4370\n",
            "Epoch 55/100\n",
            "1/1 [==============================] - 0s 49ms/step - loss: 0.2720 - tp: 1.0000 - fp: 1.0000 - tn: 310.0000 - fn: 28.0000 - accuracy: 0.9147 - precision: 0.5000 - recall: 0.0345 - auc: 0.7072 - val_loss: 0.1857 - val_tp: 0.0000e+00 - val_fp: 0.0000e+00 - val_tn: 82.0000 - val_fn: 3.0000 - val_accuracy: 0.9647 - val_precision: 0.0000e+00 - val_recall: 0.0000e+00 - val_auc: 0.4411\n",
            "Epoch 56/100\n",
            "1/1 [==============================] - 0s 53ms/step - loss: 0.2733 - tp: 0.0000e+00 - fp: 1.0000 - tn: 310.0000 - fn: 29.0000 - accuracy: 0.9118 - precision: 0.0000e+00 - recall: 0.0000e+00 - auc: 0.7216 - val_loss: 0.1857 - val_tp: 0.0000e+00 - val_fp: 0.0000e+00 - val_tn: 82.0000 - val_fn: 3.0000 - val_accuracy: 0.9647 - val_precision: 0.0000e+00 - val_recall: 0.0000e+00 - val_auc: 0.4411\n",
            "Epoch 57/100\n",
            "1/1 [==============================] - 0s 58ms/step - loss: 0.2713 - tp: 0.0000e+00 - fp: 1.0000 - tn: 310.0000 - fn: 29.0000 - accuracy: 0.9118 - precision: 0.0000e+00 - recall: 0.0000e+00 - auc: 0.6890 - val_loss: 0.1857 - val_tp: 0.0000e+00 - val_fp: 0.0000e+00 - val_tn: 82.0000 - val_fn: 3.0000 - val_accuracy: 0.9647 - val_precision: 0.0000e+00 - val_recall: 0.0000e+00 - val_auc: 0.4411\n",
            "Epoch 58/100\n",
            "1/1 [==============================] - 0s 52ms/step - loss: 0.2819 - tp: 0.0000e+00 - fp: 1.0000 - tn: 310.0000 - fn: 29.0000 - accuracy: 0.9118 - precision: 0.0000e+00 - recall: 0.0000e+00 - auc: 0.6751 - val_loss: 0.1857 - val_tp: 0.0000e+00 - val_fp: 0.0000e+00 - val_tn: 82.0000 - val_fn: 3.0000 - val_accuracy: 0.9647 - val_precision: 0.0000e+00 - val_recall: 0.0000e+00 - val_auc: 0.4431\n",
            "Epoch 59/100\n",
            "1/1 [==============================] - 0s 49ms/step - loss: 0.2709 - tp: 1.0000 - fp: 2.0000 - tn: 309.0000 - fn: 28.0000 - accuracy: 0.9118 - precision: 0.3333 - recall: 0.0345 - auc: 0.6956 - val_loss: 0.1856 - val_tp: 0.0000e+00 - val_fp: 0.0000e+00 - val_tn: 82.0000 - val_fn: 3.0000 - val_accuracy: 0.9647 - val_precision: 0.0000e+00 - val_recall: 0.0000e+00 - val_auc: 0.4431\n",
            "Epoch 60/100\n",
            "1/1 [==============================] - 0s 52ms/step - loss: 0.2824 - tp: 0.0000e+00 - fp: 0.0000e+00 - tn: 311.0000 - fn: 29.0000 - accuracy: 0.9147 - precision: 0.0000e+00 - recall: 0.0000e+00 - auc: 0.6410 - val_loss: 0.1856 - val_tp: 0.0000e+00 - val_fp: 0.0000e+00 - val_tn: 82.0000 - val_fn: 3.0000 - val_accuracy: 0.9647 - val_precision: 0.0000e+00 - val_recall: 0.0000e+00 - val_auc: 0.4431\n",
            "Epoch 61/100\n",
            "1/1 [==============================] - 0s 51ms/step - loss: 0.2747 - tp: 0.0000e+00 - fp: 2.0000 - tn: 309.0000 - fn: 29.0000 - accuracy: 0.9088 - precision: 0.0000e+00 - recall: 0.0000e+00 - auc: 0.6863 - val_loss: 0.1856 - val_tp: 0.0000e+00 - val_fp: 0.0000e+00 - val_tn: 82.0000 - val_fn: 3.0000 - val_accuracy: 0.9647 - val_precision: 0.0000e+00 - val_recall: 0.0000e+00 - val_auc: 0.4431\n",
            "Epoch 62/100\n",
            "1/1 [==============================] - 0s 61ms/step - loss: 0.2743 - tp: 0.0000e+00 - fp: 1.0000 - tn: 310.0000 - fn: 29.0000 - accuracy: 0.9118 - precision: 0.0000e+00 - recall: 0.0000e+00 - auc: 0.7016 - val_loss: 0.1856 - val_tp: 0.0000e+00 - val_fp: 0.0000e+00 - val_tn: 82.0000 - val_fn: 3.0000 - val_accuracy: 0.9647 - val_precision: 0.0000e+00 - val_recall: 0.0000e+00 - val_auc: 0.4390\n",
            "Epoch 63/100\n",
            "1/1 [==============================] - 0s 57ms/step - loss: 0.2837 - tp: 1.0000 - fp: 1.0000 - tn: 310.0000 - fn: 28.0000 - accuracy: 0.9147 - precision: 0.5000 - recall: 0.0345 - auc: 0.6475 - val_loss: 0.1856 - val_tp: 0.0000e+00 - val_fp: 0.0000e+00 - val_tn: 82.0000 - val_fn: 3.0000 - val_accuracy: 0.9647 - val_precision: 0.0000e+00 - val_recall: 0.0000e+00 - val_auc: 0.4390\n",
            "Epoch 64/100\n",
            "1/1 [==============================] - 0s 56ms/step - loss: 0.2699 - tp: 1.0000 - fp: 1.0000 - tn: 310.0000 - fn: 28.0000 - accuracy: 0.9147 - precision: 0.5000 - recall: 0.0345 - auc: 0.7184 - val_loss: 0.1855 - val_tp: 0.0000e+00 - val_fp: 0.0000e+00 - val_tn: 82.0000 - val_fn: 3.0000 - val_accuracy: 0.9647 - val_precision: 0.0000e+00 - val_recall: 0.0000e+00 - val_auc: 0.4390\n",
            "Epoch 65/100\n",
            "1/1 [==============================] - 0s 50ms/step - loss: 0.2648 - tp: 0.0000e+00 - fp: 0.0000e+00 - tn: 311.0000 - fn: 29.0000 - accuracy: 0.9147 - precision: 0.0000e+00 - recall: 0.0000e+00 - auc: 0.7281 - val_loss: 0.1855 - val_tp: 0.0000e+00 - val_fp: 0.0000e+00 - val_tn: 82.0000 - val_fn: 3.0000 - val_accuracy: 0.9647 - val_precision: 0.0000e+00 - val_recall: 0.0000e+00 - val_auc: 0.4390\n",
            "Epoch 66/100\n",
            "1/1 [==============================] - 0s 51ms/step - loss: 0.2753 - tp: 0.0000e+00 - fp: 1.0000 - tn: 310.0000 - fn: 29.0000 - accuracy: 0.9118 - precision: 0.0000e+00 - recall: 0.0000e+00 - auc: 0.6947 - val_loss: 0.1855 - val_tp: 0.0000e+00 - val_fp: 0.0000e+00 - val_tn: 82.0000 - val_fn: 3.0000 - val_accuracy: 0.9647 - val_precision: 0.0000e+00 - val_recall: 0.0000e+00 - val_auc: 0.4370\n",
            "Epoch 67/100\n",
            "1/1 [==============================] - 0s 48ms/step - loss: 0.2751 - tp: 3.0000 - fp: 2.0000 - tn: 309.0000 - fn: 26.0000 - accuracy: 0.9176 - precision: 0.6000 - recall: 0.1034 - auc: 0.6600 - val_loss: 0.1854 - val_tp: 0.0000e+00 - val_fp: 0.0000e+00 - val_tn: 82.0000 - val_fn: 3.0000 - val_accuracy: 0.9647 - val_precision: 0.0000e+00 - val_recall: 0.0000e+00 - val_auc: 0.4451\n",
            "Epoch 68/100\n",
            "1/1 [==============================] - 0s 49ms/step - loss: 0.2763 - tp: 1.0000 - fp: 1.0000 - tn: 310.0000 - fn: 28.0000 - accuracy: 0.9147 - precision: 0.5000 - recall: 0.0345 - auc: 0.6659 - val_loss: 0.1853 - val_tp: 0.0000e+00 - val_fp: 0.0000e+00 - val_tn: 82.0000 - val_fn: 3.0000 - val_accuracy: 0.9647 - val_precision: 0.0000e+00 - val_recall: 0.0000e+00 - val_auc: 0.4472\n",
            "Epoch 69/100\n",
            "1/1 [==============================] - 0s 61ms/step - loss: 0.2647 - tp: 1.0000 - fp: 0.0000e+00 - tn: 311.0000 - fn: 28.0000 - accuracy: 0.9176 - precision: 1.0000 - recall: 0.0345 - auc: 0.7229 - val_loss: 0.1852 - val_tp: 0.0000e+00 - val_fp: 0.0000e+00 - val_tn: 82.0000 - val_fn: 3.0000 - val_accuracy: 0.9647 - val_precision: 0.0000e+00 - val_recall: 0.0000e+00 - val_auc: 0.4512\n",
            "Epoch 70/100\n",
            "1/1 [==============================] - 0s 60ms/step - loss: 0.2789 - tp: 0.0000e+00 - fp: 3.0000 - tn: 308.0000 - fn: 29.0000 - accuracy: 0.9059 - precision: 0.0000e+00 - recall: 0.0000e+00 - auc: 0.7035 - val_loss: 0.1851 - val_tp: 0.0000e+00 - val_fp: 0.0000e+00 - val_tn: 82.0000 - val_fn: 3.0000 - val_accuracy: 0.9647 - val_precision: 0.0000e+00 - val_recall: 0.0000e+00 - val_auc: 0.4533\n",
            "Epoch 71/100\n",
            "1/1 [==============================] - 0s 58ms/step - loss: 0.2722 - tp: 1.0000 - fp: 2.0000 - tn: 309.0000 - fn: 28.0000 - accuracy: 0.9118 - precision: 0.3333 - recall: 0.0345 - auc: 0.7036 - val_loss: 0.1850 - val_tp: 0.0000e+00 - val_fp: 0.0000e+00 - val_tn: 82.0000 - val_fn: 3.0000 - val_accuracy: 0.9647 - val_precision: 0.0000e+00 - val_recall: 0.0000e+00 - val_auc: 0.4573\n",
            "Epoch 72/100\n",
            "1/1 [==============================] - 0s 51ms/step - loss: 0.2654 - tp: 0.0000e+00 - fp: 1.0000 - tn: 310.0000 - fn: 29.0000 - accuracy: 0.9118 - precision: 0.0000e+00 - recall: 0.0000e+00 - auc: 0.7703 - val_loss: 0.1849 - val_tp: 0.0000e+00 - val_fp: 0.0000e+00 - val_tn: 82.0000 - val_fn: 3.0000 - val_accuracy: 0.9647 - val_precision: 0.0000e+00 - val_recall: 0.0000e+00 - val_auc: 0.4573\n",
            "Epoch 73/100\n",
            "1/1 [==============================] - 0s 61ms/step - loss: 0.2618 - tp: 1.0000 - fp: 1.0000 - tn: 310.0000 - fn: 28.0000 - accuracy: 0.9147 - precision: 0.5000 - recall: 0.0345 - auc: 0.7177 - val_loss: 0.1848 - val_tp: 0.0000e+00 - val_fp: 0.0000e+00 - val_tn: 82.0000 - val_fn: 3.0000 - val_accuracy: 0.9647 - val_precision: 0.0000e+00 - val_recall: 0.0000e+00 - val_auc: 0.4614\n",
            "Epoch 74/100\n",
            "1/1 [==============================] - 0s 53ms/step - loss: 0.2617 - tp: 0.0000e+00 - fp: 0.0000e+00 - tn: 311.0000 - fn: 29.0000 - accuracy: 0.9147 - precision: 0.0000e+00 - recall: 0.0000e+00 - auc: 0.7475 - val_loss: 0.1847 - val_tp: 0.0000e+00 - val_fp: 0.0000e+00 - val_tn: 82.0000 - val_fn: 3.0000 - val_accuracy: 0.9647 - val_precision: 0.0000e+00 - val_recall: 0.0000e+00 - val_auc: 0.4614\n",
            "Epoch 75/100\n",
            "1/1 [==============================] - 0s 51ms/step - loss: 0.2567 - tp: 1.0000 - fp: 0.0000e+00 - tn: 311.0000 - fn: 28.0000 - accuracy: 0.9176 - precision: 1.0000 - recall: 0.0345 - auc: 0.7594 - val_loss: 0.1846 - val_tp: 0.0000e+00 - val_fp: 0.0000e+00 - val_tn: 82.0000 - val_fn: 3.0000 - val_accuracy: 0.9647 - val_precision: 0.0000e+00 - val_recall: 0.0000e+00 - val_auc: 0.4614\n",
            "Epoch 76/100\n",
            "1/1 [==============================] - 0s 46ms/step - loss: 0.2688 - tp: 0.0000e+00 - fp: 0.0000e+00 - tn: 311.0000 - fn: 29.0000 - accuracy: 0.9147 - precision: 0.0000e+00 - recall: 0.0000e+00 - auc: 0.7045 - val_loss: 0.1846 - val_tp: 0.0000e+00 - val_fp: 0.0000e+00 - val_tn: 82.0000 - val_fn: 3.0000 - val_accuracy: 0.9647 - val_precision: 0.0000e+00 - val_recall: 0.0000e+00 - val_auc: 0.4614\n",
            "Epoch 77/100\n",
            "1/1 [==============================] - 0s 57ms/step - loss: 0.2567 - tp: 1.0000 - fp: 0.0000e+00 - tn: 311.0000 - fn: 28.0000 - accuracy: 0.9176 - precision: 1.0000 - recall: 0.0345 - auc: 0.7437 - val_loss: 0.1846 - val_tp: 0.0000e+00 - val_fp: 0.0000e+00 - val_tn: 82.0000 - val_fn: 3.0000 - val_accuracy: 0.9647 - val_precision: 0.0000e+00 - val_recall: 0.0000e+00 - val_auc: 0.4593\n",
            "Epoch 78/100\n",
            "1/1 [==============================] - 0s 59ms/step - loss: 0.2697 - tp: 1.0000 - fp: 0.0000e+00 - tn: 311.0000 - fn: 28.0000 - accuracy: 0.9176 - precision: 1.0000 - recall: 0.0345 - auc: 0.6950 - val_loss: 0.1845 - val_tp: 0.0000e+00 - val_fp: 0.0000e+00 - val_tn: 82.0000 - val_fn: 3.0000 - val_accuracy: 0.9647 - val_precision: 0.0000e+00 - val_recall: 0.0000e+00 - val_auc: 0.4593\n",
            "Epoch 79/100\n",
            "1/1 [==============================] - 0s 60ms/step - loss: 0.2546 - tp: 0.0000e+00 - fp: 0.0000e+00 - tn: 311.0000 - fn: 29.0000 - accuracy: 0.9147 - precision: 0.0000e+00 - recall: 0.0000e+00 - auc: 0.7585 - val_loss: 0.1845 - val_tp: 0.0000e+00 - val_fp: 0.0000e+00 - val_tn: 82.0000 - val_fn: 3.0000 - val_accuracy: 0.9647 - val_precision: 0.0000e+00 - val_recall: 0.0000e+00 - val_auc: 0.4634\n",
            "Epoch 80/100\n",
            "1/1 [==============================] - 0s 60ms/step - loss: 0.2744 - tp: 0.0000e+00 - fp: 0.0000e+00 - tn: 311.0000 - fn: 29.0000 - accuracy: 0.9147 - precision: 0.0000e+00 - recall: 0.0000e+00 - auc: 0.6938 - val_loss: 0.1845 - val_tp: 0.0000e+00 - val_fp: 0.0000e+00 - val_tn: 82.0000 - val_fn: 3.0000 - val_accuracy: 0.9647 - val_precision: 0.0000e+00 - val_recall: 0.0000e+00 - val_auc: 0.4593\n",
            "Epoch 81/100\n",
            "1/1 [==============================] - 0s 60ms/step - loss: 0.2687 - tp: 0.0000e+00 - fp: 1.0000 - tn: 310.0000 - fn: 29.0000 - accuracy: 0.9118 - precision: 0.0000e+00 - recall: 0.0000e+00 - auc: 0.7172 - val_loss: 0.1845 - val_tp: 0.0000e+00 - val_fp: 0.0000e+00 - val_tn: 82.0000 - val_fn: 3.0000 - val_accuracy: 0.9647 - val_precision: 0.0000e+00 - val_recall: 0.0000e+00 - val_auc: 0.4593\n",
            "Epoch 82/100\n",
            "1/1 [==============================] - 0s 61ms/step - loss: 0.2636 - tp: 0.0000e+00 - fp: 0.0000e+00 - tn: 311.0000 - fn: 29.0000 - accuracy: 0.9147 - precision: 0.0000e+00 - recall: 0.0000e+00 - auc: 0.7387 - val_loss: 0.1845 - val_tp: 0.0000e+00 - val_fp: 0.0000e+00 - val_tn: 82.0000 - val_fn: 3.0000 - val_accuracy: 0.9647 - val_precision: 0.0000e+00 - val_recall: 0.0000e+00 - val_auc: 0.4573\n",
            "Epoch 83/100\n",
            "1/1 [==============================] - 0s 332ms/step - loss: 0.2464 - tp: 1.0000 - fp: 0.0000e+00 - tn: 311.0000 - fn: 28.0000 - accuracy: 0.9176 - precision: 1.0000 - recall: 0.0345 - auc: 0.7862 - val_loss: 0.1846 - val_tp: 0.0000e+00 - val_fp: 0.0000e+00 - val_tn: 82.0000 - val_fn: 3.0000 - val_accuracy: 0.9647 - val_precision: 0.0000e+00 - val_recall: 0.0000e+00 - val_auc: 0.4573\n",
            "Epoch 84/100\n",
            "1/1 [==============================] - 0s 51ms/step - loss: 0.2826 - tp: 1.0000 - fp: 1.0000 - tn: 310.0000 - fn: 28.0000 - accuracy: 0.9147 - precision: 0.5000 - recall: 0.0345 - auc: 0.6571 - val_loss: 0.1846 - val_tp: 0.0000e+00 - val_fp: 0.0000e+00 - val_tn: 82.0000 - val_fn: 3.0000 - val_accuracy: 0.9647 - val_precision: 0.0000e+00 - val_recall: 0.0000e+00 - val_auc: 0.4573\n",
            "Epoch 85/100\n",
            "1/1 [==============================] - 0s 51ms/step - loss: 0.2646 - tp: 0.0000e+00 - fp: 0.0000e+00 - tn: 311.0000 - fn: 29.0000 - accuracy: 0.9147 - precision: 0.0000e+00 - recall: 0.0000e+00 - auc: 0.7307 - val_loss: 0.1846 - val_tp: 0.0000e+00 - val_fp: 0.0000e+00 - val_tn: 82.0000 - val_fn: 3.0000 - val_accuracy: 0.9647 - val_precision: 0.0000e+00 - val_recall: 0.0000e+00 - val_auc: 0.4593\n",
            "Epoch 86/100\n",
            "1/1 [==============================] - 0s 55ms/step - loss: 0.2460 - tp: 0.0000e+00 - fp: 1.0000 - tn: 310.0000 - fn: 29.0000 - accuracy: 0.9118 - precision: 0.0000e+00 - recall: 0.0000e+00 - auc: 0.7975 - val_loss: 0.1847 - val_tp: 0.0000e+00 - val_fp: 0.0000e+00 - val_tn: 82.0000 - val_fn: 3.0000 - val_accuracy: 0.9647 - val_precision: 0.0000e+00 - val_recall: 0.0000e+00 - val_auc: 0.4593\n",
            "Epoch 87/100\n",
            "1/1 [==============================] - 0s 51ms/step - loss: 0.2649 - tp: 1.0000 - fp: 1.0000 - tn: 310.0000 - fn: 28.0000 - accuracy: 0.9147 - precision: 0.5000 - recall: 0.0345 - auc: 0.7482 - val_loss: 0.1847 - val_tp: 0.0000e+00 - val_fp: 0.0000e+00 - val_tn: 82.0000 - val_fn: 3.0000 - val_accuracy: 0.9647 - val_precision: 0.0000e+00 - val_recall: 0.0000e+00 - val_auc: 0.4593\n",
            "Epoch 88/100\n",
            "1/1 [==============================] - 0s 52ms/step - loss: 0.2590 - tp: 1.0000 - fp: 1.0000 - tn: 310.0000 - fn: 28.0000 - accuracy: 0.9147 - precision: 0.5000 - recall: 0.0345 - auc: 0.7331 - val_loss: 0.1848 - val_tp: 0.0000e+00 - val_fp: 0.0000e+00 - val_tn: 82.0000 - val_fn: 3.0000 - val_accuracy: 0.9647 - val_precision: 0.0000e+00 - val_recall: 0.0000e+00 - val_auc: 0.4593\n",
            "Epoch 89/100\n",
            "1/1 [==============================] - 0s 48ms/step - loss: 0.2532 - tp: 0.0000e+00 - fp: 0.0000e+00 - tn: 311.0000 - fn: 29.0000 - accuracy: 0.9147 - precision: 0.0000e+00 - recall: 0.0000e+00 - auc: 0.7561 - val_loss: 0.1848 - val_tp: 0.0000e+00 - val_fp: 0.0000e+00 - val_tn: 82.0000 - val_fn: 3.0000 - val_accuracy: 0.9647 - val_precision: 0.0000e+00 - val_recall: 0.0000e+00 - val_auc: 0.4593\n",
            "Restoring model weights from the end of the best epoch.\n",
            "Epoch 00089: early stopping\n"
          ],
          "name": "stdout"
        }
      ]
    },
    {
      "cell_type": "code",
      "metadata": {
        "id": "6Uy2fp2Go7GA"
      },
      "source": [
        "def plot_metrics(history):\r\n",
        "  metrics = ['loss', 'auc', 'precision', 'recall']\r\n",
        "  for n, metric in enumerate(metrics):\r\n",
        "    name = metric.replace(\"_\",\" \").capitalize()\r\n",
        "    plt.subplot(2,2,n+1)\r\n",
        "    plt.plot(history.epoch, history.history[metric], color=colors[0], label='Train')\r\n",
        "    plt.plot(history.epoch, history.history['val_'+metric],\r\n",
        "             color=colors[0], linestyle=\"--\", label='Val')\r\n",
        "    plt.xlabel('Epoch')\r\n",
        "    plt.ylabel(name)\r\n",
        "    if metric == 'loss':\r\n",
        "      plt.ylim([0, plt.ylim()[1]])\r\n",
        "    elif metric == 'auc':\r\n",
        "      plt.ylim([0.8,1])\r\n",
        "    else:\r\n",
        "      plt.ylim([0,1])\r\n",
        "\r\n",
        "    plt.legend()"
      ],
      "execution_count": 595,
      "outputs": []
    },
    {
      "cell_type": "code",
      "metadata": {
        "colab": {
          "base_uri": "https://localhost:8080/",
          "height": 609
        },
        "id": "k-uLNujQpCfq",
        "outputId": "8cc4a371-c9c2-4ef2-8773-70ae9b190ba9"
      },
      "source": [
        "plot_metrics(baseline_history)"
      ],
      "execution_count": 596,
      "outputs": [
        {
          "output_type": "display_data",
          "data": {
            "image/png": "[encoded data removed]",
            "text/plain": [
              "<Figure size 864x720 with 4 Axes>"
            ]
          },
          "metadata": {
            "tags": [],
            "needs_background": "light"
          }
        }
      ]
    },
    {
      "cell_type": "code",
      "metadata": {
        "colab": {
          "base_uri": "https://localhost:8080/"
        },
        "id": "y_cCO6-cpEfU",
        "outputId": "e533a7f5-2e81-4991-cf61-87ad6eaf5dc8"
      },
      "source": [
        "train_predictions_baseline = model.predict(train_features, batch_size=BATCH_SIZE)\r\n",
        "test_predictions_baseline = model.predict(test_features, batch_size=BATCH_SIZE)"
      ],
      "execution_count": 597,
      "outputs": [
        {
          "output_type": "stream",
          "text": [
            "WARNING:tensorflow:7 out of the last 11 calls to <function Model.make_predict_function.<locals>.predict_function at 0x7f8ddb84cd08> triggered tf.function retracing. Tracing is expensive and the excessive number of tracings could be due to (1) creating @tf.function repeatedly in a loop, (2) passing tensors with different shapes, (3) passing Python objects instead of tensors. For (1), please define your @tf.function outside of the loop. For (2), @tf.function has experimental_relax_shapes=True option that relaxes argument shapes that can avoid unnecessary retracing. For (3), please refer to https://www.tensorflow.org/guide/function#controlling_retracing and https://www.tensorflow.org/api_docs/python/tf/function for  more details.\n"
          ],
          "name": "stdout"
        }
      ]
    },
    {
      "cell_type": "code",
      "metadata": {
        "id": "1fI_CTPLpK8U"
      },
      "source": [
        "def plot_cm(labels, predictions, p=0.5):\r\n",
        "  cm = confusion_matrix(labels, predictions > p)\r\n",
        "  plt.figure(figsize=(5,5))\r\n",
        "  sns.heatmap(cm, annot=True, fmt=\"d\")\r\n",
        "  plt.title('Confusion matrix @{:.2f}'.format(p))\r\n",
        "  plt.ylabel('Actual label')\r\n",
        "  plt.xlabel('Predicted label')\r\n",
        "\r\n",
        "  print('Legitimate Transactions Detected (True Negatives): ', cm[0][0])\r\n",
        "  print('Legitimate Transactions Incorrectly Detected (False Positives): ', cm[0][1])\r\n",
        "  print('Fraudulent Transactions Missed (False Negatives): ', cm[1][0])\r\n",
        "  print('Fraudulent Transactions Detected (True Positives): ', cm[1][1])\r\n",
        "  print('Total Fraudulent Transactions: ', np.sum(cm[1]))"
      ],
      "execution_count": 598,
      "outputs": []
    },
    {
      "cell_type": "code",
      "metadata": {
        "colab": {
          "base_uri": "https://localhost:8080/",
          "height": 602
        },
        "id": "JaSr-pOepNVH",
        "outputId": "b4bf075a-f68c-4064-d9df-a68964a2e926"
      },
      "source": [
        "baseline_results = model.evaluate(test_features, test_labels,\r\n",
        "                                  batch_size=BATCH_SIZE, verbose=0)\r\n",
        "for name, value in zip(model.metrics_names, baseline_results):\r\n",
        "  print(name, ': ', value)\r\n",
        "print()\r\n",
        "\r\n",
        "plot_cm(test_labels, test_predictions_baseline)"
      ],
      "execution_count": 599,
      "outputs": [
        {
          "output_type": "stream",
          "text": [
            "loss :  0.3349287211894989\n",
            "tp :  0.0\n",
            "fp :  0.0\n",
            "tn :  95.0\n",
            "fn :  12.0\n",
            "accuracy :  0.8878504633903503\n",
            "precision :  0.0\n",
            "recall :  0.0\n",
            "auc :  0.667543888092041\n",
            "\n",
            "Legitimate Transactions Detected (True Negatives):  95\n",
            "Legitimate Transactions Incorrectly Detected (False Positives):  0\n",
            "Fraudulent Transactions Missed (False Negatives):  12\n",
            "Fraudulent Transactions Detected (True Positives):  0\n",
            "Total Fraudulent Transactions:  12\n"
          ],
          "name": "stdout"
        },
        {
          "output_type": "display_data",
          "data": {
            "image/png": "[encoded data removed]",
            "text/plain": [
              "<Figure size 360x360 with 2 Axes>"
            ]
          },
          "metadata": {
            "tags": [],
            "needs_background": "light"
          }
        }
      ]
    },
    {
      "cell_type": "code",
      "metadata": {
        "id": "lbr1ChYtpQWZ"
      },
      "source": [
        "def plot_roc(name, labels, predictions, **kwargs):\r\n",
        "  fp, tp, _ = sklearn.metrics.roc_curve(labels, predictions)\r\n",
        "\r\n",
        "  plt.plot(100*fp, 100*tp, label=name, linewidth=2, **kwargs)\r\n",
        "  plt.xlabel('False positives [%]')\r\n",
        "  plt.ylabel('True positives [%]')\r\n",
        "  plt.xlim([-0.5,20])\r\n",
        "  plt.ylim([80,100.5])\r\n",
        "  plt.grid(True)\r\n",
        "  ax = plt.gca()\r\n",
        "  ax.set_aspect('equal')"
      ],
      "execution_count": 600,
      "outputs": []
    },
    {
      "cell_type": "code",
      "metadata": {
        "colab": {
          "base_uri": "https://localhost:8080/",
          "height": 623
        },
        "id": "1yeKe-OupWl-",
        "outputId": "1db19810-d882-4c69-f642-fecc3ad6cd6b"
      },
      "source": [
        "plot_roc(\"Train Baseline\", train_labels, train_predictions_baseline, color=colors[0])\r\n",
        "plot_roc(\"Test Baseline\", test_labels, test_predictions_baseline, color=colors[0], linestyle='--')\r\n",
        "plt.legend(loc='lower right')"
      ],
      "execution_count": 601,
      "outputs": [
        {
          "output_type": "execute_result",
          "data": {
            "text/plain": [
              "<matplotlib.legend.Legend at 0x7f8deeb7ccf8>"
            ]
          },
          "metadata": {
            "tags": []
          },
          "execution_count": 601
        },
        {
          "output_type": "display_data",
          "data": {
            "image/png": "[encoded data removed]",
            "text/plain": [
              "<Figure size 864x720 with 1 Axes>"
            ]
          },
          "metadata": {
            "tags": [],
            "needs_background": "light"
          }
        }
      ]
    },
    {
      "cell_type": "code",
      "metadata": {
        "colab": {
          "base_uri": "https://localhost:8080/"
        },
        "id": "Tc4-VHPapYhA",
        "outputId": "27b2f1cb-4d59-4d06-9dcf-10dacaf3ce42"
      },
      "source": [
        "# Scaling by total/2 helps keep the loss to a similar magnitude.\r\n",
        "# The sum of the weights of all examples stays the same.\r\n",
        "weight_for_0 = (1 / neg)*(total)/2.0 \r\n",
        "weight_for_1 = (1 / pos)*(total)/2.0\r\n",
        "\r\n",
        "class_weight = {0: weight_for_0, 1: weight_for_1}\r\n",
        "\r\n",
        "print('Weight for class 0: {:.2f}'.format(weight_for_0))\r\n",
        "print('Weight for class 1: {:.2f}'.format(weight_for_1))"
      ],
      "execution_count": 602,
      "outputs": [
        {
          "output_type": "stream",
          "text": [
            "Weight for class 0: 0.55\n",
            "Weight for class 1: 6.05\n"
          ],
          "name": "stdout"
        }
      ]
    },
    {
      "cell_type": "code",
      "metadata": {
        "colab": {
          "base_uri": "https://localhost:8080/"
        },
        "id": "-jzJeNAIpfQt",
        "outputId": "11659b83-7cf8-4b13-9e9a-f1bf97e325c7"
      },
      "source": [
        "weighted_model = make_model()\r\n",
        "weighted_model.load_weights(initial_weights)\r\n",
        "\r\n",
        "weighted_history = weighted_model.fit(\r\n",
        "    train_features,\r\n",
        "    train_labels,\r\n",
        "    batch_size=BATCH_SIZE,\r\n",
        "    epochs=EPOCHS,\r\n",
        "    callbacks=[early_stopping],\r\n",
        "    validation_data=(val_features, val_labels),\r\n",
        "    # The class weights go here\r\n",
        "    class_weight=class_weight) "
      ],
      "execution_count": 603,
      "outputs": [
        {
          "output_type": "stream",
          "text": [
            "Epoch 1/100\n",
            "1/1 [==============================] - 3s 3s/step - loss: 1.2910 - tp: 1.0000 - fp: 4.0000 - tn: 402.0000 - fn: 40.0000 - accuracy: 0.9016 - precision: 0.2000 - recall: 0.0244 - auc: 0.6273 - val_loss: 0.2005 - val_tp: 0.0000e+00 - val_fp: 0.0000e+00 - val_tn: 82.0000 - val_fn: 3.0000 - val_accuracy: 0.9647 - val_precision: 0.0000e+00 - val_recall: 0.0000e+00 - val_auc: 0.3618\n",
            "Epoch 2/100\n",
            "1/1 [==============================] - 0s 50ms/step - loss: 1.3304 - tp: 1.0000 - fp: 2.0000 - tn: 309.0000 - fn: 28.0000 - accuracy: 0.9118 - precision: 0.3333 - recall: 0.0345 - auc: 0.5328 - val_loss: 0.2015 - val_tp: 0.0000e+00 - val_fp: 0.0000e+00 - val_tn: 82.0000 - val_fn: 3.0000 - val_accuracy: 0.9647 - val_precision: 0.0000e+00 - val_recall: 0.0000e+00 - val_auc: 0.3598\n",
            "Epoch 3/100\n",
            "1/1 [==============================] - 0s 49ms/step - loss: 1.2859 - tp: 1.0000 - fp: 5.0000 - tn: 306.0000 - fn: 28.0000 - accuracy: 0.9029 - precision: 0.1667 - recall: 0.0345 - auc: 0.5687 - val_loss: 0.2026 - val_tp: 0.0000e+00 - val_fp: 0.0000e+00 - val_tn: 82.0000 - val_fn: 3.0000 - val_accuracy: 0.9647 - val_precision: 0.0000e+00 - val_recall: 0.0000e+00 - val_auc: 0.3740\n",
            "Epoch 4/100\n",
            "1/1 [==============================] - 0s 46ms/step - loss: 1.3557 - tp: 1.0000 - fp: 3.0000 - tn: 308.0000 - fn: 28.0000 - accuracy: 0.9088 - precision: 0.2500 - recall: 0.0345 - auc: 0.5265 - val_loss: 0.2037 - val_tp: 0.0000e+00 - val_fp: 0.0000e+00 - val_tn: 82.0000 - val_fn: 3.0000 - val_accuracy: 0.9647 - val_precision: 0.0000e+00 - val_recall: 0.0000e+00 - val_auc: 0.3780\n",
            "Epoch 5/100\n",
            "1/1 [==============================] - 0s 46ms/step - loss: 1.2738 - tp: 0.0000e+00 - fp: 5.0000 - tn: 306.0000 - fn: 29.0000 - accuracy: 0.9000 - precision: 0.0000e+00 - recall: 0.0000e+00 - auc: 0.5838 - val_loss: 0.2047 - val_tp: 0.0000e+00 - val_fp: 0.0000e+00 - val_tn: 82.0000 - val_fn: 3.0000 - val_accuracy: 0.9647 - val_precision: 0.0000e+00 - val_recall: 0.0000e+00 - val_auc: 0.3801\n",
            "Epoch 6/100\n",
            "1/1 [==============================] - 0s 50ms/step - loss: 1.3792 - tp: 0.0000e+00 - fp: 4.0000 - tn: 307.0000 - fn: 29.0000 - accuracy: 0.9029 - precision: 0.0000e+00 - recall: 0.0000e+00 - auc: 0.5297 - val_loss: 0.2058 - val_tp: 0.0000e+00 - val_fp: 0.0000e+00 - val_tn: 82.0000 - val_fn: 3.0000 - val_accuracy: 0.9647 - val_precision: 0.0000e+00 - val_recall: 0.0000e+00 - val_auc: 0.3780\n",
            "Epoch 7/100\n",
            "1/1 [==============================] - 0s 49ms/step - loss: 1.2611 - tp: 1.0000 - fp: 4.0000 - tn: 307.0000 - fn: 28.0000 - accuracy: 0.9059 - precision: 0.2000 - recall: 0.0345 - auc: 0.5631 - val_loss: 0.2070 - val_tp: 0.0000e+00 - val_fp: 1.0000 - val_tn: 81.0000 - val_fn: 3.0000 - val_accuracy: 0.9529 - val_precision: 0.0000e+00 - val_recall: 0.0000e+00 - val_auc: 0.3740\n",
            "Epoch 8/100\n",
            "1/1 [==============================] - 0s 48ms/step - loss: 1.2799 - tp: 0.0000e+00 - fp: 7.0000 - tn: 304.0000 - fn: 29.0000 - accuracy: 0.8941 - precision: 0.0000e+00 - recall: 0.0000e+00 - auc: 0.5839 - val_loss: 0.2081 - val_tp: 0.0000e+00 - val_fp: 1.0000 - val_tn: 81.0000 - val_fn: 3.0000 - val_accuracy: 0.9529 - val_precision: 0.0000e+00 - val_recall: 0.0000e+00 - val_auc: 0.3659\n",
            "Epoch 9/100\n",
            "1/1 [==============================] - 0s 50ms/step - loss: 1.1776 - tp: 2.0000 - fp: 4.0000 - tn: 307.0000 - fn: 27.0000 - accuracy: 0.9088 - precision: 0.3333 - recall: 0.0690 - auc: 0.6393 - val_loss: 0.2093 - val_tp: 0.0000e+00 - val_fp: 1.0000 - val_tn: 81.0000 - val_fn: 3.0000 - val_accuracy: 0.9529 - val_precision: 0.0000e+00 - val_recall: 0.0000e+00 - val_auc: 0.3659\n",
            "Epoch 10/100\n",
            "1/1 [==============================] - 0s 51ms/step - loss: 1.2609 - tp: 0.0000e+00 - fp: 1.0000 - tn: 310.0000 - fn: 29.0000 - accuracy: 0.9118 - precision: 0.0000e+00 - recall: 0.0000e+00 - auc: 0.5817 - val_loss: 0.2105 - val_tp: 0.0000e+00 - val_fp: 1.0000 - val_tn: 81.0000 - val_fn: 3.0000 - val_accuracy: 0.9529 - val_precision: 0.0000e+00 - val_recall: 0.0000e+00 - val_auc: 0.3841\n",
            "Epoch 11/100\n",
            "1/1 [==============================] - 0s 51ms/step - loss: 1.2979 - tp: 1.0000 - fp: 8.0000 - tn: 303.0000 - fn: 28.0000 - accuracy: 0.8941 - precision: 0.1111 - recall: 0.0345 - auc: 0.5466 - val_loss: 0.2117 - val_tp: 0.0000e+00 - val_fp: 1.0000 - val_tn: 81.0000 - val_fn: 3.0000 - val_accuracy: 0.9529 - val_precision: 0.0000e+00 - val_recall: 0.0000e+00 - val_auc: 0.3780\n",
            "Epoch 12/100\n",
            "1/1 [==============================] - 0s 45ms/step - loss: 1.1870 - tp: 0.0000e+00 - fp: 3.0000 - tn: 308.0000 - fn: 29.0000 - accuracy: 0.9059 - precision: 0.0000e+00 - recall: 0.0000e+00 - auc: 0.6351 - val_loss: 0.2129 - val_tp: 0.0000e+00 - val_fp: 1.0000 - val_tn: 81.0000 - val_fn: 3.0000 - val_accuracy: 0.9529 - val_precision: 0.0000e+00 - val_recall: 0.0000e+00 - val_auc: 0.3720\n",
            "Epoch 13/100\n",
            "1/1 [==============================] - 0s 50ms/step - loss: 1.2240 - tp: 1.0000 - fp: 3.0000 - tn: 308.0000 - fn: 28.0000 - accuracy: 0.9088 - precision: 0.2500 - recall: 0.0345 - auc: 0.5842 - val_loss: 0.2142 - val_tp: 0.0000e+00 - val_fp: 1.0000 - val_tn: 81.0000 - val_fn: 3.0000 - val_accuracy: 0.9529 - val_precision: 0.0000e+00 - val_recall: 0.0000e+00 - val_auc: 0.3659\n",
            "Epoch 14/100\n",
            "1/1 [==============================] - 0s 47ms/step - loss: 1.1495 - tp: 0.0000e+00 - fp: 5.0000 - tn: 306.0000 - fn: 29.0000 - accuracy: 0.9000 - precision: 0.0000e+00 - recall: 0.0000e+00 - auc: 0.6445 - val_loss: 0.2155 - val_tp: 0.0000e+00 - val_fp: 1.0000 - val_tn: 81.0000 - val_fn: 3.0000 - val_accuracy: 0.9529 - val_precision: 0.0000e+00 - val_recall: 0.0000e+00 - val_auc: 0.3720\n",
            "Epoch 15/100\n",
            "1/1 [==============================] - 0s 49ms/step - loss: 1.1825 - tp: 2.0000 - fp: 5.0000 - tn: 306.0000 - fn: 27.0000 - accuracy: 0.9059 - precision: 0.2857 - recall: 0.0690 - auc: 0.6043 - val_loss: 0.2168 - val_tp: 0.0000e+00 - val_fp: 1.0000 - val_tn: 81.0000 - val_fn: 3.0000 - val_accuracy: 0.9529 - val_precision: 0.0000e+00 - val_recall: 0.0000e+00 - val_auc: 0.3699\n",
            "Epoch 16/100\n",
            "1/1 [==============================] - 0s 57ms/step - loss: 1.2494 - tp: 1.0000 - fp: 8.0000 - tn: 303.0000 - fn: 28.0000 - accuracy: 0.8941 - precision: 0.1111 - recall: 0.0345 - auc: 0.5692 - val_loss: 0.2181 - val_tp: 0.0000e+00 - val_fp: 1.0000 - val_tn: 81.0000 - val_fn: 3.0000 - val_accuracy: 0.9529 - val_precision: 0.0000e+00 - val_recall: 0.0000e+00 - val_auc: 0.3821\n",
            "Epoch 17/100\n",
            "1/1 [==============================] - 0s 47ms/step - loss: 1.1548 - tp: 1.0000 - fp: 9.0000 - tn: 302.0000 - fn: 28.0000 - accuracy: 0.8912 - precision: 0.1000 - recall: 0.0345 - auc: 0.6221 - val_loss: 0.2195 - val_tp: 0.0000e+00 - val_fp: 1.0000 - val_tn: 81.0000 - val_fn: 3.0000 - val_accuracy: 0.9529 - val_precision: 0.0000e+00 - val_recall: 0.0000e+00 - val_auc: 0.3801\n",
            "Epoch 18/100\n",
            "1/1 [==============================] - 0s 46ms/step - loss: 1.1680 - tp: 1.0000 - fp: 6.0000 - tn: 305.0000 - fn: 28.0000 - accuracy: 0.9000 - precision: 0.1429 - recall: 0.0345 - auc: 0.6349 - val_loss: 0.2208 - val_tp: 0.0000e+00 - val_fp: 2.0000 - val_tn: 80.0000 - val_fn: 3.0000 - val_accuracy: 0.9412 - val_precision: 0.0000e+00 - val_recall: 0.0000e+00 - val_auc: 0.3780\n",
            "Epoch 19/100\n",
            "1/1 [==============================] - 0s 479ms/step - loss: 1.2263 - tp: 0.0000e+00 - fp: 8.0000 - tn: 303.0000 - fn: 29.0000 - accuracy: 0.8912 - precision: 0.0000e+00 - recall: 0.0000e+00 - auc: 0.5844 - val_loss: 0.2222 - val_tp: 0.0000e+00 - val_fp: 2.0000 - val_tn: 80.0000 - val_fn: 3.0000 - val_accuracy: 0.9412 - val_precision: 0.0000e+00 - val_recall: 0.0000e+00 - val_auc: 0.3923\n",
            "Epoch 20/100\n",
            "1/1 [==============================] - 0s 53ms/step - loss: 1.2166 - tp: 1.0000 - fp: 9.0000 - tn: 302.0000 - fn: 28.0000 - accuracy: 0.8912 - precision: 0.1000 - recall: 0.0345 - auc: 0.5834 - val_loss: 0.2236 - val_tp: 0.0000e+00 - val_fp: 2.0000 - val_tn: 80.0000 - val_fn: 3.0000 - val_accuracy: 0.9412 - val_precision: 0.0000e+00 - val_recall: 0.0000e+00 - val_auc: 0.3841\n",
            "Epoch 21/100\n",
            "1/1 [==============================] - 0s 51ms/step - loss: 1.1979 - tp: 0.0000e+00 - fp: 6.0000 - tn: 305.0000 - fn: 29.0000 - accuracy: 0.8971 - precision: 0.0000e+00 - recall: 0.0000e+00 - auc: 0.5834 - val_loss: 0.2250 - val_tp: 0.0000e+00 - val_fp: 2.0000 - val_tn: 80.0000 - val_fn: 3.0000 - val_accuracy: 0.9412 - val_precision: 0.0000e+00 - val_recall: 0.0000e+00 - val_auc: 0.3943\n",
            "Epoch 22/100\n",
            "1/1 [==============================] - 0s 50ms/step - loss: 1.2064 - tp: 0.0000e+00 - fp: 11.0000 - tn: 300.0000 - fn: 29.0000 - accuracy: 0.8824 - precision: 0.0000e+00 - recall: 0.0000e+00 - auc: 0.6011 - val_loss: 0.2264 - val_tp: 0.0000e+00 - val_fp: 2.0000 - val_tn: 80.0000 - val_fn: 3.0000 - val_accuracy: 0.9412 - val_precision: 0.0000e+00 - val_recall: 0.0000e+00 - val_auc: 0.3882\n",
            "Epoch 23/100\n",
            "1/1 [==============================] - 0s 48ms/step - loss: 1.1846 - tp: 1.0000 - fp: 4.0000 - tn: 307.0000 - fn: 28.0000 - accuracy: 0.9059 - precision: 0.2000 - recall: 0.0345 - auc: 0.6190 - val_loss: 0.2279 - val_tp: 0.0000e+00 - val_fp: 2.0000 - val_tn: 80.0000 - val_fn: 3.0000 - val_accuracy: 0.9412 - val_precision: 0.0000e+00 - val_recall: 0.0000e+00 - val_auc: 0.3821\n",
            "Epoch 24/100\n",
            "1/1 [==============================] - 0s 50ms/step - loss: 1.1967 - tp: 1.0000 - fp: 7.0000 - tn: 304.0000 - fn: 28.0000 - accuracy: 0.8971 - precision: 0.1250 - recall: 0.0345 - auc: 0.5982 - val_loss: 0.2294 - val_tp: 0.0000e+00 - val_fp: 2.0000 - val_tn: 80.0000 - val_fn: 3.0000 - val_accuracy: 0.9412 - val_precision: 0.0000e+00 - val_recall: 0.0000e+00 - val_auc: 0.3943\n",
            "Epoch 25/100\n",
            "1/1 [==============================] - 0s 51ms/step - loss: 1.1064 - tp: 1.0000 - fp: 9.0000 - tn: 302.0000 - fn: 28.0000 - accuracy: 0.8912 - precision: 0.1000 - recall: 0.0345 - auc: 0.6398 - val_loss: 0.2309 - val_tp: 0.0000e+00 - val_fp: 2.0000 - val_tn: 80.0000 - val_fn: 3.0000 - val_accuracy: 0.9412 - val_precision: 0.0000e+00 - val_recall: 0.0000e+00 - val_auc: 0.3943\n",
            "Epoch 26/100\n",
            "1/1 [==============================] - 0s 54ms/step - loss: 1.0939 - tp: 3.0000 - fp: 11.0000 - tn: 300.0000 - fn: 26.0000 - accuracy: 0.8912 - precision: 0.2143 - recall: 0.1034 - auc: 0.6343 - val_loss: 0.2324 - val_tp: 0.0000e+00 - val_fp: 2.0000 - val_tn: 80.0000 - val_fn: 3.0000 - val_accuracy: 0.9412 - val_precision: 0.0000e+00 - val_recall: 0.0000e+00 - val_auc: 0.3984\n",
            "Epoch 27/100\n",
            "1/1 [==============================] - 0s 47ms/step - loss: 1.1641 - tp: 1.0000 - fp: 5.0000 - tn: 306.0000 - fn: 28.0000 - accuracy: 0.9029 - precision: 0.1667 - recall: 0.0345 - auc: 0.5936 - val_loss: 0.2340 - val_tp: 0.0000e+00 - val_fp: 2.0000 - val_tn: 80.0000 - val_fn: 3.0000 - val_accuracy: 0.9412 - val_precision: 0.0000e+00 - val_recall: 0.0000e+00 - val_auc: 0.3943\n",
            "Epoch 28/100\n",
            "1/1 [==============================] - 0s 47ms/step - loss: 1.0794 - tp: 2.0000 - fp: 14.0000 - tn: 297.0000 - fn: 27.0000 - accuracy: 0.8794 - precision: 0.1250 - recall: 0.0690 - auc: 0.6661 - val_loss: 0.2356 - val_tp: 0.0000e+00 - val_fp: 2.0000 - val_tn: 80.0000 - val_fn: 3.0000 - val_accuracy: 0.9412 - val_precision: 0.0000e+00 - val_recall: 0.0000e+00 - val_auc: 0.3923\n",
            "Epoch 29/100\n",
            "1/1 [==============================] - 0s 54ms/step - loss: 1.1013 - tp: 2.0000 - fp: 9.0000 - tn: 302.0000 - fn: 27.0000 - accuracy: 0.8941 - precision: 0.1818 - recall: 0.0690 - auc: 0.6229 - val_loss: 0.2373 - val_tp: 0.0000e+00 - val_fp: 2.0000 - val_tn: 80.0000 - val_fn: 3.0000 - val_accuracy: 0.9412 - val_precision: 0.0000e+00 - val_recall: 0.0000e+00 - val_auc: 0.4004\n",
            "Epoch 30/100\n",
            "1/1 [==============================] - 0s 52ms/step - loss: 0.9892 - tp: 3.0000 - fp: 8.0000 - tn: 303.0000 - fn: 26.0000 - accuracy: 0.9000 - precision: 0.2727 - recall: 0.1034 - auc: 0.7152 - val_loss: 0.2390 - val_tp: 0.0000e+00 - val_fp: 2.0000 - val_tn: 80.0000 - val_fn: 3.0000 - val_accuracy: 0.9412 - val_precision: 0.0000e+00 - val_recall: 0.0000e+00 - val_auc: 0.3943\n",
            "Epoch 31/100\n",
            "1/1 [==============================] - 0s 51ms/step - loss: 1.0561 - tp: 1.0000 - fp: 10.0000 - tn: 301.0000 - fn: 28.0000 - accuracy: 0.8882 - precision: 0.0909 - recall: 0.0345 - auc: 0.6734 - val_loss: 0.2407 - val_tp: 0.0000e+00 - val_fp: 2.0000 - val_tn: 80.0000 - val_fn: 3.0000 - val_accuracy: 0.9412 - val_precision: 0.0000e+00 - val_recall: 0.0000e+00 - val_auc: 0.4004\n",
            "Epoch 32/100\n",
            "1/1 [==============================] - 0s 49ms/step - loss: 1.1584 - tp: 2.0000 - fp: 11.0000 - tn: 300.0000 - fn: 27.0000 - accuracy: 0.8882 - precision: 0.1538 - recall: 0.0690 - auc: 0.6053 - val_loss: 0.2424 - val_tp: 0.0000e+00 - val_fp: 2.0000 - val_tn: 80.0000 - val_fn: 3.0000 - val_accuracy: 0.9412 - val_precision: 0.0000e+00 - val_recall: 0.0000e+00 - val_auc: 0.4106\n",
            "Epoch 33/100\n",
            "1/1 [==============================] - 0s 48ms/step - loss: 1.0083 - tp: 4.0000 - fp: 10.0000 - tn: 301.0000 - fn: 25.0000 - accuracy: 0.8971 - precision: 0.2857 - recall: 0.1379 - auc: 0.6803 - val_loss: 0.2442 - val_tp: 0.0000e+00 - val_fp: 2.0000 - val_tn: 80.0000 - val_fn: 3.0000 - val_accuracy: 0.9412 - val_precision: 0.0000e+00 - val_recall: 0.0000e+00 - val_auc: 0.4085\n",
            "Epoch 34/100\n",
            "1/1 [==============================] - 0s 60ms/step - loss: 1.0841 - tp: 1.0000 - fp: 10.0000 - tn: 301.0000 - fn: 28.0000 - accuracy: 0.8882 - precision: 0.0909 - recall: 0.0345 - auc: 0.6633 - val_loss: 0.2461 - val_tp: 0.0000e+00 - val_fp: 2.0000 - val_tn: 80.0000 - val_fn: 3.0000 - val_accuracy: 0.9412 - val_precision: 0.0000e+00 - val_recall: 0.0000e+00 - val_auc: 0.4065\n",
            "Epoch 35/100\n",
            "1/1 [==============================] - 0s 52ms/step - loss: 1.0523 - tp: 3.0000 - fp: 8.0000 - tn: 303.0000 - fn: 26.0000 - accuracy: 0.9000 - precision: 0.2727 - recall: 0.1034 - auc: 0.6727 - val_loss: 0.2479 - val_tp: 0.0000e+00 - val_fp: 2.0000 - val_tn: 80.0000 - val_fn: 3.0000 - val_accuracy: 0.9412 - val_precision: 0.0000e+00 - val_recall: 0.0000e+00 - val_auc: 0.4085\n",
            "Epoch 36/100\n",
            "1/1 [==============================] - 0s 50ms/step - loss: 1.1213 - tp: 2.0000 - fp: 11.0000 - tn: 300.0000 - fn: 27.0000 - accuracy: 0.8882 - precision: 0.1538 - recall: 0.0690 - auc: 0.6472 - val_loss: 0.2498 - val_tp: 0.0000e+00 - val_fp: 2.0000 - val_tn: 80.0000 - val_fn: 3.0000 - val_accuracy: 0.9412 - val_precision: 0.0000e+00 - val_recall: 0.0000e+00 - val_auc: 0.4106\n",
            "Epoch 37/100\n",
            "1/1 [==============================] - 0s 48ms/step - loss: 1.0319 - tp: 2.0000 - fp: 16.0000 - tn: 295.0000 - fn: 27.0000 - accuracy: 0.8735 - precision: 0.1111 - recall: 0.0690 - auc: 0.6607 - val_loss: 0.2517 - val_tp: 0.0000e+00 - val_fp: 2.0000 - val_tn: 80.0000 - val_fn: 3.0000 - val_accuracy: 0.9412 - val_precision: 0.0000e+00 - val_recall: 0.0000e+00 - val_auc: 0.4045\n",
            "Epoch 38/100\n",
            "1/1 [==============================] - 0s 50ms/step - loss: 1.0916 - tp: 5.0000 - fp: 10.0000 - tn: 301.0000 - fn: 24.0000 - accuracy: 0.9000 - precision: 0.3333 - recall: 0.1724 - auc: 0.6078 - val_loss: 0.2536 - val_tp: 0.0000e+00 - val_fp: 2.0000 - val_tn: 80.0000 - val_fn: 3.0000 - val_accuracy: 0.9412 - val_precision: 0.0000e+00 - val_recall: 0.0000e+00 - val_auc: 0.4024\n",
            "Epoch 39/100\n",
            "1/1 [==============================] - 0s 55ms/step - loss: 0.9425 - tp: 5.0000 - fp: 14.0000 - tn: 297.0000 - fn: 24.0000 - accuracy: 0.8882 - precision: 0.2632 - recall: 0.1724 - auc: 0.7082 - val_loss: 0.2556 - val_tp: 0.0000e+00 - val_fp: 2.0000 - val_tn: 80.0000 - val_fn: 3.0000 - val_accuracy: 0.9412 - val_precision: 0.0000e+00 - val_recall: 0.0000e+00 - val_auc: 0.4024\n",
            "Epoch 40/100\n",
            "1/1 [==============================] - 0s 48ms/step - loss: 1.0616 - tp: 2.0000 - fp: 13.0000 - tn: 298.0000 - fn: 27.0000 - accuracy: 0.8824 - precision: 0.1333 - recall: 0.0690 - auc: 0.6604 - val_loss: 0.2575 - val_tp: 0.0000e+00 - val_fp: 2.0000 - val_tn: 80.0000 - val_fn: 3.0000 - val_accuracy: 0.9412 - val_precision: 0.0000e+00 - val_recall: 0.0000e+00 - val_auc: 0.4126\n",
            "Epoch 41/100\n",
            "1/1 [==============================] - 0s 51ms/step - loss: 1.0471 - tp: 4.0000 - fp: 18.0000 - tn: 293.0000 - fn: 25.0000 - accuracy: 0.8735 - precision: 0.1818 - recall: 0.1379 - auc: 0.6334 - val_loss: 0.2594 - val_tp: 0.0000e+00 - val_fp: 2.0000 - val_tn: 80.0000 - val_fn: 3.0000 - val_accuracy: 0.9412 - val_precision: 0.0000e+00 - val_recall: 0.0000e+00 - val_auc: 0.4106\n",
            "Epoch 42/100\n",
            "1/1 [==============================] - 0s 52ms/step - loss: 1.0754 - tp: 4.0000 - fp: 18.0000 - tn: 293.0000 - fn: 25.0000 - accuracy: 0.8735 - precision: 0.1818 - recall: 0.1379 - auc: 0.6120 - val_loss: 0.2613 - val_tp: 0.0000e+00 - val_fp: 2.0000 - val_tn: 80.0000 - val_fn: 3.0000 - val_accuracy: 0.9412 - val_precision: 0.0000e+00 - val_recall: 0.0000e+00 - val_auc: 0.4085\n",
            "Epoch 43/100\n",
            "1/1 [==============================] - 0s 58ms/step - loss: 1.0284 - tp: 1.0000 - fp: 14.0000 - tn: 297.0000 - fn: 28.0000 - accuracy: 0.8765 - precision: 0.0667 - recall: 0.0345 - auc: 0.6559 - val_loss: 0.2633 - val_tp: 0.0000e+00 - val_fp: 2.0000 - val_tn: 80.0000 - val_fn: 3.0000 - val_accuracy: 0.9412 - val_precision: 0.0000e+00 - val_recall: 0.0000e+00 - val_auc: 0.4065\n",
            "Epoch 44/100\n",
            "1/1 [==============================] - 0s 52ms/step - loss: 0.9539 - tp: 4.0000 - fp: 16.0000 - tn: 295.0000 - fn: 25.0000 - accuracy: 0.8794 - precision: 0.2000 - recall: 0.1379 - auc: 0.7228 - val_loss: 0.2652 - val_tp: 0.0000e+00 - val_fp: 2.0000 - val_tn: 80.0000 - val_fn: 3.0000 - val_accuracy: 0.9412 - val_precision: 0.0000e+00 - val_recall: 0.0000e+00 - val_auc: 0.4146\n",
            "Epoch 45/100\n",
            "1/1 [==============================] - 0s 50ms/step - loss: 1.0231 - tp: 3.0000 - fp: 16.0000 - tn: 295.0000 - fn: 26.0000 - accuracy: 0.8765 - precision: 0.1579 - recall: 0.1034 - auc: 0.6371 - val_loss: 0.2672 - val_tp: 0.0000e+00 - val_fp: 2.0000 - val_tn: 80.0000 - val_fn: 3.0000 - val_accuracy: 0.9412 - val_precision: 0.0000e+00 - val_recall: 0.0000e+00 - val_auc: 0.4167\n",
            "Epoch 46/100\n",
            "1/1 [==============================] - 0s 52ms/step - loss: 0.9632 - tp: 2.0000 - fp: 14.0000 - tn: 297.0000 - fn: 27.0000 - accuracy: 0.8794 - precision: 0.1250 - recall: 0.0690 - auc: 0.7008 - val_loss: 0.2692 - val_tp: 0.0000e+00 - val_fp: 2.0000 - val_tn: 80.0000 - val_fn: 3.0000 - val_accuracy: 0.9412 - val_precision: 0.0000e+00 - val_recall: 0.0000e+00 - val_auc: 0.4085\n",
            "Epoch 47/100\n",
            "1/1 [==============================] - 0s 51ms/step - loss: 1.0826 - tp: 2.0000 - fp: 18.0000 - tn: 293.0000 - fn: 27.0000 - accuracy: 0.8676 - precision: 0.1000 - recall: 0.0690 - auc: 0.6141 - val_loss: 0.2712 - val_tp: 0.0000e+00 - val_fp: 2.0000 - val_tn: 80.0000 - val_fn: 3.0000 - val_accuracy: 0.9412 - val_precision: 0.0000e+00 - val_recall: 0.0000e+00 - val_auc: 0.4146\n",
            "Epoch 48/100\n",
            "1/1 [==============================] - 0s 50ms/step - loss: 1.0086 - tp: 2.0000 - fp: 20.0000 - tn: 291.0000 - fn: 27.0000 - accuracy: 0.8618 - precision: 0.0909 - recall: 0.0690 - auc: 0.6568 - val_loss: 0.2733 - val_tp: 0.0000e+00 - val_fp: 2.0000 - val_tn: 80.0000 - val_fn: 3.0000 - val_accuracy: 0.9412 - val_precision: 0.0000e+00 - val_recall: 0.0000e+00 - val_auc: 0.4228\n",
            "Epoch 49/100\n",
            "1/1 [==============================] - 0s 49ms/step - loss: 0.9392 - tp: 2.0000 - fp: 19.0000 - tn: 292.0000 - fn: 27.0000 - accuracy: 0.8647 - precision: 0.0952 - recall: 0.0690 - auc: 0.6951 - val_loss: 0.2753 - val_tp: 0.0000e+00 - val_fp: 2.0000 - val_tn: 80.0000 - val_fn: 3.0000 - val_accuracy: 0.9412 - val_precision: 0.0000e+00 - val_recall: 0.0000e+00 - val_auc: 0.4207\n",
            "Epoch 50/100\n",
            "1/1 [==============================] - 0s 58ms/step - loss: 0.9874 - tp: 3.0000 - fp: 18.0000 - tn: 293.0000 - fn: 26.0000 - accuracy: 0.8706 - precision: 0.1429 - recall: 0.1034 - auc: 0.6741 - val_loss: 0.2775 - val_tp: 0.0000e+00 - val_fp: 2.0000 - val_tn: 80.0000 - val_fn: 3.0000 - val_accuracy: 0.9412 - val_precision: 0.0000e+00 - val_recall: 0.0000e+00 - val_auc: 0.4187\n",
            "Epoch 51/100\n",
            "1/1 [==============================] - 0s 51ms/step - loss: 1.0518 - tp: 3.0000 - fp: 24.0000 - tn: 287.0000 - fn: 26.0000 - accuracy: 0.8529 - precision: 0.1111 - recall: 0.1034 - auc: 0.6299 - val_loss: 0.2796 - val_tp: 0.0000e+00 - val_fp: 2.0000 - val_tn: 80.0000 - val_fn: 3.0000 - val_accuracy: 0.9412 - val_precision: 0.0000e+00 - val_recall: 0.0000e+00 - val_auc: 0.4167\n",
            "Epoch 52/100\n",
            "1/1 [==============================] - 0s 50ms/step - loss: 0.9979 - tp: 4.0000 - fp: 17.0000 - tn: 294.0000 - fn: 25.0000 - accuracy: 0.8765 - precision: 0.1905 - recall: 0.1379 - auc: 0.6645 - val_loss: 0.2817 - val_tp: 0.0000e+00 - val_fp: 2.0000 - val_tn: 80.0000 - val_fn: 3.0000 - val_accuracy: 0.9412 - val_precision: 0.0000e+00 - val_recall: 0.0000e+00 - val_auc: 0.4228\n",
            "Epoch 53/100\n",
            "1/1 [==============================] - 0s 337ms/step - loss: 0.9885 - tp: 4.0000 - fp: 20.0000 - tn: 291.0000 - fn: 25.0000 - accuracy: 0.8676 - precision: 0.1667 - recall: 0.1379 - auc: 0.6437 - val_loss: 0.2839 - val_tp: 0.0000e+00 - val_fp: 2.0000 - val_tn: 80.0000 - val_fn: 3.0000 - val_accuracy: 0.9412 - val_precision: 0.0000e+00 - val_recall: 0.0000e+00 - val_auc: 0.4228\n",
            "Epoch 54/100\n",
            "1/1 [==============================] - 0s 56ms/step - loss: 0.9968 - tp: 3.0000 - fp: 22.0000 - tn: 289.0000 - fn: 26.0000 - accuracy: 0.8588 - precision: 0.1200 - recall: 0.1034 - auc: 0.6667 - val_loss: 0.2861 - val_tp: 0.0000e+00 - val_fp: 2.0000 - val_tn: 80.0000 - val_fn: 3.0000 - val_accuracy: 0.9412 - val_precision: 0.0000e+00 - val_recall: 0.0000e+00 - val_auc: 0.4187\n",
            "Epoch 55/100\n",
            "1/1 [==============================] - 0s 62ms/step - loss: 0.9346 - tp: 2.0000 - fp: 23.0000 - tn: 288.0000 - fn: 27.0000 - accuracy: 0.8529 - precision: 0.0800 - recall: 0.0690 - auc: 0.6819 - val_loss: 0.2883 - val_tp: 0.0000e+00 - val_fp: 2.0000 - val_tn: 80.0000 - val_fn: 3.0000 - val_accuracy: 0.9412 - val_precision: 0.0000e+00 - val_recall: 0.0000e+00 - val_auc: 0.4228\n",
            "Epoch 56/100\n",
            "1/1 [==============================] - 0s 60ms/step - loss: 1.0079 - tp: 2.0000 - fp: 30.0000 - tn: 281.0000 - fn: 27.0000 - accuracy: 0.8324 - precision: 0.0625 - recall: 0.0690 - auc: 0.6394 - val_loss: 0.2905 - val_tp: 0.0000e+00 - val_fp: 2.0000 - val_tn: 80.0000 - val_fn: 3.0000 - val_accuracy: 0.9412 - val_precision: 0.0000e+00 - val_recall: 0.0000e+00 - val_auc: 0.4228\n",
            "Epoch 57/100\n",
            "1/1 [==============================] - 0s 54ms/step - loss: 0.8876 - tp: 6.0000 - fp: 20.0000 - tn: 291.0000 - fn: 23.0000 - accuracy: 0.8735 - precision: 0.2308 - recall: 0.2069 - auc: 0.7072 - val_loss: 0.2927 - val_tp: 0.0000e+00 - val_fp: 2.0000 - val_tn: 80.0000 - val_fn: 3.0000 - val_accuracy: 0.9412 - val_precision: 0.0000e+00 - val_recall: 0.0000e+00 - val_auc: 0.4228\n",
            "Epoch 58/100\n",
            "1/1 [==============================] - 0s 55ms/step - loss: 0.9531 - tp: 5.0000 - fp: 25.0000 - tn: 286.0000 - fn: 24.0000 - accuracy: 0.8559 - precision: 0.1667 - recall: 0.1724 - auc: 0.6659 - val_loss: 0.2950 - val_tp: 0.0000e+00 - val_fp: 2.0000 - val_tn: 80.0000 - val_fn: 3.0000 - val_accuracy: 0.9412 - val_precision: 0.0000e+00 - val_recall: 0.0000e+00 - val_auc: 0.4207\n",
            "Restoring model weights from the end of the best epoch.\n",
            "Epoch 00058: early stopping\n"
          ],
          "name": "stdout"
        }
      ]
    },
    {
      "cell_type": "code",
      "metadata": {
        "colab": {
          "base_uri": "https://localhost:8080/",
          "height": 609
        },
        "id": "XAzDc2Vcpjir",
        "outputId": "991d4b74-87c1-4458-b7dc-0bc29b8735d2"
      },
      "source": [
        "plot_metrics(weighted_history)"
      ],
      "execution_count": 604,
      "outputs": [
        {
          "output_type": "display_data",
          "data": {
            "image/png": "[encoded data removed]",
            "text/plain": [
              "<Figure size 864x720 with 4 Axes>"
            ]
          },
          "metadata": {
            "tags": [],
            "needs_background": "light"
          }
        }
      ]
    },
    {
      "cell_type": "code",
      "metadata": {
        "colab": {
          "base_uri": "https://localhost:8080/"
        },
        "id": "h7h20wtwpsU3",
        "outputId": "b0410f66-0596-47d8-f644-160d6cb23ca5"
      },
      "source": [
        "train_predictions_weighted = weighted_model.predict(train_features, batch_size=BATCH_SIZE)\r\n",
        "test_predictions_weighted = weighted_model.predict(test_features, batch_size=BATCH_SIZE)"
      ],
      "execution_count": 605,
      "outputs": [
        {
          "output_type": "stream",
          "text": [
            "WARNING:tensorflow:7 out of the last 11 calls to <function Model.make_predict_function.<locals>.predict_function at 0x7f8defe410d0> triggered tf.function retracing. Tracing is expensive and the excessive number of tracings could be due to (1) creating @tf.function repeatedly in a loop, (2) passing tensors with different shapes, (3) passing Python objects instead of tensors. For (1), please define your @tf.function outside of the loop. For (2), @tf.function has experimental_relax_shapes=True option that relaxes argument shapes that can avoid unnecessary retracing. For (3), please refer to https://www.tensorflow.org/guide/function#controlling_retracing and https://www.tensorflow.org/api_docs/python/tf/function for  more details.\n"
          ],
          "name": "stdout"
        }
      ]
    },
    {
      "cell_type": "code",
      "metadata": {
        "colab": {
          "base_uri": "https://localhost:8080/",
          "height": 602
        },
        "id": "cnV6tmaBpynr",
        "outputId": "8f90711d-104a-4222-db22-eb380d721cb2"
      },
      "source": [
        "weighted_results = weighted_model.evaluate(test_features, test_labels,\r\n",
        "                                           batch_size=BATCH_SIZE, verbose=0)\r\n",
        "for name, value in zip(weighted_model.metrics_names, weighted_results):\r\n",
        "  print(name, ': ', value)\r\n",
        "print()\r\n",
        "\r\n",
        "plot_cm(test_labels, test_predictions_weighted)"
      ],
      "execution_count": 606,
      "outputs": [
        {
          "output_type": "stream",
          "text": [
            "loss :  0.3306753933429718\n",
            "tp :  3.0\n",
            "fp :  3.0\n",
            "tn :  92.0\n",
            "fn :  9.0\n",
            "accuracy :  0.8878504633903503\n",
            "precision :  0.5\n",
            "recall :  0.25\n",
            "auc :  0.7166666984558105\n",
            "\n",
            "Legitimate Transactions Detected (True Negatives):  92\n",
            "Legitimate Transactions Incorrectly Detected (False Positives):  3\n",
            "Fraudulent Transactions Missed (False Negatives):  9\n",
            "Fraudulent Transactions Detected (True Positives):  3\n",
            "Total Fraudulent Transactions:  12\n"
          ],
          "name": "stdout"
        },
        {
          "output_type": "display_data",
          "data": {
            "image/png": "[encoded data removed]",
            "text/plain": [
              "<Figure size 360x360 with 2 Axes>"
            ]
          },
          "metadata": {
            "tags": [],
            "needs_background": "light"
          }
        }
      ]
    },
    {
      "cell_type": "code",
      "metadata": {
        "colab": {
          "base_uri": "https://localhost:8080/",
          "height": 623
        },
        "id": "9oFSk6wLp0li",
        "outputId": "9f4ab4a6-0e73-4b0a-ad89-82ad5b609cf5"
      },
      "source": [
        "plot_roc(\"Train Baseline\", train_labels, train_predictions_baseline, color=colors[0])\r\n",
        "plot_roc(\"Test Baseline\", test_labels, test_predictions_baseline, color=colors[0], linestyle='--')\r\n",
        "\r\n",
        "plot_roc(\"Train Weighted\", train_labels, train_predictions_weighted, color=colors[1])\r\n",
        "plot_roc(\"Test Weighted\", test_labels, test_predictions_weighted, color=colors[1], linestyle='--')\r\n",
        "\r\n",
        "\r\n",
        "plt.legend(loc='lower right')"
      ],
      "execution_count": 607,
      "outputs": [
        {
          "output_type": "execute_result",
          "data": {
            "text/plain": [
              "<matplotlib.legend.Legend at 0x7f8df041a2e8>"
            ]
          },
          "metadata": {
            "tags": []
          },
          "execution_count": 607
        },
        {
          "output_type": "display_data",
          "data": {
            "image/png": "[encoded data removed]",
            "text/plain": [
              "<Figure size 864x720 with 1 Axes>"
            ]
          },
          "metadata": {
            "tags": [],
            "needs_background": "light"
          }
        }
      ]
    },
    {
      "cell_type": "code",
      "metadata": {
        "id": "9GLxQN0ep83l"
      },
      "source": [
        "pos_features = train_features[bool_train_labels]\r\n",
        "neg_features = train_features[~bool_train_labels]\r\n",
        "\r\n",
        "pos_labels = train_labels[bool_train_labels]\r\n",
        "neg_labels = train_labels[~bool_train_labels]"
      ],
      "execution_count": 608,
      "outputs": []
    },
    {
      "cell_type": "code",
      "metadata": {
        "colab": {
          "base_uri": "https://localhost:8080/"
        },
        "id": "r3yjq8JuqAb0",
        "outputId": "a859197a-8a36-4add-c0c7-56082eda1ebe"
      },
      "source": [
        "ids = np.arange(len(pos_features))\r\n",
        "choices = np.random.choice(ids, len(neg_features))\r\n",
        "\r\n",
        "res_pos_features = pos_features[choices]\r\n",
        "res_pos_labels = pos_labels[choices]\r\n",
        "\r\n",
        "res_pos_features.shape"
      ],
      "execution_count": 609,
      "outputs": [
        {
          "output_type": "execute_result",
          "data": {
            "text/plain": [
              "(311, 19)"
            ]
          },
          "metadata": {
            "tags": []
          },
          "execution_count": 609
        }
      ]
    },
    {
      "cell_type": "code",
      "metadata": {
        "colab": {
          "base_uri": "https://localhost:8080/"
        },
        "id": "bngwhzm_qCmG",
        "outputId": "1efc8b45-a566-4eaf-a0c9-5bc1cea61494"
      },
      "source": [
        "resampled_features = np.concatenate([res_pos_features, neg_features], axis=0)\r\n",
        "resampled_labels = np.concatenate([res_pos_labels, neg_labels], axis=0)\r\n",
        "\r\n",
        "order = np.arange(len(resampled_labels))\r\n",
        "np.random.shuffle(order)\r\n",
        "resampled_features = resampled_features[order]\r\n",
        "resampled_labels = resampled_labels[order]\r\n",
        "\r\n",
        "resampled_features.shape"
      ],
      "execution_count": 610,
      "outputs": [
        {
          "output_type": "execute_result",
          "data": {
            "text/plain": [
              "(622, 19)"
            ]
          },
          "metadata": {
            "tags": []
          },
          "execution_count": 610
        }
      ]
    },
    {
      "cell_type": "code",
      "metadata": {
        "id": "8X_A5RmTqFBB"
      },
      "source": [
        "BUFFER_SIZE = 100000\r\n",
        "\r\n",
        "def make_ds(features, labels):\r\n",
        "  ds = tf.data.Dataset.from_tensor_slices((features, labels))#.cache()\r\n",
        "  ds = ds.shuffle(BUFFER_SIZE).repeat()\r\n",
        "  return ds\r\n",
        "\r\n",
        "pos_ds = make_ds(pos_features, pos_labels)\r\n",
        "neg_ds = make_ds(neg_features, neg_labels)"
      ],
      "execution_count": 611,
      "outputs": []
    },
    {
      "cell_type": "code",
      "metadata": {
        "colab": {
          "base_uri": "https://localhost:8080/"
        },
        "id": "rxbDDjjlqKIq",
        "outputId": "57781e00-5810-4571-84a2-e8691246ae84"
      },
      "source": [
        "for features, label in pos_ds.take(1):\r\n",
        "  print(\"Features:\\n\", features.numpy())\r\n",
        "  print()\r\n",
        "  print(\"Label: \", label.numpy())"
      ],
      "execution_count": 612,
      "outputs": [
        {
          "output_type": "stream",
          "text": [
            "Features:\n",
            " [-1.38756209 -1.38762099 -1.80124363 -1.79954399  0.06798343 -0.3039551\n",
            " -1.23988444 -0.56417169  0.83374635  0.79006571 -0.6847034  -0.05431254\n",
            "  0.          0.         -0.05431254 -0.11603795 -0.02260124 -0.46908901\n",
            "  0.56259584]\n",
            "\n",
            "Label:  1\n"
          ],
          "name": "stdout"
        }
      ]
    },
    {
      "cell_type": "code",
      "metadata": {
        "id": "k7LSNJNqqMWe"
      },
      "source": [
        "resampled_ds = tf.data.experimental.sample_from_datasets([pos_ds, neg_ds], weights=[0.5, 0.5])\r\n",
        "resampled_ds = resampled_ds.batch(BATCH_SIZE).prefetch(2)"
      ],
      "execution_count": 613,
      "outputs": []
    },
    {
      "cell_type": "code",
      "metadata": {
        "colab": {
          "base_uri": "https://localhost:8080/"
        },
        "id": "K5j3Vq4vqPJM",
        "outputId": "915c0583-3bc9-4a50-dbac-67d0528cf974"
      },
      "source": [
        "for features, label in resampled_ds.take(1):\r\n",
        "  print(label.numpy().mean())"
      ],
      "execution_count": 614,
      "outputs": [
        {
          "output_type": "stream",
          "text": [
            "0.49658203125\n"
          ],
          "name": "stdout"
        }
      ]
    },
    {
      "cell_type": "code",
      "metadata": {
        "colab": {
          "base_uri": "https://localhost:8080/"
        },
        "id": "CuPymCb4qROo",
        "outputId": "02db70c6-47a8-4cd9-f0ab-91e102ec610f"
      },
      "source": [
        "resampled_steps_per_epoch = np.ceil(2.0*neg/BATCH_SIZE)\r\n",
        "resampled_steps_per_epoch"
      ],
      "execution_count": 615,
      "outputs": [
        {
          "output_type": "execute_result",
          "data": {
            "text/plain": [
              "1.0"
            ]
          },
          "metadata": {
            "tags": []
          },
          "execution_count": 615
        }
      ]
    },
    {
      "cell_type": "code",
      "metadata": {
        "colab": {
          "base_uri": "https://localhost:8080/"
        },
        "id": "I69CCVCKqTvI",
        "outputId": "307aaeab-cb5c-4558-d06c-8fa7c224aa38"
      },
      "source": [
        "resampled_model = make_model()\r\n",
        "resampled_model.load_weights(initial_weights)\r\n",
        "\r\n",
        "# Reset the bias to zero, since this dataset is balanced.\r\n",
        "output_layer = resampled_model.layers[-1] \r\n",
        "output_layer.bias.assign([0])\r\n",
        "\r\n",
        "val_ds = tf.data.Dataset.from_tensor_slices((val_features, val_labels)).cache()\r\n",
        "val_ds = val_ds.batch(BATCH_SIZE).prefetch(2) \r\n",
        "\r\n",
        "resampled_history = resampled_model.fit(\r\n",
        "    resampled_ds,\r\n",
        "    epochs=EPOCHS,\r\n",
        "    steps_per_epoch=resampled_steps_per_epoch,\r\n",
        "    callbacks=[early_stopping],\r\n",
        "    validation_data=val_ds)"
      ],
      "execution_count": 616,
      "outputs": [
        {
          "output_type": "stream",
          "text": [
            "Epoch 1/100\n",
            "1/1 [==============================] - 3s 3s/step - loss: 0.7369 - tp: 535.0000 - fp: 472.0000 - tn: 658.0000 - fn: 490.0000 - accuracy: 0.5536 - precision: 0.5313 - recall: 0.5220 - auc: 0.5932 - val_loss: 0.7382 - val_tp: 1.0000 - val_fp: 40.0000 - val_tn: 42.0000 - val_fn: 2.0000 - val_accuracy: 0.5059 - val_precision: 0.0244 - val_recall: 0.3333 - val_auc: 0.3699\n",
            "Epoch 2/100\n",
            "1/1 [==============================] - 0s 58ms/step - loss: 0.7316 - tp: 577.0000 - fp: 446.0000 - tn: 580.0000 - fn: 445.0000 - accuracy: 0.5649 - precision: 0.5640 - recall: 0.5646 - auc: 0.5840 - val_loss: 0.7368 - val_tp: 1.0000 - val_fp: 41.0000 - val_tn: 41.0000 - val_fn: 2.0000 - val_accuracy: 0.4941 - val_precision: 0.0238 - val_recall: 0.3333 - val_auc: 0.3679\n",
            "Epoch 3/100\n",
            "1/1 [==============================] - 0s 58ms/step - loss: 0.7293 - tp: 591.0000 - fp: 475.0000 - tn: 526.0000 - fn: 456.0000 - accuracy: 0.5454 - precision: 0.5544 - recall: 0.5645 - auc: 0.5769 - val_loss: 0.7355 - val_tp: 1.0000 - val_fp: 41.0000 - val_tn: 41.0000 - val_fn: 2.0000 - val_accuracy: 0.4941 - val_precision: 0.0238 - val_recall: 0.3333 - val_auc: 0.3699\n",
            "Epoch 4/100\n",
            "1/1 [==============================] - 0s 56ms/step - loss: 0.7154 - tp: 600.0000 - fp: 464.0000 - tn: 544.0000 - fn: 440.0000 - accuracy: 0.5586 - precision: 0.5639 - recall: 0.5769 - auc: 0.5881 - val_loss: 0.7344 - val_tp: 1.0000 - val_fp: 41.0000 - val_tn: 41.0000 - val_fn: 2.0000 - val_accuracy: 0.4941 - val_precision: 0.0238 - val_recall: 0.3333 - val_auc: 0.3699\n",
            "Epoch 5/100\n",
            "1/1 [==============================] - 0s 64ms/step - loss: 0.7285 - tp: 576.0000 - fp: 468.0000 - tn: 569.0000 - fn: 435.0000 - accuracy: 0.5591 - precision: 0.5517 - recall: 0.5697 - auc: 0.5861 - val_loss: 0.7332 - val_tp: 1.0000 - val_fp: 40.0000 - val_tn: 42.0000 - val_fn: 2.0000 - val_accuracy: 0.5059 - val_precision: 0.0244 - val_recall: 0.3333 - val_auc: 0.3720\n",
            "Epoch 6/100\n",
            "1/1 [==============================] - 0s 59ms/step - loss: 0.7306 - tp: 604.0000 - fp: 462.0000 - tn: 556.0000 - fn: 426.0000 - accuracy: 0.5664 - precision: 0.5666 - recall: 0.5864 - auc: 0.5799 - val_loss: 0.7321 - val_tp: 1.0000 - val_fp: 40.0000 - val_tn: 42.0000 - val_fn: 2.0000 - val_accuracy: 0.5059 - val_precision: 0.0244 - val_recall: 0.3333 - val_auc: 0.3862\n",
            "Epoch 7/100\n",
            "1/1 [==============================] - 0s 63ms/step - loss: 0.7117 - tp: 604.0000 - fp: 447.0000 - tn: 564.0000 - fn: 433.0000 - accuracy: 0.5703 - precision: 0.5747 - recall: 0.5824 - auc: 0.6014 - val_loss: 0.7311 - val_tp: 1.0000 - val_fp: 39.0000 - val_tn: 43.0000 - val_fn: 2.0000 - val_accuracy: 0.5176 - val_precision: 0.0250 - val_recall: 0.3333 - val_auc: 0.3801\n",
            "Epoch 8/100\n",
            "1/1 [==============================] - 0s 58ms/step - loss: 0.7169 - tp: 625.0000 - fp: 460.0000 - tn: 553.0000 - fn: 410.0000 - accuracy: 0.5752 - precision: 0.5760 - recall: 0.6039 - auc: 0.5978 - val_loss: 0.7300 - val_tp: 1.0000 - val_fp: 39.0000 - val_tn: 43.0000 - val_fn: 2.0000 - val_accuracy: 0.5176 - val_precision: 0.0250 - val_recall: 0.3333 - val_auc: 0.3821\n",
            "Epoch 9/100\n",
            "1/1 [==============================] - 0s 59ms/step - loss: 0.7140 - tp: 598.0000 - fp: 466.0000 - tn: 587.0000 - fn: 397.0000 - accuracy: 0.5786 - precision: 0.5620 - recall: 0.6010 - auc: 0.5984 - val_loss: 0.7284 - val_tp: 1.0000 - val_fp: 39.0000 - val_tn: 43.0000 - val_fn: 2.0000 - val_accuracy: 0.5176 - val_precision: 0.0250 - val_recall: 0.3333 - val_auc: 0.3821\n",
            "Epoch 10/100\n",
            "1/1 [==============================] - 0s 61ms/step - loss: 0.6985 - tp: 628.0000 - fp: 430.0000 - tn: 565.0000 - fn: 425.0000 - accuracy: 0.5825 - precision: 0.5936 - recall: 0.5964 - auc: 0.6175 - val_loss: 0.7270 - val_tp: 1.0000 - val_fp: 38.0000 - val_tn: 44.0000 - val_fn: 2.0000 - val_accuracy: 0.5294 - val_precision: 0.0256 - val_recall: 0.3333 - val_auc: 0.3841\n",
            "Epoch 11/100\n",
            "1/1 [==============================] - 0s 66ms/step - loss: 0.6934 - tp: 658.0000 - fp: 440.0000 - tn: 573.0000 - fn: 377.0000 - accuracy: 0.6011 - precision: 0.5993 - recall: 0.6357 - auc: 0.6220 - val_loss: 0.7257 - val_tp: 1.0000 - val_fp: 38.0000 - val_tn: 44.0000 - val_fn: 2.0000 - val_accuracy: 0.5294 - val_precision: 0.0256 - val_recall: 0.3333 - val_auc: 0.3943\n",
            "Epoch 12/100\n",
            "1/1 [==============================] - 0s 59ms/step - loss: 0.7010 - tp: 615.0000 - fp: 453.0000 - tn: 576.0000 - fn: 404.0000 - accuracy: 0.5815 - precision: 0.5758 - recall: 0.6035 - auc: 0.6167 - val_loss: 0.7242 - val_tp: 1.0000 - val_fp: 38.0000 - val_tn: 44.0000 - val_fn: 2.0000 - val_accuracy: 0.5294 - val_precision: 0.0256 - val_recall: 0.3333 - val_auc: 0.3923\n",
            "Epoch 13/100\n",
            "1/1 [==============================] - 0s 56ms/step - loss: 0.6869 - tp: 638.0000 - fp: 429.0000 - tn: 577.0000 - fn: 404.0000 - accuracy: 0.5933 - precision: 0.5979 - recall: 0.6123 - auc: 0.6304 - val_loss: 0.7229 - val_tp: 1.0000 - val_fp: 37.0000 - val_tn: 45.0000 - val_fn: 2.0000 - val_accuracy: 0.5412 - val_precision: 0.0263 - val_recall: 0.3333 - val_auc: 0.3923\n",
            "Epoch 14/100\n",
            "1/1 [==============================] - 0s 62ms/step - loss: 0.7048 - tp: 622.0000 - fp: 467.0000 - tn: 567.0000 - fn: 392.0000 - accuracy: 0.5806 - precision: 0.5712 - recall: 0.6134 - auc: 0.6074 - val_loss: 0.7214 - val_tp: 1.0000 - val_fp: 37.0000 - val_tn: 45.0000 - val_fn: 2.0000 - val_accuracy: 0.5412 - val_precision: 0.0263 - val_recall: 0.3333 - val_auc: 0.3902\n",
            "Epoch 15/100\n",
            "1/1 [==============================] - 0s 63ms/step - loss: 0.6868 - tp: 621.0000 - fp: 431.0000 - tn: 597.0000 - fn: 399.0000 - accuracy: 0.5947 - precision: 0.5903 - recall: 0.6088 - auc: 0.6306 - val_loss: 0.7200 - val_tp: 1.0000 - val_fp: 36.0000 - val_tn: 46.0000 - val_fn: 2.0000 - val_accuracy: 0.5529 - val_precision: 0.0270 - val_recall: 0.3333 - val_auc: 0.3902\n",
            "Epoch 16/100\n",
            "1/1 [==============================] - 0s 59ms/step - loss: 0.6897 - tp: 623.0000 - fp: 440.0000 - tn: 590.0000 - fn: 395.0000 - accuracy: 0.5923 - precision: 0.5861 - recall: 0.6120 - auc: 0.6260 - val_loss: 0.7185 - val_tp: 1.0000 - val_fp: 36.0000 - val_tn: 46.0000 - val_fn: 2.0000 - val_accuracy: 0.5529 - val_precision: 0.0270 - val_recall: 0.3333 - val_auc: 0.3902\n",
            "Epoch 17/100\n",
            "1/1 [==============================] - 0s 57ms/step - loss: 0.6914 - tp: 634.0000 - fp: 468.0000 - tn: 561.0000 - fn: 385.0000 - accuracy: 0.5835 - precision: 0.5753 - recall: 0.6222 - auc: 0.6163 - val_loss: 0.7169 - val_tp: 1.0000 - val_fp: 36.0000 - val_tn: 46.0000 - val_fn: 2.0000 - val_accuracy: 0.5529 - val_precision: 0.0270 - val_recall: 0.3333 - val_auc: 0.3862\n",
            "Epoch 18/100\n",
            "1/1 [==============================] - 0s 58ms/step - loss: 0.6766 - tp: 674.0000 - fp: 445.0000 - tn: 552.0000 - fn: 377.0000 - accuracy: 0.5986 - precision: 0.6023 - recall: 0.6413 - auc: 0.6378 - val_loss: 0.7154 - val_tp: 1.0000 - val_fp: 36.0000 - val_tn: 46.0000 - val_fn: 2.0000 - val_accuracy: 0.5529 - val_precision: 0.0270 - val_recall: 0.3333 - val_auc: 0.3902\n",
            "Epoch 19/100\n",
            "1/1 [==============================] - 0s 484ms/step - loss: 0.6770 - tp: 646.0000 - fp: 442.0000 - tn: 602.0000 - fn: 358.0000 - accuracy: 0.6094 - precision: 0.5938 - recall: 0.6434 - auc: 0.6447 - val_loss: 0.7138 - val_tp: 1.0000 - val_fp: 35.0000 - val_tn: 47.0000 - val_fn: 2.0000 - val_accuracy: 0.5647 - val_precision: 0.0278 - val_recall: 0.3333 - val_auc: 0.3882\n",
            "Epoch 20/100\n",
            "1/1 [==============================] - 0s 56ms/step - loss: 0.6837 - tp: 633.0000 - fp: 431.0000 - tn: 602.0000 - fn: 382.0000 - accuracy: 0.6030 - precision: 0.5949 - recall: 0.6236 - auc: 0.6389 - val_loss: 0.7120 - val_tp: 1.0000 - val_fp: 35.0000 - val_tn: 47.0000 - val_fn: 2.0000 - val_accuracy: 0.5647 - val_precision: 0.0278 - val_recall: 0.3333 - val_auc: 0.3882\n",
            "Epoch 21/100\n",
            "1/1 [==============================] - 0s 60ms/step - loss: 0.6791 - tp: 612.0000 - fp: 456.0000 - tn: 609.0000 - fn: 371.0000 - accuracy: 0.5962 - precision: 0.5730 - recall: 0.6226 - auc: 0.6346 - val_loss: 0.7101 - val_tp: 1.0000 - val_fp: 35.0000 - val_tn: 47.0000 - val_fn: 2.0000 - val_accuracy: 0.5647 - val_precision: 0.0278 - val_recall: 0.3333 - val_auc: 0.3963\n",
            "Epoch 22/100\n",
            "1/1 [==============================] - 0s 59ms/step - loss: 0.6812 - tp: 644.0000 - fp: 475.0000 - tn: 588.0000 - fn: 341.0000 - accuracy: 0.6016 - precision: 0.5755 - recall: 0.6538 - auc: 0.6394 - val_loss: 0.7080 - val_tp: 1.0000 - val_fp: 35.0000 - val_tn: 47.0000 - val_fn: 2.0000 - val_accuracy: 0.5647 - val_precision: 0.0278 - val_recall: 0.3333 - val_auc: 0.3963\n",
            "Epoch 23/100\n",
            "1/1 [==============================] - 0s 70ms/step - loss: 0.6579 - tp: 647.0000 - fp: 409.0000 - tn: 627.0000 - fn: 365.0000 - accuracy: 0.6221 - precision: 0.6127 - recall: 0.6393 - auc: 0.6643 - val_loss: 0.7059 - val_tp: 1.0000 - val_fp: 35.0000 - val_tn: 47.0000 - val_fn: 2.0000 - val_accuracy: 0.5647 - val_precision: 0.0278 - val_recall: 0.3333 - val_auc: 0.3984\n",
            "Epoch 24/100\n",
            "1/1 [==============================] - 0s 60ms/step - loss: 0.6665 - tp: 648.0000 - fp: 424.0000 - tn: 597.0000 - fn: 379.0000 - accuracy: 0.6079 - precision: 0.6045 - recall: 0.6310 - auc: 0.6464 - val_loss: 0.7040 - val_tp: 1.0000 - val_fp: 35.0000 - val_tn: 47.0000 - val_fn: 2.0000 - val_accuracy: 0.5647 - val_precision: 0.0278 - val_recall: 0.3333 - val_auc: 0.4024\n",
            "Epoch 25/100\n",
            "1/1 [==============================] - 0s 59ms/step - loss: 0.6728 - tp: 652.0000 - fp: 439.0000 - tn: 588.0000 - fn: 369.0000 - accuracy: 0.6055 - precision: 0.5976 - recall: 0.6386 - auc: 0.6485 - val_loss: 0.7021 - val_tp: 1.0000 - val_fp: 35.0000 - val_tn: 47.0000 - val_fn: 2.0000 - val_accuracy: 0.5647 - val_precision: 0.0278 - val_recall: 0.3333 - val_auc: 0.4024\n",
            "Epoch 26/100\n",
            "1/1 [==============================] - 0s 62ms/step - loss: 0.6676 - tp: 674.0000 - fp: 455.0000 - tn: 574.0000 - fn: 345.0000 - accuracy: 0.6094 - precision: 0.5970 - recall: 0.6614 - auc: 0.6484 - val_loss: 0.7003 - val_tp: 1.0000 - val_fp: 34.0000 - val_tn: 48.0000 - val_fn: 2.0000 - val_accuracy: 0.5765 - val_precision: 0.0286 - val_recall: 0.3333 - val_auc: 0.4106\n",
            "Epoch 27/100\n",
            "1/1 [==============================] - 0s 59ms/step - loss: 0.6607 - tp: 665.0000 - fp: 422.0000 - tn: 577.0000 - fn: 384.0000 - accuracy: 0.6064 - precision: 0.6118 - recall: 0.6339 - auc: 0.6553 - val_loss: 0.6987 - val_tp: 1.0000 - val_fp: 34.0000 - val_tn: 48.0000 - val_fn: 2.0000 - val_accuracy: 0.5765 - val_precision: 0.0286 - val_recall: 0.3333 - val_auc: 0.4085\n",
            "Epoch 28/100\n",
            "1/1 [==============================] - 0s 64ms/step - loss: 0.6425 - tp: 699.0000 - fp: 415.0000 - tn: 597.0000 - fn: 337.0000 - accuracy: 0.6328 - precision: 0.6275 - recall: 0.6747 - auc: 0.6793 - val_loss: 0.6972 - val_tp: 1.0000 - val_fp: 34.0000 - val_tn: 48.0000 - val_fn: 2.0000 - val_accuracy: 0.5765 - val_precision: 0.0286 - val_recall: 0.3333 - val_auc: 0.4106\n",
            "Epoch 29/100\n",
            "1/1 [==============================] - 0s 66ms/step - loss: 0.6564 - tp: 672.0000 - fp: 421.0000 - tn: 577.0000 - fn: 378.0000 - accuracy: 0.6099 - precision: 0.6148 - recall: 0.6400 - auc: 0.6549 - val_loss: 0.6959 - val_tp: 1.0000 - val_fp: 34.0000 - val_tn: 48.0000 - val_fn: 2.0000 - val_accuracy: 0.5765 - val_precision: 0.0286 - val_recall: 0.3333 - val_auc: 0.4146\n",
            "Epoch 30/100\n",
            "1/1 [==============================] - 0s 56ms/step - loss: 0.6668 - tp: 629.0000 - fp: 444.0000 - tn: 600.0000 - fn: 375.0000 - accuracy: 0.6001 - precision: 0.5862 - recall: 0.6265 - auc: 0.6500 - val_loss: 0.6945 - val_tp: 1.0000 - val_fp: 34.0000 - val_tn: 48.0000 - val_fn: 2.0000 - val_accuracy: 0.5765 - val_precision: 0.0286 - val_recall: 0.3333 - val_auc: 0.4167\n",
            "Epoch 31/100\n",
            "1/1 [==============================] - 0s 72ms/step - loss: 0.6483 - tp: 740.0000 - fp: 410.0000 - tn: 560.0000 - fn: 338.0000 - accuracy: 0.6348 - precision: 0.6435 - recall: 0.6865 - auc: 0.6694 - val_loss: 0.6933 - val_tp: 1.0000 - val_fp: 33.0000 - val_tn: 49.0000 - val_fn: 2.0000 - val_accuracy: 0.5882 - val_precision: 0.0294 - val_recall: 0.3333 - val_auc: 0.4228\n",
            "Epoch 32/100\n",
            "1/1 [==============================] - 0s 75ms/step - loss: 0.6431 - tp: 724.0000 - fp: 406.0000 - tn: 577.0000 - fn: 341.0000 - accuracy: 0.6353 - precision: 0.6407 - recall: 0.6798 - auc: 0.6763 - val_loss: 0.6924 - val_tp: 1.0000 - val_fp: 32.0000 - val_tn: 50.0000 - val_fn: 2.0000 - val_accuracy: 0.6000 - val_precision: 0.0303 - val_recall: 0.3333 - val_auc: 0.4248\n",
            "Epoch 33/100\n",
            "1/1 [==============================] - 0s 66ms/step - loss: 0.6521 - tp: 632.0000 - fp: 423.0000 - tn: 619.0000 - fn: 374.0000 - accuracy: 0.6108 - precision: 0.5991 - recall: 0.6282 - auc: 0.6630 - val_loss: 0.6915 - val_tp: 1.0000 - val_fp: 32.0000 - val_tn: 50.0000 - val_fn: 2.0000 - val_accuracy: 0.6000 - val_precision: 0.0303 - val_recall: 0.3333 - val_auc: 0.4309\n",
            "Epoch 34/100\n",
            "1/1 [==============================] - 0s 60ms/step - loss: 0.6474 - tp: 658.0000 - fp: 419.0000 - tn: 621.0000 - fn: 350.0000 - accuracy: 0.6245 - precision: 0.6110 - recall: 0.6528 - auc: 0.6758 - val_loss: 0.6903 - val_tp: 1.0000 - val_fp: 32.0000 - val_tn: 50.0000 - val_fn: 2.0000 - val_accuracy: 0.6000 - val_precision: 0.0303 - val_recall: 0.3333 - val_auc: 0.4329\n",
            "Epoch 35/100\n",
            "1/1 [==============================] - 0s 62ms/step - loss: 0.6491 - tp: 637.0000 - fp: 411.0000 - tn: 632.0000 - fn: 368.0000 - accuracy: 0.6196 - precision: 0.6078 - recall: 0.6338 - auc: 0.6696 - val_loss: 0.6891 - val_tp: 1.0000 - val_fp: 32.0000 - val_tn: 50.0000 - val_fn: 2.0000 - val_accuracy: 0.6000 - val_precision: 0.0303 - val_recall: 0.3333 - val_auc: 0.4309\n",
            "Epoch 36/100\n",
            "1/1 [==============================] - 0s 61ms/step - loss: 0.6528 - tp: 632.0000 - fp: 415.0000 - tn: 641.0000 - fn: 360.0000 - accuracy: 0.6216 - precision: 0.6036 - recall: 0.6371 - auc: 0.6697 - val_loss: 0.6877 - val_tp: 1.0000 - val_fp: 32.0000 - val_tn: 50.0000 - val_fn: 2.0000 - val_accuracy: 0.6000 - val_precision: 0.0303 - val_recall: 0.3333 - val_auc: 0.4350\n",
            "Epoch 37/100\n",
            "1/1 [==============================] - 0s 57ms/step - loss: 0.6375 - tp: 672.0000 - fp: 427.0000 - tn: 595.0000 - fn: 354.0000 - accuracy: 0.6187 - precision: 0.6115 - recall: 0.6550 - auc: 0.6815 - val_loss: 0.6864 - val_tp: 1.0000 - val_fp: 32.0000 - val_tn: 50.0000 - val_fn: 2.0000 - val_accuracy: 0.6000 - val_precision: 0.0303 - val_recall: 0.3333 - val_auc: 0.4370\n",
            "Epoch 38/100\n",
            "1/1 [==============================] - 0s 61ms/step - loss: 0.6327 - tp: 664.0000 - fp: 419.0000 - tn: 639.0000 - fn: 326.0000 - accuracy: 0.6362 - precision: 0.6131 - recall: 0.6707 - auc: 0.6919 - val_loss: 0.6849 - val_tp: 1.0000 - val_fp: 31.0000 - val_tn: 51.0000 - val_fn: 2.0000 - val_accuracy: 0.6118 - val_precision: 0.0312 - val_recall: 0.3333 - val_auc: 0.4411\n",
            "Epoch 39/100\n",
            "1/1 [==============================] - 0s 73ms/step - loss: 0.6406 - tp: 677.0000 - fp: 423.0000 - tn: 598.0000 - fn: 350.0000 - accuracy: 0.6226 - precision: 0.6155 - recall: 0.6592 - auc: 0.6810 - val_loss: 0.6834 - val_tp: 1.0000 - val_fp: 31.0000 - val_tn: 51.0000 - val_fn: 2.0000 - val_accuracy: 0.6118 - val_precision: 0.0312 - val_recall: 0.3333 - val_auc: 0.4451\n",
            "Epoch 40/100\n",
            "1/1 [==============================] - 0s 62ms/step - loss: 0.6329 - tp: 664.0000 - fp: 422.0000 - tn: 634.0000 - fn: 328.0000 - accuracy: 0.6338 - precision: 0.6114 - recall: 0.6694 - auc: 0.6919 - val_loss: 0.6817 - val_tp: 1.0000 - val_fp: 31.0000 - val_tn: 51.0000 - val_fn: 2.0000 - val_accuracy: 0.6118 - val_precision: 0.0312 - val_recall: 0.3333 - val_auc: 0.4472\n",
            "Epoch 41/100\n",
            "1/1 [==============================] - 0s 65ms/step - loss: 0.6216 - tp: 682.0000 - fp: 387.0000 - tn: 639.0000 - fn: 340.0000 - accuracy: 0.6450 - precision: 0.6380 - recall: 0.6673 - auc: 0.7058 - val_loss: 0.6800 - val_tp: 0.0000e+00 - val_fp: 31.0000 - val_tn: 51.0000 - val_fn: 3.0000 - val_accuracy: 0.6000 - val_precision: 0.0000e+00 - val_recall: 0.0000e+00 - val_auc: 0.4472\n",
            "Epoch 42/100\n",
            "1/1 [==============================] - 0s 64ms/step - loss: 0.6286 - tp: 718.0000 - fp: 397.0000 - tn: 598.0000 - fn: 335.0000 - accuracy: 0.6426 - precision: 0.6439 - recall: 0.6819 - auc: 0.6948 - val_loss: 0.6785 - val_tp: 0.0000e+00 - val_fp: 31.0000 - val_tn: 51.0000 - val_fn: 3.0000 - val_accuracy: 0.6000 - val_precision: 0.0000e+00 - val_recall: 0.0000e+00 - val_auc: 0.4472\n",
            "Epoch 43/100\n",
            "1/1 [==============================] - 0s 59ms/step - loss: 0.6314 - tp: 656.0000 - fp: 414.0000 - tn: 641.0000 - fn: 337.0000 - accuracy: 0.6333 - precision: 0.6131 - recall: 0.6606 - auc: 0.6952 - val_loss: 0.6768 - val_tp: 0.0000e+00 - val_fp: 31.0000 - val_tn: 51.0000 - val_fn: 3.0000 - val_accuracy: 0.6000 - val_precision: 0.0000e+00 - val_recall: 0.0000e+00 - val_auc: 0.4512\n",
            "Epoch 44/100\n",
            "1/1 [==============================] - 0s 59ms/step - loss: 0.6289 - tp: 662.0000 - fp: 413.0000 - tn: 632.0000 - fn: 341.0000 - accuracy: 0.6318 - precision: 0.6158 - recall: 0.6600 - auc: 0.6940 - val_loss: 0.6752 - val_tp: 0.0000e+00 - val_fp: 31.0000 - val_tn: 51.0000 - val_fn: 3.0000 - val_accuracy: 0.6000 - val_precision: 0.0000e+00 - val_recall: 0.0000e+00 - val_auc: 0.4512\n",
            "Epoch 45/100\n",
            "1/1 [==============================] - 0s 74ms/step - loss: 0.6305 - tp: 671.0000 - fp: 397.0000 - tn: 615.0000 - fn: 365.0000 - accuracy: 0.6279 - precision: 0.6283 - recall: 0.6477 - auc: 0.6939 - val_loss: 0.6737 - val_tp: 0.0000e+00 - val_fp: 31.0000 - val_tn: 51.0000 - val_fn: 3.0000 - val_accuracy: 0.6000 - val_precision: 0.0000e+00 - val_recall: 0.0000e+00 - val_auc: 0.4512\n",
            "Epoch 46/100\n",
            "1/1 [==============================] - 0s 64ms/step - loss: 0.6145 - tp: 675.0000 - fp: 398.0000 - tn: 669.0000 - fn: 306.0000 - accuracy: 0.6562 - precision: 0.6291 - recall: 0.6881 - auc: 0.7156 - val_loss: 0.6721 - val_tp: 0.0000e+00 - val_fp: 31.0000 - val_tn: 51.0000 - val_fn: 3.0000 - val_accuracy: 0.6000 - val_precision: 0.0000e+00 - val_recall: 0.0000e+00 - val_auc: 0.4512\n",
            "Epoch 47/100\n",
            "1/1 [==============================] - 0s 60ms/step - loss: 0.6142 - tp: 674.0000 - fp: 394.0000 - tn: 667.0000 - fn: 313.0000 - accuracy: 0.6548 - precision: 0.6311 - recall: 0.6829 - auc: 0.7154 - val_loss: 0.6705 - val_tp: 0.0000e+00 - val_fp: 30.0000 - val_tn: 52.0000 - val_fn: 3.0000 - val_accuracy: 0.6118 - val_precision: 0.0000e+00 - val_recall: 0.0000e+00 - val_auc: 0.4512\n",
            "Epoch 48/100\n",
            "1/1 [==============================] - 0s 63ms/step - loss: 0.6065 - tp: 722.0000 - fp: 356.0000 - tn: 638.0000 - fn: 332.0000 - accuracy: 0.6641 - precision: 0.6698 - recall: 0.6850 - auc: 0.7238 - val_loss: 0.6692 - val_tp: 0.0000e+00 - val_fp: 30.0000 - val_tn: 52.0000 - val_fn: 3.0000 - val_accuracy: 0.6118 - val_precision: 0.0000e+00 - val_recall: 0.0000e+00 - val_auc: 0.4533\n",
            "Epoch 49/100\n",
            "1/1 [==============================] - 0s 62ms/step - loss: 0.6280 - tp: 672.0000 - fp: 395.0000 - tn: 631.0000 - fn: 350.0000 - accuracy: 0.6362 - precision: 0.6298 - recall: 0.6575 - auc: 0.6944 - val_loss: 0.6679 - val_tp: 0.0000e+00 - val_fp: 30.0000 - val_tn: 52.0000 - val_fn: 3.0000 - val_accuracy: 0.6118 - val_precision: 0.0000e+00 - val_recall: 0.0000e+00 - val_auc: 0.4533\n",
            "Epoch 50/100\n",
            "1/1 [==============================] - 0s 58ms/step - loss: 0.6195 - tp: 667.0000 - fp: 367.0000 - tn: 647.0000 - fn: 367.0000 - accuracy: 0.6416 - precision: 0.6451 - recall: 0.6451 - auc: 0.7079 - val_loss: 0.6667 - val_tp: 0.0000e+00 - val_fp: 30.0000 - val_tn: 52.0000 - val_fn: 3.0000 - val_accuracy: 0.6118 - val_precision: 0.0000e+00 - val_recall: 0.0000e+00 - val_auc: 0.4553\n",
            "Epoch 51/100\n",
            "1/1 [==============================] - 0s 66ms/step - loss: 0.6245 - tp: 683.0000 - fp: 403.0000 - tn: 635.0000 - fn: 327.0000 - accuracy: 0.6436 - precision: 0.6289 - recall: 0.6762 - auc: 0.7039 - val_loss: 0.6654 - val_tp: 1.0000 - val_fp: 30.0000 - val_tn: 52.0000 - val_fn: 2.0000 - val_accuracy: 0.6235 - val_precision: 0.0323 - val_recall: 0.3333 - val_auc: 0.4553\n",
            "Epoch 52/100\n",
            "1/1 [==============================] - 0s 67ms/step - loss: 0.6169 - tp: 703.0000 - fp: 402.0000 - tn: 617.0000 - fn: 326.0000 - accuracy: 0.6445 - precision: 0.6362 - recall: 0.6832 - auc: 0.7121 - val_loss: 0.6641 - val_tp: 1.0000 - val_fp: 30.0000 - val_tn: 52.0000 - val_fn: 2.0000 - val_accuracy: 0.6235 - val_precision: 0.0323 - val_recall: 0.3333 - val_auc: 0.4553\n",
            "Epoch 53/100\n",
            "1/1 [==============================] - 0s 61ms/step - loss: 0.6032 - tp: 755.0000 - fp: 363.0000 - tn: 611.0000 - fn: 319.0000 - accuracy: 0.6670 - precision: 0.6753 - recall: 0.7030 - auc: 0.7244 - val_loss: 0.6632 - val_tp: 1.0000 - val_fp: 30.0000 - val_tn: 52.0000 - val_fn: 2.0000 - val_accuracy: 0.6235 - val_precision: 0.0323 - val_recall: 0.3333 - val_auc: 0.4553\n",
            "Epoch 54/100\n",
            "1/1 [==============================] - 0s 58ms/step - loss: 0.6000 - tp: 712.0000 - fp: 370.0000 - tn: 651.0000 - fn: 315.0000 - accuracy: 0.6655 - precision: 0.6580 - recall: 0.6933 - auc: 0.7325 - val_loss: 0.6622 - val_tp: 1.0000 - val_fp: 30.0000 - val_tn: 52.0000 - val_fn: 2.0000 - val_accuracy: 0.6235 - val_precision: 0.0323 - val_recall: 0.3333 - val_auc: 0.4533\n",
            "Epoch 55/100\n",
            "1/1 [==============================] - 0s 60ms/step - loss: 0.6056 - tp: 699.0000 - fp: 371.0000 - tn: 634.0000 - fn: 344.0000 - accuracy: 0.6509 - precision: 0.6533 - recall: 0.6702 - auc: 0.7215 - val_loss: 0.6614 - val_tp: 1.0000 - val_fp: 30.0000 - val_tn: 52.0000 - val_fn: 2.0000 - val_accuracy: 0.6235 - val_precision: 0.0323 - val_recall: 0.3333 - val_auc: 0.4533\n",
            "Epoch 56/100\n",
            "1/1 [==============================] - 0s 65ms/step - loss: 0.6009 - tp: 679.0000 - fp: 399.0000 - tn: 635.0000 - fn: 335.0000 - accuracy: 0.6416 - precision: 0.6299 - recall: 0.6696 - auc: 0.7270 - val_loss: 0.6606 - val_tp: 1.0000 - val_fp: 29.0000 - val_tn: 53.0000 - val_fn: 2.0000 - val_accuracy: 0.6353 - val_precision: 0.0333 - val_recall: 0.3333 - val_auc: 0.4512\n",
            "Epoch 57/100\n",
            "1/1 [==============================] - 0s 70ms/step - loss: 0.6112 - tp: 694.0000 - fp: 381.0000 - tn: 627.0000 - fn: 346.0000 - accuracy: 0.6450 - precision: 0.6456 - recall: 0.6673 - auc: 0.7159 - val_loss: 0.6598 - val_tp: 1.0000 - val_fp: 29.0000 - val_tn: 53.0000 - val_fn: 2.0000 - val_accuracy: 0.6353 - val_precision: 0.0333 - val_recall: 0.3333 - val_auc: 0.4492\n",
            "Epoch 58/100\n",
            "1/1 [==============================] - 0s 67ms/step - loss: 0.6012 - tp: 719.0000 - fp: 379.0000 - tn: 623.0000 - fn: 327.0000 - accuracy: 0.6553 - precision: 0.6548 - recall: 0.6874 - auc: 0.7265 - val_loss: 0.6591 - val_tp: 1.0000 - val_fp: 29.0000 - val_tn: 53.0000 - val_fn: 2.0000 - val_accuracy: 0.6353 - val_precision: 0.0333 - val_recall: 0.3333 - val_auc: 0.4533\n",
            "Epoch 59/100\n",
            "1/1 [==============================] - 0s 74ms/step - loss: 0.6095 - tp: 680.0000 - fp: 400.0000 - tn: 658.0000 - fn: 310.0000 - accuracy: 0.6533 - precision: 0.6296 - recall: 0.6869 - auc: 0.7166 - val_loss: 0.6582 - val_tp: 1.0000 - val_fp: 29.0000 - val_tn: 53.0000 - val_fn: 2.0000 - val_accuracy: 0.6353 - val_precision: 0.0333 - val_recall: 0.3333 - val_auc: 0.4573\n",
            "Epoch 60/100\n",
            "1/1 [==============================] - 0s 63ms/step - loss: 0.6064 - tp: 722.0000 - fp: 359.0000 - tn: 623.0000 - fn: 344.0000 - accuracy: 0.6567 - precision: 0.6679 - recall: 0.6773 - auc: 0.7208 - val_loss: 0.6574 - val_tp: 1.0000 - val_fp: 29.0000 - val_tn: 53.0000 - val_fn: 2.0000 - val_accuracy: 0.6353 - val_precision: 0.0333 - val_recall: 0.3333 - val_auc: 0.4553\n",
            "Epoch 61/100\n",
            "1/1 [==============================] - 0s 62ms/step - loss: 0.6067 - tp: 715.0000 - fp: 384.0000 - tn: 661.0000 - fn: 288.0000 - accuracy: 0.6719 - precision: 0.6506 - recall: 0.7129 - auc: 0.7305 - val_loss: 0.6565 - val_tp: 1.0000 - val_fp: 29.0000 - val_tn: 53.0000 - val_fn: 2.0000 - val_accuracy: 0.6353 - val_precision: 0.0333 - val_recall: 0.3333 - val_auc: 0.4553\n",
            "Epoch 62/100\n",
            "1/1 [==============================] - 0s 67ms/step - loss: 0.5978 - tp: 664.0000 - fp: 392.0000 - tn: 703.0000 - fn: 289.0000 - accuracy: 0.6675 - precision: 0.6288 - recall: 0.6967 - auc: 0.7361 - val_loss: 0.6554 - val_tp: 1.0000 - val_fp: 29.0000 - val_tn: 53.0000 - val_fn: 2.0000 - val_accuracy: 0.6353 - val_precision: 0.0333 - val_recall: 0.3333 - val_auc: 0.4573\n",
            "Epoch 63/100\n",
            "1/1 [==============================] - 0s 60ms/step - loss: 0.5992 - tp: 700.0000 - fp: 356.0000 - tn: 649.0000 - fn: 343.0000 - accuracy: 0.6587 - precision: 0.6629 - recall: 0.6711 - auc: 0.7308 - val_loss: 0.6543 - val_tp: 1.0000 - val_fp: 29.0000 - val_tn: 53.0000 - val_fn: 2.0000 - val_accuracy: 0.6353 - val_precision: 0.0333 - val_recall: 0.3333 - val_auc: 0.4573\n",
            "Epoch 64/100\n",
            "1/1 [==============================] - 0s 63ms/step - loss: 0.5990 - tp: 739.0000 - fp: 394.0000 - tn: 625.0000 - fn: 290.0000 - accuracy: 0.6660 - precision: 0.6523 - recall: 0.7182 - auc: 0.7343 - val_loss: 0.6533 - val_tp: 1.0000 - val_fp: 28.0000 - val_tn: 54.0000 - val_fn: 2.0000 - val_accuracy: 0.6471 - val_precision: 0.0345 - val_recall: 0.3333 - val_auc: 0.4593\n",
            "Epoch 65/100\n",
            "1/1 [==============================] - 0s 65ms/step - loss: 0.5956 - tp: 714.0000 - fp: 362.0000 - tn: 655.0000 - fn: 317.0000 - accuracy: 0.6685 - precision: 0.6636 - recall: 0.6925 - auc: 0.7350 - val_loss: 0.6523 - val_tp: 1.0000 - val_fp: 28.0000 - val_tn: 54.0000 - val_fn: 2.0000 - val_accuracy: 0.6471 - val_precision: 0.0345 - val_recall: 0.3333 - val_auc: 0.4614\n",
            "Epoch 66/100\n",
            "1/1 [==============================] - 0s 70ms/step - loss: 0.5958 - tp: 707.0000 - fp: 392.0000 - tn: 660.0000 - fn: 289.0000 - accuracy: 0.6675 - precision: 0.6433 - recall: 0.7098 - auc: 0.7380 - val_loss: 0.6511 - val_tp: 1.0000 - val_fp: 27.0000 - val_tn: 55.0000 - val_fn: 2.0000 - val_accuracy: 0.6588 - val_precision: 0.0357 - val_recall: 0.3333 - val_auc: 0.4634\n",
            "Epoch 67/100\n",
            "1/1 [==============================] - 0s 67ms/step - loss: 0.5944 - tp: 697.0000 - fp: 373.0000 - tn: 680.0000 - fn: 298.0000 - accuracy: 0.6724 - precision: 0.6514 - recall: 0.7005 - auc: 0.7402 - val_loss: 0.6499 - val_tp: 1.0000 - val_fp: 28.0000 - val_tn: 54.0000 - val_fn: 2.0000 - val_accuracy: 0.6471 - val_precision: 0.0345 - val_recall: 0.3333 - val_auc: 0.4614\n",
            "Epoch 68/100\n",
            "1/1 [==============================] - 0s 59ms/step - loss: 0.5849 - tp: 724.0000 - fp: 356.0000 - tn: 668.0000 - fn: 300.0000 - accuracy: 0.6797 - precision: 0.6704 - recall: 0.7070 - auc: 0.7495 - val_loss: 0.6488 - val_tp: 1.0000 - val_fp: 28.0000 - val_tn: 54.0000 - val_fn: 2.0000 - val_accuracy: 0.6471 - val_precision: 0.0345 - val_recall: 0.3333 - val_auc: 0.4675\n",
            "Epoch 69/100\n",
            "1/1 [==============================] - 0s 57ms/step - loss: 0.5772 - tp: 696.0000 - fp: 389.0000 - tn: 691.0000 - fn: 272.0000 - accuracy: 0.6772 - precision: 0.6415 - recall: 0.7190 - auc: 0.7623 - val_loss: 0.6474 - val_tp: 1.0000 - val_fp: 28.0000 - val_tn: 54.0000 - val_fn: 2.0000 - val_accuracy: 0.6471 - val_precision: 0.0345 - val_recall: 0.3333 - val_auc: 0.4675\n",
            "Epoch 70/100\n",
            "1/1 [==============================] - 0s 60ms/step - loss: 0.5833 - tp: 696.0000 - fp: 364.0000 - tn: 691.0000 - fn: 297.0000 - accuracy: 0.6772 - precision: 0.6566 - recall: 0.7009 - auc: 0.7529 - val_loss: 0.6460 - val_tp: 1.0000 - val_fp: 28.0000 - val_tn: 54.0000 - val_fn: 2.0000 - val_accuracy: 0.6471 - val_precision: 0.0345 - val_recall: 0.3333 - val_auc: 0.4675\n",
            "Epoch 71/100\n",
            "1/1 [==============================] - 0s 78ms/step - loss: 0.5840 - tp: 757.0000 - fp: 349.0000 - tn: 656.0000 - fn: 286.0000 - accuracy: 0.6899 - precision: 0.6844 - recall: 0.7258 - auc: 0.7473 - val_loss: 0.6447 - val_tp: 1.0000 - val_fp: 28.0000 - val_tn: 54.0000 - val_fn: 2.0000 - val_accuracy: 0.6471 - val_precision: 0.0345 - val_recall: 0.3333 - val_auc: 0.4675\n",
            "Epoch 72/100\n",
            "1/1 [==============================] - 0s 65ms/step - loss: 0.5775 - tp: 761.0000 - fp: 348.0000 - tn: 653.0000 - fn: 286.0000 - accuracy: 0.6904 - precision: 0.6862 - recall: 0.7268 - auc: 0.7588 - val_loss: 0.6435 - val_tp: 1.0000 - val_fp: 28.0000 - val_tn: 54.0000 - val_fn: 2.0000 - val_accuracy: 0.6471 - val_precision: 0.0345 - val_recall: 0.3333 - val_auc: 0.4695\n",
            "Epoch 73/100\n",
            "1/1 [==============================] - 0s 65ms/step - loss: 0.5916 - tp: 709.0000 - fp: 396.0000 - tn: 657.0000 - fn: 286.0000 - accuracy: 0.6670 - precision: 0.6416 - recall: 0.7126 - auc: 0.7406 - val_loss: 0.6422 - val_tp: 1.0000 - val_fp: 28.0000 - val_tn: 54.0000 - val_fn: 2.0000 - val_accuracy: 0.6471 - val_precision: 0.0345 - val_recall: 0.3333 - val_auc: 0.4695\n",
            "Epoch 74/100\n",
            "1/1 [==============================] - 0s 66ms/step - loss: 0.5761 - tp: 756.0000 - fp: 358.0000 - tn: 652.0000 - fn: 282.0000 - accuracy: 0.6875 - precision: 0.6786 - recall: 0.7283 - auc: 0.7620 - val_loss: 0.6411 - val_tp: 1.0000 - val_fp: 28.0000 - val_tn: 54.0000 - val_fn: 2.0000 - val_accuracy: 0.6471 - val_precision: 0.0345 - val_recall: 0.3333 - val_auc: 0.4654\n",
            "Epoch 75/100\n",
            "1/1 [==============================] - 0s 68ms/step - loss: 0.5894 - tp: 736.0000 - fp: 399.0000 - tn: 636.0000 - fn: 277.0000 - accuracy: 0.6699 - precision: 0.6485 - recall: 0.7266 - auc: 0.7424 - val_loss: 0.6400 - val_tp: 1.0000 - val_fp: 28.0000 - val_tn: 54.0000 - val_fn: 2.0000 - val_accuracy: 0.6471 - val_precision: 0.0345 - val_recall: 0.3333 - val_auc: 0.4675\n",
            "Epoch 76/100\n",
            "1/1 [==============================] - 0s 69ms/step - loss: 0.5928 - tp: 747.0000 - fp: 354.0000 - tn: 643.0000 - fn: 304.0000 - accuracy: 0.6787 - precision: 0.6785 - recall: 0.7108 - auc: 0.7408 - val_loss: 0.6390 - val_tp: 1.0000 - val_fp: 28.0000 - val_tn: 54.0000 - val_fn: 2.0000 - val_accuracy: 0.6471 - val_precision: 0.0345 - val_recall: 0.3333 - val_auc: 0.4736\n",
            "Epoch 77/100\n",
            "1/1 [==============================] - 0s 65ms/step - loss: 0.5822 - tp: 766.0000 - fp: 359.0000 - tn: 654.0000 - fn: 269.0000 - accuracy: 0.6934 - precision: 0.6809 - recall: 0.7401 - auc: 0.7531 - val_loss: 0.6381 - val_tp: 1.0000 - val_fp: 28.0000 - val_tn: 54.0000 - val_fn: 2.0000 - val_accuracy: 0.6471 - val_precision: 0.0345 - val_recall: 0.3333 - val_auc: 0.4736\n",
            "Epoch 78/100\n",
            "1/1 [==============================] - 0s 65ms/step - loss: 0.5758 - tp: 723.0000 - fp: 372.0000 - tn: 657.0000 - fn: 296.0000 - accuracy: 0.6738 - precision: 0.6603 - recall: 0.7095 - auc: 0.7554 - val_loss: 0.6372 - val_tp: 1.0000 - val_fp: 28.0000 - val_tn: 54.0000 - val_fn: 2.0000 - val_accuracy: 0.6471 - val_precision: 0.0345 - val_recall: 0.3333 - val_auc: 0.4756\n",
            "Epoch 79/100\n",
            "1/1 [==============================] - 0s 357ms/step - loss: 0.5862 - tp: 731.0000 - fp: 385.0000 - tn: 648.0000 - fn: 284.0000 - accuracy: 0.6733 - precision: 0.6550 - recall: 0.7202 - auc: 0.7469 - val_loss: 0.6363 - val_tp: 1.0000 - val_fp: 28.0000 - val_tn: 54.0000 - val_fn: 2.0000 - val_accuracy: 0.6471 - val_precision: 0.0345 - val_recall: 0.3333 - val_auc: 0.4756\n",
            "Epoch 80/100\n",
            "1/1 [==============================] - 0s 64ms/step - loss: 0.5774 - tp: 751.0000 - fp: 346.0000 - tn: 662.0000 - fn: 289.0000 - accuracy: 0.6899 - precision: 0.6846 - recall: 0.7221 - auc: 0.7586 - val_loss: 0.6354 - val_tp: 1.0000 - val_fp: 28.0000 - val_tn: 54.0000 - val_fn: 2.0000 - val_accuracy: 0.6471 - val_precision: 0.0345 - val_recall: 0.3333 - val_auc: 0.4797\n",
            "Epoch 81/100\n",
            "1/1 [==============================] - 0s 73ms/step - loss: 0.5710 - tp: 792.0000 - fp: 337.0000 - tn: 646.0000 - fn: 273.0000 - accuracy: 0.7021 - precision: 0.7015 - recall: 0.7437 - auc: 0.7672 - val_loss: 0.6347 - val_tp: 1.0000 - val_fp: 28.0000 - val_tn: 54.0000 - val_fn: 2.0000 - val_accuracy: 0.6471 - val_precision: 0.0345 - val_recall: 0.3333 - val_auc: 0.4817\n",
            "Epoch 82/100\n",
            "1/1 [==============================] - 0s 74ms/step - loss: 0.5754 - tp: 747.0000 - fp: 370.0000 - tn: 666.0000 - fn: 265.0000 - accuracy: 0.6899 - precision: 0.6688 - recall: 0.7381 - auc: 0.7619 - val_loss: 0.6338 - val_tp: 1.0000 - val_fp: 28.0000 - val_tn: 54.0000 - val_fn: 2.0000 - val_accuracy: 0.6471 - val_precision: 0.0345 - val_recall: 0.3333 - val_auc: 0.4858\n",
            "Epoch 83/100\n",
            "1/1 [==============================] - 0s 74ms/step - loss: 0.5737 - tp: 743.0000 - fp: 347.0000 - tn: 663.0000 - fn: 295.0000 - accuracy: 0.6865 - precision: 0.6817 - recall: 0.7158 - auc: 0.7606 - val_loss: 0.6332 - val_tp: 1.0000 - val_fp: 28.0000 - val_tn: 54.0000 - val_fn: 2.0000 - val_accuracy: 0.6471 - val_precision: 0.0345 - val_recall: 0.3333 - val_auc: 0.4858\n",
            "Epoch 84/100\n",
            "1/1 [==============================] - 0s 62ms/step - loss: 0.5729 - tp: 732.0000 - fp: 344.0000 - tn: 688.0000 - fn: 284.0000 - accuracy: 0.6934 - precision: 0.6803 - recall: 0.7205 - auc: 0.7657 - val_loss: 0.6325 - val_tp: 1.0000 - val_fp: 28.0000 - val_tn: 54.0000 - val_fn: 2.0000 - val_accuracy: 0.6471 - val_precision: 0.0345 - val_recall: 0.3333 - val_auc: 0.4837\n",
            "Epoch 85/100\n",
            "1/1 [==============================] - 0s 64ms/step - loss: 0.5642 - tp: 780.0000 - fp: 343.0000 - tn: 661.0000 - fn: 264.0000 - accuracy: 0.7036 - precision: 0.6946 - recall: 0.7471 - auc: 0.7716 - val_loss: 0.6319 - val_tp: 1.0000 - val_fp: 28.0000 - val_tn: 54.0000 - val_fn: 2.0000 - val_accuracy: 0.6471 - val_precision: 0.0345 - val_recall: 0.3333 - val_auc: 0.4817\n",
            "Epoch 86/100\n",
            "1/1 [==============================] - 0s 69ms/step - loss: 0.5733 - tp: 704.0000 - fp: 361.0000 - tn: 696.0000 - fn: 287.0000 - accuracy: 0.6836 - precision: 0.6610 - recall: 0.7104 - auc: 0.7667 - val_loss: 0.6312 - val_tp: 1.0000 - val_fp: 28.0000 - val_tn: 54.0000 - val_fn: 2.0000 - val_accuracy: 0.6471 - val_precision: 0.0345 - val_recall: 0.3333 - val_auc: 0.4817\n",
            "Epoch 87/100\n",
            "1/1 [==============================] - 0s 67ms/step - loss: 0.5663 - tp: 765.0000 - fp: 358.0000 - tn: 660.0000 - fn: 265.0000 - accuracy: 0.6958 - precision: 0.6812 - recall: 0.7427 - auc: 0.7704 - val_loss: 0.6305 - val_tp: 1.0000 - val_fp: 28.0000 - val_tn: 54.0000 - val_fn: 2.0000 - val_accuracy: 0.6471 - val_precision: 0.0345 - val_recall: 0.3333 - val_auc: 0.4858\n",
            "Epoch 88/100\n",
            "1/1 [==============================] - 0s 65ms/step - loss: 0.5631 - tp: 743.0000 - fp: 363.0000 - tn: 670.0000 - fn: 272.0000 - accuracy: 0.6899 - precision: 0.6718 - recall: 0.7320 - auc: 0.7738 - val_loss: 0.6297 - val_tp: 1.0000 - val_fp: 28.0000 - val_tn: 54.0000 - val_fn: 2.0000 - val_accuracy: 0.6471 - val_precision: 0.0345 - val_recall: 0.3333 - val_auc: 0.4898\n",
            "Epoch 89/100\n",
            "1/1 [==============================] - 0s 65ms/step - loss: 0.5633 - tp: 773.0000 - fp: 351.0000 - tn: 654.0000 - fn: 270.0000 - accuracy: 0.6968 - precision: 0.6877 - recall: 0.7411 - auc: 0.7743 - val_loss: 0.6290 - val_tp: 1.0000 - val_fp: 28.0000 - val_tn: 54.0000 - val_fn: 2.0000 - val_accuracy: 0.6471 - val_precision: 0.0345 - val_recall: 0.3333 - val_auc: 0.4858\n",
            "Epoch 90/100\n",
            "1/1 [==============================] - 0s 65ms/step - loss: 0.5739 - tp: 756.0000 - fp: 346.0000 - tn: 664.0000 - fn: 282.0000 - accuracy: 0.6934 - precision: 0.6860 - recall: 0.7283 - auc: 0.7649 - val_loss: 0.6283 - val_tp: 1.0000 - val_fp: 28.0000 - val_tn: 54.0000 - val_fn: 2.0000 - val_accuracy: 0.6471 - val_precision: 0.0345 - val_recall: 0.3333 - val_auc: 0.4898\n",
            "Epoch 91/100\n",
            "1/1 [==============================] - 0s 67ms/step - loss: 0.5644 - tp: 736.0000 - fp: 367.0000 - tn: 688.0000 - fn: 257.0000 - accuracy: 0.6953 - precision: 0.6673 - recall: 0.7412 - auc: 0.7745 - val_loss: 0.6275 - val_tp: 1.0000 - val_fp: 28.0000 - val_tn: 54.0000 - val_fn: 2.0000 - val_accuracy: 0.6471 - val_precision: 0.0345 - val_recall: 0.3333 - val_auc: 0.4898\n",
            "Epoch 92/100\n",
            "1/1 [==============================] - 0s 65ms/step - loss: 0.5612 - tp: 772.0000 - fp: 359.0000 - tn: 670.0000 - fn: 247.0000 - accuracy: 0.7041 - precision: 0.6826 - recall: 0.7576 - auc: 0.7754 - val_loss: 0.6267 - val_tp: 1.0000 - val_fp: 28.0000 - val_tn: 54.0000 - val_fn: 2.0000 - val_accuracy: 0.6471 - val_precision: 0.0345 - val_recall: 0.3333 - val_auc: 0.4939\n",
            "Epoch 93/100\n",
            "1/1 [==============================] - 0s 62ms/step - loss: 0.5621 - tp: 736.0000 - fp: 332.0000 - tn: 698.0000 - fn: 282.0000 - accuracy: 0.7002 - precision: 0.6891 - recall: 0.7230 - auc: 0.7751 - val_loss: 0.6258 - val_tp: 1.0000 - val_fp: 27.0000 - val_tn: 55.0000 - val_fn: 2.0000 - val_accuracy: 0.6588 - val_precision: 0.0357 - val_recall: 0.3333 - val_auc: 0.4878\n",
            "Epoch 94/100\n",
            "1/1 [==============================] - 0s 66ms/step - loss: 0.5488 - tp: 782.0000 - fp: 333.0000 - tn: 669.0000 - fn: 264.0000 - accuracy: 0.7085 - precision: 0.7013 - recall: 0.7476 - auc: 0.7884 - val_loss: 0.6251 - val_tp: 1.0000 - val_fp: 27.0000 - val_tn: 55.0000 - val_fn: 2.0000 - val_accuracy: 0.6588 - val_precision: 0.0357 - val_recall: 0.3333 - val_auc: 0.4898\n",
            "Epoch 95/100\n",
            "1/1 [==============================] - 0s 70ms/step - loss: 0.5618 - tp: 751.0000 - fp: 359.0000 - tn: 680.0000 - fn: 258.0000 - accuracy: 0.6987 - precision: 0.6766 - recall: 0.7443 - auc: 0.7766 - val_loss: 0.6243 - val_tp: 1.0000 - val_fp: 27.0000 - val_tn: 55.0000 - val_fn: 2.0000 - val_accuracy: 0.6588 - val_precision: 0.0357 - val_recall: 0.3333 - val_auc: 0.4919\n",
            "Epoch 96/100\n",
            "1/1 [==============================] - 0s 60ms/step - loss: 0.5643 - tp: 782.0000 - fp: 343.0000 - tn: 652.0000 - fn: 271.0000 - accuracy: 0.7002 - precision: 0.6951 - recall: 0.7426 - auc: 0.7721 - val_loss: 0.6235 - val_tp: 1.0000 - val_fp: 27.0000 - val_tn: 55.0000 - val_fn: 2.0000 - val_accuracy: 0.6588 - val_precision: 0.0357 - val_recall: 0.3333 - val_auc: 0.4919\n",
            "Epoch 97/100\n",
            "1/1 [==============================] - 0s 69ms/step - loss: 0.5594 - tp: 767.0000 - fp: 362.0000 - tn: 672.0000 - fn: 247.0000 - accuracy: 0.7026 - precision: 0.6794 - recall: 0.7564 - auc: 0.7762 - val_loss: 0.6227 - val_tp: 1.0000 - val_fp: 27.0000 - val_tn: 55.0000 - val_fn: 2.0000 - val_accuracy: 0.6588 - val_precision: 0.0357 - val_recall: 0.3333 - val_auc: 0.4939\n",
            "Epoch 98/100\n",
            "1/1 [==============================] - 0s 67ms/step - loss: 0.5623 - tp: 753.0000 - fp: 338.0000 - tn: 699.0000 - fn: 258.0000 - accuracy: 0.7090 - precision: 0.6902 - recall: 0.7448 - auc: 0.7768 - val_loss: 0.6218 - val_tp: 1.0000 - val_fp: 27.0000 - val_tn: 55.0000 - val_fn: 2.0000 - val_accuracy: 0.6588 - val_precision: 0.0357 - val_recall: 0.3333 - val_auc: 0.4939\n",
            "Epoch 99/100\n",
            "1/1 [==============================] - 0s 69ms/step - loss: 0.5505 - tp: 779.0000 - fp: 341.0000 - tn: 668.0000 - fn: 260.0000 - accuracy: 0.7065 - precision: 0.6955 - recall: 0.7498 - auc: 0.7878 - val_loss: 0.6210 - val_tp: 1.0000 - val_fp: 26.0000 - val_tn: 56.0000 - val_fn: 2.0000 - val_accuracy: 0.6706 - val_precision: 0.0370 - val_recall: 0.3333 - val_auc: 0.4959\n",
            "Epoch 100/100\n",
            "1/1 [==============================] - 0s 66ms/step - loss: 0.5571 - tp: 775.0000 - fp: 323.0000 - tn: 687.0000 - fn: 263.0000 - accuracy: 0.7139 - precision: 0.7058 - recall: 0.7466 - auc: 0.7824 - val_loss: 0.6203 - val_tp: 1.0000 - val_fp: 26.0000 - val_tn: 56.0000 - val_fn: 2.0000 - val_accuracy: 0.6706 - val_precision: 0.0370 - val_recall: 0.3333 - val_auc: 0.4898\n"
          ],
          "name": "stdout"
        }
      ]
    },
    {
      "cell_type": "code",
      "metadata": {
        "colab": {
          "base_uri": "https://localhost:8080/",
          "height": 609
        },
        "id": "pftUeXtEqWEx",
        "outputId": "ebb47755-2467-46ad-a3aa-b49815292c4a"
      },
      "source": [
        "plot_metrics(resampled_history)"
      ],
      "execution_count": 617,
      "outputs": [
        {
          "output_type": "display_data",
          "data": {
            "image/png": "[encoded data removed]",
            "text/plain": [
              "<Figure size 864x720 with 4 Axes>"
            ]
          },
          "metadata": {
            "tags": [],
            "needs_background": "light"
          }
        }
      ]
    },
    {
      "cell_type": "code",
      "metadata": {
        "colab": {
          "base_uri": "https://localhost:8080/"
        },
        "id": "QaVRPiJ2qdee",
        "outputId": "9e172a58-b673-4e23-c19a-ae82623ff05e"
      },
      "source": [
        "resampled_model = make_model()\r\n",
        "resampled_model.load_weights(initial_weights)\r\n",
        "\r\n",
        "# Reset the bias to zero, since this dataset is balanced.\r\n",
        "output_layer = resampled_model.layers[-1] \r\n",
        "output_layer.bias.assign([0])\r\n",
        "\r\n",
        "resampled_history = resampled_model.fit(\r\n",
        "    resampled_ds,\r\n",
        "    # These are not real epochs\r\n",
        "    steps_per_epoch=20,\r\n",
        "    epochs=10*EPOCHS,\r\n",
        "    callbacks=[early_stopping],\r\n",
        "    validation_data=(val_ds))"
      ],
      "execution_count": 618,
      "outputs": [
        {
          "output_type": "stream",
          "text": [
            "Epoch 1/1000\n",
            "20/20 [==============================] - 3s 71ms/step - loss: 0.7203 - tp: 6342.7143 - fp: 4976.5238 - tn: 6338.4762 - fn: 4857.7619 - accuracy: 0.5584 - precision: 0.5525 - recall: 0.5595 - auc: 0.5903 - val_loss: 0.7097 - val_tp: 1.0000 - val_fp: 35.0000 - val_tn: 47.0000 - val_fn: 2.0000 - val_accuracy: 0.5647 - val_precision: 0.0278 - val_recall: 0.3333 - val_auc: 0.3902\n",
            "Epoch 2/1000\n",
            "20/20 [==============================] - 0s 23ms/step - loss: 0.6593 - tp: 7197.3333 - fp: 4537.5714 - tn: 6544.9524 - fn: 4150.6190 - accuracy: 0.6098 - precision: 0.6110 - recall: 0.6304 - auc: 0.6597 - val_loss: 0.6853 - val_tp: 0.0000e+00 - val_fp: 31.0000 - val_tn: 51.0000 - val_fn: 3.0000 - val_accuracy: 0.6000 - val_precision: 0.0000e+00 - val_recall: 0.0000e+00 - val_auc: 0.4411\n",
            "Epoch 3/1000\n",
            "20/20 [==============================] - 0s 23ms/step - loss: 0.6231 - tp: 7489.2857 - fp: 4377.0476 - tn: 6967.6190 - fn: 3596.5238 - accuracy: 0.6420 - precision: 0.6293 - recall: 0.6725 - auc: 0.7036 - val_loss: 0.6551 - val_tp: 1.0000 - val_fp: 29.0000 - val_tn: 53.0000 - val_fn: 2.0000 - val_accuracy: 0.6353 - val_precision: 0.0333 - val_recall: 0.3333 - val_auc: 0.4573\n",
            "Epoch 4/1000\n",
            "20/20 [==============================] - 1s 26ms/step - loss: 0.5915 - tp: 7916.3810 - fp: 3959.3810 - tn: 7267.0476 - fn: 3287.6667 - accuracy: 0.6750 - precision: 0.6650 - recall: 0.7048 - auc: 0.7439 - val_loss: 0.6372 - val_tp: 1.0000 - val_fp: 28.0000 - val_tn: 54.0000 - val_fn: 2.0000 - val_accuracy: 0.6471 - val_precision: 0.0345 - val_recall: 0.3333 - val_auc: 0.4736\n",
            "Epoch 5/1000\n",
            "20/20 [==============================] - 0s 23ms/step - loss: 0.5714 - tp: 8273.6190 - fp: 3883.4762 - tn: 7302.4286 - fn: 2970.9524 - accuracy: 0.6941 - precision: 0.6801 - recall: 0.7339 - auc: 0.7657 - val_loss: 0.6262 - val_tp: 1.0000 - val_fp: 28.0000 - val_tn: 54.0000 - val_fn: 2.0000 - val_accuracy: 0.6471 - val_precision: 0.0345 - val_recall: 0.3333 - val_auc: 0.4919\n",
            "Epoch 6/1000\n",
            "20/20 [==============================] - 0s 22ms/step - loss: 0.5543 - tp: 8440.2857 - fp: 3836.5714 - tn: 7395.7619 - fn: 2757.8571 - accuracy: 0.7050 - precision: 0.6863 - recall: 0.7533 - auc: 0.7821 - val_loss: 0.6071 - val_tp: 1.0000 - val_fp: 27.0000 - val_tn: 55.0000 - val_fn: 2.0000 - val_accuracy: 0.6588 - val_precision: 0.0357 - val_recall: 0.3333 - val_auc: 0.5142\n",
            "Epoch 7/1000\n",
            "20/20 [==============================] - 0s 23ms/step - loss: 0.5396 - tp: 8506.5238 - fp: 3654.1429 - tn: 7611.8095 - fn: 2658.0000 - accuracy: 0.7172 - precision: 0.6979 - recall: 0.7609 - auc: 0.7972 - val_loss: 0.5899 - val_tp: 1.0000 - val_fp: 25.0000 - val_tn: 57.0000 - val_fn: 2.0000 - val_accuracy: 0.6824 - val_precision: 0.0385 - val_recall: 0.3333 - val_auc: 0.5325\n",
            "Epoch 8/1000\n",
            "20/20 [==============================] - 0s 24ms/step - loss: 0.5218 - tp: 8705.9048 - fp: 3468.4762 - tn: 7740.9524 - fn: 2515.1429 - accuracy: 0.7330 - precision: 0.7143 - recall: 0.7762 - auc: 0.8139 - val_loss: 0.5822 - val_tp: 1.0000 - val_fp: 25.0000 - val_tn: 57.0000 - val_fn: 2.0000 - val_accuracy: 0.6824 - val_precision: 0.0385 - val_recall: 0.3333 - val_auc: 0.5386\n",
            "Epoch 9/1000\n",
            "20/20 [==============================] - 0s 23ms/step - loss: 0.5075 - tp: 8790.9524 - fp: 3415.3810 - tn: 7868.3810 - fn: 2355.7619 - accuracy: 0.7418 - precision: 0.7191 - recall: 0.7861 - auc: 0.8269 - val_loss: 0.5768 - val_tp: 1.0000 - val_fp: 25.0000 - val_tn: 57.0000 - val_fn: 2.0000 - val_accuracy: 0.6824 - val_precision: 0.0385 - val_recall: 0.3333 - val_auc: 0.5366\n",
            "Epoch 10/1000\n",
            "20/20 [==============================] - 0s 23ms/step - loss: 0.4953 - tp: 8928.2857 - fp: 3305.0000 - tn: 7933.1429 - fn: 2264.0476 - accuracy: 0.7519 - precision: 0.7300 - recall: 0.7988 - auc: 0.8361 - val_loss: 0.5656 - val_tp: 1.0000 - val_fp: 24.0000 - val_tn: 58.0000 - val_fn: 2.0000 - val_accuracy: 0.6941 - val_precision: 0.0400 - val_recall: 0.3333 - val_auc: 0.5447\n",
            "Epoch 11/1000\n",
            "20/20 [==============================] - 0s 22ms/step - loss: 0.4838 - tp: 9131.2381 - fp: 3146.9524 - tn: 8049.1429 - fn: 2103.1429 - accuracy: 0.7641 - precision: 0.7430 - recall: 0.8106 - auc: 0.8457 - val_loss: 0.5573 - val_tp: 1.0000 - val_fp: 22.0000 - val_tn: 60.0000 - val_fn: 2.0000 - val_accuracy: 0.7176 - val_precision: 0.0435 - val_recall: 0.3333 - val_auc: 0.5407\n",
            "Epoch 12/1000\n",
            "20/20 [==============================] - 1s 50ms/step - loss: 0.4716 - tp: 9308.1905 - fp: 3087.3333 - tn: 8145.5238 - fn: 1889.4286 - accuracy: 0.7765 - precision: 0.7503 - recall: 0.8286 - auc: 0.8558 - val_loss: 0.5509 - val_tp: 1.0000 - val_fp: 21.0000 - val_tn: 61.0000 - val_fn: 2.0000 - val_accuracy: 0.7294 - val_precision: 0.0455 - val_recall: 0.3333 - val_auc: 0.5488\n",
            "Epoch 13/1000\n",
            "20/20 [==============================] - 0s 23ms/step - loss: 0.4603 - tp: 9475.0000 - fp: 2964.4286 - tn: 8208.3810 - fn: 1782.6667 - accuracy: 0.7861 - precision: 0.7591 - recall: 0.8397 - auc: 0.8649 - val_loss: 0.5447 - val_tp: 1.0000 - val_fp: 21.0000 - val_tn: 61.0000 - val_fn: 2.0000 - val_accuracy: 0.7294 - val_precision: 0.0455 - val_recall: 0.3333 - val_auc: 0.5447\n",
            "Epoch 14/1000\n",
            "20/20 [==============================] - 0s 22ms/step - loss: 0.4460 - tp: 9441.8571 - fp: 2871.8095 - tn: 8447.3810 - fn: 1669.4286 - accuracy: 0.7991 - precision: 0.7683 - recall: 0.8509 - auc: 0.8772 - val_loss: 0.5339 - val_tp: 1.0000 - val_fp: 21.0000 - val_tn: 61.0000 - val_fn: 2.0000 - val_accuracy: 0.7294 - val_precision: 0.0455 - val_recall: 0.3333 - val_auc: 0.5467\n",
            "Epoch 15/1000\n",
            "20/20 [==============================] - 0s 23ms/step - loss: 0.4364 - tp: 9562.4286 - fp: 2794.9524 - tn: 8454.4762 - fn: 1618.6190 - accuracy: 0.8028 - precision: 0.7752 - recall: 0.8534 - auc: 0.8832 - val_loss: 0.5282 - val_tp: 1.0000 - val_fp: 21.0000 - val_tn: 61.0000 - val_fn: 2.0000 - val_accuracy: 0.7294 - val_precision: 0.0455 - val_recall: 0.3333 - val_auc: 0.5427\n",
            "Epoch 16/1000\n",
            "20/20 [==============================] - 0s 23ms/step - loss: 0.4247 - tp: 9805.3333 - fp: 2683.7619 - tn: 8479.9048 - fn: 1461.4762 - accuracy: 0.8153 - precision: 0.7853 - recall: 0.8703 - auc: 0.8904 - val_loss: 0.5303 - val_tp: 1.0000 - val_fp: 22.0000 - val_tn: 60.0000 - val_fn: 2.0000 - val_accuracy: 0.7176 - val_precision: 0.0435 - val_recall: 0.3333 - val_auc: 0.5407\n",
            "Epoch 17/1000\n",
            "20/20 [==============================] - 0s 24ms/step - loss: 0.4186 - tp: 9962.6190 - fp: 2704.0000 - tn: 8422.9524 - fn: 1340.9048 - accuracy: 0.8181 - precision: 0.7840 - recall: 0.8803 - auc: 0.8936 - val_loss: 0.5279 - val_tp: 1.0000 - val_fp: 22.0000 - val_tn: 60.0000 - val_fn: 2.0000 - val_accuracy: 0.7176 - val_precision: 0.0435 - val_recall: 0.3333 - val_auc: 0.5386\n",
            "Epoch 18/1000\n",
            "20/20 [==============================] - 0s 25ms/step - loss: 0.4070 - tp: 9892.8571 - fp: 2548.6667 - tn: 8708.6190 - fn: 1280.3333 - accuracy: 0.8286 - precision: 0.7946 - recall: 0.8839 - auc: 0.9008 - val_loss: 0.5241 - val_tp: 1.0000 - val_fp: 22.0000 - val_tn: 60.0000 - val_fn: 2.0000 - val_accuracy: 0.7176 - val_precision: 0.0435 - val_recall: 0.3333 - val_auc: 0.5346\n",
            "Epoch 19/1000\n",
            "20/20 [==============================] - 0s 23ms/step - loss: 0.3989 - tp: 10152.2381 - fp: 2522.4286 - tn: 8557.0000 - fn: 1198.8095 - accuracy: 0.8339 - precision: 0.7997 - recall: 0.8957 - auc: 0.9048 - val_loss: 0.5303 - val_tp: 1.0000 - val_fp: 22.0000 - val_tn: 60.0000 - val_fn: 2.0000 - val_accuracy: 0.7176 - val_precision: 0.0435 - val_recall: 0.3333 - val_auc: 0.5264\n",
            "Epoch 20/1000\n",
            "20/20 [==============================] - 0s 24ms/step - loss: 0.3935 - tp: 10026.9524 - fp: 2498.5238 - tn: 8731.8571 - fn: 1173.1429 - accuracy: 0.8370 - precision: 0.7997 - recall: 0.8978 - auc: 0.9076 - val_loss: 0.5256 - val_tp: 1.0000 - val_fp: 22.0000 - val_tn: 60.0000 - val_fn: 2.0000 - val_accuracy: 0.7176 - val_precision: 0.0435 - val_recall: 0.3333 - val_auc: 0.5203\n",
            "Epoch 21/1000\n",
            "20/20 [==============================] - 0s 24ms/step - loss: 0.3864 - tp: 10018.4762 - fp: 2430.7619 - tn: 8780.6667 - fn: 1200.5714 - accuracy: 0.8378 - precision: 0.8037 - recall: 0.8933 - auc: 0.9119 - val_loss: 0.5209 - val_tp: 1.0000 - val_fp: 22.0000 - val_tn: 60.0000 - val_fn: 2.0000 - val_accuracy: 0.7176 - val_precision: 0.0435 - val_recall: 0.3333 - val_auc: 0.5264\n",
            "Epoch 22/1000\n",
            "20/20 [==============================] - 0s 25ms/step - loss: 0.3820 - tp: 10108.5714 - fp: 2362.7619 - tn: 8842.0952 - fn: 1117.0476 - accuracy: 0.8443 - precision: 0.8104 - recall: 0.9002 - auc: 0.9141 - val_loss: 0.5207 - val_tp: 1.0000 - val_fp: 21.0000 - val_tn: 61.0000 - val_fn: 2.0000 - val_accuracy: 0.7294 - val_precision: 0.0455 - val_recall: 0.3333 - val_auc: 0.5163\n",
            "Restoring model weights from the end of the best epoch.\n",
            "Epoch 00022: early stopping\n"
          ],
          "name": "stdout"
        }
      ]
    },
    {
      "cell_type": "code",
      "metadata": {
        "colab": {
          "base_uri": "https://localhost:8080/",
          "height": 609
        },
        "id": "RqpDTJZwqixa",
        "outputId": "84a2ab5a-2d59-4297-9582-a11ea95f739b"
      },
      "source": [
        "plot_metrics(resampled_history)"
      ],
      "execution_count": 619,
      "outputs": [
        {
          "output_type": "display_data",
          "data": {
            "image/png": "[encoded data removed]",
            "text/plain": [
              "<Figure size 864x720 with 4 Axes>"
            ]
          },
          "metadata": {
            "tags": [],
            "needs_background": "light"
          }
        }
      ]
    },
    {
      "cell_type": "code",
      "metadata": {
        "colab": {
          "base_uri": "https://localhost:8080/"
        },
        "id": "q7325UUPqqpM",
        "outputId": "a8ca5347-0cde-4697-ef09-f5c7f14f64ed"
      },
      "source": [
        "train_predictions_resampled = resampled_model.predict(train_features, batch_size=BATCH_SIZE)\r\n",
        "test_predictions_resampled = resampled_model.predict(test_features, batch_size=BATCH_SIZE)"
      ],
      "execution_count": 620,
      "outputs": [
        {
          "output_type": "stream",
          "text": [
            "WARNING:tensorflow:7 out of the last 12 calls to <function Model.make_predict_function.<locals>.predict_function at 0x7f8ddd2e5510> triggered tf.function retracing. Tracing is expensive and the excessive number of tracings could be due to (1) creating @tf.function repeatedly in a loop, (2) passing tensors with different shapes, (3) passing Python objects instead of tensors. For (1), please define your @tf.function outside of the loop. For (2), @tf.function has experimental_relax_shapes=True option that relaxes argument shapes that can avoid unnecessary retracing. For (3), please refer to https://www.tensorflow.org/guide/function#controlling_retracing and https://www.tensorflow.org/api_docs/python/tf/function for  more details.\n"
          ],
          "name": "stdout"
        }
      ]
    },
    {
      "cell_type": "code",
      "metadata": {
        "colab": {
          "base_uri": "https://localhost:8080/",
          "height": 602
        },
        "id": "FhrHjr6pqyCR",
        "outputId": "af42904d-db2c-4f65-a44a-dfd1af41af3f"
      },
      "source": [
        "resampled_results = resampled_model.evaluate(test_features, test_labels,\r\n",
        "                                             batch_size=BATCH_SIZE, verbose=0)\r\n",
        "for name, value in zip(resampled_model.metrics_names, resampled_results):\r\n",
        "  print(name, ': ', value)\r\n",
        "print()\r\n",
        "\r\n",
        "plot_cm(test_labels, test_predictions_resampled)"
      ],
      "execution_count": 621,
      "outputs": [
        {
          "output_type": "stream",
          "text": [
            "loss :  0.4979479908943176\n",
            "tp :  8.0\n",
            "fp :  19.0\n",
            "tn :  76.0\n",
            "fn :  4.0\n",
            "accuracy :  0.7850467562675476\n",
            "precision :  0.29629629850387573\n",
            "recall :  0.6666666865348816\n",
            "auc :  0.7241228222846985\n",
            "\n",
            "Legitimate Transactions Detected (True Negatives):  76\n",
            "Legitimate Transactions Incorrectly Detected (False Positives):  19\n",
            "Fraudulent Transactions Missed (False Negatives):  4\n",
            "Fraudulent Transactions Detected (True Positives):  8\n",
            "Total Fraudulent Transactions:  12\n"
          ],
          "name": "stdout"
        },
        {
          "output_type": "display_data",
          "data": {
            "image/png": "[encoded data removed]",
            "text/plain": [
              "<Figure size 360x360 with 2 Axes>"
            ]
          },
          "metadata": {
            "tags": [],
            "needs_background": "light"
          }
        }
      ]
    },
    {
      "cell_type": "code",
      "metadata": {
        "colab": {
          "base_uri": "https://localhost:8080/",
          "height": 623
        },
        "id": "yGl5kPUWqz9m",
        "outputId": "b4bef43c-3e31-4424-bfab-1082528b80c7"
      },
      "source": [
        "plot_roc(\"Train Baseline\", train_labels, train_predictions_baseline, color=colors[0])\r\n",
        "plot_roc(\"Test Baseline\", test_labels, test_predictions_baseline, color=colors[0], linestyle='--')\r\n",
        "\r\n",
        "plot_roc(\"Train Weighted\", train_labels, train_predictions_weighted, color=colors[1])\r\n",
        "plot_roc(\"Test Weighted\", test_labels, test_predictions_weighted, color=colors[1], linestyle='--')\r\n",
        "\r\n",
        "plot_roc(\"Train Resampled\", train_labels, train_predictions_resampled, color=colors[2])\r\n",
        "plot_roc(\"Test Resampled\", test_labels, test_predictions_resampled, color=colors[2], linestyle='--')\r\n",
        "plt.legend(loc='lower right')"
      ],
      "execution_count": 622,
      "outputs": [
        {
          "output_type": "execute_result",
          "data": {
            "text/plain": [
              "<matplotlib.legend.Legend at 0x7f8dee583ef0>"
            ]
          },
          "metadata": {
            "tags": []
          },
          "execution_count": 622
        },
        {
          "output_type": "display_data",
          "data": {
            "image/png": "[encoded data removed]",
            "text/plain": [
              "<Figure size 864x720 with 1 Axes>"
            ]
          },
          "metadata": {
            "tags": [],
            "needs_background": "light"
          }
        }
      ]
    },
    {
      "cell_type": "code",
      "metadata": {
        "id": "Xj7yURLCq5EO"
      },
      "source": [
        ""
      ],
      "execution_count": 154,
      "outputs": []
    }
  ]
}